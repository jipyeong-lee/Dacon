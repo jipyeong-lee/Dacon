{
 "cells": [
  {
   "cell_type": "code",
   "execution_count": 1,
   "metadata": {},
   "outputs": [],
   "source": [
    "%reload_ext autoreload\n",
    "%autoreload 2\n",
    "%matplotlib inline"
   ]
  },
  {
   "cell_type": "code",
   "execution_count": 2,
   "metadata": {},
   "outputs": [],
   "source": [
    "import lightgbm as lgb\n",
    "from matplotlib import pyplot as plt\n",
    "import numpy as np\n",
    "import pandas as pd\n",
    "from pprint import pprint\n",
    "from sklearn.metrics import log_loss\n",
    "from sklearn.model_selection import StratifiedKFold\n",
    "import seaborn as sns\n",
    "from tensorflow import keras\n",
    "import warnings\n",
    "from tqdm import tqdm\n",
    "from kaggler.preprocessing import LabelEncoder\n",
    "from kaggler.model import AutoLGB\n",
    "from sklearn.feature_selection import RFE\n",
    "from sklearn.feature_selection import SelectPercentile"
   ]
  },
  {
   "cell_type": "code",
   "execution_count": 3,
   "metadata": {},
   "outputs": [
    {
     "name": "stdout",
     "output_type": "stream",
     "text": [
      "0.9.3\n"
     ]
    }
   ],
   "source": [
    "import kaggler\n",
    "print(kaggler.__version__)"
   ]
  },
  {
   "cell_type": "code",
   "execution_count": 4,
   "metadata": {},
   "outputs": [],
   "source": [
    "plt.style.use('fivethirtyeight')\n",
    "pd.set_option('max_columns', 100)\n",
    "warnings.simplefilter('ignore')"
   ]
  },
  {
   "cell_type": "markdown",
   "metadata": {},
   "source": [
    "### Load Data"
   ]
  },
  {
   "cell_type": "code",
   "execution_count": 5,
   "metadata": {},
   "outputs": [],
   "source": [
    "feature_name = 'ae'\n",
    "algo_name = 'lgb'\n",
    "model_name = f'{algo_name}_{feature_name}'\n",
    "\n",
    "feature_file = f'{feature_name}.csv'\n",
    "predict_val_file = f'{model_name}.val.txt'\n",
    "predict_tst_file = f'{model_name}.tst.txt'\n",
    "submission_file = f'{model_name}.sub.csv'\n",
    "\n",
    "index_col = 'index'\n",
    "target_col = 'credit'"
   ]
  },
  {
   "cell_type": "code",
   "execution_count": 6,
   "metadata": {},
   "outputs": [
    {
     "name": "stdout",
     "output_type": "stream",
     "text": [
      "(26457, 19)\n"
     ]
    },
    {
     "data": {
      "text/html": [
       "<div>\n",
       "<style scoped>\n",
       "    .dataframe tbody tr th:only-of-type {\n",
       "        vertical-align: middle;\n",
       "    }\n",
       "\n",
       "    .dataframe tbody tr th {\n",
       "        vertical-align: top;\n",
       "    }\n",
       "\n",
       "    .dataframe thead th {\n",
       "        text-align: right;\n",
       "    }\n",
       "</style>\n",
       "<table border=\"1\" class=\"dataframe\">\n",
       "  <thead>\n",
       "    <tr style=\"text-align: right;\">\n",
       "      <th></th>\n",
       "      <th>gender</th>\n",
       "      <th>car</th>\n",
       "      <th>reality</th>\n",
       "      <th>child_num</th>\n",
       "      <th>income_total</th>\n",
       "      <th>income_type</th>\n",
       "      <th>edu_type</th>\n",
       "      <th>family_type</th>\n",
       "      <th>house_type</th>\n",
       "      <th>DAYS_BIRTH</th>\n",
       "      <th>DAYS_EMPLOYED</th>\n",
       "      <th>FLAG_MOBIL</th>\n",
       "      <th>work_phone</th>\n",
       "      <th>phone</th>\n",
       "      <th>email</th>\n",
       "      <th>occyp_type</th>\n",
       "      <th>family_size</th>\n",
       "      <th>begin_month</th>\n",
       "      <th>credit</th>\n",
       "    </tr>\n",
       "    <tr>\n",
       "      <th>index</th>\n",
       "      <th></th>\n",
       "      <th></th>\n",
       "      <th></th>\n",
       "      <th></th>\n",
       "      <th></th>\n",
       "      <th></th>\n",
       "      <th></th>\n",
       "      <th></th>\n",
       "      <th></th>\n",
       "      <th></th>\n",
       "      <th></th>\n",
       "      <th></th>\n",
       "      <th></th>\n",
       "      <th></th>\n",
       "      <th></th>\n",
       "      <th></th>\n",
       "      <th></th>\n",
       "      <th></th>\n",
       "      <th></th>\n",
       "    </tr>\n",
       "  </thead>\n",
       "  <tbody>\n",
       "    <tr>\n",
       "      <th>0</th>\n",
       "      <td>F</td>\n",
       "      <td>N</td>\n",
       "      <td>N</td>\n",
       "      <td>0</td>\n",
       "      <td>202500.0</td>\n",
       "      <td>Commercial associate</td>\n",
       "      <td>Higher education</td>\n",
       "      <td>Married</td>\n",
       "      <td>Municipal apartment</td>\n",
       "      <td>-13899</td>\n",
       "      <td>-4709</td>\n",
       "      <td>1</td>\n",
       "      <td>0</td>\n",
       "      <td>0</td>\n",
       "      <td>0</td>\n",
       "      <td>NaN</td>\n",
       "      <td>2.0</td>\n",
       "      <td>-6.0</td>\n",
       "      <td>1.0</td>\n",
       "    </tr>\n",
       "    <tr>\n",
       "      <th>1</th>\n",
       "      <td>F</td>\n",
       "      <td>N</td>\n",
       "      <td>Y</td>\n",
       "      <td>1</td>\n",
       "      <td>247500.0</td>\n",
       "      <td>Commercial associate</td>\n",
       "      <td>Secondary / secondary special</td>\n",
       "      <td>Civil marriage</td>\n",
       "      <td>House / apartment</td>\n",
       "      <td>-11380</td>\n",
       "      <td>-1540</td>\n",
       "      <td>1</td>\n",
       "      <td>0</td>\n",
       "      <td>0</td>\n",
       "      <td>1</td>\n",
       "      <td>Laborers</td>\n",
       "      <td>3.0</td>\n",
       "      <td>-5.0</td>\n",
       "      <td>1.0</td>\n",
       "    </tr>\n",
       "    <tr>\n",
       "      <th>2</th>\n",
       "      <td>M</td>\n",
       "      <td>Y</td>\n",
       "      <td>Y</td>\n",
       "      <td>0</td>\n",
       "      <td>450000.0</td>\n",
       "      <td>Working</td>\n",
       "      <td>Higher education</td>\n",
       "      <td>Married</td>\n",
       "      <td>House / apartment</td>\n",
       "      <td>-19087</td>\n",
       "      <td>-4434</td>\n",
       "      <td>1</td>\n",
       "      <td>0</td>\n",
       "      <td>1</td>\n",
       "      <td>0</td>\n",
       "      <td>Managers</td>\n",
       "      <td>2.0</td>\n",
       "      <td>-22.0</td>\n",
       "      <td>2.0</td>\n",
       "    </tr>\n",
       "    <tr>\n",
       "      <th>3</th>\n",
       "      <td>F</td>\n",
       "      <td>N</td>\n",
       "      <td>Y</td>\n",
       "      <td>0</td>\n",
       "      <td>202500.0</td>\n",
       "      <td>Commercial associate</td>\n",
       "      <td>Secondary / secondary special</td>\n",
       "      <td>Married</td>\n",
       "      <td>House / apartment</td>\n",
       "      <td>-15088</td>\n",
       "      <td>-2092</td>\n",
       "      <td>1</td>\n",
       "      <td>0</td>\n",
       "      <td>1</td>\n",
       "      <td>0</td>\n",
       "      <td>Sales staff</td>\n",
       "      <td>2.0</td>\n",
       "      <td>-37.0</td>\n",
       "      <td>0.0</td>\n",
       "    </tr>\n",
       "    <tr>\n",
       "      <th>4</th>\n",
       "      <td>F</td>\n",
       "      <td>Y</td>\n",
       "      <td>Y</td>\n",
       "      <td>0</td>\n",
       "      <td>157500.0</td>\n",
       "      <td>State servant</td>\n",
       "      <td>Higher education</td>\n",
       "      <td>Married</td>\n",
       "      <td>House / apartment</td>\n",
       "      <td>-15037</td>\n",
       "      <td>-2105</td>\n",
       "      <td>1</td>\n",
       "      <td>0</td>\n",
       "      <td>0</td>\n",
       "      <td>0</td>\n",
       "      <td>Managers</td>\n",
       "      <td>2.0</td>\n",
       "      <td>-26.0</td>\n",
       "      <td>2.0</td>\n",
       "    </tr>\n",
       "  </tbody>\n",
       "</table>\n",
       "</div>"
      ],
      "text/plain": [
       "      gender car reality  child_num  income_total           income_type  \\\n",
       "index                                                                     \n",
       "0          F   N       N          0      202500.0  Commercial associate   \n",
       "1          F   N       Y          1      247500.0  Commercial associate   \n",
       "2          M   Y       Y          0      450000.0               Working   \n",
       "3          F   N       Y          0      202500.0  Commercial associate   \n",
       "4          F   Y       Y          0      157500.0         State servant   \n",
       "\n",
       "                            edu_type     family_type           house_type  \\\n",
       "index                                                                       \n",
       "0                   Higher education         Married  Municipal apartment   \n",
       "1      Secondary / secondary special  Civil marriage    House / apartment   \n",
       "2                   Higher education         Married    House / apartment   \n",
       "3      Secondary / secondary special         Married    House / apartment   \n",
       "4                   Higher education         Married    House / apartment   \n",
       "\n",
       "       DAYS_BIRTH  DAYS_EMPLOYED  FLAG_MOBIL  work_phone  phone  email  \\\n",
       "index                                                                    \n",
       "0          -13899          -4709           1           0      0      0   \n",
       "1          -11380          -1540           1           0      0      1   \n",
       "2          -19087          -4434           1           0      1      0   \n",
       "3          -15088          -2092           1           0      1      0   \n",
       "4          -15037          -2105           1           0      0      0   \n",
       "\n",
       "        occyp_type  family_size  begin_month  credit  \n",
       "index                                                 \n",
       "0              NaN          2.0         -6.0     1.0  \n",
       "1         Laborers          3.0         -5.0     1.0  \n",
       "2         Managers          2.0        -22.0     2.0  \n",
       "3      Sales staff          2.0        -37.0     0.0  \n",
       "4         Managers          2.0        -26.0     2.0  "
      ]
     },
     "execution_count": 6,
     "metadata": {},
     "output_type": "execute_result"
    }
   ],
   "source": [
    "trn = pd.read_csv('./open/train.csv', index_col=index_col)\n",
    "print(trn.shape)\n",
    "trn.head()"
   ]
  },
  {
   "cell_type": "code",
   "execution_count": 7,
   "metadata": {},
   "outputs": [
    {
     "name": "stdout",
     "output_type": "stream",
     "text": [
      "(10000, 18)\n"
     ]
    },
    {
     "data": {
      "text/html": [
       "<div>\n",
       "<style scoped>\n",
       "    .dataframe tbody tr th:only-of-type {\n",
       "        vertical-align: middle;\n",
       "    }\n",
       "\n",
       "    .dataframe tbody tr th {\n",
       "        vertical-align: top;\n",
       "    }\n",
       "\n",
       "    .dataframe thead th {\n",
       "        text-align: right;\n",
       "    }\n",
       "</style>\n",
       "<table border=\"1\" class=\"dataframe\">\n",
       "  <thead>\n",
       "    <tr style=\"text-align: right;\">\n",
       "      <th></th>\n",
       "      <th>gender</th>\n",
       "      <th>car</th>\n",
       "      <th>reality</th>\n",
       "      <th>child_num</th>\n",
       "      <th>income_total</th>\n",
       "      <th>income_type</th>\n",
       "      <th>edu_type</th>\n",
       "      <th>family_type</th>\n",
       "      <th>house_type</th>\n",
       "      <th>DAYS_BIRTH</th>\n",
       "      <th>DAYS_EMPLOYED</th>\n",
       "      <th>FLAG_MOBIL</th>\n",
       "      <th>work_phone</th>\n",
       "      <th>phone</th>\n",
       "      <th>email</th>\n",
       "      <th>occyp_type</th>\n",
       "      <th>family_size</th>\n",
       "      <th>begin_month</th>\n",
       "    </tr>\n",
       "    <tr>\n",
       "      <th>index</th>\n",
       "      <th></th>\n",
       "      <th></th>\n",
       "      <th></th>\n",
       "      <th></th>\n",
       "      <th></th>\n",
       "      <th></th>\n",
       "      <th></th>\n",
       "      <th></th>\n",
       "      <th></th>\n",
       "      <th></th>\n",
       "      <th></th>\n",
       "      <th></th>\n",
       "      <th></th>\n",
       "      <th></th>\n",
       "      <th></th>\n",
       "      <th></th>\n",
       "      <th></th>\n",
       "      <th></th>\n",
       "    </tr>\n",
       "  </thead>\n",
       "  <tbody>\n",
       "    <tr>\n",
       "      <th>26457</th>\n",
       "      <td>M</td>\n",
       "      <td>Y</td>\n",
       "      <td>N</td>\n",
       "      <td>0</td>\n",
       "      <td>112500.0</td>\n",
       "      <td>Pensioner</td>\n",
       "      <td>Secondary / secondary special</td>\n",
       "      <td>Civil marriage</td>\n",
       "      <td>House / apartment</td>\n",
       "      <td>-21990</td>\n",
       "      <td>365243</td>\n",
       "      <td>1</td>\n",
       "      <td>0</td>\n",
       "      <td>1</td>\n",
       "      <td>0</td>\n",
       "      <td>NaN</td>\n",
       "      <td>2.0</td>\n",
       "      <td>-60.0</td>\n",
       "    </tr>\n",
       "    <tr>\n",
       "      <th>26458</th>\n",
       "      <td>F</td>\n",
       "      <td>N</td>\n",
       "      <td>Y</td>\n",
       "      <td>0</td>\n",
       "      <td>135000.0</td>\n",
       "      <td>State servant</td>\n",
       "      <td>Higher education</td>\n",
       "      <td>Married</td>\n",
       "      <td>House / apartment</td>\n",
       "      <td>-18964</td>\n",
       "      <td>-8671</td>\n",
       "      <td>1</td>\n",
       "      <td>0</td>\n",
       "      <td>1</td>\n",
       "      <td>0</td>\n",
       "      <td>Core staff</td>\n",
       "      <td>2.0</td>\n",
       "      <td>-36.0</td>\n",
       "    </tr>\n",
       "    <tr>\n",
       "      <th>26459</th>\n",
       "      <td>F</td>\n",
       "      <td>N</td>\n",
       "      <td>Y</td>\n",
       "      <td>0</td>\n",
       "      <td>69372.0</td>\n",
       "      <td>Working</td>\n",
       "      <td>Secondary / secondary special</td>\n",
       "      <td>Married</td>\n",
       "      <td>House / apartment</td>\n",
       "      <td>-15887</td>\n",
       "      <td>-217</td>\n",
       "      <td>1</td>\n",
       "      <td>1</td>\n",
       "      <td>1</td>\n",
       "      <td>0</td>\n",
       "      <td>Laborers</td>\n",
       "      <td>2.0</td>\n",
       "      <td>-40.0</td>\n",
       "    </tr>\n",
       "    <tr>\n",
       "      <th>26460</th>\n",
       "      <td>M</td>\n",
       "      <td>Y</td>\n",
       "      <td>N</td>\n",
       "      <td>0</td>\n",
       "      <td>112500.0</td>\n",
       "      <td>Commercial associate</td>\n",
       "      <td>Secondary / secondary special</td>\n",
       "      <td>Married</td>\n",
       "      <td>House / apartment</td>\n",
       "      <td>-19270</td>\n",
       "      <td>-2531</td>\n",
       "      <td>1</td>\n",
       "      <td>1</td>\n",
       "      <td>0</td>\n",
       "      <td>0</td>\n",
       "      <td>Drivers</td>\n",
       "      <td>2.0</td>\n",
       "      <td>-41.0</td>\n",
       "    </tr>\n",
       "    <tr>\n",
       "      <th>26461</th>\n",
       "      <td>F</td>\n",
       "      <td>Y</td>\n",
       "      <td>Y</td>\n",
       "      <td>0</td>\n",
       "      <td>225000.0</td>\n",
       "      <td>State servant</td>\n",
       "      <td>Higher education</td>\n",
       "      <td>Married</td>\n",
       "      <td>House / apartment</td>\n",
       "      <td>-17822</td>\n",
       "      <td>-9385</td>\n",
       "      <td>1</td>\n",
       "      <td>1</td>\n",
       "      <td>0</td>\n",
       "      <td>0</td>\n",
       "      <td>Managers</td>\n",
       "      <td>2.0</td>\n",
       "      <td>-8.0</td>\n",
       "    </tr>\n",
       "  </tbody>\n",
       "</table>\n",
       "</div>"
      ],
      "text/plain": [
       "      gender car reality  child_num  income_total           income_type  \\\n",
       "index                                                                     \n",
       "26457      M   Y       N          0      112500.0             Pensioner   \n",
       "26458      F   N       Y          0      135000.0         State servant   \n",
       "26459      F   N       Y          0       69372.0               Working   \n",
       "26460      M   Y       N          0      112500.0  Commercial associate   \n",
       "26461      F   Y       Y          0      225000.0         State servant   \n",
       "\n",
       "                            edu_type     family_type         house_type  \\\n",
       "index                                                                     \n",
       "26457  Secondary / secondary special  Civil marriage  House / apartment   \n",
       "26458               Higher education         Married  House / apartment   \n",
       "26459  Secondary / secondary special         Married  House / apartment   \n",
       "26460  Secondary / secondary special         Married  House / apartment   \n",
       "26461               Higher education         Married  House / apartment   \n",
       "\n",
       "       DAYS_BIRTH  DAYS_EMPLOYED  FLAG_MOBIL  work_phone  phone  email  \\\n",
       "index                                                                    \n",
       "26457      -21990         365243           1           0      1      0   \n",
       "26458      -18964          -8671           1           0      1      0   \n",
       "26459      -15887           -217           1           1      1      0   \n",
       "26460      -19270          -2531           1           1      0      0   \n",
       "26461      -17822          -9385           1           1      0      0   \n",
       "\n",
       "       occyp_type  family_size  begin_month  \n",
       "index                                        \n",
       "26457         NaN          2.0        -60.0  \n",
       "26458  Core staff          2.0        -36.0  \n",
       "26459    Laborers          2.0        -40.0  \n",
       "26460     Drivers          2.0        -41.0  \n",
       "26461    Managers          2.0         -8.0  "
      ]
     },
     "execution_count": 7,
     "metadata": {},
     "output_type": "execute_result"
    }
   ],
   "source": [
    "tst = pd.read_csv('./open/test.csv', index_col=index_col)\n",
    "print(tst.shape)\n",
    "tst.head()"
   ]
  },
  {
   "cell_type": "code",
   "execution_count": 8,
   "metadata": {},
   "outputs": [
    {
     "name": "stdout",
     "output_type": "stream",
     "text": [
      "(10000, 3)\n"
     ]
    },
    {
     "data": {
      "text/html": [
       "<div>\n",
       "<style scoped>\n",
       "    .dataframe tbody tr th:only-of-type {\n",
       "        vertical-align: middle;\n",
       "    }\n",
       "\n",
       "    .dataframe tbody tr th {\n",
       "        vertical-align: top;\n",
       "    }\n",
       "\n",
       "    .dataframe thead th {\n",
       "        text-align: right;\n",
       "    }\n",
       "</style>\n",
       "<table border=\"1\" class=\"dataframe\">\n",
       "  <thead>\n",
       "    <tr style=\"text-align: right;\">\n",
       "      <th></th>\n",
       "      <th>0</th>\n",
       "      <th>1</th>\n",
       "      <th>2</th>\n",
       "    </tr>\n",
       "    <tr>\n",
       "      <th>index</th>\n",
       "      <th></th>\n",
       "      <th></th>\n",
       "      <th></th>\n",
       "    </tr>\n",
       "  </thead>\n",
       "  <tbody>\n",
       "    <tr>\n",
       "      <th>26457</th>\n",
       "      <td>0</td>\n",
       "      <td>0</td>\n",
       "      <td>0</td>\n",
       "    </tr>\n",
       "    <tr>\n",
       "      <th>26458</th>\n",
       "      <td>0</td>\n",
       "      <td>0</td>\n",
       "      <td>0</td>\n",
       "    </tr>\n",
       "    <tr>\n",
       "      <th>26459</th>\n",
       "      <td>0</td>\n",
       "      <td>0</td>\n",
       "      <td>0</td>\n",
       "    </tr>\n",
       "    <tr>\n",
       "      <th>26460</th>\n",
       "      <td>0</td>\n",
       "      <td>0</td>\n",
       "      <td>0</td>\n",
       "    </tr>\n",
       "    <tr>\n",
       "      <th>26461</th>\n",
       "      <td>0</td>\n",
       "      <td>0</td>\n",
       "      <td>0</td>\n",
       "    </tr>\n",
       "  </tbody>\n",
       "</table>\n",
       "</div>"
      ],
      "text/plain": [
       "       0  1  2\n",
       "index         \n",
       "26457  0  0  0\n",
       "26458  0  0  0\n",
       "26459  0  0  0\n",
       "26460  0  0  0\n",
       "26461  0  0  0"
      ]
     },
     "execution_count": 8,
     "metadata": {},
     "output_type": "execute_result"
    }
   ],
   "source": [
    "sub = pd.read_csv('./open/sample_submission.csv', index_col=index_col)\n",
    "print(sub.shape)\n",
    "sub.head()"
   ]
  },
  {
   "cell_type": "markdown",
   "metadata": {},
   "source": [
    "### Simple EDA"
   ]
  },
  {
   "cell_type": "code",
   "execution_count": 9,
   "metadata": {},
   "outputs": [
    {
     "data": {
      "text/plain": [
       "index\n",
       "0        1.0\n",
       "1        1.0\n",
       "2        2.0\n",
       "3        0.0\n",
       "4        2.0\n",
       "        ... \n",
       "26452    1.0\n",
       "26453    2.0\n",
       "26454    2.0\n",
       "26455    2.0\n",
       "26456    2.0\n",
       "Name: credit, Length: 26457, dtype: category\n",
       "Categories (3, float64): [0.0, 1.0, 2.0]"
      ]
     },
     "execution_count": 9,
     "metadata": {},
     "output_type": "execute_result"
    }
   ],
   "source": [
    "trn[target_col] = trn[target_col].astype('category')\n",
    "trn[target_col]"
   ]
  },
  {
   "cell_type": "code",
   "execution_count": 10,
   "metadata": {},
   "outputs": [
    {
     "name": "stdout",
     "output_type": "stream",
     "text": [
      "          gender: 26457\t2\tobject\n",
      "             car: 26457\t2\tobject\n",
      "         reality: 26457\t2\tobject\n",
      "       child_num: 26457\t9\tint64\n",
      "    income_total: 26457\t249\tfloat64\n",
      "     income_type: 26457\t5\tobject\n",
      "        edu_type: 26457\t5\tobject\n",
      "     family_type: 26457\t5\tobject\n",
      "      house_type: 26457\t6\tobject\n",
      "      DAYS_BIRTH: 26457\t6621\tint64\n",
      "   DAYS_EMPLOYED: 26457\t3470\tint64\n",
      "      FLAG_MOBIL: 26457\t1\tint64\n",
      "      work_phone: 26457\t2\tint64\n",
      "           phone: 26457\t2\tint64\n",
      "           email: 26457\t2\tint64\n",
      "      occyp_type: 18286\t18\tobject\n",
      "     family_size: 26457\t10\tfloat64\n",
      "     begin_month: 26457\t61\tfloat64\n",
      "          credit: 26457\t3\tcategory\n"
     ]
    }
   ],
   "source": [
    "for col in trn.columns:\n",
    "    print(f'{col:>16s}: {trn[col].count()}\\t{trn[col].nunique()}\\t{trn[col].dtype}')"
   ]
  },
  {
   "cell_type": "code",
   "execution_count": 11,
   "metadata": {},
   "outputs": [
    {
     "data": {
      "text/plain": [
       "Pensioner    536\n",
       "Name: income_type, dtype: int64"
      ]
     },
     "execution_count": 11,
     "metadata": {},
     "output_type": "execute_result"
    }
   ],
   "source": [
    "trn.query('DAYS_EMPLOYED == 365243 & credit == 0')['income_type'].value_counts()  # DAYS_EMPLOYED == 365243인 사람은 전부 pensioner인 점을 알 수 있음"
   ]
  },
  {
   "cell_type": "markdown",
   "metadata": {},
   "source": [
    "### Feature Engineering"
   ]
  },
  {
   "cell_type": "code",
   "execution_count": 12,
   "metadata": {},
   "outputs": [],
   "source": [
    "trn = pd.read_csv('./open/train.csv', index_col=index_col)\n",
    "tst = pd.read_csv('./open/test.csv', index_col=index_col)"
   ]
  },
  {
   "cell_type": "code",
   "execution_count": 13,
   "metadata": {},
   "outputs": [],
   "source": [
    "trn.drop('FLAG_MOBIL', axis=1, inplace=True)\n",
    "tst.drop('FLAG_MOBIL', axis=1, inplace=True)"
   ]
  },
  {
   "cell_type": "code",
   "execution_count": 14,
   "metadata": {},
   "outputs": [
    {
     "data": {
      "text/plain": [
       "((26457, 18), (10000, 17))"
      ]
     },
     "execution_count": 14,
     "metadata": {},
     "output_type": "execute_result"
    }
   ],
   "source": [
    "trn.shape, tst.shape"
   ]
  },
  {
   "cell_type": "markdown",
   "metadata": {},
   "source": [
    "#### Numerical Features"
   ]
  },
  {
   "cell_type": "code",
   "execution_count": 15,
   "metadata": {},
   "outputs": [],
   "source": [
    "trn['DAYS_EMPLOYED'] = trn['DAYS_EMPLOYED'].replace(365243, 1)\n",
    "tst['DAYS_EMPLOYED'] = tst['DAYS_EMPLOYED'].replace(365243, 1)"
   ]
  },
  {
   "cell_type": "code",
   "execution_count": 16,
   "metadata": {},
   "outputs": [],
   "source": [
    "trn['DAYS_EMPLOYED'] = -trn['DAYS_EMPLOYED']\n",
    "trn['DAYS_BIRTH'] = -trn['DAYS_BIRTH']\n",
    "trn['child_ratio'] = trn['child_num'] / trn['family_size']\n",
    "trn['employed_ratio'] = (-trn['DAYS_EMPLOYED']) / (-trn['DAYS_BIRTH'])\n",
    "trn['DAYS_EMPLOYED_year'] = (trn['DAYS_EMPLOYED'] / 365).round()\n",
    "trn['DAYS_BIRTH_year'] = (trn['DAYS_BIRTH'] / 365).round()\n",
    "trn['begin_month_year'] = ((-trn['begin_month']) / 12).round()\n",
    "trn['mean_income_family'] = trn['income_total'] / trn['family_size']\n",
    "trn['income_employed'] = trn['income_total'] * trn['DAYS_EMPLOYED_year']\n",
    "trn['income_begin_ratio'] = (-trn['begin_month']) / trn['income_total']\n",
    "trn['family_age_ratio'] = trn['DAYS_BIRTH_year'] / trn['family_size']\n",
    "trn['family_child_abstract'] = trn['family_size'] - trn['child_num']\n",
    "trn['income>mean'] = trn['income_total'].apply(lambda x: 1 if x>=trn['income_total'].mean() else 0)\n",
    "trn['begin_month>mean'] = trn['begin_month'].apply(lambda x: 1 if x>=trn['begin_month'].mean() else 0)\n",
    "trn['family_begin_month'] = trn['family_size'] * trn['begin_month']\n",
    "trn['DAYS_EMPLOYED_begin_month'] = trn['begin_month'] / trn['DAYS_EMPLOYED']\n",
    "trn['DAYS_BIRTH_begin_month'] = trn['begin_month'] / trn['DAYS_BIRTH']\n",
    "\n",
    "# DAYS_BIRTH\n",
    "trn['DAYS_BIRTH_month'] = np.floor((-trn['DAYS_BIRTH'])/30)-((np.floor((-trn['DAYS_BIRTH'])/30)/12).astype(int)*12)\n",
    "trn['DAYS_BIRTH_week'] = np.floor((-trn['DAYS_BIRTH'])/7)-((np.floor((-trn['DAYS_BIRTH'])/7)/4).astype(int)*4)\n",
    "\n",
    "# DAYS_EMPLOYED\n",
    "trn['DAYS_EMPLOYED_month'] = np.floor((-trn['DAYS_EMPLOYED'])/30)-((np.floor((-trn['DAYS_EMPLOYED'])/30)/12).astype(int)*12)\n",
    "trn['DAYS_EMPLOYED_week'] = np.floor((-trn['DAYS_EMPLOYED'])/7)-((np.floor((-trn['DAYS_EMPLOYED'])/7)/4).astype(int)*4)\n",
    "\n",
    "# before_EMPLOYED\n",
    "trn['before_EMPLOYED'] = trn['DAYS_BIRTH']-trn['DAYS_EMPLOYED']\n",
    "trn['before_EMPLOYED_month'] = np.floor((-trn['before_EMPLOYED'])/30)-((np.floor((-trn['before_EMPLOYED'])/30)/12).astype(int)*12)\n",
    "trn['before_EMPLOYED_week'] = np.floor((-trn['before_EMPLOYED'])/7)-((np.floor((-trn['before_EMPLOYED'])/7)/4).astype(int)*4)\n",
    "trn['before_EMPLOYED_BIRTH_ratio'] = trn['before_EMPLOYED'] / trn['DAYS_BIRTH']\n",
    "trn['before_EMPLOYED_ratio'] = trn['before_EMPLOYED'] / trn['DAYS_EMPLOYED']\n",
    "trn['before_EMPLOYED>mean'] = trn['before_EMPLOYED'].apply(lambda x: 1 if x>=trn['before_EMPLOYED'].mean() else 0)"
   ]
  },
  {
   "cell_type": "code",
   "execution_count": 17,
   "metadata": {},
   "outputs": [],
   "source": [
    "tst['DAYS_BIRTH'] = -tst['DAYS_BIRTH']\n",
    "tst['DAYS_EMPLOYED'] = -tst['DAYS_EMPLOYED']\n",
    "tst['child_ratio'] = tst['child_num'] / tst['family_size']\n",
    "tst['employed_ratio'] = (-tst['DAYS_EMPLOYED']) / (-tst['DAYS_BIRTH'])\n",
    "tst['DAYS_EMPLOYED_year'] = (tst['DAYS_EMPLOYED'] / 365).round()\n",
    "tst['DAYS_BIRTH_year'] = (tst['DAYS_BIRTH'] / 365).round()\n",
    "tst['begin_month_year'] = ((-tst['begin_month']) / 12).round()\n",
    "tst['mean_income_family'] = tst['income_total'] / tst['family_size']\n",
    "tst['income_employed'] = tst['income_total'] * tst['DAYS_EMPLOYED_year']\n",
    "tst['income_begin_ratio'] = (-tst['begin_month']) / tst['income_total']\n",
    "tst['family_age_ratio'] = tst['DAYS_BIRTH_year'] / tst['family_size']\n",
    "tst['family_child_abstract'] = tst['family_size'] - tst['child_num']\n",
    "tst['income>mean'] = tst['income_total'].apply(lambda x: 1 if x>=tst['income_total'].mean() else 0)\n",
    "tst['begin_month>mean'] = tst['begin_month'].apply(lambda x: 1 if x>=tst['begin_month'].mean() else 0)\n",
    "tst['family_begin_month'] = tst['family_size'] * tst['begin_month']\n",
    "tst['DAYS_EMPLOYED_begin_month'] = tst['begin_month'] / tst['DAYS_EMPLOYED']\n",
    "tst['DAYS_BIRTH_begin_month'] = tst['begin_month'] / tst['DAYS_BIRTH']\n",
    "\n",
    "# DAYS_BIRTH\n",
    "tst['DAYS_BIRTH_month'] = np.floor((-tst['DAYS_BIRTH'])/30)-((np.floor((-tst['DAYS_BIRTH'])/30)/12).astype(int)*12)\n",
    "tst['DAYS_BIRTH_week'] = np.floor((-tst['DAYS_BIRTH'])/7)-((np.floor((-tst['DAYS_BIRTH'])/7)/4).astype(int)*4)\n",
    "\n",
    "# DAYS_EMPLOYED\n",
    "tst['DAYS_EMPLOYED_month'] = np.floor((-tst['DAYS_EMPLOYED'])/30)-((np.floor((-tst['DAYS_EMPLOYED'])/30)/12).astype(int)*12)\n",
    "tst['DAYS_EMPLOYED_week'] = np.floor((-tst['DAYS_EMPLOYED'])/7)-((np.floor((-tst['DAYS_EMPLOYED'])/7)/4).astype(int)*4)\n",
    "\n",
    "# before_EMPLOYED\n",
    "tst['before_EMPLOYED'] = tst['DAYS_BIRTH']-tst['DAYS_EMPLOYED']\n",
    "tst['before_EMPLOYED_month'] = np.floor((-tst['before_EMPLOYED'])/30)-((np.floor((-tst['before_EMPLOYED'])/30)/12).astype(int)*12)\n",
    "tst['before_EMPLOYED_week'] = np.floor((-tst['before_EMPLOYED'])/7)-((np.floor((-tst['before_EMPLOYED'])/7)/4).astype(int)*4)\n",
    "tst['before_EMPLOYED_BIRTH_ratio'] = tst['before_EMPLOYED'] / tst['DAYS_BIRTH']\n",
    "tst['before_EMPLOYED_ratio'] = tst['before_EMPLOYED'] / tst['DAYS_EMPLOYED']\n",
    "tst['before_EMPLOYED>mean'] = tst['before_EMPLOYED'].apply(lambda x: 1 if x>=tst['before_EMPLOYED'].mean() else 0)"
   ]
  },
  {
   "cell_type": "code",
   "execution_count": 18,
   "metadata": {},
   "outputs": [],
   "source": [
    "trn['age_group'] = pd.cut(trn['DAYS_BIRTH_year'], bins=[20, 30, 40, 50, 60, 70],\n",
    "                         labels=['20ager', '30ager', '40ager', '50ager', '60ager'])\n",
    "\n",
    "tst['age_group'] = pd.cut(tst['DAYS_BIRTH_year'], bins=[20, 30, 40, 50, 60, 70],\n",
    "                         labels=['20ager', '30ager', '40ager', '50ager', '60ager'])"
   ]
  },
  {
   "cell_type": "code",
   "execution_count": 19,
   "metadata": {},
   "outputs": [],
   "source": [
    "trn = pd.concat([trn, pd.get_dummies(trn['age_group'])], axis=1)\n",
    "tst = pd.concat([tst, pd.get_dummies(tst['age_group'])], axis=1)"
   ]
  },
  {
   "cell_type": "code",
   "execution_count": 20,
   "metadata": {},
   "outputs": [],
   "source": [
    "trn['dup']=0\n",
    "du = list(trn[trn.duplicated(trn.columns)].index)\n",
    "\n",
    "for i in range(0,26457):\n",
    "    if i in du:\n",
    "        trn.loc[i,'dup']=1"
   ]
  },
  {
   "cell_type": "code",
   "execution_count": 21,
   "metadata": {},
   "outputs": [],
   "source": [
    "tst['dup']=0\n",
    "du = list(tst[tst.duplicated(tst.columns)].index)\n",
    "\n",
    "for i in range(26457,36457):\n",
    "    if i in du:\n",
    "        tst.loc[i,'dup']=1"
   ]
  },
  {
   "cell_type": "code",
   "execution_count": 22,
   "metadata": {},
   "outputs": [],
   "source": [
    "#trn3 = trn.groupby(['income_total', 'income_type', 'DAYS_BIRTH', 'DAYS_EMPLOYED'])['begin_month'].agg([('begin_month_sum', 'sum')])\n",
    "#trn3 = pd.DataFrame(trn3)\n",
    "\n",
    "#tst3 = tst.groupby(['income_total', 'income_type', 'DAYS_BIRTH', 'DAYS_EMPLOYED'])['begin_month'].agg([('begin_month_sum', 'sum')])\n",
    "#tst3 = pd.DataFrame(tst3)"
   ]
  },
  {
   "cell_type": "code",
   "execution_count": 23,
   "metadata": {},
   "outputs": [],
   "source": [
    "#trn = trn.merge(trn3, how='left', on=('income_total', 'income_type', 'DAYS_BIRTH', 'DAYS_EMPLOYED'))\n",
    "#tst = tst.merge(tst3, how='left', on=('income_total', 'income_type', 'DAYS_BIRTH', 'DAYS_EMPLOYED'))"
   ]
  },
  {
   "cell_type": "code",
   "execution_count": 24,
   "metadata": {},
   "outputs": [],
   "source": [
    "#trn['begin_month_mean'] = -trn['begin_month_sum'] / trn['duplicated']\n",
    "#tst['begin_month_mean'] = -tst['begin_month_sum'] / tst['duplicated']"
   ]
  },
  {
   "cell_type": "code",
   "execution_count": 25,
   "metadata": {},
   "outputs": [
    {
     "data": {
      "text/plain": [
       "((26457, 50), (10000, 49))"
      ]
     },
     "execution_count": 25,
     "metadata": {},
     "output_type": "execute_result"
    }
   ],
   "source": [
    "trn.shape, tst.shape"
   ]
  },
  {
   "cell_type": "markdown",
   "metadata": {},
   "source": [
    "####  Encoding for Categorical Features"
   ]
  },
  {
   "cell_type": "code",
   "execution_count": 26,
   "metadata": {},
   "outputs": [
    {
     "name": "stdout",
     "output_type": "stream",
     "text": [
      "49 8 41\n"
     ]
    }
   ],
   "source": [
    "cat_cols = [x for x in trn.columns if trn[x].dtype == 'object']\n",
    "num_cols = [x for x in trn.columns if x not in cat_cols + [target_col]]\n",
    "\n",
    "feature_cols = num_cols + cat_cols\n",
    "print(len(feature_cols), len(cat_cols), len(num_cols))"
   ]
  },
  {
   "cell_type": "code",
   "execution_count": 27,
   "metadata": {},
   "outputs": [],
   "source": [
    "trn['occyp_type'] = trn['occyp_type'].fillna('no job')\n",
    "tst['occyp_type'] = tst['occyp_type'].fillna('no job')"
   ]
  },
  {
   "cell_type": "code",
   "execution_count": 28,
   "metadata": {},
   "outputs": [],
   "source": [
    "trn['income_occyp_type'] = trn['income_type'].astype(str) + \"_\" + trn['occyp_type'].astype(str)\n",
    "tst['income_occyp_type'] = tst['income_type'].astype(str) + \"_\" + tst['occyp_type'].astype(str)"
   ]
  },
  {
   "cell_type": "code",
   "execution_count": 29,
   "metadata": {},
   "outputs": [],
   "source": [
    "trn['income_age_type'] = trn['income_type'].astype(str) + \"_\" + trn['age_group'].astype(str)\n",
    "tst['income_age_type'] = tst['income_type'].astype(str) + \"_\" + tst['age_group'].astype(str)\n",
    "trn.drop('age_group', axis=1, inplace=True)\n",
    "tst.drop('age_group', axis=1, inplace=True)"
   ]
  },
  {
   "cell_type": "code",
   "execution_count": 30,
   "metadata": {},
   "outputs": [],
   "source": [
    "trn['edu_occyp_type'] = trn['edu_type'].astype(str) + \"_\" + trn['occyp_type'].astype(str)\n",
    "tst['edu_occyp_type'] = tst['edu_type'].astype(str) + \"_\" + tst['occyp_type'].astype(str)\n",
    "\n",
    "trn['edu_income_type'] = trn['edu_type'].astype(str) + \"_\" + trn['income_type'].astype(str)\n",
    "tst['edu_income_type'] = tst['edu_type'].astype(str) + \"_\" + tst['income_type'].astype(str)\n",
    "\n",
    "trn['family_income_type'] = trn['family_type'].astype(str) + \"_\" + trn['income_type'].astype(str)\n",
    "tst['family_income_type'] = tst['family_type'].astype(str) + \"_\" + tst['income_type'].astype(str)"
   ]
  },
  {
   "cell_type": "markdown",
   "metadata": {},
   "source": [
    "### word2vec"
   ]
  },
  {
   "cell_type": "code",
   "execution_count": 31,
   "metadata": {},
   "outputs": [],
   "source": [
    "# income_occyp_type, income_age_type, edu_occyp_type, edu_income_type, family_income_type\n",
    "\n",
    "import random\n",
    "\n",
    "train_data = list(trn.groupby('index')['income_occyp_type'].unique())\n",
    "test_data = list(tst.groupby('index')['income_occyp_type'].unique())"
   ]
  },
  {
   "cell_type": "code",
   "execution_count": 32,
   "metadata": {},
   "outputs": [
    {
     "data": {
      "text/plain": [
       "array(['Pensioner_no job'], dtype=object)"
      ]
     },
     "execution_count": 32,
     "metadata": {},
     "output_type": "execute_result"
    }
   ],
   "source": [
    "test_data[0]"
   ]
  },
  {
   "cell_type": "code",
   "execution_count": 33,
   "metadata": {},
   "outputs": [],
   "source": [
    "def oversample(x, n):\n",
    "    lst = []\n",
    "    for i in x:\n",
    "        tmp = []\n",
    "        for j in range(n):\n",
    "            random.shuffle(i)\n",
    "            tmp += list(i)\n",
    "            lst.append(tmp)\n",
    "    return lst"
   ]
  },
  {
   "cell_type": "code",
   "execution_count": 34,
   "metadata": {},
   "outputs": [],
   "source": [
    "w2v_input = oversample(train_data, 5)"
   ]
  },
  {
   "cell_type": "code",
   "execution_count": 35,
   "metadata": {},
   "outputs": [],
   "source": [
    "from gensim.models import word2vec\n",
    "\n",
    "w2v = word2vec.Word2Vec(sentences = w2v_input, size = 30, window = 3, min_count = 1, sg = 1)"
   ]
  },
  {
   "cell_type": "code",
   "execution_count": 36,
   "metadata": {},
   "outputs": [
    {
     "name": "stderr",
     "output_type": "stream",
     "text": [
      "100%|█████████████████████████████████████████████████████████████████████████| 26457/26457 [00:00<00:00, 79424.19it/s]\n"
     ]
    }
   ],
   "source": [
    "train_mean_vector = []\n",
    "for words in tqdm(train_data):\n",
    "    tmp = np.zeros(30)\n",
    "    cnt = 0\n",
    "    for word in words:\n",
    "        try:\n",
    "            tmp += w2v[word]\n",
    "            cnt += 1\n",
    "        except:\n",
    "            pass\n",
    "    tmp /= cnt\n",
    "    train_mean_vector.append(tmp)\n",
    "train_mean_vector = np.array(train_mean_vector)"
   ]
  },
  {
   "cell_type": "code",
   "execution_count": 37,
   "metadata": {},
   "outputs": [
    {
     "name": "stderr",
     "output_type": "stream",
     "text": [
      "100%|█████████████████████████████████████████████████████████████████████████| 10000/10000 [00:00<00:00, 87251.55it/s]\n"
     ]
    }
   ],
   "source": [
    "test_mean_vector = []\n",
    "for words in tqdm(test_data):\n",
    "    tmp = np.zeros(30)\n",
    "    cnt = 0\n",
    "    for word in words:\n",
    "        try:\n",
    "            tmp += w2v[word]\n",
    "            cnt += 1\n",
    "        except:\n",
    "            pass\n",
    "    tmp /= cnt\n",
    "    test_mean_vector.append(tmp)\n",
    "test_mean_vector = np.array(test_mean_vector)"
   ]
  },
  {
   "cell_type": "code",
   "execution_count": 38,
   "metadata": {},
   "outputs": [],
   "source": [
    "trn2 = trn.copy()\n",
    "tst2 = tst.copy()\n",
    "trn2 = trn2.reset_index()\n",
    "tst2 = tst2.reset_index()"
   ]
  },
  {
   "cell_type": "code",
   "execution_count": 39,
   "metadata": {},
   "outputs": [],
   "source": [
    "train_data = list(trn2.groupby('index')['income_age_type'].unique())\n",
    "test_data = list(tst2.groupby('index')['income_age_type'].unique())"
   ]
  },
  {
   "cell_type": "code",
   "execution_count": 40,
   "metadata": {},
   "outputs": [],
   "source": [
    "w2v_input = oversample(train_data, 5)"
   ]
  },
  {
   "cell_type": "code",
   "execution_count": 41,
   "metadata": {},
   "outputs": [],
   "source": [
    "w2v = word2vec.Word2Vec(sentences = w2v_input, size = 30, window = 3, min_count = 1, sg = 1)"
   ]
  },
  {
   "cell_type": "code",
   "execution_count": 42,
   "metadata": {},
   "outputs": [
    {
     "name": "stderr",
     "output_type": "stream",
     "text": [
      "100%|█████████████████████████████████████████████████████████████████████████| 26457/26457 [00:00<00:00, 82894.00it/s]\n"
     ]
    }
   ],
   "source": [
    "train_mean_vector2 = []\n",
    "for words in tqdm(train_data):\n",
    "    tmp = np.zeros(30)\n",
    "    cnt = 0\n",
    "    for word in words:\n",
    "        try:\n",
    "            tmp += w2v[word]\n",
    "            cnt += 1\n",
    "        except:\n",
    "            pass\n",
    "    tmp /= cnt\n",
    "    train_mean_vector2.append(tmp)\n",
    "train_mean_vector2 = np.array(train_mean_vector2)"
   ]
  },
  {
   "cell_type": "code",
   "execution_count": 43,
   "metadata": {},
   "outputs": [
    {
     "name": "stderr",
     "output_type": "stream",
     "text": [
      "100%|█████████████████████████████████████████████████████████████████████████| 10000/10000 [00:00<00:00, 82854.70it/s]\n"
     ]
    }
   ],
   "source": [
    "test_mean_vector2 = []\n",
    "for words in tqdm(test_data):\n",
    "    tmp = np.zeros(30)\n",
    "    cnt = 0\n",
    "    for word in words:\n",
    "        try:\n",
    "            tmp += w2v[word]\n",
    "            cnt += 1\n",
    "        except:\n",
    "            pass\n",
    "    tmp /= cnt\n",
    "    test_mean_vector2.append(tmp)\n",
    "test_mean_vector2 = np.array(test_mean_vector2)"
   ]
  },
  {
   "cell_type": "code",
   "execution_count": 44,
   "metadata": {},
   "outputs": [],
   "source": [
    "trn['car_before>mean'] = trn['car'].astype(str) + \"_\" + trn['before_EMPLOYED>mean'].astype(str)\n",
    "tst['car_before>mean'] = tst['car'].astype(str) + \"_\" + tst['before_EMPLOYED>mean'].astype(str)\n",
    "\n",
    "trn['car_income>mean'] = trn['car'].astype(str) + \"_\" + trn['income>mean'].astype(str)\n",
    "tst['car_income>mean'] = tst['car'].astype(str) + \"_\" + tst['income>mean'].astype(str)\n",
    "\n",
    "trn['car_begin_month>mean'] = trn['car'].astype(str) + \"_\" + trn['begin_month>mean'].astype(str)\n",
    "tst['car_begin_month>mean'] = tst['car'].astype(str) + \"_\" + tst['begin_month>mean'].astype(str)\n",
    "\n",
    "trn['car_income_type'] = trn['car'].astype(str) + \"_\" + trn['income_type'].astype(str)\n",
    "tst['car_income_type'] = tst['car'].astype(str) + \"_\" + tst['income_type'].astype(str)\n",
    "\n",
    "trn['car_begin_month>mean_occyp'] = trn['car'].astype(str) + \"_\" + trn['begin_month>mean'].astype(str) + \"_\" + trn['occyp_type'].astype(str)\n",
    "tst['car_begin_month>mean_occyp'] = tst['car'].astype(str) + \"_\" + tst['begin_month>mean'].astype(str) + \"_\" + tst['occyp_type'].astype(str)"
   ]
  },
  {
   "cell_type": "code",
   "execution_count": 45,
   "metadata": {},
   "outputs": [],
   "source": [
    "trn['child_it']=trn['child_num'].apply(lambda x: 1 if x >0 else 0)\n",
    "tst['child_it']=tst['child_num'].apply(lambda x: 1 if x >0 else 0)\n",
    "trn['marry_child']='no'\n",
    "tst['marry_child']='no'"
   ]
  },
  {
   "cell_type": "code",
   "execution_count": 46,
   "metadata": {},
   "outputs": [],
   "source": [
    "trn.loc[trn[trn.family_type=='Separated'][trn.child_it==1].index,'marry_child']='sep_ch'\n",
    "trn.loc[trn[trn.family_type=='Single / not married'][trn.child_it==1].index,'marry_child']='sin_ch'\n",
    "trn.loc[trn[trn.family_type=='Widow'][trn.child_it==1].index,'marry_child']='wid_ch'\n",
    "\n",
    "tst.loc[tst[tst.family_type=='Separated'][tst.child_it==1].index,'marry_child']='sep_ch'\n",
    "tst.loc[tst[tst.family_type=='Single / not married'][tst.child_it==1].index,'marry_child']='sin_ch'\n",
    "tst.loc[tst[tst.family_type=='Widow'][tst.child_it==1].index,'marry_child']='wid_ch'"
   ]
  },
  {
   "cell_type": "code",
   "execution_count": 47,
   "metadata": {},
   "outputs": [],
   "source": [
    "trn.drop('child_it', axis=1, inplace=True)\n",
    "tst.drop('child_it', axis=1, inplace=True)"
   ]
  },
  {
   "cell_type": "code",
   "execution_count": 48,
   "metadata": {},
   "outputs": [
    {
     "name": "stdout",
     "output_type": "stream",
     "text": [
      "59 19 40\n"
     ]
    }
   ],
   "source": [
    "cat_cols = [x for x in trn.columns if trn[x].dtype == 'object']\n",
    "num_cols = [x for x in trn.columns if x not in cat_cols + [target_col]]\n",
    "\n",
    "feature_cols = num_cols + cat_cols\n",
    "print(len(feature_cols), len(cat_cols), len(num_cols))"
   ]
  },
  {
   "cell_type": "code",
   "execution_count": 49,
   "metadata": {},
   "outputs": [],
   "source": [
    "lbe = LabelEncoder(min_obs=10)\n",
    "trn[cat_cols] = lbe.fit_transform(trn[cat_cols])\n",
    "tst[cat_cols] = lbe.transform(tst[cat_cols])"
   ]
  },
  {
   "cell_type": "code",
   "execution_count": 50,
   "metadata": {},
   "outputs": [],
   "source": [
    "minus = ['begin_month', 'DAYS_BIRTH_month', 'DAYS_BIRTH_week', 'DAYS_EMPLOYED_month', 'DAYS_EMPLOYED_week', 'before_EMPLOYED_month', 'before_EMPLOYED_week']\n",
    "trn[minus] = -trn[minus]\n",
    "tst[minus] = -tst[minus]"
   ]
  },
  {
   "cell_type": "code",
   "execution_count": 51,
   "metadata": {},
   "outputs": [],
   "source": [
    "#trn = pd.concat([trn, pd.get_dummies(trn[cat_cols])], axis=1)\n",
    "#trn.drop(cat_cols, axis=1, inplace=True)"
   ]
  },
  {
   "cell_type": "code",
   "execution_count": 52,
   "metadata": {},
   "outputs": [],
   "source": [
    "#tst = pd.concat([tst, pd.get_dummies(tst[cat_cols])], axis=1)\n",
    "#tst.drop(cat_cols, axis=1, inplace=True)"
   ]
  },
  {
   "cell_type": "code",
   "execution_count": 53,
   "metadata": {},
   "outputs": [],
   "source": [
    "from sklearn.preprocessing import StandardScaler\n",
    "scaler = StandardScaler()\n",
    "trn[num_cols] = scaler.fit_transform(trn[num_cols])\n",
    "tst[num_cols] = scaler.transform(tst[num_cols])"
   ]
  },
  {
   "cell_type": "code",
   "execution_count": 54,
   "metadata": {},
   "outputs": [],
   "source": [
    "train_mean_vector = pd.DataFrame(train_mean_vector)\n",
    "trn = pd.concat([trn, train_mean_vector], axis=1)\n",
    "\n",
    "test_mean_vector = pd.DataFrame(test_mean_vector)\n",
    "test_mean_vector.index = tst.index\n",
    "tst = pd.concat([tst, test_mean_vector], axis=1)"
   ]
  },
  {
   "cell_type": "code",
   "execution_count": 55,
   "metadata": {},
   "outputs": [],
   "source": [
    "train_mean_vector2 = pd.DataFrame(train_mean_vector2)\n",
    "trn = pd.concat([trn, train_mean_vector2], axis=1)\n",
    "\n",
    "test_mean_vector2 = pd.DataFrame(test_mean_vector2)\n",
    "test_mean_vector2.index = tst.index\n",
    "tst = pd.concat([tst, test_mean_vector2], axis=1)"
   ]
  },
  {
   "cell_type": "code",
   "execution_count": 56,
   "metadata": {},
   "outputs": [],
   "source": [
    "#trn[num_cols] = np.log1p(trn[num_cols])\n",
    "#tst[num_cols] = np.log1p(trn[num_cols])"
   ]
  },
  {
   "cell_type": "code",
   "execution_count": 57,
   "metadata": {},
   "outputs": [],
   "source": [
    "y = trn[target_col]\n",
    "n_trn = trn.shape[0]\n",
    "X = trn.drop(target_col, axis=1)\n",
    "X_tst = tst"
   ]
  },
  {
   "cell_type": "code",
   "execution_count": 58,
   "metadata": {},
   "outputs": [
    {
     "data": {
      "text/plain": [
       "((26457, 119), (10000, 119), (26457,))"
      ]
     },
     "execution_count": 58,
     "metadata": {},
     "output_type": "execute_result"
    }
   ],
   "source": [
    "X.shape, X_tst.shape, y.shape"
   ]
  },
  {
   "cell_type": "markdown",
   "metadata": {},
   "source": [
    "### Model Training"
   ]
  },
  {
   "cell_type": "markdown",
   "metadata": {},
   "source": [
    "#### 5-fold Cross Validation + AutoLGB"
   ]
  },
  {
   "cell_type": "code",
   "execution_count": 60,
   "metadata": {},
   "outputs": [
    {
     "name": "stdout",
     "output_type": "stream",
     "text": [
      "100%|██████████████████████████████████████████████| 100/100 [04:49<00:00,  2.90s/trial, best loss: 0.7934693562687717]\n",
      "best iteration: 453\n",
      "selected features (119): ['gender', 'car', 'reality', 'child_num', 'income_total', 'income_type', 'edu_type', 'family_type', 'house_type', 'DAYS_BIRTH', 'DAYS_EMPLOYED', 'work_phone', 'phone', 'email', 'occyp_type', 'family_size', 'begin_month', 'child_ratio', 'employed_ratio', 'DAYS_EMPLOYED_year', 'DAYS_BIRTH_year', 'begin_month_year', 'mean_income_family', 'income_employed', 'income_begin_ratio', 'family_age_ratio', 'family_child_abstract', 'income>mean', 'begin_month>mean', 'family_begin_month', 'DAYS_EMPLOYED_begin_month', 'DAYS_BIRTH_begin_month', 'DAYS_BIRTH_month', 'DAYS_BIRTH_week', 'DAYS_EMPLOYED_month', 'DAYS_EMPLOYED_week', 'before_EMPLOYED', 'before_EMPLOYED_month', 'before_EMPLOYED_week', 'before_EMPLOYED_BIRTH_ratio', 'before_EMPLOYED_ratio', 'before_EMPLOYED>mean', '20ager', '30ager', '40ager', '50ager', '60ager', 'dup', 'income_occyp_type', 'income_age_type', 'edu_occyp_type', 'edu_income_type', 'family_income_type', 'car_before>mean', 'car_income>mean', 'car_begin_month>mean', 'car_income_type', 'car_begin_month>mean_occyp', 'marry_child', 0, 1, 2, 3, 4, 5, 6, 7, 8, 9, 10, 11, 12, 13, 14, 15, 16, 17, 18, 19, 20, 21, 22, 23, 24, 25, 26, 27, 28, 29, 0, 1, 2, 3, 4, 5, 6, 7, 8, 9, 10, 11, 12, 13, 14, 15, 16, 17, 18, 19, 20, 21, 22, 23, 24, 25, 26, 27, 28, 29]\n",
      "{'bagging_fraction': 0.8,\n",
      " 'bagging_freq': 1,\n",
      " 'boosting': 'gbdt',\n",
      " 'feature_fraction': 0.5,\n",
      " 'feature_pre_filter': False,\n",
      " 'lambda_l1': 0,\n",
      " 'lambda_l2': 0,\n",
      " 'learning_rate': 0.01071701069822783,\n",
      " 'max_depth': -1,\n",
      " 'metric': 'multi_logloss',\n",
      " 'min_child_samples': 10,\n",
      " 'num_class': 3,\n",
      " 'num_leaves': 63,\n",
      " 'num_threads': -1,\n",
      " 'objective': 'multiclass',\n",
      " 'seed': 42,\n",
      " 'verbosity': -1}\n"
     ]
    },
    {
     "ename": "LightGBMError",
     "evalue": "The number of features in data (299) is not the same as it was in training data (179).",
     "output_type": "error",
     "traceback": [
      "\u001b[1;31m---------------------------------------------------------------------------\u001b[0m",
      "\u001b[1;31mLightGBMError\u001b[0m                             Traceback (most recent call last)",
      "\u001b[1;32m<ipython-input-60-97113397fc2b>\u001b[0m in \u001b[0;36m<module>\u001b[1;34m\u001b[0m\n\u001b[0;32m     24\u001b[0m         \u001b[0mclf\u001b[0m \u001b[1;33m=\u001b[0m \u001b[0mlgb\u001b[0m\u001b[1;33m.\u001b[0m\u001b[0mtrain\u001b[0m\u001b[1;33m(\u001b[0m\u001b[0mparams\u001b[0m\u001b[1;33m,\u001b[0m \u001b[0mtrain_data\u001b[0m\u001b[1;33m,\u001b[0m \u001b[0mn_best\u001b[0m\u001b[1;33m,\u001b[0m \u001b[0mverbose_eval\u001b[0m\u001b[1;33m=\u001b[0m\u001b[1;36m100\u001b[0m\u001b[1;33m)\u001b[0m\u001b[1;33m\u001b[0m\u001b[1;33m\u001b[0m\u001b[0m\n\u001b[0;32m     25\u001b[0m \u001b[1;33m\u001b[0m\u001b[0m\n\u001b[1;32m---> 26\u001b[1;33m     \u001b[0mp\u001b[0m\u001b[1;33m[\u001b[0m\u001b[0mi_val\u001b[0m\u001b[1;33m]\u001b[0m \u001b[1;33m=\u001b[0m \u001b[0mclf\u001b[0m\u001b[1;33m.\u001b[0m\u001b[0mpredict\u001b[0m\u001b[1;33m(\u001b[0m\u001b[0mX\u001b[0m\u001b[1;33m[\u001b[0m\u001b[0mfeatures\u001b[0m\u001b[1;33m]\u001b[0m\u001b[1;33m.\u001b[0m\u001b[0miloc\u001b[0m\u001b[1;33m[\u001b[0m\u001b[0mi_val\u001b[0m\u001b[1;33m]\u001b[0m\u001b[1;33m)\u001b[0m\u001b[1;33m\u001b[0m\u001b[1;33m\u001b[0m\u001b[0m\n\u001b[0m\u001b[0;32m     27\u001b[0m     \u001b[0mp_tst\u001b[0m \u001b[1;33m+=\u001b[0m \u001b[0mclf\u001b[0m\u001b[1;33m.\u001b[0m\u001b[0mpredict\u001b[0m\u001b[1;33m(\u001b[0m\u001b[0mX_tst\u001b[0m\u001b[1;33m[\u001b[0m\u001b[0mfeatures\u001b[0m\u001b[1;33m]\u001b[0m\u001b[1;33m)\u001b[0m \u001b[1;33m/\u001b[0m \u001b[0mn_fold\u001b[0m   \u001b[1;31m# oof\u001b[0m\u001b[1;33m\u001b[0m\u001b[1;33m\u001b[0m\u001b[0m\n",
      "\u001b[1;32m~\\anaconda3\\lib\\site-packages\\kaggler\\model\\automl.py\u001b[0m in \u001b[0;36mpredict\u001b[1;34m(self, X)\u001b[0m\n\u001b[0;32m    416\u001b[0m \u001b[1;33m\u001b[0m\u001b[0m\n\u001b[0;32m    417\u001b[0m     \u001b[1;32mdef\u001b[0m \u001b[0mpredict\u001b[0m\u001b[1;33m(\u001b[0m\u001b[0mself\u001b[0m\u001b[1;33m,\u001b[0m \u001b[0mX\u001b[0m\u001b[1;33m)\u001b[0m\u001b[1;33m:\u001b[0m\u001b[1;33m\u001b[0m\u001b[1;33m\u001b[0m\u001b[0m\n\u001b[1;32m--> 418\u001b[1;33m         \u001b[1;32mreturn\u001b[0m \u001b[0mself\u001b[0m\u001b[1;33m.\u001b[0m\u001b[0mmodel\u001b[0m\u001b[1;33m.\u001b[0m\u001b[0mpredict\u001b[0m\u001b[1;33m(\u001b[0m\u001b[0mX\u001b[0m\u001b[1;33m[\u001b[0m\u001b[0mself\u001b[0m\u001b[1;33m.\u001b[0m\u001b[0mfeatures\u001b[0m\u001b[1;33m]\u001b[0m\u001b[1;33m,\u001b[0m \u001b[0mnum_iteration\u001b[0m\u001b[1;33m=\u001b[0m\u001b[0mself\u001b[0m\u001b[1;33m.\u001b[0m\u001b[0mn_best\u001b[0m\u001b[1;33m)\u001b[0m\u001b[1;33m\u001b[0m\u001b[1;33m\u001b[0m\u001b[0m\n\u001b[0m",
      "\u001b[1;32m~\\anaconda3\\lib\\site-packages\\lightgbm\\basic.py\u001b[0m in \u001b[0;36mpredict\u001b[1;34m(self, data, num_iteration, raw_score, pred_leaf, pred_contrib, data_has_header, is_reshape, **kwargs)\u001b[0m\n\u001b[0;32m   2411\u001b[0m         \u001b[1;32mif\u001b[0m \u001b[0mnum_iteration\u001b[0m \u001b[1;32mis\u001b[0m \u001b[1;32mNone\u001b[0m\u001b[1;33m:\u001b[0m\u001b[1;33m\u001b[0m\u001b[1;33m\u001b[0m\u001b[0m\n\u001b[0;32m   2412\u001b[0m             \u001b[0mnum_iteration\u001b[0m \u001b[1;33m=\u001b[0m \u001b[0mself\u001b[0m\u001b[1;33m.\u001b[0m\u001b[0mbest_iteration\u001b[0m\u001b[1;33m\u001b[0m\u001b[1;33m\u001b[0m\u001b[0m\n\u001b[1;32m-> 2413\u001b[1;33m         return predictor.predict(data, num_iteration,\n\u001b[0m\u001b[0;32m   2414\u001b[0m                                  \u001b[0mraw_score\u001b[0m\u001b[1;33m,\u001b[0m \u001b[0mpred_leaf\u001b[0m\u001b[1;33m,\u001b[0m \u001b[0mpred_contrib\u001b[0m\u001b[1;33m,\u001b[0m\u001b[1;33m\u001b[0m\u001b[1;33m\u001b[0m\u001b[0m\n\u001b[0;32m   2415\u001b[0m                                  data_has_header, is_reshape)\n",
      "\u001b[1;32m~\\anaconda3\\lib\\site-packages\\lightgbm\\basic.py\u001b[0m in \u001b[0;36mpredict\u001b[1;34m(self, data, num_iteration, raw_score, pred_leaf, pred_contrib, data_has_header, is_reshape)\u001b[0m\n\u001b[0;32m    533\u001b[0m             \u001b[0mpreds\u001b[0m\u001b[1;33m,\u001b[0m \u001b[0mnrow\u001b[0m \u001b[1;33m=\u001b[0m \u001b[0mself\u001b[0m\u001b[1;33m.\u001b[0m\u001b[0m__pred_for_csc\u001b[0m\u001b[1;33m(\u001b[0m\u001b[0mdata\u001b[0m\u001b[1;33m,\u001b[0m \u001b[0mnum_iteration\u001b[0m\u001b[1;33m,\u001b[0m \u001b[0mpredict_type\u001b[0m\u001b[1;33m)\u001b[0m\u001b[1;33m\u001b[0m\u001b[1;33m\u001b[0m\u001b[0m\n\u001b[0;32m    534\u001b[0m         \u001b[1;32melif\u001b[0m \u001b[0misinstance\u001b[0m\u001b[1;33m(\u001b[0m\u001b[0mdata\u001b[0m\u001b[1;33m,\u001b[0m \u001b[0mnp\u001b[0m\u001b[1;33m.\u001b[0m\u001b[0mndarray\u001b[0m\u001b[1;33m)\u001b[0m\u001b[1;33m:\u001b[0m\u001b[1;33m\u001b[0m\u001b[1;33m\u001b[0m\u001b[0m\n\u001b[1;32m--> 535\u001b[1;33m             \u001b[0mpreds\u001b[0m\u001b[1;33m,\u001b[0m \u001b[0mnrow\u001b[0m \u001b[1;33m=\u001b[0m \u001b[0mself\u001b[0m\u001b[1;33m.\u001b[0m\u001b[0m__pred_for_np2d\u001b[0m\u001b[1;33m(\u001b[0m\u001b[0mdata\u001b[0m\u001b[1;33m,\u001b[0m \u001b[0mnum_iteration\u001b[0m\u001b[1;33m,\u001b[0m \u001b[0mpredict_type\u001b[0m\u001b[1;33m)\u001b[0m\u001b[1;33m\u001b[0m\u001b[1;33m\u001b[0m\u001b[0m\n\u001b[0m\u001b[0;32m    536\u001b[0m         \u001b[1;32melif\u001b[0m \u001b[0misinstance\u001b[0m\u001b[1;33m(\u001b[0m\u001b[0mdata\u001b[0m\u001b[1;33m,\u001b[0m \u001b[0mlist\u001b[0m\u001b[1;33m)\u001b[0m\u001b[1;33m:\u001b[0m\u001b[1;33m\u001b[0m\u001b[1;33m\u001b[0m\u001b[0m\n\u001b[0;32m    537\u001b[0m             \u001b[1;32mtry\u001b[0m\u001b[1;33m:\u001b[0m\u001b[1;33m\u001b[0m\u001b[1;33m\u001b[0m\u001b[0m\n",
      "\u001b[1;32m~\\anaconda3\\lib\\site-packages\\lightgbm\\basic.py\u001b[0m in \u001b[0;36m__pred_for_np2d\u001b[1;34m(self, mat, num_iteration, predict_type)\u001b[0m\n\u001b[0;32m    621\u001b[0m             \u001b[1;32mreturn\u001b[0m \u001b[0mpreds\u001b[0m\u001b[1;33m,\u001b[0m \u001b[0mnrow\u001b[0m\u001b[1;33m\u001b[0m\u001b[1;33m\u001b[0m\u001b[0m\n\u001b[0;32m    622\u001b[0m         \u001b[1;32melse\u001b[0m\u001b[1;33m:\u001b[0m\u001b[1;33m\u001b[0m\u001b[1;33m\u001b[0m\u001b[0m\n\u001b[1;32m--> 623\u001b[1;33m             \u001b[1;32mreturn\u001b[0m \u001b[0minner_predict\u001b[0m\u001b[1;33m(\u001b[0m\u001b[0mmat\u001b[0m\u001b[1;33m,\u001b[0m \u001b[0mnum_iteration\u001b[0m\u001b[1;33m,\u001b[0m \u001b[0mpredict_type\u001b[0m\u001b[1;33m)\u001b[0m\u001b[1;33m\u001b[0m\u001b[1;33m\u001b[0m\u001b[0m\n\u001b[0m\u001b[0;32m    624\u001b[0m \u001b[1;33m\u001b[0m\u001b[0m\n\u001b[0;32m    625\u001b[0m     \u001b[1;32mdef\u001b[0m \u001b[0m__pred_for_csr\u001b[0m\u001b[1;33m(\u001b[0m\u001b[0mself\u001b[0m\u001b[1;33m,\u001b[0m \u001b[0mcsr\u001b[0m\u001b[1;33m,\u001b[0m \u001b[0mnum_iteration\u001b[0m\u001b[1;33m,\u001b[0m \u001b[0mpredict_type\u001b[0m\u001b[1;33m)\u001b[0m\u001b[1;33m:\u001b[0m\u001b[1;33m\u001b[0m\u001b[1;33m\u001b[0m\u001b[0m\n",
      "\u001b[1;32m~\\anaconda3\\lib\\site-packages\\lightgbm\\basic.py\u001b[0m in \u001b[0;36minner_predict\u001b[1;34m(mat, num_iteration, predict_type, preds)\u001b[0m\n\u001b[0;32m    592\u001b[0m                 \u001b[1;32mraise\u001b[0m \u001b[0mValueError\u001b[0m\u001b[1;33m(\u001b[0m\u001b[1;34m\"Wrong length of pre-allocated predict array\"\u001b[0m\u001b[1;33m)\u001b[0m\u001b[1;33m\u001b[0m\u001b[1;33m\u001b[0m\u001b[0m\n\u001b[0;32m    593\u001b[0m             \u001b[0mout_num_preds\u001b[0m \u001b[1;33m=\u001b[0m \u001b[0mctypes\u001b[0m\u001b[1;33m.\u001b[0m\u001b[0mc_int64\u001b[0m\u001b[1;33m(\u001b[0m\u001b[1;36m0\u001b[0m\u001b[1;33m)\u001b[0m\u001b[1;33m\u001b[0m\u001b[1;33m\u001b[0m\u001b[0m\n\u001b[1;32m--> 594\u001b[1;33m             _safe_call(_LIB.LGBM_BoosterPredictForMat(\n\u001b[0m\u001b[0;32m    595\u001b[0m                 \u001b[0mself\u001b[0m\u001b[1;33m.\u001b[0m\u001b[0mhandle\u001b[0m\u001b[1;33m,\u001b[0m\u001b[1;33m\u001b[0m\u001b[1;33m\u001b[0m\u001b[0m\n\u001b[0;32m    596\u001b[0m                 \u001b[0mptr_data\u001b[0m\u001b[1;33m,\u001b[0m\u001b[1;33m\u001b[0m\u001b[1;33m\u001b[0m\u001b[0m\n",
      "\u001b[1;32m~\\anaconda3\\lib\\site-packages\\lightgbm\\basic.py\u001b[0m in \u001b[0;36m_safe_call\u001b[1;34m(ret)\u001b[0m\n\u001b[0;32m     43\u001b[0m     \"\"\"\n\u001b[0;32m     44\u001b[0m     \u001b[1;32mif\u001b[0m \u001b[0mret\u001b[0m \u001b[1;33m!=\u001b[0m \u001b[1;36m0\u001b[0m\u001b[1;33m:\u001b[0m\u001b[1;33m\u001b[0m\u001b[1;33m\u001b[0m\u001b[0m\n\u001b[1;32m---> 45\u001b[1;33m         \u001b[1;32mraise\u001b[0m \u001b[0mLightGBMError\u001b[0m\u001b[1;33m(\u001b[0m\u001b[0mdecode_string\u001b[0m\u001b[1;33m(\u001b[0m\u001b[0m_LIB\u001b[0m\u001b[1;33m.\u001b[0m\u001b[0mLGBM_GetLastError\u001b[0m\u001b[1;33m(\u001b[0m\u001b[1;33m)\u001b[0m\u001b[1;33m)\u001b[0m\u001b[1;33m)\u001b[0m\u001b[1;33m\u001b[0m\u001b[1;33m\u001b[0m\u001b[0m\n\u001b[0m\u001b[0;32m     46\u001b[0m \u001b[1;33m\u001b[0m\u001b[0m\n\u001b[0;32m     47\u001b[0m \u001b[1;33m\u001b[0m\u001b[0m\n",
      "\u001b[1;31mLightGBMError\u001b[0m: The number of features in data (299) is not the same as it was in training data (179)."
     ]
    }
   ],
   "source": [
    "n_class = 3\n",
    "n_fold = 5\n",
    "\n",
    "params = {'num_class': n_class}\n",
    "\n",
    "cv = StratifiedKFold(n_splits=n_fold)\n",
    "\n",
    "p = np.zeros((X.shape[0], n_class), dtype=float)\n",
    "p_tst = np.zeros((X_tst.shape[0], n_class), dtype=float)\n",
    "for i_cv, (i_trn, i_val) in enumerate(cv.split(X, y)):\n",
    "    if i_cv == 0:\n",
    "        clf = AutoLGB(objective='multiclass', metric='multi_logloss', params=params, \n",
    "                      feature_selection=False, n_est=10000)\n",
    "        clf.tune(X.iloc[i_trn], y[i_trn])\n",
    "        n_best = clf.n_best\n",
    "        features = clf.features\n",
    "        params = clf.params\n",
    "        print(f'best iteration: {n_best}')\n",
    "        print(f'selected features ({len(features)}): {features}')        \n",
    "        pprint(params)\n",
    "        clf.fit(X.iloc[i_trn], y[i_trn])\n",
    "    else:\n",
    "        train_data = lgb.Dataset(X[features].iloc[i_trn], label=y[i_trn])\n",
    "        clf = lgb.train(params, train_data, n_best, verbose_eval=100)\n",
    "    \n",
    "    p[i_val] = clf.predict(X[features].iloc[i_val])\n",
    "    p_tst += clf.predict(X_tst[features]) / n_fold   # oof"
   ]
  },
  {
   "cell_type": "code",
   "execution_count": 61,
   "metadata": {},
   "outputs": [
    {
     "name": "stdout",
     "output_type": "stream",
     "text": [
      "CV Log Loss: 1.098612\n"
     ]
    }
   ],
   "source": [
    "print(f'CV Log Loss: {log_loss(y, p):.6f}')\n",
    "np.savetxt(predict_val_file, p, fmt='%.6f')\n",
    "np.savetxt(predict_tst_file, p_tst, fmt='%.6f')"
   ]
  },
  {
   "cell_type": "code",
   "execution_count": 62,
   "metadata": {},
   "outputs": [
    {
     "data": {
      "text/html": [
       "<div>\n",
       "<style scoped>\n",
       "    .dataframe tbody tr th:only-of-type {\n",
       "        vertical-align: middle;\n",
       "    }\n",
       "\n",
       "    .dataframe tbody tr th {\n",
       "        vertical-align: top;\n",
       "    }\n",
       "\n",
       "    .dataframe thead th {\n",
       "        text-align: right;\n",
       "    }\n",
       "</style>\n",
       "<table border=\"1\" class=\"dataframe\">\n",
       "  <thead>\n",
       "    <tr style=\"text-align: right;\">\n",
       "      <th></th>\n",
       "      <th>0</th>\n",
       "      <th>1</th>\n",
       "      <th>2</th>\n",
       "    </tr>\n",
       "    <tr>\n",
       "      <th>index</th>\n",
       "      <th></th>\n",
       "      <th></th>\n",
       "      <th></th>\n",
       "    </tr>\n",
       "  </thead>\n",
       "  <tbody>\n",
       "    <tr>\n",
       "      <th>26457</th>\n",
       "      <td>0.0</td>\n",
       "      <td>0.0</td>\n",
       "      <td>0.0</td>\n",
       "    </tr>\n",
       "    <tr>\n",
       "      <th>26458</th>\n",
       "      <td>0.0</td>\n",
       "      <td>0.0</td>\n",
       "      <td>0.0</td>\n",
       "    </tr>\n",
       "    <tr>\n",
       "      <th>26459</th>\n",
       "      <td>0.0</td>\n",
       "      <td>0.0</td>\n",
       "      <td>0.0</td>\n",
       "    </tr>\n",
       "    <tr>\n",
       "      <th>26460</th>\n",
       "      <td>0.0</td>\n",
       "      <td>0.0</td>\n",
       "      <td>0.0</td>\n",
       "    </tr>\n",
       "    <tr>\n",
       "      <th>26461</th>\n",
       "      <td>0.0</td>\n",
       "      <td>0.0</td>\n",
       "      <td>0.0</td>\n",
       "    </tr>\n",
       "  </tbody>\n",
       "</table>\n",
       "</div>"
      ],
      "text/plain": [
       "         0    1    2\n",
       "index               \n",
       "26457  0.0  0.0  0.0\n",
       "26458  0.0  0.0  0.0\n",
       "26459  0.0  0.0  0.0\n",
       "26460  0.0  0.0  0.0\n",
       "26461  0.0  0.0  0.0"
      ]
     },
     "execution_count": 62,
     "metadata": {},
     "output_type": "execute_result"
    }
   ],
   "source": [
    "sub[sub.columns] = p_tst\n",
    "sub.head()"
   ]
  },
  {
   "cell_type": "code",
   "execution_count": 33,
   "metadata": {},
   "outputs": [],
   "source": [
    "sub.to_csv('0514(feature+w2v).csv')"
   ]
  },
  {
   "cell_type": "markdown",
   "metadata": {},
   "source": [
    "#### LGBM 모델"
   ]
  },
  {
   "cell_type": "code",
   "execution_count": 60,
   "metadata": {},
   "outputs": [],
   "source": [
    "ftr = X\n",
    "target = y"
   ]
  },
  {
   "cell_type": "code",
   "execution_count": 61,
   "metadata": {},
   "outputs": [
    {
     "data": {
      "text/plain": [
       "((18519, 119), (7938, 119))"
      ]
     },
     "execution_count": 61,
     "metadata": {},
     "output_type": "execute_result"
    }
   ],
   "source": [
    "from sklearn.model_selection import train_test_split\n",
    "\n",
    "train_x, valid_x, train_y, valid_y = train_test_split(ftr, target, test_size=0.3, random_state=0)\n",
    "train_x.shape, valid_x.shape"
   ]
  },
  {
   "cell_type": "code",
   "execution_count": 62,
   "metadata": {},
   "outputs": [
    {
     "name": "stdout",
     "output_type": "stream",
     "text": [
      "Training until validation scores don't improve for 50 rounds\n",
      "[100]\ttraining's multi_logloss: 0.760138\tvalid_1's multi_logloss: 0.792491\n",
      "[200]\ttraining's multi_logloss: 0.711859\tvalid_1's multi_logloss: 0.773469\n",
      "[300]\ttraining's multi_logloss: 0.675372\tvalid_1's multi_logloss: 0.762249\n",
      "[400]\ttraining's multi_logloss: 0.644813\tvalid_1's multi_logloss: 0.754832\n",
      "[500]\ttraining's multi_logloss: 0.617214\tvalid_1's multi_logloss: 0.748687\n",
      "[600]\ttraining's multi_logloss: 0.592946\tvalid_1's multi_logloss: 0.744953\n",
      "[700]\ttraining's multi_logloss: 0.571208\tvalid_1's multi_logloss: 0.742829\n",
      "[800]\ttraining's multi_logloss: 0.551293\tvalid_1's multi_logloss: 0.741567\n",
      "[900]\ttraining's multi_logloss: 0.531994\tvalid_1's multi_logloss: 0.740739\n",
      "[1000]\ttraining's multi_logloss: 0.514146\tvalid_1's multi_logloss: 0.739937\n",
      "Did not meet early stopping. Best iteration is:\n",
      "[1000]\ttraining's multi_logloss: 0.514146\tvalid_1's multi_logloss: 0.739937\n"
     ]
    },
    {
     "data": {
      "text/plain": [
       "LGBMClassifier(learning_rate=0.02, max_depth=12, n_estimators=1000,\n",
       "               num_leaves=32, silent=-1, subsample=0.8, verbose=-1)"
      ]
     },
     "execution_count": 62,
     "metadata": {},
     "output_type": "execute_result"
    }
   ],
   "source": [
    "from lightgbm import LGBMClassifier\n",
    "\n",
    "clf = LGBMClassifier(\n",
    "        n_jobs=-1,\n",
    "        n_estimators=1000,\n",
    "        learning_rate=0.02,\n",
    "        num_leaves=32,\n",
    "        subsample=0.8,\n",
    "        max_depth=12,\n",
    "        silent=-1,\n",
    "        verbose=-1\n",
    "        )\n",
    "\n",
    "clf.fit(train_x, train_y, eval_set=[(train_x, train_y), (valid_x, valid_y)], eval_metric='logloss', \n",
    "        verbose=100, early_stopping_rounds=50)"
   ]
  },
  {
   "cell_type": "code",
   "execution_count": 117,
   "metadata": {},
   "outputs": [
    {
     "data": {
      "text/plain": [
       "<AxesSubplot:title={'center':'Feature importance'}, xlabel='Feature importance', ylabel='Features'>"
      ]
     },
     "execution_count": 117,
     "metadata": {},
     "output_type": "execute_result"
    },
    {
     "data": {
      "image/png": "[encoded data removed]",
      "text/plain": [
       "<Figure size 1152x2304 with 1 Axes>"
      ]
     },
     "metadata": {},
     "output_type": "display_data"
    }
   ],
   "source": [
    "from lightgbm import plot_importance\n",
    "\n",
    "plot_importance(clf, figsize=(16, 32), max_num_features=100)"
   ]
  },
  {
   "cell_type": "markdown",
   "metadata": {},
   "source": [
    "#### Feature Selection & Cross Validation"
   ]
  },
  {
   "cell_type": "code",
   "execution_count": 63,
   "metadata": {},
   "outputs": [],
   "source": [
    "from sklearn.feature_selection import SelectFromModel\n",
    "smf = SelectFromModel(clf, threshold='median')\n",
    "smf.fit(ftr, target)\n",
    "X_new = smf.transform(ftr)\n",
    "X_te_new = smf.transform(X_tst)\n",
    "feature_idx = smf.get_support()\n",
    "feature_name = ftr.columns[feature_idx]"
   ]
  },
  {
   "cell_type": "code",
   "execution_count": 64,
   "metadata": {},
   "outputs": [
    {
     "data": {
      "text/plain": [
       "Index([                     'gender',                     'reality',\n",
       "                      'income_total',                 'family_type',\n",
       "                        'house_type',                  'DAYS_BIRTH',\n",
       "                     'DAYS_EMPLOYED',                  'work_phone',\n",
       "                             'phone',                 'begin_month',\n",
       "                    'employed_ratio',          'mean_income_family',\n",
       "                   'income_employed',          'income_begin_ratio',\n",
       "                  'family_age_ratio',          'family_begin_month',\n",
       "         'DAYS_EMPLOYED_begin_month',      'DAYS_BIRTH_begin_month',\n",
       "                  'DAYS_BIRTH_month',             'DAYS_BIRTH_week',\n",
       "               'DAYS_EMPLOYED_month',          'DAYS_EMPLOYED_week',\n",
       "                   'before_EMPLOYED',       'before_EMPLOYED_month',\n",
       "              'before_EMPLOYED_week', 'before_EMPLOYED_BIRTH_ratio',\n",
       "             'before_EMPLOYED_ratio',           'income_occyp_type',\n",
       "                    'edu_occyp_type',             'edu_income_type',\n",
       "                'family_income_type',             'car_income>mean',\n",
       "                   'car_income_type',  'car_begin_month>mean_occyp',\n",
       "                                   1,                             2,\n",
       "                                   3,                             5,\n",
       "                                   6,                             7,\n",
       "                                   8,                             9,\n",
       "                                  10,                            11,\n",
       "                                  12,                            13,\n",
       "                                  14,                            15,\n",
       "                                  16,                            17,\n",
       "                                  18,                            19,\n",
       "                                  20,                            22,\n",
       "                                  23,                            24,\n",
       "                                  26,                            27,\n",
       "                                  28,                            29],\n",
       "      dtype='object')"
      ]
     },
     "execution_count": 64,
     "metadata": {},
     "output_type": "execute_result"
    }
   ],
   "source": [
    "ftr.columns[feature_idx]"
   ]
  },
  {
   "cell_type": "code",
   "execution_count": 65,
   "metadata": {},
   "outputs": [],
   "source": [
    "X_new = pd.DataFrame(X_new)\n",
    "X_te_new = pd.DataFrame(X_te_new)\n",
    "\n",
    "X_new.columns = feature_name\n",
    "X_te_new.columns = feature_name"
   ]
  },
  {
   "cell_type": "code",
   "execution_count": 66,
   "metadata": {},
   "outputs": [
    {
     "name": "stdout",
     "output_type": "stream",
     "text": [
      "교차 검증별 정확도: [-0.7275 -0.7323 -0.7347 -0.7371 -0.7326]\n",
      "평균 검증 정확도: -0.7328\n"
     ]
    }
   ],
   "source": [
    "from sklearn.model_selection import cross_val_score\n",
    "\n",
    "scores = cross_val_score(clf, X_new, target, scoring='neg_log_loss', cv=5)\n",
    "print('교차 검증별 정확도:', np.round(scores, 4))\n",
    "print('평균 검증 정확도:', np.round(np.mean(scores), 4))"
   ]
  },
  {
   "cell_type": "code",
   "execution_count": 68,
   "metadata": {},
   "outputs": [],
   "source": [
    "#X_new.to_csv('best_tillnow.csv')\n",
    "#X_te_new.to_csv('best_tillnow_tst.csv')"
   ]
  },
  {
   "cell_type": "markdown",
   "metadata": {},
   "source": [
    "#### Bayesian Opt"
   ]
  },
  {
   "cell_type": "code",
   "execution_count": 128,
   "metadata": {},
   "outputs": [],
   "source": [
    "ftr = X_new\n",
    "target = y"
   ]
  },
  {
   "cell_type": "code",
   "execution_count": 129,
   "metadata": {},
   "outputs": [],
   "source": [
    "from bayes_opt import BayesianOptimization"
   ]
  },
  {
   "cell_type": "code",
   "execution_count": 130,
   "metadata": {},
   "outputs": [
    {
     "data": {
      "text/plain": [
       "((18519, 60), (7938, 60))"
      ]
     },
     "execution_count": 130,
     "metadata": {},
     "output_type": "execute_result"
    }
   ],
   "source": [
    "train_x, valid_x, train_y, valid_y = train_test_split(ftr, target, test_size=0.3, random_state=0)\n",
    "train_x.shape, valid_x.shape"
   ]
  },
  {
   "cell_type": "code",
   "execution_count": 131,
   "metadata": {},
   "outputs": [],
   "source": [
    "bayesian_params = {\n",
    "    'max_depth':(8, 16),\n",
    "    'num_leaves':(24, 64),\n",
    "    'min_child_samples':(10, 200),\n",
    "    'min_child_weight':(1, 50),\n",
    "    'subsample':(0.5, 1),\n",
    "    'colsample_bytree':(0.5, 1),\n",
    "    'max_bin':(10, 500),\n",
    "    'reg_lambda':(0.001, 10),\n",
    "    'reg_alpha':(0.01, 50)\n",
    "}"
   ]
  },
  {
   "cell_type": "code",
   "execution_count": 132,
   "metadata": {},
   "outputs": [],
   "source": [
    "def lgb_log_eval(max_depth, num_leaves, min_child_samples, min_child_weight, subsample, \n",
    "                colsample_bytree, max_bin, reg_lambda, reg_alpha):\n",
    "    \n",
    "    params = {\n",
    "        \"n_estimators\":2000, \n",
    "        \"learning_rate\":0.02,\n",
    "        'max_depth':int(round(max_depth)),\n",
    "        'num_leaves':int(round(num_leaves)),\n",
    "        'min_child_samples': int(round(min_child_samples)),\n",
    "        'min_child_weight': int(round(min_child_weight)),\n",
    "        'subsample':max(min(subsample, 1), 0),\n",
    "        'colsample_bytree':max(min(colsample_bytree, 1), 0),\n",
    "        'reg_lambda': max(reg_lambda,0),\n",
    "        'reg_alpha': max(reg_alpha, 0)\n",
    "    }\n",
    "    \n",
    "    lgb_model = LGBMClassifier(**params)\n",
    "    lgb_model.fit(train_x, train_y, eval_set=[(train_x, train_y), (valid_x, valid_y)], eval_metric='logloss', verbose=100, \n",
    "                early_stopping_rounds=100)\n",
    "    valid_pred = lgb_model.predict_proba(valid_x)\n",
    "    log_score = log_loss(valid_y, valid_pred)\n",
    "    \n",
    "    return log_score"
   ]
  },
  {
   "cell_type": "code",
   "execution_count": 133,
   "metadata": {},
   "outputs": [
    {
     "name": "stdout",
     "output_type": "stream",
     "text": [
      "|   iter    |  target   | colsam... |  max_bin  | max_depth | min_ch... | min_ch... | num_le... | reg_alpha | reg_la... | subsample |\n",
      "-------------------------------------------------------------------------------------------------------------------------------------\n",
      "Training until validation scores don't improve for 100 rounds\n",
      "[100]\ttraining's multi_logloss: 0.798787\tvalid_1's multi_logloss: 0.807418\n",
      "[200]\ttraining's multi_logloss: 0.768945\tvalid_1's multi_logloss: 0.790937\n",
      "[300]\ttraining's multi_logloss: 0.747585\tvalid_1's multi_logloss: 0.781943\n",
      "[400]\ttraining's multi_logloss: 0.730352\tvalid_1's multi_logloss: 0.775688\n",
      "[500]\ttraining's multi_logloss: 0.717677\tvalid_1's multi_logloss: 0.77124\n",
      "[600]\ttraining's multi_logloss: 0.710302\tvalid_1's multi_logloss: 0.769272\n",
      "[700]\ttraining's multi_logloss: 0.705531\tvalid_1's multi_logloss: 0.768082\n",
      "[800]\ttraining's multi_logloss: 0.703722\tvalid_1's multi_logloss: 0.767632\n",
      "[900]\ttraining's multi_logloss: 0.702873\tvalid_1's multi_logloss: 0.767509\n",
      "[1000]\ttraining's multi_logloss: 0.702486\tvalid_1's multi_logloss: 0.767471\n",
      "[1100]\ttraining's multi_logloss: 0.70234\tvalid_1's multi_logloss: 0.767475\n",
      "Early stopping, best iteration is:\n",
      "[1065]\ttraining's multi_logloss: 0.702371\tvalid_1's multi_logloss: 0.767463\n",
      "| \u001b[0m 1       \u001b[0m | \u001b[0m 0.7675  \u001b[0m | \u001b[0m 0.7744  \u001b[0m | \u001b[0m 360.4   \u001b[0m | \u001b[0m 12.82   \u001b[0m | \u001b[0m 113.5   \u001b[0m | \u001b[0m 21.76   \u001b[0m | \u001b[0m 49.84   \u001b[0m | \u001b[0m 21.88   \u001b[0m | \u001b[0m 8.918   \u001b[0m | \u001b[0m 0.9818  \u001b[0m |\n",
      "Training until validation scores don't improve for 100 rounds\n",
      "[100]\ttraining's multi_logloss: 0.780997\tvalid_1's multi_logloss: 0.799167\n",
      "[200]\ttraining's multi_logloss: 0.744185\tvalid_1's multi_logloss: 0.780919\n",
      "[300]\ttraining's multi_logloss: 0.717121\tvalid_1's multi_logloss: 0.77066\n",
      "[400]\ttraining's multi_logloss: 0.69496\tvalid_1's multi_logloss: 0.76326\n",
      "[500]\ttraining's multi_logloss: 0.676295\tvalid_1's multi_logloss: 0.758445\n",
      "[600]\ttraining's multi_logloss: 0.659378\tvalid_1's multi_logloss: 0.755129\n",
      "[700]\ttraining's multi_logloss: 0.643992\tvalid_1's multi_logloss: 0.752284\n",
      "[800]\ttraining's multi_logloss: 0.629809\tvalid_1's multi_logloss: 0.750215\n",
      "[900]\ttraining's multi_logloss: 0.616533\tvalid_1's multi_logloss: 0.74838\n",
      "[1000]\ttraining's multi_logloss: 0.604064\tvalid_1's multi_logloss: 0.746682\n",
      "[1100]\ttraining's multi_logloss: 0.592555\tvalid_1's multi_logloss: 0.745608\n",
      "[1200]\ttraining's multi_logloss: 0.581881\tvalid_1's multi_logloss: 0.744672\n",
      "[1300]\ttraining's multi_logloss: 0.571559\tvalid_1's multi_logloss: 0.744251\n",
      "[1400]\ttraining's multi_logloss: 0.561666\tvalid_1's multi_logloss: 0.7435\n",
      "[1500]\ttraining's multi_logloss: 0.552382\tvalid_1's multi_logloss: 0.742879\n",
      "[1600]\ttraining's multi_logloss: 0.543639\tvalid_1's multi_logloss: 0.742663\n",
      "[1700]\ttraining's multi_logloss: 0.535416\tvalid_1's multi_logloss: 0.742799\n",
      "Early stopping, best iteration is:\n",
      "[1600]\ttraining's multi_logloss: 0.543639\tvalid_1's multi_logloss: 0.742663\n",
      "| \u001b[0m 2       \u001b[0m | \u001b[0m 0.7427  \u001b[0m | \u001b[0m 0.6917  \u001b[0m | \u001b[0m 397.9   \u001b[0m | \u001b[0m 12.23   \u001b[0m | \u001b[0m 117.9   \u001b[0m | \u001b[0m 46.35   \u001b[0m | \u001b[0m 26.84   \u001b[0m | \u001b[0m 4.366   \u001b[0m | \u001b[0m 0.2032  \u001b[0m | \u001b[0m 0.9163  \u001b[0m |\n",
      "Training until validation scores don't improve for 100 rounds\n",
      "[100]\ttraining's multi_logloss: 0.765248\tvalid_1's multi_logloss: 0.793841\n",
      "[200]\ttraining's multi_logloss: 0.713098\tvalid_1's multi_logloss: 0.770984\n",
      "[300]\ttraining's multi_logloss: 0.673412\tvalid_1's multi_logloss: 0.758368\n",
      "[400]\ttraining's multi_logloss: 0.642427\tvalid_1's multi_logloss: 0.750823\n",
      "[500]\ttraining's multi_logloss: 0.616309\tvalid_1's multi_logloss: 0.746045\n",
      "[600]\ttraining's multi_logloss: 0.593533\tvalid_1's multi_logloss: 0.74324\n",
      "[700]\ttraining's multi_logloss: 0.57323\tvalid_1's multi_logloss: 0.74058\n",
      "[800]\ttraining's multi_logloss: 0.555142\tvalid_1's multi_logloss: 0.739012\n",
      "[900]\ttraining's multi_logloss: 0.538695\tvalid_1's multi_logloss: 0.737779\n",
      "[1000]\ttraining's multi_logloss: 0.523681\tvalid_1's multi_logloss: 0.737751\n",
      "Early stopping, best iteration is:\n",
      "[964]\ttraining's multi_logloss: 0.528894\tvalid_1's multi_logloss: 0.737528\n",
      "| \u001b[0m 3       \u001b[0m | \u001b[0m 0.7375  \u001b[0m | \u001b[0m 0.8891  \u001b[0m | \u001b[0m 436.3   \u001b[0m | \u001b[0m 15.83   \u001b[0m | \u001b[0m 161.8   \u001b[0m | \u001b[0m 23.61   \u001b[0m | \u001b[0m 55.22   \u001b[0m | \u001b[0m 5.923   \u001b[0m | \u001b[0m 6.4     \u001b[0m | \u001b[0m 0.5717  \u001b[0m |\n",
      "Training until validation scores don't improve for 100 rounds\n",
      "[100]\ttraining's multi_logloss: 0.803259\tvalid_1's multi_logloss: 0.809014\n",
      "[200]\ttraining's multi_logloss: 0.778679\tvalid_1's multi_logloss: 0.795245\n",
      "[300]\ttraining's multi_logloss: 0.762146\tvalid_1's multi_logloss: 0.787703\n",
      "[400]\ttraining's multi_logloss: 0.752035\tvalid_1's multi_logloss: 0.783358\n",
      "[500]\ttraining's multi_logloss: 0.74644\tvalid_1's multi_logloss: 0.781453\n",
      "[600]\ttraining's multi_logloss: 0.743238\tvalid_1's multi_logloss: 0.780312\n",
      "[700]\ttraining's multi_logloss: 0.742339\tvalid_1's multi_logloss: 0.780071\n",
      "Early stopping, best iteration is:\n",
      "[698]\ttraining's multi_logloss: 0.742339\tvalid_1's multi_logloss: 0.780071\n",
      "| \u001b[95m 4       \u001b[0m | \u001b[95m 0.7801  \u001b[0m | \u001b[95m 0.9723  \u001b[0m | \u001b[95m 265.7   \u001b[0m | \u001b[95m 11.32   \u001b[0m | \u001b[95m 60.27   \u001b[0m | \u001b[95m 38.94   \u001b[0m | \u001b[95m 42.25   \u001b[0m | \u001b[95m 28.43   \u001b[0m | \u001b[95m 0.1889  \u001b[0m | \u001b[95m 0.8088  \u001b[0m |\n",
      "Training until validation scores don't improve for 100 rounds\n",
      "[100]\ttraining's multi_logloss: 0.808339\tvalid_1's multi_logloss: 0.811256\n",
      "[200]\ttraining's multi_logloss: 0.789281\tvalid_1's multi_logloss: 0.799335\n",
      "[300]\ttraining's multi_logloss: 0.777177\tvalid_1's multi_logloss: 0.79342\n",
      "[400]\ttraining's multi_logloss: 0.772542\tvalid_1's multi_logloss: 0.791322\n",
      "[500]\ttraining's multi_logloss: 0.771159\tvalid_1's multi_logloss: 0.790724\n",
      "[600]\ttraining's multi_logloss: 0.770539\tvalid_1's multi_logloss: 0.79041\n",
      "[700]\ttraining's multi_logloss: 0.769761\tvalid_1's multi_logloss: 0.790112\n",
      "[800]\ttraining's multi_logloss: 0.769667\tvalid_1's multi_logloss: 0.790055\n",
      "[900]\ttraining's multi_logloss: 0.769635\tvalid_1's multi_logloss: 0.790045\n",
      "Early stopping, best iteration is:\n",
      "[833]\ttraining's multi_logloss: 0.769647\tvalid_1's multi_logloss: 0.790044\n",
      "| \u001b[95m 5       \u001b[0m | \u001b[95m 0.79    \u001b[0m | \u001b[95m 0.806   \u001b[0m | \u001b[95m 312.3   \u001b[0m | \u001b[95m 15.55   \u001b[0m | \u001b[95m 139.5   \u001b[0m | \u001b[95m 18.62   \u001b[0m | \u001b[95m 41.48   \u001b[0m | \u001b[95m 34.88   \u001b[0m | \u001b[95m 0.6032  \u001b[0m | \u001b[95m 0.8334  \u001b[0m |\n",
      "Training until validation scores don't improve for 100 rounds\n",
      "[100]\ttraining's multi_logloss: 0.815035\tvalid_1's multi_logloss: 0.814926\n",
      "[200]\ttraining's multi_logloss: 0.801656\tvalid_1's multi_logloss: 0.805469\n",
      "[300]\ttraining's multi_logloss: 0.796513\tvalid_1's multi_logloss: 0.802357\n",
      "[400]\ttraining's multi_logloss: 0.795053\tvalid_1's multi_logloss: 0.80118\n",
      "[500]\ttraining's multi_logloss: 0.794454\tvalid_1's multi_logloss: 0.800695\n",
      "[600]\ttraining's multi_logloss: 0.794221\tvalid_1's multi_logloss: 0.800493\n",
      "[700]\ttraining's multi_logloss: 0.794137\tvalid_1's multi_logloss: 0.80041\n",
      "[800]\ttraining's multi_logloss: 0.794126\tvalid_1's multi_logloss: 0.800401\n",
      "[900]\ttraining's multi_logloss: 0.794123\tvalid_1's multi_logloss: 0.800398\n",
      "[1000]\ttraining's multi_logloss: 0.794122\tvalid_1's multi_logloss: 0.800396\n",
      "[1100]\ttraining's multi_logloss: 0.794122\tvalid_1's multi_logloss: 0.800395\n",
      "[1200]\ttraining's multi_logloss: 0.79412\tvalid_1's multi_logloss: 0.800395\n",
      "[1300]\ttraining's multi_logloss: 0.79412\tvalid_1's multi_logloss: 0.800394\n",
      "[1400]\ttraining's multi_logloss: 0.79412\tvalid_1's multi_logloss: 0.800394\n",
      "[1500]\ttraining's multi_logloss: 0.794119\tvalid_1's multi_logloss: 0.800394\n",
      "[1600]\ttraining's multi_logloss: 0.794119\tvalid_1's multi_logloss: 0.800394\n",
      "[1700]\ttraining's multi_logloss: 0.794119\tvalid_1's multi_logloss: 0.800394\n",
      "[1800]\ttraining's multi_logloss: 0.794119\tvalid_1's multi_logloss: 0.800394\n",
      "[1900]\ttraining's multi_logloss: 0.794119\tvalid_1's multi_logloss: 0.800394\n",
      "[2000]\ttraining's multi_logloss: 0.794119\tvalid_1's multi_logloss: 0.800394\n",
      "Did not meet early stopping. Best iteration is:\n",
      "[2000]\ttraining's multi_logloss: 0.794119\tvalid_1's multi_logloss: 0.800394\n",
      "| \u001b[95m 6       \u001b[0m | \u001b[95m 0.8004  \u001b[0m | \u001b[95m 0.819   \u001b[0m | \u001b[95m 229.0   \u001b[0m | \u001b[95m 12.93   \u001b[0m | \u001b[95m 168.9   \u001b[0m | \u001b[95m 1.0     \u001b[0m | \u001b[95m 64.0    \u001b[0m | \u001b[95m 50.0    \u001b[0m | \u001b[95m 10.0    \u001b[0m | \u001b[95m 1.0     \u001b[0m |\n",
      "Training until validation scores don't improve for 100 rounds\n"
     ]
    },
    {
     "name": "stdout",
     "output_type": "stream",
     "text": [
      "[100]\ttraining's multi_logloss: 0.80914\tvalid_1's multi_logloss: 0.812282\n",
      "[200]\ttraining's multi_logloss: 0.789632\tvalid_1's multi_logloss: 0.799961\n",
      "[300]\ttraining's multi_logloss: 0.777217\tvalid_1's multi_logloss: 0.793766\n",
      "[400]\ttraining's multi_logloss: 0.769551\tvalid_1's multi_logloss: 0.790179\n",
      "[500]\ttraining's multi_logloss: 0.766017\tvalid_1's multi_logloss: 0.788642\n",
      "[600]\ttraining's multi_logloss: 0.765173\tvalid_1's multi_logloss: 0.788236\n",
      "[700]\ttraining's multi_logloss: 0.764686\tvalid_1's multi_logloss: 0.788038\n",
      "[800]\ttraining's multi_logloss: 0.764296\tvalid_1's multi_logloss: 0.787846\n",
      "[900]\ttraining's multi_logloss: 0.763999\tvalid_1's multi_logloss: 0.787753\n",
      "[1000]\ttraining's multi_logloss: 0.76387\tvalid_1's multi_logloss: 0.787716\n",
      "[1100]\ttraining's multi_logloss: 0.763854\tvalid_1's multi_logloss: 0.787702\n",
      "[1200]\ttraining's multi_logloss: 0.76385\tvalid_1's multi_logloss: 0.787702\n",
      "[1300]\ttraining's multi_logloss: 0.763845\tvalid_1's multi_logloss: 0.7877\n",
      "[1400]\ttraining's multi_logloss: 0.76384\tvalid_1's multi_logloss: 0.787698\n",
      "[1500]\ttraining's multi_logloss: 0.76384\tvalid_1's multi_logloss: 0.787697\n",
      "Early stopping, best iteration is:\n",
      "[1408]\ttraining's multi_logloss: 0.76384\tvalid_1's multi_logloss: 0.787697\n",
      "| \u001b[0m 7       \u001b[0m | \u001b[0m 0.7877  \u001b[0m | \u001b[0m 0.6105  \u001b[0m | \u001b[0m 314.6   \u001b[0m | \u001b[0m 13.33   \u001b[0m | \u001b[0m 143.0   \u001b[0m | \u001b[0m 23.61   \u001b[0m | \u001b[0m 36.02   \u001b[0m | \u001b[0m 32.36   \u001b[0m | \u001b[0m 3.318   \u001b[0m | \u001b[0m 0.9919  \u001b[0m |\n",
      "Training until validation scores don't improve for 100 rounds\n",
      "[100]\ttraining's multi_logloss: 0.739499\tvalid_1's multi_logloss: 0.785566\n",
      "[200]\ttraining's multi_logloss: 0.678829\tvalid_1's multi_logloss: 0.762605\n",
      "[300]\ttraining's multi_logloss: 0.637555\tvalid_1's multi_logloss: 0.752019\n",
      "[400]\ttraining's multi_logloss: 0.607162\tvalid_1's multi_logloss: 0.746526\n",
      "[500]\ttraining's multi_logloss: 0.578783\tvalid_1's multi_logloss: 0.742905\n",
      "[600]\ttraining's multi_logloss: 0.555497\tvalid_1's multi_logloss: 0.740345\n",
      "[700]\ttraining's multi_logloss: 0.53475\tvalid_1's multi_logloss: 0.739666\n",
      "[800]\ttraining's multi_logloss: 0.51651\tvalid_1's multi_logloss: 0.739526\n",
      "Early stopping, best iteration is:\n",
      "[732]\ttraining's multi_logloss: 0.528518\tvalid_1's multi_logloss: 0.73931\n",
      "| \u001b[0m 8       \u001b[0m | \u001b[0m 0.7393  \u001b[0m | \u001b[0m 1.0     \u001b[0m | \u001b[0m 39.45   \u001b[0m | \u001b[0m 16.0    \u001b[0m | \u001b[0m 200.0   \u001b[0m | \u001b[0m 1.0     \u001b[0m | \u001b[0m 64.0    \u001b[0m | \u001b[0m 0.01    \u001b[0m | \u001b[0m 0.001   \u001b[0m | \u001b[0m 0.5     \u001b[0m |\n",
      "Training until validation scores don't improve for 100 rounds\n",
      "[100]\ttraining's multi_logloss: 0.779418\tvalid_1's multi_logloss: 0.798421\n",
      "[200]\ttraining's multi_logloss: 0.744093\tvalid_1's multi_logloss: 0.781354\n",
      "[300]\ttraining's multi_logloss: 0.717779\tvalid_1's multi_logloss: 0.771744\n",
      "[400]\ttraining's multi_logloss: 0.695785\tvalid_1's multi_logloss: 0.765127\n",
      "[500]\ttraining's multi_logloss: 0.677025\tvalid_1's multi_logloss: 0.760632\n",
      "[600]\ttraining's multi_logloss: 0.659942\tvalid_1's multi_logloss: 0.757278\n",
      "[700]\ttraining's multi_logloss: 0.644393\tvalid_1's multi_logloss: 0.754741\n",
      "[800]\ttraining's multi_logloss: 0.629248\tvalid_1's multi_logloss: 0.752313\n",
      "[900]\ttraining's multi_logloss: 0.615044\tvalid_1's multi_logloss: 0.750396\n",
      "[1000]\ttraining's multi_logloss: 0.602316\tvalid_1's multi_logloss: 0.749589\n",
      "[1100]\ttraining's multi_logloss: 0.590402\tvalid_1's multi_logloss: 0.748558\n",
      "[1200]\ttraining's multi_logloss: 0.579115\tvalid_1's multi_logloss: 0.747484\n",
      "[1300]\ttraining's multi_logloss: 0.568251\tvalid_1's multi_logloss: 0.74682\n",
      "[1400]\ttraining's multi_logloss: 0.557305\tvalid_1's multi_logloss: 0.745883\n",
      "[1500]\ttraining's multi_logloss: 0.547278\tvalid_1's multi_logloss: 0.745761\n",
      "Early stopping, best iteration is:\n",
      "[1498]\ttraining's multi_logloss: 0.547469\tvalid_1's multi_logloss: 0.745732\n",
      "| \u001b[0m 9       \u001b[0m | \u001b[0m 0.7457  \u001b[0m | \u001b[0m 1.0     \u001b[0m | \u001b[0m 245.6   \u001b[0m | \u001b[0m 16.0    \u001b[0m | \u001b[0m 200.0   \u001b[0m | \u001b[0m 1.0     \u001b[0m | \u001b[0m 24.0    \u001b[0m | \u001b[0m 0.01    \u001b[0m | \u001b[0m 0.001   \u001b[0m | \u001b[0m 0.5     \u001b[0m |\n",
      "Training until validation scores don't improve for 100 rounds\n",
      "[100]\ttraining's multi_logloss: 0.817506\tvalid_1's multi_logloss: 0.817148\n",
      "[200]\ttraining's multi_logloss: 0.80438\tvalid_1's multi_logloss: 0.807252\n",
      "[300]\ttraining's multi_logloss: 0.798226\tvalid_1's multi_logloss: 0.803468\n",
      "[400]\ttraining's multi_logloss: 0.796375\tvalid_1's multi_logloss: 0.802156\n",
      "[500]\ttraining's multi_logloss: 0.795378\tvalid_1's multi_logloss: 0.801444\n",
      "[600]\ttraining's multi_logloss: 0.795086\tvalid_1's multi_logloss: 0.801168\n",
      "[700]\ttraining's multi_logloss: 0.794894\tvalid_1's multi_logloss: 0.800971\n",
      "[800]\ttraining's multi_logloss: 0.794804\tvalid_1's multi_logloss: 0.800879\n",
      "[900]\ttraining's multi_logloss: 0.794738\tvalid_1's multi_logloss: 0.800814\n",
      "[1000]\ttraining's multi_logloss: 0.794699\tvalid_1's multi_logloss: 0.800774\n",
      "[1100]\ttraining's multi_logloss: 0.79467\tvalid_1's multi_logloss: 0.800746\n",
      "[1200]\ttraining's multi_logloss: 0.794654\tvalid_1's multi_logloss: 0.800728\n",
      "[1300]\ttraining's multi_logloss: 0.794644\tvalid_1's multi_logloss: 0.800718\n",
      "[1400]\ttraining's multi_logloss: 0.794637\tvalid_1's multi_logloss: 0.800712\n",
      "[1500]\ttraining's multi_logloss: 0.794633\tvalid_1's multi_logloss: 0.800707\n",
      "[1600]\ttraining's multi_logloss: 0.79463\tvalid_1's multi_logloss: 0.800704\n",
      "[1700]\ttraining's multi_logloss: 0.794629\tvalid_1's multi_logloss: 0.800703\n",
      "[1800]\ttraining's multi_logloss: 0.794628\tvalid_1's multi_logloss: 0.800702\n",
      "[1900]\ttraining's multi_logloss: 0.794627\tvalid_1's multi_logloss: 0.800701\n",
      "[2000]\ttraining's multi_logloss: 0.794625\tvalid_1's multi_logloss: 0.800701\n",
      "Did not meet early stopping. Best iteration is:\n",
      "[1999]\ttraining's multi_logloss: 0.794625\tvalid_1's multi_logloss: 0.800701\n",
      "| \u001b[95m 10      \u001b[0m | \u001b[95m 0.8007  \u001b[0m | \u001b[95m 0.5     \u001b[0m | \u001b[95m 217.5   \u001b[0m | \u001b[95m 8.0     \u001b[0m | \u001b[95m 109.2   \u001b[0m | \u001b[95m 1.0     \u001b[0m | \u001b[95m 64.0    \u001b[0m | \u001b[95m 50.0    \u001b[0m | \u001b[95m 10.0    \u001b[0m | \u001b[95m 1.0     \u001b[0m |\n",
      "Training until validation scores don't improve for 100 rounds\n",
      "[100]\ttraining's multi_logloss: 0.797909\tvalid_1's multi_logloss: 0.80691\n",
      "[200]\ttraining's multi_logloss: 0.766416\tvalid_1's multi_logloss: 0.789915\n",
      "[300]\ttraining's multi_logloss: 0.744014\tvalid_1's multi_logloss: 0.78036\n",
      "[400]\ttraining's multi_logloss: 0.725886\tvalid_1's multi_logloss: 0.773742\n",
      "[500]\ttraining's multi_logloss: 0.712057\tvalid_1's multi_logloss: 0.769341\n",
      "[600]\ttraining's multi_logloss: 0.702141\tvalid_1's multi_logloss: 0.766611\n",
      "[700]\ttraining's multi_logloss: 0.694707\tvalid_1's multi_logloss: 0.764888\n",
      "[800]\ttraining's multi_logloss: 0.690525\tvalid_1's multi_logloss: 0.764027\n",
      "[900]\ttraining's multi_logloss: 0.688925\tvalid_1's multi_logloss: 0.763778\n",
      "[1000]\ttraining's multi_logloss: 0.688575\tvalid_1's multi_logloss: 0.763744\n",
      "[1100]\ttraining's multi_logloss: 0.688478\tvalid_1's multi_logloss: 0.763736\n",
      "Early stopping, best iteration is:\n",
      "[1073]\ttraining's multi_logloss: 0.688478\tvalid_1's multi_logloss: 0.763736\n",
      "| \u001b[0m 11      \u001b[0m | \u001b[0m 0.7637  \u001b[0m | \u001b[0m 0.5925  \u001b[0m | \u001b[0m 265.0   \u001b[0m | \u001b[0m 14.29   \u001b[0m | \u001b[0m 64.35   \u001b[0m | \u001b[0m 39.22   \u001b[0m | \u001b[0m 45.55   \u001b[0m | \u001b[0m 19.14   \u001b[0m | \u001b[0m 3.45    \u001b[0m | \u001b[0m 0.7425  \u001b[0m |\n",
      "Training until validation scores don't improve for 100 rounds\n",
      "[100]\ttraining's multi_logloss: 0.815976\tvalid_1's multi_logloss: 0.815864\n",
      "[200]\ttraining's multi_logloss: 0.802852\tvalid_1's multi_logloss: 0.806217\n",
      "[300]\ttraining's multi_logloss: 0.797406\tvalid_1's multi_logloss: 0.803048\n",
      "[400]\ttraining's multi_logloss: 0.795817\tvalid_1's multi_logloss: 0.801812\n",
      "[500]\ttraining's multi_logloss: 0.795161\tvalid_1's multi_logloss: 0.801259\n",
      "[600]\ttraining's multi_logloss: 0.794886\tvalid_1's multi_logloss: 0.801014\n",
      "[700]\ttraining's multi_logloss: 0.794791\tvalid_1's multi_logloss: 0.800919\n",
      "[800]\ttraining's multi_logloss: 0.794747\tvalid_1's multi_logloss: 0.800873\n",
      "[900]\ttraining's multi_logloss: 0.794719\tvalid_1's multi_logloss: 0.800843\n",
      "[1000]\ttraining's multi_logloss: 0.794691\tvalid_1's multi_logloss: 0.800822\n",
      "[1100]\ttraining's multi_logloss: 0.794684\tvalid_1's multi_logloss: 0.800815\n",
      "[1200]\ttraining's multi_logloss: 0.794678\tvalid_1's multi_logloss: 0.800811\n",
      "[1300]\ttraining's multi_logloss: 0.794676\tvalid_1's multi_logloss: 0.800809\n",
      "[1400]\ttraining's multi_logloss: 0.794675\tvalid_1's multi_logloss: 0.800808\n"
     ]
    },
    {
     "name": "stdout",
     "output_type": "stream",
     "text": [
      "[1500]\ttraining's multi_logloss: 0.794674\tvalid_1's multi_logloss: 0.800807\n",
      "[1600]\ttraining's multi_logloss: 0.794674\tvalid_1's multi_logloss: 0.800807\n",
      "[1700]\ttraining's multi_logloss: 0.794674\tvalid_1's multi_logloss: 0.800806\n",
      "[1800]\ttraining's multi_logloss: 0.794674\tvalid_1's multi_logloss: 0.800806\n",
      "[1900]\ttraining's multi_logloss: 0.794674\tvalid_1's multi_logloss: 0.800806\n",
      "[2000]\ttraining's multi_logloss: 0.794674\tvalid_1's multi_logloss: 0.800806\n",
      "Did not meet early stopping. Best iteration is:\n",
      "[1998]\ttraining's multi_logloss: 0.794674\tvalid_1's multi_logloss: 0.800806\n",
      "| \u001b[95m 12      \u001b[0m | \u001b[95m 0.8008  \u001b[0m | \u001b[95m 0.6559  \u001b[0m | \u001b[95m 252.0   \u001b[0m | \u001b[95m 8.0     \u001b[0m | \u001b[95m 134.4   \u001b[0m | \u001b[95m 4.404   \u001b[0m | \u001b[95m 62.95   \u001b[0m | \u001b[95m 50.0    \u001b[0m | \u001b[95m 7.377   \u001b[0m | \u001b[95m 0.9109  \u001b[0m |\n",
      "Training until validation scores don't improve for 100 rounds\n",
      "[100]\ttraining's multi_logloss: 0.810573\tvalid_1's multi_logloss: 0.812661\n",
      "[200]\ttraining's multi_logloss: 0.793234\tvalid_1's multi_logloss: 0.801258\n",
      "[300]\ttraining's multi_logloss: 0.783138\tvalid_1's multi_logloss: 0.796175\n",
      "[400]\ttraining's multi_logloss: 0.779135\tvalid_1's multi_logloss: 0.794263\n",
      "[500]\ttraining's multi_logloss: 0.77801\tvalid_1's multi_logloss: 0.793628\n",
      "[600]\ttraining's multi_logloss: 0.777412\tvalid_1's multi_logloss: 0.793361\n",
      "[700]\ttraining's multi_logloss: 0.776866\tvalid_1's multi_logloss: 0.793133\n",
      "[800]\ttraining's multi_logloss: 0.776706\tvalid_1's multi_logloss: 0.793061\n",
      "[900]\ttraining's multi_logloss: 0.776677\tvalid_1's multi_logloss: 0.793032\n",
      "[1000]\ttraining's multi_logloss: 0.77666\tvalid_1's multi_logloss: 0.793016\n",
      "[1100]\ttraining's multi_logloss: 0.776655\tvalid_1's multi_logloss: 0.793013\n",
      "[1200]\ttraining's multi_logloss: 0.776646\tvalid_1's multi_logloss: 0.793004\n",
      "[1300]\ttraining's multi_logloss: 0.776641\tvalid_1's multi_logloss: 0.793001\n",
      "[1400]\ttraining's multi_logloss: 0.776635\tvalid_1's multi_logloss: 0.792999\n",
      "Early stopping, best iteration is:\n",
      "[1346]\ttraining's multi_logloss: 0.776635\tvalid_1's multi_logloss: 0.792999\n",
      "| \u001b[0m 13      \u001b[0m | \u001b[0m 0.793   \u001b[0m | \u001b[0m 0.6918  \u001b[0m | \u001b[0m 315.5   \u001b[0m | \u001b[0m 14.44   \u001b[0m | \u001b[0m 145.2   \u001b[0m | \u001b[0m 21.62   \u001b[0m | \u001b[0m 39.04   \u001b[0m | \u001b[0m 37.29   \u001b[0m | \u001b[0m 3.812   \u001b[0m | \u001b[0m 0.8113  \u001b[0m |\n",
      "Training until validation scores don't improve for 100 rounds\n",
      "[100]\ttraining's multi_logloss: 0.81408\tvalid_1's multi_logloss: 0.814116\n",
      "[200]\ttraining's multi_logloss: 0.800265\tvalid_1's multi_logloss: 0.804667\n",
      "[300]\ttraining's multi_logloss: 0.795187\tvalid_1's multi_logloss: 0.801614\n",
      "[400]\ttraining's multi_logloss: 0.793724\tvalid_1's multi_logloss: 0.800633\n",
      "[500]\ttraining's multi_logloss: 0.792571\tvalid_1's multi_logloss: 0.800057\n",
      "[600]\ttraining's multi_logloss: 0.792061\tvalid_1's multi_logloss: 0.799778\n",
      "[700]\ttraining's multi_logloss: 0.792025\tvalid_1's multi_logloss: 0.799755\n",
      "[800]\ttraining's multi_logloss: 0.792024\tvalid_1's multi_logloss: 0.799755\n",
      "[900]\ttraining's multi_logloss: 0.792024\tvalid_1's multi_logloss: 0.799755\n",
      "[1000]\ttraining's multi_logloss: 0.792024\tvalid_1's multi_logloss: 0.799755\n",
      "[1100]\ttraining's multi_logloss: 0.792024\tvalid_1's multi_logloss: 0.799755\n",
      "[1200]\ttraining's multi_logloss: 0.792024\tvalid_1's multi_logloss: 0.799755\n",
      "[1300]\ttraining's multi_logloss: 0.792024\tvalid_1's multi_logloss: 0.799755\n",
      "[1400]\ttraining's multi_logloss: 0.792024\tvalid_1's multi_logloss: 0.799755\n",
      "[1500]\ttraining's multi_logloss: 0.792024\tvalid_1's multi_logloss: 0.799755\n",
      "[1600]\ttraining's multi_logloss: 0.792024\tvalid_1's multi_logloss: 0.799755\n",
      "[1700]\ttraining's multi_logloss: 0.792024\tvalid_1's multi_logloss: 0.799755\n",
      "[1800]\ttraining's multi_logloss: 0.792024\tvalid_1's multi_logloss: 0.799755\n",
      "[1900]\ttraining's multi_logloss: 0.792024\tvalid_1's multi_logloss: 0.799755\n",
      "[2000]\ttraining's multi_logloss: 0.792024\tvalid_1's multi_logloss: 0.799755\n",
      "Did not meet early stopping. Best iteration is:\n",
      "[2000]\ttraining's multi_logloss: 0.792024\tvalid_1's multi_logloss: 0.799755\n",
      "| \u001b[0m 14      \u001b[0m | \u001b[0m 0.7998  \u001b[0m | \u001b[0m 1.0     \u001b[0m | \u001b[0m 211.3   \u001b[0m | \u001b[0m 8.0     \u001b[0m | \u001b[0m 140.6   \u001b[0m | \u001b[0m 40.39   \u001b[0m | \u001b[0m 64.0    \u001b[0m | \u001b[0m 50.0    \u001b[0m | \u001b[0m 0.001   \u001b[0m | \u001b[0m 1.0     \u001b[0m |\n",
      "Training until validation scores don't improve for 100 rounds\n",
      "[100]\ttraining's multi_logloss: 0.810397\tvalid_1's multi_logloss: 0.812259\n",
      "[200]\ttraining's multi_logloss: 0.793905\tvalid_1's multi_logloss: 0.801461\n",
      "[300]\ttraining's multi_logloss: 0.784662\tvalid_1's multi_logloss: 0.796722\n",
      "[400]\ttraining's multi_logloss: 0.781163\tvalid_1's multi_logloss: 0.794931\n",
      "[500]\ttraining's multi_logloss: 0.780104\tvalid_1's multi_logloss: 0.794362\n",
      "[600]\ttraining's multi_logloss: 0.77989\tvalid_1's multi_logloss: 0.794189\n",
      "[700]\ttraining's multi_logloss: 0.779879\tvalid_1's multi_logloss: 0.794179\n",
      "[800]\ttraining's multi_logloss: 0.779879\tvalid_1's multi_logloss: 0.794179\n",
      "[900]\ttraining's multi_logloss: 0.779879\tvalid_1's multi_logloss: 0.794179\n",
      "[1000]\ttraining's multi_logloss: 0.779879\tvalid_1's multi_logloss: 0.794179\n",
      "[1100]\ttraining's multi_logloss: 0.779879\tvalid_1's multi_logloss: 0.794179\n",
      "[1200]\ttraining's multi_logloss: 0.779879\tvalid_1's multi_logloss: 0.794179\n",
      "[1300]\ttraining's multi_logloss: 0.779879\tvalid_1's multi_logloss: 0.794179\n",
      "[1400]\ttraining's multi_logloss: 0.779879\tvalid_1's multi_logloss: 0.794179\n",
      "[1500]\ttraining's multi_logloss: 0.779879\tvalid_1's multi_logloss: 0.794179\n",
      "[1600]\ttraining's multi_logloss: 0.779879\tvalid_1's multi_logloss: 0.794179\n",
      "[1700]\ttraining's multi_logloss: 0.779879\tvalid_1's multi_logloss: 0.794179\n",
      "[1800]\ttraining's multi_logloss: 0.779879\tvalid_1's multi_logloss: 0.794179\n",
      "[1900]\ttraining's multi_logloss: 0.779879\tvalid_1's multi_logloss: 0.794179\n",
      "[2000]\ttraining's multi_logloss: 0.779879\tvalid_1's multi_logloss: 0.794179\n",
      "Did not meet early stopping. Best iteration is:\n",
      "[2000]\ttraining's multi_logloss: 0.779879\tvalid_1's multi_logloss: 0.794179\n",
      "| \u001b[0m 15      \u001b[0m | \u001b[0m 0.7942  \u001b[0m | \u001b[0m 0.9555  \u001b[0m | \u001b[0m 223.7   \u001b[0m | \u001b[0m 13.75   \u001b[0m | \u001b[0m 166.5   \u001b[0m | \u001b[0m 3.227   \u001b[0m | \u001b[0m 62.86   \u001b[0m | \u001b[0m 39.58   \u001b[0m | \u001b[0m 8.762   \u001b[0m | \u001b[0m 0.9848  \u001b[0m |\n",
      "Training until validation scores don't improve for 100 rounds\n",
      "[100]\ttraining's multi_logloss: 0.8089\tvalid_1's multi_logloss: 0.811595\n",
      "[200]\ttraining's multi_logloss: 0.790722\tvalid_1's multi_logloss: 0.799994\n",
      "[300]\ttraining's multi_logloss: 0.779604\tvalid_1's multi_logloss: 0.794631\n",
      "[400]\ttraining's multi_logloss: 0.775192\tvalid_1's multi_logloss: 0.79254\n",
      "[500]\ttraining's multi_logloss: 0.773964\tvalid_1's multi_logloss: 0.791866\n",
      "[600]\ttraining's multi_logloss: 0.773301\tvalid_1's multi_logloss: 0.791575\n",
      "[700]\ttraining's multi_logloss: 0.772701\tvalid_1's multi_logloss: 0.791342\n",
      "[800]\ttraining's multi_logloss: 0.772556\tvalid_1's multi_logloss: 0.791252\n",
      "[900]\ttraining's multi_logloss: 0.772522\tvalid_1's multi_logloss: 0.791223\n",
      "[1000]\ttraining's multi_logloss: 0.772505\tvalid_1's multi_logloss: 0.791215\n",
      "Early stopping, best iteration is:\n",
      "[967]\ttraining's multi_logloss: 0.772506\tvalid_1's multi_logloss: 0.791215\n",
      "| \u001b[0m 16      \u001b[0m | \u001b[0m 0.7912  \u001b[0m | \u001b[0m 0.7651  \u001b[0m | \u001b[0m 317.5   \u001b[0m | \u001b[0m 11.74   \u001b[0m | \u001b[0m 143.9   \u001b[0m | \u001b[0m 24.46   \u001b[0m | \u001b[0m 28.65   \u001b[0m | \u001b[0m 35.68   \u001b[0m | \u001b[0m 0.02566 \u001b[0m | \u001b[0m 0.528   \u001b[0m |\n",
      "Training until validation scores don't improve for 100 rounds\n",
      "[100]\ttraining's multi_logloss: 0.809789\tvalid_1's multi_logloss: 0.812697\n",
      "[200]\ttraining's multi_logloss: 0.790751\tvalid_1's multi_logloss: 0.800503\n",
      "[300]\ttraining's multi_logloss: 0.778679\tvalid_1's multi_logloss: 0.794397\n",
      "[400]\ttraining's multi_logloss: 0.771318\tvalid_1's multi_logloss: 0.790964\n",
      "[500]\ttraining's multi_logloss: 0.768123\tvalid_1's multi_logloss: 0.789528\n",
      "[600]\ttraining's multi_logloss: 0.767405\tvalid_1's multi_logloss: 0.789145\n",
      "[700]\ttraining's multi_logloss: 0.767016\tvalid_1's multi_logloss: 0.788944\n",
      "[800]\ttraining's multi_logloss: 0.766708\tvalid_1's multi_logloss: 0.788792\n",
      "[900]\ttraining's multi_logloss: 0.766648\tvalid_1's multi_logloss: 0.788742\n",
      "[1000]\ttraining's multi_logloss: 0.766619\tvalid_1's multi_logloss: 0.788721\n",
      "[1100]\ttraining's multi_logloss: 0.766603\tvalid_1's multi_logloss: 0.788714\n",
      "[1200]\ttraining's multi_logloss: 0.766475\tvalid_1's multi_logloss: 0.788638\n"
     ]
    },
    {
     "name": "stdout",
     "output_type": "stream",
     "text": [
      "[1300]\ttraining's multi_logloss: 0.766465\tvalid_1's multi_logloss: 0.788633\n",
      "[1400]\ttraining's multi_logloss: 0.76646\tvalid_1's multi_logloss: 0.788632\n",
      "[1500]\ttraining's multi_logloss: 0.766456\tvalid_1's multi_logloss: 0.78863\n",
      "Early stopping, best iteration is:\n",
      "[1465]\ttraining's multi_logloss: 0.766456\tvalid_1's multi_logloss: 0.78863\n",
      "| \u001b[0m 17      \u001b[0m | \u001b[0m 0.7886  \u001b[0m | \u001b[0m 0.58    \u001b[0m | \u001b[0m 306.9   \u001b[0m | \u001b[0m 14.69   \u001b[0m | \u001b[0m 142.2   \u001b[0m | \u001b[0m 20.03   \u001b[0m | \u001b[0m 32.04   \u001b[0m | \u001b[0m 32.84   \u001b[0m | \u001b[0m 3.56    \u001b[0m | \u001b[0m 0.8835  \u001b[0m |\n",
      "Training until validation scores don't improve for 100 rounds\n",
      "[100]\ttraining's multi_logloss: 0.812618\tvalid_1's multi_logloss: 0.813804\n",
      "[200]\ttraining's multi_logloss: 0.798475\tvalid_1's multi_logloss: 0.803903\n",
      "[300]\ttraining's multi_logloss: 0.793834\tvalid_1's multi_logloss: 0.801148\n",
      "[400]\ttraining's multi_logloss: 0.79209\tvalid_1's multi_logloss: 0.800144\n",
      "[500]\ttraining's multi_logloss: 0.791064\tvalid_1's multi_logloss: 0.799563\n",
      "[600]\ttraining's multi_logloss: 0.790799\tvalid_1's multi_logloss: 0.799341\n",
      "[700]\ttraining's multi_logloss: 0.790786\tvalid_1's multi_logloss: 0.79933\n",
      "[800]\ttraining's multi_logloss: 0.790786\tvalid_1's multi_logloss: 0.79933\n",
      "[900]\ttraining's multi_logloss: 0.790786\tvalid_1's multi_logloss: 0.79933\n",
      "[1000]\ttraining's multi_logloss: 0.790786\tvalid_1's multi_logloss: 0.79933\n",
      "[1100]\ttraining's multi_logloss: 0.790786\tvalid_1's multi_logloss: 0.79933\n",
      "[1200]\ttraining's multi_logloss: 0.790786\tvalid_1's multi_logloss: 0.79933\n",
      "[1300]\ttraining's multi_logloss: 0.790786\tvalid_1's multi_logloss: 0.79933\n",
      "[1400]\ttraining's multi_logloss: 0.790786\tvalid_1's multi_logloss: 0.79933\n",
      "[1500]\ttraining's multi_logloss: 0.790786\tvalid_1's multi_logloss: 0.79933\n",
      "[1600]\ttraining's multi_logloss: 0.790786\tvalid_1's multi_logloss: 0.79933\n",
      "[1700]\ttraining's multi_logloss: 0.790786\tvalid_1's multi_logloss: 0.79933\n",
      "[1800]\ttraining's multi_logloss: 0.790786\tvalid_1's multi_logloss: 0.79933\n",
      "[1900]\ttraining's multi_logloss: 0.790786\tvalid_1's multi_logloss: 0.79933\n",
      "[2000]\ttraining's multi_logloss: 0.790786\tvalid_1's multi_logloss: 0.79933\n",
      "Did not meet early stopping. Best iteration is:\n",
      "[1980]\ttraining's multi_logloss: 0.790786\tvalid_1's multi_logloss: 0.79933\n",
      "| \u001b[0m 18      \u001b[0m | \u001b[0m 0.7993  \u001b[0m | \u001b[0m 1.0     \u001b[0m | \u001b[0m 253.5   \u001b[0m | \u001b[0m 8.0     \u001b[0m | \u001b[0m 10.0    \u001b[0m | \u001b[0m 2.533   \u001b[0m | \u001b[0m 24.0    \u001b[0m | \u001b[0m 50.0    \u001b[0m | \u001b[0m 0.001   \u001b[0m | \u001b[0m 1.0     \u001b[0m |\n",
      "Training until validation scores don't improve for 100 rounds\n",
      "[100]\ttraining's multi_logloss: 0.810598\tvalid_1's multi_logloss: 0.813075\n",
      "[200]\ttraining's multi_logloss: 0.792865\tvalid_1's multi_logloss: 0.801383\n",
      "[300]\ttraining's multi_logloss: 0.782099\tvalid_1's multi_logloss: 0.795952\n",
      "[400]\ttraining's multi_logloss: 0.776885\tvalid_1's multi_logloss: 0.793466\n",
      "[500]\ttraining's multi_logloss: 0.774858\tvalid_1's multi_logloss: 0.792445\n",
      "[600]\ttraining's multi_logloss: 0.774189\tvalid_1's multi_logloss: 0.792098\n",
      "[700]\ttraining's multi_logloss: 0.77379\tvalid_1's multi_logloss: 0.791863\n",
      "[800]\ttraining's multi_logloss: 0.773698\tvalid_1's multi_logloss: 0.791785\n",
      "[900]\ttraining's multi_logloss: 0.773654\tvalid_1's multi_logloss: 0.791746\n",
      "[1000]\ttraining's multi_logloss: 0.773626\tvalid_1's multi_logloss: 0.791725\n",
      "[1100]\ttraining's multi_logloss: 0.773609\tvalid_1's multi_logloss: 0.791712\n",
      "[1200]\ttraining's multi_logloss: 0.773597\tvalid_1's multi_logloss: 0.791705\n",
      "[1300]\ttraining's multi_logloss: 0.773588\tvalid_1's multi_logloss: 0.791701\n",
      "[1400]\ttraining's multi_logloss: 0.773577\tvalid_1's multi_logloss: 0.791693\n",
      "[1500]\ttraining's multi_logloss: 0.773573\tvalid_1's multi_logloss: 0.791693\n",
      "[1600]\ttraining's multi_logloss: 0.773571\tvalid_1's multi_logloss: 0.791692\n",
      "Early stopping, best iteration is:\n",
      "[1549]\ttraining's multi_logloss: 0.773571\tvalid_1's multi_logloss: 0.791692\n",
      "| \u001b[0m 19      \u001b[0m | \u001b[0m 0.7917  \u001b[0m | \u001b[0m 0.5934  \u001b[0m | \u001b[0m 312.2   \u001b[0m | \u001b[0m 11.75   \u001b[0m | \u001b[0m 140.1   \u001b[0m | \u001b[0m 22.31   \u001b[0m | \u001b[0m 32.77   \u001b[0m | \u001b[0m 35.18   \u001b[0m | \u001b[0m 3.943   \u001b[0m | \u001b[0m 0.95    \u001b[0m |\n",
      "Training until validation scores don't improve for 100 rounds\n",
      "[100]\ttraining's multi_logloss: 0.814202\tvalid_1's multi_logloss: 0.814099\n",
      "[200]\ttraining's multi_logloss: 0.800394\tvalid_1's multi_logloss: 0.80469\n",
      "[300]\ttraining's multi_logloss: 0.795053\tvalid_1's multi_logloss: 0.80158\n",
      "[400]\ttraining's multi_logloss: 0.793617\tvalid_1's multi_logloss: 0.800617\n",
      "[500]\ttraining's multi_logloss: 0.792442\tvalid_1's multi_logloss: 0.800034\n",
      "[600]\ttraining's multi_logloss: 0.791933\tvalid_1's multi_logloss: 0.799699\n",
      "[700]\ttraining's multi_logloss: 0.791921\tvalid_1's multi_logloss: 0.799692\n",
      "[800]\ttraining's multi_logloss: 0.791921\tvalid_1's multi_logloss: 0.799692\n",
      "[900]\ttraining's multi_logloss: 0.791921\tvalid_1's multi_logloss: 0.799692\n",
      "[1000]\ttraining's multi_logloss: 0.791921\tvalid_1's multi_logloss: 0.799692\n",
      "[1100]\ttraining's multi_logloss: 0.791921\tvalid_1's multi_logloss: 0.799692\n",
      "[1200]\ttraining's multi_logloss: 0.791921\tvalid_1's multi_logloss: 0.799692\n",
      "[1300]\ttraining's multi_logloss: 0.791921\tvalid_1's multi_logloss: 0.799692\n",
      "[1400]\ttraining's multi_logloss: 0.791921\tvalid_1's multi_logloss: 0.799692\n",
      "[1500]\ttraining's multi_logloss: 0.791921\tvalid_1's multi_logloss: 0.799692\n",
      "[1600]\ttraining's multi_logloss: 0.791921\tvalid_1's multi_logloss: 0.799692\n",
      "[1700]\ttraining's multi_logloss: 0.791921\tvalid_1's multi_logloss: 0.799692\n",
      "[1800]\ttraining's multi_logloss: 0.791921\tvalid_1's multi_logloss: 0.799692\n",
      "[1900]\ttraining's multi_logloss: 0.791921\tvalid_1's multi_logloss: 0.799692\n",
      "[2000]\ttraining's multi_logloss: 0.791921\tvalid_1's multi_logloss: 0.799692\n",
      "Did not meet early stopping. Best iteration is:\n",
      "[2000]\ttraining's multi_logloss: 0.791921\tvalid_1's multi_logloss: 0.799692\n",
      "| \u001b[0m 20      \u001b[0m | \u001b[0m 0.7997  \u001b[0m | \u001b[0m 1.0     \u001b[0m | \u001b[0m 314.1   \u001b[0m | \u001b[0m 8.0     \u001b[0m | \u001b[0m 10.0    \u001b[0m | \u001b[0m 50.0    \u001b[0m | \u001b[0m 24.0    \u001b[0m | \u001b[0m 50.0    \u001b[0m | \u001b[0m 0.001   \u001b[0m | \u001b[0m 0.6404  \u001b[0m |\n",
      "Training until validation scores don't improve for 100 rounds\n",
      "[100]\ttraining's multi_logloss: 0.814202\tvalid_1's multi_logloss: 0.814099\n",
      "[200]\ttraining's multi_logloss: 0.800394\tvalid_1's multi_logloss: 0.80469\n",
      "[300]\ttraining's multi_logloss: 0.795053\tvalid_1's multi_logloss: 0.80158\n",
      "[400]\ttraining's multi_logloss: 0.793617\tvalid_1's multi_logloss: 0.800617\n",
      "[500]\ttraining's multi_logloss: 0.792442\tvalid_1's multi_logloss: 0.800034\n",
      "[600]\ttraining's multi_logloss: 0.791933\tvalid_1's multi_logloss: 0.799699\n",
      "[700]\ttraining's multi_logloss: 0.791921\tvalid_1's multi_logloss: 0.799692\n",
      "[800]\ttraining's multi_logloss: 0.791921\tvalid_1's multi_logloss: 0.799692\n",
      "[900]\ttraining's multi_logloss: 0.791921\tvalid_1's multi_logloss: 0.799692\n",
      "[1000]\ttraining's multi_logloss: 0.791921\tvalid_1's multi_logloss: 0.799692\n",
      "[1100]\ttraining's multi_logloss: 0.791921\tvalid_1's multi_logloss: 0.799692\n",
      "[1200]\ttraining's multi_logloss: 0.791921\tvalid_1's multi_logloss: 0.799692\n",
      "[1300]\ttraining's multi_logloss: 0.791921\tvalid_1's multi_logloss: 0.799692\n",
      "[1400]\ttraining's multi_logloss: 0.791921\tvalid_1's multi_logloss: 0.799692\n",
      "[1500]\ttraining's multi_logloss: 0.791921\tvalid_1's multi_logloss: 0.799692\n",
      "[1600]\ttraining's multi_logloss: 0.791921\tvalid_1's multi_logloss: 0.799692\n",
      "[1700]\ttraining's multi_logloss: 0.791921\tvalid_1's multi_logloss: 0.799692\n",
      "[1800]\ttraining's multi_logloss: 0.791921\tvalid_1's multi_logloss: 0.799692\n",
      "[1900]\ttraining's multi_logloss: 0.791921\tvalid_1's multi_logloss: 0.799692\n",
      "[2000]\ttraining's multi_logloss: 0.791921\tvalid_1's multi_logloss: 0.799692\n",
      "Did not meet early stopping. Best iteration is:\n",
      "[2000]\ttraining's multi_logloss: 0.791921\tvalid_1's multi_logloss: 0.799692\n",
      "| \u001b[0m 21      \u001b[0m | \u001b[0m 0.7997  \u001b[0m | \u001b[0m 1.0     \u001b[0m | \u001b[0m 170.2   \u001b[0m | \u001b[0m 8.0     \u001b[0m | \u001b[0m 28.38   \u001b[0m | \u001b[0m 50.0    \u001b[0m | \u001b[0m 24.0    \u001b[0m | \u001b[0m 50.0    \u001b[0m | \u001b[0m 0.001   \u001b[0m | \u001b[0m 1.0     \u001b[0m |\n",
      "Training until validation scores don't improve for 100 rounds\n",
      "[100]\ttraining's multi_logloss: 0.807408\tvalid_1's multi_logloss: 0.811573\n",
      "[200]\ttraining's multi_logloss: 0.786101\tvalid_1's multi_logloss: 0.798492\n",
      "[300]\ttraining's multi_logloss: 0.772236\tvalid_1's multi_logloss: 0.791722\n",
      "[400]\ttraining's multi_logloss: 0.762392\tvalid_1's multi_logloss: 0.787373\n"
     ]
    },
    {
     "name": "stdout",
     "output_type": "stream",
     "text": [
      "[500]\ttraining's multi_logloss: 0.757387\tvalid_1's multi_logloss: 0.785207\n",
      "[600]\ttraining's multi_logloss: 0.75628\tvalid_1's multi_logloss: 0.784702\n",
      "[700]\ttraining's multi_logloss: 0.755665\tvalid_1's multi_logloss: 0.784448\n",
      "[800]\ttraining's multi_logloss: 0.755222\tvalid_1's multi_logloss: 0.784273\n",
      "[900]\ttraining's multi_logloss: 0.754997\tvalid_1's multi_logloss: 0.784197\n",
      "[1000]\ttraining's multi_logloss: 0.754925\tvalid_1's multi_logloss: 0.784182\n",
      "[1100]\ttraining's multi_logloss: 0.754893\tvalid_1's multi_logloss: 0.784175\n",
      "[1200]\ttraining's multi_logloss: 0.754873\tvalid_1's multi_logloss: 0.784172\n",
      "[1300]\ttraining's multi_logloss: 0.754852\tvalid_1's multi_logloss: 0.78416\n",
      "Early stopping, best iteration is:\n",
      "[1234]\ttraining's multi_logloss: 0.754852\tvalid_1's multi_logloss: 0.78416\n",
      "| \u001b[0m 22      \u001b[0m | \u001b[0m 0.7842  \u001b[0m | \u001b[0m 0.6092  \u001b[0m | \u001b[0m 317.9   \u001b[0m | \u001b[0m 12.88   \u001b[0m | \u001b[0m 144.3   \u001b[0m | \u001b[0m 21.29   \u001b[0m | \u001b[0m 34.57   \u001b[0m | \u001b[0m 29.47   \u001b[0m | \u001b[0m 4.129   \u001b[0m | \u001b[0m 0.5096  \u001b[0m |\n",
      "Training until validation scores don't improve for 100 rounds\n",
      "[100]\ttraining's multi_logloss: 0.812593\tvalid_1's multi_logloss: 0.813792\n",
      "[200]\ttraining's multi_logloss: 0.798296\tvalid_1's multi_logloss: 0.803847\n",
      "[300]\ttraining's multi_logloss: 0.793865\tvalid_1's multi_logloss: 0.801126\n",
      "[400]\ttraining's multi_logloss: 0.792211\tvalid_1's multi_logloss: 0.80015\n",
      "[500]\ttraining's multi_logloss: 0.791292\tvalid_1's multi_logloss: 0.799576\n",
      "[600]\ttraining's multi_logloss: 0.791011\tvalid_1's multi_logloss: 0.799348\n",
      "[700]\ttraining's multi_logloss: 0.790985\tvalid_1's multi_logloss: 0.79933\n",
      "[800]\ttraining's multi_logloss: 0.790985\tvalid_1's multi_logloss: 0.799329\n",
      "[900]\ttraining's multi_logloss: 0.790985\tvalid_1's multi_logloss: 0.799329\n",
      "[1000]\ttraining's multi_logloss: 0.790984\tvalid_1's multi_logloss: 0.799329\n",
      "[1100]\ttraining's multi_logloss: 0.790984\tvalid_1's multi_logloss: 0.799329\n",
      "[1200]\ttraining's multi_logloss: 0.790984\tvalid_1's multi_logloss: 0.799329\n",
      "[1300]\ttraining's multi_logloss: 0.790984\tvalid_1's multi_logloss: 0.799329\n",
      "[1400]\ttraining's multi_logloss: 0.790984\tvalid_1's multi_logloss: 0.799329\n",
      "[1500]\ttraining's multi_logloss: 0.790984\tvalid_1's multi_logloss: 0.799329\n",
      "[1600]\ttraining's multi_logloss: 0.790984\tvalid_1's multi_logloss: 0.799329\n",
      "[1700]\ttraining's multi_logloss: 0.790984\tvalid_1's multi_logloss: 0.799329\n",
      "[1800]\ttraining's multi_logloss: 0.790984\tvalid_1's multi_logloss: 0.799329\n",
      "[1900]\ttraining's multi_logloss: 0.790984\tvalid_1's multi_logloss: 0.799329\n",
      "[2000]\ttraining's multi_logloss: 0.790984\tvalid_1's multi_logloss: 0.799329\n",
      "Did not meet early stopping. Best iteration is:\n",
      "[2000]\ttraining's multi_logloss: 0.790984\tvalid_1's multi_logloss: 0.799329\n",
      "| \u001b[0m 23      \u001b[0m | \u001b[0m 0.7993  \u001b[0m | \u001b[0m 1.0     \u001b[0m | \u001b[0m 104.1   \u001b[0m | \u001b[0m 8.0     \u001b[0m | \u001b[0m 10.0    \u001b[0m | \u001b[0m 1.0     \u001b[0m | \u001b[0m 64.0    \u001b[0m | \u001b[0m 50.0    \u001b[0m | \u001b[0m 0.001   \u001b[0m | \u001b[0m 0.5     \u001b[0m |\n",
      "Training until validation scores don't improve for 100 rounds\n",
      "[100]\ttraining's multi_logloss: 0.802393\tvalid_1's multi_logloss: 0.808877\n",
      "[200]\ttraining's multi_logloss: 0.777088\tvalid_1's multi_logloss: 0.794722\n",
      "[300]\ttraining's multi_logloss: 0.759986\tvalid_1's multi_logloss: 0.787485\n",
      "[400]\ttraining's multi_logloss: 0.746554\tvalid_1's multi_logloss: 0.78213\n",
      "[500]\ttraining's multi_logloss: 0.740165\tvalid_1's multi_logloss: 0.779857\n",
      "[600]\ttraining's multi_logloss: 0.736376\tvalid_1's multi_logloss: 0.778678\n",
      "[700]\ttraining's multi_logloss: 0.734681\tvalid_1's multi_logloss: 0.778255\n",
      "[800]\ttraining's multi_logloss: 0.734094\tvalid_1's multi_logloss: 0.778143\n",
      "[900]\ttraining's multi_logloss: 0.733819\tvalid_1's multi_logloss: 0.778069\n",
      "Early stopping, best iteration is:\n",
      "[882]\ttraining's multi_logloss: 0.733834\tvalid_1's multi_logloss: 0.778068\n",
      "| \u001b[0m 24      \u001b[0m | \u001b[0m 0.7781  \u001b[0m | \u001b[0m 0.9167  \u001b[0m | \u001b[0m 307.7   \u001b[0m | \u001b[0m 11.99   \u001b[0m | \u001b[0m 143.1   \u001b[0m | \u001b[0m 23.48   \u001b[0m | \u001b[0m 37.28   \u001b[0m | \u001b[0m 25.93   \u001b[0m | \u001b[0m 7.177   \u001b[0m | \u001b[0m 0.8748  \u001b[0m |\n",
      "Training until validation scores don't improve for 100 rounds\n",
      "[100]\ttraining's multi_logloss: 0.813444\tvalid_1's multi_logloss: 0.813766\n",
      "[200]\ttraining's multi_logloss: 0.799473\tvalid_1's multi_logloss: 0.804232\n",
      "[300]\ttraining's multi_logloss: 0.794629\tvalid_1's multi_logloss: 0.801298\n",
      "[400]\ttraining's multi_logloss: 0.793137\tvalid_1's multi_logloss: 0.800409\n",
      "[500]\ttraining's multi_logloss: 0.79231\tvalid_1's multi_logloss: 0.799869\n",
      "[600]\ttraining's multi_logloss: 0.792011\tvalid_1's multi_logloss: 0.799624\n",
      "[700]\ttraining's multi_logloss: 0.791934\tvalid_1's multi_logloss: 0.799573\n",
      "Early stopping, best iteration is:\n",
      "[678]\ttraining's multi_logloss: 0.791934\tvalid_1's multi_logloss: 0.799573\n",
      "| \u001b[0m 25      \u001b[0m | \u001b[0m 0.7996  \u001b[0m | \u001b[0m 1.0     \u001b[0m | \u001b[0m 140.4   \u001b[0m | \u001b[0m 8.0     \u001b[0m | \u001b[0m 81.45   \u001b[0m | \u001b[0m 1.0     \u001b[0m | \u001b[0m 24.0    \u001b[0m | \u001b[0m 50.0    \u001b[0m | \u001b[0m 0.001   \u001b[0m | \u001b[0m 1.0     \u001b[0m |\n",
      "Training until validation scores don't improve for 100 rounds\n",
      "[100]\ttraining's multi_logloss: 0.814549\tvalid_1's multi_logloss: 0.814519\n",
      "[200]\ttraining's multi_logloss: 0.800812\tvalid_1's multi_logloss: 0.804903\n",
      "[300]\ttraining's multi_logloss: 0.795685\tvalid_1's multi_logloss: 0.801913\n",
      "[400]\ttraining's multi_logloss: 0.794281\tvalid_1's multi_logloss: 0.800824\n",
      "[500]\ttraining's multi_logloss: 0.793797\tvalid_1's multi_logloss: 0.800435\n",
      "[600]\ttraining's multi_logloss: 0.793605\tvalid_1's multi_logloss: 0.800277\n",
      "[700]\ttraining's multi_logloss: 0.793481\tvalid_1's multi_logloss: 0.800161\n",
      "[800]\ttraining's multi_logloss: 0.793444\tvalid_1's multi_logloss: 0.800135\n",
      "[900]\ttraining's multi_logloss: 0.793441\tvalid_1's multi_logloss: 0.800132\n",
      "[1000]\ttraining's multi_logloss: 0.79344\tvalid_1's multi_logloss: 0.800131\n",
      "[1100]\ttraining's multi_logloss: 0.793439\tvalid_1's multi_logloss: 0.80013\n",
      "[1200]\ttraining's multi_logloss: 0.793439\tvalid_1's multi_logloss: 0.80013\n",
      "[1300]\ttraining's multi_logloss: 0.793439\tvalid_1's multi_logloss: 0.80013\n",
      "[1400]\ttraining's multi_logloss: 0.793439\tvalid_1's multi_logloss: 0.80013\n",
      "[1500]\ttraining's multi_logloss: 0.793439\tvalid_1's multi_logloss: 0.80013\n",
      "[1600]\ttraining's multi_logloss: 0.793439\tvalid_1's multi_logloss: 0.80013\n",
      "[1700]\ttraining's multi_logloss: 0.793439\tvalid_1's multi_logloss: 0.80013\n",
      "[1800]\ttraining's multi_logloss: 0.793439\tvalid_1's multi_logloss: 0.80013\n",
      "[1900]\ttraining's multi_logloss: 0.793439\tvalid_1's multi_logloss: 0.80013\n",
      "[2000]\ttraining's multi_logloss: 0.793439\tvalid_1's multi_logloss: 0.80013\n",
      "Did not meet early stopping. Best iteration is:\n",
      "[2000]\ttraining's multi_logloss: 0.793439\tvalid_1's multi_logloss: 0.80013\n",
      "| \u001b[0m 26      \u001b[0m | \u001b[0m 0.8001  \u001b[0m | \u001b[0m 0.8905  \u001b[0m | \u001b[0m 47.58   \u001b[0m | \u001b[0m 11.78   \u001b[0m | \u001b[0m 14.48   \u001b[0m | \u001b[0m 50.0    \u001b[0m | \u001b[0m 24.0    \u001b[0m | \u001b[0m 50.0    \u001b[0m | \u001b[0m 8.673   \u001b[0m | \u001b[0m 0.8073  \u001b[0m |\n",
      "Training until validation scores don't improve for 100 rounds\n",
      "[100]\ttraining's multi_logloss: 0.732208\tvalid_1's multi_logloss: 0.782871\n",
      "[200]\ttraining's multi_logloss: 0.6723\tvalid_1's multi_logloss: 0.761749\n",
      "[300]\ttraining's multi_logloss: 0.629013\tvalid_1's multi_logloss: 0.749994\n",
      "[400]\ttraining's multi_logloss: 0.593252\tvalid_1's multi_logloss: 0.741984\n",
      "[500]\ttraining's multi_logloss: 0.562541\tvalid_1's multi_logloss: 0.73773\n",
      "[600]\ttraining's multi_logloss: 0.534999\tvalid_1's multi_logloss: 0.735533\n",
      "[700]\ttraining's multi_logloss: 0.510016\tvalid_1's multi_logloss: 0.734401\n",
      "[800]\ttraining's multi_logloss: 0.487302\tvalid_1's multi_logloss: 0.732915\n",
      "[900]\ttraining's multi_logloss: 0.466133\tvalid_1's multi_logloss: 0.732217\n",
      "[1000]\ttraining's multi_logloss: 0.446114\tvalid_1's multi_logloss: 0.732594\n",
      "Early stopping, best iteration is:\n",
      "[908]\ttraining's multi_logloss: 0.464581\tvalid_1's multi_logloss: 0.732168\n",
      "| \u001b[0m 27      \u001b[0m | \u001b[0m 0.7322  \u001b[0m | \u001b[0m 1.0     \u001b[0m | \u001b[0m 12.06   \u001b[0m | \u001b[0m 10.93   \u001b[0m | \u001b[0m 10.0    \u001b[0m | \u001b[0m 1.0     \u001b[0m | \u001b[0m 64.0    \u001b[0m | \u001b[0m 0.01    \u001b[0m | \u001b[0m 8.241   \u001b[0m | \u001b[0m 1.0     \u001b[0m |\n",
      "Training until validation scores don't improve for 100 rounds\n",
      "[100]\ttraining's multi_logloss: 0.817792\tvalid_1's multi_logloss: 0.817289\n",
      "[200]\ttraining's multi_logloss: 0.804923\tvalid_1's multi_logloss: 0.807516\n",
      "[300]\ttraining's multi_logloss: 0.798688\tvalid_1's multi_logloss: 0.803674\n"
     ]
    },
    {
     "name": "stdout",
     "output_type": "stream",
     "text": [
      "[400]\ttraining's multi_logloss: 0.796857\tvalid_1's multi_logloss: 0.802371\n",
      "[500]\ttraining's multi_logloss: 0.795875\tvalid_1's multi_logloss: 0.801659\n",
      "[600]\ttraining's multi_logloss: 0.795616\tvalid_1's multi_logloss: 0.801405\n",
      "[700]\ttraining's multi_logloss: 0.795415\tvalid_1's multi_logloss: 0.801203\n",
      "[800]\ttraining's multi_logloss: 0.795326\tvalid_1's multi_logloss: 0.801111\n",
      "[900]\ttraining's multi_logloss: 0.795259\tvalid_1's multi_logloss: 0.801045\n",
      "[1000]\ttraining's multi_logloss: 0.795218\tvalid_1's multi_logloss: 0.801004\n",
      "[1100]\ttraining's multi_logloss: 0.795192\tvalid_1's multi_logloss: 0.800977\n",
      "[1200]\ttraining's multi_logloss: 0.795174\tvalid_1's multi_logloss: 0.800959\n",
      "[1300]\ttraining's multi_logloss: 0.795164\tvalid_1's multi_logloss: 0.800949\n",
      "[1400]\ttraining's multi_logloss: 0.795158\tvalid_1's multi_logloss: 0.800942\n",
      "[1500]\ttraining's multi_logloss: 0.795153\tvalid_1's multi_logloss: 0.800937\n",
      "[1600]\ttraining's multi_logloss: 0.79515\tvalid_1's multi_logloss: 0.800935\n",
      "[1700]\ttraining's multi_logloss: 0.795149\tvalid_1's multi_logloss: 0.800933\n",
      "[1800]\ttraining's multi_logloss: 0.795148\tvalid_1's multi_logloss: 0.800932\n",
      "[1900]\ttraining's multi_logloss: 0.795147\tvalid_1's multi_logloss: 0.800931\n",
      "[2000]\ttraining's multi_logloss: 0.795147\tvalid_1's multi_logloss: 0.800931\n",
      "Did not meet early stopping. Best iteration is:\n",
      "[2000]\ttraining's multi_logloss: 0.795147\tvalid_1's multi_logloss: 0.800931\n",
      "| \u001b[95m 28      \u001b[0m | \u001b[95m 0.8009  \u001b[0m | \u001b[95m 0.5     \u001b[0m | \u001b[95m 112.3   \u001b[0m | \u001b[95m 8.0     \u001b[0m | \u001b[95m 60.09   \u001b[0m | \u001b[95m 50.0    \u001b[0m | \u001b[95m 64.0    \u001b[0m | \u001b[95m 50.0    \u001b[0m | \u001b[95m 10.0    \u001b[0m | \u001b[95m 1.0     \u001b[0m |\n",
      "Training until validation scores don't improve for 100 rounds\n",
      "[100]\ttraining's multi_logloss: 0.817518\tvalid_1's multi_logloss: 0.817085\n",
      "[200]\ttraining's multi_logloss: 0.804469\tvalid_1's multi_logloss: 0.807303\n",
      "[300]\ttraining's multi_logloss: 0.798275\tvalid_1's multi_logloss: 0.803501\n",
      "[400]\ttraining's multi_logloss: 0.796531\tvalid_1's multi_logloss: 0.802235\n",
      "[500]\ttraining's multi_logloss: 0.795674\tvalid_1's multi_logloss: 0.801583\n",
      "[600]\ttraining's multi_logloss: 0.795435\tvalid_1's multi_logloss: 0.801343\n",
      "[700]\ttraining's multi_logloss: 0.79524\tvalid_1's multi_logloss: 0.801147\n",
      "[800]\ttraining's multi_logloss: 0.795152\tvalid_1's multi_logloss: 0.801059\n",
      "[900]\ttraining's multi_logloss: 0.79509\tvalid_1's multi_logloss: 0.800994\n",
      "[1000]\ttraining's multi_logloss: 0.795052\tvalid_1's multi_logloss: 0.800957\n",
      "[1100]\ttraining's multi_logloss: 0.795028\tvalid_1's multi_logloss: 0.800933\n",
      "[1200]\ttraining's multi_logloss: 0.795012\tvalid_1's multi_logloss: 0.800917\n",
      "[1300]\ttraining's multi_logloss: 0.795003\tvalid_1's multi_logloss: 0.800908\n",
      "[1400]\ttraining's multi_logloss: 0.794998\tvalid_1's multi_logloss: 0.800903\n",
      "[1500]\ttraining's multi_logloss: 0.794994\tvalid_1's multi_logloss: 0.800899\n",
      "[1600]\ttraining's multi_logloss: 0.794992\tvalid_1's multi_logloss: 0.800897\n",
      "[1700]\ttraining's multi_logloss: 0.794991\tvalid_1's multi_logloss: 0.800895\n",
      "[1800]\ttraining's multi_logloss: 0.79499\tvalid_1's multi_logloss: 0.800895\n",
      "[1900]\ttraining's multi_logloss: 0.79499\tvalid_1's multi_logloss: 0.800894\n",
      "[2000]\ttraining's multi_logloss: 0.794989\tvalid_1's multi_logloss: 0.800894\n",
      "Did not meet early stopping. Best iteration is:\n",
      "[1998]\ttraining's multi_logloss: 0.794989\tvalid_1's multi_logloss: 0.800894\n",
      "| \u001b[0m 29      \u001b[0m | \u001b[0m 0.8009  \u001b[0m | \u001b[0m 0.5     \u001b[0m | \u001b[0m 107.2   \u001b[0m | \u001b[0m 16.0    \u001b[0m | \u001b[0m 10.0    \u001b[0m | \u001b[0m 50.0    \u001b[0m | \u001b[0m 24.0    \u001b[0m | \u001b[0m 50.0    \u001b[0m | \u001b[0m 4.107   \u001b[0m | \u001b[0m 1.0     \u001b[0m |\n",
      "Training until validation scores don't improve for 100 rounds\n",
      "[100]\ttraining's multi_logloss: 0.816555\tvalid_1's multi_logloss: 0.816536\n",
      "[200]\ttraining's multi_logloss: 0.803117\tvalid_1's multi_logloss: 0.806646\n",
      "[300]\ttraining's multi_logloss: 0.797363\tvalid_1's multi_logloss: 0.803095\n",
      "[400]\ttraining's multi_logloss: 0.795673\tvalid_1's multi_logloss: 0.801854\n",
      "[500]\ttraining's multi_logloss: 0.794853\tvalid_1's multi_logloss: 0.801233\n",
      "[600]\ttraining's multi_logloss: 0.794634\tvalid_1's multi_logloss: 0.801012\n",
      "[700]\ttraining's multi_logloss: 0.794455\tvalid_1's multi_logloss: 0.800833\n",
      "[800]\ttraining's multi_logloss: 0.794373\tvalid_1's multi_logloss: 0.80075\n",
      "[900]\ttraining's multi_logloss: 0.794321\tvalid_1's multi_logloss: 0.800695\n",
      "[1000]\ttraining's multi_logloss: 0.794283\tvalid_1's multi_logloss: 0.800658\n",
      "[1100]\ttraining's multi_logloss: 0.794263\tvalid_1's multi_logloss: 0.800637\n",
      "[1200]\ttraining's multi_logloss: 0.794251\tvalid_1's multi_logloss: 0.800624\n",
      "[1300]\ttraining's multi_logloss: 0.794244\tvalid_1's multi_logloss: 0.800617\n",
      "[1400]\ttraining's multi_logloss: 0.794239\tvalid_1's multi_logloss: 0.800612\n",
      "[1500]\ttraining's multi_logloss: 0.794237\tvalid_1's multi_logloss: 0.800609\n",
      "[1600]\ttraining's multi_logloss: 0.794235\tvalid_1's multi_logloss: 0.800607\n",
      "[1700]\ttraining's multi_logloss: 0.794234\tvalid_1's multi_logloss: 0.800606\n",
      "[1800]\ttraining's multi_logloss: 0.794233\tvalid_1's multi_logloss: 0.800606\n",
      "[1900]\ttraining's multi_logloss: 0.794233\tvalid_1's multi_logloss: 0.800605\n",
      "[2000]\ttraining's multi_logloss: 0.794233\tvalid_1's multi_logloss: 0.800605\n",
      "Did not meet early stopping. Best iteration is:\n",
      "[1998]\ttraining's multi_logloss: 0.794233\tvalid_1's multi_logloss: 0.800605\n",
      "| \u001b[0m 30      \u001b[0m | \u001b[0m 0.8006  \u001b[0m | \u001b[0m 0.5     \u001b[0m | \u001b[0m 309.8   \u001b[0m | \u001b[0m 8.0     \u001b[0m | \u001b[0m 59.24   \u001b[0m | \u001b[0m 1.0     \u001b[0m | \u001b[0m 24.0    \u001b[0m | \u001b[0m 50.0    \u001b[0m | \u001b[0m 0.001   \u001b[0m | \u001b[0m 1.0     \u001b[0m |\n",
      "=====================================================================================================================================\n"
     ]
    }
   ],
   "source": [
    "lgbBO = BayesianOptimization(f=lgb_log_eval, pbounds=bayesian_params, random_state=0)\n",
    "lgbBO.maximize(init_points=5, n_iter=25)"
   ]
  },
  {
   "cell_type": "code",
   "execution_count": 134,
   "metadata": {},
   "outputs": [
    {
     "data": {
      "text/plain": [
       "[{'target': 0.7674654149153005,\n",
       "  'params': {'colsample_bytree': 0.7744067519636624,\n",
       "   'max_bin': 360.44278952248555,\n",
       "   'max_depth': 12.822107008573152,\n",
       "   'min_child_samples': 113.52780476941041,\n",
       "   'min_child_weight': 21.75908516760633,\n",
       "   'num_leaves': 49.835764522666246,\n",
       "   'reg_alpha': 21.884984691022,\n",
       "   'reg_lambda': 8.917838234820016,\n",
       "   'subsample': 0.9818313802505146}},\n",
       " {'target': 0.7426629522516105,\n",
       "  'params': {'colsample_bytree': 0.6917207594128889,\n",
       "   'max_bin': 397.94526866050563,\n",
       "   'max_depth': 12.231159358023236,\n",
       "   'min_child_samples': 117.92846660784714,\n",
       "   'min_child_weight': 46.35423527634039,\n",
       "   'num_leaves': 26.841442327915477,\n",
       "   'reg_alpha': 4.36559369208002,\n",
       "   'reg_lambda': 0.20316375600581688,\n",
       "   'subsample': 0.916309922773969}},\n",
       " {'target': 0.7375282264728025,\n",
       "  'params': {'colsample_bytree': 0.8890783754749252,\n",
       "   'max_bin': 436.30595264094137,\n",
       "   'max_depth': 15.828946737862111,\n",
       "   'min_child_samples': 161.8401272011775,\n",
       "   'min_child_weight': 23.61248875039366,\n",
       "   'num_leaves': 55.22116705145822,\n",
       "   'reg_alpha': 5.922538549187972,\n",
       "   'reg_lambda': 6.3995702922539115,\n",
       "   'subsample': 0.5716766437045232}},\n",
       " {'target': 0.7800711767501333,\n",
       "  'params': {'colsample_bytree': 0.972334458524792,\n",
       "   'max_bin': 265.70567765753515,\n",
       "   'max_depth': 11.317295519924189,\n",
       "   'min_child_samples': 60.265566299879126,\n",
       "   'min_child_weight': 38.93745078227661,\n",
       "   'num_leaves': 42.24601328866194,\n",
       "   'reg_alpha': 28.426013103943742,\n",
       "   'reg_lambda': 0.18887921456311507,\n",
       "   'subsample': 0.8088177485379385}},\n",
       " {'target': 0.7900448020070744,\n",
       "  'params': {'colsample_bytree': 0.8060478613612108,\n",
       "   'max_bin': 312.2976584686309,\n",
       "   'max_depth': 15.549984628116993,\n",
       "   'min_child_samples': 139.54585682966186,\n",
       "   'min_child_weight': 18.615887128115514,\n",
       "   'num_leaves': 41.481278151973655,\n",
       "   'reg_alpha': 34.88458348440397,\n",
       "   'reg_lambda': 0.6031944908210691,\n",
       "   'subsample': 0.8333833577228338}},\n",
       " {'target': 0.8003940716041866,\n",
       "  'params': {'colsample_bytree': 0.8190073692865797,\n",
       "   'max_bin': 228.95684145869248,\n",
       "   'max_depth': 12.928179173166024,\n",
       "   'min_child_samples': 168.85150776189374,\n",
       "   'min_child_weight': 1.0,\n",
       "   'num_leaves': 64.0,\n",
       "   'reg_alpha': 50.0,\n",
       "   'reg_lambda': 10.0,\n",
       "   'subsample': 1.0}},\n",
       " {'target': 0.7876971839702093,\n",
       "  'params': {'colsample_bytree': 0.6104750401663404,\n",
       "   'max_bin': 314.56822256724473,\n",
       "   'max_depth': 13.327434085622322,\n",
       "   'min_child_samples': 143.01213052470868,\n",
       "   'min_child_weight': 23.614761465536983,\n",
       "   'num_leaves': 36.02242851396237,\n",
       "   'reg_alpha': 32.36297362737444,\n",
       "   'reg_lambda': 3.3176793519623575,\n",
       "   'subsample': 0.9918901486846947}},\n",
       " {'target': 0.7393101850513389,\n",
       "  'params': {'colsample_bytree': 1.0,\n",
       "   'max_bin': 39.45154794411252,\n",
       "   'max_depth': 16.0,\n",
       "   'min_child_samples': 200.0,\n",
       "   'min_child_weight': 1.0,\n",
       "   'num_leaves': 64.0,\n",
       "   'reg_alpha': 0.01,\n",
       "   'reg_lambda': 0.001,\n",
       "   'subsample': 0.5}},\n",
       " {'target': 0.7457323326394358,\n",
       "  'params': {'colsample_bytree': 1.0,\n",
       "   'max_bin': 245.57135784981654,\n",
       "   'max_depth': 16.0,\n",
       "   'min_child_samples': 200.0,\n",
       "   'min_child_weight': 1.0,\n",
       "   'num_leaves': 24.0,\n",
       "   'reg_alpha': 0.01,\n",
       "   'reg_lambda': 0.001,\n",
       "   'subsample': 0.5}},\n",
       " {'target': 0.8007013531405086,\n",
       "  'params': {'colsample_bytree': 0.5,\n",
       "   'max_bin': 217.5406075960368,\n",
       "   'max_depth': 8.0,\n",
       "   'min_child_samples': 109.22448220405798,\n",
       "   'min_child_weight': 1.0,\n",
       "   'num_leaves': 64.0,\n",
       "   'reg_alpha': 50.0,\n",
       "   'reg_lambda': 10.0,\n",
       "   'subsample': 1.0}},\n",
       " {'target': 0.7637360380388106,\n",
       "  'params': {'colsample_bytree': 0.5925209137066674,\n",
       "   'max_bin': 264.9694919138617,\n",
       "   'max_depth': 14.288080416925759,\n",
       "   'min_child_samples': 64.35453598964475,\n",
       "   'min_child_weight': 39.21862410208353,\n",
       "   'num_leaves': 45.550114189442766,\n",
       "   'reg_alpha': 19.14062300483427,\n",
       "   'reg_lambda': 3.4496173592690638,\n",
       "   'subsample': 0.742492131973743}},\n",
       " {'target': 0.8008061799049954,\n",
       "  'params': {'colsample_bytree': 0.6558524883833605,\n",
       "   'max_bin': 252.00438052664694,\n",
       "   'max_depth': 8.0,\n",
       "   'min_child_samples': 134.37637218948882,\n",
       "   'min_child_weight': 4.403891464168925,\n",
       "   'num_leaves': 62.95225070869753,\n",
       "   'reg_alpha': 50.0,\n",
       "   'reg_lambda': 7.377220272304311,\n",
       "   'subsample': 0.9108982907216109}},\n",
       " {'target': 0.7929988026356753,\n",
       "  'params': {'colsample_bytree': 0.691846376308528,\n",
       "   'max_bin': 315.52665619278974,\n",
       "   'max_depth': 14.435852109435196,\n",
       "   'min_child_samples': 145.21200980993754,\n",
       "   'min_child_weight': 21.620981607433027,\n",
       "   'num_leaves': 39.04413116480919,\n",
       "   'reg_alpha': 37.29052328711559,\n",
       "   'reg_lambda': 3.8120813265257567,\n",
       "   'subsample': 0.8113252096283463}},\n",
       " {'target': 0.7997551377989158,\n",
       "  'params': {'colsample_bytree': 1.0,\n",
       "   'max_bin': 211.34596549528155,\n",
       "   'max_depth': 8.0,\n",
       "   'min_child_samples': 140.627444946221,\n",
       "   'min_child_weight': 40.386959583175965,\n",
       "   'num_leaves': 64.0,\n",
       "   'reg_alpha': 50.0,\n",
       "   'reg_lambda': 0.001,\n",
       "   'subsample': 1.0}},\n",
       " {'target': 0.7941791793604598,\n",
       "  'params': {'colsample_bytree': 0.9555206147352014,\n",
       "   'max_bin': 223.71263427418646,\n",
       "   'max_depth': 13.751923469608531,\n",
       "   'min_child_samples': 166.470544033068,\n",
       "   'min_child_weight': 3.227266898096246,\n",
       "   'num_leaves': 62.85932576484585,\n",
       "   'reg_alpha': 39.58363956955467,\n",
       "   'reg_lambda': 8.76198420275401,\n",
       "   'subsample': 0.9847832814568134}},\n",
       " {'target': 0.7912152518632387,\n",
       "  'params': {'colsample_bytree': 0.7650617997793291,\n",
       "   'max_bin': 317.4661976818364,\n",
       "   'max_depth': 11.744333160030056,\n",
       "   'min_child_samples': 143.8718622253974,\n",
       "   'min_child_weight': 24.45914802110835,\n",
       "   'num_leaves': 28.654596930853717,\n",
       "   'reg_alpha': 35.67571687852775,\n",
       "   'reg_lambda': 0.025659789055731082,\n",
       "   'subsample': 0.5279915172622653}},\n",
       " {'target': 0.7886304919231963,\n",
       "  'params': {'colsample_bytree': 0.5800126886880583,\n",
       "   'max_bin': 306.8835480295976,\n",
       "   'max_depth': 14.691116113816667,\n",
       "   'min_child_samples': 142.22559805310016,\n",
       "   'min_child_weight': 20.028665863441404,\n",
       "   'num_leaves': 32.04177974558384,\n",
       "   'reg_alpha': 32.844809348587525,\n",
       "   'reg_lambda': 3.560067724675478,\n",
       "   'subsample': 0.883503852529671}},\n",
       " {'target': 0.7993299830587726,\n",
       "  'params': {'colsample_bytree': 1.0,\n",
       "   'max_bin': 253.48200943700405,\n",
       "   'max_depth': 8.0,\n",
       "   'min_child_samples': 10.0,\n",
       "   'min_child_weight': 2.5332288902051268,\n",
       "   'num_leaves': 24.0,\n",
       "   'reg_alpha': 50.0,\n",
       "   'reg_lambda': 0.001,\n",
       "   'subsample': 1.0}},\n",
       " {'target': 0.7916924323786799,\n",
       "  'params': {'colsample_bytree': 0.5933610525670114,\n",
       "   'max_bin': 312.2457551277246,\n",
       "   'max_depth': 11.752402970209822,\n",
       "   'min_child_samples': 140.1041811395692,\n",
       "   'min_child_weight': 22.314689352255748,\n",
       "   'num_leaves': 32.765889785978004,\n",
       "   'reg_alpha': 35.18405717031849,\n",
       "   'reg_lambda': 3.943172449370046,\n",
       "   'subsample': 0.9499968245515606}},\n",
       " {'target': 0.7996920980589711,\n",
       "  'params': {'colsample_bytree': 1.0,\n",
       "   'max_bin': 314.07217173308334,\n",
       "   'max_depth': 8.0,\n",
       "   'min_child_samples': 10.0,\n",
       "   'min_child_weight': 50.0,\n",
       "   'num_leaves': 24.0,\n",
       "   'reg_alpha': 50.0,\n",
       "   'reg_lambda': 0.001,\n",
       "   'subsample': 0.6404042069888454}},\n",
       " {'target': 0.7996920980589711,\n",
       "  'params': {'colsample_bytree': 1.0,\n",
       "   'max_bin': 170.19963505245448,\n",
       "   'max_depth': 8.0,\n",
       "   'min_child_samples': 28.38284637656406,\n",
       "   'min_child_weight': 50.0,\n",
       "   'num_leaves': 24.0,\n",
       "   'reg_alpha': 50.0,\n",
       "   'reg_lambda': 0.001,\n",
       "   'subsample': 1.0}},\n",
       " {'target': 0.7841597194518554,\n",
       "  'params': {'colsample_bytree': 0.6091689153767736,\n",
       "   'max_bin': 317.89880939448955,\n",
       "   'max_depth': 12.875828351671393,\n",
       "   'min_child_samples': 144.32954278514703,\n",
       "   'min_child_weight': 21.29346194426049,\n",
       "   'num_leaves': 34.565332414235954,\n",
       "   'reg_alpha': 29.46844884573378,\n",
       "   'reg_lambda': 4.129000289188431,\n",
       "   'subsample': 0.509560124757534}},\n",
       " {'target': 0.7993289290901292,\n",
       "  'params': {'colsample_bytree': 1.0,\n",
       "   'max_bin': 104.11641366122693,\n",
       "   'max_depth': 8.0,\n",
       "   'min_child_samples': 10.0,\n",
       "   'min_child_weight': 1.0,\n",
       "   'num_leaves': 64.0,\n",
       "   'reg_alpha': 50.0,\n",
       "   'reg_lambda': 0.001,\n",
       "   'subsample': 0.5}},\n",
       " {'target': 0.7780682632988181,\n",
       "  'params': {'colsample_bytree': 0.9166963339789977,\n",
       "   'max_bin': 307.6926639951294,\n",
       "   'max_depth': 11.985607166445494,\n",
       "   'min_child_samples': 143.13740600840586,\n",
       "   'min_child_weight': 23.47821575832019,\n",
       "   'num_leaves': 37.276961784362555,\n",
       "   'reg_alpha': 25.927249991761666,\n",
       "   'reg_lambda': 7.176733693098384,\n",
       "   'subsample': 0.8747918446399996}},\n",
       " {'target': 0.7995732383178489,\n",
       "  'params': {'colsample_bytree': 1.0,\n",
       "   'max_bin': 140.38457265811533,\n",
       "   'max_depth': 8.0,\n",
       "   'min_child_samples': 81.45283545961705,\n",
       "   'min_child_weight': 1.0,\n",
       "   'num_leaves': 24.0,\n",
       "   'reg_alpha': 50.0,\n",
       "   'reg_lambda': 0.001,\n",
       "   'subsample': 1.0}},\n",
       " {'target': 0.8001295845029017,\n",
       "  'params': {'colsample_bytree': 0.8904855163576857,\n",
       "   'max_bin': 47.58184105292613,\n",
       "   'max_depth': 11.77923483068743,\n",
       "   'min_child_samples': 14.483896489858374,\n",
       "   'min_child_weight': 50.0,\n",
       "   'num_leaves': 24.0,\n",
       "   'reg_alpha': 50.0,\n",
       "   'reg_lambda': 8.673012464233704,\n",
       "   'subsample': 0.8072532013554761}},\n",
       " {'target': 0.7321683181802943,\n",
       "  'params': {'colsample_bytree': 1.0,\n",
       "   'max_bin': 12.063552152609525,\n",
       "   'max_depth': 10.93107240990202,\n",
       "   'min_child_samples': 10.0,\n",
       "   'min_child_weight': 1.0,\n",
       "   'num_leaves': 64.0,\n",
       "   'reg_alpha': 0.01,\n",
       "   'reg_lambda': 8.24122472503969,\n",
       "   'subsample': 1.0}},\n",
       " {'target': 0.8009309480038636,\n",
       "  'params': {'colsample_bytree': 0.5,\n",
       "   'max_bin': 112.31025049448952,\n",
       "   'max_depth': 8.0,\n",
       "   'min_child_samples': 60.08773155879805,\n",
       "   'min_child_weight': 50.0,\n",
       "   'num_leaves': 64.0,\n",
       "   'reg_alpha': 50.0,\n",
       "   'reg_lambda': 10.0,\n",
       "   'subsample': 1.0}},\n",
       " {'target': 0.800893897393618,\n",
       "  'params': {'colsample_bytree': 0.5,\n",
       "   'max_bin': 107.22987037930217,\n",
       "   'max_depth': 16.0,\n",
       "   'min_child_samples': 10.0,\n",
       "   'min_child_weight': 50.0,\n",
       "   'num_leaves': 24.0,\n",
       "   'reg_alpha': 50.0,\n",
       "   'reg_lambda': 4.106897605091783,\n",
       "   'subsample': 1.0}},\n",
       " {'target': 0.800605178403424,\n",
       "  'params': {'colsample_bytree': 0.5,\n",
       "   'max_bin': 309.848703196817,\n",
       "   'max_depth': 8.0,\n",
       "   'min_child_samples': 59.239685157744354,\n",
       "   'min_child_weight': 1.0,\n",
       "   'num_leaves': 24.0,\n",
       "   'reg_alpha': 50.0,\n",
       "   'reg_lambda': 0.001,\n",
       "   'subsample': 1.0}}]"
      ]
     },
     "execution_count": 134,
     "metadata": {},
     "output_type": "execute_result"
    }
   ],
   "source": [
    "lgbBO.res"
   ]
  },
  {
   "cell_type": "code",
   "execution_count": 135,
   "metadata": {},
   "outputs": [
    {
     "name": "stdout",
     "output_type": "stream",
     "text": [
      "[0.7674654149153005, 0.7426629522516105, 0.7375282264728025, 0.7800711767501333, 0.7900448020070744, 0.8003940716041866, 0.7876971839702093, 0.7393101850513389, 0.7457323326394358, 0.8007013531405086, 0.7637360380388106, 0.8008061799049954, 0.7929988026356753, 0.7997551377989158, 0.7941791793604598, 0.7912152518632387, 0.7886304919231963, 0.7993299830587726, 0.7916924323786799, 0.7996920980589711, 0.7996920980589711, 0.7841597194518554, 0.7993289290901292, 0.7780682632988181, 0.7995732383178489, 0.8001295845029017, 0.7321683181802943, 0.8009309480038636, 0.800893897393618, 0.800605178403424]\n",
      "minimum target index: 26\n"
     ]
    }
   ],
   "source": [
    "# dictionary에 있는 target값을 모두 추출\n",
    "target_list = []\n",
    "for result in lgbBO.res:\n",
    "    target = result['target']\n",
    "    target_list.append(target)\n",
    "print(target_list)\n",
    "# 가장 큰 target 값을 가지는 순번(index)를 추출\n",
    "print('minimum target index:', np.argmin(np.array(target_list)))"
   ]
  },
  {
   "cell_type": "code",
   "execution_count": 136,
   "metadata": {},
   "outputs": [
    {
     "name": "stdout",
     "output_type": "stream",
     "text": [
      "{'target': 0.7321683181802943, 'params': {'colsample_bytree': 1.0, 'max_bin': 12.063552152609525, 'max_depth': 10.93107240990202, 'min_child_samples': 10.0, 'min_child_weight': 1.0, 'num_leaves': 64.0, 'reg_alpha': 0.01, 'reg_lambda': 8.24122472503969, 'subsample': 1.0}}\n"
     ]
    }
   ],
   "source": [
    "# 가장 큰 target값을 가지는 index값을 기준으로 res에서 해당 parameter 추출. \n",
    "min_dict = lgbBO.res[np.argmin(np.array(target_list))]\n",
    "print(min_dict)"
   ]
  },
  {
   "cell_type": "code",
   "execution_count": 139,
   "metadata": {},
   "outputs": [],
   "source": [
    "ftr = X_new\n",
    "target = y"
   ]
  },
  {
   "cell_type": "code",
   "execution_count": 142,
   "metadata": {},
   "outputs": [],
   "source": [
    "from sklearn.model_selection import KFold\n",
    "\n",
    "def train_apps_all_with_oof(ftr, target, nfolds=5):\n",
    "\n",
    "    # nfolds 개의 cross validatin fold set을 가지는 KFold 생성 \n",
    "    folds = KFold(n_splits=nfolds, shuffle=True, random_state=0)\n",
    "    \n",
    "    # Out of Folds로 학습된 모델의 validation set을 예측하여 결과 확률을 담을 array 생성.\n",
    "    # validation set가 n_split갯수만큼 있으므로 크기는 ftr_app의 크기가 되어야 함. \n",
    "    oof_preds = np.zeros(ftr.shape[0])\n",
    "    \n",
    "    # Ouf of Folds로 학습된 모델의 test dataset을 예측하여 결과 확률을 담을 array 생성. \n",
    "    test_preds = np.zeros((X_te_new.shape[0], 3))\n",
    "    \n",
    "    # n_estimators를 4000까지 확대. \n",
    "    clf = LGBMClassifier(\n",
    "                n_jobs=4,\n",
    "                n_estimators=4000,\n",
    "                learning_rate=0.01,\n",
    "                max_depth=11,\n",
    "                num_leaves=64,\n",
    "                colsample_bytree=1.0,\n",
    "                subsample=1.0,\n",
    "                max_bin=120,\n",
    "                reg_alpha=0.01,\n",
    "                reg_lambda=8.24,\n",
    "                min_child_weight=1.0,\n",
    "                min_child_samples=10,\n",
    "                silent=-1,\n",
    "                verbose=-1,\n",
    "                )\n",
    "    \n",
    "    # nfolds 번 cross validation Iteration 반복하면서 OOF 방식으로 학습 및 테스트 데이터 예측\n",
    "    for fold_idx, (train_idx, valid_idx) in enumerate(folds.split(ftr)):\n",
    "        print('##### iteration', fold_idx, '시작')\n",
    "        # 학습용 데이터 세트의 인덱스와 검증용 데이터 세트의 인덱스 추출하여 이를 기반으로 학습/검증 데이터 추출\n",
    "        train_x = ftr.iloc[train_idx, :]\n",
    "        train_y = target.iloc[train_idx]\n",
    "        valid_x = ftr.iloc[valid_idx, :]\n",
    "        valid_y = target.iloc[valid_idx]\n",
    "        \n",
    "        # 추출된 학습/검증 데이터 세트로 모델 학습. early_stopping은 200으로 증가. \n",
    "        clf.fit(train_x, train_y, eval_set=[(train_x, train_y), (valid_x, valid_y)], eval_metric= 'logloss', verbose= 200, \n",
    "                early_stopping_rounds= 200)\n",
    "        \n",
    "        # 검증 데이터 세트로 예측된 확률 저장. 사용되지는 않음. \n",
    "        #oof_preds[valid_idx] = clf.predict_proba(valid_x, num_iteration=clf.best_iteration_)[:, 1]    \n",
    "        \n",
    "        # 학습된 모델로 테스트 데이터 세트에 예측 확률 계산.\n",
    "        # nfolds 번 반복 실행하므로 평균 확률을 구하기 위해 개별 수행시 마다 수행 횟수로 나눈 확률을 추후에 더해서 최종 평균 확률 계산. \n",
    "        test_preds += clf.predict_proba(X_te_new, num_iteration=clf.best_iteration_)/folds.n_splits\n",
    "             \n",
    "    return clf, test_preds"
   ]
  },
  {
   "cell_type": "code",
   "execution_count": 143,
   "metadata": {},
   "outputs": [
    {
     "name": "stdout",
     "output_type": "stream",
     "text": [
      "##### iteration 0 시작\n",
      "Training until validation scores don't improve for 200 rounds\n",
      "[200]\ttraining's multi_logloss: 0.737061\tvalid_1's multi_logloss: 0.783979\n",
      "[400]\ttraining's multi_logloss: 0.679015\tvalid_1's multi_logloss: 0.760223\n",
      "[600]\ttraining's multi_logloss: 0.638998\tvalid_1's multi_logloss: 0.748925\n",
      "[800]\ttraining's multi_logloss: 0.607038\tvalid_1's multi_logloss: 0.741421\n",
      "[1000]\ttraining's multi_logloss: 0.579225\tvalid_1's multi_logloss: 0.735738\n",
      "[1200]\ttraining's multi_logloss: 0.552855\tvalid_1's multi_logloss: 0.732059\n",
      "[1400]\ttraining's multi_logloss: 0.528736\tvalid_1's multi_logloss: 0.729329\n",
      "[1600]\ttraining's multi_logloss: 0.507459\tvalid_1's multi_logloss: 0.729164\n",
      "[1800]\ttraining's multi_logloss: 0.487977\tvalid_1's multi_logloss: 0.728525\n",
      "[2000]\ttraining's multi_logloss: 0.46978\tvalid_1's multi_logloss: 0.728573\n",
      "Early stopping, best iteration is:\n",
      "[1889]\ttraining's multi_logloss: 0.480077\tvalid_1's multi_logloss: 0.728277\n",
      "##### iteration 1 시작\n",
      "Training until validation scores don't improve for 200 rounds\n",
      "[200]\ttraining's multi_logloss: 0.732614\tvalid_1's multi_logloss: 0.778348\n",
      "[400]\ttraining's multi_logloss: 0.673407\tvalid_1's multi_logloss: 0.758967\n",
      "[600]\ttraining's multi_logloss: 0.629641\tvalid_1's multi_logloss: 0.747046\n",
      "[800]\ttraining's multi_logloss: 0.597777\tvalid_1's multi_logloss: 0.739733\n",
      "[1000]\ttraining's multi_logloss: 0.570511\tvalid_1's multi_logloss: 0.734814\n",
      "[1200]\ttraining's multi_logloss: 0.546525\tvalid_1's multi_logloss: 0.732331\n",
      "[1400]\ttraining's multi_logloss: 0.522842\tvalid_1's multi_logloss: 0.730808\n",
      "[1600]\ttraining's multi_logloss: 0.501927\tvalid_1's multi_logloss: 0.72971\n",
      "[1800]\ttraining's multi_logloss: 0.482494\tvalid_1's multi_logloss: 0.728913\n",
      "[2000]\ttraining's multi_logloss: 0.464528\tvalid_1's multi_logloss: 0.729273\n",
      "Early stopping, best iteration is:\n",
      "[1811]\ttraining's multi_logloss: 0.481461\tvalid_1's multi_logloss: 0.728875\n",
      "##### iteration 2 시작\n",
      "Training until validation scores don't improve for 200 rounds\n",
      "[200]\ttraining's multi_logloss: 0.734179\tvalid_1's multi_logloss: 0.793477\n",
      "[400]\ttraining's multi_logloss: 0.675642\tvalid_1's multi_logloss: 0.769501\n",
      "[600]\ttraining's multi_logloss: 0.633515\tvalid_1's multi_logloss: 0.756088\n",
      "[800]\ttraining's multi_logloss: 0.601111\tvalid_1's multi_logloss: 0.746602\n",
      "[1000]\ttraining's multi_logloss: 0.572834\tvalid_1's multi_logloss: 0.741431\n",
      "[1200]\ttraining's multi_logloss: 0.547183\tvalid_1's multi_logloss: 0.737292\n",
      "[1400]\ttraining's multi_logloss: 0.525289\tvalid_1's multi_logloss: 0.734163\n",
      "[1600]\ttraining's multi_logloss: 0.504173\tvalid_1's multi_logloss: 0.731211\n",
      "[1800]\ttraining's multi_logloss: 0.484161\tvalid_1's multi_logloss: 0.728976\n",
      "[2000]\ttraining's multi_logloss: 0.465854\tvalid_1's multi_logloss: 0.727554\n",
      "[2200]\ttraining's multi_logloss: 0.449455\tvalid_1's multi_logloss: 0.726988\n",
      "[2400]\ttraining's multi_logloss: 0.434096\tvalid_1's multi_logloss: 0.726007\n",
      "[2600]\ttraining's multi_logloss: 0.418937\tvalid_1's multi_logloss: 0.726006\n",
      "Early stopping, best iteration is:\n",
      "[2538]\ttraining's multi_logloss: 0.423604\tvalid_1's multi_logloss: 0.725915\n",
      "##### iteration 3 시작\n",
      "Training until validation scores don't improve for 200 rounds\n",
      "[200]\ttraining's multi_logloss: 0.737754\tvalid_1's multi_logloss: 0.780751\n",
      "[400]\ttraining's multi_logloss: 0.681844\tvalid_1's multi_logloss: 0.760134\n",
      "[600]\ttraining's multi_logloss: 0.639975\tvalid_1's multi_logloss: 0.747475\n",
      "[800]\ttraining's multi_logloss: 0.607009\tvalid_1's multi_logloss: 0.738091\n",
      "[1000]\ttraining's multi_logloss: 0.578532\tvalid_1's multi_logloss: 0.731679\n",
      "[1200]\ttraining's multi_logloss: 0.553188\tvalid_1's multi_logloss: 0.727524\n",
      "[1400]\ttraining's multi_logloss: 0.529177\tvalid_1's multi_logloss: 0.72377\n",
      "[1600]\ttraining's multi_logloss: 0.507868\tvalid_1's multi_logloss: 0.721248\n",
      "[1800]\ttraining's multi_logloss: 0.487904\tvalid_1's multi_logloss: 0.720164\n",
      "[2000]\ttraining's multi_logloss: 0.469654\tvalid_1's multi_logloss: 0.719245\n",
      "[2200]\ttraining's multi_logloss: 0.452666\tvalid_1's multi_logloss: 0.718655\n",
      "[2400]\ttraining's multi_logloss: 0.436854\tvalid_1's multi_logloss: 0.718949\n",
      "Early stopping, best iteration is:\n",
      "[2214]\ttraining's multi_logloss: 0.451523\tvalid_1's multi_logloss: 0.718629\n",
      "##### iteration 4 시작\n",
      "Training until validation scores don't improve for 200 rounds\n",
      "[200]\ttraining's multi_logloss: 0.735309\tvalid_1's multi_logloss: 0.78862\n",
      "[400]\ttraining's multi_logloss: 0.676839\tvalid_1's multi_logloss: 0.767294\n",
      "[600]\ttraining's multi_logloss: 0.63849\tvalid_1's multi_logloss: 0.75702\n",
      "[800]\ttraining's multi_logloss: 0.604076\tvalid_1's multi_logloss: 0.748294\n",
      "[1000]\ttraining's multi_logloss: 0.57492\tvalid_1's multi_logloss: 0.742509\n",
      "[1200]\ttraining's multi_logloss: 0.550739\tvalid_1's multi_logloss: 0.739785\n",
      "[1400]\ttraining's multi_logloss: 0.527724\tvalid_1's multi_logloss: 0.738008\n",
      "[1600]\ttraining's multi_logloss: 0.506372\tvalid_1's multi_logloss: 0.736593\n",
      "[1800]\ttraining's multi_logloss: 0.486412\tvalid_1's multi_logloss: 0.73566\n",
      "[2000]\ttraining's multi_logloss: 0.468115\tvalid_1's multi_logloss: 0.735152\n",
      "[2200]\ttraining's multi_logloss: 0.451759\tvalid_1's multi_logloss: 0.735097\n",
      "Early stopping, best iteration is:\n",
      "[2086]\ttraining's multi_logloss: 0.460917\tvalid_1's multi_logloss: 0.734926\n"
     ]
    }
   ],
   "source": [
    "clf, test_preds = train_apps_all_with_oof(ftr, target, nfolds=5)"
   ]
  },
  {
   "cell_type": "code",
   "execution_count": 144,
   "metadata": {},
   "outputs": [
    {
     "data": {
      "text/html": [
       "<div>\n",
       "<style scoped>\n",
       "    .dataframe tbody tr th:only-of-type {\n",
       "        vertical-align: middle;\n",
       "    }\n",
       "\n",
       "    .dataframe tbody tr th {\n",
       "        vertical-align: top;\n",
       "    }\n",
       "\n",
       "    .dataframe thead th {\n",
       "        text-align: right;\n",
       "    }\n",
       "</style>\n",
       "<table border=\"1\" class=\"dataframe\">\n",
       "  <thead>\n",
       "    <tr style=\"text-align: right;\">\n",
       "      <th></th>\n",
       "      <th>0</th>\n",
       "      <th>1</th>\n",
       "      <th>2</th>\n",
       "    </tr>\n",
       "    <tr>\n",
       "      <th>index</th>\n",
       "      <th></th>\n",
       "      <th></th>\n",
       "      <th></th>\n",
       "    </tr>\n",
       "  </thead>\n",
       "  <tbody>\n",
       "    <tr>\n",
       "      <th>26457</th>\n",
       "      <td>0.056758</td>\n",
       "      <td>0.155724</td>\n",
       "      <td>0.787518</td>\n",
       "    </tr>\n",
       "    <tr>\n",
       "      <th>26458</th>\n",
       "      <td>0.214872</td>\n",
       "      <td>0.193652</td>\n",
       "      <td>0.591476</td>\n",
       "    </tr>\n",
       "    <tr>\n",
       "      <th>26459</th>\n",
       "      <td>0.033749</td>\n",
       "      <td>0.084137</td>\n",
       "      <td>0.882114</td>\n",
       "    </tr>\n",
       "    <tr>\n",
       "      <th>26460</th>\n",
       "      <td>0.079132</td>\n",
       "      <td>0.132665</td>\n",
       "      <td>0.788203</td>\n",
       "    </tr>\n",
       "    <tr>\n",
       "      <th>26461</th>\n",
       "      <td>0.116534</td>\n",
       "      <td>0.155295</td>\n",
       "      <td>0.728171</td>\n",
       "    </tr>\n",
       "  </tbody>\n",
       "</table>\n",
       "</div>"
      ],
      "text/plain": [
       "              0         1         2\n",
       "index                              \n",
       "26457  0.056758  0.155724  0.787518\n",
       "26458  0.214872  0.193652  0.591476\n",
       "26459  0.033749  0.084137  0.882114\n",
       "26460  0.079132  0.132665  0.788203\n",
       "26461  0.116534  0.155295  0.728171"
      ]
     },
     "execution_count": 144,
     "metadata": {},
     "output_type": "execute_result"
    }
   ],
   "source": [
    "sub[sub.columns] = test_preds\n",
    "sub.head()"
   ]
  },
  {
   "cell_type": "code",
   "execution_count": 146,
   "metadata": {},
   "outputs": [],
   "source": [
    "sub.to_csv('0519best+feature.csv')"
   ]
  },
  {
   "cell_type": "code",
   "execution_count": 145,
   "metadata": {},
   "outputs": [
    {
     "data": {
      "text/plain": [
       "<AxesSubplot:title={'center':'Feature importance'}, xlabel='Feature importance', ylabel='Features'>"
      ]
     },
     "execution_count": 145,
     "metadata": {},
     "output_type": "execute_result"
    },
    {
     "data": {
      "image/png": "[encoded data removed]",
      "text/plain": [
       "<Figure size 1152x2304 with 1 Axes>"
      ]
     },
     "metadata": {},
     "output_type": "display_data"
    }
   ],
   "source": [
    "from lightgbm import plot_importance\n",
    "\n",
    "plot_importance(clf, figsize=(16, 32), max_num_features=100)"
   ]
  },
  {
   "cell_type": "code",
   "execution_count": 67,
   "metadata": {},
   "outputs": [],
   "source": [
    "X = X_new"
   ]
  },
  {
   "cell_type": "code",
   "execution_count": 68,
   "metadata": {},
   "outputs": [],
   "source": [
    "#n_est = 1000\n",
    "seed = 42\n",
    "n_fold = 5\n",
    "n_class = 3\n",
    "\n",
    "lgb_params = {\n",
    "    'metric': 'multi_logloss',\n",
    "    'n_estimators': 4000,\n",
    "    'objective': 'multiclass',\n",
    "    'random_state': seed,\n",
    "    'learning_rate': 0.01,\n",
    "    'min_child_samples': 20,\n",
    "    'reg_alpha': 3e-5,\n",
    "    'reg_lambda': 9e-2,\n",
    "    'num_leaves': 63,\n",
    "    'colsample_bytree': 0.8,\n",
    "    'subsample': 0.8,\n",
    "    'num_class': n_class\n",
    "}\n",
    "\n",
    "xgb_params = {\n",
    "    'metric': 'mlogloss',\n",
    "    'objective': 'multi:softprob',\n",
    "    'subsample': 0.8,\n",
    "    'colsample_bytree': 0.8,\n",
    "    'learning_rate': 0.01,\n",
    "    'random_state': seed,\n",
    "    'num_class': n_class,\n",
    "    'max_depth': 6,\n",
    "    'n_estimators': 2000,\n",
    "    'min_child_samples': 20,\n",
    "    'reg_alpha': 3e-5,\n",
    "    'reg_lambda': 9e-2,\n",
    "}\n",
    "\n",
    "rf_params = {\n",
    "    'max_depth': 15,\n",
    "    'min_samples_leaf': 8,\n",
    "    'random_state': seed\n",
    "}"
   ]
  },
  {
   "cell_type": "code",
   "execution_count": 69,
   "metadata": {},
   "outputs": [],
   "source": [
    "from sklearn.ensemble import RandomForestClassifier, ExtraTreesClassifier\n",
    "from lightgbm import LGBMClassifier\n",
    "from xgboost import XGBClassifier\n",
    "\n",
    "\n",
    "base_models = {'rf': RandomForestClassifier(**rf_params), \n",
    "               'lgb': LGBMClassifier(**lgb_params),\n",
    "               'xgb': XGBClassifier(),\n",
    "               'et': ExtraTreesClassifier(bootstrap=True, \n",
    "                                          criterion='entropy', \n",
    "                                          max_features=0.55, \n",
    "                                          min_samples_leaf=8, \n",
    "                                          min_samples_split=4, \n",
    "                                          n_estimators=100)}"
   ]
  },
  {
   "cell_type": "code",
   "execution_count": 70,
   "metadata": {},
   "outputs": [
    {
     "name": "stdout",
     "output_type": "stream",
     "text": [
      "Training rf:\n"
     ]
    },
    {
     "ename": "ValueError",
     "evalue": "Input contains NaN, infinity or a value too large for dtype('float32').",
     "output_type": "error",
     "traceback": [
      "\u001b[1;31m---------------------------------------------------------------------------\u001b[0m",
      "\u001b[1;31mValueError\u001b[0m                                Traceback (most recent call last)",
      "\u001b[1;32m<ipython-input-70-b7d4142a0bdc>\u001b[0m in \u001b[0;36m<module>\u001b[1;34m\u001b[0m\n\u001b[0;32m     18\u001b[0m \u001b[1;33m\u001b[0m\u001b[0m\n\u001b[0;32m     19\u001b[0m         \u001b[0mp\u001b[0m\u001b[1;33m[\u001b[0m\u001b[0mi_val\u001b[0m\u001b[1;33m]\u001b[0m \u001b[1;33m=\u001b[0m \u001b[0mclf\u001b[0m\u001b[1;33m.\u001b[0m\u001b[0mpredict_proba\u001b[0m\u001b[1;33m(\u001b[0m\u001b[0mX\u001b[0m\u001b[1;33m.\u001b[0m\u001b[0miloc\u001b[0m\u001b[1;33m[\u001b[0m\u001b[0mi_val\u001b[0m\u001b[1;33m]\u001b[0m\u001b[1;33m)\u001b[0m\u001b[1;33m\u001b[0m\u001b[1;33m\u001b[0m\u001b[0m\n\u001b[1;32m---> 20\u001b[1;33m         \u001b[0mp_tst\u001b[0m \u001b[1;33m+=\u001b[0m \u001b[0mclf\u001b[0m\u001b[1;33m.\u001b[0m\u001b[0mpredict_proba\u001b[0m\u001b[1;33m(\u001b[0m\u001b[0mX_tst\u001b[0m\u001b[1;33m)\u001b[0m \u001b[1;33m/\u001b[0m \u001b[0mn_fold\u001b[0m\u001b[1;33m\u001b[0m\u001b[1;33m\u001b[0m\u001b[0m\n\u001b[0m\u001b[0;32m     21\u001b[0m \u001b[1;33m\u001b[0m\u001b[0m\n\u001b[0;32m     22\u001b[0m     \u001b[0mp_dict\u001b[0m\u001b[1;33m[\u001b[0m\u001b[0mname\u001b[0m\u001b[1;33m]\u001b[0m \u001b[1;33m=\u001b[0m \u001b[0mp\u001b[0m\u001b[1;33m\u001b[0m\u001b[1;33m\u001b[0m\u001b[0m\n",
      "\u001b[1;32m~\\anaconda3\\lib\\site-packages\\sklearn\\ensemble\\_forest.py\u001b[0m in \u001b[0;36mpredict_proba\u001b[1;34m(self, X)\u001b[0m\n\u001b[0;32m    672\u001b[0m         \u001b[0mcheck_is_fitted\u001b[0m\u001b[1;33m(\u001b[0m\u001b[0mself\u001b[0m\u001b[1;33m)\u001b[0m\u001b[1;33m\u001b[0m\u001b[1;33m\u001b[0m\u001b[0m\n\u001b[0;32m    673\u001b[0m         \u001b[1;31m# Check data\u001b[0m\u001b[1;33m\u001b[0m\u001b[1;33m\u001b[0m\u001b[1;33m\u001b[0m\u001b[0m\n\u001b[1;32m--> 674\u001b[1;33m         \u001b[0mX\u001b[0m \u001b[1;33m=\u001b[0m \u001b[0mself\u001b[0m\u001b[1;33m.\u001b[0m\u001b[0m_validate_X_predict\u001b[0m\u001b[1;33m(\u001b[0m\u001b[0mX\u001b[0m\u001b[1;33m)\u001b[0m\u001b[1;33m\u001b[0m\u001b[1;33m\u001b[0m\u001b[0m\n\u001b[0m\u001b[0;32m    675\u001b[0m \u001b[1;33m\u001b[0m\u001b[0m\n\u001b[0;32m    676\u001b[0m         \u001b[1;31m# Assign chunk of trees to jobs\u001b[0m\u001b[1;33m\u001b[0m\u001b[1;33m\u001b[0m\u001b[1;33m\u001b[0m\u001b[0m\n",
      "\u001b[1;32m~\\anaconda3\\lib\\site-packages\\sklearn\\ensemble\\_forest.py\u001b[0m in \u001b[0;36m_validate_X_predict\u001b[1;34m(self, X)\u001b[0m\n\u001b[0;32m    420\u001b[0m         \u001b[0mcheck_is_fitted\u001b[0m\u001b[1;33m(\u001b[0m\u001b[0mself\u001b[0m\u001b[1;33m)\u001b[0m\u001b[1;33m\u001b[0m\u001b[1;33m\u001b[0m\u001b[0m\n\u001b[0;32m    421\u001b[0m \u001b[1;33m\u001b[0m\u001b[0m\n\u001b[1;32m--> 422\u001b[1;33m         \u001b[1;32mreturn\u001b[0m \u001b[0mself\u001b[0m\u001b[1;33m.\u001b[0m\u001b[0mestimators_\u001b[0m\u001b[1;33m[\u001b[0m\u001b[1;36m0\u001b[0m\u001b[1;33m]\u001b[0m\u001b[1;33m.\u001b[0m\u001b[0m_validate_X_predict\u001b[0m\u001b[1;33m(\u001b[0m\u001b[0mX\u001b[0m\u001b[1;33m,\u001b[0m \u001b[0mcheck_input\u001b[0m\u001b[1;33m=\u001b[0m\u001b[1;32mTrue\u001b[0m\u001b[1;33m)\u001b[0m\u001b[1;33m\u001b[0m\u001b[1;33m\u001b[0m\u001b[0m\n\u001b[0m\u001b[0;32m    423\u001b[0m \u001b[1;33m\u001b[0m\u001b[0m\n\u001b[0;32m    424\u001b[0m     \u001b[1;33m@\u001b[0m\u001b[0mproperty\u001b[0m\u001b[1;33m\u001b[0m\u001b[1;33m\u001b[0m\u001b[0m\n",
      "\u001b[1;32m~\\anaconda3\\lib\\site-packages\\sklearn\\tree\\_classes.py\u001b[0m in \u001b[0;36m_validate_X_predict\u001b[1;34m(self, X, check_input)\u001b[0m\n\u001b[0;32m    400\u001b[0m         \u001b[1;34m\"\"\"Validate the training data on predict (probabilities).\"\"\"\u001b[0m\u001b[1;33m\u001b[0m\u001b[1;33m\u001b[0m\u001b[0m\n\u001b[0;32m    401\u001b[0m         \u001b[1;32mif\u001b[0m \u001b[0mcheck_input\u001b[0m\u001b[1;33m:\u001b[0m\u001b[1;33m\u001b[0m\u001b[1;33m\u001b[0m\u001b[0m\n\u001b[1;32m--> 402\u001b[1;33m             X = self._validate_data(X, dtype=DTYPE, accept_sparse=\"csr\",\n\u001b[0m\u001b[0;32m    403\u001b[0m                                     reset=False)\n\u001b[0;32m    404\u001b[0m             if issparse(X) and (X.indices.dtype != np.intc or\n",
      "\u001b[1;32m~\\anaconda3\\lib\\site-packages\\sklearn\\base.py\u001b[0m in \u001b[0;36m_validate_data\u001b[1;34m(self, X, y, reset, validate_separately, **check_params)\u001b[0m\n\u001b[0;32m    419\u001b[0m             \u001b[0mout\u001b[0m \u001b[1;33m=\u001b[0m \u001b[0mX\u001b[0m\u001b[1;33m\u001b[0m\u001b[1;33m\u001b[0m\u001b[0m\n\u001b[0;32m    420\u001b[0m         \u001b[1;32melif\u001b[0m \u001b[0misinstance\u001b[0m\u001b[1;33m(\u001b[0m\u001b[0my\u001b[0m\u001b[1;33m,\u001b[0m \u001b[0mstr\u001b[0m\u001b[1;33m)\u001b[0m \u001b[1;32mand\u001b[0m \u001b[0my\u001b[0m \u001b[1;33m==\u001b[0m \u001b[1;34m'no_validation'\u001b[0m\u001b[1;33m:\u001b[0m\u001b[1;33m\u001b[0m\u001b[1;33m\u001b[0m\u001b[0m\n\u001b[1;32m--> 421\u001b[1;33m             \u001b[0mX\u001b[0m \u001b[1;33m=\u001b[0m \u001b[0mcheck_array\u001b[0m\u001b[1;33m(\u001b[0m\u001b[0mX\u001b[0m\u001b[1;33m,\u001b[0m \u001b[1;33m**\u001b[0m\u001b[0mcheck_params\u001b[0m\u001b[1;33m)\u001b[0m\u001b[1;33m\u001b[0m\u001b[1;33m\u001b[0m\u001b[0m\n\u001b[0m\u001b[0;32m    422\u001b[0m             \u001b[0mout\u001b[0m \u001b[1;33m=\u001b[0m \u001b[0mX\u001b[0m\u001b[1;33m\u001b[0m\u001b[1;33m\u001b[0m\u001b[0m\n\u001b[0;32m    423\u001b[0m         \u001b[1;32melse\u001b[0m\u001b[1;33m:\u001b[0m\u001b[1;33m\u001b[0m\u001b[1;33m\u001b[0m\u001b[0m\n",
      "\u001b[1;32m~\\anaconda3\\lib\\site-packages\\sklearn\\utils\\validation.py\u001b[0m in \u001b[0;36minner_f\u001b[1;34m(*args, **kwargs)\u001b[0m\n\u001b[0;32m     61\u001b[0m             \u001b[0mextra_args\u001b[0m \u001b[1;33m=\u001b[0m \u001b[0mlen\u001b[0m\u001b[1;33m(\u001b[0m\u001b[0margs\u001b[0m\u001b[1;33m)\u001b[0m \u001b[1;33m-\u001b[0m \u001b[0mlen\u001b[0m\u001b[1;33m(\u001b[0m\u001b[0mall_args\u001b[0m\u001b[1;33m)\u001b[0m\u001b[1;33m\u001b[0m\u001b[1;33m\u001b[0m\u001b[0m\n\u001b[0;32m     62\u001b[0m             \u001b[1;32mif\u001b[0m \u001b[0mextra_args\u001b[0m \u001b[1;33m<=\u001b[0m \u001b[1;36m0\u001b[0m\u001b[1;33m:\u001b[0m\u001b[1;33m\u001b[0m\u001b[1;33m\u001b[0m\u001b[0m\n\u001b[1;32m---> 63\u001b[1;33m                 \u001b[1;32mreturn\u001b[0m \u001b[0mf\u001b[0m\u001b[1;33m(\u001b[0m\u001b[1;33m*\u001b[0m\u001b[0margs\u001b[0m\u001b[1;33m,\u001b[0m \u001b[1;33m**\u001b[0m\u001b[0mkwargs\u001b[0m\u001b[1;33m)\u001b[0m\u001b[1;33m\u001b[0m\u001b[1;33m\u001b[0m\u001b[0m\n\u001b[0m\u001b[0;32m     64\u001b[0m \u001b[1;33m\u001b[0m\u001b[0m\n\u001b[0;32m     65\u001b[0m             \u001b[1;31m# extra_args > 0\u001b[0m\u001b[1;33m\u001b[0m\u001b[1;33m\u001b[0m\u001b[1;33m\u001b[0m\u001b[0m\n",
      "\u001b[1;32m~\\anaconda3\\lib\\site-packages\\sklearn\\utils\\validation.py\u001b[0m in \u001b[0;36mcheck_array\u001b[1;34m(array, accept_sparse, accept_large_sparse, dtype, order, copy, force_all_finite, ensure_2d, allow_nd, ensure_min_samples, ensure_min_features, estimator)\u001b[0m\n\u001b[0;32m    661\u001b[0m \u001b[1;33m\u001b[0m\u001b[0m\n\u001b[0;32m    662\u001b[0m         \u001b[1;32mif\u001b[0m \u001b[0mforce_all_finite\u001b[0m\u001b[1;33m:\u001b[0m\u001b[1;33m\u001b[0m\u001b[1;33m\u001b[0m\u001b[0m\n\u001b[1;32m--> 663\u001b[1;33m             _assert_all_finite(array,\n\u001b[0m\u001b[0;32m    664\u001b[0m                                allow_nan=force_all_finite == 'allow-nan')\n\u001b[0;32m    665\u001b[0m \u001b[1;33m\u001b[0m\u001b[0m\n",
      "\u001b[1;32m~\\anaconda3\\lib\\site-packages\\sklearn\\utils\\validation.py\u001b[0m in \u001b[0;36m_assert_all_finite\u001b[1;34m(X, allow_nan, msg_dtype)\u001b[0m\n\u001b[0;32m    101\u001b[0m                 not allow_nan and not np.isfinite(X).all()):\n\u001b[0;32m    102\u001b[0m             \u001b[0mtype_err\u001b[0m \u001b[1;33m=\u001b[0m \u001b[1;34m'infinity'\u001b[0m \u001b[1;32mif\u001b[0m \u001b[0mallow_nan\u001b[0m \u001b[1;32melse\u001b[0m \u001b[1;34m'NaN, infinity'\u001b[0m\u001b[1;33m\u001b[0m\u001b[1;33m\u001b[0m\u001b[0m\n\u001b[1;32m--> 103\u001b[1;33m             raise ValueError(\n\u001b[0m\u001b[0;32m    104\u001b[0m                     \u001b[0mmsg_err\u001b[0m\u001b[1;33m.\u001b[0m\u001b[0mformat\u001b[0m\u001b[1;33m\u001b[0m\u001b[1;33m\u001b[0m\u001b[0m\n\u001b[0;32m    105\u001b[0m                     (type_err,\n",
      "\u001b[1;31mValueError\u001b[0m: Input contains NaN, infinity or a value too large for dtype('float32')."
     ]
    }
   ],
   "source": [
    "from copy import copy\n",
    "\n",
    "X = X_new\n",
    "y = trn[target_col]\n",
    "X_tst = X_te_new\n",
    "\n",
    "cv = StratifiedKFold(n_splits=n_fold, shuffle=True, random_state=seed)\n",
    "\n",
    "p_dict = {}\n",
    "p_tst_dict = {}\n",
    "for name in base_models:\n",
    "    print(f'Training {name}:')\n",
    "    p = np.zeros((X.shape[0], n_class), dtype=float)\n",
    "    p_tst = np.zeros((X_tst.shape[0], n_class), dtype=float)\n",
    "    for i, (i_trn, i_val) in enumerate(cv.split(X, y)):\n",
    "        clf = copy(base_models[name])\n",
    "        clf.fit(X.iloc[i_trn], y[i_trn])\n",
    "\n",
    "        p[i_val] = clf.predict_proba(X.iloc[i_val])\n",
    "        p_tst += clf.predict_proba(X_tst) / n_fold\n",
    "\n",
    "    p_dict[name] = p\n",
    "    p_tst_dict[name] = p_tst\n",
    "    print(f'\\tCV Log Loss: {log_loss(y, p):.6f}')"
   ]
  },
  {
   "cell_type": "code",
   "execution_count": null,
   "metadata": {},
   "outputs": [],
   "source": [
    "X = pd.DataFrame(np.hstack([x for _, x in p_dict.items()]))\n",
    "X_tst = pd.DataFrame(np.hstack([x for _, x in p_tst_dict.items()]))\n",
    "\n",
    "p = np.zeros((X.shape[0], n_class), dtype=float)\n",
    "p_tst = np.zeros((X_tst.shape[0], n_class), dtype=float)\n",
    "for i_cv, (i_trn, i_val) in enumerate(cv.split(X, y)):\n",
    "    if i_cv == 0:\n",
    "        clf = AutoLGB(objective='multiclass', metric='multi_logloss', params={'num_class': n_class}, \n",
    "                      feature_selection=False, n_est=10000)\n",
    "        clf.tune(X.iloc[i_trn], y[i_trn])\n",
    "        n_best = clf.n_best\n",
    "        features = clf.features\n",
    "        params = clf.params\n",
    "        print(f'best iteration: {n_best}')\n",
    "        print(f'selected features ({len(features)}): {features}')        \n",
    "        pprint(params)\n",
    "        clf.fit(X.iloc[i_trn], y[i_trn])\n",
    "    else:\n",
    "        train_data = lgb.Dataset(X[features].iloc[i_trn], label=y[i_trn])\n",
    "        clf = lgb.train(params, train_data, n_best, verbose_eval=100)\n",
    "    \n",
    "    p[i_val] = clf.predict(X[features].iloc[i_val])\n",
    "    p_tst += clf.predict(X_tst[features]) / n_fold"
   ]
  },
  {
   "cell_type": "code",
   "execution_count": null,
   "metadata": {},
   "outputs": [],
   "source": [
    "print(f'CV Log Loss: {log_loss(y, p):.6f}')\n",
    "np.savetxt(predict_val_file, p, fmt='%.6f')\n",
    "np.savetxt(predict_tst_file, p_tst, fmt='%.6f')"
   ]
  },
  {
   "cell_type": "code",
   "execution_count": null,
   "metadata": {},
   "outputs": [],
   "source": [
    "sub[sub.columns] = p_tst\n",
    "sub.head()"
   ]
  },
  {
   "cell_type": "code",
   "execution_count": null,
   "metadata": {},
   "outputs": [],
   "source": [
    "sub.to_csv(submission_file)"
   ]
  },
  {
   "cell_type": "code",
   "execution_count": null,
   "metadata": {},
   "outputs": [],
   "source": []
  },
  {
   "cell_type": "code",
   "execution_count": null,
   "metadata": {},
   "outputs": [],
   "source": []
  },
  {
   "cell_type": "code",
   "execution_count": null,
   "metadata": {},
   "outputs": [],
   "source": []
  },
  {
   "cell_type": "code",
   "execution_count": null,
   "metadata": {},
   "outputs": [],
   "source": []
  },
  {
   "cell_type": "code",
   "execution_count": null,
   "metadata": {},
   "outputs": [],
   "source": []
  },
  {
   "cell_type": "code",
   "execution_count": null,
   "metadata": {},
   "outputs": [],
   "source": []
  },
  {
   "cell_type": "code",
   "execution_count": null,
   "metadata": {},
   "outputs": [],
   "source": []
  },
  {
   "cell_type": "code",
   "execution_count": null,
   "metadata": {},
   "outputs": [],
   "source": []
  }
 ],
 "metadata": {
  "kernelspec": {
   "display_name": "Python 3",
   "language": "python",
   "name": "python3"
  },
  "language_info": {
   "codemirror_mode": {
    "name": "ipython",
    "version": 3
   },
   "file_extension": ".py",
   "mimetype": "text/x-python",
   "name": "python",
   "nbconvert_exporter": "python",
   "pygments_lexer": "ipython3",
   "version": "3.8.5"
  },
  "varInspector": {
   "cols": {
    "lenName": 16,
    "lenType": 16,
    "lenVar": 40
   },
   "kernels_config": {
    "python": {
     "delete_cmd_postfix": "",
     "delete_cmd_prefix": "del ",
     "library": "var_list.py",
     "varRefreshCmd": "print(var_dic_list())"
    },
    "r": {
     "delete_cmd_postfix": ") ",
     "delete_cmd_prefix": "rm(",
     "library": "var_list.r",
     "varRefreshCmd": "cat(var_dic_list()) "
    }
   },
   "types_to_exclude": [
    "module",
    "function",
    "builtin_function_or_method",
    "instance",
    "_Feature"
   ],
   "window_display": false
  }
 },
 "nbformat": 4,
 "nbformat_minor": 4
}
