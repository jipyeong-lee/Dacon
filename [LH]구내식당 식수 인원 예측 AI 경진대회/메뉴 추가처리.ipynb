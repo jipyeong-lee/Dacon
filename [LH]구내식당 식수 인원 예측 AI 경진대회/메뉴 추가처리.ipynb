{
 "cells": [
  {
   "cell_type": "code",
   "execution_count": 1,
   "metadata": {},
   "outputs": [],
   "source": [
    "import pandas as pd\n",
    "import numpy as np\n",
    "import warnings\n",
    "warnings.filterwarnings('ignore')\n",
    "from konlpy.tag import Mecab\n",
    "from datetime import datetime, timedelta\n",
    "import matplotlib.pyplot as plt\n",
    "import seaborn as sns\n",
    "from tqdm.notebook import tqdm\n",
    "import re\n",
    "%matplotlib inline\n",
    "import matplotlib.font_manager as fm\n",
    "plt.rc('font', family=fm.FontProperties(fname=\"c:/Windows/Fonts/malgun.ttf\").get_name())"
   ]
  },
  {
   "cell_type": "code",
   "execution_count": 2,
   "metadata": {},
   "outputs": [],
   "source": [
    "train = pd.read_csv('../input/train.csv')\n",
    "test = pd.read_csv('../input/test.csv')\n",
    "submission = pd.read_csv('../input/sample_submission.csv')"
   ]
  },
  {
   "cell_type": "code",
   "execution_count": 3,
   "metadata": {},
   "outputs": [],
   "source": [
    "train_target = train[['중식계', '석식계']]"
   ]
  },
  {
   "cell_type": "code",
   "execution_count": 4,
   "metadata": {},
   "outputs": [
    {
     "data": {
      "text/plain": [
       "'쌀밥/ 곤드레밥/찰현미밥 된장찌개 돼지고추장불고기 버섯잡채 삼색물만두무침 겉절이김치/양념장 견과류샐러드*요거트D '"
      ]
     },
     "execution_count": 4,
     "metadata": {},
     "output_type": "execute_result"
    }
   ],
   "source": [
    "train.loc[1142,'중식메뉴']"
   ]
  },
  {
   "cell_type": "code",
   "execution_count": 5,
   "metadata": {},
   "outputs": [],
   "source": [
    "#### 띄어쓰기 및 오타 수정\n",
    "train.at[1142, '중식메뉴'] = '쌀밥/곤드레밥/찰현미밥 된장찌개 돼지고추장불고기 버섯잡채 삼색물만두무침 겉절이김치/양념장 견과류샐러드*요거트D '\n",
    "train['중식메뉴'] = train['중식메뉴'].str.replace('삽겹', '삼겹')"
   ]
  },
  {
   "cell_type": "code",
   "execution_count": 8,
   "metadata": {},
   "outputs": [],
   "source": [
    "recipe1 = pd.read_csv('../input/레시피+기본정보_20210712.csv', encoding='cp949')\n",
    "recipe2 = pd.read_csv('../input/레시피+재료정보_20210712.csv', encoding='cp949')"
   ]
  },
  {
   "cell_type": "code",
   "execution_count": 9,
   "metadata": {},
   "outputs": [],
   "source": [
    "recipe1 = recipe1.iloc[:, :-2]"
   ]
  },
  {
   "cell_type": "code",
   "execution_count": 10,
   "metadata": {},
   "outputs": [],
   "source": [
    "category = pd.read_excel('../input/대분류중분류.xlsx')"
   ]
  },
  {
   "cell_type": "code",
   "execution_count": 11,
   "metadata": {},
   "outputs": [
    {
     "data": {
      "text/html": [
       "<div>\n",
       "<style scoped>\n",
       "    .dataframe tbody tr th:only-of-type {\n",
       "        vertical-align: middle;\n",
       "    }\n",
       "\n",
       "    .dataframe tbody tr th {\n",
       "        vertical-align: top;\n",
       "    }\n",
       "\n",
       "    .dataframe thead th {\n",
       "        text-align: right;\n",
       "    }\n",
       "</style>\n",
       "<table border=\"1\" class=\"dataframe\">\n",
       "  <thead>\n",
       "    <tr style=\"text-align: right;\">\n",
       "      <th></th>\n",
       "      <th>대분류</th>\n",
       "      <th>중분류</th>\n",
       "      <th>소분류</th>\n",
       "    </tr>\n",
       "  </thead>\n",
       "  <tbody>\n",
       "    <tr>\n",
       "      <th>0</th>\n",
       "      <td>밥류</td>\n",
       "      <td>쌀밥</td>\n",
       "      <td>눌은밥</td>\n",
       "    </tr>\n",
       "    <tr>\n",
       "      <th>1</th>\n",
       "      <td>밥류</td>\n",
       "      <td>쌀밥</td>\n",
       "      <td>쌀밥</td>\n",
       "    </tr>\n",
       "    <tr>\n",
       "      <th>2</th>\n",
       "      <td>밥류</td>\n",
       "      <td>쌀밥</td>\n",
       "      <td>찰밥</td>\n",
       "    </tr>\n",
       "    <tr>\n",
       "      <th>3</th>\n",
       "      <td>밥류</td>\n",
       "      <td>쌀밥</td>\n",
       "      <td>현미밥</td>\n",
       "    </tr>\n",
       "    <tr>\n",
       "      <th>4</th>\n",
       "      <td>밥류</td>\n",
       "      <td>잡곡밥류</td>\n",
       "      <td>잡곡밥(옥수수)</td>\n",
       "    </tr>\n",
       "    <tr>\n",
       "      <th>...</th>\n",
       "      <td>...</td>\n",
       "      <td>...</td>\n",
       "      <td>...</td>\n",
       "    </tr>\n",
       "    <tr>\n",
       "      <th>1265</th>\n",
       "      <td>원재료</td>\n",
       "      <td>채소류</td>\n",
       "      <td>당근</td>\n",
       "    </tr>\n",
       "    <tr>\n",
       "      <th>1266</th>\n",
       "      <td>원재료</td>\n",
       "      <td>채소류</td>\n",
       "      <td>깻잎</td>\n",
       "    </tr>\n",
       "    <tr>\n",
       "      <th>1267</th>\n",
       "      <td>원재료</td>\n",
       "      <td>채소류</td>\n",
       "      <td>깐마늘</td>\n",
       "    </tr>\n",
       "    <tr>\n",
       "      <th>1268</th>\n",
       "      <td>원재료</td>\n",
       "      <td>해조류</td>\n",
       "      <td>다시마(생것)</td>\n",
       "    </tr>\n",
       "    <tr>\n",
       "      <th>1269</th>\n",
       "      <td>주류</td>\n",
       "      <td>주류</td>\n",
       "      <td>맥주</td>\n",
       "    </tr>\n",
       "  </tbody>\n",
       "</table>\n",
       "<p>1270 rows × 3 columns</p>\n",
       "</div>"
      ],
      "text/plain": [
       "      대분류   중분류       소분류\n",
       "0      밥류    쌀밥       눌은밥\n",
       "1      밥류    쌀밥        쌀밥\n",
       "2      밥류    쌀밥        찰밥\n",
       "3      밥류    쌀밥       현미밥\n",
       "4      밥류  잡곡밥류  잡곡밥(옥수수)\n",
       "...   ...   ...       ...\n",
       "1265  원재료   채소류        당근\n",
       "1266  원재료   채소류        깻잎\n",
       "1267  원재료   채소류       깐마늘\n",
       "1268  원재료   해조류   다시마(생것)\n",
       "1269   주류    주류        맥주\n",
       "\n",
       "[1270 rows x 3 columns]"
      ]
     },
     "execution_count": 11,
     "metadata": {},
     "output_type": "execute_result"
    }
   ],
   "source": [
    "category"
   ]
  },
  {
   "cell_type": "code",
   "execution_count": 12,
   "metadata": {},
   "outputs": [],
   "source": [
    "def get_food_embedding(x):\n",
    "    x_ = []\n",
    "    x = x.split(' ')\n",
    "    for i in x:\n",
    "        if '(' in i and ':' in i and ')' in i:\n",
    "            continue\n",
    "        elif '/' in i:\n",
    "            x_.extend(i.split('/'))\n",
    "        elif '*' in i:\n",
    "            x_.extend(i.split('*'))\n",
    "        else:\n",
    "            x_.append(i)\n",
    "    x_ = list(set(x_))\n",
    "    x_.remove('')\n",
    "    return x_"
   ]
  },
  {
   "cell_type": "code",
   "execution_count": 13,
   "metadata": {},
   "outputs": [],
   "source": [
    "train['중식메뉴_split'] = train['중식메뉴'].apply(lambda x: get_food_embedding(x))\n",
    "train['석식메뉴_split'] = train['석식메뉴'].apply(lambda x: get_food_embedding(x))\n",
    "\n",
    "test['중식메뉴_split'] = test['중식메뉴'].apply(lambda x: get_food_embedding(x))\n",
    "test['석식메뉴_split'] = test['석식메뉴'].apply(lambda x: get_food_embedding(x))"
   ]
  },
  {
   "cell_type": "code",
   "execution_count": 14,
   "metadata": {},
   "outputs": [],
   "source": [
    "regex = \"\\(.*\\)|\\s-\\s.*\"\n",
    "category['소분류'] = category['소분류'].apply(lambda x : re.sub(regex, '', x))"
   ]
  },
  {
   "cell_type": "code",
   "execution_count": 15,
   "metadata": {},
   "outputs": [],
   "source": [
    "밥_list = list(category[category['대분류'] == '밥류']['소분류'])\n",
    "과자빵_list = list(category[category['대분류'] == '과자 및 빵류']['소분류'])\n",
    "면만두_list = list(category[category['대분류'] == '면 및 만두류']['소분류'])\n",
    "죽_list = list(category[category['대분류'] == '죽류']['소분류'])\n",
    "국_list = list(category[category['대분류'] == '국(탕)류']['소분류'])\n",
    "찌개_list = list(category[category['대분류'] == '찌개류']['소분류'])\n",
    "찜_list = list(category[category['대분류'] == '찜류']['소분류'])\n",
    "구이_list = list(category[category['대분류'] == '구이류']['소분류'])\n",
    "전_list = list(category[category['대분류'] == '전류']['소분류'])\n",
    "볶음_list = list(category[category['대분류'] == '볶음류']['소분류'])\n",
    "조림_list = list(category[category['대분류'] == '조림류']['소분류'])\n",
    "튀김_list = list(category[category['대분류'] == '튀김류']['소분류'])\n",
    "무침_list = list(category[category['대분류'] == '무침류']['소분류'])\n",
    "김치_list = list(category[category['대분류'] == '김치류']['소분류'])\n",
    "회_list = list(category[category['대분류'] == '회류']['소분류'])\n",
    "젓갈_list = list(category[category['대분류'] == '젓갈류']['소분류'])\n",
    "절임_list = list(category[category['대분류'] == '절임류']['소분류'])\n",
    "장_list = list(category[category['대분류'] == '장류']['소분류'])\n",
    "우유_list = list(category[category['대분류'] == '우유 및 유제품류']['소분류'])\n",
    "음료_list = list(category[category['대분류'] == '음료류']['소분류'])\n",
    "떡_list = list(category[category['대분류'] == '떡류']['소분류'])\n",
    "원재료_list = list(category[category['대분류'] == '원재료']['소분류'])\n",
    "주류_list = list(category[category['대분류'] == '주류']['소분류'])"
   ]
  },
  {
   "cell_type": "code",
   "execution_count": 16,
   "metadata": {},
   "outputs": [],
   "source": [
    "num=[]\n",
    "for t in range(train.shape[0]):\n",
    "    for i in range(len(train['중식메뉴_split'][t])):\n",
    "        token = train['중식메뉴_split'][t][i]\n",
    "        if  token.endswith('주') or token in 주류_list:\n",
    "            print(token)\n",
    "            num.append(token)"
   ]
  },
  {
   "cell_type": "code",
   "execution_count": 17,
   "metadata": {},
   "outputs": [],
   "source": [
    "num=pd.DataFrame(num)\n",
    "num=pd.DataFrame(num.value_counts().index.values)\n",
    "num=pd.DataFrame(num[0].apply(lambda x: x[0]))"
   ]
  },
  {
   "cell_type": "code",
   "execution_count": 18,
   "metadata": {},
   "outputs": [
    {
     "data": {
      "text/plain": [
       "array([], dtype=int64)"
      ]
     },
     "execution_count": 18,
     "metadata": {},
     "output_type": "execute_result"
    }
   ],
   "source": [
    "num[0].values"
   ]
  },
  {
   "cell_type": "code",
   "execution_count": 19,
   "metadata": {},
   "outputs": [],
   "source": [
    "def get_Dae(data, col) :\n",
    "    \n",
    "    recipe_df = pd.DataFrame(np.zeros((data.shape[0], 25)), \n",
    "                          columns = ['밥류', '과자 및 빵류', '면 및 만두류', '죽류', '국(탕)류', '찌개류', '찜류', '구이류',\n",
    "       '전류', '볶음류', '조림류', '튀김류', '무침류', '김치류', '회류', '젓갈류', '절임류', '장류',\n",
    "       '우유 및 유제품류', '음료류', '떡류', '원재료', '주류', '드레싱류', '조리_기타'])\n",
    "\n",
    "    for t in range(data.shape[0]):\n",
    "        for i in range(len(data[col][t])):\n",
    "            token = data[col][t][i]\n",
    "            if '덮밥' in token or '비빔밥' in token or '볶음밥' in token:\n",
    "                recipe_df.at[t,'밥류'] +=3\n",
    "            elif  token.endswith('밥') or '밥' in token or token in 밥_list:\n",
    "                recipe_df.at[t, '밥류'] += 1 \n",
    "                \n",
    "            elif token.endswith('과자') or token in 과자빵_list:\n",
    "                recipe_df.at[t, '과자 및 빵류'] += 3\n",
    "                \n",
    "            elif token.endswith('면') or token.endswith('만두') or '면' in token or '만두' in token or token in 면만두_list:\n",
    "                recipe_df.at[t, '면 및 만두류'] += 4\n",
    "                \n",
    "            elif token.endswith('죽') or token in 죽_list or '죽' in token:\n",
    "                recipe_df.at[t, '죽류'] += 2\n",
    "                \n",
    "            elif token.endswith('구이') or token in 구이_list or '구이' in token or token.endswith('데리야끼') or token.endswith('립') or\\\n",
    "                '함박' in token or '그라탕' in token or token.endswith('갈비') or '주물럭' in token or '스테이크' in token or token.endswith('구이') or '불고기' in token or '구이' in token:\n",
    "                recipe_df.at[t, '구이류'] += 5\n",
    "                \n",
    "            elif token.endswith('국') or token.endswith('탕') or token in 국_list:\n",
    "                if '만두' in token or '해물' in token or '도토리묵' in token or '냉국' in token or '사골' in token or '고기' in token or '해장' in token or token=='육개장'  or '수제비' in token or '옹심이' in token or '삼계탕' in token or '닭볶' in token or '전복' in token or '나주곰탕' in token or '감자탕' in token or '갈비' in token or '등뼈탕' in token or '들깨' in token or '홍합' in token or '새우' in token:\n",
    "                    recipe_df.at[t, '국(탕)류'] += 4\n",
    "                else:\n",
    "                    recipe_df.at[t, '국(탕)류'] += 2\n",
    "                    \n",
    "            elif token.endswith('찌개') or token in 찌개_list:\n",
    "                if '차돌' in token or '갈비' in token or '고기' in token or '돼지' in token: \n",
    "                    recipe_df.at[t, '찌개류'] += 4\n",
    "                else:\n",
    "                    recipe_df.at[t, '찌개류'] += 2\n",
    "                \n",
    "            elif token.endswith('찜') or token in 찜_list or '찜' in token or '보쌈' in token or '수육' in token or '김치말이' in token:\n",
    "                if '브로컬리들깨찜' in token or  '꽈리고추찜' in token or  '깻잎찜' in token or  '가지찜' in token or  '청경채찜' in token or '호박잎쌈' in token:\n",
    "                    recipe_df.at[t, '찜류'] += 2\n",
    "                else:\n",
    "                    recipe_df.at[t, '찜류'] += 4\n",
    "                \n",
    "            elif token.endswith('전') or token in 전_list or '전병' in token:\n",
    "                recipe_df.at[t, '전류'] += 3\n",
    "                \n",
    "            elif token.endswith('볶음') or token in 볶음_list or '볶음' in token or token == '깐풍연근' or \\\n",
    "                '고추잡채' in token or '궁보계정' in token or '산슬' in token or token.endswith('잡채') or '마파두부' in token or '두루치기' in token or '닭갈비' in token:\n",
    "                if '미역줄기볶음' in token or '마늘쫑볶음' in token or '카레감자채볶음' in token or '모둠버섯볶음' in token or '고구마순볶음' in token or '콩나물볶음' in token or '버섯볶음' in token or '멸치' in token or '가지볶음' in token or '애기새송이버섯볶음' in token or '파프리카감자채볶음' in token or '호박새우젓볶음' in token or '청경채새송이볶음' in token or '오이볶음' in token or '호박채나물볶음' in token or '도라지볶음' in token or '도라지나물볶음' in token or '고춧잎볶음' in token or '고구마줄기볶음' in token or '감자볶음' in token or '새송이버섯볶음' in token or '가지볶음' in token or '브로콜리버섯볶음' in token or '명엽채볶음' in token or '매운호박볶음' in token or '머위대들깨볶음' in token or '멸치볶음' in token:\n",
    "                    recipe_df.at[t, '볶음류'] += 1\n",
    "                else:\n",
    "                    recipe_df.at[t, '볶음류'] += 3\n",
    "                \n",
    "            elif token.endswith('조림') or token in 조림_list or '조림' in token or '오향장육' in token or '동파육' in token:\n",
    "                if '땅콩조림' in token or '연근조림' in token or '견과류조림' in token or '연근땅콩조림' in token or '새송이버섯조림' in token or '우엉조림' in token or '시래기조림' in token or '검정콩조림' in token or '꽈리고추어묵조림' in token or '단호박장조림' in token or '감자조림' in token or '견과류연근조림' in token or '고추장감자조림' in token or '꽈리고추감자조림' in token or '콩조림' in token:\n",
    "                    recipe_df.at[t, '조림류'] += 1\n",
    "                else:\n",
    "                    recipe_df.at[t, '조림류'] += 3\n",
    "            elif token.endswith('튀김') or token.endswith('치킨') or token.endswith('탕수육') or '치킨' in token or '탕수' in token or token in 튀김_list or\\\n",
    "                '튀김' in token or '통닭' in token or token.endswith('새우') or '강정' in token or '미트볼' in token or '프리타타' in token or '카츠' in token or '깐풍' in token or\\\n",
    "                token.endswith('고로케') or '유린기' in token or '탕수' in token or token.endswith('닭') or '너겟' in token or\\\n",
    "                token.endswith('강정') or '가스' in token or '까스' in token or '핑거' in token or '텐더' in token or '커틀렛' in token or '커틀릿' in token:\n",
    "                recipe_df.at[t, '튀김류'] += 5\n",
    "                \n",
    "            elif token.endswith('무침') or token in 무침_list or '무침' in token or '파채' in token or token.endswith('샐러드') or '양장피' in token\\\n",
    "            or '범벅' in token or token.endswith('채'):\n",
    "                recipe_df.at[t, '무침류'] += 1\n",
    "                \n",
    "            elif token.endswith('김치') or token in 김치_list or '겉절이' in token:\n",
    "                recipe_df.at[t, '김치류'] += 1\n",
    "                \n",
    "            elif token.endswith('회') or token in 회_list:\n",
    "                recipe_df.at[t, '회류'] += 1\n",
    "                \n",
    "            elif token.endswith('젓갈') or token in 젓갈_list or '젓갈' in token:\n",
    "                recipe_df.at[t, '젓갈류'] += 1\n",
    "                \n",
    "            elif token.endswith('절임') or token in 절임_list or '절임' in token:\n",
    "                recipe_df.at[t, '절임류'] += 1\n",
    "                \n",
    "            elif token.endswith('장') or token in 장_list:\n",
    "                recipe_df.at[t, '장류'] += 1\n",
    "                \n",
    "            elif token.endswith('우유') or token in 우유_list:\n",
    "                recipe_df.at[t, '우유 및 유제품류'] += 1\n",
    "                \n",
    "            elif token.endswith('음료') or token in 음료_list or '요구르트' in token:\n",
    "                recipe_df.at[t, '음료류'] += 1\n",
    "                \n",
    "            elif token.endswith('떡') or token in 떡_list:\n",
    "                recipe_df.at[t, '떡류'] += 2\n",
    "                \n",
    "            elif token in 원재료_list or token == '연두부' or token.endswith('김') or '생' in token or token.endswith('쌈'):\n",
    "                recipe_df.at[t, '원재료'] += 1\n",
    "                \n",
    "            elif token.endswith('주') or token in 주류_list:\n",
    "                recipe_df.at[t, '주류'] += 1\n",
    "                \n",
    "            elif token.endswith('드레싱') or 'D' in token or '소스' in token:\n",
    "                recipe_df.at[t, '드레싱류'] += 1\n",
    "                \n",
    "            else :\n",
    "                recipe_df.at[t, '조리_기타'] += 1\n",
    "            \n",
    "    return recipe_df"
   ]
  },
  {
   "cell_type": "code",
   "execution_count": 20,
   "metadata": {},
   "outputs": [],
   "source": [
    "train_중식=get_Dae(train, '중식메뉴_split')\n",
    "train_석식=get_Dae(train, '석식메뉴_split')"
   ]
  },
  {
   "cell_type": "code",
   "execution_count": 21,
   "metadata": {},
   "outputs": [],
   "source": [
    "test_중식=get_Dae(test, '중식메뉴_split')\n",
    "test_석식=get_Dae(test, '석식메뉴_split')"
   ]
  },
  {
   "cell_type": "code",
   "execution_count": 22,
   "metadata": {},
   "outputs": [],
   "source": [
    "train_중식['중식점수']=train_중식.sum(axis=1)\n",
    "train_석식['석식점수']=train_석식.sum(axis=1)\n",
    "test_중식['중식점수']=test_중식.sum(axis=1)\n",
    "test_석식['석식점수']=test_석식.sum(axis=1)"
   ]
  },
  {
   "cell_type": "markdown",
   "metadata": {},
   "source": [
    "### 1. 요일,일자 변환"
   ]
  },
  {
   "cell_type": "code",
   "execution_count": 65,
   "metadata": {},
   "outputs": [],
   "source": [
    "def transform_day_to_num(x) :\n",
    "    if x == '월' :\n",
    "        return 5\n",
    "    elif x == '화' :\n",
    "        return 4\n",
    "    elif x == '수' :\n",
    "        return 3\n",
    "    elif x == '목' :\n",
    "        return 2\n",
    "    else :\n",
    "        return 1        "
   ]
  },
  {
   "cell_type": "code",
   "execution_count": 66,
   "metadata": {},
   "outputs": [],
   "source": [
    "train['요일'] = train['요일'].apply(transform_day_to_num)\n",
    "test['요일'] = test['요일'].apply(transform_day_to_num)"
   ]
  },
  {
   "cell_type": "markdown",
   "metadata": {},
   "source": [
    "***"
   ]
  },
  {
   "cell_type": "code",
   "execution_count": 67,
   "metadata": {},
   "outputs": [],
   "source": [
    "train['일자'] = pd.to_datetime(train['일자'])\n",
    "test['일자'] = pd.to_datetime(test['일자'])"
   ]
  },
  {
   "cell_type": "code",
   "execution_count": 68,
   "metadata": {},
   "outputs": [],
   "source": [
    "train['년'] = train['일자'].dt.year\n",
    "test['년'] = test['일자'].dt.year"
   ]
  },
  {
   "cell_type": "code",
   "execution_count": 69,
   "metadata": {},
   "outputs": [],
   "source": [
    "train['월'] = train['일자'].dt.month\n",
    "test['월'] = test['일자'].dt.month"
   ]
  },
  {
   "cell_type": "code",
   "execution_count": 70,
   "metadata": {},
   "outputs": [],
   "source": [
    "train['일'] = train.일자.dt.day\n",
    "test['일'] = test.일자.dt.day"
   ]
  },
  {
   "cell_type": "code",
   "execution_count": 71,
   "metadata": {},
   "outputs": [],
   "source": [
    "train['주'] = train.일자.dt.week\n",
    "test['주'] = test.일자.dt.week"
   ]
  },
  {
   "cell_type": "code",
   "execution_count": 72,
   "metadata": {},
   "outputs": [
    {
     "data": {
      "text/plain": [
       "Index(['일자', '요일', '본사정원수', '본사휴가자수', '본사출장자수', '본사시간외근무명령서승인건수',\n",
       "       '현본사소속재택근무자수', '조식메뉴', '중식메뉴', '석식메뉴', '중식계', '석식계', '중식메뉴_split',\n",
       "       '석식메뉴_split', '년', '월', '일', '주'],\n",
       "      dtype='object')"
      ]
     },
     "execution_count": 72,
     "metadata": {},
     "output_type": "execute_result"
    }
   ],
   "source": [
    "train.columns"
   ]
  },
  {
   "cell_type": "code",
   "execution_count": 123,
   "metadata": {},
   "outputs": [],
   "source": [
    "train_점심=pd.concat([train[['요일','본사정원수','본사시간외근무명령서승인건수','현본사소속재택근무자수','년','월','주']],train_중식],axis=1)\n",
    "test_점심=pd.concat([test[['요일','본사정원수','본사시간외근무명령서승인건수','현본사소속재택근무자수','년','월','주']],test_중식],axis=1)\n",
    "train_저녁 = pd.concat([train[['요일','본사정원수','본사휴가자수','본사시간외근무명령서승인건수','현본사소속재택근무자수','년','월','주']],train_석식],axis=1)\n",
    "test_저녁 = pd.concat([test[['요일','본사정원수','본사휴가자수','본사시간외근무명령서승인건수','현본사소속재택근무자수','년','월','주']],test_석식],axis=1)"
   ]
  },
  {
   "cell_type": "code",
   "execution_count": 124,
   "metadata": {},
   "outputs": [],
   "source": [
    "X1 = train_점심\n",
    "y1 = train.중식계\n",
    "target1 = test_점심"
   ]
  },
  {
   "cell_type": "code",
   "execution_count": 125,
   "metadata": {},
   "outputs": [],
   "source": [
    "X2 = train_저녁\n",
    "y2 = train.석식계\n",
    "target2 = test_저녁"
   ]
  },
  {
   "cell_type": "code",
   "execution_count": null,
   "metadata": {},
   "outputs": [],
   "source": []
  },
  {
   "cell_type": "code",
   "execution_count": 126,
   "metadata": {},
   "outputs": [],
   "source": [
    "from lightgbm import LGBMRegressor\n",
    "from tqdm import tqdm, tqdm_notebook\n",
    "from sklearn.model_selection import cross_val_score\n",
    "import random\n",
    "\n",
    "from sklearn.feature_selection import RFE\n",
    "from sklearn.feature_selection import SelectPercentile"
   ]
  },
  {
   "cell_type": "code",
   "execution_count": 127,
   "metadata": {},
   "outputs": [
    {
     "name": "stderr",
     "output_type": "stream",
     "text": [
      "100%|██████████████████████████████████████████████████████████████████████████████████| 95/95 [00:32<00:00,  2.89it/s]"
     ]
    },
    {
     "name": "stdout",
     "output_type": "stream",
     "text": [
      "(97, -90.03758959029744)\n"
     ]
    },
    {
     "name": "stderr",
     "output_type": "stream",
     "text": [
      "\n"
     ]
    },
    {
     "data": {
      "image/png": "[encoded data removed]",
      "text/plain": [
       "<Figure size 432x288 with 1 Axes>"
      ]
     },
     "metadata": {
      "needs_background": "light"
     },
     "output_type": "display_data"
    }
   ],
   "source": [
    "# 사용할 모델 설정 (속도가 빠른 모델 사용 권장)\n",
    "model = LGBMRegressor(random_state=0)\n",
    "\n",
    "# 각 특성과 타깃(class) 사이에 유의한 통계적 관계가 있는지 계산하여 특성을 선택하는 방법 \n",
    "cv_scores = []\n",
    "for p in tqdm(range(5,100,1)):\n",
    "    X_new = SelectPercentile(percentile=p).fit_transform(X1, y1)    #SelectPercentile: 지정된 비율만큼 특성을 선택한다.\n",
    "    cv_score = cross_val_score(model, X_new, y1, scoring='neg_mean_absolute_error', cv=5).mean()\n",
    "    cv_scores.append((p,cv_score))\n",
    "\n",
    "# Print the best percentile\n",
    "best_score = cv_scores[np.argmax([score for _, score in cv_scores])]\n",
    "print(best_score)\n",
    "\n",
    "# Plot the performance change with p\n",
    "plt.plot([k for k, _ in cv_scores], [score for _, score in cv_scores])\n",
    "plt.xlabel('Percent of features')\n",
    "plt.grid()"
   ]
  },
  {
   "cell_type": "code",
   "execution_count": 128,
   "metadata": {},
   "outputs": [],
   "source": [
    "# 과적합을 피하기 위해 최적의 p값 주변의 값을 선택하는게 더 나은 결과를 얻을 수 있다. \n",
    "fs = SelectPercentile(percentile=best_score[0]).fit(X1, y1)\n",
    "X1_select = fs.transform(X1)\n",
    "target1_select = fs.transform(target1)"
   ]
  },
  {
   "cell_type": "code",
   "execution_count": 129,
   "metadata": {
    "scrolled": true
   },
   "outputs": [
    {
     "name": "stdout",
     "output_type": "stream",
     "text": [
      "(1205, 31)\n",
      "['요일', '본사시간외근무명령서승인건수', '현본사소속재택근무자수', '년', '월', '주', '밥류', '과자 및 빵류', '면 및 만두류', '죽류', '국(탕)류', '찌개류', '찜류', '구이류', '전류', '볶음류', '조림류', '튀김류', '무침류', '김치류', '회류', '젓갈류', '절임류', '장류', '우유 및 유제품류', '음료류', '떡류', '원재료', '드레싱류', '조리_기타', '중식점수']\n"
     ]
    }
   ],
   "source": [
    "print(X1_select.shape)\n",
    "print(X1.columns[fs.get_support()].tolist()) #get_support: 선택한 특성을 불린값으로 보여줘서 어떤 특성을 선택했는지 알 수 있다."
   ]
  },
  {
   "cell_type": "code",
   "execution_count": 130,
   "metadata": {},
   "outputs": [],
   "source": [
    "X1 = train_점심[['요일', '본사정원수', '본사시간외근무명령서승인건수', '현본사소속재택근무자수', '년', '월', '주', '밥류', '면 및 만두류', '국(탕)류', '찌개류', '전류', '볶음류', '무침류', '김치류', '회류', '젓갈류', '절임류', '우유 및 유제품류', '음료류', '원재료', '드레싱류', '조리_기타', '중식점수']]\n",
    "y1 = train.중식계\n",
    "target1 = test_점심[X1.columns]"
   ]
  },
  {
   "cell_type": "code",
   "execution_count": null,
   "metadata": {},
   "outputs": [],
   "source": []
  },
  {
   "cell_type": "code",
   "execution_count": 131,
   "metadata": {
    "scrolled": true
   },
   "outputs": [
    {
     "name": "stderr",
     "output_type": "stream",
     "text": [
      "100%|██████████████████████████████████████████████████████████████████████████████████| 95/95 [00:31<00:00,  3.03it/s]"
     ]
    },
    {
     "name": "stdout",
     "output_type": "stream",
     "text": [
      "(55, -61.57700805321004)\n"
     ]
    },
    {
     "name": "stderr",
     "output_type": "stream",
     "text": [
      "\n"
     ]
    },
    {
     "data": {
      "image/png": "[encoded data removed]",
      "text/plain": [
       "<Figure size 432x288 with 1 Axes>"
      ]
     },
     "metadata": {
      "needs_background": "light"
     },
     "output_type": "display_data"
    }
   ],
   "source": [
    "# 사용할 모델 설정 (속도가 빠른 모델 사용 권장)\n",
    "model = LGBMRegressor(random_state=0)\n",
    "\n",
    "# 각 특성과 타깃(class) 사이에 유의한 통계적 관계가 있는지 계산하여 특성을 선택하는 방법 \n",
    "cv_scores = []\n",
    "for p in tqdm(range(5,100,1)):\n",
    "    X_new = SelectPercentile(percentile=p).fit_transform(X2, y2)    #SelectPercentile: 지정된 비율만큼 특성을 선택한다.\n",
    "    cv_score = cross_val_score(model, X_new, y2, scoring='neg_mean_absolute_error', cv=5).mean()\n",
    "    cv_scores.append((p,cv_score))\n",
    "\n",
    "# Print the best percentile\n",
    "best_score = cv_scores[np.argmax([score for _, score in cv_scores])]\n",
    "print(best_score)\n",
    "\n",
    "# Plot the performance change with p\n",
    "plt.plot([k for k, _ in cv_scores], [score for _, score in cv_scores])\n",
    "plt.xlabel('Percent of features')\n",
    "plt.grid()"
   ]
  },
  {
   "cell_type": "code",
   "execution_count": 132,
   "metadata": {},
   "outputs": [],
   "source": [
    "# 과적합을 피하기 위해 최적의 p값 주변의 값을 선택하는게 더 나은 결과를 얻을 수 있다. \n",
    "fs = SelectPercentile(percentile=best_score[0]).fit(X2, y2)\n",
    "X2_select = fs.transform(X2)\n",
    "target2_select = fs.transform(target2)"
   ]
  },
  {
   "cell_type": "code",
   "execution_count": 133,
   "metadata": {
    "scrolled": true
   },
   "outputs": [
    {
     "name": "stdout",
     "output_type": "stream",
     "text": [
      "(1205, 18)\n",
      "['요일', '본사시간외근무명령서승인건수', '현본사소속재택근무자수', '년', '주', '밥류', '국(탕)류', '찜류', '전류', '볶음류', '조림류', '튀김류', '무침류', '김치류', '장류', '우유 및 유제품류', '떡류', '석식점수']\n"
     ]
    }
   ],
   "source": [
    "print(X2_select.shape)\n",
    "print(X2.columns[fs.get_support()].tolist()) #get_support: 선택한 특성을 불린값으로 보여줘서 어떤 특성을 선택했는지 알 수 있다."
   ]
  },
  {
   "cell_type": "code",
   "execution_count": 134,
   "metadata": {},
   "outputs": [],
   "source": [
    "X2 = train_저녁[['요일', '본사정원수', '본사휴가자수', '본사시간외근무명령서승인건수', '현본사소속재택근무자수', '년', '월', '주', '밥류', '국(탕)류', '찌개류', '찜류', '구이류', '전류', '볶음류', '조림류', '튀김류', '무침류', '김치류', '장류', '우유 및 유제품류', '떡류', '원재료', '드레싱류', '조리_기타', '석식점수']]\n",
    "y2 = train.석식계\n",
    "target2 = test_저녁[X2.columns]"
   ]
  },
  {
   "cell_type": "code",
   "execution_count": null,
   "metadata": {},
   "outputs": [],
   "source": []
  },
  {
   "cell_type": "markdown",
   "metadata": {},
   "source": [
    "***"
   ]
  },
  {
   "cell_type": "code",
   "execution_count": 135,
   "metadata": {},
   "outputs": [],
   "source": [
    "from lightgbm import LGBMRegressor\n",
    "from xgboost import XGBRFRegressor\n",
    "from sklearn.metrics import mean_absolute_error\n",
    "from sklearn.model_selection import TimeSeriesSplit, KFold\n",
    "from sklearn.ensemble import RandomForestRegressor, GradientBoostingRegressor, VotingRegressor\n",
    "from ngboost import NGBRegressor"
   ]
  },
  {
   "cell_type": "markdown",
   "metadata": {},
   "source": [
    "LGBM만 사용하면 PB : 71"
   ]
  },
  {
   "cell_type": "code",
   "execution_count": 136,
   "metadata": {},
   "outputs": [],
   "source": [
    "kf = KFold(n_splits = 15, random_state = 607, shuffle = True)"
   ]
  },
  {
   "cell_type": "code",
   "execution_count": 137,
   "metadata": {},
   "outputs": [],
   "source": [
    "lgbm = LGBMRegressor(random_state = 607, max_depth = 4, n_estimators = 20000, learning_rate = .01)"
   ]
  },
  {
   "cell_type": "code",
   "execution_count": 138,
   "metadata": {
    "scrolled": true
   },
   "outputs": [
    {
     "name": "stdout",
     "output_type": "stream",
     "text": [
      "Training until validation scores don't improve for 2000 rounds\n",
      "[2000]\ttraining's l1: 50.298\ttraining's l2: 4653.49\tvalid_1's l1: 76.3394\tvalid_1's l2: 12201.2\n",
      "Early stopping, best iteration is:\n",
      "[406]\ttraining's l1: 68.3166\ttraining's l2: 8527.32\tvalid_1's l1: 71.2654\tvalid_1's l2: 10579\n",
      "FOLD MAE = 71.26544811666997\n",
      "Training until validation scores don't improve for 2000 rounds\n",
      "[2000]\ttraining's l1: 50.3163\ttraining's l2: 4719.76\tvalid_1's l1: 64.2434\tvalid_1's l2: 7130.96\n",
      "Early stopping, best iteration is:\n",
      "[1171]\ttraining's l1: 55.7574\ttraining's l2: 5892.12\tvalid_1's l1: 64.7831\tvalid_1's l2: 6874.38\n",
      "FOLD MAE = 64.78311752245787\n",
      "Training until validation scores don't improve for 2000 rounds\n",
      "[2000]\ttraining's l1: 48.1757\ttraining's l2: 4172.36\tvalid_1's l1: 91.5305\tvalid_1's l2: 19078.4\n",
      "Early stopping, best iteration is:\n",
      "[1027]\ttraining's l1: 55.146\ttraining's l2: 5507.56\tvalid_1's l1: 90.9945\tvalid_1's l2: 18367.1\n",
      "FOLD MAE = 90.9945022778894\n",
      "Training until validation scores don't improve for 2000 rounds\n",
      "[2000]\ttraining's l1: 48.4731\ttraining's l2: 4405.93\tvalid_1's l1: 72.4265\tvalid_1's l2: 10192.9\n",
      "Early stopping, best iteration is:\n",
      "[605]\ttraining's l1: 61.8512\ttraining's l2: 7121.67\tvalid_1's l1: 69.2747\tvalid_1's l2: 9809.38\n",
      "FOLD MAE = 69.27470383299944\n",
      "Training until validation scores don't improve for 2000 rounds\n",
      "[2000]\ttraining's l1: 50.0597\ttraining's l2: 4648.85\tvalid_1's l1: 77.1076\tvalid_1's l2: 9151.31\n",
      "Early stopping, best iteration is:\n",
      "[497]\ttraining's l1: 65.1774\ttraining's l2: 7988.62\tvalid_1's l1: 72.9148\tvalid_1's l2: 8500.94\n",
      "FOLD MAE = 72.91480587791173\n",
      "Training until validation scores don't improve for 2000 rounds\n",
      "[2000]\ttraining's l1: 48.9057\ttraining's l2: 4513.75\tvalid_1's l1: 72.7522\tvalid_1's l2: 10384.1\n",
      "[4000]\ttraining's l1: 41.2474\ttraining's l2: 3162.41\tvalid_1's l1: 74.6695\tvalid_1's l2: 10324.3\n",
      "Early stopping, best iteration is:\n",
      "[2125]\ttraining's l1: 48.1227\ttraining's l2: 4365.44\tvalid_1's l1: 72.4066\tvalid_1's l2: 10247.1\n",
      "FOLD MAE = 72.40659057546301\n",
      "Training until validation scores don't improve for 2000 rounds\n",
      "[2000]\ttraining's l1: 51.0355\ttraining's l2: 4790.43\tvalid_1's l1: 62.7981\tvalid_1's l2: 6904.62\n",
      "Early stopping, best iteration is:\n",
      "[1514]\ttraining's l1: 53.7567\ttraining's l2: 5350.76\tvalid_1's l1: 62.5804\tvalid_1's l2: 6722.72\n",
      "FOLD MAE = 62.58043524712723\n",
      "Training until validation scores don't improve for 2000 rounds\n",
      "[2000]\ttraining's l1: 50.018\ttraining's l2: 4623.43\tvalid_1's l1: 75.0513\tvalid_1's l2: 10786.3\n",
      "Early stopping, best iteration is:\n",
      "[979]\ttraining's l1: 57.081\ttraining's l2: 6130.51\tvalid_1's l1: 76.04\tvalid_1's l2: 10668\n",
      "FOLD MAE = 76.03999379492629\n",
      "Training until validation scores don't improve for 2000 rounds\n",
      "[2000]\ttraining's l1: 50.5816\ttraining's l2: 4818.41\tvalid_1's l1: 76.2584\tvalid_1's l2: 9773.99\n",
      "Early stopping, best iteration is:\n",
      "[1049]\ttraining's l1: 56.9148\ttraining's l2: 6112.37\tvalid_1's l1: 74.7556\tvalid_1's l2: 9650.76\n",
      "FOLD MAE = 74.75562824509133\n",
      "Training until validation scores don't improve for 2000 rounds\n",
      "[2000]\ttraining's l1: 49.8089\ttraining's l2: 4613.37\tvalid_1's l1: 73.1042\tvalid_1's l2: 9568.26\n",
      "Early stopping, best iteration is:\n",
      "[594]\ttraining's l1: 63.2602\ttraining's l2: 7466.36\tvalid_1's l1: 72.2922\tvalid_1's l2: 9102.87\n",
      "FOLD MAE = 72.29222170645976\n",
      "Training until validation scores don't improve for 2000 rounds\n",
      "[2000]\ttraining's l1: 49.0597\ttraining's l2: 4533.06\tvalid_1's l1: 85.1852\tvalid_1's l2: 13949.2\n",
      "[4000]\ttraining's l1: 42.204\ttraining's l2: 3336.98\tvalid_1's l1: 83.7028\tvalid_1's l2: 13354.4\n",
      "[6000]\ttraining's l1: 36.4717\ttraining's l2: 2492.11\tvalid_1's l1: 83.3571\tvalid_1's l2: 13668.7\n",
      "Early stopping, best iteration is:\n",
      "[4036]\ttraining's l1: 42.0787\ttraining's l2: 3317.36\tvalid_1's l1: 83.6721\tvalid_1's l2: 13323\n",
      "FOLD MAE = 83.67209802034145\n",
      "Training until validation scores don't improve for 2000 rounds\n",
      "[2000]\ttraining's l1: 49.0701\ttraining's l2: 4444.41\tvalid_1's l1: 66.7315\tvalid_1's l2: 9163.79\n",
      "Early stopping, best iteration is:\n",
      "[1273]\ttraining's l1: 54.9834\ttraining's l2: 5594.51\tvalid_1's l1: 66.0066\tvalid_1's l2: 8999.33\n",
      "FOLD MAE = 66.00661822201994\n",
      "Training until validation scores don't improve for 2000 rounds\n",
      "[2000]\ttraining's l1: 50.9198\ttraining's l2: 4801.2\tvalid_1's l1: 76.7314\tvalid_1's l2: 10601.7\n",
      "Early stopping, best iteration is:\n",
      "[1477]\ttraining's l1: 53.4042\ttraining's l2: 5336.67\tvalid_1's l1: 76.5746\tvalid_1's l2: 10752.6\n",
      "FOLD MAE = 76.5746482761842\n",
      "Training until validation scores don't improve for 2000 rounds\n",
      "[2000]\ttraining's l1: 49.2536\ttraining's l2: 4547.96\tvalid_1's l1: 79.1995\tvalid_1's l2: 10475.3\n",
      "Early stopping, best iteration is:\n",
      "[1009]\ttraining's l1: 56.7813\ttraining's l2: 6027.73\tvalid_1's l1: 77.3935\tvalid_1's l2: 10240.4\n",
      "FOLD MAE = 77.39348901928312\n",
      "Training until validation scores don't improve for 2000 rounds\n",
      "[2000]\ttraining's l1: 50.7087\ttraining's l2: 4780.77\tvalid_1's l1: 75.5029\tvalid_1's l2: 9059.83\n",
      "Early stopping, best iteration is:\n",
      "[570]\ttraining's l1: 63.3805\ttraining's l2: 7618.09\tvalid_1's l1: 74.2261\tvalid_1's l2: 8653.92\n",
      "FOLD MAE = 74.22613268879523\n",
      "\n",
      "LGBMRegressor MAE = 73.67869556157464\n"
     ]
    }
   ],
   "source": [
    "lgbm_pred_1 = np.zeros((target1.shape[0]))\n",
    "mae_list = []\n",
    "for tr_idx, val_idx in kf.split(X1):\n",
    "    tr_x, val_x = X1.iloc[tr_idx], X1.iloc[val_idx]\n",
    "    tr_y, val_y = y1.iloc[tr_idx], y1.iloc[val_idx]\n",
    "    lgbm.fit(tr_x, tr_y, eval_set = [(tr_x, tr_y), (val_x, val_y)], eval_metric = 'mean_absolute_error', early_stopping_rounds = 2000, verbose = 2000)\n",
    "    pred = lgbm.predict(val_x)\n",
    "    mae = mean_absolute_error(val_y, pred)\n",
    "    mae_list.append(mae)\n",
    "    print(f'FOLD MAE = {mae}')\n",
    "    sub_pred = lgbm.predict(target1) / 15\n",
    "    lgbm_pred_1 += sub_pred\n",
    "print(f'\\n{lgbm.__class__.__name__} MAE = {np.mean(mae_list)}')"
   ]
  },
  {
   "cell_type": "code",
   "execution_count": 139,
   "metadata": {
    "scrolled": true
   },
   "outputs": [
    {
     "data": {
      "text/plain": [
       "49175.20451986684"
      ]
     },
     "execution_count": 139,
     "metadata": {},
     "output_type": "execute_result"
    }
   ],
   "source": [
    "lgbm_pred_1.sum()"
   ]
  },
  {
   "cell_type": "code",
   "execution_count": 140,
   "metadata": {},
   "outputs": [
    {
     "data": {
      "image/png": "[encoded data removed]",
      "text/plain": [
       "<Figure size 432x288 with 1 Axes>"
      ]
     },
     "metadata": {
      "needs_background": "light"
     },
     "output_type": "display_data"
    }
   ],
   "source": [
    "a=pd.DataFrame(data=lgbm.feature_importances_,index=X1.columns)\n",
    "a=a.sort_values(by=0,ascending=False)\n",
    "a.columns=['value']\n",
    "\n",
    "plt.bar(a.index, a.value)\n",
    "plt.xticks(fontsize=12, rotation='vertical') \n",
    "plt.show()"
   ]
  },
  {
   "cell_type": "code",
   "execution_count": null,
   "metadata": {},
   "outputs": [],
   "source": []
  },
  {
   "cell_type": "code",
   "execution_count": 141,
   "metadata": {
    "scrolled": true
   },
   "outputs": [
    {
     "name": "stdout",
     "output_type": "stream",
     "text": [
      "Training until validation scores don't improve for 2000 rounds\n",
      "[2000]\ttraining's l1: 32.6902\ttraining's l2: 2193.67\tvalid_1's l1: 49.5936\tvalid_1's l2: 4609.11\n",
      "[4000]\ttraining's l1: 29.7014\ttraining's l2: 1783.27\tvalid_1's l1: 50.6\tvalid_1's l2: 4653.95\n",
      "Early stopping, best iteration is:\n",
      "[2514]\ttraining's l1: 31.5046\ttraining's l2: 2028.95\tvalid_1's l1: 49.3619\tvalid_1's l2: 4576.46\n",
      "FOLD MAE = 49.361939419585596\n",
      "Training until validation scores don't improve for 2000 rounds\n",
      "[2000]\ttraining's l1: 32.4749\ttraining's l2: 1982.2\tvalid_1's l1: 57.2427\tvalid_1's l2: 9086.38\n",
      "Early stopping, best iteration is:\n",
      "[524]\ttraining's l1: 42.0765\ttraining's l2: 3470.19\tvalid_1's l1: 57.2947\tvalid_1's l2: 8480.68\n",
      "FOLD MAE = 57.2946671604964\n",
      "Training until validation scores don't improve for 2000 rounds\n",
      "[2000]\ttraining's l1: 32.0647\ttraining's l2: 2003.39\tvalid_1's l1: 58.5204\tvalid_1's l2: 6804.74\n",
      "Early stopping, best iteration is:\n",
      "[770]\ttraining's l1: 39.9278\ttraining's l2: 3137.77\tvalid_1's l1: 57.6598\tvalid_1's l2: 6315.53\n",
      "FOLD MAE = 57.65977934801736\n",
      "Training until validation scores don't improve for 2000 rounds\n",
      "[2000]\ttraining's l1: 33.357\ttraining's l2: 2183.36\tvalid_1's l1: 48.2566\tvalid_1's l2: 4099.35\n",
      "Early stopping, best iteration is:\n",
      "[714]\ttraining's l1: 40.4023\ttraining's l2: 3304.1\tvalid_1's l1: 46.6969\tvalid_1's l2: 4248.11\n",
      "FOLD MAE = 46.696903610606434\n",
      "Training until validation scores don't improve for 2000 rounds\n",
      "[2000]\ttraining's l1: 33.2754\ttraining's l2: 2170.2\tvalid_1's l1: 46.2632\tvalid_1's l2: 3458.62\n",
      "[4000]\ttraining's l1: 29.8516\ttraining's l2: 1732.88\tvalid_1's l1: 47.024\tvalid_1's l2: 3487.24\n",
      "Early stopping, best iteration is:\n",
      "[2043]\ttraining's l1: 33.0991\ttraining's l2: 2144.24\tvalid_1's l1: 46.2065\tvalid_1's l2: 3441.54\n",
      "FOLD MAE = 46.20654328338627\n",
      "Training until validation scores don't improve for 2000 rounds\n",
      "[2000]\ttraining's l1: 32.1399\ttraining's l2: 2054.43\tvalid_1's l1: 42.2349\tvalid_1's l2: 2971.93\n",
      "Early stopping, best iteration is:\n",
      "[674]\ttraining's l1: 41.0869\ttraining's l2: 3371.48\tvalid_1's l1: 42.7245\tvalid_1's l2: 2640.05\n",
      "FOLD MAE = 42.72447887311895\n",
      "Training until validation scores don't improve for 2000 rounds\n",
      "[2000]\ttraining's l1: 32.7208\ttraining's l2: 2146.79\tvalid_1's l1: 49.1341\tvalid_1's l2: 4319.32\n",
      "Early stopping, best iteration is:\n",
      "[1397]\ttraining's l1: 35.0899\ttraining's l2: 2470.44\tvalid_1's l1: 49.0319\tvalid_1's l2: 4365.58\n",
      "FOLD MAE = 49.03187991027143\n",
      "Training until validation scores don't improve for 2000 rounds\n",
      "[2000]\ttraining's l1: 33.7225\ttraining's l2: 2284.02\tvalid_1's l1: 41.2404\tvalid_1's l2: 2782.61\n",
      "Early stopping, best iteration is:\n",
      "[1453]\ttraining's l1: 35.5901\ttraining's l2: 2553.93\tvalid_1's l1: 40.9138\tvalid_1's l2: 2728.88\n",
      "FOLD MAE = 40.913836718396524\n",
      "Training until validation scores don't improve for 2000 rounds\n",
      "[2000]\ttraining's l1: 32.2852\ttraining's l2: 2150.05\tvalid_1's l1: 55.1135\tvalid_1's l2: 5513.7\n",
      "Early stopping, best iteration is:\n",
      "[591]\ttraining's l1: 41.5126\ttraining's l2: 3531.78\tvalid_1's l1: 51.9135\tvalid_1's l2: 4982.1\n",
      "FOLD MAE = 51.91345840824397\n",
      "Training until validation scores don't improve for 2000 rounds\n",
      "[2000]\ttraining's l1: 32.4595\ttraining's l2: 2111.3\tvalid_1's l1: 50.0083\tvalid_1's l2: 5982\n",
      "Early stopping, best iteration is:\n",
      "[302]\ttraining's l1: 47.7404\ttraining's l2: 4361.07\tvalid_1's l1: 48.4885\tvalid_1's l2: 5607.88\n",
      "FOLD MAE = 48.48852524391361\n",
      "Training until validation scores don't improve for 2000 rounds\n",
      "[2000]\ttraining's l1: 32.4917\ttraining's l2: 2100.24\tvalid_1's l1: 43.8323\tvalid_1's l2: 4786.41\n",
      "Early stopping, best iteration is:\n",
      "[1171]\ttraining's l1: 36.5404\ttraining's l2: 2643.78\tvalid_1's l1: 42.2901\tvalid_1's l2: 4861.57\n",
      "FOLD MAE = 42.29009687337082\n",
      "Training until validation scores don't improve for 2000 rounds\n",
      "[2000]\ttraining's l1: 33.0775\ttraining's l2: 2177.56\tvalid_1's l1: 45.6237\tvalid_1's l2: 4000.19\n",
      "Early stopping, best iteration is:\n",
      "[1204]\ttraining's l1: 36.6155\ttraining's l2: 2671.12\tvalid_1's l1: 44.7242\tvalid_1's l2: 4019.76\n",
      "FOLD MAE = 44.72417223228251\n",
      "Training until validation scores don't improve for 2000 rounds\n",
      "[2000]\ttraining's l1: 32.7606\ttraining's l2: 2213.93\tvalid_1's l1: 51.6771\tvalid_1's l2: 4284.36\n",
      "[4000]\ttraining's l1: 30.0218\ttraining's l2: 1783.84\tvalid_1's l1: 51.3818\tvalid_1's l2: 4180.99\n",
      "Early stopping, best iteration is:\n",
      "[2828]\ttraining's l1: 31.2136\ttraining's l2: 1974.92\tvalid_1's l1: 51.0548\tvalid_1's l2: 4179.83\n",
      "FOLD MAE = 51.054751984239715\n",
      "Training until validation scores don't improve for 2000 rounds\n",
      "[2000]\ttraining's l1: 32.3172\ttraining's l2: 2075.22\tvalid_1's l1: 52.8211\tvalid_1's l2: 4960.18\n",
      "Early stopping, best iteration is:\n",
      "[403]\ttraining's l1: 45.6186\ttraining's l2: 4123.92\tvalid_1's l1: 46.6063\tvalid_1's l2: 3739.79\n",
      "FOLD MAE = 46.60630002117067\n",
      "Training until validation scores don't improve for 2000 rounds\n",
      "[2000]\ttraining's l1: 33.6912\ttraining's l2: 2307.3\tvalid_1's l1: 35.9842\tvalid_1's l2: 2108.47\n",
      "[4000]\ttraining's l1: 30.9921\ttraining's l2: 1893.12\tvalid_1's l1: 35.9342\tvalid_1's l2: 2142.02\n",
      "Early stopping, best iteration is:\n",
      "[2348]\ttraining's l1: 33.1271\ttraining's l2: 2218.15\tvalid_1's l1: 35.6966\tvalid_1's l2: 2096.16\n",
      "FOLD MAE = 35.69655407564462\n",
      "\n",
      "LGBMRegressor MAE = 47.37759247751632\n"
     ]
    }
   ],
   "source": [
    "lgbm_pred_2 = np.zeros((target1.shape[0]))\n",
    "mae_list = []\n",
    "for tr_idx, val_idx in kf.split(X2):\n",
    "    tr_x, val_x = X2.iloc[tr_idx], X2.iloc[val_idx]\n",
    "    tr_y, val_y = y2.iloc[tr_idx], y2.iloc[val_idx]\n",
    "    \n",
    "    lgbm.fit(tr_x, tr_y, eval_set = [(tr_x, tr_y), (val_x, val_y)], eval_metric = 'mean_absolute_error', early_stopping_rounds = 2000, verbose = 2000)\n",
    "    pred = lgbm.predict(val_x)\n",
    "    mae = mean_absolute_error(val_y, pred)\n",
    "    print(f'FOLD MAE = {mae}')\n",
    "    mae_list.append(mae)\n",
    "    sub_pred = lgbm.predict(target2) / 15\n",
    "    lgbm_pred_2 += sub_pred\n",
    "print(f'\\n{lgbm.__class__.__name__} MAE = {np.mean(mae_list)}')"
   ]
  },
  {
   "cell_type": "code",
   "execution_count": 142,
   "metadata": {
    "scrolled": true
   },
   "outputs": [
    {
     "data": {
      "text/plain": [
       "25104.767144082623"
      ]
     },
     "execution_count": 142,
     "metadata": {},
     "output_type": "execute_result"
    }
   ],
   "source": [
    "lgbm_pred_2.sum()"
   ]
  },
  {
   "cell_type": "code",
   "execution_count": 143,
   "metadata": {
    "scrolled": false
   },
   "outputs": [
    {
     "data": {
      "image/png": "[encoded data removed]",
      "text/plain": [
       "<Figure size 432x288 with 1 Axes>"
      ]
     },
     "metadata": {
      "needs_background": "light"
     },
     "output_type": "display_data"
    }
   ],
   "source": [
    "a=pd.DataFrame(data=lgbm.feature_importances_,index=X2.columns)\n",
    "a=a.sort_values(by=0,ascending=False)\n",
    "a.columns=['value']\n",
    "\n",
    "plt.bar(a.index, a.value)\n",
    "plt.xticks(fontsize=12, rotation='vertical') \n",
    "plt.show()"
   ]
  },
  {
   "cell_type": "code",
   "execution_count": 144,
   "metadata": {},
   "outputs": [],
   "source": [
    "submission['중식계'] = lgbm_pred_1\n",
    "submission['석식계'] = lgbm_pred_2"
   ]
  },
  {
   "cell_type": "code",
   "execution_count": 145,
   "metadata": {
    "scrolled": true
   },
   "outputs": [
    {
     "data": {
      "text/html": [
       "<div>\n",
       "<style scoped>\n",
       "    .dataframe tbody tr th:only-of-type {\n",
       "        vertical-align: middle;\n",
       "    }\n",
       "\n",
       "    .dataframe tbody tr th {\n",
       "        vertical-align: top;\n",
       "    }\n",
       "\n",
       "    .dataframe thead th {\n",
       "        text-align: right;\n",
       "    }\n",
       "</style>\n",
       "<table border=\"1\" class=\"dataframe\">\n",
       "  <thead>\n",
       "    <tr style=\"text-align: right;\">\n",
       "      <th></th>\n",
       "      <th>일자</th>\n",
       "      <th>중식계</th>\n",
       "      <th>석식계</th>\n",
       "    </tr>\n",
       "  </thead>\n",
       "  <tbody>\n",
       "    <tr>\n",
       "      <th>0</th>\n",
       "      <td>2021-01-27</td>\n",
       "      <td>995.805901</td>\n",
       "      <td>366.860338</td>\n",
       "    </tr>\n",
       "    <tr>\n",
       "      <th>1</th>\n",
       "      <td>2021-01-28</td>\n",
       "      <td>898.965154</td>\n",
       "      <td>412.183357</td>\n",
       "    </tr>\n",
       "    <tr>\n",
       "      <th>2</th>\n",
       "      <td>2021-01-29</td>\n",
       "      <td>698.283129</td>\n",
       "      <td>313.989280</td>\n",
       "    </tr>\n",
       "    <tr>\n",
       "      <th>3</th>\n",
       "      <td>2021-02-01</td>\n",
       "      <td>1257.362192</td>\n",
       "      <td>511.256259</td>\n",
       "    </tr>\n",
       "    <tr>\n",
       "      <th>4</th>\n",
       "      <td>2021-02-02</td>\n",
       "      <td>1004.411146</td>\n",
       "      <td>453.577883</td>\n",
       "    </tr>\n",
       "    <tr>\n",
       "      <th>5</th>\n",
       "      <td>2021-02-03</td>\n",
       "      <td>993.283858</td>\n",
       "      <td>391.713839</td>\n",
       "    </tr>\n",
       "    <tr>\n",
       "      <th>6</th>\n",
       "      <td>2021-02-04</td>\n",
       "      <td>983.505945</td>\n",
       "      <td>428.973926</td>\n",
       "    </tr>\n",
       "    <tr>\n",
       "      <th>7</th>\n",
       "      <td>2021-02-05</td>\n",
       "      <td>718.486869</td>\n",
       "      <td>332.108331</td>\n",
       "    </tr>\n",
       "    <tr>\n",
       "      <th>8</th>\n",
       "      <td>2021-02-08</td>\n",
       "      <td>1240.674395</td>\n",
       "      <td>641.188158</td>\n",
       "    </tr>\n",
       "    <tr>\n",
       "      <th>9</th>\n",
       "      <td>2021-02-09</td>\n",
       "      <td>1020.352058</td>\n",
       "      <td>546.319228</td>\n",
       "    </tr>\n",
       "    <tr>\n",
       "      <th>10</th>\n",
       "      <td>2021-02-10</td>\n",
       "      <td>958.513607</td>\n",
       "      <td>361.742231</td>\n",
       "    </tr>\n",
       "    <tr>\n",
       "      <th>11</th>\n",
       "      <td>2021-02-15</td>\n",
       "      <td>1325.082105</td>\n",
       "      <td>732.130775</td>\n",
       "    </tr>\n",
       "    <tr>\n",
       "      <th>12</th>\n",
       "      <td>2021-02-16</td>\n",
       "      <td>1152.042611</td>\n",
       "      <td>681.354384</td>\n",
       "    </tr>\n",
       "    <tr>\n",
       "      <th>13</th>\n",
       "      <td>2021-02-17</td>\n",
       "      <td>1045.174591</td>\n",
       "      <td>416.344045</td>\n",
       "    </tr>\n",
       "    <tr>\n",
       "      <th>14</th>\n",
       "      <td>2021-02-18</td>\n",
       "      <td>988.831080</td>\n",
       "      <td>529.644637</td>\n",
       "    </tr>\n",
       "    <tr>\n",
       "      <th>15</th>\n",
       "      <td>2021-02-19</td>\n",
       "      <td>713.259200</td>\n",
       "      <td>352.927130</td>\n",
       "    </tr>\n",
       "    <tr>\n",
       "      <th>16</th>\n",
       "      <td>2021-02-22</td>\n",
       "      <td>1323.304561</td>\n",
       "      <td>698.609096</td>\n",
       "    </tr>\n",
       "    <tr>\n",
       "      <th>17</th>\n",
       "      <td>2021-02-23</td>\n",
       "      <td>1066.374481</td>\n",
       "      <td>641.805266</td>\n",
       "    </tr>\n",
       "    <tr>\n",
       "      <th>18</th>\n",
       "      <td>2021-02-24</td>\n",
       "      <td>959.064994</td>\n",
       "      <td>393.644681</td>\n",
       "    </tr>\n",
       "    <tr>\n",
       "      <th>19</th>\n",
       "      <td>2021-02-25</td>\n",
       "      <td>930.588856</td>\n",
       "      <td>521.619056</td>\n",
       "    </tr>\n",
       "    <tr>\n",
       "      <th>20</th>\n",
       "      <td>2021-02-26</td>\n",
       "      <td>631.174729</td>\n",
       "      <td>370.843885</td>\n",
       "    </tr>\n",
       "    <tr>\n",
       "      <th>21</th>\n",
       "      <td>2021-03-02</td>\n",
       "      <td>1089.716878</td>\n",
       "      <td>647.596120</td>\n",
       "    </tr>\n",
       "    <tr>\n",
       "      <th>22</th>\n",
       "      <td>2021-03-03</td>\n",
       "      <td>1042.429379</td>\n",
       "      <td>421.260409</td>\n",
       "    </tr>\n",
       "    <tr>\n",
       "      <th>23</th>\n",
       "      <td>2021-03-04</td>\n",
       "      <td>982.219063</td>\n",
       "      <td>613.144575</td>\n",
       "    </tr>\n",
       "    <tr>\n",
       "      <th>24</th>\n",
       "      <td>2021-03-05</td>\n",
       "      <td>704.018294</td>\n",
       "      <td>375.919435</td>\n",
       "    </tr>\n",
       "    <tr>\n",
       "      <th>25</th>\n",
       "      <td>2021-03-08</td>\n",
       "      <td>1317.024703</td>\n",
       "      <td>705.623443</td>\n",
       "    </tr>\n",
       "    <tr>\n",
       "      <th>26</th>\n",
       "      <td>2021-03-09</td>\n",
       "      <td>1116.797281</td>\n",
       "      <td>662.402412</td>\n",
       "    </tr>\n",
       "    <tr>\n",
       "      <th>27</th>\n",
       "      <td>2021-03-10</td>\n",
       "      <td>945.806564</td>\n",
       "      <td>400.583578</td>\n",
       "    </tr>\n",
       "    <tr>\n",
       "      <th>28</th>\n",
       "      <td>2021-03-11</td>\n",
       "      <td>956.074934</td>\n",
       "      <td>592.619079</td>\n",
       "    </tr>\n",
       "    <tr>\n",
       "      <th>29</th>\n",
       "      <td>2021-03-12</td>\n",
       "      <td>719.892284</td>\n",
       "      <td>360.743631</td>\n",
       "    </tr>\n",
       "    <tr>\n",
       "      <th>30</th>\n",
       "      <td>2021-03-15</td>\n",
       "      <td>1327.828394</td>\n",
       "      <td>716.853453</td>\n",
       "    </tr>\n",
       "    <tr>\n",
       "      <th>31</th>\n",
       "      <td>2021-03-16</td>\n",
       "      <td>1021.476833</td>\n",
       "      <td>617.773630</td>\n",
       "    </tr>\n",
       "    <tr>\n",
       "      <th>32</th>\n",
       "      <td>2021-03-17</td>\n",
       "      <td>1034.227076</td>\n",
       "      <td>430.336078</td>\n",
       "    </tr>\n",
       "    <tr>\n",
       "      <th>33</th>\n",
       "      <td>2021-03-18</td>\n",
       "      <td>977.883344</td>\n",
       "      <td>529.656949</td>\n",
       "    </tr>\n",
       "    <tr>\n",
       "      <th>34</th>\n",
       "      <td>2021-03-19</td>\n",
       "      <td>707.646654</td>\n",
       "      <td>349.050065</td>\n",
       "    </tr>\n",
       "    <tr>\n",
       "      <th>35</th>\n",
       "      <td>2021-03-22</td>\n",
       "      <td>1234.008924</td>\n",
       "      <td>637.541801</td>\n",
       "    </tr>\n",
       "    <tr>\n",
       "      <th>36</th>\n",
       "      <td>2021-03-23</td>\n",
       "      <td>1042.153563</td>\n",
       "      <td>624.443782</td>\n",
       "    </tr>\n",
       "    <tr>\n",
       "      <th>37</th>\n",
       "      <td>2021-03-24</td>\n",
       "      <td>1004.157592</td>\n",
       "      <td>443.891654</td>\n",
       "    </tr>\n",
       "    <tr>\n",
       "      <th>38</th>\n",
       "      <td>2021-03-25</td>\n",
       "      <td>957.827030</td>\n",
       "      <td>496.066403</td>\n",
       "    </tr>\n",
       "    <tr>\n",
       "      <th>39</th>\n",
       "      <td>2021-03-26</td>\n",
       "      <td>665.339860</td>\n",
       "      <td>350.808232</td>\n",
       "    </tr>\n",
       "    <tr>\n",
       "      <th>40</th>\n",
       "      <td>2021-03-29</td>\n",
       "      <td>1195.508089</td>\n",
       "      <td>629.574452</td>\n",
       "    </tr>\n",
       "    <tr>\n",
       "      <th>41</th>\n",
       "      <td>2021-03-30</td>\n",
       "      <td>1033.372247</td>\n",
       "      <td>613.247601</td>\n",
       "    </tr>\n",
       "    <tr>\n",
       "      <th>42</th>\n",
       "      <td>2021-03-31</td>\n",
       "      <td>1005.826748</td>\n",
       "      <td>433.589486</td>\n",
       "    </tr>\n",
       "    <tr>\n",
       "      <th>43</th>\n",
       "      <td>2021-04-01</td>\n",
       "      <td>920.119390</td>\n",
       "      <td>488.702805</td>\n",
       "    </tr>\n",
       "    <tr>\n",
       "      <th>44</th>\n",
       "      <td>2021-04-02</td>\n",
       "      <td>627.940455</td>\n",
       "      <td>358.186137</td>\n",
       "    </tr>\n",
       "    <tr>\n",
       "      <th>45</th>\n",
       "      <td>2021-04-05</td>\n",
       "      <td>1190.813082</td>\n",
       "      <td>641.295721</td>\n",
       "    </tr>\n",
       "    <tr>\n",
       "      <th>46</th>\n",
       "      <td>2021-04-06</td>\n",
       "      <td>977.668928</td>\n",
       "      <td>631.296971</td>\n",
       "    </tr>\n",
       "    <tr>\n",
       "      <th>47</th>\n",
       "      <td>2021-04-07</td>\n",
       "      <td>937.906040</td>\n",
       "      <td>393.584782</td>\n",
       "    </tr>\n",
       "    <tr>\n",
       "      <th>48</th>\n",
       "      <td>2021-04-08</td>\n",
       "      <td>897.304832</td>\n",
       "      <td>496.226015</td>\n",
       "    </tr>\n",
       "    <tr>\n",
       "      <th>49</th>\n",
       "      <td>2021-04-09</td>\n",
       "      <td>637.674596</td>\n",
       "      <td>343.912660</td>\n",
       "    </tr>\n",
       "  </tbody>\n",
       "</table>\n",
       "</div>"
      ],
      "text/plain": [
       "            일자          중식계         석식계\n",
       "0   2021-01-27   995.805901  366.860338\n",
       "1   2021-01-28   898.965154  412.183357\n",
       "2   2021-01-29   698.283129  313.989280\n",
       "3   2021-02-01  1257.362192  511.256259\n",
       "4   2021-02-02  1004.411146  453.577883\n",
       "5   2021-02-03   993.283858  391.713839\n",
       "6   2021-02-04   983.505945  428.973926\n",
       "7   2021-02-05   718.486869  332.108331\n",
       "8   2021-02-08  1240.674395  641.188158\n",
       "9   2021-02-09  1020.352058  546.319228\n",
       "10  2021-02-10   958.513607  361.742231\n",
       "11  2021-02-15  1325.082105  732.130775\n",
       "12  2021-02-16  1152.042611  681.354384\n",
       "13  2021-02-17  1045.174591  416.344045\n",
       "14  2021-02-18   988.831080  529.644637\n",
       "15  2021-02-19   713.259200  352.927130\n",
       "16  2021-02-22  1323.304561  698.609096\n",
       "17  2021-02-23  1066.374481  641.805266\n",
       "18  2021-02-24   959.064994  393.644681\n",
       "19  2021-02-25   930.588856  521.619056\n",
       "20  2021-02-26   631.174729  370.843885\n",
       "21  2021-03-02  1089.716878  647.596120\n",
       "22  2021-03-03  1042.429379  421.260409\n",
       "23  2021-03-04   982.219063  613.144575\n",
       "24  2021-03-05   704.018294  375.919435\n",
       "25  2021-03-08  1317.024703  705.623443\n",
       "26  2021-03-09  1116.797281  662.402412\n",
       "27  2021-03-10   945.806564  400.583578\n",
       "28  2021-03-11   956.074934  592.619079\n",
       "29  2021-03-12   719.892284  360.743631\n",
       "30  2021-03-15  1327.828394  716.853453\n",
       "31  2021-03-16  1021.476833  617.773630\n",
       "32  2021-03-17  1034.227076  430.336078\n",
       "33  2021-03-18   977.883344  529.656949\n",
       "34  2021-03-19   707.646654  349.050065\n",
       "35  2021-03-22  1234.008924  637.541801\n",
       "36  2021-03-23  1042.153563  624.443782\n",
       "37  2021-03-24  1004.157592  443.891654\n",
       "38  2021-03-25   957.827030  496.066403\n",
       "39  2021-03-26   665.339860  350.808232\n",
       "40  2021-03-29  1195.508089  629.574452\n",
       "41  2021-03-30  1033.372247  613.247601\n",
       "42  2021-03-31  1005.826748  433.589486\n",
       "43  2021-04-01   920.119390  488.702805\n",
       "44  2021-04-02   627.940455  358.186137\n",
       "45  2021-04-05  1190.813082  641.295721\n",
       "46  2021-04-06   977.668928  631.296971\n",
       "47  2021-04-07   937.906040  393.584782\n",
       "48  2021-04-08   897.304832  496.226015\n",
       "49  2021-04-09   637.674596  343.912660"
      ]
     },
     "execution_count": 145,
     "metadata": {},
     "output_type": "execute_result"
    }
   ],
   "source": [
    "submission"
   ]
  },
  {
   "cell_type": "code",
   "execution_count": null,
   "metadata": {},
   "outputs": [],
   "source": []
  },
  {
   "cell_type": "code",
   "execution_count": 146,
   "metadata": {},
   "outputs": [],
   "source": [
    "submission.to_csv('lgbm_08.csv', index = False)"
   ]
  },
  {
   "cell_type": "code",
   "execution_count": null,
   "metadata": {},
   "outputs": [],
   "source": []
  },
  {
   "cell_type": "code",
   "execution_count": 147,
   "metadata": {},
   "outputs": [],
   "source": [
    "ngb = NGBRegressor(n_estimators = 15000, verbose = 0, random_state = 607)"
   ]
  },
  {
   "cell_type": "code",
   "execution_count": 148,
   "metadata": {
    "scrolled": true
   },
   "outputs": [
    {
     "name": "stdout",
     "output_type": "stream",
     "text": [
      "FOLD MAE = 74.95736605768688\n",
      "FOLD MAE = 46.34113590125236\n",
      "FOLD MAE = 58.0221758067129\n",
      "FOLD MAE = 46.037638026444846\n",
      "FOLD MAE = 40.5907728755781\n",
      "FOLD MAE = 43.95906916028516\n",
      "FOLD MAE = 37.52917807153682\n",
      "FOLD MAE = 46.27340910976486\n",
      "FOLD MAE = 39.01583791065816\n",
      "FOLD MAE = 41.115881395081836\n",
      "FOLD MAE = 50.0299753857786\n",
      "FOLD MAE = 31.860356822502048\n",
      "FOLD MAE = 33.30843152181201\n",
      "FOLD MAE = 37.253296020732\n",
      "FOLD MAE = 32.78622653199786\n",
      "\n",
      "NGBRegressor MAE = 43.93871670652163\n"
     ]
    }
   ],
   "source": [
    "ngb_pred_1 = np.zeros((target1.shape[0]))\n",
    "mae_list = []\n",
    "for tr_idx, val_idx in kf.split(X1):\n",
    "    tr_x, val_x = X1.iloc[tr_idx], X1.iloc[val_idx]\n",
    "    tr_y, val_y = y1.iloc[tr_idx], y1.iloc[val_idx]\n",
    "    ngb.fit(tr_x, tr_y, val_x, val_y, early_stopping_rounds = 2000)\n",
    "    pred = ngb.predict(val_x)\n",
    "    mae = mean_absolute_error(val_y, pred)\n",
    "    mae_list.append(mae)\n",
    "    print(f'FOLD MAE = {mae}')\n",
    "    sub_pred = ngb.predict(target1) / 15\n",
    "    ngb_pred_1 += sub_pred\n",
    "print(f'\\n{ngb.__class__.__name__} MAE = {np.mean(mae_list)}')"
   ]
  },
  {
   "cell_type": "code",
   "execution_count": 149,
   "metadata": {},
   "outputs": [
    {
     "data": {
      "text/plain": [
       "51111.26655508483"
      ]
     },
     "execution_count": 149,
     "metadata": {},
     "output_type": "execute_result"
    }
   ],
   "source": [
    "ngb_pred_1.sum()"
   ]
  },
  {
   "cell_type": "code",
   "execution_count": null,
   "metadata": {},
   "outputs": [],
   "source": []
  },
  {
   "cell_type": "code",
   "execution_count": 150,
   "metadata": {},
   "outputs": [],
   "source": [
    "ngb = NGBRegressor(n_estimators = 15000, verbose = 0, random_state = 607)"
   ]
  },
  {
   "cell_type": "code",
   "execution_count": 151,
   "metadata": {},
   "outputs": [
    {
     "name": "stdout",
     "output_type": "stream",
     "text": [
      "FOLD MAE = 49.45853195753588\n",
      "FOLD MAE = 35.46510822927462\n",
      "FOLD MAE = 37.746490294872316\n",
      "FOLD MAE = 31.35850519843692\n",
      "FOLD MAE = 30.829273710979887\n",
      "FOLD MAE = 28.619268152390113\n",
      "FOLD MAE = 33.179206292214616\n",
      "FOLD MAE = 28.202798519521856\n",
      "FOLD MAE = 35.08411899071176\n",
      "FOLD MAE = 34.547440164894965\n",
      "FOLD MAE = 25.703716689508166\n",
      "FOLD MAE = 28.045931069510583\n",
      "FOLD MAE = 26.907000585666502\n",
      "FOLD MAE = 32.383274053599045\n",
      "FOLD MAE = 24.305057260744764\n",
      "\n",
      "NGBRegressor MAE = 32.122381411324135\n"
     ]
    }
   ],
   "source": [
    "ngb_pred_2 = np.zeros((target2.shape[0]))\n",
    "mae_list = []\n",
    "for tr_idx, val_idx in kf.split(X2):\n",
    "    tr_x, val_x = X2.iloc[tr_idx], X2.iloc[val_idx]\n",
    "    tr_y, val_y = y2.iloc[tr_idx], y2.iloc[val_idx]\n",
    "    ngb.fit(tr_x, tr_y, val_x, val_y, early_stopping_rounds = 2000)\n",
    "    pred = ngb.predict(val_x)\n",
    "    mae = mean_absolute_error(val_y, pred)\n",
    "    mae_list.append(mae)\n",
    "    print(f'FOLD MAE = {mae}')\n",
    "    sub_pred = ngb.predict(target2) / 15\n",
    "    ngb_pred_2 += sub_pred\n",
    "print(f'\\n{ngb.__class__.__name__} MAE = {np.mean(mae_list)}')"
   ]
  },
  {
   "cell_type": "code",
   "execution_count": 152,
   "metadata": {
    "scrolled": false
   },
   "outputs": [
    {
     "data": {
      "text/plain": [
       "25796.55183964585"
      ]
     },
     "execution_count": 152,
     "metadata": {},
     "output_type": "execute_result"
    }
   ],
   "source": [
    "ngb_pred_2.sum()"
   ]
  },
  {
   "cell_type": "code",
   "execution_count": null,
   "metadata": {},
   "outputs": [],
   "source": []
  },
  {
   "cell_type": "code",
   "execution_count": 153,
   "metadata": {},
   "outputs": [],
   "source": [
    "submission['중식계'] = ngb_pred_1\n",
    "submission['석식계'] = ngb_pred_2"
   ]
  },
  {
   "cell_type": "code",
   "execution_count": 154,
   "metadata": {},
   "outputs": [],
   "source": [
    "submission.to_csv('nbg_08.csv', index = False)"
   ]
  },
  {
   "cell_type": "code",
   "execution_count": null,
   "metadata": {},
   "outputs": [],
   "source": []
  },
  {
   "cell_type": "code",
   "execution_count": 155,
   "metadata": {},
   "outputs": [],
   "source": [
    "nbg=pd.read_csv('nbg_08.csv')"
   ]
  },
  {
   "cell_type": "code",
   "execution_count": 156,
   "metadata": {},
   "outputs": [],
   "source": [
    "lgbm=pd.read_csv('lgbm_08.csv')"
   ]
  },
  {
   "cell_type": "code",
   "execution_count": 157,
   "metadata": {},
   "outputs": [],
   "source": [
    "ensemble=nbg.copy()"
   ]
  },
  {
   "cell_type": "code",
   "execution_count": 158,
   "metadata": {},
   "outputs": [],
   "source": [
    "ensemble['중식계']=nbg['중식계']*0.5+lgbm['중식계']*0.5"
   ]
  },
  {
   "cell_type": "code",
   "execution_count": 159,
   "metadata": {},
   "outputs": [],
   "source": [
    "ensemble['석식계']=nbg['석식계']*0.5+lgbm['석식계']*0.5"
   ]
  },
  {
   "cell_type": "code",
   "execution_count": null,
   "metadata": {},
   "outputs": [],
   "source": []
  },
  {
   "cell_type": "markdown",
   "metadata": {},
   "source": [
    "### 49482.43247838575, 24917.37723101190"
   ]
  },
  {
   "cell_type": "code",
   "execution_count": 162,
   "metadata": {
    "scrolled": false
   },
   "outputs": [
    {
     "data": {
      "text/plain": [
       "50143.23553747585"
      ]
     },
     "execution_count": 162,
     "metadata": {},
     "output_type": "execute_result"
    }
   ],
   "source": [
    "ensemble.중식계.sum()"
   ]
  },
  {
   "cell_type": "code",
   "execution_count": 163,
   "metadata": {
    "scrolled": false
   },
   "outputs": [
    {
     "data": {
      "text/plain": [
       "25450.659491864233"
      ]
     },
     "execution_count": 163,
     "metadata": {},
     "output_type": "execute_result"
    }
   ],
   "source": [
    "ensemble.석식계.sum()"
   ]
  },
  {
   "cell_type": "code",
   "execution_count": 164,
   "metadata": {
    "scrolled": false
   },
   "outputs": [
    {
     "data": {
      "text/html": [
       "<div>\n",
       "<style scoped>\n",
       "    .dataframe tbody tr th:only-of-type {\n",
       "        vertical-align: middle;\n",
       "    }\n",
       "\n",
       "    .dataframe tbody tr th {\n",
       "        vertical-align: top;\n",
       "    }\n",
       "\n",
       "    .dataframe thead th {\n",
       "        text-align: right;\n",
       "    }\n",
       "</style>\n",
       "<table border=\"1\" class=\"dataframe\">\n",
       "  <thead>\n",
       "    <tr style=\"text-align: right;\">\n",
       "      <th></th>\n",
       "      <th>일자</th>\n",
       "      <th>중식계</th>\n",
       "      <th>석식계</th>\n",
       "    </tr>\n",
       "  </thead>\n",
       "  <tbody>\n",
       "    <tr>\n",
       "      <th>0</th>\n",
       "      <td>2021-01-27</td>\n",
       "      <td>1018.259510</td>\n",
       "      <td>351.944346</td>\n",
       "    </tr>\n",
       "    <tr>\n",
       "      <th>1</th>\n",
       "      <td>2021-01-28</td>\n",
       "      <td>898.995773</td>\n",
       "      <td>440.261609</td>\n",
       "    </tr>\n",
       "    <tr>\n",
       "      <th>2</th>\n",
       "      <td>2021-01-29</td>\n",
       "      <td>735.252037</td>\n",
       "      <td>307.369317</td>\n",
       "    </tr>\n",
       "    <tr>\n",
       "      <th>3</th>\n",
       "      <td>2021-02-01</td>\n",
       "      <td>1292.675368</td>\n",
       "      <td>533.207795</td>\n",
       "    </tr>\n",
       "    <tr>\n",
       "      <th>4</th>\n",
       "      <td>2021-02-02</td>\n",
       "      <td>1022.464538</td>\n",
       "      <td>478.329521</td>\n",
       "    </tr>\n",
       "  </tbody>\n",
       "</table>\n",
       "</div>"
      ],
      "text/plain": [
       "           일자          중식계         석식계\n",
       "0  2021-01-27  1018.259510  351.944346\n",
       "1  2021-01-28   898.995773  440.261609\n",
       "2  2021-01-29   735.252037  307.369317\n",
       "3  2021-02-01  1292.675368  533.207795\n",
       "4  2021-02-02  1022.464538  478.329521"
      ]
     },
     "execution_count": 164,
     "metadata": {},
     "output_type": "execute_result"
    }
   ],
   "source": [
    "ensemble.head()"
   ]
  },
  {
   "cell_type": "code",
   "execution_count": 168,
   "metadata": {},
   "outputs": [],
   "source": [
    "ensemble.to_csv('ensemble_09.csv', index = False)"
   ]
  },
  {
   "cell_type": "code",
   "execution_count": null,
   "metadata": {},
   "outputs": [],
   "source": []
  },
  {
   "cell_type": "code",
   "execution_count": 165,
   "metadata": {},
   "outputs": [],
   "source": [
    "ensemble_08=pd.read_csv('ensemble_08.csv')"
   ]
  },
  {
   "cell_type": "code",
   "execution_count": 118,
   "metadata": {},
   "outputs": [],
   "source": [
    "ensemble_07=pd.read_csv('ensemble_07.csv')"
   ]
  },
  {
   "cell_type": "code",
   "execution_count": 119,
   "metadata": {
    "scrolled": true
   },
   "outputs": [],
   "source": [
    "import scipy.stats"
   ]
  },
  {
   "cell_type": "code",
   "execution_count": 166,
   "metadata": {
    "scrolled": false
   },
   "outputs": [
    {
     "data": {
      "text/plain": [
       "(0.9940864155219648, 6.022886130875817e-48)"
      ]
     },
     "execution_count": 166,
     "metadata": {},
     "output_type": "execute_result"
    }
   ],
   "source": [
    "scipy.stats.pearsonr(ensemble_07['중식계'], ensemble_08['중식계'])"
   ]
  },
  {
   "cell_type": "code",
   "execution_count": 167,
   "metadata": {},
   "outputs": [
    {
     "data": {
      "text/plain": [
       "(0.9704123195013201, 2.802838179450932e-31)"
      ]
     },
     "execution_count": 167,
     "metadata": {},
     "output_type": "execute_result"
    }
   ],
   "source": [
    "scipy.stats.pearsonr(ensemble_07['석식계'], ensemble_08['석식계'])"
   ]
  },
  {
   "cell_type": "code",
   "execution_count": null,
   "metadata": {},
   "outputs": [],
   "source": []
  }
 ],
 "metadata": {
  "kernelspec": {
   "display_name": "Python 3",
   "language": "python",
   "name": "python3"
  },
  "language_info": {
   "codemirror_mode": {
    "name": "ipython",
    "version": 3
   },
   "file_extension": ".py",
   "mimetype": "text/x-python",
   "name": "python",
   "nbconvert_exporter": "python",
   "pygments_lexer": "ipython3",
   "version": "3.8.5"
  }
 },
 "nbformat": 4,
 "nbformat_minor": 4
}
