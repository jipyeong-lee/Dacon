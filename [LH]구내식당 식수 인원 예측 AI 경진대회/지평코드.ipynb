{
 "cells": [
  {
   "cell_type": "code",
   "execution_count": 1,
   "metadata": {},
   "outputs": [],
   "source": [
    "import pandas as pd\n",
    "import numpy as np\n",
    "import warnings\n",
    "warnings.filterwarnings('ignore')\n",
    "from konlpy.tag import Mecab\n",
    "from datetime import datetime, timedelta\n",
    "import matplotlib.pyplot as plt\n",
    "import seaborn as sns\n",
    "from tqdm.notebook import tqdm\n",
    "%matplotlib inline"
   ]
  },
  {
   "cell_type": "code",
   "execution_count": 2,
   "metadata": {},
   "outputs": [],
   "source": [
    "train = pd.read_csv('../input/train.csv')\n",
    "test = pd.read_csv('../input/test.csv')\n",
    "submission = pd.read_csv('../input/sample_submission.csv')"
   ]
  },
  {
   "cell_type": "code",
   "execution_count": 3,
   "metadata": {},
   "outputs": [
    {
     "data": {
      "text/html": [
       "<div>\n",
       "<style scoped>\n",
       "    .dataframe tbody tr th:only-of-type {\n",
       "        vertical-align: middle;\n",
       "    }\n",
       "\n",
       "    .dataframe tbody tr th {\n",
       "        vertical-align: top;\n",
       "    }\n",
       "\n",
       "    .dataframe thead th {\n",
       "        text-align: right;\n",
       "    }\n",
       "</style>\n",
       "<table border=\"1\" class=\"dataframe\">\n",
       "  <thead>\n",
       "    <tr style=\"text-align: right;\">\n",
       "      <th></th>\n",
       "      <th>일자</th>\n",
       "      <th>요일</th>\n",
       "      <th>본사정원수</th>\n",
       "      <th>본사휴가자수</th>\n",
       "      <th>본사출장자수</th>\n",
       "      <th>본사시간외근무명령서승인건수</th>\n",
       "      <th>현본사소속재택근무자수</th>\n",
       "      <th>조식메뉴</th>\n",
       "      <th>중식메뉴</th>\n",
       "      <th>석식메뉴</th>\n",
       "      <th>중식계</th>\n",
       "      <th>석식계</th>\n",
       "    </tr>\n",
       "  </thead>\n",
       "  <tbody>\n",
       "    <tr>\n",
       "      <th>0</th>\n",
       "      <td>2016-02-01</td>\n",
       "      <td>월</td>\n",
       "      <td>2601</td>\n",
       "      <td>50</td>\n",
       "      <td>150</td>\n",
       "      <td>238</td>\n",
       "      <td>0.0</td>\n",
       "      <td>모닝롤/찐빵  우유/두유/주스 계란후라이  호두죽/쌀밥 (쌀:국내산) 된장찌개  쥐...</td>\n",
       "      <td>쌀밥/잡곡밥 (쌀,현미흑미:국내산) 오징어찌개  쇠불고기 (쇠고기:호주산) 계란찜 ...</td>\n",
       "      <td>쌀밥/잡곡밥 (쌀,현미흑미:국내산) 육개장  자반고등어구이  두부조림  건파래무침 ...</td>\n",
       "      <td>1039.0</td>\n",
       "      <td>331.0</td>\n",
       "    </tr>\n",
       "    <tr>\n",
       "      <th>1</th>\n",
       "      <td>2016-02-02</td>\n",
       "      <td>화</td>\n",
       "      <td>2601</td>\n",
       "      <td>50</td>\n",
       "      <td>173</td>\n",
       "      <td>319</td>\n",
       "      <td>0.0</td>\n",
       "      <td>모닝롤/단호박샌드  우유/두유/주스 계란후라이  팥죽/쌀밥 (쌀:국내산) 호박젓국찌...</td>\n",
       "      <td>쌀밥/잡곡밥 (쌀,현미흑미:국내산) 김치찌개  가자미튀김  모둠소세지구이  마늘쫑무...</td>\n",
       "      <td>콩나물밥*양념장 (쌀,현미흑미:국내산) 어묵국  유산슬 (쇠고기:호주산) 아삭고추무...</td>\n",
       "      <td>867.0</td>\n",
       "      <td>560.0</td>\n",
       "    </tr>\n",
       "    <tr>\n",
       "      <th>2</th>\n",
       "      <td>2016-02-03</td>\n",
       "      <td>수</td>\n",
       "      <td>2601</td>\n",
       "      <td>56</td>\n",
       "      <td>180</td>\n",
       "      <td>111</td>\n",
       "      <td>0.0</td>\n",
       "      <td>모닝롤/베이글  우유/두유/주스 계란후라이  표고버섯죽/쌀밥 (쌀:국내산) 콩나물국...</td>\n",
       "      <td>카레덮밥 (쌀,현미흑미:국내산) 팽이장국  치킨핑거 (닭고기:국내산) 쫄면야채무침 ...</td>\n",
       "      <td>쌀밥/잡곡밥 (쌀,현미흑미:국내산) 청국장찌개  황태양념구이 (황태:러시아산) 고기...</td>\n",
       "      <td>1017.0</td>\n",
       "      <td>573.0</td>\n",
       "    </tr>\n",
       "    <tr>\n",
       "      <th>3</th>\n",
       "      <td>2016-02-04</td>\n",
       "      <td>목</td>\n",
       "      <td>2601</td>\n",
       "      <td>104</td>\n",
       "      <td>220</td>\n",
       "      <td>355</td>\n",
       "      <td>0.0</td>\n",
       "      <td>모닝롤/토마토샌드  우유/두유/주스 계란후라이  닭죽/쌀밥 (쌀,닭:국내산) 근대국...</td>\n",
       "      <td>쌀밥/잡곡밥 (쌀,현미흑미:국내산) 쇠고기무국  주꾸미볶음  부추전  시금치나물  ...</td>\n",
       "      <td>미니김밥*겨자장 (쌀,현미흑미:국내산) 우동  멕시칸샐러드  군고구마  무피클  포...</td>\n",
       "      <td>978.0</td>\n",
       "      <td>525.0</td>\n",
       "    </tr>\n",
       "    <tr>\n",
       "      <th>4</th>\n",
       "      <td>2016-02-05</td>\n",
       "      <td>금</td>\n",
       "      <td>2601</td>\n",
       "      <td>278</td>\n",
       "      <td>181</td>\n",
       "      <td>34</td>\n",
       "      <td>0.0</td>\n",
       "      <td>모닝롤/와플  우유/두유/주스 계란후라이  쇠고기죽/쌀밥 (쌀:국내산) 재첩국  방...</td>\n",
       "      <td>쌀밥/잡곡밥 (쌀,현미흑미:국내산) 떡국  돈육씨앗강정 (돼지고기:국내산) 우엉잡채...</td>\n",
       "      <td>쌀밥/잡곡밥 (쌀,현미흑미:국내산) 차돌박이찌개 (쇠고기:호주산) 닭갈비 (닭고기:...</td>\n",
       "      <td>925.0</td>\n",
       "      <td>330.0</td>\n",
       "    </tr>\n",
       "  </tbody>\n",
       "</table>\n",
       "</div>"
      ],
      "text/plain": [
       "           일자 요일  본사정원수  본사휴가자수  본사출장자수  본사시간외근무명령서승인건수  현본사소속재택근무자수  \\\n",
       "0  2016-02-01  월   2601      50     150             238          0.0   \n",
       "1  2016-02-02  화   2601      50     173             319          0.0   \n",
       "2  2016-02-03  수   2601      56     180             111          0.0   \n",
       "3  2016-02-04  목   2601     104     220             355          0.0   \n",
       "4  2016-02-05  금   2601     278     181              34          0.0   \n",
       "\n",
       "                                                조식메뉴  \\\n",
       "0  모닝롤/찐빵  우유/두유/주스 계란후라이  호두죽/쌀밥 (쌀:국내산) 된장찌개  쥐...   \n",
       "1  모닝롤/단호박샌드  우유/두유/주스 계란후라이  팥죽/쌀밥 (쌀:국내산) 호박젓국찌...   \n",
       "2  모닝롤/베이글  우유/두유/주스 계란후라이  표고버섯죽/쌀밥 (쌀:국내산) 콩나물국...   \n",
       "3  모닝롤/토마토샌드  우유/두유/주스 계란후라이  닭죽/쌀밥 (쌀,닭:국내산) 근대국...   \n",
       "4  모닝롤/와플  우유/두유/주스 계란후라이  쇠고기죽/쌀밥 (쌀:국내산) 재첩국  방...   \n",
       "\n",
       "                                                중식메뉴  \\\n",
       "0  쌀밥/잡곡밥 (쌀,현미흑미:국내산) 오징어찌개  쇠불고기 (쇠고기:호주산) 계란찜 ...   \n",
       "1  쌀밥/잡곡밥 (쌀,현미흑미:국내산) 김치찌개  가자미튀김  모둠소세지구이  마늘쫑무...   \n",
       "2  카레덮밥 (쌀,현미흑미:국내산) 팽이장국  치킨핑거 (닭고기:국내산) 쫄면야채무침 ...   \n",
       "3  쌀밥/잡곡밥 (쌀,현미흑미:국내산) 쇠고기무국  주꾸미볶음  부추전  시금치나물  ...   \n",
       "4  쌀밥/잡곡밥 (쌀,현미흑미:국내산) 떡국  돈육씨앗강정 (돼지고기:국내산) 우엉잡채...   \n",
       "\n",
       "                                                석식메뉴     중식계    석식계  \n",
       "0  쌀밥/잡곡밥 (쌀,현미흑미:국내산) 육개장  자반고등어구이  두부조림  건파래무침 ...  1039.0  331.0  \n",
       "1  콩나물밥*양념장 (쌀,현미흑미:국내산) 어묵국  유산슬 (쇠고기:호주산) 아삭고추무...   867.0  560.0  \n",
       "2  쌀밥/잡곡밥 (쌀,현미흑미:국내산) 청국장찌개  황태양념구이 (황태:러시아산) 고기...  1017.0  573.0  \n",
       "3  미니김밥*겨자장 (쌀,현미흑미:국내산) 우동  멕시칸샐러드  군고구마  무피클  포...   978.0  525.0  \n",
       "4  쌀밥/잡곡밥 (쌀,현미흑미:국내산) 차돌박이찌개 (쇠고기:호주산) 닭갈비 (닭고기:...   925.0  330.0  "
      ]
     },
     "execution_count": 3,
     "metadata": {},
     "output_type": "execute_result"
    }
   ],
   "source": [
    "train.head()"
   ]
  },
  {
   "cell_type": "code",
   "execution_count": 4,
   "metadata": {},
   "outputs": [
    {
     "data": {
      "text/html": [
       "<div>\n",
       "<style scoped>\n",
       "    .dataframe tbody tr th:only-of-type {\n",
       "        vertical-align: middle;\n",
       "    }\n",
       "\n",
       "    .dataframe tbody tr th {\n",
       "        vertical-align: top;\n",
       "    }\n",
       "\n",
       "    .dataframe thead th {\n",
       "        text-align: right;\n",
       "    }\n",
       "</style>\n",
       "<table border=\"1\" class=\"dataframe\">\n",
       "  <thead>\n",
       "    <tr style=\"text-align: right;\">\n",
       "      <th></th>\n",
       "      <th>일자</th>\n",
       "      <th>요일</th>\n",
       "      <th>본사정원수</th>\n",
       "      <th>본사휴가자수</th>\n",
       "      <th>본사출장자수</th>\n",
       "      <th>본사시간외근무명령서승인건수</th>\n",
       "      <th>현본사소속재택근무자수</th>\n",
       "      <th>조식메뉴</th>\n",
       "      <th>중식메뉴</th>\n",
       "      <th>석식메뉴</th>\n",
       "    </tr>\n",
       "  </thead>\n",
       "  <tbody>\n",
       "    <tr>\n",
       "      <th>45</th>\n",
       "      <td>2021-04-05</td>\n",
       "      <td>월</td>\n",
       "      <td>2973</td>\n",
       "      <td>125</td>\n",
       "      <td>174</td>\n",
       "      <td>704</td>\n",
       "      <td>331.0</td>\n",
       "      <td>모닝롤/커피콩빵 우유/주스 계란후라이 누룽지탕/흑미밥 청양콩나물국 스팸구이 양상추샐...</td>\n",
       "      <td>쌀밥/흑미밥/찰현미밥 쇠고기미역국 춘천닭갈비 오지치즈후라이 가지두반장볶음 포기김치 ...</td>\n",
       "      <td>흑미밥 돈육고추장찌개 갈치구이 김치전 취나물무침 깍두기</td>\n",
       "    </tr>\n",
       "    <tr>\n",
       "      <th>46</th>\n",
       "      <td>2021-04-06</td>\n",
       "      <td>화</td>\n",
       "      <td>2973</td>\n",
       "      <td>76</td>\n",
       "      <td>170</td>\n",
       "      <td>636</td>\n",
       "      <td>364.0</td>\n",
       "      <td>모닝롤/모닝샌드 우유/주스 계란후라이 고구마스프/흑미밥 아욱국 참치채소볶음 양상추샐...</td>\n",
       "      <td>쌀밥/귀리밥/찰현미밥 순두부백탕 매콤소갈비찜 깻잎완자전 돌나물초장무침 포기김치 시리...</td>\n",
       "      <td>추가밥 짬뽕*생면 수제찹쌀꿔바로우 메추리알곤약장조림 단무지무침 포기김치</td>\n",
       "    </tr>\n",
       "    <tr>\n",
       "      <th>47</th>\n",
       "      <td>2021-04-07</td>\n",
       "      <td>수</td>\n",
       "      <td>2973</td>\n",
       "      <td>96</td>\n",
       "      <td>214</td>\n",
       "      <td>1</td>\n",
       "      <td>334.0</td>\n",
       "      <td>모닝롤/호떡맥모닝 우유/주스 계란후라이 팥죽/흑미밥 닭살해장국 우엉채조림 양상추샐러...</td>\n",
       "      <td>쌀밥/흑미밥/찰현미밥 냉이국 돈육간장불고기 비빔냉면 오이나물볶음 겉절이김치 양상추샐...</td>\n",
       "      <td>단호박카레라이스 시금치된장국 소떡소떡 파프리카해초무침 감귤쥬스 포기김치</td>\n",
       "    </tr>\n",
       "    <tr>\n",
       "      <th>48</th>\n",
       "      <td>2021-04-08</td>\n",
       "      <td>목</td>\n",
       "      <td>2973</td>\n",
       "      <td>105</td>\n",
       "      <td>238</td>\n",
       "      <td>509</td>\n",
       "      <td>324.0</td>\n",
       "      <td>모닝롤/크로크무슈 우유/주스 계란후라이 누룽지탕/흑미밥 감자국 두부양념조림 양상추샐...</td>\n",
       "      <td>쌀밥/옥수수밥/찰현미밥 맑은떡국 (New)로제찜닭 가자미구이*장 유채나물무침 포기김...</td>\n",
       "      <td>흑미밥 어묵매운탕 쇠고기숙주볶음 채소계란찜 쑥갓생무침 김치볶음</td>\n",
       "    </tr>\n",
       "    <tr>\n",
       "      <th>49</th>\n",
       "      <td>2021-04-09</td>\n",
       "      <td>금</td>\n",
       "      <td>2973</td>\n",
       "      <td>259</td>\n",
       "      <td>268</td>\n",
       "      <td>0</td>\n",
       "      <td>229.0</td>\n",
       "      <td>모닝롤/토마토샌드 우유/주스 계란후라이 채소죽/흑미밥 대구지리 애호박나물볶음 양상추...</td>\n",
       "      <td>쌀밥/흑미밥/찰현미밥 사골우거지국 해물누룽지탕 청포묵*양념간장 비름나물고추장무침 석...</td>\n",
       "      <td>흑미밥 맑은버섯국 매운사태조림 춘권*타르타르D 열무나물무침 포기김치</td>\n",
       "    </tr>\n",
       "  </tbody>\n",
       "</table>\n",
       "</div>"
      ],
      "text/plain": [
       "            일자 요일  본사정원수  본사휴가자수  본사출장자수  본사시간외근무명령서승인건수  현본사소속재택근무자수  \\\n",
       "45  2021-04-05  월   2973     125     174             704        331.0   \n",
       "46  2021-04-06  화   2973      76     170             636        364.0   \n",
       "47  2021-04-07  수   2973      96     214               1        334.0   \n",
       "48  2021-04-08  목   2973     105     238             509        324.0   \n",
       "49  2021-04-09  금   2973     259     268               0        229.0   \n",
       "\n",
       "                                                 조식메뉴  \\\n",
       "45  모닝롤/커피콩빵 우유/주스 계란후라이 누룽지탕/흑미밥 청양콩나물국 스팸구이 양상추샐...   \n",
       "46  모닝롤/모닝샌드 우유/주스 계란후라이 고구마스프/흑미밥 아욱국 참치채소볶음 양상추샐...   \n",
       "47  모닝롤/호떡맥모닝 우유/주스 계란후라이 팥죽/흑미밥 닭살해장국 우엉채조림 양상추샐러...   \n",
       "48  모닝롤/크로크무슈 우유/주스 계란후라이 누룽지탕/흑미밥 감자국 두부양념조림 양상추샐...   \n",
       "49  모닝롤/토마토샌드 우유/주스 계란후라이 채소죽/흑미밥 대구지리 애호박나물볶음 양상추...   \n",
       "\n",
       "                                                 중식메뉴  \\\n",
       "45  쌀밥/흑미밥/찰현미밥 쇠고기미역국 춘천닭갈비 오지치즈후라이 가지두반장볶음 포기김치 ...   \n",
       "46  쌀밥/귀리밥/찰현미밥 순두부백탕 매콤소갈비찜 깻잎완자전 돌나물초장무침 포기김치 시리...   \n",
       "47  쌀밥/흑미밥/찰현미밥 냉이국 돈육간장불고기 비빔냉면 오이나물볶음 겉절이김치 양상추샐...   \n",
       "48  쌀밥/옥수수밥/찰현미밥 맑은떡국 (New)로제찜닭 가자미구이*장 유채나물무침 포기김...   \n",
       "49  쌀밥/흑미밥/찰현미밥 사골우거지국 해물누룽지탕 청포묵*양념간장 비름나물고추장무침 석...   \n",
       "\n",
       "                                        석식메뉴  \n",
       "45           흑미밥 돈육고추장찌개 갈치구이 김치전 취나물무침 깍두기   \n",
       "46  추가밥 짬뽕*생면 수제찹쌀꿔바로우 메추리알곤약장조림 단무지무침 포기김치   \n",
       "47  단호박카레라이스 시금치된장국 소떡소떡 파프리카해초무침 감귤쥬스 포기김치   \n",
       "48       흑미밥 어묵매운탕 쇠고기숙주볶음 채소계란찜 쑥갓생무침 김치볶음   \n",
       "49    흑미밥 맑은버섯국 매운사태조림 춘권*타르타르D 열무나물무침 포기김치   "
      ]
     },
     "execution_count": 4,
     "metadata": {},
     "output_type": "execute_result"
    }
   ],
   "source": [
    "test.tail()"
   ]
  },
  {
   "cell_type": "code",
   "execution_count": 5,
   "metadata": {},
   "outputs": [
    {
     "data": {
      "text/html": [
       "<div>\n",
       "<style scoped>\n",
       "    .dataframe tbody tr th:only-of-type {\n",
       "        vertical-align: middle;\n",
       "    }\n",
       "\n",
       "    .dataframe tbody tr th {\n",
       "        vertical-align: top;\n",
       "    }\n",
       "\n",
       "    .dataframe thead th {\n",
       "        text-align: right;\n",
       "    }\n",
       "</style>\n",
       "<table border=\"1\" class=\"dataframe\">\n",
       "  <thead>\n",
       "    <tr style=\"text-align: right;\">\n",
       "      <th></th>\n",
       "      <th>일자</th>\n",
       "      <th>중식계</th>\n",
       "      <th>석식계</th>\n",
       "    </tr>\n",
       "  </thead>\n",
       "  <tbody>\n",
       "    <tr>\n",
       "      <th>0</th>\n",
       "      <td>2021-01-27</td>\n",
       "      <td>0</td>\n",
       "      <td>0</td>\n",
       "    </tr>\n",
       "    <tr>\n",
       "      <th>1</th>\n",
       "      <td>2021-01-28</td>\n",
       "      <td>0</td>\n",
       "      <td>0</td>\n",
       "    </tr>\n",
       "    <tr>\n",
       "      <th>2</th>\n",
       "      <td>2021-01-29</td>\n",
       "      <td>0</td>\n",
       "      <td>0</td>\n",
       "    </tr>\n",
       "    <tr>\n",
       "      <th>3</th>\n",
       "      <td>2021-02-01</td>\n",
       "      <td>0</td>\n",
       "      <td>0</td>\n",
       "    </tr>\n",
       "    <tr>\n",
       "      <th>4</th>\n",
       "      <td>2021-02-02</td>\n",
       "      <td>0</td>\n",
       "      <td>0</td>\n",
       "    </tr>\n",
       "  </tbody>\n",
       "</table>\n",
       "</div>"
      ],
      "text/plain": [
       "           일자  중식계  석식계\n",
       "0  2021-01-27    0    0\n",
       "1  2021-01-28    0    0\n",
       "2  2021-01-29    0    0\n",
       "3  2021-02-01    0    0\n",
       "4  2021-02-02    0    0"
      ]
     },
     "execution_count": 5,
     "metadata": {},
     "output_type": "execute_result"
    }
   ],
   "source": [
    "submission.head()"
   ]
  },
  {
   "cell_type": "code",
   "execution_count": 6,
   "metadata": {},
   "outputs": [],
   "source": [
    "train_target = train[['중식계', '석식계']]"
   ]
  },
  {
   "cell_type": "code",
   "execution_count": 7,
   "metadata": {},
   "outputs": [
    {
     "data": {
      "text/html": [
       "<div>\n",
       "<style scoped>\n",
       "    .dataframe tbody tr th:only-of-type {\n",
       "        vertical-align: middle;\n",
       "    }\n",
       "\n",
       "    .dataframe tbody tr th {\n",
       "        vertical-align: top;\n",
       "    }\n",
       "\n",
       "    .dataframe thead th {\n",
       "        text-align: right;\n",
       "    }\n",
       "</style>\n",
       "<table border=\"1\" class=\"dataframe\">\n",
       "  <thead>\n",
       "    <tr style=\"text-align: right;\">\n",
       "      <th></th>\n",
       "      <th>중식계</th>\n",
       "      <th>석식계</th>\n",
       "    </tr>\n",
       "  </thead>\n",
       "  <tbody>\n",
       "    <tr>\n",
       "      <th>0</th>\n",
       "      <td>1039.0</td>\n",
       "      <td>331.0</td>\n",
       "    </tr>\n",
       "    <tr>\n",
       "      <th>1</th>\n",
       "      <td>867.0</td>\n",
       "      <td>560.0</td>\n",
       "    </tr>\n",
       "    <tr>\n",
       "      <th>2</th>\n",
       "      <td>1017.0</td>\n",
       "      <td>573.0</td>\n",
       "    </tr>\n",
       "    <tr>\n",
       "      <th>3</th>\n",
       "      <td>978.0</td>\n",
       "      <td>525.0</td>\n",
       "    </tr>\n",
       "    <tr>\n",
       "      <th>4</th>\n",
       "      <td>925.0</td>\n",
       "      <td>330.0</td>\n",
       "    </tr>\n",
       "    <tr>\n",
       "      <th>...</th>\n",
       "      <td>...</td>\n",
       "      <td>...</td>\n",
       "    </tr>\n",
       "    <tr>\n",
       "      <th>1200</th>\n",
       "      <td>1093.0</td>\n",
       "      <td>421.0</td>\n",
       "    </tr>\n",
       "    <tr>\n",
       "      <th>1201</th>\n",
       "      <td>832.0</td>\n",
       "      <td>353.0</td>\n",
       "    </tr>\n",
       "    <tr>\n",
       "      <th>1202</th>\n",
       "      <td>579.0</td>\n",
       "      <td>217.0</td>\n",
       "    </tr>\n",
       "    <tr>\n",
       "      <th>1203</th>\n",
       "      <td>1145.0</td>\n",
       "      <td>502.0</td>\n",
       "    </tr>\n",
       "    <tr>\n",
       "      <th>1204</th>\n",
       "      <td>1015.0</td>\n",
       "      <td>480.0</td>\n",
       "    </tr>\n",
       "  </tbody>\n",
       "</table>\n",
       "<p>1205 rows × 2 columns</p>\n",
       "</div>"
      ],
      "text/plain": [
       "         중식계    석식계\n",
       "0     1039.0  331.0\n",
       "1      867.0  560.0\n",
       "2     1017.0  573.0\n",
       "3      978.0  525.0\n",
       "4      925.0  330.0\n",
       "...      ...    ...\n",
       "1200  1093.0  421.0\n",
       "1201   832.0  353.0\n",
       "1202   579.0  217.0\n",
       "1203  1145.0  502.0\n",
       "1204  1015.0  480.0\n",
       "\n",
       "[1205 rows x 2 columns]"
      ]
     },
     "execution_count": 7,
     "metadata": {},
     "output_type": "execute_result"
    }
   ],
   "source": [
    "train_target"
   ]
  },
  {
   "cell_type": "code",
   "execution_count": 8,
   "metadata": {},
   "outputs": [
    {
     "data": {
      "text/plain": [
       "((1205, 12), (50, 10), (50, 3))"
      ]
     },
     "execution_count": 8,
     "metadata": {},
     "output_type": "execute_result"
    }
   ],
   "source": [
    "train.shape, test.shape, submission.shape"
   ]
  },
  {
   "cell_type": "markdown",
   "metadata": {},
   "source": [
    "### 외부 데이터"
   ]
  },
  {
   "cell_type": "code",
   "execution_count": 9,
   "metadata": {},
   "outputs": [],
   "source": [
    "body_temp = pd.read_csv('../input/체감온도.csv', header = 2, encoding = 'cp949')\n",
    "body_temp.columns = ['일자', '기온', '풍속', '체감온도']\n",
    "\n",
    "temp = pd.read_csv('../input/ta_20210625090530.csv', header = 7, encoding = 'cp949')\n",
    "temp.columns = ['일자', '지점', '평균기온', '최저기온', '최고기온']\n",
    "\n",
    "rainfall = pd.read_csv('../input/rn_20210625091238.csv', header = 6, encoding = 'cp949')\n",
    "rainfall.fillna(0, inplace = True)\n",
    "rainfall.columns = ['일자', '지점', '강수량']"
   ]
  },
  {
   "cell_type": "code",
   "execution_count": 10,
   "metadata": {},
   "outputs": [],
   "source": [
    "train = pd.merge(train, body_temp)\n",
    "train = pd.merge(train, temp)\n",
    "train = pd.merge(train, rainfall)\n",
    "\n",
    "test = pd.merge(test, temp)\n",
    "test = pd.merge(test, rainfall)\n",
    "test = pd.merge(test, body_temp)"
   ]
  },
  {
   "cell_type": "code",
   "execution_count": 11,
   "metadata": {},
   "outputs": [
    {
     "data": {
      "text/plain": [
       "((1205, 20), (50, 18))"
      ]
     },
     "execution_count": 11,
     "metadata": {},
     "output_type": "execute_result"
    }
   ],
   "source": [
    "train.shape, test.shape"
   ]
  },
  {
   "cell_type": "markdown",
   "metadata": {},
   "source": [
    "## Make Feature\n",
    "\n",
    "### 1. 다음날이 공휴일인가?"
   ]
  },
  {
   "cell_type": "code",
   "execution_count": 12,
   "metadata": {},
   "outputs": [],
   "source": [
    "train['일자'] = pd.to_datetime(train['일자'])\n",
    "test['일자'] = pd.to_datetime(test['일자'])"
   ]
  },
  {
   "cell_type": "code",
   "execution_count": 13,
   "metadata": {},
   "outputs": [],
   "source": [
    "train['year'] = train['일자'].dt.year\n",
    "test['year'] = test['일자'].dt.year"
   ]
  },
  {
   "cell_type": "code",
   "execution_count": 14,
   "metadata": {},
   "outputs": [],
   "source": [
    "train['month'] = train['일자'].dt.month\n",
    "test['month'] = test['일자'].dt.month"
   ]
  },
  {
   "cell_type": "code",
   "execution_count": 15,
   "metadata": {},
   "outputs": [],
   "source": [
    "train['week'] = train['일자'].dt.week\n",
    "test['week'] = test['일자'].dt.week"
   ]
  },
  {
   "cell_type": "code",
   "execution_count": 16,
   "metadata": {},
   "outputs": [],
   "source": [
    "train['day'] = train['일자'].dt.day\n",
    "test['day'] = test['일자'].dt.day"
   ]
  },
  {
   "cell_type": "code",
   "execution_count": 17,
   "metadata": {},
   "outputs": [],
   "source": [
    "train['weekly_num'] = train['day'].apply(lambda x : 1 if (x>=1) and (x<=7)\n",
    "                                                  else 2 if (x>7) and (x<=14)\n",
    "                                                  else 3 if (x>14) and (x<=21)\n",
    "                                                  else 4 if (x>21) and (x<=28) else 5)\n",
    "\n",
    "test['weekly_num'] = test['day'].apply(lambda x : 1 if (x>=1) and (x<=7)\n",
    "                                                  else 2 if (x>7) and (x<=14)\n",
    "                                                  else 3 if (x>14) and (x<=21)\n",
    "                                                  else 4 if (x>21) and (x<=28) else 5)    "
   ]
  },
  {
   "cell_type": "code",
   "execution_count": 18,
   "metadata": {},
   "outputs": [],
   "source": [
    "train['요일'] = train['일자'].dt.weekday\n",
    "test['요일'] = test['일자'].dt.weekday"
   ]
  },
  {
   "cell_type": "code",
   "execution_count": 19,
   "metadata": {},
   "outputs": [],
   "source": [
    "train['month_group'] = pd.cut(train['day'], bins = [1, 10, 20, 31], \n",
    "                              right = False, labels = ['Cho', 'Jung', 'Mal'])\n",
    "\n",
    "test['month_group'] = pd.cut(test['day'], bins = [1, 10, 20, 31], \n",
    "                              right = False, labels = ['Cho', 'Jung', 'Mal'])"
   ]
  },
  {
   "cell_type": "code",
   "execution_count": 20,
   "metadata": {},
   "outputs": [],
   "source": [
    "train = pd.concat([train, pd.get_dummies(train['month_group'])], axis=1)\n",
    "test = pd.concat([test, pd.get_dummies(test['month_group'])], axis=1)"
   ]
  },
  {
   "cell_type": "code",
   "execution_count": 21,
   "metadata": {},
   "outputs": [],
   "source": [
    "train['season'] = train['month'].apply(lambda x : 'spring' if x in [3, 4, 5]\n",
    "                                                  else 'summer' if x in [6, 7, 8]\n",
    "                                                  else 'fall' if x in [9, 10, 11]\n",
    "                                                  else 'winter')\n",
    "\n",
    "test['season'] = test['month'].apply(lambda x : 'spring' if x in [3, 4, 5]\n",
    "                                                  else 'summer' if x in [6, 7, 8]\n",
    "                                                  else 'fall' if x in [9, 10, 11]\n",
    "                                                  else 'winter')"
   ]
  },
  {
   "cell_type": "code",
   "execution_count": 22,
   "metadata": {},
   "outputs": [],
   "source": [
    "train = pd.concat([train, pd.get_dummies(train['season'])], axis=1)\n",
    "test = pd.concat([test, pd.get_dummies(test['season'])], axis=1)"
   ]
  },
  {
   "cell_type": "code",
   "execution_count": 23,
   "metadata": {},
   "outputs": [],
   "source": [
    "train['공휴일전후'] = 0\n",
    "test['공휴일전후'] = 0"
   ]
  },
  {
   "cell_type": "code",
   "execution_count": 24,
   "metadata": {},
   "outputs": [],
   "source": [
    "train['공휴일전후'][17] = 1\n",
    "train['공휴일전후'][3] = 1\n",
    "train['공휴일전후'][62] = 1\n",
    "# train['공휴일전후'][67] = 1\n",
    "# train['공휴일전후'][82] = 1\n",
    "train['공휴일전후'][131] = 1\n",
    "# train['공휴일전후'][130] = 1\n",
    "train['공휴일전후'][152] = 1\n",
    "train['공휴일전후'][226] = 1\n",
    "train['공휴일전후'][221] = 1\n",
    "train['공휴일전후'][224] = 1\n",
    "# train['공휴일전후'][244] = 1\n",
    "train['공휴일전후'][245] = 1\n",
    "# train['공휴일전후'][267] = 1\n",
    "train['공휴일전후'][310] = 2\n",
    "train['공휴일전후'][311] = 1\n",
    "train['공휴일전후'][309] = 1\n",
    "train['공휴일전후'][330] = 1\n",
    "train['공휴일전후'][379] = 1\n",
    "train['공휴일전후'][467] = 1\n",
    "# train['공휴일전후'][469] = 1\n",
    "train['공휴일전후'][470] = 1\n",
    "train['공휴일전후'][502] = 2\n",
    "# train['공휴일전후'][501] = 1\n",
    "# train['공휴일전후'][511] = 1\n",
    "train['공휴일전후'][565] = 1\n",
    "train['공휴일전후'][623] = 1\n",
    "train['공휴일전후'][651] = 1\n",
    "# train['공휴일전후'][650] = 1\n",
    "train['공휴일전후'][705] = 1\n",
    "# train['공휴일전후'][707] = 1\n",
    "train['공휴일전후'][709] = 1\n",
    "# train['공휴일전후'][733] = 1\n",
    "# train['공휴일전후'][748] = 1\n",
    "# train['공휴일전후'][792] = 1\n",
    "train['공휴일전후'][815] = 1\n",
    "train['공휴일전후'][864] = 1\n",
    "# train['공휴일전후'][863] = 1\n",
    "train['공휴일전후'][950] = 1\n",
    "train['공휴일전후'][951] = 1\n",
    "train['공휴일전후'][953] = 1\n",
    "train['공휴일전후'][954] = 1\n",
    "train['공휴일전후'][955] = 1\n",
    "train['공휴일전후'][971] = 2\n",
    "# train['공휴일전후'][970] = 1\n",
    "# train['공휴일전후'][1037] = 1\n",
    "train['공휴일전후'][1038] = 1\n",
    "train['공휴일전후'][1099] = 1\n",
    "train['공휴일전후'][1129] = 1\n",
    "# train['공휴일전후'][1128] = 1\n",
    "train['공휴일전후'][1187] = 1\n",
    "# train['공휴일전후'][1186] = 1\n",
    "\n",
    "test['공휴일전후'][10] = 2\n",
    "test['공휴일전후'][20] = 1"
   ]
  },
  {
   "cell_type": "code",
   "execution_count": 25,
   "metadata": {},
   "outputs": [],
   "source": [
    "train = pd.get_dummies(train, columns=['공휴일전후'])\n",
    "test = pd.get_dummies(test, columns=['공휴일전후'])"
   ]
  },
  {
   "cell_type": "code",
   "execution_count": 26,
   "metadata": {},
   "outputs": [],
   "source": [
    "test['공휴일전후_0'][20] = 1\n",
    "test['공휴일전후_1'][20] = 0"
   ]
  },
  {
   "cell_type": "markdown",
   "metadata": {},
   "source": [
    "***"
   ]
  },
  {
   "cell_type": "code",
   "execution_count": 27,
   "metadata": {},
   "outputs": [],
   "source": [
    "train['corona'] = [1 if x > 0 else 0 for x in train['현본사소속재택근무자수']]\n",
    "test['corona'] = [1 if x > 0 else 0 for x in test['현본사소속재택근무자수']]"
   ]
  },
  {
   "cell_type": "code",
   "execution_count": 28,
   "metadata": {},
   "outputs": [],
   "source": [
    "from korean_lunar_calendar import KoreanLunarCalendar"
   ]
  },
  {
   "cell_type": "code",
   "execution_count": 29,
   "metadata": {},
   "outputs": [],
   "source": [
    "calender = KoreanLunarCalendar()"
   ]
  },
  {
   "cell_type": "code",
   "execution_count": 30,
   "metadata": {},
   "outputs": [],
   "source": [
    "def get_lunar_date(data) :\n",
    "    lunar_date_list = []\n",
    "    for i in range(data.shape[0]) :\n",
    "        calender.setSolarDate(data.year[i], data.month[i], data.day[i])\n",
    "        lunar_date = calender.LunarIsoFormat()\n",
    "        lunar_date_list.append(lunar_date)\n",
    "    return lunar_date_list"
   ]
  },
  {
   "cell_type": "code",
   "execution_count": 31,
   "metadata": {},
   "outputs": [],
   "source": [
    "train['lunar_date'] = get_lunar_date(train)\n",
    "test['lunar_date'] = get_lunar_date(test)"
   ]
  },
  {
   "cell_type": "code",
   "execution_count": 32,
   "metadata": {},
   "outputs": [],
   "source": [
    "def get_lunar_date2(data) :\n",
    "    l_d = []\n",
    "    for i in range(data.shape[0]) :\n",
    "        try :\n",
    "            row = data.iloc[i,:]\n",
    "            lunar_d = pd.to_datetime(row.lunar_date)\n",
    "            l_d.append(lunar_d)\n",
    "        except :\n",
    "            l_d.append(pd.to_datetime('2017-02-28'))\n",
    "    return l_d"
   ]
  },
  {
   "cell_type": "code",
   "execution_count": 33,
   "metadata": {},
   "outputs": [],
   "source": [
    "train['lunar_date'] = get_lunar_date2(train)\n",
    "test['lunar_date'] = get_lunar_date2(test)"
   ]
  },
  {
   "cell_type": "markdown",
   "metadata": {},
   "source": [
    "***"
   ]
  },
  {
   "cell_type": "code",
   "execution_count": 34,
   "metadata": {},
   "outputs": [],
   "source": [
    "train['shift_1day'] = train.일자.shift(-1)\n",
    "test['shift_1day'] = test.일자.shift(-1)"
   ]
  },
  {
   "cell_type": "markdown",
   "metadata": {},
   "source": [
    "하루 뒤 날짜 붙임"
   ]
  },
  {
   "cell_type": "code",
   "execution_count": 35,
   "metadata": {},
   "outputs": [],
   "source": [
    "train.at[1204, 'shift_1day'] = datetime(2021,1,27)\n",
    "test.at[49, 'shift_1day'] = datetime(2021,4,10)"
   ]
  },
  {
   "cell_type": "markdown",
   "metadata": {},
   "source": [
    "결측치 처리되는 부분 노가다로 채움"
   ]
  },
  {
   "cell_type": "code",
   "execution_count": 36,
   "metadata": {
    "scrolled": false
   },
   "outputs": [],
   "source": [
    "train['day_gap'] = (train.shift_1day - train.일자).astype(str)\n",
    "test['day_gap'] = (test.shift_1day - test.일자).astype(str)"
   ]
  },
  {
   "cell_type": "markdown",
   "metadata": {},
   "source": [
    "1일 뒤 날짜랑 날짜 간격 생성"
   ]
  },
  {
   "cell_type": "code",
   "execution_count": 37,
   "metadata": {},
   "outputs": [],
   "source": [
    "train.at[0, 'day_gap'] = '-1 days'\n",
    "test.at[0, 'day_gap'] = '-1 days'"
   ]
  },
  {
   "cell_type": "markdown",
   "metadata": {},
   "source": [
    "각 데이터별 맨 앞행은 1일로 채움"
   ]
  },
  {
   "cell_type": "code",
   "execution_count": 38,
   "metadata": {},
   "outputs": [],
   "source": [
    "train['야근요일'] = train.요일.apply(lambda x : 1 if (x == 1) or (x == 3) else 0)\n",
    "test['야근요일'] = test.요일.apply(lambda x : 1 if (x == 1) or (x == 3) else 0)"
   ]
  },
  {
   "cell_type": "markdown",
   "metadata": {},
   "source": [
    "수, 금요일만 1로 생성"
   ]
  },
  {
   "cell_type": "code",
   "execution_count": 39,
   "metadata": {},
   "outputs": [],
   "source": [
    "import re"
   ]
  },
  {
   "cell_type": "code",
   "execution_count": 40,
   "metadata": {},
   "outputs": [],
   "source": [
    "def get_holiday_score(x) :\n",
    "    \n",
    "    s = int(re.sub(r'[^0-9]', '', x))\n",
    "    if s == 1 :\n",
    "        return 0\n",
    "    else :\n",
    "        return 1"
   ]
  },
  {
   "cell_type": "markdown",
   "metadata": {},
   "source": [
    "뒤의 날짜랑 1일 차이면 평일로 인식하고 그 외에는 연휴 혹은 주말로 간주"
   ]
  },
  {
   "cell_type": "code",
   "execution_count": 41,
   "metadata": {},
   "outputs": [],
   "source": [
    "train['day_gap'] = train.day_gap.apply(get_holiday_score)\n",
    "test['day_gap'] = test.day_gap.apply(get_holiday_score)"
   ]
  },
  {
   "cell_type": "code",
   "execution_count": 42,
   "metadata": {},
   "outputs": [],
   "source": [
    "test.at[49, 'day_gap'] = 1"
   ]
  },
  {
   "cell_type": "markdown",
   "metadata": {},
   "source": [
    "4월 10일이 토요일이라 4월10, 11일 2일이므로 주말 혹은 연휴에 해당 -> 1"
   ]
  },
  {
   "cell_type": "code",
   "execution_count": 43,
   "metadata": {},
   "outputs": [],
   "source": [
    "train['출근'] = train['본사정원수'] - (train['본사휴가자수'] + train['본사출장자수'] + train['현본사소속재택근무자수'])\n",
    "train['휴가비율'] = train['본사휴가자수'] / train['본사정원수']\n",
    "train['출장비율'] = train['본사출장자수'] / train['본사정원수']\n",
    "train['야근비율'] = train['본사시간외근무명령서승인건수'] / train['출근']\n",
    "train['재택비율'] = train['현본사소속재택근무자수'] / train['본사정원수']\n",
    "train['회사출근비율'] = train['출근'] / train['본사정원수']"
   ]
  },
  {
   "cell_type": "code",
   "execution_count": 44,
   "metadata": {},
   "outputs": [],
   "source": [
    "test['출근'] = test['본사정원수'] - (test['본사휴가자수'] + test['본사출장자수'] + test['현본사소속재택근무자수'])\n",
    "test['휴가비율'] = test['본사휴가자수'] / test['본사정원수']\n",
    "test['출장비율'] = test['본사출장자수'] / test['본사정원수']\n",
    "test['야근비율'] = test['본사시간외근무명령서승인건수'] / test['출근']\n",
    "test['재택비율'] = test['현본사소속재택근무자수'] / test['본사정원수']\n",
    "test['회사출근비율'] = test['출근'] / test['본사정원수']"
   ]
  },
  {
   "cell_type": "code",
   "execution_count": 45,
   "metadata": {},
   "outputs": [],
   "source": [
    "train['출근_cumsum'] = train['출근'].cumsum()\n",
    "train['출근_평균'] = train['출근_cumsum'] / (train.index+1)\n",
    "\n",
    "test['출근_cumsum'] = test['출근'].cumsum()\n",
    "test['출근_평균'] = test['출근_cumsum'] / (test.index+1)"
   ]
  },
  {
   "cell_type": "code",
   "execution_count": 46,
   "metadata": {},
   "outputs": [],
   "source": [
    "train['월급날'] = 0\n",
    "test['월급날'] = 0"
   ]
  },
  {
   "cell_type": "code",
   "execution_count": 47,
   "metadata": {},
   "outputs": [],
   "source": [
    "train['월급날'][train.day==21] = 1\n",
    "test['월급날'][test.day==21] = 1"
   ]
  },
  {
   "cell_type": "code",
   "execution_count": 48,
   "metadata": {},
   "outputs": [],
   "source": [
    "train['계절_month_group'] = train['season'].astype(str) + '_' + train['month_group'].astype(str)\n",
    "test['계절_month_group'] = test['season'].astype(str) + '_' + test['month_group'].astype(str)"
   ]
  },
  {
   "cell_type": "code",
   "execution_count": 49,
   "metadata": {},
   "outputs": [],
   "source": [
    "train = pd.concat([train, pd.get_dummies(train['계절_month_group'])], axis=1)\n",
    "test = pd.concat([test, pd.get_dummies(test['계절_month_group'])], axis=1)"
   ]
  },
  {
   "cell_type": "markdown",
   "metadata": {},
   "source": [
    "### 코로나 확진자 수(진주)"
   ]
  },
  {
   "cell_type": "code",
   "execution_count": 50,
   "metadata": {},
   "outputs": [],
   "source": [
    "train['확진자수'] = 0\n",
    "train['확진자수'][train.일자=='2020-02-21']=2\n",
    "train['확진자수'][train.일자=='2020-03-27']=1\n",
    "train['확진자수'][train.일자=='2020-03-31']=5\n",
    "train['확진자수'][train.일자=='2020-04-03']=1\n",
    "train['확진자수'][train.일자=='2020-04-08']=1\n",
    "train['확진자수'][train.일자=='2020-05-21']=1\n",
    "train['확진자수'][train.일자=='2020-05-22']=1\n",
    "train['확진자수'][train.일자=='2020-08-03']=1\n",
    "train['확진자수'][train.일자=='2020-08-21']=1\n",
    "train['확진자수'][train.일자=='2020-09-04']=1\n",
    "train['확진자수'][train.일자=='2020-09-07']=1\n",
    "train['확진자수'][train.일자=='2020-10-19']=1\n",
    "train['확진자수'][train.일자=='2020-11-10']=1\n",
    "train['확진자수'][train.일자=='2020-11-17']=1\n",
    "train['확진자수'][train.일자=='2020-11-18']=2\n",
    "train['확진자수'][train.일자=='2020-11-19']=1\n",
    "train['확진자수'][train.일자=='2020-11-20']=2\n",
    "train['확진자수'][train.일자=='2020-11-24']=2\n",
    "train['확진자수'][train.일자=='2020-11-25']=33\n",
    "train['확진자수'][train.일자=='2020-11-26']=27\n",
    "train['확진자수'][train.일자=='2020-11-27']=3\n",
    "train['확진자수'][train.일자=='2020-11-30']=3\n",
    "train['확진자수'][train.일자=='2020-12-01']=1\n",
    "train['확진자수'][train.일자=='2020-12-02']=1\n",
    "train['확진자수'][train.일자=='2020-12-04']=1\n",
    "train['확진자수'][train.일자=='2020-12-07']=6\n",
    "train['확진자수'][train.일자=='2020-12-08']=11\n",
    "train['확진자수'][train.일자=='2020-12-09']=4\n",
    "train['확진자수'][train.일자=='2020-12-10']=2\n",
    "train['확진자수'][train.일자=='2020-12-11']=10\n",
    "train['확진자수'][train.일자=='2020-12-14']=7\n",
    "train['확진자수'][train.일자=='2020-12-16']=1\n",
    "train['확진자수'][train.일자=='2020-12-17']=3\n",
    "train['확진자수'][train.일자=='2020-12-18']=9\n",
    "train['확진자수'][train.일자=='2020-12-21']=4\n",
    "train['확진자수'][train.일자=='2020-12-22']=2\n",
    "train['확진자수'][train.일자=='2020-12-23']=4\n",
    "train['확진자수'][train.일자=='2020-12-24']=10\n",
    "train['확진자수'][train.일자=='2020-12-28']=6\n",
    "train['확진자수'][train.일자=='2020-12-29']=15\n",
    "train['확진자수'][train.일자=='2020-12-30']=12\n",
    "train['확진자수'][train.일자=='2020-12-31']=25\n",
    "train['확진자수'][train.일자=='2021-01-04']=19\n",
    "train['확진자수'][train.일자=='2021-01-05']=11\n",
    "train['확진자수'][train.일자=='2021-01-06']=8\n",
    "train['확진자수'][train.일자=='2021-01-07']=11\n",
    "train['확진자수'][train.일자=='2021-01-08']=10\n",
    "train['확진자수'][train.일자=='2021-01-11']=30\n",
    "train['확진자수'][train.일자=='2021-01-12']=20\n",
    "train['확진자수'][train.일자=='2021-01-13']=1\n",
    "train['확진자수'][train.일자=='2021-01-14']=5\n",
    "train['확진자수'][train.일자=='2021-01-15']=6\n",
    "train['확진자수'][train.일자=='2021-01-18']=4\n",
    "train['확진자수'][train.일자=='2021-01-20']=1\n",
    "train['확진자수'][train.일자=='2021-01-21']=1\n",
    "train['확진자수'][train.일자=='2021-01-22']=14\n",
    "train['확진자수'][train.일자=='2021-01-25']=4\n",
    "train['확진자수'][train.일자=='2021-01-26']=7"
   ]
  },
  {
   "cell_type": "code",
   "execution_count": 51,
   "metadata": {},
   "outputs": [],
   "source": [
    "test['확진자수'] = 0\n",
    "test['확진자수'][test.일자=='2021-01-27']=5\n",
    "test['확진자수'][test.일자=='2021-01-29']=5\n",
    "test['확진자수'][test.일자=='2021-02-01']=1\n",
    "test['확진자수'][test.일자=='2021-02-05']=1\n",
    "test['확진자수'][test.일자=='2021-02-09']=3\n",
    "test['확진자수'][test.일자=='2021-02-12']=1\n",
    "test['확진자수'][test.일자=='2021-02-16']=1\n",
    "test['확진자수'][test.일자=='2021-02-17']=2\n",
    "test['확진자수'][test.일자=='2021-02-19']=3\n",
    "test['확진자수'][test.일자=='2021-02-22']=1\n",
    "test['확진자수'][test.일자=='2021-03-02']=1\n",
    "test['확진자수'][test.일자=='2021-03-03']=1\n",
    "test['확진자수'][test.일자=='2021-03-09']=2\n",
    "test['확진자수'][test.일자=='2021-03-10']=6\n",
    "test['확진자수'][test.일자=='2021-03-11']=50\n",
    "test['확진자수'][test.일자=='2021-03-12']=95\n",
    "test['확진자수'][test.일자=='2021-03-15']=57\n",
    "test['확진자수'][test.일자=='2021-03-16']=18\n",
    "test['확진자수'][test.일자=='2021-03-17']=16\n",
    "test['확진자수'][test.일자=='2021-03-18']=23\n",
    "test['확진자수'][test.일자=='2021-03-19']=27\n",
    "test['확진자수'][test.일자=='2021-03-22']=37\n",
    "test['확진자수'][test.일자=='2021-03-23']=22\n",
    "test['확진자수'][test.일자=='2021-03-24']=19\n",
    "test['확진자수'][test.일자=='2021-03-25']=19\n",
    "test['확진자수'][test.일자=='2021-03-26']=14\n",
    "test['확진자수'][test.일자=='2021-03-29']=11\n",
    "test['확진자수'][test.일자=='2021-03-30']=7\n",
    "test['확진자수'][test.일자=='2021-03-31']=8\n",
    "test['확진자수'][test.일자=='2021-04-01']=4\n",
    "test['확진자수'][test.일자=='2021-04-02']=15\n",
    "test['확진자수'][test.일자=='2021-04-05']=4\n",
    "test['확진자수'][test.일자=='2021-04-06']=3\n",
    "test['확진자수'][test.일자=='2021-04-08']=2\n",
    "test['확진자수'][test.일자=='2021-04-09']=10"
   ]
  },
  {
   "cell_type": "markdown",
   "metadata": {},
   "source": [
    "***"
   ]
  },
  {
   "cell_type": "markdown",
   "metadata": {},
   "source": [
    "### 메뉴 군집화 후 원-핫 인코딩"
   ]
  },
  {
   "cell_type": "code",
   "execution_count": 52,
   "metadata": {},
   "outputs": [],
   "source": [
    "train['조식메뉴토큰'] = train['조식메뉴'].str.split(' ')\n",
    "train['중식메뉴토큰'] = train['중식메뉴'].str.split(' ')\n",
    "train['석식메뉴토큰'] = train['석식메뉴'].str.split(' ')\n",
    "\n",
    "test['조식메뉴토큰'] = test['조식메뉴'].str.split(' ')\n",
    "test['중식메뉴토큰'] = test['중식메뉴'].str.split(' ')\n",
    "test['석식메뉴토큰'] = test['석식메뉴'].str.split(' ')"
   ]
  },
  {
   "cell_type": "code",
   "execution_count": 53,
   "metadata": {},
   "outputs": [],
   "source": [
    "def get_menu_comp_cnt(data) :\n",
    "    menu_cnt = []\n",
    "    for token in data :\n",
    "        comp_cnt = 0\n",
    "        for text in token :\n",
    "            if (len(text) > 1) & (text.startswith(\"(\") != 1) :\n",
    "                comp_cnt += 1\n",
    "            else :\n",
    "                pass\n",
    "        menu_cnt.append(comp_cnt)\n",
    "    return menu_cnt"
   ]
  },
  {
   "cell_type": "code",
   "execution_count": 54,
   "metadata": {},
   "outputs": [],
   "source": [
    "train['조식메뉴수'] = get_menu_comp_cnt(train['조식메뉴토큰'])\n",
    "train['중식메뉴수'] = get_menu_comp_cnt(train['중식메뉴토큰'])\n",
    "train['석식메뉴수'] = get_menu_comp_cnt(train['석식메뉴토큰'])\n",
    "\n",
    "test['조식메뉴수'] = get_menu_comp_cnt(test['조식메뉴토큰'])\n",
    "test['중식메뉴수'] = get_menu_comp_cnt(test['중식메뉴토큰'])\n",
    "test['석식메뉴수'] = get_menu_comp_cnt(test['석식메뉴토큰'])"
   ]
  },
  {
   "cell_type": "code",
   "execution_count": null,
   "metadata": {},
   "outputs": [],
   "source": []
  },
  {
   "cell_type": "code",
   "execution_count": null,
   "metadata": {},
   "outputs": [],
   "source": []
  },
  {
   "cell_type": "code",
   "execution_count": null,
   "metadata": {},
   "outputs": [],
   "source": []
  },
  {
   "cell_type": "code",
   "execution_count": null,
   "metadata": {},
   "outputs": [],
   "source": []
  },
  {
   "cell_type": "code",
   "execution_count": null,
   "metadata": {},
   "outputs": [],
   "source": []
  },
  {
   "cell_type": "code",
   "execution_count": null,
   "metadata": {},
   "outputs": [],
   "source": []
  },
  {
   "cell_type": "code",
   "execution_count": null,
   "metadata": {},
   "outputs": [],
   "source": []
  },
  {
   "cell_type": "code",
   "execution_count": null,
   "metadata": {},
   "outputs": [],
   "source": []
  },
  {
   "cell_type": "markdown",
   "metadata": {},
   "source": [
    "### mean_encoding"
   ]
  },
  {
   "cell_type": "code",
   "execution_count": 55,
   "metadata": {},
   "outputs": [],
   "source": [
    "a = train.groupby(['season', '요일'])['중식계'].agg([('mean_lunch', 'mean')])\n",
    "train = train.merge(a, on=['season', '요일'], how='left')\n",
    "test = test.merge(a, on=['season', '요일'], how='left')"
   ]
  },
  {
   "cell_type": "code",
   "execution_count": 56,
   "metadata": {},
   "outputs": [],
   "source": [
    "a = train.groupby(['season', 'month', '요일'])['석식계'].agg([('mean_dinner', 'mean')])\n",
    "train = train.merge(a, on=['season', 'month', '요일'], how='left')\n",
    "test = test.merge(a, on=['season', 'month', '요일'], how='left')"
   ]
  },
  {
   "cell_type": "markdown",
   "metadata": {},
   "source": [
    "### 모델링 데이터 생성"
   ]
  },
  {
   "cell_type": "code",
   "execution_count": 57,
   "metadata": {},
   "outputs": [
    {
     "data": {
      "text/plain": [
       "((1205, 73), (50, 63))"
      ]
     },
     "execution_count": 57,
     "metadata": {},
     "output_type": "execute_result"
    }
   ],
   "source": [
    "train.shape, test.shape"
   ]
  },
  {
   "cell_type": "code",
   "execution_count": 58,
   "metadata": {},
   "outputs": [
    {
     "data": {
      "text/plain": [
       "Index(['일자', '요일', '본사정원수', '본사휴가자수', '본사출장자수', '본사시간외근무명령서승인건수',\n",
       "       '현본사소속재택근무자수', '조식메뉴', '중식메뉴', '석식메뉴', '중식계', '석식계', '기온', '풍속', '체감온도',\n",
       "       '지점', '평균기온', '최저기온', '최고기온', '강수량', 'year', 'month', 'week', 'day',\n",
       "       'weekly_num', 'month_group', 'Cho', 'Jung', 'Mal', 'season', 'fall',\n",
       "       'spring', 'summer', 'winter', '공휴일전후_0', '공휴일전후_1', '공휴일전후_2', 'corona',\n",
       "       'lunar_date', 'shift_1day', 'day_gap', '야근요일', '출근', '휴가비율', '출장비율',\n",
       "       '야근비율', '재택비율', '회사출근비율', '출근_cumsum', '출근_평균', '월급날', '계절_month_group',\n",
       "       'fall_Cho', 'fall_Jung', 'fall_Mal', 'spring_Cho', 'spring_Jung',\n",
       "       'spring_Mal', 'summer_Cho', 'summer_Jung', 'summer_Mal', 'winter_Cho',\n",
       "       'winter_Jung', 'winter_Mal', '확진자수', '조식메뉴토큰', '중식메뉴토큰', '석식메뉴토큰',\n",
       "       '조식메뉴수', '중식메뉴수', '석식메뉴수', 'mean_lunch', 'mean_dinner'],\n",
       "      dtype='object')"
      ]
     },
     "execution_count": 58,
     "metadata": {},
     "output_type": "execute_result"
    }
   ],
   "source": [
    "train.columns"
   ]
  },
  {
   "cell_type": "code",
   "execution_count": 59,
   "metadata": {},
   "outputs": [
    {
     "data": {
      "text/plain": [
       "Index(['일자', '요일', '본사정원수', '본사휴가자수', '본사출장자수', '본사시간외근무명령서승인건수',\n",
       "       '현본사소속재택근무자수', '조식메뉴', '중식메뉴', '석식메뉴', '지점', '평균기온', '최저기온', '최고기온',\n",
       "       '강수량', '기온', '풍속', '체감온도', 'year', 'month', 'week', 'day', 'weekly_num',\n",
       "       'month_group', 'Cho', 'Jung', 'Mal', 'season', 'spring', 'winter',\n",
       "       '공휴일전후_0', '공휴일전후_1', '공휴일전후_2', 'corona', 'lunar_date', 'shift_1day',\n",
       "       'day_gap', '야근요일', '출근', '휴가비율', '출장비율', '야근비율', '재택비율', '회사출근비율',\n",
       "       '출근_cumsum', '출근_평균', '월급날', '계절_month_group', 'spring_Cho',\n",
       "       'spring_Jung', 'spring_Mal', 'winter_Cho', 'winter_Jung', 'winter_Mal',\n",
       "       '확진자수', '조식메뉴토큰', '중식메뉴토큰', '석식메뉴토큰', '조식메뉴수', '중식메뉴수', '석식메뉴수',\n",
       "       'mean_lunch', 'mean_dinner'],\n",
       "      dtype='object')"
      ]
     },
     "execution_count": 59,
     "metadata": {},
     "output_type": "execute_result"
    }
   ],
   "source": [
    "test.columns"
   ]
  },
  {
   "cell_type": "code",
   "execution_count": 60,
   "metadata": {},
   "outputs": [],
   "source": [
    "X1 = train[['본사휴가자수', '본사출장자수', '본사시간외근무명령서승인건수', '현본사소속재택근무자수',\\\n",
    "            '출근_cumsum', '출근_평균', \\\n",
    "            '공휴일전후_0', '중식메뉴수', \\\n",
    "            'month', 'day', 'day_gap', '요일', 'week', 'Cho', 'Jung', 'Mal',\\\n",
    "            '출근', '재택비율',\\\n",
    "            'spring_Cho', 'spring_Jung', 'spring_Mal', 'winter_Cho', 'winter_Jung', 'winter_Mal',\n",
    "           ]]\n",
    "target1 = test[X1.columns]\n",
    "\n",
    "y1 = train_target.중식계"
   ]
  },
  {
   "cell_type": "code",
   "execution_count": 61,
   "metadata": {},
   "outputs": [
    {
     "data": {
      "text/plain": [
       "((1205, 24), (50, 24), (1205,))"
      ]
     },
     "execution_count": 61,
     "metadata": {},
     "output_type": "execute_result"
    }
   ],
   "source": [
    "X1.shape, target1.shape, y1.shape"
   ]
  },
  {
   "cell_type": "code",
   "execution_count": 62,
   "metadata": {},
   "outputs": [],
   "source": [
    "X2 = train[['본사휴가자수', '본사출장자수', '본사시간외근무명령서승인건수', '현본사소속재택근무자수',\\\n",
    "            '출근_cumsum', '출근_평균', \\\n",
    "            '공휴일전후_0', '석식메뉴수', \\\n",
    "            'month', 'day', 'day_gap', '요일', 'week', 'Cho', 'Jung', 'Mal',\\\n",
    "            '출근', '재택비율',\\\n",
    "            'spring_Cho', 'spring_Jung', 'spring_Mal', 'winter_Cho', 'winter_Jung', 'winter_Mal',\n",
    "           ]]\n",
    "target2 = test[X2.columns]\n",
    "\n",
    "y2 = train_target.석식계\n",
    "X2 = X2.fillna(0)"
   ]
  },
  {
   "cell_type": "code",
   "execution_count": 63,
   "metadata": {},
   "outputs": [
    {
     "data": {
      "text/plain": [
       "((1205, 24), (50, 24), (1205,))"
      ]
     },
     "execution_count": 63,
     "metadata": {},
     "output_type": "execute_result"
    }
   ],
   "source": [
    "X2.shape, target2.shape, y2.shape"
   ]
  },
  {
   "cell_type": "code",
   "execution_count": 64,
   "metadata": {},
   "outputs": [],
   "source": [
    "ftr = X1.values\n",
    "target = y1"
   ]
  },
  {
   "cell_type": "code",
   "execution_count": 65,
   "metadata": {},
   "outputs": [
    {
     "data": {
      "text/plain": [
       "((843, 24), (362, 24))"
      ]
     },
     "execution_count": 65,
     "metadata": {},
     "output_type": "execute_result"
    }
   ],
   "source": [
    "from sklearn.model_selection import train_test_split\n",
    "\n",
    "train_x, valid_x, train_y, valid_y = train_test_split(ftr, target, test_size=0.3, random_state=0)\n",
    "train_x.shape, valid_x.shape"
   ]
  },
  {
   "cell_type": "code",
   "execution_count": 66,
   "metadata": {},
   "outputs": [
    {
     "name": "stdout",
     "output_type": "stream",
     "text": [
      "Training until validation scores don't improve for 50 rounds\n",
      "[100]\ttraining's rmse: 81.389\ttraining's l2: 6624.17\tvalid_1's rmse: 94.267\tvalid_1's l2: 8886.26\n",
      "[200]\ttraining's rmse: 58.2333\ttraining's l2: 3391.11\tvalid_1's rmse: 84.5238\tvalid_1's l2: 7144.27\n",
      "[300]\ttraining's rmse: 48.338\ttraining's l2: 2336.56\tvalid_1's rmse: 82.2322\tvalid_1's l2: 6762.13\n",
      "[400]\ttraining's rmse: 41.4864\ttraining's l2: 1721.12\tvalid_1's rmse: 81.8529\tvalid_1's l2: 6699.9\n",
      "Early stopping, best iteration is:\n",
      "[385]\ttraining's rmse: 42.365\ttraining's l2: 1794.8\tvalid_1's rmse: 81.806\tvalid_1's l2: 6692.22\n"
     ]
    },
    {
     "data": {
      "text/plain": [
       "LGBMRegressor(learning_rate=0.02, max_depth=12, n_estimators=1000,\n",
       "              num_leaves=32, silent=-1, subsample=0.8, verbose=-1)"
      ]
     },
     "execution_count": 66,
     "metadata": {},
     "output_type": "execute_result"
    }
   ],
   "source": [
    "from lightgbm import LGBMRegressor\n",
    "\n",
    "clf = LGBMRegressor(\n",
    "        n_jobs=-1,\n",
    "        n_estimators=1000,\n",
    "        learning_rate=0.02,\n",
    "        num_leaves=32,\n",
    "        subsample=0.8,\n",
    "        max_depth=12,\n",
    "        silent=-1,\n",
    "        verbose=-1\n",
    "        )\n",
    "\n",
    "clf.fit(train_x, train_y, eval_set=[(train_x, train_y), (valid_x, valid_y)], eval_metric = 'RMSE', \n",
    "        verbose=100, early_stopping_rounds= 50)"
   ]
  },
  {
   "cell_type": "code",
   "execution_count": 171,
   "metadata": {},
   "outputs": [
    {
     "data": {
      "text/plain": [
       "<AxesSubplot:title={'center':'Feature importance'}, xlabel='Feature importance', ylabel='Features'>"
      ]
     },
     "execution_count": 171,
     "metadata": {},
     "output_type": "execute_result"
    },
    {
     "data": {
      "image/png": "[encoded data removed]",
      "text/plain": [
       "<Figure size 1152x2304 with 1 Axes>"
      ]
     },
     "metadata": {
      "needs_background": "light"
     },
     "output_type": "display_data"
    }
   ],
   "source": [
    "from lightgbm import plot_importance\n",
    "\n",
    "plot_importance(clf, figsize=(16, 32), max_num_features=100)"
   ]
  },
  {
   "cell_type": "code",
   "execution_count": 172,
   "metadata": {},
   "outputs": [],
   "source": [
    "from sklearn.feature_selection import SelectFromModel\n",
    "smf = SelectFromModel(clf, threshold=100)\n",
    "smf.fit(ftr, target)\n",
    "X_new = smf.transform(ftr)\n",
    "X_te_new = smf.transform(target1.values)\n",
    "feature_idx = smf.get_support()\n",
    "#feature_name = ftr.columns[feature_idx]"
   ]
  },
  {
   "cell_type": "code",
   "execution_count": 173,
   "metadata": {},
   "outputs": [],
   "source": [
    "#ftr.columns[feature_idx]"
   ]
  },
  {
   "cell_type": "code",
   "execution_count": 174,
   "metadata": {},
   "outputs": [],
   "source": [
    "#X_new = pd.DataFrame(X_new)\n",
    "#X_te_new = pd.DataFrame(X_te_new)\n",
    "\n",
    "#X_new.columns = feature_name\n",
    "#X_te_new.columns = feature_name"
   ]
  },
  {
   "cell_type": "code",
   "execution_count": 67,
   "metadata": {},
   "outputs": [],
   "source": [
    "ftr = X1.values\n",
    "target = y1"
   ]
  },
  {
   "cell_type": "code",
   "execution_count": 68,
   "metadata": {},
   "outputs": [
    {
     "name": "stdout",
     "output_type": "stream",
     "text": [
      "교차 검증별 MAE: [-75.489  -68.6354 -70.4489 -77.1629 -94.2224]\n",
      "평균 검증 MAE: -77.1917\n"
     ]
    }
   ],
   "source": [
    "from sklearn.model_selection import cross_val_score\n",
    "\n",
    "scores = cross_val_score(clf, ftr, target, scoring='neg_mean_absolute_error', cv=5)\n",
    "print('교차 검증별 MAE:', np.round(scores, 4))\n",
    "print('평균 검증 MAE:', np.round(np.mean(scores), 4))"
   ]
  },
  {
   "cell_type": "code",
   "execution_count": 69,
   "metadata": {},
   "outputs": [],
   "source": [
    "ftr = X2.values\n",
    "target = y2"
   ]
  },
  {
   "cell_type": "code",
   "execution_count": 70,
   "metadata": {},
   "outputs": [
    {
     "name": "stdout",
     "output_type": "stream",
     "text": [
      "교차 검증별 MAE: [-53.8891 -47.4159 -51.1663 -45.9031 -67.3625]\n",
      "평균 검증 MAE: -53.1474\n"
     ]
    }
   ],
   "source": [
    "from sklearn.model_selection import cross_val_score\n",
    "\n",
    "scores = cross_val_score(clf, ftr, target, scoring='neg_mean_absolute_error', cv=5)\n",
    "print('교차 검증별 MAE:', np.round(scores, 4))\n",
    "print('평균 검증 MAE:', np.round(np.mean(scores), 4))"
   ]
  },
  {
   "cell_type": "markdown",
   "metadata": {},
   "source": [
    "***"
   ]
  },
  {
   "cell_type": "code",
   "execution_count": 73,
   "metadata": {},
   "outputs": [],
   "source": [
    "from lightgbm import LGBMRegressor\n",
    "from xgboost import XGBRegressor\n",
    "from sklearn.metrics import mean_absolute_error\n",
    "from sklearn.model_selection import TimeSeriesSplit, KFold\n",
    "from sklearn.ensemble import RandomForestRegressor, GradientBoostingRegressor, VotingRegressor\n",
    "from ngboost import NGBRegressor\n",
    "from catboost import CatBoostRegressor, Pool"
   ]
  },
  {
   "cell_type": "markdown",
   "metadata": {},
   "source": [
    "LGBM만 사용하면 PB : 71"
   ]
  },
  {
   "cell_type": "code",
   "execution_count": 100,
   "metadata": {},
   "outputs": [],
   "source": [
    "kf = KFold(n_splits = 5, random_state = 607, shuffle = True)"
   ]
  },
  {
   "cell_type": "code",
   "execution_count": 101,
   "metadata": {},
   "outputs": [],
   "source": [
    "cb = CatBoostRegressor(iterations = 20000, learning_rate = 0.01, eval_metric = 'MAE', silent = True, \n",
    "                       loss_function = 'MAE')"
   ]
  },
  {
   "cell_type": "code",
   "execution_count": 102,
   "metadata": {},
   "outputs": [
    {
     "name": "stdout",
     "output_type": "stream",
     "text": [
      "0:\tlearn: 167.3145841\ttest: 163.2276754\tbest: 163.2276754 (0)\ttotal: 1.76ms\tremaining: 35.3s\n",
      "Stopped by overfitting detector  (2000 iterations wait)\n",
      "\n",
      "bestTest = 63.30943958\n",
      "bestIteration = 2584\n",
      "\n",
      "Shrink model to first 2585 iterations.\n",
      "FOLD MAE = 63.31795422629684\n",
      "0:\tlearn: 166.8186712\ttest: 165.0921567\tbest: 165.0921567 (0)\ttotal: 1.46ms\tremaining: 29.2s\n",
      "5000:\tlearn: 27.1916382\ttest: 61.7714144\tbest: 61.6920338 (4104)\ttotal: 6.76s\tremaining: 20.3s\n",
      "Stopped by overfitting detector  (2000 iterations wait)\n",
      "\n",
      "bestTest = 61.69203385\n",
      "bestIteration = 4104\n",
      "\n",
      "Shrink model to first 4105 iterations.\n",
      "FOLD MAE = 61.694820668920656\n",
      "0:\tlearn: 163.8371774\ttest: 176.8563061\tbest: 176.8563061 (0)\ttotal: 1.78ms\tremaining: 35.6s\n",
      "5000:\tlearn: 26.3514279\ttest: 62.1108477\tbest: 62.1057346 (4994)\ttotal: 6.75s\tremaining: 20.3s\n",
      "10000:\tlearn: 20.1643672\ttest: 61.7466808\tbest: 61.7284764 (9805)\ttotal: 13.5s\tremaining: 13.5s\n",
      "Stopped by overfitting detector  (2000 iterations wait)\n",
      "\n",
      "bestTest = 61.64958744\n",
      "bestIteration = 11215\n",
      "\n",
      "Shrink model to first 11216 iterations.\n",
      "FOLD MAE = 61.65117876964962\n",
      "0:\tlearn: 170.6437231\ttest: 149.4012023\tbest: 149.4012023 (0)\ttotal: 1.79ms\tremaining: 35.8s\n",
      "5000:\tlearn: 24.9196332\ttest: 66.7074238\tbest: 66.6919455 (4343)\ttotal: 6.75s\tremaining: 20.2s\n",
      "Stopped by overfitting detector  (2000 iterations wait)\n",
      "\n",
      "bestTest = 66.69194548\n",
      "bestIteration = 4343\n",
      "\n",
      "Shrink model to first 4344 iterations.\n",
      "FOLD MAE = 66.6924773962026\n",
      "0:\tlearn: 163.6209015\ttest: 178.0562646\tbest: 178.0562646 (0)\ttotal: 1.64ms\tremaining: 32.7s\n",
      "5000:\tlearn: 26.0805969\ttest: 63.1959277\tbest: 62.9852911 (3092)\ttotal: 7.41s\tremaining: 22.2s\n",
      "Stopped by overfitting detector  (2000 iterations wait)\n",
      "\n",
      "bestTest = 62.9852911\n",
      "bestIteration = 3092\n",
      "\n",
      "Shrink model to first 3093 iterations.\n",
      "FOLD MAE = 62.98783831300973\n",
      "\n",
      "CatBoostRegressor MAE = 63.26885387481589\n"
     ]
    }
   ],
   "source": [
    "cb_pred_1 = np.zeros((target1.shape[0]))\n",
    "mae_list = []\n",
    "for tr_idx, val_idx in kf.split(X1):\n",
    "    tr_x, val_x = X1.iloc[tr_idx], X1.iloc[val_idx]\n",
    "    tr_y, val_y = y1.iloc[tr_idx], y1.iloc[val_idx]\n",
    "    train_data = Pool(data = tr_x, label = tr_y)\n",
    "    val_data = Pool(data = val_x, label = val_y)\n",
    "    cb.fit(train_data, eval_set = val_data, early_stopping_rounds = 2000, use_best_model = True, verbose = 5000)\n",
    "    best = cb.best_iteration_\n",
    "    pred = cb.predict(val_x, ntree_end = best)\n",
    "    mae = mean_absolute_error(val_y, pred)\n",
    "    mae_list.append(mae)\n",
    "    print(f'FOLD MAE = {mae}')\n",
    "    sub_pred = cb.predict(target1, ntree_end = best) / 5\n",
    "    cb_pred_1 += sub_pred\n",
    "print(f'\\n{cb.__class__.__name__} MAE = {np.mean(mae_list)}')"
   ]
  },
  {
   "cell_type": "code",
   "execution_count": 103,
   "metadata": {},
   "outputs": [
    {
     "data": {
      "text/plain": [
       "array([ 985.7243282 ,  932.48241668,  737.80813446, 1243.57943083,\n",
       "       1051.01977695, 1025.39242378,  982.71806401,  773.40237665,\n",
       "       1255.77143323, 1072.92542147,  833.23145878, 1230.56630993,\n",
       "       1057.4776845 , 1018.07305535,  920.85801119,  757.76041102,\n",
       "       1240.69789985, 1051.10607606,  962.70752077,  903.2225392 ,\n",
       "        698.59620109, 1101.23878128, 1013.54261521,  977.69132471,\n",
       "        757.51714265, 1270.19085476, 1091.01591407, 1013.94739598,\n",
       "        953.51785891,  757.8316104 , 1235.05229588, 1022.43537466,\n",
       "       1008.8390568 ,  922.91427583,  713.6560179 , 1191.31470728,\n",
       "       1001.35991384,  948.47344787,  864.6927996 ,  691.15618436,\n",
       "       1193.07707831, 1016.43974644,  969.79429647,  877.74371203,\n",
       "        693.56221634, 1208.78520433, 1036.72928098,  970.29779654,\n",
       "        899.06159904,  694.12650252])"
      ]
     },
     "execution_count": 103,
     "metadata": {},
     "output_type": "execute_result"
    }
   ],
   "source": [
    "cb_pred_1"
   ]
  },
  {
   "cell_type": "code",
   "execution_count": 104,
   "metadata": {},
   "outputs": [
    {
     "name": "stdout",
     "output_type": "stream",
     "text": [
      "0:\tlearn: 97.2719700\ttest: 100.0865135\tbest: 100.0865135 (0)\ttotal: 5.27ms\tremaining: 1m 45s\n",
      "5000:\tlearn: 16.2793116\ttest: 48.0397175\tbest: 48.0068779 (4545)\ttotal: 9.18s\tremaining: 27.5s\n",
      "Stopped by overfitting detector  (2000 iterations wait)\n",
      "\n",
      "bestTest = 47.95160383\n",
      "bestIteration = 7411\n",
      "\n",
      "Shrink model to first 7412 iterations.\n",
      "FOLD MAE = 47.95312653693426\n",
      "0:\tlearn: 98.5268455\ttest: 94.9362646\tbest: 94.9362646 (0)\ttotal: 2.39ms\tremaining: 47.8s\n",
      "5000:\tlearn: 16.2784980\ttest: 42.9027540\tbest: 42.8739162 (4726)\ttotal: 8.71s\tremaining: 26.1s\n",
      "Stopped by overfitting detector  (2000 iterations wait)\n",
      "\n",
      "bestTest = 42.80937881\n",
      "bestIteration = 5303\n",
      "\n",
      "Shrink model to first 5304 iterations.\n",
      "FOLD MAE = 42.810375519615505\n",
      "0:\tlearn: 98.0974575\ttest: 96.7693766\tbest: 96.7693766 (0)\ttotal: 2.29ms\tremaining: 45.8s\n",
      "5000:\tlearn: 15.7963944\ttest: 46.2292781\tbest: 46.1953976 (3935)\ttotal: 8.61s\tremaining: 25.8s\n",
      "Stopped by overfitting detector  (2000 iterations wait)\n",
      "\n",
      "bestTest = 46.13009007\n",
      "bestIteration = 5321\n",
      "\n",
      "Shrink model to first 5322 iterations.\n",
      "FOLD MAE = 46.13110849186312\n",
      "0:\tlearn: 96.2502272\ttest: 104.2901235\tbest: 104.2901235 (0)\ttotal: 1.97ms\tremaining: 39.5s\n",
      "5000:\tlearn: 16.1715596\ttest: 42.4185047\tbest: 42.4173622 (4996)\ttotal: 9.06s\tremaining: 27.2s\n",
      "Stopped by overfitting detector  (2000 iterations wait)\n",
      "\n",
      "bestTest = 42.30454495\n",
      "bestIteration = 7070\n",
      "\n",
      "Shrink model to first 7071 iterations.\n",
      "FOLD MAE = 42.307730009150255\n",
      "0:\tlearn: 98.8295426\ttest: 93.6576754\tbest: 93.6576754 (0)\ttotal: 1.76ms\tremaining: 35.2s\n",
      "5000:\tlearn: 16.0582591\ttest: 40.5944220\tbest: 40.5387467 (3692)\ttotal: 8.49s\tremaining: 25.5s\n",
      "Stopped by overfitting detector  (2000 iterations wait)\n",
      "\n",
      "bestTest = 40.50140836\n",
      "bestIteration = 6356\n",
      "\n",
      "Shrink model to first 6357 iterations.\n",
      "FOLD MAE = 40.50339515729672\n",
      "\n",
      "CatBoostRegressor MAE = 43.94114714297197\n"
     ]
    }
   ],
   "source": [
    "cb_pred_2 = np.zeros((target2.shape[0]))\n",
    "mae_list = []\n",
    "for tr_idx, val_idx in kf.split(X2):\n",
    "    tr_x, val_x = X2.iloc[tr_idx], X2.iloc[val_idx]\n",
    "    tr_y, val_y = y2.iloc[tr_idx], y2.iloc[val_idx]\n",
    "    train_data = Pool(data = tr_x, label = tr_y)\n",
    "    val_data = Pool(data = val_x, label = val_y)\n",
    "    cb.fit(train_data, eval_set = val_data, early_stopping_rounds = 2000, use_best_model = True, verbose = 5000)\n",
    "    best = cb.best_iteration_\n",
    "    pred = cb.predict(val_x, ntree_end = best)\n",
    "    mae = mean_absolute_error(val_y, pred)\n",
    "    mae_list.append(mae)\n",
    "    print(f'FOLD MAE = {mae}')\n",
    "    sub_pred = cb.predict(target2, ntree_end = best) / 5\n",
    "    cb_pred_2 += sub_pred\n",
    "print(f'\\n{cb.__class__.__name__} MAE = {np.mean(mae_list)}')"
   ]
  },
  {
   "cell_type": "code",
   "execution_count": 105,
   "metadata": {},
   "outputs": [
    {
     "data": {
      "text/plain": [
       "array([375.57243302, 467.99899768, 373.97605168, 592.01345434,\n",
       "       537.11447645, 490.83503627, 509.52034258, 463.99676945,\n",
       "       640.82265655, 582.69988682, 255.15782329, 668.79949388,\n",
       "       623.7654097 , 479.40669392, 542.79710598, 469.25233695,\n",
       "       691.9790154 , 651.18157942, 463.29246504, 542.73755806,\n",
       "       418.71233352, 653.70535085, 453.98549429, 579.34625969,\n",
       "       467.78920753, 682.59642429, 663.00064085, 472.71586428,\n",
       "       560.08109323, 425.18822851, 673.34686259, 587.34463702,\n",
       "       473.93466713, 514.52736267, 409.98064313, 659.39006323,\n",
       "       611.81159029, 455.85337046, 504.49207882, 397.38862154,\n",
       "       648.14126165, 616.89380531, 449.94069681, 484.71283365,\n",
       "       416.75676081, 631.75131826, 594.94786113, 464.40253701,\n",
       "       525.89386683, 416.68788758])"
      ]
     },
     "execution_count": 105,
     "metadata": {},
     "output_type": "execute_result"
    }
   ],
   "source": [
    "cb_pred_2"
   ]
  },
  {
   "cell_type": "code",
   "execution_count": 106,
   "metadata": {},
   "outputs": [],
   "source": [
    "ngb = NGBRegressor(n_estimators = 15000, verbose = 0, random_state = 607)"
   ]
  },
  {
   "cell_type": "code",
   "execution_count": 107,
   "metadata": {},
   "outputs": [
    {
     "name": "stdout",
     "output_type": "stream",
     "text": [
      "FOLD MAE = 64.83916587962203\n",
      "FOLD MAE = 41.902305683492756\n",
      "FOLD MAE = 33.126896721330745\n",
      "FOLD MAE = 29.01755357361949\n",
      "FOLD MAE = 29.627800362692685\n",
      "\n",
      "NGBRegressor MAE = 39.70274444415154\n"
     ]
    }
   ],
   "source": [
    "ngb_pred_1 = np.zeros((target1.shape[0]))\n",
    "mae_list = []\n",
    "for tr_idx, val_idx in kf.split(X1):\n",
    "    tr_x, val_x = X1.iloc[tr_idx], X1.iloc[val_idx]\n",
    "    tr_y, val_y = y1.iloc[tr_idx], y1.iloc[val_idx]\n",
    "    ngb.fit(tr_x, tr_y, val_x, val_y, early_stopping_rounds = 2000)\n",
    "    pred = ngb.predict(val_x)\n",
    "    mae = mean_absolute_error(val_y, pred)\n",
    "    mae_list.append(mae)\n",
    "    print(f'FOLD MAE = {mae}')\n",
    "    sub_pred = ngb.predict(target1) / 5\n",
    "    ngb_pred_1 += sub_pred\n",
    "print(f'\\n{ngb.__class__.__name__} MAE = {np.mean(mae_list)}')"
   ]
  },
  {
   "cell_type": "code",
   "execution_count": 108,
   "metadata": {},
   "outputs": [
    {
     "data": {
      "text/plain": [
       "array([ 957.2478253 ,  962.09064738,  809.12814112, 1300.44114852,\n",
       "       1048.38056547, 1056.66685515, 1028.70086615,  801.89531107,\n",
       "       1323.10804421, 1064.85942978,  826.94710265, 1320.71657435,\n",
       "       1095.13294516, 1098.28032459,  966.60741579,  799.83162876,\n",
       "       1243.66222911, 1049.17410358,  968.90756211,  954.04129575,\n",
       "        740.00320029, 1103.69292866, 1053.1743441 ,  993.2081366 ,\n",
       "        757.88350955, 1305.69111952, 1168.54611605, 1042.90174123,\n",
       "        929.57517926,  731.17425468, 1256.20498246,  974.04414497,\n",
       "       1055.21831286,  936.46017314,  757.27865613, 1224.89392902,\n",
       "        985.99872761,  959.59715957,  932.74457088,  714.03652259,\n",
       "       1235.89631591, 1014.26667089, 1002.59902624,  859.9058674 ,\n",
       "        693.71054082, 1227.87601572, 1035.50426777, 1009.76402192,\n",
       "        873.2312924 ,  679.31269032])"
      ]
     },
     "execution_count": 108,
     "metadata": {},
     "output_type": "execute_result"
    }
   ],
   "source": [
    "ngb_pred_1"
   ]
  },
  {
   "cell_type": "code",
   "execution_count": 109,
   "metadata": {},
   "outputs": [
    {
     "name": "stdout",
     "output_type": "stream",
     "text": [
      "FOLD MAE = 52.054293210638654\n",
      "FOLD MAE = 30.891517378972846\n",
      "FOLD MAE = 31.734919936451064\n",
      "FOLD MAE = 20.911466853591204\n",
      "FOLD MAE = 24.204977367789535\n",
      "\n",
      "NGBRegressor MAE = 31.959434949488656\n"
     ]
    }
   ],
   "source": [
    "ngb_pred_2 = np.zeros((target2.shape[0]))\n",
    "mae_list = []\n",
    "for tr_idx, val_idx in kf.split(X2):\n",
    "    tr_x, val_x = X2.iloc[tr_idx], X2.iloc[val_idx]\n",
    "    tr_y, val_y = y2.iloc[tr_idx], y2.iloc[val_idx]\n",
    "    ngb.fit(tr_x, tr_y, val_x, val_y, early_stopping_rounds = 2000)\n",
    "    pred = ngb.predict(val_x)\n",
    "    mae = mean_absolute_error(val_y, pred)\n",
    "    mae_list.append(mae)\n",
    "    print(f'FOLD MAE = {mae}')\n",
    "    sub_pred = ngb.predict(target2) / 5\n",
    "    ngb_pred_2 += sub_pred\n",
    "print(f'\\n{ngb.__class__.__name__} MAE = {np.mean(mae_list)}')"
   ]
  },
  {
   "cell_type": "code",
   "execution_count": 110,
   "metadata": {},
   "outputs": [
    {
     "data": {
      "text/plain": [
       "array([348.60302547, 408.68306891, 478.9061463 , 558.33352069,\n",
       "       475.3675033 , 547.08225598, 520.20938196, 598.26064409,\n",
       "       668.09283205, 526.3976538 , 299.30089394, 686.9318112 ,\n",
       "       636.462867  , 479.23771312, 594.06821431, 493.45150484,\n",
       "       683.70939776, 593.92750355, 464.11008999, 620.24288641,\n",
       "       488.53441495, 707.99410546, 531.01699943, 615.73193717,\n",
       "       567.35746319, 763.62016895, 706.49427902, 503.44543301,\n",
       "       565.52929822, 482.31530334, 717.29296907, 537.00922929,\n",
       "       515.31985344, 568.04273555, 473.96131981, 684.78578439,\n",
       "       582.90061668, 468.65970541, 625.84884759, 523.61185935,\n",
       "       678.61966372, 602.04896585, 503.17176745, 571.51076771,\n",
       "       474.94468198, 641.9240059 , 573.45650041, 537.89408528,\n",
       "       535.36192082, 429.23979306])"
      ]
     },
     "execution_count": 110,
     "metadata": {},
     "output_type": "execute_result"
    }
   ],
   "source": [
    "ngb_pred_2"
   ]
  },
  {
   "cell_type": "code",
   "execution_count": 111,
   "metadata": {},
   "outputs": [],
   "source": [
    "lgbm = LGBMRegressor(random_state = 607, max_depth = 8, n_estimators = 20000, learning_rate = .01)"
   ]
  },
  {
   "cell_type": "code",
   "execution_count": 112,
   "metadata": {},
   "outputs": [],
   "source": [
    "X1 = X1.values\n",
    "X2 = X2.values"
   ]
  },
  {
   "cell_type": "code",
   "execution_count": 113,
   "metadata": {},
   "outputs": [
    {
     "name": "stdout",
     "output_type": "stream",
     "text": [
      "Training until validation scores don't improve for 2000 rounds\n",
      "[2000]\ttraining's l1: 23.6684\ttraining's l2: 996.902\tvalid_1's l1: 70.0513\tvalid_1's l2: 8979.54\n",
      "Early stopping, best iteration is:\n",
      "[675]\ttraining's l1: 39.1762\ttraining's l2: 2693.33\tvalid_1's l1: 68.5181\tvalid_1's l2: 8710.06\n",
      "FOLD MAE = 68.51809044280695\n",
      "Training until validation scores don't improve for 2000 rounds\n",
      "[2000]\ttraining's l1: 24.458\ttraining's l2: 1053.9\tvalid_1's l1: 65.5298\tvalid_1's l2: 7201.69\n",
      "Early stopping, best iteration is:\n",
      "[1083]\ttraining's l1: 33.2074\ttraining's l2: 1969.65\tvalid_1's l1: 65.1417\tvalid_1's l2: 7238.1\n",
      "FOLD MAE = 65.14165932326182\n",
      "Training until validation scores don't improve for 2000 rounds\n",
      "[2000]\ttraining's l1: 21.7667\ttraining's l2: 846.847\tvalid_1's l1: 68.8125\tvalid_1's l2: 8447.5\n",
      "Early stopping, best iteration is:\n",
      "[544]\ttraining's l1: 40.552\ttraining's l2: 2885.12\tvalid_1's l1: 67.6077\tvalid_1's l2: 7987.21\n",
      "FOLD MAE = 67.60767733446757\n",
      "Training until validation scores don't improve for 2000 rounds\n",
      "[2000]\ttraining's l1: 21.9163\ttraining's l2: 870.016\tvalid_1's l1: 67.621\tvalid_1's l2: 8492.73\n",
      "Early stopping, best iteration is:\n",
      "[857]\ttraining's l1: 33.7169\ttraining's l2: 2062.48\tvalid_1's l1: 66.16\tvalid_1's l2: 8260.04\n",
      "FOLD MAE = 66.15998596616306\n",
      "Training until validation scores don't improve for 2000 rounds\n",
      "[2000]\ttraining's l1: 23.6491\ttraining's l2: 1029.84\tvalid_1's l1: 66.7556\tvalid_1's l2: 7771.95\n",
      "Early stopping, best iteration is:\n",
      "[1126]\ttraining's l1: 31.7497\ttraining's l2: 1839.01\tvalid_1's l1: 65.4917\tvalid_1's l2: 7558.65\n",
      "FOLD MAE = 65.49172414595455\n",
      "\n",
      "LGBMRegressor MAE = 66.58382744253079\n"
     ]
    }
   ],
   "source": [
    "lgbm_pred_1 = np.zeros((target1.shape[0]))\n",
    "mae_list = []\n",
    "for tr_idx, val_idx in kf.split(X1):\n",
    "    tr_x, val_x = X1[tr_idx], X1[val_idx]\n",
    "    tr_y, val_y = y1[tr_idx], y1[val_idx]\n",
    "    lgbm.fit(tr_x, tr_y, eval_set = [(tr_x, tr_y), (val_x, val_y)], eval_metric = 'mean_absolute_error', early_stopping_rounds = 2000, verbose = 2000)\n",
    "    pred = lgbm.predict(val_x)\n",
    "    mae = mean_absolute_error(val_y, pred)\n",
    "    mae_list.append(mae)\n",
    "    print(f'FOLD MAE = {mae}')\n",
    "    sub_pred = lgbm.predict(target1) / 5\n",
    "    lgbm_pred_1 += sub_pred\n",
    "print(f'\\n{lgbm.__class__.__name__} MAE = {np.mean(mae_list)}')"
   ]
  },
  {
   "cell_type": "code",
   "execution_count": 114,
   "metadata": {},
   "outputs": [
    {
     "data": {
      "text/plain": [
       "array([1015.70226919,  959.3174576 ,  696.17873209, 1323.58051846,\n",
       "       1084.73360449, 1055.97112212, 1010.18785383,  771.41380229,\n",
       "       1345.97423058, 1109.8855383 ,  804.33916484, 1317.32592527,\n",
       "       1119.88638291, 1092.68028839,  955.41470315,  757.8833575 ,\n",
       "       1287.68821269, 1112.65243551,  981.64690604,  931.67098696,\n",
       "        725.21243069, 1176.69573198, 1070.18946857, 1018.42139044,\n",
       "        772.38315169, 1296.27726839, 1104.28466037, 1063.20744178,\n",
       "        993.03501835,  802.55404259, 1296.77588236, 1067.71203102,\n",
       "       1067.49640957,  963.00120619,  744.22756655, 1242.44785973,\n",
       "       1034.49305266,  932.93126114,  899.966709  ,  713.65811048,\n",
       "       1241.21898148, 1062.46390808,  978.74663938,  874.55099027,\n",
       "        722.98725531, 1236.40144981, 1072.63615759, 1004.25853617,\n",
       "        944.05880948,  730.86551349])"
      ]
     },
     "execution_count": 114,
     "metadata": {},
     "output_type": "execute_result"
    }
   ],
   "source": [
    "lgbm_pred_1"
   ]
  },
  {
   "cell_type": "code",
   "execution_count": 115,
   "metadata": {
    "scrolled": false
   },
   "outputs": [
    {
     "name": "stdout",
     "output_type": "stream",
     "text": [
      "Training until validation scores don't improve for 2000 rounds\n",
      "[2000]\ttraining's l1: 14.4571\ttraining's l2: 365.615\tvalid_1's l1: 50.534\tvalid_1's l2: 5819.43\n",
      "Early stopping, best iteration is:\n",
      "[1253]\ttraining's l1: 19.3358\ttraining's l2: 664.314\tvalid_1's l1: 50.0432\tvalid_1's l2: 5735.14\n",
      "FOLD MAE = 50.043194264186596\n",
      "Training until validation scores don't improve for 2000 rounds\n",
      "[2000]\ttraining's l1: 15.8022\ttraining's l2: 506.741\tvalid_1's l1: 44.2932\tvalid_1's l2: 4128.73\n",
      "Early stopping, best iteration is:\n",
      "[350]\ttraining's l1: 32.2197\ttraining's l2: 2100.63\tvalid_1's l1: 43.5991\tvalid_1's l2: 3776.71\n",
      "FOLD MAE = 43.59912189514938\n",
      "Training until validation scores don't improve for 2000 rounds\n",
      "[2000]\ttraining's l1: 17.2405\ttraining's l2: 622.715\tvalid_1's l1: 48.3564\tvalid_1's l2: 3953.09\n",
      "Early stopping, best iteration is:\n",
      "[429]\ttraining's l1: 28.0638\ttraining's l2: 1715.63\tvalid_1's l1: 47.9184\tvalid_1's l2: 3815.48\n",
      "FOLD MAE = 47.91837344474284\n",
      "Training until validation scores don't improve for 2000 rounds\n",
      "[2000]\ttraining's l1: 16.281\ttraining's l2: 520.877\tvalid_1's l1: 44.4291\tvalid_1's l2: 4314.79\n",
      "Early stopping, best iteration is:\n",
      "[487]\ttraining's l1: 28.3214\ttraining's l2: 1560.89\tvalid_1's l1: 43.1389\tvalid_1's l2: 4141\n",
      "FOLD MAE = 43.13890696307245\n",
      "Training until validation scores don't improve for 2000 rounds\n",
      "[2000]\ttraining's l1: 15.7913\ttraining's l2: 507.45\tvalid_1's l1: 44.6269\tvalid_1's l2: 3277.96\n",
      "Early stopping, best iteration is:\n",
      "[580]\ttraining's l1: 26.5421\ttraining's l2: 1508.36\tvalid_1's l1: 43.0872\tvalid_1's l2: 3078.98\n",
      "FOLD MAE = 43.08724965076083\n",
      "\n",
      "LGBMRegressor MAE = 45.55736924358242\n"
     ]
    }
   ],
   "source": [
    "lgbm_pred_2 = np.zeros((target1.shape[0]))\n",
    "mae_list = []\n",
    "for tr_idx, val_idx in kf.split(X2):\n",
    "    tr_x, val_x = X2[tr_idx], X2[val_idx]\n",
    "    tr_y, val_y = y2[tr_idx], y2[val_idx]\n",
    "    \n",
    "    lgbm.fit(tr_x, tr_y, eval_set = [(tr_x, tr_y), (val_x, val_y)], eval_metric = 'mean_absolute_error', early_stopping_rounds = 2000, verbose = 2000)\n",
    "    pred = lgbm.predict(val_x)\n",
    "    mae = mean_absolute_error(val_y, pred)\n",
    "    print(f'FOLD MAE = {mae}')\n",
    "    mae_list.append(mae)\n",
    "    sub_pred = lgbm.predict(target2) / 5\n",
    "    lgbm_pred_2 += sub_pred\n",
    "print(f'\\n{lgbm.__class__.__name__} MAE = {np.mean(mae_list)}')"
   ]
  },
  {
   "cell_type": "code",
   "execution_count": 116,
   "metadata": {},
   "outputs": [
    {
     "data": {
      "text/plain": [
       "array([418.83988038, 542.10628593, 431.06049637, 648.38219578,\n",
       "       594.17043028, 506.81253793, 585.63036925, 505.19382045,\n",
       "       682.66430802, 628.16717785, 264.40014382, 717.50619151,\n",
       "       691.340373  , 494.05522353, 631.43071576, 530.09738735,\n",
       "       713.0389922 , 698.82116107, 492.13737658, 600.19776681,\n",
       "       427.80089792, 701.10450383, 455.92782512, 667.6497193 ,\n",
       "       516.98923253, 693.96286844, 688.62975711, 484.9635461 ,\n",
       "       629.62607504, 432.11800258, 712.48930463, 662.28750984,\n",
       "       504.20657064, 585.6951424 , 420.13724941, 692.82251085,\n",
       "       678.44098971, 487.12906884, 552.50786777, 409.37245328,\n",
       "       692.84159452, 683.7235484 , 484.29608943, 545.966222  ,\n",
       "       422.77036877, 674.64485507, 656.44111308, 506.81006039,\n",
       "       583.48117444, 417.59112   ])"
      ]
     },
     "execution_count": 116,
     "metadata": {},
     "output_type": "execute_result"
    }
   ],
   "source": [
    "lgbm_pred_2"
   ]
  },
  {
   "cell_type": "code",
   "execution_count": 154,
   "metadata": {},
   "outputs": [],
   "source": [
    "submission['중식계'] = (ngb_pred_1 + lgbm_pred_1 + cb_pred_1) / 3\n",
    "submission['석식계'] = (ngb_pred_2 + lgbm_pred_2 + cb_pred_2) / 3"
   ]
  },
  {
   "cell_type": "code",
   "execution_count": 155,
   "metadata": {},
   "outputs": [
    {
     "data": {
      "text/plain": [
       "(49930.2144345379, 27859.02339016184)"
      ]
     },
     "execution_count": 155,
     "metadata": {},
     "output_type": "execute_result"
    }
   ],
   "source": [
    "ngb_pred_1.sum(), ngb_pred_2.sum()"
   ]
  },
  {
   "cell_type": "code",
   "execution_count": 156,
   "metadata": {},
   "outputs": [
    {
     "data": {
      "text/plain": [
       "(50587.29242678267, 28448.480075310894)"
      ]
     },
     "execution_count": 156,
     "metadata": {},
     "output_type": "execute_result"
    }
   ],
   "source": [
    "lgbm_pred_1.sum(), lgbm_pred_2.sum()"
   ]
  },
  {
   "cell_type": "code",
   "execution_count": 157,
   "metadata": {},
   "outputs": [
    {
     "data": {
      "text/plain": [
       "(48831.12597899365, 26338.23920944027)"
      ]
     },
     "execution_count": 157,
     "metadata": {},
     "output_type": "execute_result"
    }
   ],
   "source": [
    "cb_pred_1.sum(), cb_pred_2.sum()"
   ]
  },
  {
   "cell_type": "code",
   "execution_count": 158,
   "metadata": {},
   "outputs": [],
   "source": [
    "import datetime\n",
    "subtime = datetime.datetime.now().strftime('%Y-%m-%d %H-%M-%S')"
   ]
  },
  {
   "cell_type": "code",
   "execution_count": 159,
   "metadata": {},
   "outputs": [
    {
     "data": {
      "text/html": [
       "<div>\n",
       "<style scoped>\n",
       "    .dataframe tbody tr th:only-of-type {\n",
       "        vertical-align: middle;\n",
       "    }\n",
       "\n",
       "    .dataframe tbody tr th {\n",
       "        vertical-align: top;\n",
       "    }\n",
       "\n",
       "    .dataframe thead th {\n",
       "        text-align: right;\n",
       "    }\n",
       "</style>\n",
       "<table border=\"1\" class=\"dataframe\">\n",
       "  <thead>\n",
       "    <tr style=\"text-align: right;\">\n",
       "      <th></th>\n",
       "      <th>일자</th>\n",
       "      <th>중식계</th>\n",
       "      <th>석식계</th>\n",
       "    </tr>\n",
       "  </thead>\n",
       "  <tbody>\n",
       "    <tr>\n",
       "      <th>0</th>\n",
       "      <td>2021-01-27</td>\n",
       "      <td>986.224808</td>\n",
       "      <td>381.005113</td>\n",
       "    </tr>\n",
       "    <tr>\n",
       "      <th>1</th>\n",
       "      <td>2021-01-28</td>\n",
       "      <td>951.296841</td>\n",
       "      <td>472.929451</td>\n",
       "    </tr>\n",
       "    <tr>\n",
       "      <th>2</th>\n",
       "      <td>2021-01-29</td>\n",
       "      <td>747.705003</td>\n",
       "      <td>427.980898</td>\n",
       "    </tr>\n",
       "    <tr>\n",
       "      <th>3</th>\n",
       "      <td>2021-02-01</td>\n",
       "      <td>1289.200366</td>\n",
       "      <td>599.576390</td>\n",
       "    </tr>\n",
       "    <tr>\n",
       "      <th>4</th>\n",
       "      <td>2021-02-02</td>\n",
       "      <td>1061.377982</td>\n",
       "      <td>535.550803</td>\n",
       "    </tr>\n",
       "  </tbody>\n",
       "</table>\n",
       "</div>"
      ],
      "text/plain": [
       "           일자          중식계         석식계\n",
       "0  2021-01-27   986.224808  381.005113\n",
       "1  2021-01-28   951.296841  472.929451\n",
       "2  2021-01-29   747.705003  427.980898\n",
       "3  2021-02-01  1289.200366  599.576390\n",
       "4  2021-02-02  1061.377982  535.550803"
      ]
     },
     "execution_count": 159,
     "metadata": {},
     "output_type": "execute_result"
    }
   ],
   "source": [
    "submission.head()"
   ]
  },
  {
   "cell_type": "code",
   "execution_count": 163,
   "metadata": {},
   "outputs": [
    {
     "data": {
      "text/plain": [
       "49782.877613438075"
      ]
     },
     "execution_count": 163,
     "metadata": {},
     "output_type": "execute_result"
    }
   ],
   "source": [
    "# 49482.43247838575\n",
    "submission.중식계.sum()"
   ]
  },
  {
   "cell_type": "code",
   "execution_count": 164,
   "metadata": {},
   "outputs": [
    {
     "data": {
      "text/plain": [
       "25048.580891637674"
      ]
     },
     "execution_count": 164,
     "metadata": {},
     "output_type": "execute_result"
    }
   ],
   "source": [
    "# 24917.377231011906 \n",
    "submission.석식계.sum()"
   ]
  },
  {
   "cell_type": "code",
   "execution_count": 162,
   "metadata": {},
   "outputs": [],
   "source": [
    "#submission['석식계'] = submission['석식계'] - 50"
   ]
  },
  {
   "cell_type": "code",
   "execution_count": 165,
   "metadata": {},
   "outputs": [],
   "source": [
    "submission.to_csv(f'{subtime}.csv', index = False)"
   ]
  },
  {
   "cell_type": "code",
   "execution_count": null,
   "metadata": {},
   "outputs": [],
   "source": []
  }
 ],
 "metadata": {
  "kernelspec": {
   "display_name": "Python 3",
   "language": "python",
   "name": "python3"
  },
  "language_info": {
   "codemirror_mode": {
    "name": "ipython",
    "version": 3
   },
   "file_extension": ".py",
   "mimetype": "text/x-python",
   "name": "python",
   "nbconvert_exporter": "python",
   "pygments_lexer": "ipython3",
   "version": "3.8.5"
  },
  "varInspector": {
   "cols": {
    "lenName": 16,
    "lenType": 16,
    "lenVar": 40
   },
   "kernels_config": {
    "python": {
     "delete_cmd_postfix": "",
     "delete_cmd_prefix": "del ",
     "library": "var_list.py",
     "varRefreshCmd": "print(var_dic_list())"
    },
    "r": {
     "delete_cmd_postfix": ") ",
     "delete_cmd_prefix": "rm(",
     "library": "var_list.r",
     "varRefreshCmd": "cat(var_dic_list()) "
    }
   },
   "types_to_exclude": [
    "module",
    "function",
    "builtin_function_or_method",
    "instance",
    "_Feature"
   ],
   "window_display": false
  }
 },
 "nbformat": 4,
 "nbformat_minor": 4
}
