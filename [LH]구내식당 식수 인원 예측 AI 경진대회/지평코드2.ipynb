{
 "cells": [
  {
   "cell_type": "code",
   "execution_count": 141,
   "metadata": {},
   "outputs": [],
   "source": [
    "import pandas as pd\n",
    "import numpy as np\n",
    "import warnings\n",
    "warnings.filterwarnings('ignore')\n",
    "from konlpy.tag import Mecab\n",
    "import datetime\n",
    "import matplotlib.pyplot as plt\n",
    "import seaborn as sns\n",
    "from tqdm.notebook import tqdm\n",
    "%matplotlib inline"
   ]
  },
  {
   "cell_type": "code",
   "execution_count": 142,
   "metadata": {},
   "outputs": [],
   "source": [
    "train = pd.read_csv('../input/train.csv')\n",
    "test = pd.read_csv('../input/test.csv')\n",
    "submission = pd.read_csv('../input/sample_submission.csv')"
   ]
  },
  {
   "cell_type": "code",
   "execution_count": 143,
   "metadata": {},
   "outputs": [
    {
     "data": {
      "text/plain": [
       "((1205, 12), (50, 10), (50, 3))"
      ]
     },
     "execution_count": 143,
     "metadata": {},
     "output_type": "execute_result"
    }
   ],
   "source": [
    "train.shape, test.shape, submission.shape"
   ]
  },
  {
   "cell_type": "code",
   "execution_count": 144,
   "metadata": {},
   "outputs": [],
   "source": [
    "train_target = train[['중식계', '석식계']]"
   ]
  },
  {
   "cell_type": "markdown",
   "metadata": {},
   "source": [
    "### Feature"
   ]
  },
  {
   "cell_type": "code",
   "execution_count": 145,
   "metadata": {},
   "outputs": [],
   "source": [
    "train['일자'] = pd.to_datetime(train['일자'])\n",
    "test['일자'] = pd.to_datetime(test['일자'])"
   ]
  },
  {
   "cell_type": "code",
   "execution_count": 146,
   "metadata": {},
   "outputs": [],
   "source": [
    "train['year'] = train['일자'].dt.year\n",
    "test['year'] = test['일자'].dt.year"
   ]
  },
  {
   "cell_type": "code",
   "execution_count": 147,
   "metadata": {},
   "outputs": [],
   "source": [
    "train['quarter'] = train['일자'].dt.quarter\n",
    "test['quarter'] = test['일자'].dt.quarter"
   ]
  },
  {
   "cell_type": "code",
   "execution_count": 148,
   "metadata": {},
   "outputs": [],
   "source": [
    "train['month'] = train['일자'].dt.month\n",
    "test['month'] = test['일자'].dt.month"
   ]
  },
  {
   "cell_type": "code",
   "execution_count": 149,
   "metadata": {},
   "outputs": [],
   "source": [
    "train['week'] = train['일자'].dt.week\n",
    "test['week'] = test['일자'].dt.week"
   ]
  },
  {
   "cell_type": "code",
   "execution_count": 150,
   "metadata": {},
   "outputs": [],
   "source": [
    "train['day'] = train['일자'].dt.day\n",
    "test['day'] = test['일자'].dt.day"
   ]
  },
  {
   "cell_type": "code",
   "execution_count": 151,
   "metadata": {},
   "outputs": [],
   "source": [
    "train['요일'] = train['일자'].dt.weekday\n",
    "test['요일'] = test['일자'].dt.weekday"
   ]
  },
  {
   "cell_type": "code",
   "execution_count": 152,
   "metadata": {},
   "outputs": [],
   "source": [
    "train['month_group'] = pd.cut(train['day'], bins = [1, 10, 20, 32], \n",
    "                              right = False, labels = ['Cho', 'Jung', 'Mal'])\n",
    "\n",
    "test['month_group'] = pd.cut(test['day'], bins = [1, 10, 20, 32], \n",
    "                              right = False, labels = ['Cho', 'Jung', 'Mal'])"
   ]
  },
  {
   "cell_type": "code",
   "execution_count": 153,
   "metadata": {},
   "outputs": [],
   "source": [
    "train = pd.concat([train, pd.get_dummies(train['month_group'])], axis=1)\n",
    "test = pd.concat([test, pd.get_dummies(test['month_group'])], axis=1)"
   ]
  },
  {
   "cell_type": "code",
   "execution_count": 154,
   "metadata": {},
   "outputs": [],
   "source": [
    "train['계절'] = train['month'].apply(lambda x : 'spring' if x in [3, 4, 5]\n",
    "                                                  else 'summer' if x in [6, 7, 8]\n",
    "                                                  else 'fall' if x in [9, 10, 11]\n",
    "                                                  else 'winter')\n",
    "\n",
    "test['계절'] = test['month'].apply(lambda x : 'spring' if x in [3, 4, 5]\n",
    "                                                  else 'summer' if x in [6, 7, 8]\n",
    "                                                  else 'fall' if x in [9, 10, 11]\n",
    "                                                  else 'winter')"
   ]
  },
  {
   "cell_type": "code",
   "execution_count": 155,
   "metadata": {},
   "outputs": [],
   "source": [
    "train['회사출근'] = train['본사정원수'] - (train['본사휴가자수'] + train['본사출장자수'] + train['현본사소속재택근무자수'])\n",
    "#train['휴가비율'] = train['본사휴가자수'] / train['본사정원수']\n",
    "#train['출장비율'] = train['본사출장자수'] / train['본사정원수']\n",
    "#train['야근비율'] = train['본사시간외근무명령서승인건수'] / train['회사출근']\n",
    "#train['재택비율'] = train['현본사소속재택근무자수'] / train['본사정원수']\n",
    "train['회사출근비율'] = train['회사출근'] / train['본사정원수']"
   ]
  },
  {
   "cell_type": "code",
   "execution_count": 156,
   "metadata": {},
   "outputs": [],
   "source": [
    "test['회사출근'] = test['본사정원수'] - (test['본사휴가자수'] + test['본사출장자수'] + test['현본사소속재택근무자수'])\n",
    "#test['휴가비율'] = test['본사휴가자수'] / test['본사정원수']\n",
    "#test['출장비율'] = test['본사출장자수'] / test['본사정원수']\n",
    "#test['야근비율'] = test['본사시간외근무명령서승인건수'] / test['회사출근']\n",
    "#test['재택비율'] = test['현본사소속재택근무자수'] / test['본사정원수']\n",
    "test['회사출근비율'] = test['회사출근'] / test['본사정원수']"
   ]
  },
  {
   "cell_type": "code",
   "execution_count": 157,
   "metadata": {},
   "outputs": [],
   "source": [
    "train['80%이상_출근'] = train['회사출근비율'].apply(lambda x : 1 if x>=0.80 else 0)\n",
    "train['85%이상_출근'] = train['회사출근비율'].apply(lambda x : 1 if x>=0.85 else 0)\n",
    "train['90%이상_출근'] = train['회사출근비율'].apply(lambda x : 1 if x>=0.90 else 0)\n",
    "\n",
    "test['80%이상_출근'] = test['회사출근비율'].apply(lambda x : 1 if x>=0.80 else 0)\n",
    "test['85%이상_출근'] = test['회사출근비율'].apply(lambda x : 1 if x>=0.85 else 0)\n",
    "test['90%이상_출근'] = test['회사출근비율'].apply(lambda x : 1 if x>=0.90 else 0)"
   ]
  },
  {
   "cell_type": "code",
   "execution_count": 158,
   "metadata": {},
   "outputs": [],
   "source": [
    "dow_chul = train.groupby('요일')['회사출근'].mean().reset_index()\n",
    "dow_chul.columns = ['요일', 'dow_chulgun_mean']\n",
    "train = train.merge(dow_chul, on='요일', how='left')"
   ]
  },
  {
   "cell_type": "code",
   "execution_count": 159,
   "metadata": {},
   "outputs": [],
   "source": [
    "dow_chul = test.groupby('요일')['회사출근'].mean().reset_index()\n",
    "dow_chul.columns = ['요일', 'dow_chulgun_mean']\n",
    "test = test.merge(dow_chul, on='요일', how='left')"
   ]
  },
  {
   "cell_type": "code",
   "execution_count": 160,
   "metadata": {},
   "outputs": [],
   "source": [
    "train['weekly_num'] = train['day'].apply(lambda x : 1 if (x>=1) and (x<=7)\n",
    "                                                  else 2 if (x>7) and (x<=14)\n",
    "                                                  else 3 if (x>14) and (x<=21)\n",
    "                                                  else 4 if (x>21) and (x<=28) else 5)\n",
    "\n",
    "test['weekly_num'] = test['day'].apply(lambda x : 1 if (x>=1) and (x<=7)\n",
    "                                                  else 2 if (x>7) and (x<=14)\n",
    "                                                  else 3 if (x>14) and (x<=21)\n",
    "                                                  else 4 if (x>21) and (x<=28) else 5)    "
   ]
  },
  {
   "cell_type": "code",
   "execution_count": 161,
   "metadata": {},
   "outputs": [],
   "source": [
    "wn_chul = train.groupby('weekly_num')['회사출근'].mean().reset_index()\n",
    "wn_chul.columns = ['weekly_num', 'wn_chulgun_mean']\n",
    "train = train.merge(wn_chul, on='weekly_num', how='left')"
   ]
  },
  {
   "cell_type": "code",
   "execution_count": 162,
   "metadata": {},
   "outputs": [],
   "source": [
    "wn_chul = test.groupby('weekly_num')['회사출근'].mean().reset_index()\n",
    "wn_chul.columns = ['weekly_num', 'wn_chulgun_mean']\n",
    "test = test.merge(wn_chul, on='weekly_num', how='left')"
   ]
  },
  {
   "cell_type": "code",
   "execution_count": 163,
   "metadata": {},
   "outputs": [],
   "source": [
    "train['회사출근_shift1'] = train['회사출근'].shift(1).fillna(train['회사출근'].mean())\n",
    "test['회사출근_shift1'] = test['회사출근'].shift(1).fillna(test['회사출근'].mean())\n",
    "\n",
    "train['회사출근_shift5'] = train['회사출근'].shift(5).fillna(train['회사출근'].mean())\n",
    "test['회사출근_shift5'] = test['회사출근'].shift(5).fillna(test['회사출근'].mean())"
   ]
  },
  {
   "cell_type": "code",
   "execution_count": 164,
   "metadata": {},
   "outputs": [],
   "source": [
    "train['야근_shift1'] = train['본사시간외근무명령서승인건수'].shift(1).fillna(train['본사시간외근무명령서승인건수'].mean())\n",
    "test['야근_shift1'] = test['본사시간외근무명령서승인건수'].shift(1).fillna(test['본사시간외근무명령서승인건수'].mean())\n",
    "\n",
    "train['야근_shift5'] = train['본사시간외근무명령서승인건수'].shift(5).fillna(train['본사시간외근무명령서승인건수'].mean())\n",
    "test['야근_shift5'] = test['본사시간외근무명령서승인건수'].shift(5).fillna(test['본사시간외근무명령서승인건수'].mean())"
   ]
  },
  {
   "cell_type": "code",
   "execution_count": null,
   "metadata": {},
   "outputs": [],
   "source": []
  },
  {
   "cell_type": "code",
   "execution_count": null,
   "metadata": {},
   "outputs": [],
   "source": []
  },
  {
   "cell_type": "code",
   "execution_count": 165,
   "metadata": {},
   "outputs": [],
   "source": [
    "train['lunch_length'] = train['중식메뉴'].apply(lambda x : len(x))\n",
    "train['dinner_length'] = train['석식메뉴'].apply(lambda x : len(x))\n",
    "\n",
    "test['lunch_length'] = test['중식메뉴'].apply(lambda x : len(x))\n",
    "test['dinner_length'] = test['석식메뉴'].apply(lambda x : len(x))"
   ]
  },
  {
   "cell_type": "code",
   "execution_count": 166,
   "metadata": {},
   "outputs": [],
   "source": [
    "### 연말 연초\n",
    "train['월일'] = train['일자'].astype(str)\n",
    "test['월일'] = test['일자'].astype(str)\n",
    "train['월일'] = train['월일'].apply(lambda x : x[5:10])\n",
    "test['월일'] = test['월일'].apply(lambda x : x[5:10])"
   ]
  },
  {
   "cell_type": "code",
   "execution_count": 167,
   "metadata": {},
   "outputs": [],
   "source": [
    "def malcho(x):\n",
    "    if (x[0:2] == '12' and int(x[3:5]) >= 20) or (x[0:2] == '01' and int(x[3:5]) <= 10):\n",
    "        return 1\n",
    "    else:\n",
    "        return 0"
   ]
  },
  {
   "cell_type": "code",
   "execution_count": 168,
   "metadata": {},
   "outputs": [],
   "source": [
    "train['연말연초'] = train['월일'].apply(malcho)\n",
    "test['연말연초'] = test['월일'].apply(malcho)"
   ]
  },
  {
   "cell_type": "code",
   "execution_count": 169,
   "metadata": {},
   "outputs": [],
   "source": [
    "def nextday_holiday(data) :\n",
    "    nextday = []\n",
    "    for i in range(len(data)-1) :\n",
    "        try :\n",
    "            if data['일자'][i] + datetime.timedelta(days=1) == data['일자'][i+1] :\n",
    "                nextday.append(0)\n",
    "            else :\n",
    "                nextday.append(1)\n",
    "        except ValueError :\n",
    "            break\n",
    "    nextday.append(0)\n",
    "    data['다음날_휴일여부'] = nextday"
   ]
  },
  {
   "cell_type": "code",
   "execution_count": 170,
   "metadata": {},
   "outputs": [],
   "source": [
    "def frontday_holiday(data) :\n",
    "    holiday = []\n",
    "    for i in range(1,len(data)) :\n",
    "        if data['일자'][i] - datetime.timedelta(days=1) == data['일자'][i-1] :\n",
    "            holiday.append(0)\n",
    "        else:\n",
    "            holiday.append(1)\n",
    "    holiday.insert(0,0)\n",
    "    data['전날_휴일여부'] = holiday"
   ]
  },
  {
   "cell_type": "code",
   "execution_count": 171,
   "metadata": {},
   "outputs": [],
   "source": [
    "frontday_holiday(train)\n",
    "nextday_holiday(train)\n",
    "\n",
    "frontday_holiday(test)\n",
    "nextday_holiday(test)"
   ]
  },
  {
   "cell_type": "markdown",
   "metadata": {},
   "source": [
    "### menu"
   ]
  },
  {
   "cell_type": "code",
   "execution_count": 172,
   "metadata": {},
   "outputs": [],
   "source": [
    "#### 띄어쓰기 및 오타 수정\n",
    "train.at[1142, '중식메뉴'] = '쌀밥/곤드레밥/찰현미밥 된장찌개 돼지고추장불고기 버섯잡채 삼색물만두무침 겉절이김치/양념장 견과류샐러드*요거트D '\n",
    "train['중식메뉴'] = train['중식메뉴'].str.replace('삽겹', '삼겹')"
   ]
  },
  {
   "cell_type": "code",
   "execution_count": 173,
   "metadata": {},
   "outputs": [],
   "source": [
    "category = pd.read_excel('../input/대분류중분류.xlsx')"
   ]
  },
  {
   "cell_type": "code",
   "execution_count": 174,
   "metadata": {},
   "outputs": [],
   "source": [
    "def get_food_embedding(x):\n",
    "    x_ = []\n",
    "    x = x.split(' ')\n",
    "    for i in x:\n",
    "        if '(' in i and ':' in i and ')' in i:\n",
    "            continue\n",
    "        elif '/' in i:\n",
    "            x_.extend(i.split('/'))\n",
    "        elif '*' in i:\n",
    "            x_.extend(i.split('*'))\n",
    "        else:\n",
    "            x_.append(i)\n",
    "    x_ = list(set(x_))\n",
    "    x_.remove('')\n",
    "    return x_"
   ]
  },
  {
   "cell_type": "code",
   "execution_count": 175,
   "metadata": {},
   "outputs": [],
   "source": [
    "train['조식메뉴_split'] = train['조식메뉴'].apply(lambda x: get_food_embedding(x))\n",
    "train['중식메뉴_split'] = train['중식메뉴'].apply(lambda x: get_food_embedding(x))\n",
    "train['석식메뉴_split'] = train['석식메뉴'].apply(lambda x: get_food_embedding(x))\n",
    "\n",
    "test['조식메뉴_split'] = test['조식메뉴'].apply(lambda x: get_food_embedding(x))\n",
    "test['중식메뉴_split'] = test['중식메뉴'].apply(lambda x: get_food_embedding(x))\n",
    "test['석식메뉴_split'] = test['석식메뉴'].apply(lambda x: get_food_embedding(x))"
   ]
  },
  {
   "cell_type": "code",
   "execution_count": 176,
   "metadata": {},
   "outputs": [],
   "source": [
    "import re\n",
    "regex = \"\\(.*\\)|\\s-\\s.*\"\n",
    "category['소분류'] = category['소분류'].apply(lambda x : re.sub(regex, '', x))"
   ]
  },
  {
   "cell_type": "code",
   "execution_count": 177,
   "metadata": {},
   "outputs": [],
   "source": [
    "밥_list = list(category[category['대분류'] == '밥류']['소분류'])\n",
    "과자빵_list = list(category[category['대분류'] == '과자 및 빵류']['소분류'])\n",
    "면만두_list = list(category[category['대분류'] == '면 및 만두류']['소분류'])\n",
    "죽_list = list(category[category['대분류'] == '죽류']['소분류'])\n",
    "국_list = list(category[category['대분류'] == '국(탕)류']['소분류'])\n",
    "찌개_list = list(category[category['대분류'] == '찌개류']['소분류'])\n",
    "찜_list = list(category[category['대분류'] == '찜류']['소분류'])\n",
    "구이_list = list(category[category['대분류'] == '구이류']['소분류'])\n",
    "전_list = list(category[category['대분류'] == '전류']['소분류'])\n",
    "볶음_list = list(category[category['대분류'] == '볶음류']['소분류'])\n",
    "조림_list = list(category[category['대분류'] == '조림류']['소분류'])\n",
    "튀김_list = list(category[category['대분류'] == '튀김류']['소분류'])\n",
    "무침_list = list(category[category['대분류'] == '무침류']['소분류'])\n",
    "김치_list = list(category[category['대분류'] == '김치류']['소분류'])\n",
    "회_list = list(category[category['대분류'] == '회류']['소분류'])\n",
    "젓갈_list = list(category[category['대분류'] == '젓갈류']['소분류'])\n",
    "절임_list = list(category[category['대분류'] == '절임류']['소분류'])\n",
    "장_list = list(category[category['대분류'] == '장류']['소분류'])\n",
    "우유_list = list(category[category['대분류'] == '우유 및 유제품류']['소분류'])\n",
    "음료_list = list(category[category['대분류'] == '음료류']['소분류'])\n",
    "떡_list = list(category[category['대분류'] == '떡류']['소분류'])\n",
    "원재료_list = list(category[category['대분류'] == '원재료']['소분류'])\n",
    "주류_list = list(category[category['대분류'] == '주류']['소분류'])"
   ]
  },
  {
   "cell_type": "code",
   "execution_count": 178,
   "metadata": {},
   "outputs": [],
   "source": [
    "num=[]\n",
    "for t in range(train.shape[0]):\n",
    "    for i in range(len(train['중식메뉴_split'][t])):\n",
    "        token = train['중식메뉴_split'][t][i]\n",
    "        if  token.endswith('주') or token in 주류_list:\n",
    "            print(token)\n",
    "            num.append(token)"
   ]
  },
  {
   "cell_type": "code",
   "execution_count": 179,
   "metadata": {},
   "outputs": [],
   "source": [
    "num=pd.DataFrame(num)\n",
    "num=pd.DataFrame(num.value_counts().index.values)\n",
    "num=pd.DataFrame(num[0].apply(lambda x: x[0]))"
   ]
  },
  {
   "cell_type": "code",
   "execution_count": 180,
   "metadata": {},
   "outputs": [],
   "source": [
    "def get_Dae(data, col) :\n",
    "    \n",
    "    recipe_df = pd.DataFrame(np.zeros((data.shape[0], 25)), \n",
    "                          columns = ['밥류', '과자 및 빵류', '면 및 만두류', '죽류', '국(탕)류', '찌개류', '찜류', '구이류',\n",
    "       '전류', '볶음류', '조림류', '튀김류', '무침류', '김치류', '회류', '젓갈류', '절임류', '장류',\n",
    "       '우유 및 유제품류', '음료류', '떡류', '원재료', '주류', '드레싱류', '조리_기타'])\n",
    "\n",
    "    for t in range(data.shape[0]):\n",
    "        for i in range(len(data[col][t])):\n",
    "            token = data[col][t][i]\n",
    "            if '덮밥' in token or '비빔밥' in token or '볶음밥' in token:\n",
    "                recipe_df.at[t,'밥류'] +=3\n",
    "            elif  token.endswith('밥') or '밥' in token or token in 밥_list:\n",
    "                recipe_df.at[t, '밥류'] += 1 \n",
    "                \n",
    "            elif token.endswith('과자') or token in 과자빵_list:\n",
    "                recipe_df.at[t, '과자 및 빵류'] += 3\n",
    "                \n",
    "            elif token.endswith('면') or token.endswith('만두') or '면' in token or '만두' in token or token in 면만두_list:\n",
    "                recipe_df.at[t, '면 및 만두류'] += 4\n",
    "                \n",
    "            elif token.endswith('죽') or token in 죽_list or '죽' in token:\n",
    "                recipe_df.at[t, '죽류'] += 2\n",
    "                \n",
    "            elif token.endswith('구이') or token in 구이_list or '구이' in token or token.endswith('데리야끼') or token.endswith('립') or\\\n",
    "                '함박' in token or '그라탕' in token or token.endswith('갈비') or '주물럭' in token or '스테이크' in token or token.endswith('구이') or '불고기' in token or '구이' in token:\n",
    "                recipe_df.at[t, '구이류'] += 5\n",
    "                \n",
    "            elif token.endswith('국') or token.endswith('탕') or token in 국_list:\n",
    "                if '만두' in token or '해물' in token or '도토리묵' in token or '냉국' in token or '사골' in token or '고기' in token or '해장' in token or token=='육개장'  or '수제비' in token or '옹심이' in token or '삼계탕' in token or '닭볶' in token or '전복' in token or '나주곰탕' in token or '감자탕' in token or '갈비' in token or '등뼈탕' in token or '들깨' in token or '홍합' in token or '새우' in token:\n",
    "                    recipe_df.at[t, '국(탕)류'] += 4\n",
    "                else:\n",
    "                    recipe_df.at[t, '국(탕)류'] += 2\n",
    "                    \n",
    "            elif token.endswith('찌개') or token in 찌개_list:\n",
    "                if '차돌' in token or '갈비' in token or '고기' in token or '돼지' in token: \n",
    "                    recipe_df.at[t, '찌개류'] += 4\n",
    "                else:\n",
    "                    recipe_df.at[t, '찌개류'] += 2\n",
    "                \n",
    "            elif token.endswith('찜') or token in 찜_list or '찜' in token or '보쌈' in token or '수육' in token or '김치말이' in token:\n",
    "                if '브로컬리들깨찜' in token or  '꽈리고추찜' in token or  '깻잎찜' in token or  '가지찜' in token or  '청경채찜' in token or '호박잎쌈' in token:\n",
    "                    recipe_df.at[t, '찜류'] += 2\n",
    "                else:\n",
    "                    recipe_df.at[t, '찜류'] += 4\n",
    "                \n",
    "            elif token.endswith('전') or token in 전_list or '전병' in token:\n",
    "                recipe_df.at[t, '전류'] += 3\n",
    "                \n",
    "            elif token.endswith('볶음') or token in 볶음_list or '볶음' in token or token == '깐풍연근' or \\\n",
    "                '고추잡채' in token or '궁보계정' in token or '산슬' in token or token.endswith('잡채') or '마파두부' in token or '두루치기' in token or '닭갈비' in token:\n",
    "                if '미역줄기볶음' in token or '마늘쫑볶음' in token or '카레감자채볶음' in token or '모둠버섯볶음' in token or '고구마순볶음' in token or '콩나물볶음' in token or '버섯볶음' in token or '멸치' in token or '가지볶음' in token or '애기새송이버섯볶음' in token or '파프리카감자채볶음' in token or '호박새우젓볶음' in token or '청경채새송이볶음' in token or '오이볶음' in token or '호박채나물볶음' in token or '도라지볶음' in token or '도라지나물볶음' in token or '고춧잎볶음' in token or '고구마줄기볶음' in token or '감자볶음' in token or '새송이버섯볶음' in token or '가지볶음' in token or '브로콜리버섯볶음' in token or '명엽채볶음' in token or '매운호박볶음' in token or '머위대들깨볶음' in token or '멸치볶음' in token:\n",
    "                    recipe_df.at[t, '볶음류'] += 1\n",
    "                else:\n",
    "                    recipe_df.at[t, '볶음류'] += 3\n",
    "                \n",
    "            elif token.endswith('조림') or token in 조림_list or '조림' in token or '오향장육' in token or '동파육' in token:\n",
    "                if '땅콩조림' in token or '연근조림' in token or '견과류조림' in token or '연근땅콩조림' in token or '새송이버섯조림' in token or '우엉조림' in token or '시래기조림' in token or '검정콩조림' in token or '꽈리고추어묵조림' in token or '단호박장조림' in token or '감자조림' in token or '견과류연근조림' in token or '고추장감자조림' in token or '꽈리고추감자조림' in token or '콩조림' in token:\n",
    "                    recipe_df.at[t, '조림류'] += 1\n",
    "                else:\n",
    "                    recipe_df.at[t, '조림류'] += 3\n",
    "            elif token.endswith('튀김') or token.endswith('치킨') or token.endswith('탕수육') or '치킨' in token or '탕수' in token or token in 튀김_list or\\\n",
    "                '튀김' in token or '통닭' in token or token.endswith('새우') or '강정' in token or '미트볼' in token or '프리타타' in token or '카츠' in token or '깐풍' in token or\\\n",
    "                token.endswith('고로케') or '유린기' in token or '탕수' in token or token.endswith('닭') or '너겟' in token or\\\n",
    "                token.endswith('강정') or '가스' in token or '까스' in token or '핑거' in token or '텐더' in token or '커틀렛' in token or '커틀릿' in token:\n",
    "                recipe_df.at[t, '튀김류'] += 5\n",
    "                \n",
    "            elif token.endswith('무침') or token in 무침_list or '무침' in token or '파채' in token or token.endswith('샐러드') or '양장피' in token\\\n",
    "            or '범벅' in token or token.endswith('채'):\n",
    "                recipe_df.at[t, '무침류'] += 1\n",
    "                \n",
    "            elif token.endswith('김치') or token in 김치_list or '겉절이' in token:\n",
    "                recipe_df.at[t, '김치류'] += 1\n",
    "                \n",
    "            elif token.endswith('회') or token in 회_list:\n",
    "                recipe_df.at[t, '회류'] += 1\n",
    "                \n",
    "            elif token.endswith('젓갈') or token in 젓갈_list or '젓갈' in token:\n",
    "                recipe_df.at[t, '젓갈류'] += 1\n",
    "                \n",
    "            elif token.endswith('절임') or token in 절임_list or '절임' in token:\n",
    "                recipe_df.at[t, '절임류'] += 1\n",
    "                \n",
    "            elif token.endswith('장') or token in 장_list:\n",
    "                recipe_df.at[t, '장류'] += 1\n",
    "                \n",
    "            elif token.endswith('우유') or token in 우유_list:\n",
    "                recipe_df.at[t, '우유 및 유제품류'] += 1\n",
    "                \n",
    "            elif token.endswith('음료') or token in 음료_list or '요구르트' in token:\n",
    "                recipe_df.at[t, '음료류'] += 1\n",
    "                \n",
    "            elif token.endswith('떡') or token in 떡_list:\n",
    "                recipe_df.at[t, '떡류'] += 2\n",
    "                \n",
    "            elif token in 원재료_list or token == '연두부' or token.endswith('김') or '생' in token or token.endswith('쌈'):\n",
    "                recipe_df.at[t, '원재료'] += 1\n",
    "                \n",
    "            elif token.endswith('주') or token in 주류_list:\n",
    "                recipe_df.at[t, '주류'] += 1\n",
    "                \n",
    "            elif token.endswith('드레싱') or 'D' in token or '소스' in token:\n",
    "                recipe_df.at[t, '드레싱류'] += 1\n",
    "                \n",
    "            else :\n",
    "                recipe_df.at[t, '조리_기타'] += 1\n",
    "            \n",
    "    return recipe_df"
   ]
  },
  {
   "cell_type": "code",
   "execution_count": 181,
   "metadata": {},
   "outputs": [],
   "source": [
    "tr_morning = get_Dae(train, '조식메뉴_split')\n",
    "tr_lunch = get_Dae(train, '중식메뉴_split')\n",
    "tr_dinner = get_Dae(train, '석식메뉴_split')\n",
    "\n",
    "ts_morning = get_Dae(test, '조식메뉴_split')\n",
    "ts_lunch = get_Dae(test, '중식메뉴_split')\n",
    "ts_dinner = get_Dae(test, '석식메뉴_split')"
   ]
  },
  {
   "cell_type": "code",
   "execution_count": 182,
   "metadata": {},
   "outputs": [
    {
     "data": {
      "text/plain": [
       "((1205, 25), (1205, 25), (50, 25), (50, 25))"
      ]
     },
     "execution_count": 182,
     "metadata": {},
     "output_type": "execute_result"
    }
   ],
   "source": [
    "tr_lunch.shape, tr_dinner.shape, ts_lunch.shape, ts_dinner.shape"
   ]
  },
  {
   "cell_type": "code",
   "execution_count": 183,
   "metadata": {},
   "outputs": [],
   "source": [
    "tr_sum = tr_lunch + tr_dinner\n",
    "ts_sum = ts_lunch + ts_dinner"
   ]
  },
  {
   "cell_type": "code",
   "execution_count": 184,
   "metadata": {},
   "outputs": [],
   "source": [
    "tr_sum1 = tr_sum.copy()\n",
    "for i in range(tr_sum.shape[0]):\n",
    "    for j in range(tr_sum.shape[1]):\n",
    "        if tr_sum.iloc[i, j] >= 5:\n",
    "            tr_sum1.iloc[i, j] = 2\n",
    "        elif tr_sum.iloc[i, j] >=3:\n",
    "            tr_sum1.iloc[i, j] = 1\n",
    "        else:\n",
    "            tr_sum1.iloc[i, j] = 0"
   ]
  },
  {
   "cell_type": "code",
   "execution_count": 185,
   "metadata": {},
   "outputs": [],
   "source": [
    "ts_sum1 = ts_sum.copy()\n",
    "for i in range(ts_sum.shape[0]):\n",
    "    for j in range(ts_sum.shape[1]):\n",
    "        if ts_sum.iloc[i, j] >= 5:\n",
    "            ts_sum1.iloc[i, j] = 2\n",
    "        elif ts_sum.iloc[i, j] >=3:\n",
    "            ts_sum1.iloc[i, j] = 1\n",
    "        else:\n",
    "            ts_sum1.iloc[i, j] = 0"
   ]
  },
  {
   "cell_type": "code",
   "execution_count": 186,
   "metadata": {},
   "outputs": [],
   "source": [
    "train['점저유사도'] = tr_sum1.sum(axis=1).astype(int)\n",
    "test['점저유사도'] = ts_sum1.sum(axis=1).astype(int)"
   ]
  },
  {
   "cell_type": "code",
   "execution_count": 187,
   "metadata": {},
   "outputs": [],
   "source": [
    "#train_ln = pd.concat([train, tr_lunch], axis=1)\n",
    "#train_dn = pd.concat([train, tr_dinner], axis=1)\n",
    "#test_ln = pd.concat([test, ts_lunch], axis=1)\n",
    "#test_dn = pd.concat([test, ts_dinner], axis=1)"
   ]
  },
  {
   "cell_type": "code",
   "execution_count": 188,
   "metadata": {},
   "outputs": [],
   "source": [
    "#train_ln.shape, train_dn.shape, test_ln.shape, test_dn.shape"
   ]
  },
  {
   "cell_type": "code",
   "execution_count": 189,
   "metadata": {},
   "outputs": [],
   "source": [
    "train['lunch_score'] = tr_lunch.sum(axis=1)\n",
    "train['dinner_score'] = tr_dinner.sum(axis=1)\n",
    "test['lunch_score'] = ts_lunch.sum(axis=1)\n",
    "test['dinner_score'] = ts_dinner.sum(axis=1)"
   ]
  },
  {
   "cell_type": "markdown",
   "metadata": {},
   "source": [
    "### modeling"
   ]
  },
  {
   "cell_type": "code",
   "execution_count": 190,
   "metadata": {},
   "outputs": [],
   "source": [
    "from lightgbm import LGBMRegressor\n",
    "from xgboost import XGBRFRegressor\n",
    "from sklearn.metrics import mean_absolute_error\n",
    "from sklearn.model_selection import TimeSeriesSplit, KFold\n",
    "from sklearn.ensemble import RandomForestRegressor, GradientBoostingRegressor, VotingRegressor\n",
    "from ngboost import NGBRegressor\n",
    "from catboost import CatBoostRegressor, Pool\n",
    "from tqdm import tqdm, tqdm_notebook\n",
    "from sklearn.model_selection import cross_val_score\n",
    "import random\n",
    "from sklearn.feature_selection import RFE\n",
    "from sklearn.feature_selection import SelectPercentile"
   ]
  },
  {
   "cell_type": "code",
   "execution_count": 191,
   "metadata": {},
   "outputs": [],
   "source": [
    "kf = KFold(n_splits = 15, random_state = 607, shuffle = True)"
   ]
  },
  {
   "cell_type": "code",
   "execution_count": 192,
   "metadata": {},
   "outputs": [],
   "source": [
    "select_columns_ln=test.columns[(test.dtypes== 'int64') + (test.dtypes== 'float64')+ (test.dtypes== 'uint8')]\n",
    "select_columns_dn=test.columns[(test.dtypes== 'int64') + (test.dtypes== 'float64')+ (test.dtypes== 'uint8')]"
   ]
  },
  {
   "cell_type": "code",
   "execution_count": 193,
   "metadata": {},
   "outputs": [],
   "source": [
    "select_columns_ln=select_columns_ln.drop(['본사정원수', '본사휴가자수', '본사출장자수', '본사시간외근무명령서승인건수', '현본사소속재택근무자수'])\n",
    "select_columns_dn=select_columns_dn.drop(['본사정원수', '본사휴가자수', '본사출장자수', '본사시간외근무명령서승인건수', '현본사소속재택근무자수'])"
   ]
  },
  {
   "cell_type": "code",
   "execution_count": 194,
   "metadata": {},
   "outputs": [],
   "source": [
    "X1 = train[select_columns_ln]\n",
    "y1 = train.중식계\n",
    "target1 = test[X1.columns]\n",
    "X1 = X1.fillna(0)\n",
    "target1 = target1.fillna(0)"
   ]
  },
  {
   "cell_type": "code",
   "execution_count": 195,
   "metadata": {},
   "outputs": [],
   "source": [
    "X2 = train[select_columns_dn]\n",
    "y2 = train.석식계\n",
    "target2 = test[X2.columns]\n",
    "X2 = X2.fillna(0)\n",
    "target2 = target2.fillna(0)"
   ]
  },
  {
   "cell_type": "code",
   "execution_count": 197,
   "metadata": {},
   "outputs": [
    {
     "name": "stderr",
     "output_type": "stream",
     "text": [
      "100%|██████████████████████████████████████████████████████████████████████████████████| 95/95 [00:36<00:00,  2.64it/s]"
     ]
    },
    {
     "name": "stdout",
     "output_type": "stream",
     "text": [
      "(86, -89.44183427302605)\n"
     ]
    },
    {
     "name": "stderr",
     "output_type": "stream",
     "text": [
      "\n"
     ]
    },
    {
     "data": {
      "image/png": "[encoded data removed]",
      "text/plain": [
       "<Figure size 432x288 with 1 Axes>"
      ]
     },
     "metadata": {
      "needs_background": "light"
     },
     "output_type": "display_data"
    }
   ],
   "source": [
    "# 사용할 모델 설정 (속도가 빠른 모델 사용 권장)\n",
    "model = LGBMRegressor(random_state=0)\n",
    "\n",
    "# 각 특성과 타깃(class) 사이에 유의한 통계적 관계가 있는지 계산하여 특성을 선택하는 방법 \n",
    "cv_scores = []\n",
    "for p in tqdm(range(5,100,1)):\n",
    "    X_new = SelectPercentile(percentile=p).fit_transform(X1, y1)    #SelectPercentile: 지정된 비율만큼 특성을 선택한다.\n",
    "    cv_score = cross_val_score(model, X_new, y1, scoring='neg_mean_absolute_error', cv=5).mean()\n",
    "    cv_scores.append((p,cv_score))\n",
    "\n",
    "# Print the best percentile\n",
    "best_score = cv_scores[np.argmax([score for _, score in cv_scores])]\n",
    "print(best_score)\n",
    "\n",
    "# Plot the performance change with p\n",
    "plt.plot([k for k, _ in cv_scores], [score for _, score in cv_scores])\n",
    "plt.xlabel('Percent of features')\n",
    "plt.grid()"
   ]
  },
  {
   "cell_type": "code",
   "execution_count": 198,
   "metadata": {},
   "outputs": [],
   "source": [
    "# 과적합을 피하기 위해 최적의 p값 주변의 값을 선택하는게 더 나은 결과를 얻을 수 있다. \n",
    "fs1 = SelectPercentile(percentile=best_score[0]).fit(X1, y1)\n",
    "X1_select = fs1.transform(X1)\n",
    "target1_select = fs1.transform(target1)"
   ]
  },
  {
   "cell_type": "code",
   "execution_count": 199,
   "metadata": {},
   "outputs": [
    {
     "name": "stderr",
     "output_type": "stream",
     "text": [
      "100%|██████████████████████████████████████████████████████████████████████████████████| 95/95 [00:39<00:00,  2.38it/s]"
     ]
    },
    {
     "name": "stdout",
     "output_type": "stream",
     "text": [
      "(97, -63.922901788692606)\n"
     ]
    },
    {
     "name": "stderr",
     "output_type": "stream",
     "text": [
      "\n"
     ]
    },
    {
     "data": {
      "image/png": "[encoded data removed]",
      "text/plain": [
       "<Figure size 432x288 with 1 Axes>"
      ]
     },
     "metadata": {
      "needs_background": "light"
     },
     "output_type": "display_data"
    }
   ],
   "source": [
    "# 사용할 모델 설정 (속도가 빠른 모델 사용 권장)\n",
    "model = LGBMRegressor(random_state=0)\n",
    "\n",
    "# 각 특성과 타깃(class) 사이에 유의한 통계적 관계가 있는지 계산하여 특성을 선택하는 방법 \n",
    "cv_scores = []\n",
    "for p in tqdm(range(5,100,1)):\n",
    "    X_new = SelectPercentile(percentile=p).fit_transform(X2, y2)    #SelectPercentile: 지정된 비율만큼 특성을 선택한다.\n",
    "    cv_score = cross_val_score(model, X_new, y2, scoring='neg_mean_absolute_error', cv=5).mean()\n",
    "    cv_scores.append((p,cv_score))\n",
    "\n",
    "# Print the best percentile\n",
    "best_score = cv_scores[np.argmax([score for _, score in cv_scores])]\n",
    "print(best_score)\n",
    "\n",
    "# Plot the performance change with p\n",
    "plt.plot([k for k, _ in cv_scores], [score for _, score in cv_scores])\n",
    "plt.xlabel('Percent of features')\n",
    "plt.grid()"
   ]
  },
  {
   "cell_type": "code",
   "execution_count": 200,
   "metadata": {},
   "outputs": [],
   "source": [
    "# 과적합을 피하기 위해 최적의 p값 주변의 값을 선택하는게 더 나은 결과를 얻을 수 있다. \n",
    "fs2 = SelectPercentile(percentile=best_score[0]).fit(X2, y2)\n",
    "X2_select = fs2.transform(X2)\n",
    "target2_select = fs2.transform(target2)"
   ]
  },
  {
   "cell_type": "code",
   "execution_count": 201,
   "metadata": {},
   "outputs": [
    {
     "name": "stdout",
     "output_type": "stream",
     "text": [
      "(1205, 24)\n",
      "['요일', 'year', 'quarter', 'week', 'day', 'Jung', 'Mal', '회사출근', '회사출근비율', '80%이상_출근', '85%이상_출근', '90%이상_출근', 'dow_chulgun_mean', 'weekly_num', 'wn_chulgun_mean', '회사출근_shift1', '야근_shift1', '야근_shift5', 'lunch_length', 'dinner_length', '연말연초', '전날_휴일여부', '다음날_휴일여부', 'lunch_score']\n"
     ]
    }
   ],
   "source": [
    "print(X1_select.shape)\n",
    "print(X1.columns[fs1.get_support()].tolist()) \n",
    "# get_support: 선택한 특성을 불린값으로 보여줘서 어떤 특성을 선택했는지 알 수 있다."
   ]
  },
  {
   "cell_type": "code",
   "execution_count": 202,
   "metadata": {},
   "outputs": [
    {
     "name": "stdout",
     "output_type": "stream",
     "text": [
      "(1205, 27)\n",
      "['요일', 'year', 'quarter', 'month', 'week', 'day', 'Cho', 'Jung', 'Mal', '회사출근', '회사출근비율', '80%이상_출근', '85%이상_출근', '90%이상_출근', 'dow_chulgun_mean', 'weekly_num', 'wn_chulgun_mean', '회사출근_shift1', '회사출근_shift5', '야근_shift1', '야근_shift5', 'lunch_length', 'dinner_length', '연말연초', '전날_휴일여부', '다음날_휴일여부', 'dinner_score']\n"
     ]
    }
   ],
   "source": [
    "print(X2_select.shape)\n",
    "print(X2.columns[fs2.get_support()].tolist()) "
   ]
  },
  {
   "cell_type": "code",
   "execution_count": 254,
   "metadata": {},
   "outputs": [],
   "source": [
    "X1 = train[['요일', 'year', 'quarter', 'week', 'day', 'Jung', 'Mal', '회사출근', '회사출근비율', '80%이상_출근', '85%이상_출근', '90%이상_출근', 'dow_chulgun_mean', \\\n",
    "            'weekly_num', 'wn_chulgun_mean', '회사출근_shift1', '야근_shift1', '야근_shift5', 'lunch_length', 'dinner_length', '연말연초', '전날_휴일여부', '다음날_휴일여부', 'lunch_score']]\n",
    "target1 = test[X1.columns]"
   ]
  },
  {
   "cell_type": "code",
   "execution_count": 255,
   "metadata": {},
   "outputs": [],
   "source": [
    "X2 = train[['요일', 'year', 'quarter', 'month', 'week', 'day', 'Cho', 'Jung', 'Mal', '회사출근', '회사출근비율', '80%이상_출근', '85%이상_출근', '90%이상_출근', 'dow_chulgun_mean', \\\n",
    "            'weekly_num', 'wn_chulgun_mean', '회사출근_shift1', '회사출근_shift5', '야근_shift1', '야근_shift5', 'lunch_length', 'dinner_length', '연말연초', '전날_휴일여부', '다음날_휴일여부', \\\n",
    "            'dinner_score']]\n",
    "y2 = train.석식계\n",
    "target2 = test[X2.columns]"
   ]
  },
  {
   "cell_type": "code",
   "execution_count": 256,
   "metadata": {},
   "outputs": [],
   "source": [
    "X1.to_csv('../input/x1.csv')\n",
    "X2.to_csv('../input/x2.csv')\n",
    "\n",
    "target1.to_csv('../input/target1.csv')\n",
    "target2.to_csv('../input/target2.csv')"
   ]
  },
  {
   "cell_type": "code",
   "execution_count": 205,
   "metadata": {},
   "outputs": [],
   "source": [
    "X1 = X1.astype(int)\n",
    "X2 = X2.astype(int)\n",
    "target1 = target1.astype(int)\n",
    "target2 = target2.astype(int)"
   ]
  },
  {
   "cell_type": "code",
   "execution_count": 206,
   "metadata": {},
   "outputs": [],
   "source": [
    "cat_features_ln = ['요일', 'year', 'quarter', 'week', 'day', 'Jung', 'Mal', '80%이상_출근', '85%이상_출근', '90%이상_출근', 'weekly_num', '연말연초', '전날_휴일여부', '다음날_휴일여부']\n",
    "                  \n",
    "cat_features_dn = ['요일', 'year', 'quarter', 'month', 'week', 'day', 'Cho', 'Jung', 'Mal', '80%이상_출근', '85%이상_출근', '90%이상_출근', 'weekly_num', '연말연초', '전날_휴일여부', \\\n",
    "                   '다음날_휴일여부']"
   ]
  },
  {
   "cell_type": "code",
   "execution_count": 207,
   "metadata": {},
   "outputs": [],
   "source": [
    "cb = CatBoostRegressor(iterations = 20000, learning_rate = 0.01, eval_metric = 'MAE', silent = True, \n",
    "                       loss_function = 'MAE')"
   ]
  },
  {
   "cell_type": "code",
   "execution_count": 208,
   "metadata": {},
   "outputs": [
    {
     "name": "stdout",
     "output_type": "stream",
     "text": [
      "0:\tlearn: 166.6809243\ttest: 162.9896286\tbest: 162.9896286 (0)\ttotal: 135ms\tremaining: 44m 53s\n",
      "Stopped by overfitting detector  (2000 iterations wait)\n",
      "\n",
      "bestTest = 66.93070711\n",
      "bestIteration = 1544\n",
      "\n",
      "Shrink model to first 1545 iterations.\n",
      "FOLD MAE = 66.94211419569555\n",
      "0:\tlearn: 168.5909955\ttest: 136.1030854\tbest: 136.1030854 (0)\ttotal: 14.2ms\tremaining: 4m 44s\n",
      "5000:\tlearn: 26.5289782\ttest: 65.1444850\tbest: 65.1274194 (4917)\ttotal: 1m 25s\tremaining: 4m 17s\n",
      "10000:\tlearn: 18.4464861\ttest: 64.5500371\tbest: 64.5397897 (9981)\ttotal: 2m 55s\tremaining: 2m 55s\n",
      "15000:\tlearn: 14.6578755\ttest: 64.2184399\tbest: 64.1261463 (14543)\ttotal: 4m 26s\tremaining: 1m 28s\n",
      "19999:\tlearn: 12.3260927\ttest: 63.8490172\tbest: 63.8490172 (19999)\ttotal: 5m 55s\tremaining: 0us\n",
      "\n",
      "bestTest = 63.84901722\n",
      "bestIteration = 19999\n",
      "\n",
      "FOLD MAE = 63.849037142803155\n",
      "0:\tlearn: 164.6012624\ttest: 192.0414805\tbest: 192.0414805 (0)\ttotal: 5.61ms\tremaining: 1m 52s\n",
      "5000:\tlearn: 27.0072127\ttest: 90.4718050\tbest: 90.4168492 (4856)\ttotal: 1m 27s\tremaining: 4m 22s\n",
      "Stopped by overfitting detector  (2000 iterations wait)\n",
      "\n",
      "bestTest = 90.30605738\n",
      "bestIteration = 6521\n",
      "\n",
      "Shrink model to first 6522 iterations.\n",
      "FOLD MAE = 90.32307156186332\n",
      "0:\tlearn: 168.5947499\ttest: 136.4103694\tbest: 136.4103694 (0)\ttotal: 8.35ms\tremaining: 2m 46s\n",
      "Stopped by overfitting detector  (2000 iterations wait)\n",
      "\n",
      "bestTest = 60.39768082\n",
      "bestIteration = 1421\n",
      "\n",
      "Shrink model to first 1422 iterations.\n",
      "FOLD MAE = 60.419545341487485\n",
      "0:\tlearn: 165.7688424\ttest: 176.8390114\tbest: 176.8390114 (0)\ttotal: 6.26ms\tremaining: 2m 5s\n",
      "5000:\tlearn: 26.0741869\ttest: 65.8002625\tbest: 65.7367686 (3291)\ttotal: 1m 27s\tremaining: 4m 23s\n",
      "Stopped by overfitting detector  (2000 iterations wait)\n",
      "\n",
      "bestTest = 65.48886709\n",
      "bestIteration = 6693\n",
      "\n",
      "Shrink model to first 6694 iterations.\n",
      "FOLD MAE = 65.48904218948454\n",
      "0:\tlearn: 165.2835101\ttest: 182.8973740\tbest: 182.8973740 (0)\ttotal: 16.8ms\tremaining: 5m 36s\n",
      "5000:\tlearn: 25.9523893\ttest: 70.8632830\tbest: 70.8632830 (5000)\ttotal: 1m 29s\tremaining: 4m 27s\n",
      "10000:\tlearn: 18.1678699\ttest: 70.1159407\tbest: 70.0546040 (9595)\ttotal: 2m 58s\tremaining: 2m 58s\n",
      "Stopped by overfitting detector  (2000 iterations wait)\n",
      "\n",
      "bestTest = 69.8927999\n",
      "bestIteration = 12597\n",
      "\n",
      "Shrink model to first 12598 iterations.\n",
      "FOLD MAE = 69.89518130856204\n",
      "0:\tlearn: 167.0525857\ttest: 157.4182490\tbest: 157.4182490 (0)\ttotal: 14.9ms\tremaining: 4m 57s\n",
      "5000:\tlearn: 25.7000881\ttest: 65.5873692\tbest: 65.3159210 (4013)\ttotal: 1m 30s\tremaining: 4m 31s\n",
      "Stopped by overfitting detector  (2000 iterations wait)\n",
      "\n",
      "bestTest = 65.31592101\n",
      "bestIteration = 4013\n",
      "\n",
      "Shrink model to first 4014 iterations.\n",
      "FOLD MAE = 65.33082820653178\n",
      "0:\tlearn: 164.7501590\ttest: 190.4658740\tbest: 190.4658740 (0)\ttotal: 14.9ms\tremaining: 4m 57s\n",
      "Stopped by overfitting detector  (2000 iterations wait)\n",
      "\n",
      "bestTest = 70.6387878\n",
      "bestIteration = 2170\n",
      "\n",
      "Shrink model to first 2171 iterations.\n",
      "FOLD MAE = 70.65682406025815\n",
      "0:\tlearn: 165.4379457\ttest: 179.6444990\tbest: 179.6444990 (0)\ttotal: 14.7ms\tremaining: 4m 54s\n",
      "5000:\tlearn: 25.3998090\ttest: 72.7781082\tbest: 72.6292592 (4269)\ttotal: 1m 29s\tremaining: 4m 27s\n",
      "Stopped by overfitting detector  (2000 iterations wait)\n",
      "\n",
      "bestTest = 72.62925916\n",
      "bestIteration = 4269\n",
      "\n",
      "Shrink model to first 4270 iterations.\n",
      "FOLD MAE = 72.63749772585535\n",
      "0:\tlearn: 169.0632968\ttest: 127.8754990\tbest: 127.8754990 (0)\ttotal: 25.7ms\tremaining: 8m 33s\n",
      "5000:\tlearn: 26.1479385\ttest: 61.1402293\tbest: 61.0285494 (4524)\ttotal: 1m 29s\tremaining: 4m 28s\n",
      "Stopped by overfitting detector  (2000 iterations wait)\n",
      "\n",
      "bestTest = 61.02854942\n",
      "bestIteration = 4524\n",
      "\n",
      "Shrink model to first 4525 iterations.\n",
      "FOLD MAE = 61.066524446585255\n",
      "0:\tlearn: 167.1837679\ttest: 155.5958740\tbest: 155.5958740 (0)\ttotal: 10.6ms\tremaining: 3m 31s\n",
      "5000:\tlearn: 25.2991041\ttest: 78.9807467\tbest: 78.9675241 (4974)\ttotal: 1m 30s\tremaining: 4m 30s\n",
      "10000:\tlearn: 17.8391807\ttest: 77.7227161\tbest: 77.7095655 (9847)\ttotal: 2m 59s\tremaining: 2m 59s\n",
      "15000:\tlearn: 14.0017109\ttest: 77.4515726\tbest: 77.3705045 (14227)\ttotal: 4m 28s\tremaining: 1m 29s\n",
      "Stopped by overfitting detector  (2000 iterations wait)\n",
      "\n",
      "bestTest = 77.37050454\n",
      "bestIteration = 14227\n",
      "\n",
      "Shrink model to first 14228 iterations.\n",
      "FOLD MAE = 77.37238398588087\n",
      "0:\tlearn: 166.4096790\ttest: 166.3196240\tbest: 166.3196240 (0)\ttotal: 18.6ms\tremaining: 6m 11s\n",
      "5000:\tlearn: 26.0479660\ttest: 64.0968251\tbest: 63.9620055 (3715)\ttotal: 1m 27s\tremaining: 4m 23s\n",
      "Stopped by overfitting detector  (2000 iterations wait)\n",
      "\n",
      "bestTest = 63.96200552\n",
      "bestIteration = 3715\n",
      "\n",
      "Shrink model to first 3716 iterations.\n",
      "FOLD MAE = 63.96615741851254\n",
      "0:\tlearn: 164.9915724\ttest: 186.2079990\tbest: 186.2079990 (0)\ttotal: 14.2ms\tremaining: 4m 43s\n",
      "5000:\tlearn: 26.5750072\ttest: 60.7289941\tbest: 60.7251248 (4994)\ttotal: 1m 30s\tremaining: 4m 31s\n",
      "10000:\tlearn: 18.7603655\ttest: 60.3930686\tbest: 60.3317852 (9826)\ttotal: 3m 5s\tremaining: 3m 5s\n",
      "15000:\tlearn: 14.8602281\ttest: 60.2380188\tbest: 60.1465904 (14607)\ttotal: 4m 36s\tremaining: 1m 32s\n",
      "Stopped by overfitting detector  (2000 iterations wait)\n",
      "\n",
      "bestTest = 60.11934874\n",
      "bestIteration = 15513\n",
      "\n",
      "Shrink model to first 15514 iterations.\n",
      "FOLD MAE = 60.11936874569684\n",
      "0:\tlearn: 165.0971457\ttest: 183.7404990\tbest: 183.7404990 (0)\ttotal: 14.5ms\tremaining: 4m 49s\n",
      "Stopped by overfitting detector  (2000 iterations wait)\n",
      "\n",
      "bestTest = 70.44062284\n",
      "bestIteration = 2605\n",
      "\n",
      "Shrink model to first 2606 iterations.\n",
      "FOLD MAE = 70.445811660706\n",
      "0:\tlearn: 166.5598035\ttest: 163.4283740\tbest: 163.4283740 (0)\ttotal: 14.9ms\tremaining: 4m 58s\n",
      "Stopped by overfitting detector  (2000 iterations wait)\n",
      "\n",
      "bestTest = 69.56843881\n",
      "bestIteration = 1008\n",
      "\n",
      "Shrink model to first 1009 iterations.\n",
      "FOLD MAE = 69.57735196809763\n",
      "\n",
      "CatBoostRegressor MAE = 68.53938266386805\n"
     ]
    }
   ],
   "source": [
    "cb_pred_1 = np.zeros((target1.shape[0]))\n",
    "mae_list = []\n",
    "for tr_idx, val_idx in kf.split(X1):\n",
    "    tr_x, val_x = X1.iloc[tr_idx], X1.iloc[val_idx]\n",
    "    tr_y, val_y = y1.iloc[tr_idx], y1.iloc[val_idx]\n",
    "    train_data = Pool(data = tr_x, label = tr_y, cat_features = cat_features_ln)\n",
    "    val_data = Pool(data = val_x, label = val_y, cat_features = cat_features_ln)\n",
    "    cb.fit(train_data, eval_set = val_data, early_stopping_rounds = 2000, use_best_model = True, verbose = 5000)\n",
    "    best = cb.best_iteration_\n",
    "    pred = cb.predict(val_x, ntree_end = best)\n",
    "    mae = mean_absolute_error(val_y, pred)\n",
    "    mae_list.append(mae)\n",
    "    print(f'FOLD MAE = {mae}')\n",
    "    sub_pred = cb.predict(target1, ntree_end = best) / 15\n",
    "    cb_pred_1 += sub_pred\n",
    "print(f'\\n{cb.__class__.__name__} MAE = {np.mean(mae_list)}')"
   ]
  },
  {
   "cell_type": "code",
   "execution_count": 209,
   "metadata": {},
   "outputs": [
    {
     "data": {
      "text/plain": [
       "array([ 919.25151118,  857.93502697,  669.23096428, 1170.50308334,\n",
       "        994.77261409,  962.5292022 ,  936.43070213,  737.45427113,\n",
       "       1133.04358927,  997.13460567,  841.05901807, 1117.79066637,\n",
       "       1029.87796132, 1032.09191352,  905.42094884,  754.52913889,\n",
       "       1132.44974599, 1005.94970151,  997.53282729,  886.82685365,\n",
       "        729.09876016, 1088.89069223,  986.93572568,  899.35107126,\n",
       "        794.99387691, 1137.94367913, 1016.64146803, 1021.39282081,\n",
       "        879.80284407,  722.7981749 , 1162.48293546, 1046.2853879 ,\n",
       "        986.76676491,  894.18668413,  703.44972182, 1161.62500436,\n",
       "        988.57909222,  987.65642122,  875.31207636,  679.11081291,\n",
       "       1130.30868857,  973.29144495,  975.25822158,  820.48046082,\n",
       "        652.20012245, 1099.64602272,  924.26901474,  907.73213335,\n",
       "        800.21170019,  728.98018036])"
      ]
     },
     "execution_count": 209,
     "metadata": {},
     "output_type": "execute_result"
    }
   ],
   "source": [
    "cb_pred_1"
   ]
  },
  {
   "cell_type": "code",
   "execution_count": 210,
   "metadata": {},
   "outputs": [
    {
     "name": "stdout",
     "output_type": "stream",
     "text": [
      "0:\tlearn: 97.4875880\ttest: 100.7786410\tbest: 100.7786410 (0)\ttotal: 43.4ms\tremaining: 14m 28s\n",
      "Stopped by overfitting detector  (2000 iterations wait)\n",
      "\n",
      "bestTest = 57.50085577\n",
      "bestIteration = 2185\n",
      "\n",
      "Shrink model to first 2186 iterations.\n",
      "FOLD MAE = 57.5244297809956\n",
      "0:\tlearn: 97.8203994\ttest: 98.8667891\tbest: 98.8667891 (0)\ttotal: 16.5ms\tremaining: 5m 30s\n",
      "5000:\tlearn: 17.8533153\ttest: 58.1694286\tbest: 58.1309428 (4929)\ttotal: 1m 33s\tremaining: 4m 41s\n",
      "Stopped by overfitting detector  (2000 iterations wait)\n",
      "\n",
      "bestTest = 57.97470996\n",
      "bestIteration = 7484\n",
      "\n",
      "Shrink model to first 7485 iterations.\n",
      "FOLD MAE = 57.97543136896629\n",
      "0:\tlearn: 97.2959332\ttest: 104.1195052\tbest: 104.1195052 (0)\ttotal: 16.9ms\tremaining: 5m 37s\n",
      "5000:\tlearn: 18.2373766\ttest: 55.8808722\tbest: 55.8410039 (4672)\ttotal: 1m 33s\tremaining: 4m 41s\n",
      "Stopped by overfitting detector  (2000 iterations wait)\n",
      "\n",
      "bestTest = 55.50056771\n",
      "bestIteration = 7919\n",
      "\n",
      "Shrink model to first 7920 iterations.\n",
      "FOLD MAE = 55.505543865340755\n",
      "0:\tlearn: 97.5002481\ttest: 100.4095052\tbest: 100.4095052 (0)\ttotal: 21.5ms\tremaining: 7m 9s\n",
      "5000:\tlearn: 18.0990563\ttest: 45.3698766\tbest: 45.2210770 (3815)\ttotal: 1m 35s\tremaining: 4m 46s\n",
      "Stopped by overfitting detector  (2000 iterations wait)\n",
      "\n",
      "bestTest = 45.22107697\n",
      "bestIteration = 3815\n",
      "\n",
      "Shrink model to first 3816 iterations.\n",
      "FOLD MAE = 45.22159238368384\n",
      "0:\tlearn: 98.5094118\ttest: 89.1670360\tbest: 89.1670360 (0)\ttotal: 16ms\tremaining: 5m 20s\n",
      "Stopped by overfitting detector  (2000 iterations wait)\n",
      "\n",
      "bestTest = 46.93932616\n",
      "bestIteration = 1968\n",
      "\n",
      "Shrink model to first 1969 iterations.\n",
      "FOLD MAE = 46.941250461332565\n",
      "0:\tlearn: 98.3204790\ttest: 90.9724990\tbest: 90.9724990 (0)\ttotal: 16ms\tremaining: 5m 20s\n",
      "Stopped by overfitting detector  (2000 iterations wait)\n",
      "\n",
      "bestTest = 46.47658004\n",
      "bestIteration = 587\n",
      "\n",
      "Shrink model to first 588 iterations.\n",
      "FOLD MAE = 46.497023648012416\n",
      "0:\tlearn: 97.9193679\ttest: 96.4582490\tbest: 96.4582490 (0)\ttotal: 16.5ms\tremaining: 5m 29s\n",
      "5000:\tlearn: 17.7274764\ttest: 52.6864298\tbest: 52.6435767 (4710)\ttotal: 1m 34s\tremaining: 4m 42s\n",
      "Stopped by overfitting detector  (2000 iterations wait)\n",
      "\n",
      "bestTest = 52.57469187\n",
      "bestIteration = 6056\n",
      "\n",
      "Shrink model to first 6057 iterations.\n",
      "FOLD MAE = 52.576125815985904\n",
      "0:\tlearn: 98.4934301\ttest: 88.9654990\tbest: 88.9654990 (0)\ttotal: 25ms\tremaining: 8m 20s\n",
      "5000:\tlearn: 18.3874709\ttest: 52.1037169\tbest: 52.1037169 (5000)\ttotal: 1m 38s\tremaining: 4m 54s\n",
      "10000:\tlearn: 12.8801981\ttest: 51.7467735\tbest: 51.7467735 (10000)\ttotal: 3m 19s\tremaining: 3m 19s\n",
      "Stopped by overfitting detector  (2000 iterations wait)\n",
      "\n",
      "bestTest = 51.72909169\n",
      "bestIteration = 10030\n",
      "\n",
      "Shrink model to first 10031 iterations.\n",
      "FOLD MAE = 51.729284795995866\n",
      "0:\tlearn: 97.4169946\ttest: 104.2237490\tbest: 104.2237490 (0)\ttotal: 16.8ms\tremaining: 5m 35s\n",
      "5000:\tlearn: 18.1503386\ttest: 54.3178822\tbest: 54.1187999 (3883)\ttotal: 1m 33s\tremaining: 4m 41s\n",
      "Stopped by overfitting detector  (2000 iterations wait)\n",
      "\n",
      "bestTest = 54.11879986\n",
      "bestIteration = 3883\n",
      "\n",
      "Shrink model to first 3884 iterations.\n",
      "FOLD MAE = 54.14268391666021\n",
      "0:\tlearn: 98.2451012\ttest: 92.6547490\tbest: 92.6547490 (0)\ttotal: 14.7ms\tremaining: 4m 54s\n",
      "Stopped by overfitting detector  (2000 iterations wait)\n",
      "\n",
      "bestTest = 44.93699409\n",
      "bestIteration = 2092\n",
      "\n",
      "Shrink model to first 2093 iterations.\n",
      "FOLD MAE = 44.94197794833828\n",
      "0:\tlearn: 96.2723101\ttest: 120.6786240\tbest: 120.6786240 (0)\ttotal: 15.5ms\tremaining: 5m 9s\n",
      "5000:\tlearn: 17.8861688\ttest: 43.5956765\tbest: 43.5184171 (4593)\ttotal: 1m 34s\tremaining: 4m 43s\n",
      "Stopped by overfitting detector  (2000 iterations wait)\n",
      "\n",
      "bestTest = 43.51841712\n",
      "bestIteration = 4593\n",
      "\n",
      "Shrink model to first 4594 iterations.\n",
      "FOLD MAE = 43.52944332614529\n",
      "0:\tlearn: 97.6019635\ttest: 101.1346240\tbest: 101.1346240 (0)\ttotal: 14ms\tremaining: 4m 40s\n",
      "5000:\tlearn: 18.8515293\ttest: 46.7317097\tbest: 46.6313563 (3408)\ttotal: 1m 33s\tremaining: 4m 40s\n",
      "Stopped by overfitting detector  (2000 iterations wait)\n",
      "\n",
      "bestTest = 46.63135627\n",
      "bestIteration = 3408\n",
      "\n",
      "Shrink model to first 3409 iterations.\n",
      "FOLD MAE = 46.63406925099381\n",
      "0:\tlearn: 96.9104968\ttest: 110.7456240\tbest: 110.7456240 (0)\ttotal: 15ms\tremaining: 5m\n",
      "5000:\tlearn: 17.6074063\ttest: 53.0646879\tbest: 53.0266378 (4740)\ttotal: 1m 36s\tremaining: 4m 48s\n",
      "Stopped by overfitting detector  (2000 iterations wait)\n",
      "\n",
      "bestTest = 52.96139452\n",
      "bestIteration = 5446\n",
      "\n",
      "Shrink model to first 5447 iterations.\n",
      "FOLD MAE = 52.96220325645108\n",
      "0:\tlearn: 98.5000612\ttest: 88.7937490\tbest: 88.7937490 (0)\ttotal: 14.8ms\tremaining: 4m 55s\n",
      "5000:\tlearn: 18.5535755\ttest: 42.1029668\tbest: 42.0446582 (3178)\ttotal: 1m 35s\tremaining: 4m 44s\n",
      "10000:\tlearn: 12.1705882\ttest: 41.3684665\tbest: 41.3391626 (9103)\ttotal: 3m 9s\tremaining: 3m 9s\n",
      "Stopped by overfitting detector  (2000 iterations wait)\n",
      "\n",
      "bestTest = 41.33916262\n",
      "bestIteration = 9103\n",
      "\n",
      "Shrink model to first 9104 iterations.\n",
      "FOLD MAE = 41.340299910816974\n",
      "0:\tlearn: 99.0547990\ttest: 81.0926240\tbest: 81.0926240 (0)\ttotal: 16.8ms\tremaining: 5m 36s\n",
      "5000:\tlearn: 18.0612829\ttest: 37.6790846\tbest: 37.6273305 (4668)\ttotal: 1m 33s\tremaining: 4m 40s\n",
      "10000:\tlearn: 11.7654908\ttest: 37.3757944\tbest: 37.3624477 (9903)\ttotal: 3m 6s\tremaining: 3m 6s\n",
      "Stopped by overfitting detector  (2000 iterations wait)\n",
      "\n",
      "bestTest = 37.33342012\n",
      "bestIteration = 12187\n",
      "\n",
      "Shrink model to first 12188 iterations.\n",
      "FOLD MAE = 37.333579542517015\n",
      "\n",
      "CatBoostRegressor MAE = 48.99032928481572\n"
     ]
    }
   ],
   "source": [
    "cb_pred_2 = np.zeros((target2.shape[0]))\n",
    "mae_list = []\n",
    "for tr_idx, val_idx in kf.split(X2):\n",
    "    tr_x, val_x = X2.iloc[tr_idx], X2.iloc[val_idx]\n",
    "    tr_y, val_y = y2.iloc[tr_idx], y2.iloc[val_idx]\n",
    "    train_data = Pool(data = tr_x, label = tr_y, cat_features = cat_features_dn)\n",
    "    val_data = Pool(data = val_x, label = val_y, cat_features = cat_features_dn)\n",
    "    cb.fit(train_data, eval_set = val_data, early_stopping_rounds = 2000, use_best_model = True, verbose = 5000)\n",
    "    best = cb.best_iteration_\n",
    "    pred = cb.predict(val_x, ntree_end = best)\n",
    "    mae = mean_absolute_error(val_y, pred)\n",
    "    mae_list.append(mae)\n",
    "    print(f'FOLD MAE = {mae}')\n",
    "    sub_pred = cb.predict(target2, ntree_end = best) / 15\n",
    "    cb_pred_2 += sub_pred\n",
    "print(f'\\n{cb.__class__.__name__} MAE = {np.mean(mae_list)}')"
   ]
  },
  {
   "cell_type": "code",
   "execution_count": 211,
   "metadata": {},
   "outputs": [
    {
     "data": {
      "text/plain": [
       "array([368.58867846, 355.11684415, 280.09985238, 531.45936312,\n",
       "       497.19362501, 378.024407  , 468.12050403, 321.37619771,\n",
       "       476.37515411, 479.53517306, 273.08268587, 540.22155427,\n",
       "       499.3915647 , 447.43826201, 453.20050836, 335.7583254 ,\n",
       "       500.08043145, 533.52900175, 350.72517403, 440.32805772,\n",
       "       339.11813935, 530.98691351, 435.72402607, 399.69601085,\n",
       "       394.09178934, 516.88396507, 595.41074843, 395.33511924,\n",
       "       494.35676914, 302.4630303 , 539.36796181, 578.22409597,\n",
       "       371.88695646, 470.20171568, 277.72294587, 544.44725169,\n",
       "       518.68188919, 383.11482695, 431.25364902, 323.27274709,\n",
       "       562.09917047, 527.34563059, 345.66907414, 427.56286941,\n",
       "       280.19351492, 496.80081766, 493.07069767, 348.7449958 ,\n",
       "       421.2477771 , 337.20823615])"
      ]
     },
     "execution_count": 211,
     "metadata": {},
     "output_type": "execute_result"
    }
   ],
   "source": [
    "cb_pred_2"
   ]
  },
  {
   "cell_type": "code",
   "execution_count": 212,
   "metadata": {},
   "outputs": [],
   "source": [
    "X1 = train[['요일', 'year', 'quarter', 'week', 'day', 'Jung', 'Mal', '회사출근', '회사출근비율', '80%이상_출근', '85%이상_출근', '90%이상_출근', 'dow_chulgun_mean', \\\n",
    "            'weekly_num', 'wn_chulgun_mean', '회사출근_shift1', '야근_shift1', '야근_shift5', 'lunch_length', 'dinner_length', '연말연초', '전날_휴일여부', '다음날_휴일여부', 'lunch_score']]\n",
    "target1 = test[X1.columns]"
   ]
  },
  {
   "cell_type": "code",
   "execution_count": 213,
   "metadata": {},
   "outputs": [],
   "source": [
    "X2 = train[['요일', 'year', 'quarter', 'month', 'week', 'day', 'Cho', 'Jung', 'Mal', '회사출근', '회사출근비율', '80%이상_출근', '85%이상_출근', '90%이상_출근', 'dow_chulgun_mean', \\\n",
    "            'weekly_num', 'wn_chulgun_mean', '회사출근_shift1', '회사출근_shift5', '야근_shift1', '야근_shift5', 'lunch_length', 'dinner_length', '연말연초', '전날_휴일여부', '다음날_휴일여부', \\\n",
    "            'dinner_score']]\n",
    "y2 = train.석식계\n",
    "target2 = test[X2.columns]"
   ]
  },
  {
   "cell_type": "code",
   "execution_count": 214,
   "metadata": {},
   "outputs": [],
   "source": [
    "ngb = NGBRegressor(n_estimators = 20000, verbose = 0, random_state = 607)"
   ]
  },
  {
   "cell_type": "code",
   "execution_count": 215,
   "metadata": {},
   "outputs": [
    {
     "name": "stdout",
     "output_type": "stream",
     "text": [
      "FOLD MAE = 69.03205327859484\n",
      "FOLD MAE = 43.06773114860737\n",
      "FOLD MAE = 43.54401496328001\n",
      "FOLD MAE = 34.95588770217841\n",
      "FOLD MAE = 37.334892073953384\n",
      "FOLD MAE = 36.31457378284456\n",
      "FOLD MAE = 28.116759266005754\n",
      "FOLD MAE = 28.03442610881322\n",
      "FOLD MAE = 23.07404784510502\n",
      "FOLD MAE = 25.918165446690388\n",
      "FOLD MAE = 26.783588664477442\n",
      "FOLD MAE = 23.747681446171065\n",
      "FOLD MAE = 22.346794479320558\n",
      "FOLD MAE = 25.847484884476604\n",
      "FOLD MAE = 25.78578300371538\n",
      "\n",
      "NGBRegressor MAE = 32.926925606282275\n"
     ]
    }
   ],
   "source": [
    "ngb_pred_1 = np.zeros((target1.shape[0]))\n",
    "mae_list = []\n",
    "for tr_idx, val_idx in kf.split(X1):\n",
    "    tr_x, val_x = X1.iloc[tr_idx], X1.iloc[val_idx]\n",
    "    tr_y, val_y = y1.iloc[tr_idx], y1.iloc[val_idx]\n",
    "    ngb.fit(tr_x, tr_y, val_x, val_y, early_stopping_rounds = 2000)\n",
    "    pred = ngb.predict(val_x)\n",
    "    mae = mean_absolute_error(val_y, pred)\n",
    "    mae_list.append(mae)\n",
    "    print(f'FOLD MAE = {mae}')\n",
    "    sub_pred = ngb.predict(target1) / 15\n",
    "    ngb_pred_1 += sub_pred\n",
    "print(f'\\n{ngb.__class__.__name__} MAE = {np.mean(mae_list)}')"
   ]
  },
  {
   "cell_type": "code",
   "execution_count": 216,
   "metadata": {},
   "outputs": [
    {
     "data": {
      "text/plain": [
       "array([ 892.14304057,  888.36191476,  595.94780788, 1322.40166912,\n",
       "       1122.8169925 , 1068.38111848, 1068.89661174,  821.62729109,\n",
       "       1265.94212218, 1106.29211871,  999.14099311, 1188.05109989,\n",
       "       1087.26124365, 1143.51036693,  986.32521912,  818.0085462 ,\n",
       "       1151.33628135, 1045.0856349 , 1026.04318298,  936.28267099,\n",
       "        730.09836219, 1310.07941246, 1122.22939924, 1018.4749922 ,\n",
       "        965.95817261, 1207.30480241, 1112.24564006, 1112.01346351,\n",
       "        937.83664306,  766.17219088, 1276.60663881, 1152.62430827,\n",
       "       1062.13524101,  902.97280798,  686.49692759, 1190.08595255,\n",
       "       1036.43267632, 1018.66188686,  882.5151391 ,  601.15908248,\n",
       "       1097.59901865,  950.7677613 ,  971.36969259,  909.71522267,\n",
       "        666.12473514, 1235.7149477 , 1002.82725573,  969.72512013,\n",
       "        870.45392548,  786.19943589])"
      ]
     },
     "execution_count": 216,
     "metadata": {},
     "output_type": "execute_result"
    }
   ],
   "source": [
    "ngb_pred_1"
   ]
  },
  {
   "cell_type": "code",
   "execution_count": 217,
   "metadata": {},
   "outputs": [
    {
     "name": "stdout",
     "output_type": "stream",
     "text": [
      "FOLD MAE = 58.863003074523476\n",
      "FOLD MAE = 38.4536825515627\n",
      "FOLD MAE = 23.966037992433023\n",
      "FOLD MAE = 25.255650686238187\n",
      "FOLD MAE = 17.936823787391063\n",
      "FOLD MAE = 20.8082450767423\n",
      "FOLD MAE = 20.788358838276668\n",
      "FOLD MAE = 17.146084547332425\n",
      "FOLD MAE = 15.672220501180727\n",
      "FOLD MAE = 14.884657338100505\n",
      "FOLD MAE = 16.28209202349997\n",
      "FOLD MAE = 12.843794644386781\n",
      "FOLD MAE = 11.546264079091024\n",
      "FOLD MAE = 12.344335225338218\n",
      "FOLD MAE = 11.97962040690995\n",
      "\n",
      "NGBRegressor MAE = 21.251391384867134\n"
     ]
    }
   ],
   "source": [
    "ngb_pred_2 = np.zeros((target2.shape[0]))\n",
    "mae_list = []\n",
    "for tr_idx, val_idx in kf.split(X2):\n",
    "    tr_x, val_x = X2.iloc[tr_idx], X2.iloc[val_idx]\n",
    "    tr_y, val_y = y2.iloc[tr_idx], y2.iloc[val_idx]\n",
    "    ngb.fit(tr_x, tr_y, val_x, val_y, early_stopping_rounds = 2000)\n",
    "    pred = ngb.predict(val_x)\n",
    "    mae = mean_absolute_error(val_y, pred)\n",
    "    mae_list.append(mae)\n",
    "    print(f'FOLD MAE = {mae}')\n",
    "    sub_pred = ngb.predict(target2) / 15\n",
    "    ngb_pred_2 += sub_pred\n",
    "print(f'\\n{ngb.__class__.__name__} MAE = {np.mean(mae_list)}')"
   ]
  },
  {
   "cell_type": "code",
   "execution_count": 218,
   "metadata": {},
   "outputs": [
    {
     "data": {
      "text/plain": [
       "array([517.93571113, 405.61823901, 344.1633838 , 512.4286874 ,\n",
       "       430.50289847, 408.20507199, 477.95585489, 399.93570499,\n",
       "       522.57854343, 508.72336394, 363.91624815, 610.37175685,\n",
       "       598.65599339, 478.80684622, 514.49587204, 388.51995855,\n",
       "       727.1988018 , 798.58232582, 528.86031298, 630.98326832,\n",
       "       469.87469805, 608.30133049, 540.34931167, 607.95113709,\n",
       "       483.10870708, 591.03116243, 756.25723089, 634.97789681,\n",
       "       576.07205403, 462.22307684, 697.89561691, 704.77802478,\n",
       "       485.36103278, 521.89441351, 393.90766346, 728.90028423,\n",
       "       717.06882342, 533.1351831 , 598.77103591, 320.95270415,\n",
       "       724.42601688, 725.90702773, 439.18743308, 470.48569902,\n",
       "       284.6880385 , 516.41676524, 509.52786338, 359.82407569,\n",
       "       477.23331501, 385.80313168])"
      ]
     },
     "execution_count": 218,
     "metadata": {},
     "output_type": "execute_result"
    }
   ],
   "source": [
    "ngb_pred_2"
   ]
  },
  {
   "cell_type": "code",
   "execution_count": 219,
   "metadata": {},
   "outputs": [],
   "source": [
    "lgbm = LGBMRegressor(random_state = 607, max_depth = 8, n_estimators = 20000, learning_rate = .01)"
   ]
  },
  {
   "cell_type": "code",
   "execution_count": 220,
   "metadata": {},
   "outputs": [],
   "source": [
    "X1 = X1.values\n",
    "X2 = X2.values"
   ]
  },
  {
   "cell_type": "code",
   "execution_count": 221,
   "metadata": {},
   "outputs": [
    {
     "name": "stdout",
     "output_type": "stream",
     "text": [
      "Training until validation scores don't improve for 2000 rounds\n",
      "[2000]\ttraining's l1: 20.6704\ttraining's l2: 748.239\tvalid_1's l1: 63.3486\tvalid_1's l2: 7427.79\n",
      "Early stopping, best iteration is:\n",
      "[294]\ttraining's l1: 54.5096\ttraining's l2: 5232.6\tvalid_1's l1: 59.0126\tvalid_1's l2: 6384.34\n",
      "FOLD MAE = 59.01255747859167\n",
      "Training until validation scores don't improve for 2000 rounds\n",
      "[2000]\ttraining's l1: 21.2435\ttraining's l2: 773.778\tvalid_1's l1: 64.5469\tvalid_1's l2: 7004.47\n",
      "Early stopping, best iteration is:\n",
      "[1117]\ttraining's l1: 31.0011\ttraining's l2: 1648.91\tvalid_1's l1: 64.0285\tvalid_1's l2: 6825.47\n",
      "FOLD MAE = 64.02845010704328\n",
      "Training until validation scores don't improve for 2000 rounds\n",
      "[2000]\ttraining's l1: 19.7751\ttraining's l2: 707.976\tvalid_1's l1: 90.0469\tvalid_1's l2: 13487.8\n",
      "Early stopping, best iteration is:\n",
      "[1347]\ttraining's l1: 27.1139\ttraining's l2: 1315.54\tvalid_1's l1: 90.3573\tvalid_1's l2: 13439.1\n",
      "FOLD MAE = 90.35728716167921\n",
      "Training until validation scores don't improve for 2000 rounds\n",
      "[2000]\ttraining's l1: 19.7797\ttraining's l2: 686.986\tvalid_1's l1: 66.3594\tvalid_1's l2: 7951.92\n",
      "Early stopping, best iteration is:\n",
      "[364]\ttraining's l1: 48.5879\ttraining's l2: 4224.27\tvalid_1's l1: 63.3819\tvalid_1's l2: 7285.64\n",
      "FOLD MAE = 63.38186308611128\n",
      "Training until validation scores don't improve for 2000 rounds\n",
      "[2000]\ttraining's l1: 19.8078\ttraining's l2: 693.136\tvalid_1's l1: 71.1877\tvalid_1's l2: 9381.91\n",
      "Early stopping, best iteration is:\n",
      "[1315]\ttraining's l1: 27.4844\ttraining's l2: 1339.57\tvalid_1's l1: 70.1224\tvalid_1's l2: 9299.77\n",
      "FOLD MAE = 70.12238268740055\n",
      "Training until validation scores don't improve for 2000 rounds\n",
      "[2000]\ttraining's l1: 20.1942\ttraining's l2: 716.535\tvalid_1's l1: 75.0004\tvalid_1's l2: 9846.18\n",
      "Early stopping, best iteration is:\n",
      "[947]\ttraining's l1: 32.4016\ttraining's l2: 1887.48\tvalid_1's l1: 73.1763\tvalid_1's l2: 9846.1\n",
      "FOLD MAE = 73.17627874557809\n",
      "Training until validation scores don't improve for 2000 rounds\n",
      "[2000]\ttraining's l1: 20.8624\ttraining's l2: 777.455\tvalid_1's l1: 63.5114\tvalid_1's l2: 7061.34\n",
      "Early stopping, best iteration is:\n",
      "[515]\ttraining's l1: 42.3536\ttraining's l2: 3224.55\tvalid_1's l1: 61.0305\tvalid_1's l2: 6681.58\n",
      "FOLD MAE = 61.03046073092762\n",
      "Training until validation scores don't improve for 2000 rounds\n",
      "[2000]\ttraining's l1: 19.8298\ttraining's l2: 694\tvalid_1's l1: 70.2677\tvalid_1's l2: 8159.03\n",
      "Early stopping, best iteration is:\n",
      "[1483]\ttraining's l1: 25.1137\ttraining's l2: 1119.37\tvalid_1's l1: 69.8886\tvalid_1's l2: 8056.68\n",
      "FOLD MAE = 69.88857240070611\n",
      "Training until validation scores don't improve for 2000 rounds\n",
      "[2000]\ttraining's l1: 21.0855\ttraining's l2: 787.522\tvalid_1's l1: 74.5884\tvalid_1's l2: 9598.61\n",
      "Early stopping, best iteration is:\n",
      "[1978]\ttraining's l1: 21.2582\ttraining's l2: 801.198\tvalid_1's l1: 74.5478\tvalid_1's l2: 9583.93\n",
      "FOLD MAE = 74.54782588366758\n",
      "Training until validation scores don't improve for 2000 rounds\n",
      "[2000]\ttraining's l1: 20.4464\ttraining's l2: 738.124\tvalid_1's l1: 63.5074\tvalid_1's l2: 6762.27\n",
      "Early stopping, best iteration is:\n",
      "[941]\ttraining's l1: 33.9883\ttraining's l2: 2065.6\tvalid_1's l1: 62.8042\tvalid_1's l2: 6513.21\n",
      "FOLD MAE = 62.80421214741921\n",
      "Training until validation scores don't improve for 2000 rounds\n",
      "[2000]\ttraining's l1: 19.0665\ttraining's l2: 638.387\tvalid_1's l1: 88.7833\tvalid_1's l2: 14191.9\n",
      "Early stopping, best iteration is:\n",
      "[1182]\ttraining's l1: 27.8889\ttraining's l2: 1367.21\tvalid_1's l1: 87.6373\tvalid_1's l2: 14259.2\n",
      "FOLD MAE = 87.63731897719198\n",
      "Training until validation scores don't improve for 2000 rounds\n",
      "[2000]\ttraining's l1: 21.3652\ttraining's l2: 792.627\tvalid_1's l1: 64.3626\tvalid_1's l2: 7201.25\n",
      "Early stopping, best iteration is:\n",
      "[523]\ttraining's l1: 42.1104\ttraining's l2: 3196.68\tvalid_1's l1: 63.0391\tvalid_1's l2: 6630.68\n",
      "FOLD MAE = 63.03907547039942\n",
      "Training until validation scores don't improve for 2000 rounds\n",
      "[2000]\ttraining's l1: 20.5514\ttraining's l2: 757.365\tvalid_1's l1: 63.5001\tvalid_1's l2: 6080.46\n",
      "Early stopping, best iteration is:\n",
      "[603]\ttraining's l1: 40.7229\ttraining's l2: 3019.13\tvalid_1's l1: 62.7906\tvalid_1's l2: 5938.53\n",
      "FOLD MAE = 62.790631103456846\n",
      "Training until validation scores don't improve for 2000 rounds\n",
      "[2000]\ttraining's l1: 20.5873\ttraining's l2: 740.504\tvalid_1's l1: 69.0439\tvalid_1's l2: 8529.19\n",
      "Early stopping, best iteration is:\n",
      "[973]\ttraining's l1: 32.6223\ttraining's l2: 1899.09\tvalid_1's l1: 68.4627\tvalid_1's l2: 8513.53\n",
      "FOLD MAE = 68.46274103587646\n",
      "Training until validation scores don't improve for 2000 rounds\n",
      "[2000]\ttraining's l1: 20.0017\ttraining's l2: 710.697\tvalid_1's l1: 68.7256\tvalid_1's l2: 7358.03\n",
      "Early stopping, best iteration is:\n",
      "[1001]\ttraining's l1: 31.6237\ttraining's l2: 1801.55\tvalid_1's l1: 65.6954\tvalid_1's l2: 6796.99\n",
      "FOLD MAE = 65.69535548722996\n",
      "\n",
      "LGBMRegressor MAE = 69.06500083355195\n"
     ]
    }
   ],
   "source": [
    "lgbm_pred_1 = np.zeros((target1.shape[0]))\n",
    "mae_list = []\n",
    "for tr_idx, val_idx in kf.split(X1):\n",
    "    tr_x, val_x = X1[tr_idx], X1[val_idx]\n",
    "    tr_y, val_y = y1[tr_idx], y1[val_idx]\n",
    "    lgbm.fit(tr_x, tr_y, eval_set = [(tr_x, tr_y), (val_x, val_y)], eval_metric = 'mean_absolute_error', early_stopping_rounds = 2000, verbose = 2000)\n",
    "    pred = lgbm.predict(val_x)\n",
    "    mae = mean_absolute_error(val_y, pred)\n",
    "    mae_list.append(mae)\n",
    "    print(f'FOLD MAE = {mae}')\n",
    "    sub_pred = lgbm.predict(target1) / 15\n",
    "    lgbm_pred_1 += sub_pred\n",
    "print(f'\\n{lgbm.__class__.__name__} MAE = {np.mean(mae_list)}')"
   ]
  },
  {
   "cell_type": "code",
   "execution_count": 222,
   "metadata": {},
   "outputs": [
    {
     "data": {
      "text/plain": [
       "array([ 918.20717639,  907.39289421,  648.08188845, 1232.63158164,\n",
       "       1037.33071991,  981.9895407 ,  980.2782133 ,  753.22031749,\n",
       "       1219.45974915, 1070.97763463,  829.42472943, 1242.41435582,\n",
       "       1101.32718153, 1112.57428623,  982.3421888 ,  788.0006653 ,\n",
       "       1178.990098  , 1088.08033378, 1055.72890587,  951.30339602,\n",
       "        732.97118093, 1153.01261444, 1034.76574879,  944.00981827,\n",
       "        779.89387447, 1237.68731938, 1010.34938533, 1016.89471689,\n",
       "        963.90993504,  706.62844437, 1244.42234668, 1107.28757515,\n",
       "       1059.89764128,  970.12017899,  678.74089315, 1227.21849871,\n",
       "       1079.51611081, 1042.57723863,  920.38359806,  622.95060848,\n",
       "       1181.20911365, 1031.47305725, 1008.40195712,  858.57432767,\n",
       "        637.47811573, 1214.23545629,  983.88176913,  962.55052331,\n",
       "        846.17766536,  794.47853996])"
      ]
     },
     "execution_count": 222,
     "metadata": {},
     "output_type": "execute_result"
    }
   ],
   "source": [
    "lgbm_pred_1"
   ]
  },
  {
   "cell_type": "code",
   "execution_count": 223,
   "metadata": {},
   "outputs": [
    {
     "name": "stdout",
     "output_type": "stream",
     "text": [
      "Training until validation scores don't improve for 2000 rounds\n",
      "[2000]\ttraining's l1: 14.3795\ttraining's l2: 392.673\tvalid_1's l1: 57.1035\tvalid_1's l2: 6237.01\n",
      "Early stopping, best iteration is:\n",
      "[1235]\ttraining's l1: 20.5537\ttraining's l2: 811.755\tvalid_1's l1: 56.5818\tvalid_1's l2: 6062.01\n",
      "FOLD MAE = 56.58176350226551\n",
      "Training until validation scores don't improve for 2000 rounds\n",
      "[2000]\ttraining's l1: 14.6346\ttraining's l2: 364.648\tvalid_1's l1: 54.2642\tvalid_1's l2: 7821.57\n",
      "Early stopping, best iteration is:\n",
      "[684]\ttraining's l1: 27.8145\ttraining's l2: 1402.45\tvalid_1's l1: 53.864\tvalid_1's l2: 7751.27\n",
      "FOLD MAE = 53.864036486375376\n",
      "Training until validation scores don't improve for 2000 rounds\n",
      "[2000]\ttraining's l1: 14.0575\ttraining's l2: 374.33\tvalid_1's l1: 55.8096\tvalid_1's l2: 5853.91\n",
      "Early stopping, best iteration is:\n",
      "[1087]\ttraining's l1: 22.2377\ttraining's l2: 935.589\tvalid_1's l1: 55.606\tvalid_1's l2: 5694.73\n",
      "FOLD MAE = 55.60603865142648\n",
      "Training until validation scores don't improve for 2000 rounds\n",
      "[2000]\ttraining's l1: 14.5093\ttraining's l2: 396.813\tvalid_1's l1: 48.4752\tvalid_1's l2: 4124.38\n",
      "Early stopping, best iteration is:\n",
      "[640]\ttraining's l1: 29.7611\ttraining's l2: 1712.73\tvalid_1's l1: 48.3361\tvalid_1's l2: 4386.6\n",
      "FOLD MAE = 48.33613289854926\n",
      "Training until validation scores don't improve for 2000 rounds\n",
      "[2000]\ttraining's l1: 14.0769\ttraining's l2: 376\tvalid_1's l1: 52.691\tvalid_1's l2: 5510.16\n",
      "Early stopping, best iteration is:\n",
      "[305]\ttraining's l1: 37.9208\ttraining's l2: 2724.31\tvalid_1's l1: 51.0635\tvalid_1's l2: 4977.33\n",
      "FOLD MAE = 51.063530192403704\n",
      "Training until validation scores don't improve for 2000 rounds\n",
      "[2000]\ttraining's l1: 13.885\ttraining's l2: 373.729\tvalid_1's l1: 44.9494\tvalid_1's l2: 3232.86\n",
      "Early stopping, best iteration is:\n",
      "[326]\ttraining's l1: 37.4675\ttraining's l2: 2695.96\tvalid_1's l1: 42.2047\tvalid_1's l2: 2941.02\n",
      "FOLD MAE = 42.204738152447476\n",
      "Training until validation scores don't improve for 2000 rounds\n",
      "[2000]\ttraining's l1: 12.9077\ttraining's l2: 318.45\tvalid_1's l1: 53.3545\tvalid_1's l2: 5289.07\n",
      "Early stopping, best iteration is:\n",
      "[722]\ttraining's l1: 26.7839\ttraining's l2: 1390.66\tvalid_1's l1: 52.8333\tvalid_1's l2: 5303.28\n",
      "FOLD MAE = 52.833253777259756\n",
      "Training until validation scores don't improve for 2000 rounds\n",
      "[2000]\ttraining's l1: 13.9981\ttraining's l2: 376.179\tvalid_1's l1: 51.5489\tvalid_1's l2: 4190.64\n",
      "[4000]\ttraining's l1: 5.72148\ttraining's l2: 64.1659\tvalid_1's l1: 51.2496\tvalid_1's l2: 4112.94\n",
      "[6000]\ttraining's l1: 2.67833\ttraining's l2: 14.8766\tvalid_1's l1: 50.9381\tvalid_1's l2: 4065\n",
      "[8000]\ttraining's l1: 1.27868\ttraining's l2: 3.70172\tvalid_1's l1: 50.8992\tvalid_1's l2: 4056.84\n",
      "Early stopping, best iteration is:\n",
      "[7172]\ttraining's l1: 1.76703\ttraining's l2: 6.72677\tvalid_1's l1: 50.8902\tvalid_1's l2: 4055.54\n",
      "FOLD MAE = 50.8902399136187\n",
      "Training until validation scores don't improve for 2000 rounds\n",
      "[2000]\ttraining's l1: 13.3034\ttraining's l2: 344.18\tvalid_1's l1: 53.8369\tvalid_1's l2: 6043.58\n",
      "Early stopping, best iteration is:\n",
      "[574]\ttraining's l1: 30.1857\ttraining's l2: 1764.97\tvalid_1's l1: 53.9138\tvalid_1's l2: 5715.55\n",
      "FOLD MAE = 53.91381718372641\n",
      "Training until validation scores don't improve for 2000 rounds\n",
      "[2000]\ttraining's l1: 14.0422\ttraining's l2: 377.351\tvalid_1's l1: 48.724\tvalid_1's l2: 5462.44\n",
      "Early stopping, best iteration is:\n",
      "[1092]\ttraining's l1: 22.5563\ttraining's l2: 970.422\tvalid_1's l1: 48.027\tvalid_1's l2: 5352.73\n",
      "FOLD MAE = 48.02702277671836\n",
      "Training until validation scores don't improve for 2000 rounds\n",
      "[2000]\ttraining's l1: 14.3645\ttraining's l2: 396.9\tvalid_1's l1: 49.2104\tvalid_1's l2: 5263.28\n",
      "Early stopping, best iteration is:\n",
      "[551]\ttraining's l1: 31.6746\ttraining's l2: 1890.3\tvalid_1's l1: 45.7228\tvalid_1's l2: 5286.62\n",
      "FOLD MAE = 45.72282964160436\n",
      "Training until validation scores don't improve for 2000 rounds\n",
      "[2000]\ttraining's l1: 14.8576\ttraining's l2: 426.964\tvalid_1's l1: 49.311\tvalid_1's l2: 4468.91\n",
      "Early stopping, best iteration is:\n",
      "[915]\ttraining's l1: 24.9416\ttraining's l2: 1200.91\tvalid_1's l1: 49.2606\tvalid_1's l2: 4398.79\n",
      "FOLD MAE = 49.260558479484295\n",
      "Training until validation scores don't improve for 2000 rounds\n",
      "[2000]\ttraining's l1: 13.9233\ttraining's l2: 378.315\tvalid_1's l1: 47.2693\tvalid_1's l2: 3924.95\n",
      "Early stopping, best iteration is:\n",
      "[1000]\ttraining's l1: 23.4713\ttraining's l2: 1064.82\tvalid_1's l1: 46.6991\tvalid_1's l2: 3737.6\n",
      "FOLD MAE = 46.6990784438713\n",
      "Training until validation scores don't improve for 2000 rounds\n",
      "[2000]\ttraining's l1: 14.7304\ttraining's l2: 405.37\tvalid_1's l1: 42.7562\tvalid_1's l2: 2982.01\n",
      "Early stopping, best iteration is:\n",
      "[790]\ttraining's l1: 27.4692\ttraining's l2: 1404.41\tvalid_1's l1: 41.0217\tvalid_1's l2: 2835.96\n",
      "FOLD MAE = 41.021715317794246\n",
      "Training until validation scores don't improve for 2000 rounds\n",
      "[2000]\ttraining's l1: 14.234\ttraining's l2: 378.05\tvalid_1's l1: 41.3496\tvalid_1's l2: 2681.85\n",
      "Early stopping, best iteration is:\n",
      "[716]\ttraining's l1: 28.2623\ttraining's l2: 1526.26\tvalid_1's l1: 39.743\tvalid_1's l2: 2496.78\n",
      "FOLD MAE = 39.743035289897826\n",
      "\n",
      "LGBMRegressor MAE = 49.05118604716287\n"
     ]
    }
   ],
   "source": [
    "lgbm_pred_2 = np.zeros((target1.shape[0]))\n",
    "mae_list = []\n",
    "for tr_idx, val_idx in kf.split(X2):\n",
    "    tr_x, val_x = X2[tr_idx], X2[val_idx]\n",
    "    tr_y, val_y = y2[tr_idx], y2[val_idx]\n",
    "    \n",
    "    lgbm.fit(tr_x, tr_y, eval_set = [(tr_x, tr_y), (val_x, val_y)], eval_metric = 'mean_absolute_error', early_stopping_rounds = 2000, verbose = 2000)\n",
    "    pred = lgbm.predict(val_x)\n",
    "    mae = mean_absolute_error(val_y, pred)\n",
    "    print(f'FOLD MAE = {mae}')\n",
    "    mae_list.append(mae)\n",
    "    sub_pred = lgbm.predict(target2) / 15\n",
    "    lgbm_pred_2 += sub_pred\n",
    "print(f'\\n{lgbm.__class__.__name__} MAE = {np.mean(mae_list)}')"
   ]
  },
  {
   "cell_type": "code",
   "execution_count": 224,
   "metadata": {},
   "outputs": [
    {
     "data": {
      "text/plain": [
       "array([395.60460134, 386.67851921, 273.09250913, 480.47107603,\n",
       "       444.86906491, 385.91349386, 434.21456123, 312.22137483,\n",
       "       473.18481468, 447.52207107, 273.63997262, 548.14247911,\n",
       "       542.18760145, 578.10227539, 531.08190166, 353.46854345,\n",
       "       542.77856621, 603.88774768, 426.82106516, 510.45814348,\n",
       "       332.5734168 , 572.81651358, 498.26157194, 420.22764937,\n",
       "       424.25648182, 550.38599832, 561.65409358, 460.28926961,\n",
       "       504.57718875, 333.49489137, 592.09450448, 588.18449828,\n",
       "       427.57889968, 542.26732947, 297.82626767, 600.5145687 ,\n",
       "       591.93773862, 427.49157205, 468.97866331, 305.24479329,\n",
       "       620.93215515, 586.36880494, 395.16220232, 442.60395529,\n",
       "       279.45238576, 515.22525603, 548.83945467, 409.13957711,\n",
       "       443.55644041, 391.87285278])"
      ]
     },
     "execution_count": 224,
     "metadata": {},
     "output_type": "execute_result"
    }
   ],
   "source": [
    "lgbm_pred_2"
   ]
  },
  {
   "cell_type": "code",
   "execution_count": 243,
   "metadata": {},
   "outputs": [],
   "source": [
    "submission['중식계'] = (0.5*ngb_pred_1 + 0.5*lgbm_pred_1)\n",
    "submission['석식계'] = (0.5*ngb_pred_2 + 0.5*lgbm_pred_2)"
   ]
  },
  {
   "cell_type": "code",
   "execution_count": 244,
   "metadata": {},
   "outputs": [
    {
     "data": {
      "text/plain": [
       "(50086.45678100573, 26494.749597000646)"
      ]
     },
     "execution_count": 244,
     "metadata": {},
     "output_type": "execute_result"
    }
   ],
   "source": [
    "ngb_pred_1.sum(), ngb_pred_2.sum()"
   ]
  },
  {
   "cell_type": "code",
   "execution_count": 245,
   "metadata": {},
   "outputs": [
    {
     "data": {
      "text/plain": [
       "(49131.45410997545, 23078.14937767472)"
      ]
     },
     "execution_count": 245,
     "metadata": {},
     "output_type": "execute_result"
    }
   ],
   "source": [
    "lgbm_pred_1.sum(), lgbm_pred_2.sum()"
   ]
  },
  {
   "cell_type": "code",
   "execution_count": 246,
   "metadata": {},
   "outputs": [
    {
     "data": {
      "text/plain": [
       "(46857.49634989186, 21611.82869955813)"
      ]
     },
     "execution_count": 246,
     "metadata": {},
     "output_type": "execute_result"
    }
   ],
   "source": [
    "cb_pred_1.sum(), cb_pred_2.sum()"
   ]
  },
  {
   "cell_type": "code",
   "execution_count": 247,
   "metadata": {},
   "outputs": [],
   "source": [
    "import datetime\n",
    "subtime = datetime.datetime.now().strftime('%Y-%m-%d %H-%M-%S')"
   ]
  },
  {
   "cell_type": "code",
   "execution_count": 248,
   "metadata": {},
   "outputs": [
    {
     "data": {
      "text/html": [
       "<div>\n",
       "<style scoped>\n",
       "    .dataframe tbody tr th:only-of-type {\n",
       "        vertical-align: middle;\n",
       "    }\n",
       "\n",
       "    .dataframe tbody tr th {\n",
       "        vertical-align: top;\n",
       "    }\n",
       "\n",
       "    .dataframe thead th {\n",
       "        text-align: right;\n",
       "    }\n",
       "</style>\n",
       "<table border=\"1\" class=\"dataframe\">\n",
       "  <thead>\n",
       "    <tr style=\"text-align: right;\">\n",
       "      <th></th>\n",
       "      <th>일자</th>\n",
       "      <th>중식계</th>\n",
       "      <th>석식계</th>\n",
       "    </tr>\n",
       "  </thead>\n",
       "  <tbody>\n",
       "    <tr>\n",
       "      <th>0</th>\n",
       "      <td>2021-01-27</td>\n",
       "      <td>905.175108</td>\n",
       "      <td>456.770156</td>\n",
       "    </tr>\n",
       "    <tr>\n",
       "      <th>1</th>\n",
       "      <td>2021-01-28</td>\n",
       "      <td>897.877404</td>\n",
       "      <td>396.148379</td>\n",
       "    </tr>\n",
       "    <tr>\n",
       "      <th>2</th>\n",
       "      <td>2021-01-29</td>\n",
       "      <td>622.014848</td>\n",
       "      <td>308.627946</td>\n",
       "    </tr>\n",
       "    <tr>\n",
       "      <th>3</th>\n",
       "      <td>2021-02-01</td>\n",
       "      <td>1277.516625</td>\n",
       "      <td>496.449882</td>\n",
       "    </tr>\n",
       "    <tr>\n",
       "      <th>4</th>\n",
       "      <td>2021-02-02</td>\n",
       "      <td>1080.073856</td>\n",
       "      <td>437.685982</td>\n",
       "    </tr>\n",
       "  </tbody>\n",
       "</table>\n",
       "</div>"
      ],
      "text/plain": [
       "           일자          중식계         석식계\n",
       "0  2021-01-27   905.175108  456.770156\n",
       "1  2021-01-28   897.877404  396.148379\n",
       "2  2021-01-29   622.014848  308.627946\n",
       "3  2021-02-01  1277.516625  496.449882\n",
       "4  2021-02-02  1080.073856  437.685982"
      ]
     },
     "execution_count": 248,
     "metadata": {},
     "output_type": "execute_result"
    }
   ],
   "source": [
    "submission.head()"
   ]
  },
  {
   "cell_type": "code",
   "execution_count": 252,
   "metadata": {},
   "outputs": [
    {
     "data": {
      "text/plain": [
       "49608.955445490596"
      ]
     },
     "execution_count": 252,
     "metadata": {},
     "output_type": "execute_result"
    }
   ],
   "source": [
    "# 49482.43247838575\n",
    "submission.중식계.sum()"
   ]
  },
  {
   "cell_type": "code",
   "execution_count": 253,
   "metadata": {},
   "outputs": [
    {
     "data": {
      "text/plain": [
       "24786.449487337683"
      ]
     },
     "execution_count": 253,
     "metadata": {},
     "output_type": "execute_result"
    }
   ],
   "source": [
    "# 24917.377231011906 \n",
    "submission.석식계.sum()"
   ]
  },
  {
   "cell_type": "code",
   "execution_count": 251,
   "metadata": {},
   "outputs": [],
   "source": [
    "submission.to_csv(f'{subtime}.csv', index = False)"
   ]
  },
  {
   "cell_type": "code",
   "execution_count": null,
   "metadata": {},
   "outputs": [],
   "source": []
  },
  {
   "cell_type": "code",
   "execution_count": null,
   "metadata": {},
   "outputs": [],
   "source": []
  },
  {
   "cell_type": "code",
   "execution_count": null,
   "metadata": {},
   "outputs": [],
   "source": []
  }
 ],
 "metadata": {
  "kernelspec": {
   "display_name": "Python 3",
   "language": "python",
   "name": "python3"
  },
  "language_info": {
   "codemirror_mode": {
    "name": "ipython",
    "version": 3
   },
   "file_extension": ".py",
   "mimetype": "text/x-python",
   "name": "python",
   "nbconvert_exporter": "python",
   "pygments_lexer": "ipython3",
   "version": "3.8.5"
  },
  "varInspector": {
   "cols": {
    "lenName": 16,
    "lenType": 16,
    "lenVar": 40
   },
   "kernels_config": {
    "python": {
     "delete_cmd_postfix": "",
     "delete_cmd_prefix": "del ",
     "library": "var_list.py",
     "varRefreshCmd": "print(var_dic_list())"
    },
    "r": {
     "delete_cmd_postfix": ") ",
     "delete_cmd_prefix": "rm(",
     "library": "var_list.r",
     "varRefreshCmd": "cat(var_dic_list()) "
    }
   },
   "types_to_exclude": [
    "module",
    "function",
    "builtin_function_or_method",
    "instance",
    "_Feature"
   ],
   "window_display": false
  }
 },
 "nbformat": 4,
 "nbformat_minor": 4
}
