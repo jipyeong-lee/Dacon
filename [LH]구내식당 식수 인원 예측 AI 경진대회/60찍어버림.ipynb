{
 "cells": [
  {
   "cell_type": "code",
   "execution_count": 1,
   "metadata": {},
   "outputs": [],
   "source": [
    "import pandas as pd\n",
    "import numpy as np\n",
    "import warnings\n",
    "warnings.filterwarnings('ignore')\n",
    "from konlpy.tag import Mecab\n",
    "from datetime import datetime, timedelta\n",
    "import matplotlib.pyplot as plt\n",
    "import seaborn as sns\n",
    "%matplotlib inline\n",
    "import matplotlib.font_manager as fm\n",
    "plt.rc('font', family=fm.FontProperties(fname=\"c:/Windows/Fonts/malgun.ttf\").get_name())\n",
    "from tqdm import tqdm"
   ]
  },
  {
   "cell_type": "code",
   "execution_count": 2,
   "metadata": {},
   "outputs": [],
   "source": [
    "train = pd.read_csv('../input/train.csv')\n",
    "test = pd.read_csv('../input/test.csv')\n",
    "submission = pd.read_csv('../input/sample_submission.csv')"
   ]
  },
  {
   "cell_type": "markdown",
   "metadata": {},
   "source": [
    "### 1. 요일,일자 변환"
   ]
  },
  {
   "cell_type": "code",
   "execution_count": 3,
   "metadata": {},
   "outputs": [],
   "source": [
    "def transform_day_to_num(x) :\n",
    "    if x == '월' :\n",
    "        return 5\n",
    "    elif x == '화' :\n",
    "        return 4\n",
    "    elif x == '수' :\n",
    "        return 3\n",
    "    elif x == '목' :\n",
    "        return 2\n",
    "    else :\n",
    "        return 1        "
   ]
  },
  {
   "cell_type": "code",
   "execution_count": 4,
   "metadata": {},
   "outputs": [],
   "source": [
    "train['요일'] = train['요일'].apply(transform_day_to_num)\n",
    "test['요일'] = test['요일'].apply(transform_day_to_num)"
   ]
  },
  {
   "cell_type": "markdown",
   "metadata": {},
   "source": [
    "***"
   ]
  },
  {
   "cell_type": "code",
   "execution_count": 5,
   "metadata": {},
   "outputs": [],
   "source": [
    "train['일자'] = pd.to_datetime(train['일자'])\n",
    "test['일자'] = pd.to_datetime(test['일자'])"
   ]
  },
  {
   "cell_type": "code",
   "execution_count": 6,
   "metadata": {},
   "outputs": [],
   "source": [
    "train['년'] = train['일자'].dt.year\n",
    "test['년'] = test['일자'].dt.year"
   ]
  },
  {
   "cell_type": "code",
   "execution_count": 7,
   "metadata": {},
   "outputs": [],
   "source": [
    "train['월'] = train['일자'].dt.month\n",
    "test['월'] = test['일자'].dt.month"
   ]
  },
  {
   "cell_type": "code",
   "execution_count": 8,
   "metadata": {},
   "outputs": [],
   "source": [
    "train['일'] = train.일자.dt.day\n",
    "test['일'] = test.일자.dt.day"
   ]
  },
  {
   "cell_type": "code",
   "execution_count": 9,
   "metadata": {},
   "outputs": [],
   "source": [
    "train['주'] = train.일자.dt.week\n",
    "test['주'] = test.일자.dt.week"
   ]
  },
  {
   "cell_type": "code",
   "execution_count": 10,
   "metadata": {},
   "outputs": [],
   "source": [
    "train['출근'] = train['본사정원수']-(train['본사휴가자수']+train['본사출장자수']+train['현본사소속재택근무자수'])\n",
    "test['출근'] = test['본사정원수']-(test['본사휴가자수']+test['본사출장자수']+test['현본사소속재택근무자수'])"
   ]
  },
  {
   "cell_type": "code",
   "execution_count": 11,
   "metadata": {},
   "outputs": [],
   "source": [
    "train['회사출근_shift1'] = train['출근'].shift(1).fillna(train['출근'].mean())\n",
    "test['회사출근_shift1'] = test['출근'].shift(1).fillna(test['출근'].mean())\n",
    "\n",
    "train['회사출근_shift5'] = train['출근'].shift(5).fillna(train['출근'].mean())\n",
    "test['회사출근_shift5'] = test['출근'].shift(5).fillna(test['출근'].mean())"
   ]
  },
  {
   "cell_type": "code",
   "execution_count": 12,
   "metadata": {},
   "outputs": [],
   "source": [
    "train['야근_shift1'] = train['본사시간외근무명령서승인건수'].shift(1).fillna(train['본사시간외근무명령서승인건수'].mean())\n",
    "test['야근_shift1'] = test['본사시간외근무명령서승인건수'].shift(1).fillna(test['본사시간외근무명령서승인건수'].mean())\n",
    "\n",
    "train['야근_shift5'] = train['본사시간외근무명령서승인건수'].shift(5).fillna(train['본사시간외근무명령서승인건수'].mean())\n",
    "test['야근_shift5'] = test['본사시간외근무명령서승인건수'].shift(5).fillna(test['본사시간외근무명령서승인건수'].mean())"
   ]
  },
  {
   "cell_type": "markdown",
   "metadata": {},
   "source": [
    "### 2. 코로나 단계 별"
   ]
  },
  {
   "cell_type": "code",
   "execution_count": 13,
   "metadata": {},
   "outputs": [],
   "source": [
    "def transform_corona(x) :\n",
    "    if x <1 :\n",
    "        return 3\n",
    "    elif x < 134:\n",
    "        return 2\n",
    "    elif x < 221 :\n",
    "        return 1\n",
    "    else :\n",
    "        return 0"
   ]
  },
  {
   "cell_type": "code",
   "execution_count": 14,
   "metadata": {},
   "outputs": [],
   "source": [
    "train['코로나단계']=train['현본사소속재택근무자수'].apply(transform_corona)\n",
    "test['코로나단계']=test['현본사소속재택근무자수'].apply(transform_corona)"
   ]
  },
  {
   "cell_type": "code",
   "execution_count": 15,
   "metadata": {},
   "outputs": [],
   "source": [
    "ghkrwlswktn=train.groupby(['년','월'])['현본사소속재택근무자수'].sum().reset_index()\n",
    "ghkrwlswktn['현본사소속재택근무자수_month']=ghkrwlswktn.현본사소속재택근무자수\n",
    "ghkrwlswktn.drop('현본사소속재택근무자수',axis=1,inplace=True)\n",
    "train=pd.merge(train,ghkrwlswktn,on=['년','월'],how='left')"
   ]
  },
  {
   "cell_type": "code",
   "execution_count": 16,
   "metadata": {},
   "outputs": [],
   "source": [
    "ghkrwlswktn=test.groupby(['년','월'])['현본사소속재택근무자수'].sum().reset_index()\n",
    "ghkrwlswktn['현본사소속재택근무자수_month']=ghkrwlswktn.현본사소속재택근무자수\n",
    "ghkrwlswktn.drop('현본사소속재택근무자수',axis=1,inplace=True)\n",
    "ghkrwlswktn['현본사소속재택근무자수_month'][0]=ghkrwlswktn['현본사소속재택근무자수_month'][0]+6295\n",
    "test=pd.merge(test,ghkrwlswktn,on=['년','월'],how='left')"
   ]
  },
  {
   "cell_type": "markdown",
   "metadata": {},
   "source": [
    "### 3. 신입사원 들어온 날(몇명이 들어왔나)"
   ]
  },
  {
   "cell_type": "code",
   "execution_count": 17,
   "metadata": {},
   "outputs": [],
   "source": [
    "train['정원수증감']=train.본사정원수.diff(periods=1).fillna(0)\n",
    "test['정원수증감']=test.본사정원수.diff(periods=1).fillna(0)"
   ]
  },
  {
   "cell_type": "code",
   "execution_count": 18,
   "metadata": {},
   "outputs": [],
   "source": [
    "train['초기정원차분']=train.본사정원수-2601\n",
    "test['초기정원차분']=test.본사정원수-2601"
   ]
  },
  {
   "cell_type": "markdown",
   "metadata": {},
   "source": [
    "### 4. 요일 별로 밥먹는 인원 차이가 있을 꺼같은데 ...\n",
    "- meanencoding 쓴다. 오버피팅의 위험이 있다."
   ]
  },
  {
   "cell_type": "code",
   "execution_count": 19,
   "metadata": {},
   "outputs": [],
   "source": [
    "train_1=train.copy()"
   ]
  },
  {
   "cell_type": "code",
   "execution_count": 20,
   "metadata": {},
   "outputs": [],
   "source": [
    "mean=train_1['중식계'].mean()\n",
    "agg=train_1.groupby('요일')['중식계'].agg(['count','mean'])\n",
    "counts=agg['count']\n",
    "means=agg['mean']\n",
    "weight=80\n",
    "smooth=(counts*means+weight*mean)/(counts+weight)\n",
    "train['요일_중식계']=train['요일'].map(smooth)\n",
    "test['요일_중식계']=test['요일'].map(smooth)"
   ]
  },
  {
   "cell_type": "code",
   "execution_count": 21,
   "metadata": {},
   "outputs": [],
   "source": [
    "mean=train_1['석식계'].mean()\n",
    "agg=train_1.groupby('요일')['석식계'].agg(['count','mean'])\n",
    "counts=agg['count']\n",
    "means=agg['mean']\n",
    "weight=80\n",
    "smooth=(counts*means+weight*mean)/(counts+weight)\n",
    "train['요일_석식계']=train['요일'].map(smooth)\n",
    "test['요일_석식계']=test['요일'].map(smooth)"
   ]
  },
  {
   "cell_type": "code",
   "execution_count": null,
   "metadata": {},
   "outputs": [],
   "source": []
  },
  {
   "cell_type": "markdown",
   "metadata": {},
   "source": [
    "### 5. 휴가 간 퍼센트를 수치로 하여 열 생성"
   ]
  },
  {
   "cell_type": "code",
   "execution_count": 22,
   "metadata": {},
   "outputs": [],
   "source": [
    "train['휴가비율']=(train.본사휴가자수/train.본사정원수)*100\n",
    "test['휴가비율']=(test.본사휴가자수/test.본사정원수)*100"
   ]
  },
  {
   "cell_type": "code",
   "execution_count": 23,
   "metadata": {},
   "outputs": [],
   "source": [
    "def transform_rest(x) :\n",
    "    if x <2.569236 :\n",
    "        return 0\n",
    "    elif x< 3.734756:\n",
    "        return 1\n",
    "    elif x< 6.562848:\n",
    "        return 2\n",
    "    else :\n",
    "        return 3"
   ]
  },
  {
   "cell_type": "code",
   "execution_count": 24,
   "metadata": {},
   "outputs": [],
   "source": [
    "train['휴가퍼센트']=train['휴가비율'].apply(transform_rest)\n",
    "test['휴가퍼센트']=test['휴가비율'].apply(transform_rest)"
   ]
  },
  {
   "cell_type": "markdown",
   "metadata": {},
   "source": [
    "### 6. 출장자 수가 어느정도인지 보는 것, 위의 방법으로 해도 된다.\n",
    "- 문자형이기 때문에 따로 원핫이나 그런것을 해줘야함"
   ]
  },
  {
   "cell_type": "code",
   "execution_count": 25,
   "metadata": {},
   "outputs": [],
   "source": [
    "train['출장비율']=(train.본사출장자수/train.본사정원수)*100\n",
    "test['출장비율']=(test.본사출장자수/test.본사정원수)*100"
   ]
  },
  {
   "cell_type": "code",
   "execution_count": 26,
   "metadata": {
    "scrolled": false
   },
   "outputs": [
    {
     "name": "stdout",
     "output_type": "stream",
     "text": [
      "25 %:  7.685325264750379\n",
      "50 %:  8.803353658536585\n",
      "75 %:  9.844372059355774\n"
     ]
    }
   ],
   "source": [
    "for i in np.arange(0.25,1,0.25):\n",
    "    print(int(i*100),'%: ',train.출장비율.quantile(q=i))"
   ]
  },
  {
   "cell_type": "code",
   "execution_count": 27,
   "metadata": {},
   "outputs": [],
   "source": [
    "def f1(x) :\n",
    "    if x <7.685325264750379 :\n",
    "        return 0\n",
    "    elif x< 8.803353658536585:\n",
    "        return 1\n",
    "    elif x< 9.844372059355774:\n",
    "        return 2\n",
    "    else :\n",
    "        return 3"
   ]
  },
  {
   "cell_type": "code",
   "execution_count": 28,
   "metadata": {},
   "outputs": [],
   "source": [
    "train['출장퍼센트']=train['출장비율'].apply(f1)\n",
    "test['출장퍼센트']=test['출장비율'].apply(f1)"
   ]
  },
  {
   "cell_type": "code",
   "execution_count": 29,
   "metadata": {},
   "outputs": [],
   "source": [
    "#train = pd.concat([train, pd.get_dummies(train['출장퍼센트'])], axis=1)\n",
    "#test = pd.concat([test, pd.get_dummies(test['출장퍼센트'])], axis=1)"
   ]
  },
  {
   "cell_type": "markdown",
   "metadata": {},
   "source": [
    "### 7. 본사시간외근무명령서승인건수가 많았던 다음 날 식사 인원이 적을 것으로 판단.\n",
    "- 본사시간외근무명령서승인건수의 값을 하루씩 미룬 값을 입력한다."
   ]
  },
  {
   "cell_type": "code",
   "execution_count": 30,
   "metadata": {},
   "outputs": [],
   "source": [
    "from datetime import datetime, timedelta"
   ]
  },
  {
   "cell_type": "code",
   "execution_count": 31,
   "metadata": {},
   "outputs": [],
   "source": [
    "train1=train.copy()\n",
    "train1['일자']=train1.일자+timedelta(days=1)\n",
    "train1=train1[['일자','본사시간외근무명령서승인건수']]\n",
    "train1.columns=['일자','전날야간근무']\n",
    "train=pd.merge(train,train1,on='일자',how='left')"
   ]
  },
  {
   "cell_type": "code",
   "execution_count": 32,
   "metadata": {},
   "outputs": [],
   "source": [
    "test1=test.copy()\n",
    "test1['일자']=test1.일자+timedelta(days=1)\n",
    "test1=test1[['일자','본사시간외근무명령서승인건수']]\n",
    "test1.columns=['일자','전날야간근무']\n",
    "test=pd.merge(test,test1,on='일자',how='left')"
   ]
  },
  {
   "cell_type": "markdown",
   "metadata": {},
   "source": [
    "Null 값은 평균으로 넣어 준다."
   ]
  },
  {
   "cell_type": "code",
   "execution_count": 33,
   "metadata": {
    "scrolled": true
   },
   "outputs": [],
   "source": [
    "test.전날야간근무.fillna(test.본사시간외근무명령서승인건수.mean(),inplace=True)\n",
    "train.전날야간근무.fillna(train.본사시간외근무명령서승인건수.mean(),inplace=True)"
   ]
  },
  {
   "cell_type": "markdown",
   "metadata": {},
   "source": [
    "### 8. 금요일 저녁에는 많이 안 먹지 않을까 하는 생각"
   ]
  },
  {
   "cell_type": "code",
   "execution_count": 34,
   "metadata": {
    "id": "uW9MMAsTnNa9"
   },
   "outputs": [],
   "source": [
    "train['공휴일전후'] = 0\n",
    "test['공휴일전후'] = 0"
   ]
  },
  {
   "cell_type": "markdown",
   "metadata": {
    "id": "Tt_afmXXtYD1"
   },
   "source": [
    "공휴일 지정 노가다...."
   ]
  },
  {
   "cell_type": "code",
   "execution_count": 35,
   "metadata": {
    "id": "gHz3A6XutXTv"
   },
   "outputs": [],
   "source": [
    "train['공휴일전후'][17] = 1\n",
    "train['공휴일전후'][3] = 1\n",
    "train['공휴일전후'][62] = 1\n",
    "# train['공휴일전후'][67] = 1\n",
    "# train['공휴일전후'][82] = 1\n",
    "train['공휴일전후'][131] = 1\n",
    "# train['공휴일전후'][130] = 1\n",
    "train['공휴일전후'][152] = 1\n",
    "train['공휴일전후'][226] = 1\n",
    "train['공휴일전후'][221] = 1\n",
    "train['공휴일전후'][224] = 1\n",
    "# train['공휴일전후'][244] = 1\n",
    "train['공휴일전후'][245] = 1\n",
    "# train['공휴일전후'][267] = 1\n",
    "train['공휴일전후'][310] = 2\n",
    "train['공휴일전후'][311] = 1\n",
    "train['공휴일전후'][309] = 1\n",
    "train['공휴일전후'][330] = 1\n",
    "train['공휴일전후'][379] = 1\n",
    "train['공휴일전후'][467] = 1\n",
    "# train['공휴일전후'][469] = 1\n",
    "train['공휴일전후'][470] = 1\n",
    "train['공휴일전후'][502] = 2\n",
    "# train['공휴일전후'][501] = 1\n",
    "# train['공휴일전후'][511] = 1\n",
    "train['공휴일전후'][565] = 1\n",
    "train['공휴일전후'][623] = 1\n",
    "train['공휴일전후'][651] = 1\n",
    "# train['공휴일전후'][650] = 1\n",
    "train['공휴일전후'][705] = 1\n",
    "# train['공휴일전후'][707] = 1\n",
    "train['공휴일전후'][709] = 1\n",
    "# train['공휴일전후'][733] = 1\n",
    "# train['공휴일전후'][748] = 1\n",
    "# train['공휴일전후'][792] = 1\n",
    "train['공휴일전후'][815] = 1\n",
    "train['공휴일전후'][864] = 1\n",
    "# train['공휴일전후'][863] = 1\n",
    "train['공휴일전후'][950] = 1\n",
    "train['공휴일전후'][951] = 1\n",
    "train['공휴일전후'][953] = 1\n",
    "train['공휴일전후'][954] = 1\n",
    "train['공휴일전후'][955] = 1\n",
    "train['공휴일전후'][971] = 2\n",
    "# train['공휴일전후'][970] = 1\n",
    "# train['공휴일전후'][1037] = 1\n",
    "train['공휴일전후'][1038] = 1\n",
    "train['공휴일전후'][1099] = 1\n",
    "train['공휴일전후'][1129] = 1\n",
    "# train['공휴일전후'][1128] = 1\n",
    "train['공휴일전후'][1187] = 1\n",
    "# train['공휴일전후'][1186] = 1\n",
    "\n",
    "test['공휴일전후'][10] = 2\n",
    "test['공휴일전후'][20] = 1"
   ]
  },
  {
   "cell_type": "markdown",
   "metadata": {
    "id": "rXANglvAhup2"
   },
   "source": [
    "**원핫인코딩**"
   ]
  },
  {
   "cell_type": "code",
   "execution_count": 36,
   "metadata": {
    "id": "c4c8KbnXhud3"
   },
   "outputs": [],
   "source": [
    "#train = pd.get_dummies(train, columns=['공휴일전후'])\n",
    "#test = pd.get_dummies(test, columns=['공휴일전후'])"
   ]
  },
  {
   "cell_type": "code",
   "execution_count": 37,
   "metadata": {
    "id": "UVhypUvU9bNw"
   },
   "outputs": [],
   "source": [
    "test['공휴일전후'][20] = 0"
   ]
  },
  {
   "cell_type": "markdown",
   "metadata": {},
   "source": [
    "### 9. 메뉴 토큰화하여 일반적인 계산으로 해준 것"
   ]
  },
  {
   "cell_type": "code",
   "execution_count": 38,
   "metadata": {},
   "outputs": [],
   "source": [
    "train['조식메뉴토큰'] = train['조식메뉴'].str.split(' ')\n",
    "train['중식메뉴토큰'] = train['중식메뉴'].str.split(' ')\n",
    "train['석식메뉴토큰'] = train['석식메뉴'].str.split(' ')\n",
    "\n",
    "test['조식메뉴토큰'] = test['조식메뉴'].str.split(' ')\n",
    "test['중식메뉴토큰'] = test['중식메뉴'].str.split(' ')\n",
    "test['석식메뉴토큰'] = test['석식메뉴'].str.split(' ')"
   ]
  },
  {
   "cell_type": "code",
   "execution_count": 39,
   "metadata": {},
   "outputs": [],
   "source": [
    "def get_menu_comp_cnt(data) :\n",
    "    menu_cnt = []\n",
    "    for token in data :\n",
    "        comp_cnt = 0\n",
    "        for text in token :\n",
    "            if (len(text) > 1) & (text.startswith(\"(\") != 1) :\n",
    "                comp_cnt += 1\n",
    "            else :\n",
    "                pass\n",
    "        menu_cnt.append(comp_cnt)\n",
    "    return menu_cnt"
   ]
  },
  {
   "cell_type": "code",
   "execution_count": 40,
   "metadata": {},
   "outputs": [],
   "source": [
    "train['중식메뉴수'] = get_menu_comp_cnt(train['중식메뉴토큰'])\n",
    "train['석식메뉴수'] = get_menu_comp_cnt(train['석식메뉴토큰'])\n",
    "\n",
    "test['중식메뉴수'] = get_menu_comp_cnt(test['중식메뉴토큰'])\n",
    "test['석식메뉴수'] = get_menu_comp_cnt(test['석식메뉴토큰'])"
   ]
  },
  {
   "cell_type": "code",
   "execution_count": 41,
   "metadata": {},
   "outputs": [],
   "source": [
    "def get_menu_nunique(data) :\n",
    "    menu_n_list = []\n",
    "    for token in data :\n",
    "        menu_n = 0\n",
    "        for text in token :\n",
    "            if  '/' in text  :\n",
    "                menu_nunique = text.count('/') + 1\n",
    "                menu_n += menu_nunique\n",
    "            else :\n",
    "                pass\n",
    "        menu_n_list.append(menu_n)\n",
    "    return menu_n_list"
   ]
  },
  {
   "cell_type": "code",
   "execution_count": 42,
   "metadata": {},
   "outputs": [],
   "source": [
    "train['석식선택메뉴'] = get_menu_nunique(train['석식메뉴토큰'])\n",
    "train['중식선택메뉴'] = get_menu_nunique(train['중식메뉴토큰'])"
   ]
  },
  {
   "cell_type": "code",
   "execution_count": 43,
   "metadata": {},
   "outputs": [],
   "source": [
    "test['석식선택메뉴'] = get_menu_nunique(test['석식메뉴토큰'])\n",
    "test['중식선택메뉴'] = get_menu_nunique(test['중식메뉴토큰'])"
   ]
  },
  {
   "cell_type": "markdown",
   "metadata": {},
   "source": [
    "***"
   ]
  },
  {
   "cell_type": "code",
   "execution_count": 44,
   "metadata": {},
   "outputs": [],
   "source": [
    "train['출근'] = train['본사정원수']-(train['본사휴가자수']+train['본사출장자수']+train['현본사소속재택근무자수'])\n",
    "test['출근'] = test['본사정원수']-(test['본사휴가자수']+test['본사출장자수']+test['현본사소속재택근무자수'])"
   ]
  },
  {
   "cell_type": "code",
   "execution_count": 45,
   "metadata": {
    "scrolled": false
   },
   "outputs": [
    {
     "name": "stdout",
     "output_type": "stream",
     "text": [
      "25 %:  2281.0\n",
      "50 %:  2357.0\n",
      "75 %:  2461.0\n"
     ]
    }
   ],
   "source": [
    "for i in np.arange(0.25,1,0.25):\n",
    "    print(int(i*100),'%: ',train.출근.quantile(q=i))"
   ]
  },
  {
   "cell_type": "code",
   "execution_count": 46,
   "metadata": {},
   "outputs": [],
   "source": [
    "def f1(x) :\n",
    "    if x <2281.0 :\n",
    "        return 0\n",
    "    elif x< 2357.0:\n",
    "        return 1\n",
    "    elif x< 2461.0:\n",
    "        return 2\n",
    "    else :\n",
    "        return 3"
   ]
  },
  {
   "cell_type": "code",
   "execution_count": 47,
   "metadata": {},
   "outputs": [],
   "source": [
    "train['출근퍼센트']=train['출근'].apply(f1)\n",
    "test['출근퍼센트']=test['출근'].apply(f1)"
   ]
  },
  {
   "cell_type": "code",
   "execution_count": 48,
   "metadata": {},
   "outputs": [],
   "source": [
    "def transform_season(x) :\n",
    "    if 3<=x<=5 :\n",
    "        return '봄'\n",
    "    elif 6<=x<=8:\n",
    "        return '여름'\n",
    "    elif 9<=x<=11 :\n",
    "        return '가을'\n",
    "    else :\n",
    "        return '겨울'"
   ]
  },
  {
   "cell_type": "code",
   "execution_count": 49,
   "metadata": {},
   "outputs": [],
   "source": [
    "train['월_계절']=train['월'].apply(transform_season)\n",
    "test['월_계절']=test['월'].apply(transform_season)"
   ]
  },
  {
   "cell_type": "code",
   "execution_count": 50,
   "metadata": {},
   "outputs": [],
   "source": [
    "train = pd.concat([train, pd.get_dummies(train['월_계절'])], axis=1)\n",
    "test = pd.concat([test, pd.get_dummies(test['월_계절'])], axis=1)"
   ]
  },
  {
   "cell_type": "code",
   "execution_count": 51,
   "metadata": {},
   "outputs": [],
   "source": [
    "def transform_week(x) :\n",
    "    if 9<=x<=22 :\n",
    "        return '주_봄'\n",
    "    elif 23<=x<=35:\n",
    "        return '주_여름'\n",
    "    elif 36<=x<=48 :\n",
    "        return '주_가을'\n",
    "    else :\n",
    "        return '주_겨울'"
   ]
  },
  {
   "cell_type": "code",
   "execution_count": 52,
   "metadata": {},
   "outputs": [],
   "source": [
    "train['주_계절']=train['주'].apply(transform_week)\n",
    "test['주_계절']=test['주'].apply(transform_week)"
   ]
  },
  {
   "cell_type": "code",
   "execution_count": 53,
   "metadata": {},
   "outputs": [],
   "source": [
    "train = pd.concat([train, pd.get_dummies(train['주_계절'])], axis=1)\n",
    "test = pd.concat([test, pd.get_dummies(test['주_계절'])], axis=1)"
   ]
  },
  {
   "cell_type": "code",
   "execution_count": 54,
   "metadata": {},
   "outputs": [],
   "source": [
    "test['주_가을']=0\n",
    "test['주_여름']=0\n",
    "test['가을']=0\n",
    "test['여름']=0"
   ]
  },
  {
   "cell_type": "code",
   "execution_count": 55,
   "metadata": {},
   "outputs": [],
   "source": [
    "def transform_day(x) :\n",
    "    if 1<=x<=10 :\n",
    "        return '초_일'\n",
    "    elif 11<=x<=20:\n",
    "        return '중_일'\n",
    "    else :\n",
    "        return '말_일'"
   ]
  },
  {
   "cell_type": "code",
   "execution_count": 56,
   "metadata": {},
   "outputs": [],
   "source": [
    "train['초중말일자']=train['일'].apply(transform_day)\n",
    "test['초중말일자']=test['일'].apply(transform_day)"
   ]
  },
  {
   "cell_type": "code",
   "execution_count": 57,
   "metadata": {},
   "outputs": [],
   "source": [
    "train = pd.concat([train, pd.get_dummies(train['초중말일자'])], axis=1)\n",
    "test = pd.concat([test, pd.get_dummies(test['초중말일자'])], axis=1)"
   ]
  },
  {
   "cell_type": "code",
   "execution_count": 58,
   "metadata": {},
   "outputs": [],
   "source": [
    "train['lunch_length'] = train['중식메뉴'].apply(lambda x : len(x))\n",
    "train['dinner_length'] = train['석식메뉴'].apply(lambda x : len(x))\n",
    "\n",
    "test['lunch_length'] = test['중식메뉴'].apply(lambda x : len(x))\n",
    "test['dinner_length'] = test['석식메뉴'].apply(lambda x : len(x))"
   ]
  },
  {
   "cell_type": "code",
   "execution_count": 59,
   "metadata": {},
   "outputs": [],
   "source": [
    "### 연말 연초\n",
    "train['월일'] = train['일자'].astype(str)\n",
    "test['월일'] = test['일자'].astype(str)\n",
    "train['월일'] = train['월일'].apply(lambda x : x[5:10])\n",
    "test['월일'] = test['월일'].apply(lambda x : x[5:10])"
   ]
  },
  {
   "cell_type": "code",
   "execution_count": 60,
   "metadata": {},
   "outputs": [],
   "source": [
    "def malcho(x):\n",
    "    if (x[0:2] == '12' and int(x[3:5]) >= 20) or (x[0:2] == '01' and int(x[3:5]) <= 10):\n",
    "        return 1\n",
    "    else:\n",
    "        return 0"
   ]
  },
  {
   "cell_type": "code",
   "execution_count": 61,
   "metadata": {},
   "outputs": [],
   "source": [
    "train['연말연초'] = train['월일'].apply(malcho)\n",
    "test['연말연초'] = test['월일'].apply(malcho)"
   ]
  },
  {
   "cell_type": "code",
   "execution_count": 62,
   "metadata": {},
   "outputs": [],
   "source": [
    "train['month'] = train['일자'].dt.month\n",
    "test['month'] = test['일자'].dt.month"
   ]
  },
  {
   "cell_type": "code",
   "execution_count": 63,
   "metadata": {},
   "outputs": [],
   "source": [
    "train['day'] = train['일자'].dt.day\n",
    "test['day'] = test['일자'].dt.day"
   ]
  },
  {
   "cell_type": "code",
   "execution_count": 64,
   "metadata": {},
   "outputs": [],
   "source": [
    "train['weekly_num'] = train['day'].apply(lambda x : 1 if (x>=1) and (x<=7)\n",
    "                                                  else 2 if (x>7) and (x<=14)\n",
    "                                                  else 3 if (x>14) and (x<=21)\n",
    "                                                  else 4 if (x>21) and (x<=28) else 5)\n",
    "\n",
    "test['weekly_num'] = test['day'].apply(lambda x : 1 if (x>=1) and (x<=7)\n",
    "                                                  else 2 if (x>7) and (x<=14)\n",
    "                                                  else 3 if (x>14) and (x<=21)\n",
    "                                                  else 4 if (x>21) and (x<=28) else 5)    "
   ]
  },
  {
   "cell_type": "code",
   "execution_count": null,
   "metadata": {},
   "outputs": [],
   "source": []
  },
  {
   "cell_type": "code",
   "execution_count": null,
   "metadata": {},
   "outputs": [],
   "source": []
  },
  {
   "cell_type": "code",
   "execution_count": null,
   "metadata": {},
   "outputs": [],
   "source": []
  },
  {
   "cell_type": "markdown",
   "metadata": {},
   "source": [
    "### 메뉴 처리"
   ]
  },
  {
   "cell_type": "code",
   "execution_count": 65,
   "metadata": {},
   "outputs": [],
   "source": [
    "category = pd.read_excel('../input/대분류중분류.xlsx')"
   ]
  },
  {
   "cell_type": "code",
   "execution_count": 66,
   "metadata": {},
   "outputs": [],
   "source": [
    "def get_food_embedding(x):\n",
    "    x_ = []\n",
    "    x = x.split(' ')\n",
    "    for i in x:\n",
    "        if '(' in i and ':' in i and ')' in i:\n",
    "            continue\n",
    "        elif '/' in i:\n",
    "            x_.extend(i.split('/'))\n",
    "        elif '*' in i:\n",
    "            x_.extend(i.split('*'))\n",
    "        else:\n",
    "            x_.append(i)\n",
    "    x_ = list(set(x_))\n",
    "    x_.remove('')\n",
    "    return x_"
   ]
  },
  {
   "cell_type": "code",
   "execution_count": 67,
   "metadata": {},
   "outputs": [],
   "source": [
    "train['조식메뉴_split'] = train['조식메뉴'].apply(lambda x: get_food_embedding(x))\n",
    "train['중식메뉴_split'] = train['중식메뉴'].apply(lambda x: get_food_embedding(x))\n",
    "train['석식메뉴_split'] = train['석식메뉴'].apply(lambda x: get_food_embedding(x))\n",
    "\n",
    "test['조식메뉴_split'] = test['조식메뉴'].apply(lambda x: get_food_embedding(x))\n",
    "test['중식메뉴_split'] = test['중식메뉴'].apply(lambda x: get_food_embedding(x))\n",
    "test['석식메뉴_split'] = test['석식메뉴'].apply(lambda x: get_food_embedding(x))"
   ]
  },
  {
   "cell_type": "code",
   "execution_count": 68,
   "metadata": {},
   "outputs": [],
   "source": [
    "import re\n",
    "regex = \"\\(.*\\)|\\s-\\s.*\"\n",
    "category['소분류'] = category['소분류'].apply(lambda x : re.sub(regex, '', x))"
   ]
  },
  {
   "cell_type": "code",
   "execution_count": 69,
   "metadata": {},
   "outputs": [],
   "source": [
    "밥_list = list(category[category['대분류'] == '밥류']['소분류'])\n",
    "과자빵_list = list(category[category['대분류'] == '과자 및 빵류']['소분류'])\n",
    "면만두_list = list(category[category['대분류'] == '면 및 만두류']['소분류'])\n",
    "죽_list = list(category[category['대분류'] == '죽류']['소분류'])\n",
    "국_list = list(category[category['대분류'] == '국(탕)류']['소분류'])\n",
    "찌개_list = list(category[category['대분류'] == '찌개류']['소분류'])\n",
    "찜_list = list(category[category['대분류'] == '찜류']['소분류'])\n",
    "구이_list = list(category[category['대분류'] == '구이류']['소분류'])\n",
    "전_list = list(category[category['대분류'] == '전류']['소분류'])\n",
    "볶음_list = list(category[category['대분류'] == '볶음류']['소분류'])\n",
    "조림_list = list(category[category['대분류'] == '조림류']['소분류'])\n",
    "튀김_list = list(category[category['대분류'] == '튀김류']['소분류'])\n",
    "무침_list = list(category[category['대분류'] == '무침류']['소분류'])\n",
    "김치_list = list(category[category['대분류'] == '김치류']['소분류'])\n",
    "회_list = list(category[category['대분류'] == '회류']['소분류'])\n",
    "젓갈_list = list(category[category['대분류'] == '젓갈류']['소분류'])\n",
    "절임_list = list(category[category['대분류'] == '절임류']['소분류'])\n",
    "장_list = list(category[category['대분류'] == '장류']['소분류'])\n",
    "우유_list = list(category[category['대분류'] == '우유 및 유제품류']['소분류'])\n",
    "음료_list = list(category[category['대분류'] == '음료류']['소분류'])\n",
    "떡_list = list(category[category['대분류'] == '떡류']['소분류'])\n",
    "원재료_list = list(category[category['대분류'] == '원재료']['소분류'])\n",
    "주류_list = list(category[category['대분류'] == '주류']['소분류'])"
   ]
  },
  {
   "cell_type": "code",
   "execution_count": 70,
   "metadata": {},
   "outputs": [],
   "source": [
    "num=[]\n",
    "for t in range(train.shape[0]):\n",
    "    for i in range(len(train['중식메뉴_split'][t])):\n",
    "        token = train['중식메뉴_split'][t][i]\n",
    "        if  token.endswith('주') or token in 주류_list:\n",
    "            print(token)\n",
    "            num.append(token)"
   ]
  },
  {
   "cell_type": "code",
   "execution_count": 71,
   "metadata": {},
   "outputs": [],
   "source": [
    "num=pd.DataFrame(num)\n",
    "num=pd.DataFrame(num.value_counts().index.values)\n",
    "num=pd.DataFrame(num[0].apply(lambda x: x[0]))"
   ]
  },
  {
   "cell_type": "code",
   "execution_count": 72,
   "metadata": {},
   "outputs": [
    {
     "data": {
      "text/plain": [
       "array([], dtype=int64)"
      ]
     },
     "execution_count": 72,
     "metadata": {},
     "output_type": "execute_result"
    }
   ],
   "source": [
    "num[0].values"
   ]
  },
  {
   "cell_type": "code",
   "execution_count": 73,
   "metadata": {},
   "outputs": [],
   "source": [
    "def get_Dae(data, col) :\n",
    "    \n",
    "    recipe_df = pd.DataFrame(np.zeros((data.shape[0], 25)), \n",
    "                          columns = ['밥류', '과자 및 빵류', '면 및 만두류', '죽류', '국(탕)류', '찌개류', '찜류', '구이류',\n",
    "       '전류', '볶음류', '조림류', '튀김류', '무침류', '김치류', '회류', '젓갈류', '절임류', '장류',\n",
    "       '우유 및 유제품류', '음료류', '떡류', '원재료', '주류', '드레싱류', '조리_기타'])\n",
    "\n",
    "    for t in range(data.shape[0]):\n",
    "        for i in range(len(data[col][t])):\n",
    "            token = data[col][t][i]\n",
    "            if '덮밥' in token or '비빔밥' in token or '볶음밥' in token:\n",
    "                recipe_df.at[t,'밥류'] += 3\n",
    "            elif  token.endswith('밥') or '밥' in token or token in 밥_list:\n",
    "                recipe_df.at[t, '밥류'] += 1 \n",
    "                \n",
    "            elif token.endswith('과자') or token in 과자빵_list:\n",
    "                recipe_df.at[t, '과자 및 빵류'] += 3\n",
    "                \n",
    "            elif token.endswith('면') or token.endswith('만두') or '면' in token or '만두' in token or token in 면만두_list:\n",
    "                recipe_df.at[t, '면 및 만두류'] += 4\n",
    "                \n",
    "            elif token.endswith('죽') or token in 죽_list or '죽' in token:\n",
    "                recipe_df.at[t, '죽류'] += 2\n",
    "                \n",
    "            elif token.endswith('구이') or token in 구이_list or '구이' in token or token.endswith('데리야끼') or token.endswith('립') or\\\n",
    "                '함박' in token or '그라탕' in token or token.endswith('갈비') or '주물럭' in token or '스테이크' in token or token.endswith('구이') or '불고기' in token or '구이' in token:\n",
    "                recipe_df.at[t, '구이류'] += 5\n",
    "                \n",
    "            elif token.endswith('국') or token.endswith('탕') or token in 국_list:\n",
    "                if '만두' in token or '해물' in token or '도토리묵' in token or '냉국' in token or '사골' in token or '고기' in token or '해장' in token or token=='육개장'  or '수제비' in token or '옹심이' in token or '삼계탕' in token or '닭볶' in token or '전복' in token or '나주곰탕' in token or '감자탕' in token or '갈비' in token or '등뼈탕' in token or '들깨' in token or '홍합' in token or '새우' in token:\n",
    "                    recipe_df.at[t, '국(탕)류'] += 4\n",
    "                else:\n",
    "                    recipe_df.at[t, '국(탕)류'] += 2\n",
    "                    \n",
    "            elif token.endswith('찌개') or token in 찌개_list:\n",
    "                if '차돌' in token or '갈비' in token or '고기' in token or '돼지' in token: \n",
    "                    recipe_df.at[t, '찌개류'] += 4\n",
    "                else:\n",
    "                    recipe_df.at[t, '찌개류'] += 2\n",
    "                \n",
    "            elif token.endswith('찜') or token in 찜_list or '찜' in token or '보쌈' in token or '수육' in token or '김치말이' in token:\n",
    "                if '브로컬리들깨찜' in token or  '꽈리고추찜' in token or  '깻잎찜' in token or  '가지찜' in token or  '청경채찜' in token or '호박잎쌈' in token:\n",
    "                    recipe_df.at[t, '찜류'] += 2\n",
    "                else:\n",
    "                    recipe_df.at[t, '찜류'] += 4\n",
    "                \n",
    "            elif token.endswith('전') or token in 전_list or '전병' in token:\n",
    "                recipe_df.at[t, '전류'] += 3\n",
    "                \n",
    "            elif token.endswith('볶음') or token in 볶음_list or '볶음' in token or token == '깐풍연근' or \\\n",
    "                '고추잡채' in token or '궁보계정' in token or '산슬' in token or token.endswith('잡채') or '마파두부' in token or '두루치기' in token or '닭갈비' in token:\n",
    "                if '미역줄기볶음' in token or '마늘쫑볶음' in token or '카레감자채볶음' in token or '모둠버섯볶음' in token or '고구마순볶음' in token or '콩나물볶음' in token or '버섯볶음' in token or '멸치' in token or '가지볶음' in token or '애기새송이버섯볶음' in token or '파프리카감자채볶음' in token or '호박새우젓볶음' in token or '청경채새송이볶음' in token or '오이볶음' in token or '호박채나물볶음' in token or '도라지볶음' in token or '도라지나물볶음' in token or '고춧잎볶음' in token or '고구마줄기볶음' in token or '감자볶음' in token or '새송이버섯볶음' in token or '가지볶음' in token or '브로콜리버섯볶음' in token or '명엽채볶음' in token or '매운호박볶음' in token or '머위대들깨볶음' in token or '멸치볶음' in token:\n",
    "                    recipe_df.at[t, '볶음류'] += 1\n",
    "                else:\n",
    "                    recipe_df.at[t, '볶음류'] += 3\n",
    "                \n",
    "            elif token.endswith('조림') or token in 조림_list or '조림' in token or '오향장육' in token or '동파육' in token:\n",
    "                if '땅콩조림' in token or '연근조림' in token or '견과류조림' in token or '연근땅콩조림' in token or '새송이버섯조림' in token or '우엉조림' in token or '시래기조림' in token or '검정콩조림' in token or '꽈리고추어묵조림' in token or '단호박장조림' in token or '감자조림' in token or '견과류연근조림' in token or '고추장감자조림' in token or '꽈리고추감자조림' in token or '콩조림' in token:\n",
    "                    recipe_df.at[t, '조림류'] += 1\n",
    "                else:\n",
    "                    recipe_df.at[t, '조림류'] += 3\n",
    "            elif token.endswith('튀김') or token.endswith('치킨') or token.endswith('탕수육') or '치킨' in token or '탕수' in token or token in 튀김_list or\\\n",
    "                '튀김' in token or '통닭' in token or token.endswith('새우') or '강정' in token or '미트볼' in token or '프리타타' in token or '카츠' in token or '깐풍' in token or\\\n",
    "                token.endswith('고로케') or '유린기' in token or '탕수' in token or token.endswith('닭') or '너겟' in token or\\\n",
    "                token.endswith('강정') or '가스' in token or '까스' in token or '핑거' in token or '텐더' in token or '커틀렛' in token or '커틀릿' in token:\n",
    "                recipe_df.at[t, '튀김류'] += 5\n",
    "                \n",
    "            elif token.endswith('무침') or token in 무침_list or '무침' in token or '파채' in token or token.endswith('샐러드') or '양장피' in token\\\n",
    "            or '범벅' in token or token.endswith('채'):\n",
    "                recipe_df.at[t, '무침류'] += 1\n",
    "                \n",
    "            elif token.endswith('김치') or token in 김치_list or '겉절이' in token:\n",
    "                recipe_df.at[t, '김치류'] += 1\n",
    "                \n",
    "            elif token.endswith('회') or token in 회_list:\n",
    "                recipe_df.at[t, '회류'] += 1\n",
    "                \n",
    "            elif token.endswith('젓갈') or token in 젓갈_list or '젓갈' in token:\n",
    "                recipe_df.at[t, '젓갈류'] += 1\n",
    "                \n",
    "            elif token.endswith('절임') or token in 절임_list or '절임' in token:\n",
    "                recipe_df.at[t, '절임류'] += 1\n",
    "                \n",
    "            elif token.endswith('장') or token in 장_list:\n",
    "                recipe_df.at[t, '장류'] += 1\n",
    "                \n",
    "            elif token.endswith('우유') or token in 우유_list:\n",
    "                recipe_df.at[t, '우유 및 유제품류'] += 1\n",
    "                \n",
    "            elif token.endswith('음료') or token in 음료_list or '요구르트' in token:\n",
    "                recipe_df.at[t, '음료류'] += 1\n",
    "                \n",
    "            elif token.endswith('떡') or token in 떡_list:\n",
    "                recipe_df.at[t, '떡류'] += 2\n",
    "                \n",
    "            elif token in 원재료_list or token == '연두부' or token.endswith('김') or '생' in token or token.endswith('쌈'):\n",
    "                recipe_df.at[t, '원재료'] += 1\n",
    "                \n",
    "            elif token.endswith('주') or token in 주류_list:\n",
    "                recipe_df.at[t, '주류'] += 1\n",
    "                \n",
    "            elif token.endswith('드레싱') or 'D' in token or '소스' in token:\n",
    "                recipe_df.at[t, '드레싱류'] += 1\n",
    "                \n",
    "            else :\n",
    "                recipe_df.at[t, '조리_기타'] += 1\n",
    "            \n",
    "    return recipe_df"
   ]
  },
  {
   "cell_type": "code",
   "execution_count": 74,
   "metadata": {},
   "outputs": [],
   "source": [
    "tr_lunch = get_Dae(train, '중식메뉴_split')\n",
    "tr_dinner = get_Dae(train, '석식메뉴_split')\n",
    "ts_lunch = get_Dae(test, '중식메뉴_split')\n",
    "ts_dinner = get_Dae(test, '석식메뉴_split')"
   ]
  },
  {
   "cell_type": "code",
   "execution_count": 75,
   "metadata": {},
   "outputs": [],
   "source": [
    "tr_lunch['중식점수'] = tr_lunch.sum(axis=1)\n",
    "tr_dinner['석식점수'] = tr_dinner.sum(axis=1)\n",
    "ts_lunch['중식점수'] = ts_lunch.sum(axis=1)\n",
    "ts_dinner['석식점수'] = ts_dinner.sum(axis=1)"
   ]
  },
  {
   "cell_type": "code",
   "execution_count": 76,
   "metadata": {},
   "outputs": [],
   "source": [
    "train_ln = train.copy()\n",
    "train_ln['중식점수'] = tr_lunch['중식점수']\n",
    "train_dn = train.copy()\n",
    "train_dn['석식점수'] = tr_dinner['석식점수']\n",
    "\n",
    "test_ln = test.copy()\n",
    "test_ln['중식점수'] = ts_lunch['중식점수']\n",
    "test_dn = test.copy()\n",
    "test_dn['석식점수'] = ts_dinner['석식점수']"
   ]
  },
  {
   "cell_type": "markdown",
   "metadata": {},
   "source": [
    "### 메뉴이름 BPE 후 fasttext"
   ]
  },
  {
   "cell_type": "code",
   "execution_count": 77,
   "metadata": {},
   "outputs": [],
   "source": [
    "#!pip install tokenizers"
   ]
  },
  {
   "cell_type": "code",
   "execution_count": 78,
   "metadata": {},
   "outputs": [],
   "source": [
    "train['조식메뉴_split'] = train['조식메뉴_split'].astype(str)\n",
    "train['중식메뉴_split'] = train['중식메뉴_split'].astype(str)\n",
    "train['석식메뉴_split'] = train['석식메뉴_split'].astype(str)\n",
    "\n",
    "test['조식메뉴_split'] = train['조식메뉴_split'].astype(str)\n",
    "test['중식메뉴_split'] = train['중식메뉴_split'].astype(str)\n",
    "test['석식메뉴_split'] = train['석식메뉴_split'].astype(str)"
   ]
  },
  {
   "cell_type": "code",
   "execution_count": 79,
   "metadata": {},
   "outputs": [],
   "source": [
    "total_menu = pd.concat([train['조식메뉴_split'], train['중식메뉴_split'], train['석식메뉴_split']], axis=0)\n",
    "total_menu = total_menu.reset_index()\n",
    "total_menu.drop('index', axis=1, inplace=True)\n",
    "total_menu.columns = ['menu']\n",
    "total_menu['menu'] = total_menu['menu'].astype(str)"
   ]
  },
  {
   "cell_type": "code",
   "execution_count": 80,
   "metadata": {},
   "outputs": [],
   "source": [
    "import re\n",
    "total_menu['menu'] = total_menu['menu'].apply(lambda x : re.sub('[!\"#$%&\\()*+,-./:;<=>?@[\\\\]^_`▁{|}~]', repl= '', string = x))\n",
    "total_menu['menu'] = total_menu['menu'].apply(lambda x : re.sub('\\s+', repl= ' ', string = x)) # 연속된 띄어쓰기 처리"
   ]
  },
  {
   "cell_type": "code",
   "execution_count": 81,
   "metadata": {},
   "outputs": [],
   "source": [
    "with open('../input/train_menu.txt', 'w', encoding='utf-8') as f:\n",
    "    for line in total_menu.menu.values:\n",
    "        try:\n",
    "            f.write(line+'\\n')\n",
    "        except TypeError as TE:\n",
    "            print(line, TE)"
   ]
  },
  {
   "cell_type": "code",
   "execution_count": 82,
   "metadata": {},
   "outputs": [],
   "source": [
    "from tokenizers import SentencePieceBPETokenizer"
   ]
  },
  {
   "cell_type": "code",
   "execution_count": 83,
   "metadata": {},
   "outputs": [
    {
     "data": {
      "text/plain": [
       "Tokenizer(vocabulary_size=0, model=SentencePieceBPE, unk_token=<unk>, replacement=▁, add_prefix_space=True, dropout=None)"
      ]
     },
     "execution_count": 83,
     "metadata": {},
     "output_type": "execute_result"
    }
   ],
   "source": [
    "tokenizer = SentencePieceBPETokenizer()\n",
    "tokenizer"
   ]
  },
  {
   "cell_type": "code",
   "execution_count": 84,
   "metadata": {},
   "outputs": [
    {
     "name": "stdout",
     "output_type": "stream",
     "text": [
      "Wall time: 168 ms\n"
     ]
    },
    {
     "data": {
      "text/plain": [
       "Tokenizer(vocabulary_size=4121, model=SentencePieceBPE, unk_token=<unk>, replacement=▁, add_prefix_space=True, dropout=None)"
      ]
     },
     "execution_count": 84,
     "metadata": {},
     "output_type": "execute_result"
    }
   ],
   "source": [
    "%%time\n",
    "tokenizer.train(['../input/train_menu.txt'], vocab_size=5000)\n",
    "tokenizer"
   ]
  },
  {
   "cell_type": "code",
   "execution_count": 85,
   "metadata": {},
   "outputs": [],
   "source": [
    "train['menu_sub_ln'] = np.nan\n",
    "train['menu_sub_dn'] = np.nan\n",
    "test['menu_sub_ln'] = np.nan\n",
    "test['menu_sub_dn'] = np.nan"
   ]
  },
  {
   "cell_type": "code",
   "execution_count": 86,
   "metadata": {},
   "outputs": [],
   "source": [
    "for i, t in enumerate(train['중식메뉴']):\n",
    "    menu_sub = []\n",
    "    output = tokenizer.encode(t)\n",
    "    menu_sub += output.tokens\n",
    "    train['menu_sub_ln'][i] = menu_sub"
   ]
  },
  {
   "cell_type": "code",
   "execution_count": 87,
   "metadata": {},
   "outputs": [],
   "source": [
    "for i, t in enumerate(train['석식메뉴']):\n",
    "    menu_sub = []\n",
    "    output = tokenizer.encode(t)\n",
    "    menu_sub += output.tokens\n",
    "    train['menu_sub_dn'][i] = menu_sub"
   ]
  },
  {
   "cell_type": "code",
   "execution_count": 88,
   "metadata": {},
   "outputs": [],
   "source": [
    "for i, t in enumerate(test['중식메뉴']):\n",
    "    menu_sub = []\n",
    "    output = tokenizer.encode(t)\n",
    "    menu_sub += output.tokens\n",
    "    test['menu_sub_ln'][i] = menu_sub"
   ]
  },
  {
   "cell_type": "code",
   "execution_count": 89,
   "metadata": {},
   "outputs": [],
   "source": [
    "for i, t in enumerate(test['석식메뉴']):\n",
    "    menu_sub = []\n",
    "    output = tokenizer.encode(t)\n",
    "    menu_sub += output.tokens\n",
    "    test['menu_sub_dn'][i] = menu_sub"
   ]
  },
  {
   "cell_type": "code",
   "execution_count": 90,
   "metadata": {},
   "outputs": [
    {
     "data": {
      "text/plain": [
       "0       [▁, 쌀, 밥, 잡, 곡, 밥, ▁, 쌀, 현, 미, 흑, 미, 국내, 산, ▁,...\n",
       "1       [▁, 쌀, 밥, 잡, 곡, 밥, ▁, 쌀, 현, 미, 흑, 미, 국내, 산, ▁,...\n",
       "2       [▁, 카레, 덮, 밥, ▁, 쌀, 현, 미, 흑, 미, 국내, 산, ▁, 팽이, ...\n",
       "3       [▁, 쌀, 밥, 잡, 곡, 밥, ▁, 쌀, 현, 미, 흑, 미, 국내, 산, ▁,...\n",
       "4       [▁, 쌀, 밥, 잡, 곡, 밥, ▁, 쌀, 현, 미, 흑, 미, 국내, 산, ▁,...\n",
       "                              ...                        \n",
       "1200    [▁, 쌀, 밥, 흑, 미, 밥, 찰, 현, 미, 밥, ▁, 아욱, 국, ▁, 수제...\n",
       "1201    [▁, 쌀, 밥, 수수, 밥, 찰, 현, 미, 밥, ▁, 냉, 이, 된장, 국, ▁...\n",
       "1202    [▁, 전, 주, 비빔, 밥, 약, 고추장, ▁, 계란, 파, 국, ▁, 요거, 닭...\n",
       "1203    [▁, 쌀, 밥, 흑, 미, 밥, 찰, 현, 미, 밥, ▁, 전, 주, 식, 콩나물...\n",
       "1204    [▁, 쌀, 밥, 귀리, 밥, 찰, 현, 미, 밥, ▁, 들깨, 미역, 국, ▁, ...\n",
       "Name: menu_sub_ln, Length: 1205, dtype: object"
      ]
     },
     "execution_count": 90,
     "metadata": {},
     "output_type": "execute_result"
    }
   ],
   "source": [
    "train['menu_sub_ln']"
   ]
  },
  {
   "cell_type": "code",
   "execution_count": null,
   "metadata": {},
   "outputs": [],
   "source": []
  },
  {
   "cell_type": "markdown",
   "metadata": {},
   "source": [
    "### 모델링"
   ]
  },
  {
   "cell_type": "code",
   "execution_count": 91,
   "metadata": {},
   "outputs": [],
   "source": [
    "from lightgbm import LGBMRegressor\n",
    "from xgboost import XGBRFRegressor\n",
    "from sklearn.metrics import mean_absolute_error\n",
    "from sklearn.model_selection import TimeSeriesSplit, KFold\n",
    "from sklearn.ensemble import RandomForestRegressor, GradientBoostingRegressor, VotingRegressor\n",
    "from ngboost import NGBRegressor"
   ]
  },
  {
   "cell_type": "code",
   "execution_count": 92,
   "metadata": {},
   "outputs": [],
   "source": [
    "kf = KFold(n_splits = 15, random_state = 607, shuffle = True)"
   ]
  },
  {
   "cell_type": "code",
   "execution_count": 93,
   "metadata": {},
   "outputs": [],
   "source": [
    "select_column_ln = test_ln.columns[(test_ln.dtypes == 'int64') + (test_ln.dtypes == 'float64')+ (test_ln.dtypes == 'uint8')]\n",
    "select_column_dn = test_dn.columns[(test_dn.dtypes == 'int64') + (test_dn.dtypes == 'float64')+ (test_dn.dtypes == 'uint8')]"
   ]
  },
  {
   "cell_type": "code",
   "execution_count": 94,
   "metadata": {
    "scrolled": true
   },
   "outputs": [],
   "source": [
    "select_columns_ln = select_column_ln.drop(['본사정원수', '본사휴가자수', '본사출장자수', '본사시간외근무명령서승인건수', '현본사소속재택근무자수', '휴가비율', '출장비율'])\n",
    "select_columns_dn = select_column_dn.drop(['본사정원수', '본사휴가자수', '본사출장자수', '본사시간외근무명령서승인건수', '현본사소속재택근무자수', '휴가비율', '출장비율'])"
   ]
  },
  {
   "cell_type": "code",
   "execution_count": 95,
   "metadata": {},
   "outputs": [
    {
     "data": {
      "text/plain": [
       "Index(['요일', '년', '월', '일', '주', '출근', '회사출근_shift1', '회사출근_shift5',\n",
       "       '야근_shift1', '야근_shift5', '코로나단계', '현본사소속재택근무자수_month', '정원수증감',\n",
       "       '초기정원차분', '요일_중식계', '요일_석식계', '휴가퍼센트', '출장퍼센트', '전날야간근무', '공휴일전후',\n",
       "       '중식메뉴수', '석식메뉴수', '석식선택메뉴', '중식선택메뉴', '출근퍼센트', '겨울', '봄', '주_겨울', '주_봄',\n",
       "       '주_가을', '주_여름', '가을', '여름', '말_일', '중_일', '초_일', 'lunch_length',\n",
       "       'dinner_length', '연말연초', 'month', 'day', 'weekly_num', '중식점수'],\n",
       "      dtype='object')"
      ]
     },
     "execution_count": 95,
     "metadata": {},
     "output_type": "execute_result"
    }
   ],
   "source": [
    "select_columns_ln"
   ]
  },
  {
   "cell_type": "code",
   "execution_count": 96,
   "metadata": {},
   "outputs": [],
   "source": [
    "X1 = train_ln[select_columns_ln]\n",
    "y1 = train.중식계\n",
    "target1 = test_ln[X1.columns]"
   ]
  },
  {
   "cell_type": "code",
   "execution_count": 97,
   "metadata": {},
   "outputs": [],
   "source": [
    "X2 = train_dn[select_columns_dn]\n",
    "y2 = train.석식계\n",
    "target2 = test_dn[X2.columns]"
   ]
  },
  {
   "cell_type": "code",
   "execution_count": 98,
   "metadata": {},
   "outputs": [],
   "source": [
    "from lightgbm import LGBMRegressor\n",
    "from tqdm import tqdm, tqdm_notebook\n",
    "from sklearn.model_selection import cross_val_score\n",
    "import random\n",
    "\n",
    "from sklearn.feature_selection import RFE\n",
    "from sklearn.feature_selection import SelectPercentile"
   ]
  },
  {
   "cell_type": "code",
   "execution_count": 99,
   "metadata": {},
   "outputs": [
    {
     "name": "stderr",
     "output_type": "stream",
     "text": [
      "100%|██████████████████████████████████████████████████████████████████████████████████| 95/95 [00:40<00:00,  2.35it/s]"
     ]
    },
    {
     "name": "stdout",
     "output_type": "stream",
     "text": [
      "(81, -84.02706047651627)\n"
     ]
    },
    {
     "name": "stderr",
     "output_type": "stream",
     "text": [
      "\n"
     ]
    },
    {
     "data": {
      "image/png": "[encoded data removed]",
      "text/plain": [
       "<Figure size 432x288 with 1 Axes>"
      ]
     },
     "metadata": {
      "needs_background": "light"
     },
     "output_type": "display_data"
    }
   ],
   "source": [
    "# 사용할 모델 설정 (속도가 빠른 모델 사용 권장)\n",
    "model = LGBMRegressor(random_state=0)\n",
    "\n",
    "# 각 특성과 타깃(class) 사이에 유의한 통계적 관계가 있는지 계산하여 특성을 선택하는 방법 \n",
    "cv_scores = []\n",
    "for p in tqdm(range(5,100,1)):\n",
    "    X_new = SelectPercentile(percentile=p).fit_transform(X1, y1)    #SelectPercentile: 지정된 비율만큼 특성을 선택한다.\n",
    "    cv_score = cross_val_score(model, X_new, y1, scoring='neg_mean_absolute_error', cv=5).mean()\n",
    "    cv_scores.append((p,cv_score))\n",
    "\n",
    "# Print the best percentile\n",
    "best_score = cv_scores[np.argmax([score for _, score in cv_scores])]\n",
    "print(best_score)\n",
    "\n",
    "# Plot the performance change with p\n",
    "plt.plot([k for k, _ in cv_scores], [score for _, score in cv_scores])\n",
    "plt.xlabel('Percent of features')\n",
    "plt.grid()"
   ]
  },
  {
   "cell_type": "code",
   "execution_count": 100,
   "metadata": {},
   "outputs": [],
   "source": [
    "# 과적합을 피하기 위해 최적의 p값 주변의 값을 선택하는게 더 나은 결과를 얻을 수 있다. \n",
    "fs1 = SelectPercentile(percentile=best_score[0]).fit(X1, y1)\n",
    "X1_select = fs1.transform(X1)\n",
    "target1_select = fs1.transform(target1)"
   ]
  },
  {
   "cell_type": "code",
   "execution_count": 101,
   "metadata": {},
   "outputs": [
    {
     "name": "stderr",
     "output_type": "stream",
     "text": [
      "100%|██████████████████████████████████████████████████████████████████████████████████| 95/95 [00:42<00:00,  2.25it/s]"
     ]
    },
    {
     "name": "stdout",
     "output_type": "stream",
     "text": [
      "(93, -61.06522458218721)\n"
     ]
    },
    {
     "name": "stderr",
     "output_type": "stream",
     "text": [
      "\n"
     ]
    },
    {
     "data": {
      "image/png": "[encoded data removed]",
      "text/plain": [
       "<Figure size 432x288 with 1 Axes>"
      ]
     },
     "metadata": {
      "needs_background": "light"
     },
     "output_type": "display_data"
    }
   ],
   "source": [
    "# 사용할 모델 설정 (속도가 빠른 모델 사용 권장)\n",
    "model = LGBMRegressor(random_state=0)\n",
    "\n",
    "# 각 특성과 타깃(class) 사이에 유의한 통계적 관계가 있는지 계산하여 특성을 선택하는 방법 \n",
    "cv_scores = []\n",
    "for p in tqdm(range(5,100,1)):\n",
    "    X_new = SelectPercentile(percentile=p).fit_transform(X2, y2)    #SelectPercentile: 지정된 비율만큼 특성을 선택한다.\n",
    "    cv_score = cross_val_score(model, X_new, y2, scoring='neg_mean_absolute_error', cv=5).mean()\n",
    "    cv_scores.append((p,cv_score))\n",
    "\n",
    "# Print the best percentile\n",
    "best_score = cv_scores[np.argmax([score for _, score in cv_scores])]\n",
    "print(best_score)\n",
    "\n",
    "# Plot the performance change with p\n",
    "plt.plot([k for k, _ in cv_scores], [score for _, score in cv_scores])\n",
    "plt.xlabel('Percent of features')\n",
    "plt.grid()"
   ]
  },
  {
   "cell_type": "code",
   "execution_count": 102,
   "metadata": {},
   "outputs": [],
   "source": [
    "# 과적합을 피하기 위해 최적의 p값 주변의 값을 선택하는게 더 나은 결과를 얻을 수 있다. \n",
    "fs2 = SelectPercentile(percentile=best_score[0]).fit(X2, y2)\n",
    "X2_select = fs2.transform(X2)\n",
    "target2_select = fs2.transform(target2)"
   ]
  },
  {
   "cell_type": "code",
   "execution_count": 103,
   "metadata": {
    "scrolled": true
   },
   "outputs": [
    {
     "name": "stdout",
     "output_type": "stream",
     "text": [
      "(1205, 35)\n",
      "['요일', '년', '월', '일', '주', '출근', '회사출근_shift1', '야근_shift1', '야근_shift5', '코로나단계', '현본사소속재택근무자수_month', '초기정원차분', '요일_중식계', '요일_석식계', '휴가퍼센트', '출장퍼센트', '공휴일전후', '중식메뉴수', '출근퍼센트', '겨울', '봄', '주_겨울', '주_봄', '주_가을', '가을', '말_일', '중_일', '초_일', 'lunch_length', 'dinner_length', '연말연초', 'month', 'day', 'weekly_num', '중식점수']\n"
     ]
    }
   ],
   "source": [
    "print(X1_select.shape)\n",
    "print(X1.columns[fs1.get_support()].tolist()) #get_support: 선택한 특성을 불린값으로 보여줘서 어떤 특성을 선택했는지 알 수 있다."
   ]
  },
  {
   "cell_type": "code",
   "execution_count": 104,
   "metadata": {
    "scrolled": true
   },
   "outputs": [
    {
     "name": "stdout",
     "output_type": "stream",
     "text": [
      "(1205, 40)\n",
      "['요일', '년', '월', '일', '주', '출근', '회사출근_shift1', '회사출근_shift5', '야근_shift1', '야근_shift5', '코로나단계', '현본사소속재택근무자수_month', '초기정원차분', '요일_중식계', '요일_석식계', '휴가퍼센트', '출장퍼센트', '전날야간근무', '공휴일전후', '중식메뉴수', '석식메뉴수', '석식선택메뉴', '중식선택메뉴', '출근퍼센트', '겨울', '봄', '주_겨울', '주_가을', '주_여름', '가을', '여름', '말_일', '초_일', 'lunch_length', 'dinner_length', '연말연초', 'month', 'day', 'weekly_num', '석식점수']\n"
     ]
    }
   ],
   "source": [
    "print(X2_select.shape)\n",
    "print(X2.columns[fs2.get_support()].tolist()) #get_support: 선택한 특성을 불린값으로 보여줘서 어떤 특성을 선택했는지 알 수 있다."
   ]
  },
  {
   "cell_type": "code",
   "execution_count": 105,
   "metadata": {},
   "outputs": [],
   "source": [
    "X1 = train_ln[['요일', '년', '월', '일', '주', '출근', '회사출근_shift1', '야근_shift1', '야근_shift5', '코로나단계', '현본사소속재택근무자수_month', '초기정원차분', '요일_중식계', \\\n",
    "               '요일_석식계', '휴가퍼센트', '출장퍼센트', '공휴일전후', '중식메뉴수', '출근퍼센트', '겨울', '봄', '주_겨울', '주_봄', '주_가을', '가을', '말_일', '중_일', '초_일', 'lunch_length', \\\n",
    "               'dinner_length', '연말연초', 'weekly_num', '중식점수']]\n",
    "target1 = test_ln[X1.columns]"
   ]
  },
  {
   "cell_type": "code",
   "execution_count": 106,
   "metadata": {},
   "outputs": [],
   "source": [
    "X2 = train_dn[['요일', '년', '월', '일', '주', '출근', '회사출근_shift1', '회사출근_shift5', '야근_shift1', '야근_shift5', '코로나단계', '현본사소속재택근무자수_month', '초기정원차분', \\\n",
    "               '요일_중식계', '요일_석식계', '휴가퍼센트', '출장퍼센트', '전날야간근무', '공휴일전후', '중식메뉴수', '석식메뉴수', '석식선택메뉴', '중식선택메뉴', '출근퍼센트', '겨울', '봄', '주_겨울', \\\n",
    "               '주_가을', '주_여름', '가을', '여름', '말_일', '초_일', 'lunch_length', 'dinner_length', '연말연초', 'weekly_num', '석식점수']]\n",
    "y2 = train.석식계\n",
    "target2 = test_dn[X2.columns]"
   ]
  },
  {
   "cell_type": "code",
   "execution_count": 126,
   "metadata": {},
   "outputs": [],
   "source": [
    "X1.to_csv('../input/x1.csv')\n",
    "X2.to_csv('../input/x2.csv')"
   ]
  },
  {
   "cell_type": "code",
   "execution_count": 127,
   "metadata": {},
   "outputs": [],
   "source": [
    "target1.to_csv('../input/target1.csv')\n",
    "target2.to_csv('../input/target2.csv')"
   ]
  },
  {
   "cell_type": "code",
   "execution_count": 128,
   "metadata": {},
   "outputs": [],
   "source": [
    "X1 = X1.values\n",
    "X2 = X2.values"
   ]
  },
  {
   "cell_type": "code",
   "execution_count": 129,
   "metadata": {},
   "outputs": [],
   "source": [
    "lgbm = LGBMRegressor(random_state = 607, max_depth = 16, n_estimators = 20000, learning_rate = .01)"
   ]
  },
  {
   "cell_type": "code",
   "execution_count": 130,
   "metadata": {},
   "outputs": [
    {
     "name": "stdout",
     "output_type": "stream",
     "text": [
      "Training until validation scores don't improve for 2000 rounds\n",
      "[2000]\ttraining's l1: 13.7826\ttraining's l2: 357.31\tvalid_1's l1: 65.5703\tvalid_1's l2: 7685.29\n",
      "Early stopping, best iteration is:\n",
      "[269]\ttraining's l1: 55.6504\ttraining's l2: 5626.09\tvalid_1's l1: 64.2173\tvalid_1's l2: 7497.12\n",
      "FOLD MAE = 64.21726131084114\n",
      "Training until validation scores don't improve for 2000 rounds\n",
      "[2000]\ttraining's l1: 13.603\ttraining's l2: 338.759\tvalid_1's l1: 63.9167\tvalid_1's l2: 6391.55\n",
      "Early stopping, best iteration is:\n",
      "[894]\ttraining's l1: 28.5954\ttraining's l2: 1520.02\tvalid_1's l1: 62.2709\tvalid_1's l2: 6037.99\n",
      "FOLD MAE = 62.270913278976394\n",
      "Training until validation scores don't improve for 2000 rounds\n",
      "[2000]\ttraining's l1: 13.4893\ttraining's l2: 354.051\tvalid_1's l1: 83.4797\tvalid_1's l2: 12399.2\n",
      "Early stopping, best iteration is:\n",
      "[1345]\ttraining's l1: 20.6117\ttraining's l2: 801.726\tvalid_1's l1: 82.545\tvalid_1's l2: 12325.6\n",
      "FOLD MAE = 82.54496454496227\n",
      "Training until validation scores don't improve for 2000 rounds\n",
      "[2000]\ttraining's l1: 13.3521\ttraining's l2: 334.58\tvalid_1's l1: 72.0484\tvalid_1's l2: 9413.83\n",
      "Early stopping, best iteration is:\n",
      "[467]\ttraining's l1: 41.6556\ttraining's l2: 3264.3\tvalid_1's l1: 65.4579\tvalid_1's l2: 8353.01\n",
      "FOLD MAE = 65.45791196304039\n",
      "Training until validation scores don't improve for 2000 rounds\n",
      "[2000]\ttraining's l1: 13.9742\ttraining's l2: 359.776\tvalid_1's l1: 64.9511\tvalid_1's l2: 7890.38\n",
      "Early stopping, best iteration is:\n",
      "[1729]\ttraining's l1: 16.6265\ttraining's l2: 511.576\tvalid_1's l1: 64.7728\tvalid_1's l2: 7886.77\n",
      "FOLD MAE = 64.77278394456262\n",
      "Training until validation scores don't improve for 2000 rounds\n",
      "[2000]\ttraining's l1: 13.3153\ttraining's l2: 341.544\tvalid_1's l1: 76.8708\tvalid_1's l2: 11960.5\n",
      "Early stopping, best iteration is:\n",
      "[1673]\ttraining's l1: 16.4115\ttraining's l2: 515.051\tvalid_1's l1: 76.3892\tvalid_1's l2: 11942.8\n",
      "FOLD MAE = 76.38922281312846\n",
      "Training until validation scores don't improve for 2000 rounds\n",
      "[2000]\ttraining's l1: 13.4131\ttraining's l2: 333.157\tvalid_1's l1: 61.1778\tvalid_1's l2: 6470.7\n",
      "Early stopping, best iteration is:\n",
      "[438]\ttraining's l1: 43.8536\ttraining's l2: 3545.53\tvalid_1's l1: 55.7374\tvalid_1's l2: 5713.76\n",
      "FOLD MAE = 55.737363658708226\n",
      "Training until validation scores don't improve for 2000 rounds\n",
      "[2000]\ttraining's l1: 13.5288\ttraining's l2: 345.777\tvalid_1's l1: 67.9503\tvalid_1's l2: 8055.6\n",
      "Early stopping, best iteration is:\n",
      "[975]\ttraining's l1: 26.9418\ttraining's l2: 1363.86\tvalid_1's l1: 67.0529\tvalid_1's l2: 8197.27\n",
      "FOLD MAE = 67.05294237720035\n",
      "Training until validation scores don't improve for 2000 rounds\n",
      "[2000]\ttraining's l1: 13.479\ttraining's l2: 333.638\tvalid_1's l1: 76.2625\tvalid_1's l2: 9781.07\n",
      "Early stopping, best iteration is:\n",
      "[1365]\ttraining's l1: 20.2748\ttraining's l2: 757.914\tvalid_1's l1: 75.5834\tvalid_1's l2: 9692.2\n",
      "FOLD MAE = 75.58336942079968\n",
      "Training until validation scores don't improve for 2000 rounds\n",
      "[2000]\ttraining's l1: 13.5894\ttraining's l2: 345.498\tvalid_1's l1: 69.2076\tvalid_1's l2: 8390.72\n",
      "Early stopping, best iteration is:\n",
      "[1130]\ttraining's l1: 24.2677\ttraining's l2: 1093.38\tvalid_1's l1: 68.5834\tvalid_1's l2: 8378.14\n",
      "FOLD MAE = 68.58340565087437\n",
      "Training until validation scores don't improve for 2000 rounds\n",
      "[2000]\ttraining's l1: 13.169\ttraining's l2: 328.575\tvalid_1's l1: 83.9325\tvalid_1's l2: 13656\n",
      "Early stopping, best iteration is:\n",
      "[1092]\ttraining's l1: 24.2808\ttraining's l2: 1101.14\tvalid_1's l1: 82.7439\tvalid_1's l2: 13601.4\n",
      "FOLD MAE = 82.74389202209065\n",
      "Training until validation scores don't improve for 2000 rounds\n",
      "[2000]\ttraining's l1: 13.102\ttraining's l2: 317.691\tvalid_1's l1: 58.0376\tvalid_1's l2: 7388.61\n",
      "Early stopping, best iteration is:\n",
      "[1208]\ttraining's l1: 22.2872\ttraining's l2: 913.726\tvalid_1's l1: 59.1687\tvalid_1's l2: 7320.55\n",
      "FOLD MAE = 59.16866776703567\n",
      "Training until validation scores don't improve for 2000 rounds\n",
      "[2000]\ttraining's l1: 13.9569\ttraining's l2: 363.184\tvalid_1's l1: 59.1868\tvalid_1's l2: 5708.27\n",
      "Early stopping, best iteration is:\n",
      "[817]\ttraining's l1: 30.9234\ttraining's l2: 1780.89\tvalid_1's l1: 58.891\tvalid_1's l2: 5739.44\n",
      "FOLD MAE = 58.890957411511316\n",
      "Training until validation scores don't improve for 2000 rounds\n",
      "[2000]\ttraining's l1: 13.4027\ttraining's l2: 345.858\tvalid_1's l1: 75.6407\tvalid_1's l2: 9266.46\n",
      "Early stopping, best iteration is:\n",
      "[672]\ttraining's l1: 34.4198\ttraining's l2: 2253.75\tvalid_1's l1: 72.8859\tvalid_1's l2: 8699.11\n",
      "FOLD MAE = 72.8859022470183\n",
      "Training until validation scores don't improve for 2000 rounds\n",
      "[2000]\ttraining's l1: 13.762\ttraining's l2: 352.59\tvalid_1's l1: 64.466\tvalid_1's l2: 7179.25\n",
      "Early stopping, best iteration is:\n",
      "[658]\ttraining's l1: 34.822\ttraining's l2: 2271.21\tvalid_1's l1: 63.3212\tvalid_1's l2: 6797.99\n",
      "FOLD MAE = 63.32115853246057\n",
      "\n",
      "LGBMRegressor MAE = 67.9747144628807\n"
     ]
    }
   ],
   "source": [
    "lgbm_pred_1 = np.zeros((target1.shape[0]))\n",
    "mae_list = []\n",
    "for tr_idx, val_idx in kf.split(X1):\n",
    "    tr_x, val_x = X1[tr_idx], X1[val_idx]\n",
    "    tr_y, val_y = y1[tr_idx], y1[val_idx]\n",
    "    lgbm.fit(tr_x, tr_y, eval_set = [(tr_x, tr_y), (val_x, val_y)], eval_metric = 'mean_absolute_error', early_stopping_rounds = 2000, verbose = 2000)\n",
    "    pred = lgbm.predict(val_x)\n",
    "    mae = mean_absolute_error(val_y, pred)\n",
    "    mae_list.append(mae)\n",
    "    print(f'FOLD MAE = {mae}')\n",
    "    sub_pred = lgbm.predict(target1) / 15\n",
    "    lgbm_pred_1 += sub_pred\n",
    "print(f'\\n{lgbm.__class__.__name__} MAE = {np.mean(mae_list)}')"
   ]
  },
  {
   "cell_type": "code",
   "execution_count": 131,
   "metadata": {
    "scrolled": false
   },
   "outputs": [
    {
     "data": {
      "text/plain": [
       "48525.52036489487"
      ]
     },
     "execution_count": 131,
     "metadata": {},
     "output_type": "execute_result"
    }
   ],
   "source": [
    "lgbm_pred_1.sum()"
   ]
  },
  {
   "cell_type": "code",
   "execution_count": 132,
   "metadata": {
    "scrolled": true
   },
   "outputs": [
    {
     "name": "stdout",
     "output_type": "stream",
     "text": [
      "Training until validation scores don't improve for 2000 rounds\n",
      "[2000]\ttraining's l1: 8.18104\ttraining's l2: 156.543\tvalid_1's l1: 52.4422\tvalid_1's l2: 5348.37\n",
      "Early stopping, best iteration is:\n",
      "[929]\ttraining's l1: 17.5031\ttraining's l2: 658.771\tvalid_1's l1: 51.9892\tvalid_1's l2: 5443.92\n",
      "FOLD MAE = 51.98924662193306\n",
      "Training until validation scores don't improve for 2000 rounds\n",
      "[2000]\ttraining's l1: 8.16455\ttraining's l2: 123.195\tvalid_1's l1: 53.373\tvalid_1's l2: 8139.24\n",
      "Early stopping, best iteration is:\n",
      "[547]\ttraining's l1: 24.9238\ttraining's l2: 1191.43\tvalid_1's l1: 52.387\tvalid_1's l2: 8187.28\n",
      "FOLD MAE = 52.386961858153825\n",
      "Training until validation scores don't improve for 2000 rounds\n",
      "[2000]\ttraining's l1: 8.34605\ttraining's l2: 162.94\tvalid_1's l1: 54.6952\tvalid_1's l2: 5557.9\n",
      "Early stopping, best iteration is:\n",
      "[504]\ttraining's l1: 26.9745\ttraining's l2: 1466.84\tvalid_1's l1: 53.1265\tvalid_1's l2: 5504.41\n",
      "FOLD MAE = 53.12647539056981\n",
      "Training until validation scores don't improve for 2000 rounds\n",
      "[2000]\ttraining's l1: 8.45731\ttraining's l2: 161.432\tvalid_1's l1: 44.214\tvalid_1's l2: 3424.74\n",
      "Early stopping, best iteration is:\n",
      "[1038]\ttraining's l1: 16.7044\ttraining's l2: 574.412\tvalid_1's l1: 44.0201\tvalid_1's l2: 3542.67\n",
      "FOLD MAE = 44.02013527838897\n",
      "Training until validation scores don't improve for 2000 rounds\n",
      "[2000]\ttraining's l1: 8.29317\ttraining's l2: 155.676\tvalid_1's l1: 42.107\tvalid_1's l2: 2932.14\n",
      "Early stopping, best iteration is:\n",
      "[361]\ttraining's l1: 32.1652\ttraining's l2: 2093.83\tvalid_1's l1: 41.0778\tvalid_1's l2: 2741.73\n",
      "FOLD MAE = 41.07777173641116\n",
      "Training until validation scores don't improve for 2000 rounds\n",
      "[2000]\ttraining's l1: 7.82877\ttraining's l2: 145.307\tvalid_1's l1: 49.4716\tvalid_1's l2: 5185.67\n",
      "Early stopping, best iteration is:\n",
      "[379]\ttraining's l1: 30.7286\ttraining's l2: 1945.07\tvalid_1's l1: 47.603\tvalid_1's l2: 4814.36\n",
      "FOLD MAE = 47.603040590773915\n",
      "Training until validation scores don't improve for 2000 rounds\n",
      "[2000]\ttraining's l1: 8.3414\ttraining's l2: 162.701\tvalid_1's l1: 47.6046\tvalid_1's l2: 4605.32\n",
      "[4000]\ttraining's l1: 2.72117\ttraining's l2: 28.0183\tvalid_1's l1: 47.8533\tvalid_1's l2: 4562.72\n",
      "Early stopping, best iteration is:\n",
      "[2335]\ttraining's l1: 6.7557\ttraining's l2: 112.931\tvalid_1's l1: 47.4559\tvalid_1's l2: 4563.72\n",
      "FOLD MAE = 47.45585979115811\n",
      "Training until validation scores don't improve for 2000 rounds\n",
      "[2000]\ttraining's l1: 8.15102\ttraining's l2: 147.485\tvalid_1's l1: 47.9621\tvalid_1's l2: 3502.88\n",
      "[4000]\ttraining's l1: 2.59033\ttraining's l2: 23.0545\tvalid_1's l1: 47.1816\tvalid_1's l2: 3454.17\n",
      "[6000]\ttraining's l1: 1.01614\ttraining's l2: 6.77535\tvalid_1's l1: 47.0334\tvalid_1's l2: 3450.37\n",
      "[8000]\ttraining's l1: 0.473943\ttraining's l2: 2.88576\tvalid_1's l1: 46.9782\tvalid_1's l2: 3446.24\n",
      "[10000]\ttraining's l1: 0.257964\ttraining's l2: 1.16411\tvalid_1's l1: 46.972\tvalid_1's l2: 3443.11\n",
      "Early stopping, best iteration is:\n",
      "[8620]\ttraining's l1: 0.38934\ttraining's l2: 2.24007\tvalid_1's l1: 46.9635\tvalid_1's l2: 3444.33\n",
      "FOLD MAE = 46.96350724588871\n",
      "Training until validation scores don't improve for 2000 rounds\n",
      "[2000]\ttraining's l1: 8.15875\ttraining's l2: 155.594\tvalid_1's l1: 59.9686\tvalid_1's l2: 7179.43\n",
      "Early stopping, best iteration is:\n",
      "[425]\ttraining's l1: 28.8523\ttraining's l2: 1736.77\tvalid_1's l1: 58.5436\tvalid_1's l2: 6923.34\n",
      "FOLD MAE = 58.54364364653188\n",
      "Training until validation scores don't improve for 2000 rounds\n",
      "[2000]\ttraining's l1: 8.16517\ttraining's l2: 158.336\tvalid_1's l1: 43.8576\tvalid_1's l2: 4452.97\n",
      "Early stopping, best iteration is:\n",
      "[755]\ttraining's l1: 21.0427\ttraining's l2: 909.551\tvalid_1's l1: 41.7097\tvalid_1's l2: 4150.53\n",
      "FOLD MAE = 41.70969517614928\n",
      "Training until validation scores don't improve for 2000 rounds\n",
      "[2000]\ttraining's l1: 7.93466\ttraining's l2: 147.58\tvalid_1's l1: 43.6697\tvalid_1's l2: 5112.92\n",
      "Early stopping, best iteration is:\n",
      "[607]\ttraining's l1: 23.885\ttraining's l2: 1142.74\tvalid_1's l1: 41.2834\tvalid_1's l2: 5106.94\n",
      "FOLD MAE = 41.283434551207826\n",
      "Training until validation scores don't improve for 2000 rounds\n",
      "[2000]\ttraining's l1: 8.1055\ttraining's l2: 148.905\tvalid_1's l1: 47.4419\tvalid_1's l2: 4580.85\n",
      "Early stopping, best iteration is:\n",
      "[442]\ttraining's l1: 28.9007\ttraining's l2: 1698.9\tvalid_1's l1: 46.2069\tvalid_1's l2: 4476.65\n",
      "FOLD MAE = 46.20691052189582\n",
      "Training until validation scores don't improve for 2000 rounds\n",
      "[2000]\ttraining's l1: 7.84208\ttraining's l2: 147.864\tvalid_1's l1: 50.6054\tvalid_1's l2: 3943.38\n",
      "Early stopping, best iteration is:\n",
      "[398]\ttraining's l1: 30.1475\ttraining's l2: 1873.39\tvalid_1's l1: 47.7746\tvalid_1's l2: 3704.15\n",
      "FOLD MAE = 47.77459087174991\n",
      "Training until validation scores don't improve for 2000 rounds\n",
      "[2000]\ttraining's l1: 8.14841\ttraining's l2: 155.023\tvalid_1's l1: 46.9992\tvalid_1's l2: 3751.39\n",
      "Early stopping, best iteration is:\n",
      "[352]\ttraining's l1: 32.5164\ttraining's l2: 2124.29\tvalid_1's l1: 45.4559\tvalid_1's l2: 3344.13\n",
      "FOLD MAE = 45.45590517675707\n",
      "Training until validation scores don't improve for 2000 rounds\n",
      "[2000]\ttraining's l1: 8.25573\ttraining's l2: 154.978\tvalid_1's l1: 39.6648\tvalid_1's l2: 2582.66\n",
      "Early stopping, best iteration is:\n",
      "[916]\ttraining's l1: 18.2188\ttraining's l2: 686.658\tvalid_1's l1: 39.0276\tvalid_1's l2: 2537.55\n",
      "FOLD MAE = 39.02762534836437\n",
      "\n",
      "LGBMRegressor MAE = 46.97498692039558\n"
     ]
    }
   ],
   "source": [
    "lgbm_pred_2 = np.zeros((target1.shape[0]))\n",
    "mae_list = []\n",
    "for tr_idx, val_idx in kf.split(X2):\n",
    "    tr_x, val_x = X2[tr_idx], X2[val_idx]\n",
    "    tr_y, val_y = y2[tr_idx], y2[val_idx]\n",
    "    \n",
    "    lgbm.fit(tr_x, tr_y, eval_set = [(tr_x, tr_y), (val_x, val_y)], eval_metric = 'mean_absolute_error', early_stopping_rounds = 2000, verbose = 2000)\n",
    "    pred = lgbm.predict(val_x)\n",
    "    mae = mean_absolute_error(val_y, pred)\n",
    "    print(f'FOLD MAE = {mae}')\n",
    "    mae_list.append(mae)\n",
    "    sub_pred = lgbm.predict(target2) / 15\n",
    "    lgbm_pred_2 += sub_pred\n",
    "print(f'\\n{lgbm.__class__.__name__} MAE = {np.mean(mae_list)}')"
   ]
  },
  {
   "cell_type": "code",
   "execution_count": 133,
   "metadata": {
    "scrolled": true
   },
   "outputs": [
    {
     "data": {
      "text/plain": [
       "22866.61988756614"
      ]
     },
     "execution_count": 133,
     "metadata": {},
     "output_type": "execute_result"
    }
   ],
   "source": [
    "lgbm_pred_2.sum()"
   ]
  },
  {
   "cell_type": "code",
   "execution_count": 134,
   "metadata": {},
   "outputs": [],
   "source": [
    "X1 = train_ln[['요일', '년', '월', '일', '주', '출근', '회사출근_shift1', '야근_shift1', '야근_shift5', '코로나단계', '현본사소속재택근무자수_month', '초기정원차분', '요일_중식계', \\\n",
    "               '요일_석식계', '휴가퍼센트', '출장퍼센트', '공휴일전후', '중식메뉴수', '출근퍼센트', '겨울', '봄', '주_겨울', '주_봄', '주_가을', '가을', '말_일', '중_일', '초_일', 'lunch_length', \\\n",
    "               'dinner_length', '연말연초', 'weekly_num', '중식점수']]\n",
    "target1 = test_ln[X1.columns]"
   ]
  },
  {
   "cell_type": "code",
   "execution_count": 135,
   "metadata": {},
   "outputs": [],
   "source": [
    "X2 = train_dn[['요일', '년', '월', '일', '주', '출근', '회사출근_shift1', '회사출근_shift5', '야근_shift1', '야근_shift5', '코로나단계', '현본사소속재택근무자수_month', '초기정원차분', \\\n",
    "               '요일_중식계', '요일_석식계', '휴가퍼센트', '출장퍼센트', '전날야간근무', '공휴일전후', '중식메뉴수', '석식메뉴수', '석식선택메뉴', '중식선택메뉴', '출근퍼센트', '겨울', '봄', '주_겨울', \\\n",
    "               '주_가을', '주_여름', '가을', '여름', '말_일', '초_일', 'lunch_length', 'dinner_length', '연말연초', 'weekly_num', '석식점수']]\n",
    "y2 = train.석식계\n",
    "target2 = test_dn[X2.columns]"
   ]
  },
  {
   "cell_type": "code",
   "execution_count": 136,
   "metadata": {},
   "outputs": [],
   "source": [
    "ngb = NGBRegressor(n_estimators = 20000, verbose = 0, random_state = 607)"
   ]
  },
  {
   "cell_type": "code",
   "execution_count": 137,
   "metadata": {
    "scrolled": true
   },
   "outputs": [
    {
     "name": "stdout",
     "output_type": "stream",
     "text": [
      "FOLD MAE = 67.46036020010908\n",
      "FOLD MAE = 41.48245220572523\n",
      "FOLD MAE = 44.341378149394544\n",
      "FOLD MAE = 29.78346364517357\n",
      "FOLD MAE = 27.535351496887465\n",
      "FOLD MAE = 28.75441389715931\n",
      "FOLD MAE = 24.053256973976296\n",
      "FOLD MAE = 28.144610417042315\n",
      "FOLD MAE = 23.216161264667683\n",
      "FOLD MAE = 29.20267661790202\n",
      "FOLD MAE = 24.881621590073518\n",
      "FOLD MAE = 20.13003005662672\n",
      "FOLD MAE = 22.04457681794623\n",
      "FOLD MAE = 24.78081919149642\n",
      "FOLD MAE = 21.369338507503095\n",
      "\n",
      "NGBRegressor MAE = 30.478700735445557\n"
     ]
    }
   ],
   "source": [
    "ngb_pred_1 = np.zeros((target1.shape[0]))\n",
    "mae_list = []\n",
    "for tr_idx, val_idx in kf.split(X1):\n",
    "    tr_x, val_x = X1.iloc[tr_idx], X1.iloc[val_idx]\n",
    "    tr_y, val_y = y1.iloc[tr_idx], y1.iloc[val_idx]\n",
    "    ngb.fit(tr_x, tr_y, val_x, val_y, early_stopping_rounds = 2000)\n",
    "    pred = ngb.predict(val_x)\n",
    "    mae = mean_absolute_error(val_y, pred)\n",
    "    mae_list.append(mae)\n",
    "    print(f'FOLD MAE = {mae}')\n",
    "    sub_pred = ngb.predict(target1) / 15\n",
    "    ngb_pred_1 += sub_pred\n",
    "print(f'\\n{ngb.__class__.__name__} MAE = {np.mean(mae_list)}')"
   ]
  },
  {
   "cell_type": "code",
   "execution_count": 138,
   "metadata": {
    "scrolled": true
   },
   "outputs": [
    {
     "data": {
      "text/plain": [
       "49433.79597032664"
      ]
     },
     "execution_count": 138,
     "metadata": {},
     "output_type": "execute_result"
    }
   ],
   "source": [
    "ngb_pred_1.sum()"
   ]
  },
  {
   "cell_type": "code",
   "execution_count": 139,
   "metadata": {},
   "outputs": [],
   "source": [
    "ngb = NGBRegressor(n_estimators = 15000, verbose = 0, random_state = 607)"
   ]
  },
  {
   "cell_type": "code",
   "execution_count": 140,
   "metadata": {},
   "outputs": [
    {
     "name": "stdout",
     "output_type": "stream",
     "text": [
      "FOLD MAE = 54.71480487456918\n",
      "FOLD MAE = 31.303761188413542\n",
      "FOLD MAE = 25.175951398333247\n",
      "FOLD MAE = 25.498015968768946\n",
      "FOLD MAE = 26.512509099948765\n",
      "FOLD MAE = 24.2583440203346\n",
      "FOLD MAE = 25.02066456946373\n",
      "FOLD MAE = 24.895268043441312\n",
      "FOLD MAE = 22.869791638802297\n",
      "FOLD MAE = 19.287223973897788\n",
      "FOLD MAE = 18.275370110803117\n",
      "FOLD MAE = 19.81462805086152\n",
      "FOLD MAE = 17.852310891744725\n",
      "FOLD MAE = 17.91172698901614\n",
      "FOLD MAE = 17.00061647203618\n",
      "\n",
      "NGBRegressor MAE = 24.692732486029005\n"
     ]
    }
   ],
   "source": [
    "ngb_pred_2 = np.zeros((target2.shape[0]))\n",
    "mae_list = []\n",
    "for tr_idx, val_idx in kf.split(X2):\n",
    "    tr_x, val_x = X2.iloc[tr_idx], X2.iloc[val_idx]\n",
    "    tr_y, val_y = y2.iloc[tr_idx], y2.iloc[val_idx]\n",
    "    ngb.fit(tr_x, tr_y, val_x, val_y, early_stopping_rounds = 2000)\n",
    "    pred = ngb.predict(val_x)\n",
    "    mae = mean_absolute_error(val_y, pred)\n",
    "    mae_list.append(mae)\n",
    "    print(f'FOLD MAE = {mae}')\n",
    "    sub_pred = ngb.predict(target2) / 15\n",
    "    ngb_pred_2 += sub_pred\n",
    "print(f'\\n{ngb.__class__.__name__} MAE = {np.mean(mae_list)}')"
   ]
  },
  {
   "cell_type": "code",
   "execution_count": 141,
   "metadata": {
    "scrolled": false
   },
   "outputs": [
    {
     "data": {
      "text/plain": [
       "23042.524971991275"
      ]
     },
     "execution_count": 141,
     "metadata": {},
     "output_type": "execute_result"
    }
   ],
   "source": [
    "ngb_pred_2.sum()"
   ]
  },
  {
   "cell_type": "code",
   "execution_count": 107,
   "metadata": {},
   "outputs": [],
   "source": [
    "X1 = train_ln[['요일', '년', '월', '일', '주', '출근', '회사출근_shift1', '야근_shift1', '야근_shift5', '코로나단계', '현본사소속재택근무자수_month', '초기정원차분', '요일_중식계', \\\n",
    "               '요일_석식계', '휴가퍼센트', '출장퍼센트', '공휴일전후', '중식메뉴수', '출근퍼센트', '겨울', '봄', '주_겨울', '주_봄', '주_가을', '가을', '말_일', '중_일', '초_일', 'lunch_length', \\\n",
    "               'dinner_length', '연말연초', 'weekly_num', '중식점수']]\n",
    "target1 = test_ln[X1.columns]"
   ]
  },
  {
   "cell_type": "code",
   "execution_count": 108,
   "metadata": {},
   "outputs": [],
   "source": [
    "X2 = train_dn[['요일', '년', '월', '일', '주', '출근', '회사출근_shift1', '회사출근_shift5', '야근_shift1', '야근_shift5', '코로나단계', '현본사소속재택근무자수_month', '초기정원차분', \\\n",
    "               '요일_중식계', '요일_석식계', '휴가퍼센트', '출장퍼센트', '전날야간근무', '공휴일전후', '중식메뉴수', '석식메뉴수', '석식선택메뉴', '중식선택메뉴', '출근퍼센트', '겨울', '봄', '주_겨울', \\\n",
    "               '주_가을', '주_여름', '가을', '여름', '말_일', '초_일', 'lunch_length', 'dinner_length', '연말연초', 'weekly_num', '석식점수']]\n",
    "y2 = train.석식계\n",
    "target2 = test_dn[X2.columns]"
   ]
  },
  {
   "cell_type": "code",
   "execution_count": 109,
   "metadata": {},
   "outputs": [],
   "source": [
    "X1 = X1.astype(int)\n",
    "X2 = X2.astype(int)\n",
    "target1 = target1.astype(int)\n",
    "target2 = target2.astype(int)"
   ]
  },
  {
   "cell_type": "code",
   "execution_count": 110,
   "metadata": {},
   "outputs": [],
   "source": [
    "cat_features_ln = ['요일', '년', '월', '일', '주', '코로나단계', '휴가퍼센트', '출장퍼센트', '공휴일전후', '출근퍼센트', '겨울', '봄', '주_겨울', '주_봄', '주_가을', '가을', '말_일', '중_일', \\\n",
    "                   '초_일', '연말연초', 'weekly_num']\n",
    "                  \n",
    "cat_features_dn = ['요일', '년', '월', '일', '주', '코로나단계', '휴가퍼센트', '출장퍼센트', '전날야간근무', '공휴일전후', '출근퍼센트',  '겨울', '봄', '주_겨울', '주_가을', '주_여름', '가을', \\\n",
    "                   '여름', '말_일', '초_일', '연말연초', 'weekly_num']"
   ]
  },
  {
   "cell_type": "code",
   "execution_count": 111,
   "metadata": {},
   "outputs": [],
   "source": [
    "from catboost import CatBoostRegressor, Pool\n",
    "cb = CatBoostRegressor(iterations = 20000, learning_rate = 0.01, eval_metric = 'MAE', silent = True, \n",
    "                       loss_function = 'MAE')"
   ]
  },
  {
   "cell_type": "code",
   "execution_count": 112,
   "metadata": {},
   "outputs": [
    {
     "name": "stdout",
     "output_type": "stream",
     "text": [
      "0:\tlearn: 166.6362090\ttest: 162.9091348\tbest: 162.9091348 (0)\ttotal: 150ms\tremaining: 49m 55s\n"
     ]
    },
    {
     "ename": "KeyboardInterrupt",
     "evalue": "",
     "output_type": "error",
     "traceback": [
      "\u001b[1;31m---------------------------------------------------------------------------\u001b[0m",
      "\u001b[1;31mKeyboardInterrupt\u001b[0m                         Traceback (most recent call last)",
      "\u001b[1;32m<ipython-input-112-4c989d540b1e>\u001b[0m in \u001b[0;36m<module>\u001b[1;34m\u001b[0m\n\u001b[0;32m      6\u001b[0m     \u001b[0mtrain_data\u001b[0m \u001b[1;33m=\u001b[0m \u001b[0mPool\u001b[0m\u001b[1;33m(\u001b[0m\u001b[0mdata\u001b[0m \u001b[1;33m=\u001b[0m \u001b[0mtr_x\u001b[0m\u001b[1;33m,\u001b[0m \u001b[0mlabel\u001b[0m \u001b[1;33m=\u001b[0m \u001b[0mtr_y\u001b[0m\u001b[1;33m,\u001b[0m \u001b[0mcat_features\u001b[0m \u001b[1;33m=\u001b[0m \u001b[0mcat_features_ln\u001b[0m\u001b[1;33m)\u001b[0m\u001b[1;33m\u001b[0m\u001b[1;33m\u001b[0m\u001b[0m\n\u001b[0;32m      7\u001b[0m     \u001b[0mval_data\u001b[0m \u001b[1;33m=\u001b[0m \u001b[0mPool\u001b[0m\u001b[1;33m(\u001b[0m\u001b[0mdata\u001b[0m \u001b[1;33m=\u001b[0m \u001b[0mval_x\u001b[0m\u001b[1;33m,\u001b[0m \u001b[0mlabel\u001b[0m \u001b[1;33m=\u001b[0m \u001b[0mval_y\u001b[0m\u001b[1;33m,\u001b[0m \u001b[0mcat_features\u001b[0m \u001b[1;33m=\u001b[0m \u001b[0mcat_features_ln\u001b[0m\u001b[1;33m)\u001b[0m\u001b[1;33m\u001b[0m\u001b[1;33m\u001b[0m\u001b[0m\n\u001b[1;32m----> 8\u001b[1;33m     \u001b[0mcb\u001b[0m\u001b[1;33m.\u001b[0m\u001b[0mfit\u001b[0m\u001b[1;33m(\u001b[0m\u001b[0mtrain_data\u001b[0m\u001b[1;33m,\u001b[0m \u001b[0meval_set\u001b[0m \u001b[1;33m=\u001b[0m \u001b[0mval_data\u001b[0m\u001b[1;33m,\u001b[0m \u001b[0mearly_stopping_rounds\u001b[0m \u001b[1;33m=\u001b[0m \u001b[1;36m2000\u001b[0m\u001b[1;33m,\u001b[0m \u001b[0muse_best_model\u001b[0m \u001b[1;33m=\u001b[0m \u001b[1;32mTrue\u001b[0m\u001b[1;33m,\u001b[0m \u001b[0mverbose\u001b[0m \u001b[1;33m=\u001b[0m \u001b[1;36m5000\u001b[0m\u001b[1;33m)\u001b[0m\u001b[1;33m\u001b[0m\u001b[1;33m\u001b[0m\u001b[0m\n\u001b[0m\u001b[0;32m      9\u001b[0m     \u001b[0mbest\u001b[0m \u001b[1;33m=\u001b[0m \u001b[0mcb\u001b[0m\u001b[1;33m.\u001b[0m\u001b[0mbest_iteration_\u001b[0m\u001b[1;33m\u001b[0m\u001b[1;33m\u001b[0m\u001b[0m\n\u001b[0;32m     10\u001b[0m     \u001b[0mpred\u001b[0m \u001b[1;33m=\u001b[0m \u001b[0mcb\u001b[0m\u001b[1;33m.\u001b[0m\u001b[0mpredict\u001b[0m\u001b[1;33m(\u001b[0m\u001b[0mval_x\u001b[0m\u001b[1;33m,\u001b[0m \u001b[0mntree_end\u001b[0m \u001b[1;33m=\u001b[0m \u001b[0mbest\u001b[0m\u001b[1;33m)\u001b[0m\u001b[1;33m\u001b[0m\u001b[1;33m\u001b[0m\u001b[0m\n",
      "\u001b[1;32m~\\anaconda3\\lib\\site-packages\\catboost\\core.py\u001b[0m in \u001b[0;36mfit\u001b[1;34m(self, X, y, cat_features, sample_weight, baseline, use_best_model, eval_set, verbose, logging_level, plot, column_description, verbose_eval, metric_period, silent, early_stopping_rounds, save_snapshot, snapshot_file, snapshot_interval, init_model, callbacks, log_cout, log_cerr)\u001b[0m\n\u001b[0;32m   5254\u001b[0m             \u001b[0mCatBoostRegressor\u001b[0m\u001b[1;33m.\u001b[0m\u001b[0m_check_is_compatible_loss\u001b[0m\u001b[1;33m(\u001b[0m\u001b[0mparams\u001b[0m\u001b[1;33m[\u001b[0m\u001b[1;34m'loss_function'\u001b[0m\u001b[1;33m]\u001b[0m\u001b[1;33m)\u001b[0m\u001b[1;33m\u001b[0m\u001b[1;33m\u001b[0m\u001b[0m\n\u001b[0;32m   5255\u001b[0m \u001b[1;33m\u001b[0m\u001b[0m\n\u001b[1;32m-> 5256\u001b[1;33m         return self._fit(X, y, cat_features, None, None, None, sample_weight, None, None, None, None, baseline,\n\u001b[0m\u001b[0;32m   5257\u001b[0m                          \u001b[0muse_best_model\u001b[0m\u001b[1;33m,\u001b[0m \u001b[0meval_set\u001b[0m\u001b[1;33m,\u001b[0m \u001b[0mverbose\u001b[0m\u001b[1;33m,\u001b[0m \u001b[0mlogging_level\u001b[0m\u001b[1;33m,\u001b[0m \u001b[0mplot\u001b[0m\u001b[1;33m,\u001b[0m \u001b[0mcolumn_description\u001b[0m\u001b[1;33m,\u001b[0m\u001b[1;33m\u001b[0m\u001b[1;33m\u001b[0m\u001b[0m\n\u001b[0;32m   5258\u001b[0m                          \u001b[0mverbose_eval\u001b[0m\u001b[1;33m,\u001b[0m \u001b[0mmetric_period\u001b[0m\u001b[1;33m,\u001b[0m \u001b[0msilent\u001b[0m\u001b[1;33m,\u001b[0m \u001b[0mearly_stopping_rounds\u001b[0m\u001b[1;33m,\u001b[0m\u001b[1;33m\u001b[0m\u001b[1;33m\u001b[0m\u001b[0m\n",
      "\u001b[1;32m~\\anaconda3\\lib\\site-packages\\catboost\\core.py\u001b[0m in \u001b[0;36m_fit\u001b[1;34m(self, X, y, cat_features, text_features, embedding_features, pairs, sample_weight, group_id, group_weight, subgroup_id, pairs_weight, baseline, use_best_model, eval_set, verbose, logging_level, plot, column_description, verbose_eval, metric_period, silent, early_stopping_rounds, save_snapshot, snapshot_file, snapshot_interval, init_model, callbacks, log_cout, log_cerr)\u001b[0m\n\u001b[0;32m   1992\u001b[0m         \u001b[1;32mwith\u001b[0m \u001b[0mlog_fixup\u001b[0m\u001b[1;33m(\u001b[0m\u001b[0mlog_cout\u001b[0m\u001b[1;33m,\u001b[0m \u001b[0mlog_cerr\u001b[0m\u001b[1;33m)\u001b[0m\u001b[1;33m,\u001b[0m\u001b[0;31m \u001b[0m\u001b[0;31m\\\u001b[0m\u001b[1;33m\u001b[0m\u001b[1;33m\u001b[0m\u001b[0m\n\u001b[0;32m   1993\u001b[0m             \u001b[0mplot_wrapper\u001b[0m\u001b[1;33m(\u001b[0m\u001b[0mplot\u001b[0m\u001b[1;33m,\u001b[0m \u001b[1;33m[\u001b[0m\u001b[0m_get_train_dir\u001b[0m\u001b[1;33m(\u001b[0m\u001b[0mself\u001b[0m\u001b[1;33m.\u001b[0m\u001b[0mget_params\u001b[0m\u001b[1;33m(\u001b[0m\u001b[1;33m)\u001b[0m\u001b[1;33m)\u001b[0m\u001b[1;33m]\u001b[0m\u001b[1;33m)\u001b[0m\u001b[1;33m:\u001b[0m\u001b[1;33m\u001b[0m\u001b[1;33m\u001b[0m\u001b[0m\n\u001b[1;32m-> 1994\u001b[1;33m             self._train(\n\u001b[0m\u001b[0;32m   1995\u001b[0m                 \u001b[0mtrain_pool\u001b[0m\u001b[1;33m,\u001b[0m\u001b[1;33m\u001b[0m\u001b[1;33m\u001b[0m\u001b[0m\n\u001b[0;32m   1996\u001b[0m                 \u001b[0mtrain_params\u001b[0m\u001b[1;33m[\u001b[0m\u001b[1;34m\"eval_sets\"\u001b[0m\u001b[1;33m]\u001b[0m\u001b[1;33m,\u001b[0m\u001b[1;33m\u001b[0m\u001b[1;33m\u001b[0m\u001b[0m\n",
      "\u001b[1;32m~\\anaconda3\\lib\\site-packages\\catboost\\core.py\u001b[0m in \u001b[0;36m_train\u001b[1;34m(self, train_pool, test_pool, params, allow_clear_pool, init_model)\u001b[0m\n\u001b[0;32m   1423\u001b[0m \u001b[1;33m\u001b[0m\u001b[0m\n\u001b[0;32m   1424\u001b[0m     \u001b[1;32mdef\u001b[0m \u001b[0m_train\u001b[0m\u001b[1;33m(\u001b[0m\u001b[0mself\u001b[0m\u001b[1;33m,\u001b[0m \u001b[0mtrain_pool\u001b[0m\u001b[1;33m,\u001b[0m \u001b[0mtest_pool\u001b[0m\u001b[1;33m,\u001b[0m \u001b[0mparams\u001b[0m\u001b[1;33m,\u001b[0m \u001b[0mallow_clear_pool\u001b[0m\u001b[1;33m,\u001b[0m \u001b[0minit_model\u001b[0m\u001b[1;33m)\u001b[0m\u001b[1;33m:\u001b[0m\u001b[1;33m\u001b[0m\u001b[1;33m\u001b[0m\u001b[0m\n\u001b[1;32m-> 1425\u001b[1;33m         \u001b[0mself\u001b[0m\u001b[1;33m.\u001b[0m\u001b[0m_object\u001b[0m\u001b[1;33m.\u001b[0m\u001b[0m_train\u001b[0m\u001b[1;33m(\u001b[0m\u001b[0mtrain_pool\u001b[0m\u001b[1;33m,\u001b[0m \u001b[0mtest_pool\u001b[0m\u001b[1;33m,\u001b[0m \u001b[0mparams\u001b[0m\u001b[1;33m,\u001b[0m \u001b[0mallow_clear_pool\u001b[0m\u001b[1;33m,\u001b[0m \u001b[0minit_model\u001b[0m\u001b[1;33m.\u001b[0m\u001b[0m_object\u001b[0m \u001b[1;32mif\u001b[0m \u001b[0minit_model\u001b[0m \u001b[1;32melse\u001b[0m \u001b[1;32mNone\u001b[0m\u001b[1;33m)\u001b[0m\u001b[1;33m\u001b[0m\u001b[1;33m\u001b[0m\u001b[0m\n\u001b[0m\u001b[0;32m   1426\u001b[0m         \u001b[0mself\u001b[0m\u001b[1;33m.\u001b[0m\u001b[0m_set_trained_model_attributes\u001b[0m\u001b[1;33m(\u001b[0m\u001b[1;33m)\u001b[0m\u001b[1;33m\u001b[0m\u001b[1;33m\u001b[0m\u001b[0m\n\u001b[0;32m   1427\u001b[0m \u001b[1;33m\u001b[0m\u001b[0m\n",
      "\u001b[1;32m_catboost.pyx\u001b[0m in \u001b[0;36m_catboost._CatBoost._train\u001b[1;34m()\u001b[0m\n",
      "\u001b[1;32m_catboost.pyx\u001b[0m in \u001b[0;36m_catboost._CatBoost._train\u001b[1;34m()\u001b[0m\n",
      "\u001b[1;31mKeyboardInterrupt\u001b[0m: "
     ]
    }
   ],
   "source": [
    "cb_pred_1 = np.zeros((target1.shape[0]))\n",
    "mae_list = []\n",
    "for tr_idx, val_idx in kf.split(X1):\n",
    "    tr_x, val_x = X1.iloc[tr_idx], X1.iloc[val_idx]\n",
    "    tr_y, val_y = y1.iloc[tr_idx], y1.iloc[val_idx]\n",
    "    train_data = Pool(data = tr_x, label = tr_y, cat_features = cat_features_ln)\n",
    "    val_data = Pool(data = val_x, label = val_y, cat_features = cat_features_ln)\n",
    "    cb.fit(train_data, eval_set = val_data, early_stopping_rounds = 2000, use_best_model = True, verbose = 5000)\n",
    "    best = cb.best_iteration_\n",
    "    pred = cb.predict(val_x, ntree_end = best)\n",
    "    mae = mean_absolute_error(val_y, pred)\n",
    "    mae_list.append(mae)\n",
    "    print(f'FOLD MAE = {mae}')\n",
    "    sub_pred = cb.predict(target1, ntree_end = best) / 15\n",
    "    cb_pred_1 += sub_pred\n",
    "print(f'\\n{cb.__class__.__name__} MAE = {np.mean(mae_list)}')"
   ]
  },
  {
   "cell_type": "code",
   "execution_count": 148,
   "metadata": {},
   "outputs": [
    {
     "data": {
      "text/plain": [
       "array([ 976.07609276,  932.16534714,  619.016611  , 1249.03549561,\n",
       "       1025.96900118, 1005.57470042,  986.62320592,  718.71884124,\n",
       "       1239.24208606, 1029.28112518,  814.89268428, 1197.59491078,\n",
       "       1028.24866939, 1043.15050106,  872.25827733,  719.2193297 ,\n",
       "       1242.18091545, 1017.43352615,  948.72296125,  871.52699024,\n",
       "        644.46577114, 1083.97222322, 1026.12628804,  891.29730076,\n",
       "        737.7341164 , 1245.4365468 , 1062.14190778, 1064.66550385,\n",
       "        941.92621717,  694.97046535, 1252.35931379, 1048.49998453,\n",
       "       1014.61581233,  871.29617502,  669.73575358, 1262.82876236,\n",
       "       1014.39724802,  945.17674863,  863.79433876,  637.35128043,\n",
       "       1234.63215334, 1000.08104412, 1005.73267745,  875.2803762 ,\n",
       "        651.7843725 , 1232.00451707,  985.63450656,  988.42163217,\n",
       "        860.54028658,  636.79984342])"
      ]
     },
     "execution_count": 148,
     "metadata": {},
     "output_type": "execute_result"
    }
   ],
   "source": [
    "cb_pred_1"
   ]
  },
  {
   "cell_type": "code",
   "execution_count": 149,
   "metadata": {},
   "outputs": [
    {
     "name": "stdout",
     "output_type": "stream",
     "text": [
      "0:\tlearn: 97.6151769\ttest: 100.8308632\tbest: 100.8308632 (0)\ttotal: 25.1ms\tremaining: 8m 21s\n",
      "5000:\tlearn: 17.9497627\ttest: 53.3111810\tbest: 53.1287145 (3573)\ttotal: 2m 35s\tremaining: 7m 45s\n",
      "Stopped by overfitting detector  (2000 iterations wait)\n",
      "\n",
      "bestTest = 53.12871453\n",
      "bestIteration = 3573\n",
      "\n",
      "Shrink model to first 3574 iterations.\n",
      "FOLD MAE = 53.143539769381434\n",
      "0:\tlearn: 97.7505684\ttest: 98.8698755\tbest: 98.8698755 (0)\ttotal: 41.1ms\tremaining: 13m 42s\n",
      "5000:\tlearn: 18.6183032\ttest: 55.8433725\tbest: 55.8226674 (4914)\ttotal: 2m 21s\tremaining: 7m 3s\n",
      "10000:\tlearn: 12.2340021\ttest: 55.5213862\tbest: 55.4128085 (9648)\ttotal: 4m 33s\tremaining: 4m 33s\n",
      "15000:\tlearn: 8.8098631\ttest: 55.2491295\tbest: 55.2239853 (14304)\ttotal: 6m 53s\tremaining: 2m 17s\n",
      "Stopped by overfitting detector  (2000 iterations wait)\n",
      "\n",
      "bestTest = 55.115723\n",
      "bestIteration = 15936\n",
      "\n",
      "Shrink model to first 15937 iterations.\n",
      "FOLD MAE = 55.115773740287395\n",
      "0:\tlearn: 97.4239937\ttest: 104.1260484\tbest: 104.1260484 (0)\ttotal: 21.1ms\tremaining: 7m 2s\n",
      "5000:\tlearn: 18.6130309\ttest: 52.1444856\tbest: 51.9452135 (3577)\ttotal: 2m 11s\tremaining: 6m 35s\n",
      "Stopped by overfitting detector  (2000 iterations wait)\n",
      "\n",
      "bestTest = 51.94521353\n",
      "bestIteration = 3577\n",
      "\n",
      "Shrink model to first 3578 iterations.\n",
      "FOLD MAE = 51.945430806382916\n",
      "0:\tlearn: 97.6157463\ttest: 100.4628385\tbest: 100.4628385 (0)\ttotal: 24.5ms\tremaining: 8m 10s\n",
      "5000:\tlearn: 18.8972374\ttest: 45.0553139\tbest: 45.0505134 (4994)\ttotal: 2m 25s\tremaining: 7m 15s\n",
      "10000:\tlearn: 12.1931883\ttest: 44.4494250\tbest: 44.4493187 (9991)\ttotal: 4m 56s\tremaining: 4m 56s\n",
      "Stopped by overfitting detector  (2000 iterations wait)\n",
      "\n",
      "bestTest = 44.24776138\n",
      "bestIteration = 12516\n",
      "\n",
      "Shrink model to first 12517 iterations.\n",
      "FOLD MAE = 44.251071646673054\n",
      "0:\tlearn: 98.4503460\ttest: 89.1727151\tbest: 89.1727151 (0)\ttotal: 32.6ms\tremaining: 10m 52s\n",
      "5000:\tlearn: 19.7099639\ttest: 43.4163753\tbest: 43.4106374 (4992)\ttotal: 3m 31s\tremaining: 10m 33s\n",
      "10000:\tlearn: 13.3044246\ttest: 42.9120013\tbest: 42.8536917 (9872)\ttotal: 12m 37s\tremaining: 12m 37s\n",
      "Stopped by overfitting detector  (2000 iterations wait)\n",
      "\n",
      "bestTest = 42.85369171\n",
      "bestIteration = 9872\n",
      "\n",
      "Shrink model to first 9873 iterations.\n",
      "FOLD MAE = 42.79051683376557\n",
      "0:\tlearn: 98.2719457\ttest: 90.8701240\tbest: 90.8701240 (0)\ttotal: 61.7ms\tremaining: 20m 34s\n",
      "Stopped by overfitting detector  (2000 iterations wait)\n",
      "\n",
      "bestTest = 44.17231843\n",
      "bestIteration = 913\n",
      "\n",
      "Shrink model to first 914 iterations.\n",
      "FOLD MAE = 44.17384751097776\n",
      "0:\tlearn: 97.9415546\ttest: 96.6092490\tbest: 96.6092490 (0)\ttotal: 85.4ms\tremaining: 28m 27s\n",
      "5000:\tlearn: 18.0032933\ttest: 51.7512853\tbest: 51.7435651 (4960)\ttotal: 8m 28s\tremaining: 25m 24s\n",
      "10000:\tlearn: 11.5143943\ttest: 51.3218470\tbest: 51.2720985 (9223)\ttotal: 16m 24s\tremaining: 16m 24s\n",
      "Stopped by overfitting detector  (2000 iterations wait)\n",
      "\n",
      "bestTest = 51.27209852\n",
      "bestIteration = 9223\n",
      "\n",
      "Shrink model to first 9224 iterations.\n",
      "FOLD MAE = 51.27277835773414\n",
      "0:\tlearn: 98.5030212\ttest: 88.9728740\tbest: 88.9728740 (0)\ttotal: 58.1ms\tremaining: 19m 21s\n",
      "5000:\tlearn: 18.9749805\ttest: 50.3163846\tbest: 50.2786549 (4285)\ttotal: 12m 51s\tremaining: 38m 32s\n",
      "10000:\tlearn: 12.9738140\ttest: 49.9813739\tbest: 49.9716476 (9714)\ttotal: 26m 55s\tremaining: 26m 54s\n",
      "Stopped by overfitting detector  (2000 iterations wait)\n",
      "\n",
      "bestTest = 49.97164759\n",
      "bestIteration = 9714\n",
      "\n",
      "Shrink model to first 9715 iterations.\n",
      "FOLD MAE = 49.97169904971268\n",
      "0:\tlearn: 97.3968612\ttest: 104.2816240\tbest: 104.2816240 (0)\ttotal: 57.9ms\tremaining: 19m 17s\n",
      "5000:\tlearn: 18.5955433\ttest: 57.8645732\tbest: 57.7732872 (4183)\ttotal: 13m 55s\tremaining: 41m 46s\n",
      "10000:\tlearn: 12.1881946\ttest: 57.6658331\tbest: 57.6579125 (9452)\ttotal: 21m 49s\tremaining: 21m 49s\n",
      "Stopped by overfitting detector  (2000 iterations wait)\n",
      "\n",
      "bestTest = 57.5061601\n",
      "bestIteration = 12689\n",
      "\n",
      "Shrink model to first 12690 iterations.\n",
      "FOLD MAE = 57.51074302677394\n",
      "0:\tlearn: 98.2231012\ttest: 92.6022490\tbest: 92.6022490 (0)\ttotal: 31.7ms\tremaining: 10m 33s\n",
      "5000:\tlearn: 18.5089787\ttest: 44.6049787\tbest: 44.3749533 (3615)\ttotal: 7m 45s\tremaining: 23m 15s\n",
      "Stopped by overfitting detector  (2000 iterations wait)\n",
      "\n",
      "bestTest = 44.37495332\n",
      "bestIteration = 3615\n",
      "\n",
      "Shrink model to first 3616 iterations.\n",
      "FOLD MAE = 44.3998681074932\n",
      "0:\tlearn: 96.2678390\ttest: 120.6049990\tbest: 120.6049990 (0)\ttotal: 44.6ms\tremaining: 14m 52s\n",
      "5000:\tlearn: 18.3587405\ttest: 40.5049728\tbest: 40.4810905 (4845)\ttotal: 6m 23s\tremaining: 19m 9s\n",
      "Stopped by overfitting detector  (2000 iterations wait)\n",
      "\n",
      "bestTest = 40.44922187\n",
      "bestIteration = 5057\n",
      "\n",
      "Shrink model to first 5058 iterations.\n",
      "FOLD MAE = 40.621025649846956\n",
      "0:\tlearn: 97.6017679\ttest: 101.0638740\tbest: 101.0638740 (0)\ttotal: 32.5ms\tremaining: 10m 49s\n",
      "5000:\tlearn: 19.5334371\ttest: 47.3645020\tbest: 47.3585176 (4995)\ttotal: 3m 22s\tremaining: 10m 6s\n",
      "Stopped by overfitting detector  (2000 iterations wait)\n",
      "\n",
      "bestTest = 47.34411272\n",
      "bestIteration = 5665\n",
      "\n",
      "Shrink model to first 5666 iterations.\n",
      "FOLD MAE = 47.34432908153188\n",
      "0:\tlearn: 96.9411457\ttest: 110.7509990\tbest: 110.7509990 (0)\ttotal: 23ms\tremaining: 7m 40s\n",
      "Stopped by overfitting detector  (2000 iterations wait)\n",
      "\n",
      "bestTest = 51.95189699\n",
      "bestIteration = 2026\n",
      "\n",
      "Shrink model to first 2027 iterations.\n",
      "FOLD MAE = 51.95657480205682\n",
      "0:\tlearn: 98.4772879\ttest: 88.8411240\tbest: 88.8411240 (0)\ttotal: 26.4ms\tremaining: 8m 48s\n",
      "5000:\tlearn: 18.1994560\ttest: 42.7384422\tbest: 42.6932488 (4851)\ttotal: 2m 34s\tremaining: 7m 43s\n",
      "Stopped by overfitting detector  (2000 iterations wait)\n",
      "\n",
      "bestTest = 42.63497404\n",
      "bestIteration = 5756\n",
      "\n",
      "Shrink model to first 5757 iterations.\n",
      "FOLD MAE = 42.62009950041814\n",
      "0:\tlearn: 98.9849412\ttest: 81.0706240\tbest: 81.0706240 (0)\ttotal: 33.1ms\tremaining: 11m 2s\n",
      "5000:\tlearn: 18.9555716\ttest: 40.5087853\tbest: 40.5085878 (4999)\ttotal: 2m 34s\tremaining: 7m 44s\n",
      "10000:\tlearn: 11.8410880\ttest: 40.1178347\tbest: 40.0833464 (9720)\ttotal: 5m 13s\tremaining: 5m 13s\n",
      "Stopped by overfitting detector  (2000 iterations wait)\n",
      "\n",
      "bestTest = 40.05592833\n",
      "bestIteration = 11653\n",
      "\n",
      "Shrink model to first 11654 iterations.\n",
      "FOLD MAE = 39.97895873655624\n",
      "\n",
      "CatBoostRegressor MAE = 47.80641710797281\n"
     ]
    }
   ],
   "source": [
    "cb_pred_2 = np.zeros((target2.shape[0]))\n",
    "mae_list = []\n",
    "for tr_idx, val_idx in kf.split(X2):\n",
    "    tr_x, val_x = X2.iloc[tr_idx], X2.iloc[val_idx]\n",
    "    tr_y, val_y = y2.iloc[tr_idx], y2.iloc[val_idx]\n",
    "    train_data = Pool(data = tr_x, label = tr_y, cat_features = cat_features_dn)\n",
    "    val_data = Pool(data = val_x, label = val_y, cat_features = cat_features_dn)\n",
    "    cb.fit(train_data, eval_set = val_data, early_stopping_rounds = 2000, use_best_model = True, verbose = 5000)\n",
    "    best = cb.best_iteration_\n",
    "    pred = cb.predict(val_x, ntree_end = best)\n",
    "    mae = mean_absolute_error(val_y, pred)\n",
    "    mae_list.append(mae)\n",
    "    print(f'FOLD MAE = {mae}')\n",
    "    sub_pred = cb.predict(target2, ntree_end = best) / 15\n",
    "    cb_pred_2 += sub_pred\n",
    "print(f'\\n{cb.__class__.__name__} MAE = {np.mean(mae_list)}')"
   ]
  },
  {
   "cell_type": "code",
   "execution_count": 150,
   "metadata": {},
   "outputs": [
    {
     "data": {
      "text/plain": [
       "47980.63443952518"
      ]
     },
     "execution_count": 150,
     "metadata": {},
     "output_type": "execute_result"
    }
   ],
   "source": [
    "cb_pred_1.sum()"
   ]
  },
  {
   "cell_type": "code",
   "execution_count": 151,
   "metadata": {},
   "outputs": [
    {
     "data": {
      "text/plain": [
       "22289.511249726515"
      ]
     },
     "execution_count": 151,
     "metadata": {},
     "output_type": "execute_result"
    }
   ],
   "source": [
    "cb_pred_2.sum()"
   ]
  },
  {
   "cell_type": "code",
   "execution_count": 152,
   "metadata": {},
   "outputs": [],
   "source": [
    "sub_60 = pd.read_csv('../input/ensemble_all_2.csv')"
   ]
  },
  {
   "cell_type": "code",
   "execution_count": 153,
   "metadata": {},
   "outputs": [],
   "source": [
    "submission['중식계'] = (lgbm_pred_1 + ngb_pred_1 + cb_pred_1) / 3"
   ]
  },
  {
   "cell_type": "code",
   "execution_count": 154,
   "metadata": {},
   "outputs": [],
   "source": [
    "submission['석식계'] = (lgbm_pred_2 + ngb_pred_2 + cb_pred_2) / 3"
   ]
  },
  {
   "cell_type": "markdown",
   "metadata": {},
   "source": [
    "### 49482.43247838575, 24917.37723101190"
   ]
  },
  {
   "cell_type": "code",
   "execution_count": 155,
   "metadata": {
    "scrolled": true
   },
   "outputs": [
    {
     "data": {
      "text/plain": [
       "48646.6502582489"
      ]
     },
     "execution_count": 155,
     "metadata": {},
     "output_type": "execute_result"
    }
   ],
   "source": [
    "submission.중식계.sum()"
   ]
  },
  {
   "cell_type": "code",
   "execution_count": 156,
   "metadata": {
    "scrolled": false
   },
   "outputs": [
    {
     "data": {
      "text/plain": [
       "22732.88536976131"
      ]
     },
     "execution_count": 156,
     "metadata": {},
     "output_type": "execute_result"
    }
   ],
   "source": [
    "submission.석식계.sum()"
   ]
  },
  {
   "cell_type": "code",
   "execution_count": 159,
   "metadata": {},
   "outputs": [
    {
     "data": {
      "text/plain": [
       "(50610.561968659684, 24069.984766997215)"
      ]
     },
     "execution_count": 159,
     "metadata": {},
     "output_type": "execute_result"
    }
   ],
   "source": [
    "sub_60['중식계'].sum(), sub_60['석식계'].sum()"
   ]
  },
  {
   "cell_type": "code",
   "execution_count": 547,
   "metadata": {},
   "outputs": [],
   "source": [
    "submission.to_csv('0719날씨추가.csv', index = False)"
   ]
  },
  {
   "cell_type": "code",
   "execution_count": null,
   "metadata": {},
   "outputs": [],
   "source": []
  }
 ],
 "metadata": {
  "kernelspec": {
   "display_name": "Python 3",
   "language": "python",
   "name": "python3"
  },
  "language_info": {
   "codemirror_mode": {
    "name": "ipython",
    "version": 3
   },
   "file_extension": ".py",
   "mimetype": "text/x-python",
   "name": "python",
   "nbconvert_exporter": "python",
   "pygments_lexer": "ipython3",
   "version": "3.8.5"
  },
  "varInspector": {
   "cols": {
    "lenName": 16,
    "lenType": 16,
    "lenVar": 40
   },
   "kernels_config": {
    "python": {
     "delete_cmd_postfix": "",
     "delete_cmd_prefix": "del ",
     "library": "var_list.py",
     "varRefreshCmd": "print(var_dic_list())"
    },
    "r": {
     "delete_cmd_postfix": ") ",
     "delete_cmd_prefix": "rm(",
     "library": "var_list.r",
     "varRefreshCmd": "cat(var_dic_list()) "
    }
   },
   "types_to_exclude": [
    "module",
    "function",
    "builtin_function_or_method",
    "instance",
    "_Feature"
   ],
   "window_display": false
  }
 },
 "nbformat": 4,
 "nbformat_minor": 4
}
