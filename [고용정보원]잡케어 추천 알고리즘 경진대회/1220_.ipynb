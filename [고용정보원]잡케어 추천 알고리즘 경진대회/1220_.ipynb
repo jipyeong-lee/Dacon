{
 "cells": [
  {
   "cell_type": "code",
   "execution_count": 1,
   "metadata": {},
   "outputs": [],
   "source": [
    "# Data Wrangling\n",
    "import pandas as pd\n",
    "from pandas import Series, DataFrame\n",
    "import numpy as np\n",
    "\n",
    "# Visualization\n",
    "import matplotlib.pylab as plt\n",
    "from matplotlib import font_manager, rc\n",
    "import seaborn as sns\n",
    "%matplotlib inline\n",
    "\n",
    "# EDA\n",
    "import klib\n",
    "\n",
    "# Preprocessing & Feature Engineering\n",
    "from sklearn.model_selection import train_test_split\n",
    "from sklearn.preprocessing import MinMaxScaler\n",
    "from sklearn.impute import SimpleImputer \n",
    "from sklearn.preprocessing import StandardScaler\n",
    "from sklearn.preprocessing import MinMaxScaler\n",
    "from sklearn.preprocessing import PowerTransformer\n",
    "from sklearn.feature_selection import SelectPercentile\n",
    "\n",
    "# Hyperparameter Optimization\n",
    "from sklearn.model_selection import GridSearchCV\n",
    "from sklearn.model_selection import RandomizedSearchCV\n",
    "\n",
    "# Modeling\n",
    "from sklearn.dummy import DummyClassifier\n",
    "from sklearn.linear_model import LogisticRegression\n",
    "from sklearn.neighbors import KNeighborsClassifier\n",
    "from sklearn.ensemble import RandomForestClassifier\n",
    "from sklearn.neural_network import MLPClassifier\n",
    "from sklearn.tree import DecisionTreeClassifier\n",
    "from sklearn.ensemble import GradientBoostingClassifier\n",
    "from sklearn.svm import SVC\n",
    "from catboost import CatBoostClassifier\n",
    "from sklearn.ensemble import VotingClassifier\n",
    "from sklearn.ensemble import StackingClassifier\n",
    "from sklearn.base import ClassifierMixin\n",
    "from sklearn.ensemble import ExtraTreesClassifier\n",
    "from lightgbm import LGBMClassifier\n",
    "from xgboost import XGBClassifier\n",
    "\n",
    "# Evaluation\n",
    "from sklearn.model_selection import cross_val_score\n",
    "\n",
    "# Utility\n",
    "import os\n",
    "import time\n",
    "import random\n",
    "import warnings; warnings.filterwarnings(\"ignore\")\n",
    "from IPython.display import Image\n",
    "import pickle\n",
    "from tqdm import tqdm\n",
    "import platform\n",
    "from itertools import combinations\n",
    "from scipy.stats.mstats import gmean\n",
    "from sklearn.feature_selection import RFE\n",
    "\n",
    "import gc\n",
    "import random\n",
    "import re\n",
    "from sklearn.metrics import *\n",
    "from sklearn.model_selection import KFold, StratifiedKFold\n",
    "\n",
    "# 한글 폰트 설정\n",
    "from statsmodels import robust\n",
    "from matplotlib import font_manager, rc\n",
    "%matplotlib inline\n",
    "\n",
    "import platform\n",
    "your_os = platform.system()\n",
    "if your_os == 'Linux':\n",
    "    rc('font', family='NanumGothic')\n",
    "elif your_os == 'Windows':\n",
    "    ttf = \"c:/Windows/Fonts/malgun.ttf\"\n",
    "    font_name = font_manager.FontProperties(fname=ttf).get_name()\n",
    "    rc('font', family=font_name)\n",
    "elif your_os == 'Darwin':\n",
    "    rc('font', family='AppleGothic')\n",
    "rc('axes', unicode_minus=False)"
   ]
  },
  {
   "cell_type": "code",
   "execution_count": 2,
   "metadata": {},
   "outputs": [],
   "source": [
    "train = pd.read_csv('data/train.csv')\n",
    "test = pd.read_csv('data/test.csv')"
   ]
  },
  {
   "cell_type": "code",
   "execution_count": 3,
   "metadata": {},
   "outputs": [],
   "source": [
    "D_code = pd.read_csv('data/속성_D_코드.csv')\n",
    "H_code = pd.read_csv('data/속성_H_코드.csv')\n",
    "L_code = pd.read_csv('data/속성_L_코드.csv')"
   ]
  },
  {
   "cell_type": "code",
   "execution_count": 4,
   "metadata": {},
   "outputs": [
    {
     "data": {
      "text/plain": [
       "((501951, 35), (46404, 34))"
      ]
     },
     "execution_count": 4,
     "metadata": {},
     "output_type": "execute_result"
    }
   ],
   "source": [
    "train.shape, test.shape"
   ]
  },
  {
   "cell_type": "code",
   "execution_count": 5,
   "metadata": {},
   "outputs": [
    {
     "data": {
      "text/plain": [
       "((1114, 6), (294, 2), (2025, 5))"
      ]
     },
     "execution_count": 5,
     "metadata": {},
     "output_type": "execute_result"
    }
   ],
   "source": [
    "D_code.shape, H_code.shape, L_code.shape"
   ]
  },
  {
   "cell_type": "code",
   "execution_count": 6,
   "metadata": {},
   "outputs": [
    {
     "data": {
      "text/html": [
       "<div>\n",
       "<style scoped>\n",
       "    .dataframe tbody tr th:only-of-type {\n",
       "        vertical-align: middle;\n",
       "    }\n",
       "\n",
       "    .dataframe tbody tr th {\n",
       "        vertical-align: top;\n",
       "    }\n",
       "\n",
       "    .dataframe thead th {\n",
       "        text-align: right;\n",
       "    }\n",
       "</style>\n",
       "<table border=\"1\" class=\"dataframe\">\n",
       "  <thead>\n",
       "    <tr style=\"text-align: right;\">\n",
       "      <th></th>\n",
       "      <th>id</th>\n",
       "      <th>d_l_match_yn</th>\n",
       "      <th>d_m_match_yn</th>\n",
       "      <th>d_s_match_yn</th>\n",
       "      <th>h_l_match_yn</th>\n",
       "      <th>h_m_match_yn</th>\n",
       "      <th>h_s_match_yn</th>\n",
       "      <th>person_attribute_a</th>\n",
       "      <th>person_attribute_a_1</th>\n",
       "      <th>person_attribute_b</th>\n",
       "      <th>person_prefer_c</th>\n",
       "      <th>person_prefer_d_1</th>\n",
       "      <th>person_prefer_d_2</th>\n",
       "      <th>person_prefer_d_3</th>\n",
       "      <th>person_prefer_e</th>\n",
       "      <th>person_prefer_f</th>\n",
       "      <th>person_prefer_g</th>\n",
       "      <th>person_prefer_h_1</th>\n",
       "      <th>person_prefer_h_2</th>\n",
       "    </tr>\n",
       "  </thead>\n",
       "  <tbody>\n",
       "    <tr>\n",
       "      <th>0</th>\n",
       "      <td>0</td>\n",
       "      <td>True</td>\n",
       "      <td>True</td>\n",
       "      <td>True</td>\n",
       "      <td>False</td>\n",
       "      <td>False</td>\n",
       "      <td>False</td>\n",
       "      <td>1</td>\n",
       "      <td>4</td>\n",
       "      <td>3</td>\n",
       "      <td>5</td>\n",
       "      <td>275</td>\n",
       "      <td>370</td>\n",
       "      <td>369</td>\n",
       "      <td>8</td>\n",
       "      <td>1</td>\n",
       "      <td>1</td>\n",
       "      <td>4</td>\n",
       "      <td>95</td>\n",
       "    </tr>\n",
       "    <tr>\n",
       "      <th>1</th>\n",
       "      <td>1</td>\n",
       "      <td>False</td>\n",
       "      <td>False</td>\n",
       "      <td>False</td>\n",
       "      <td>True</td>\n",
       "      <td>True</td>\n",
       "      <td>False</td>\n",
       "      <td>1</td>\n",
       "      <td>3</td>\n",
       "      <td>4</td>\n",
       "      <td>1</td>\n",
       "      <td>114</td>\n",
       "      <td>181</td>\n",
       "      <td>175</td>\n",
       "      <td>4</td>\n",
       "      <td>1</td>\n",
       "      <td>1</td>\n",
       "      <td>131</td>\n",
       "      <td>101</td>\n",
       "    </tr>\n",
       "    <tr>\n",
       "      <th>2</th>\n",
       "      <td>2</td>\n",
       "      <td>False</td>\n",
       "      <td>False</td>\n",
       "      <td>False</td>\n",
       "      <td>True</td>\n",
       "      <td>False</td>\n",
       "      <td>False</td>\n",
       "      <td>2</td>\n",
       "      <td>0</td>\n",
       "      <td>3</td>\n",
       "      <td>5</td>\n",
       "      <td>464</td>\n",
       "      <td>175</td>\n",
       "      <td>452</td>\n",
       "      <td>3</td>\n",
       "      <td>1</td>\n",
       "      <td>1</td>\n",
       "      <td>54</td>\n",
       "      <td>263</td>\n",
       "    </tr>\n",
       "    <tr>\n",
       "      <th>3</th>\n",
       "      <td>3</td>\n",
       "      <td>False</td>\n",
       "      <td>False</td>\n",
       "      <td>False</td>\n",
       "      <td>True</td>\n",
       "      <td>False</td>\n",
       "      <td>False</td>\n",
       "      <td>2</td>\n",
       "      <td>0</td>\n",
       "      <td>2</td>\n",
       "      <td>5</td>\n",
       "      <td>703</td>\n",
       "      <td>705</td>\n",
       "      <td>704</td>\n",
       "      <td>3</td>\n",
       "      <td>1</td>\n",
       "      <td>1</td>\n",
       "      <td>72</td>\n",
       "      <td>227</td>\n",
       "    </tr>\n",
       "    <tr>\n",
       "      <th>4</th>\n",
       "      <td>4</td>\n",
       "      <td>True</td>\n",
       "      <td>True</td>\n",
       "      <td>True</td>\n",
       "      <td>False</td>\n",
       "      <td>False</td>\n",
       "      <td>False</td>\n",
       "      <td>1</td>\n",
       "      <td>3</td>\n",
       "      <td>4</td>\n",
       "      <td>5</td>\n",
       "      <td>275</td>\n",
       "      <td>370</td>\n",
       "      <td>369</td>\n",
       "      <td>4</td>\n",
       "      <td>1</td>\n",
       "      <td>1</td>\n",
       "      <td>214</td>\n",
       "      <td>210</td>\n",
       "    </tr>\n",
       "  </tbody>\n",
       "</table>\n",
       "</div>"
      ],
      "text/plain": [
       "   id  d_l_match_yn  d_m_match_yn  d_s_match_yn  h_l_match_yn  h_m_match_yn  \\\n",
       "0   0          True          True          True         False         False   \n",
       "1   1         False         False         False          True          True   \n",
       "2   2         False         False         False          True         False   \n",
       "3   3         False         False         False          True         False   \n",
       "4   4          True          True          True         False         False   \n",
       "\n",
       "   h_s_match_yn  person_attribute_a  person_attribute_a_1  person_attribute_b  \\\n",
       "0         False                   1                     4                   3   \n",
       "1         False                   1                     3                   4   \n",
       "2         False                   2                     0                   3   \n",
       "3         False                   2                     0                   2   \n",
       "4         False                   1                     3                   4   \n",
       "\n",
       "   person_prefer_c  person_prefer_d_1  person_prefer_d_2  person_prefer_d_3  \\\n",
       "0                5                275                370                369   \n",
       "1                1                114                181                175   \n",
       "2                5                464                175                452   \n",
       "3                5                703                705                704   \n",
       "4                5                275                370                369   \n",
       "\n",
       "   person_prefer_e  person_prefer_f  person_prefer_g  person_prefer_h_1  \\\n",
       "0                8                1                1                  4   \n",
       "1                4                1                1                131   \n",
       "2                3                1                1                 54   \n",
       "3                3                1                1                 72   \n",
       "4                4                1                1                214   \n",
       "\n",
       "   person_prefer_h_2  \n",
       "0                 95  \n",
       "1                101  \n",
       "2                263  \n",
       "3                227  \n",
       "4                210  "
      ]
     },
     "execution_count": 6,
     "metadata": {},
     "output_type": "execute_result"
    }
   ],
   "source": [
    "train.iloc[:5, :19]"
   ]
  },
  {
   "cell_type": "code",
   "execution_count": 7,
   "metadata": {},
   "outputs": [
    {
     "data": {
      "text/html": [
       "<div>\n",
       "<style scoped>\n",
       "    .dataframe tbody tr th:only-of-type {\n",
       "        vertical-align: middle;\n",
       "    }\n",
       "\n",
       "    .dataframe tbody tr th {\n",
       "        vertical-align: top;\n",
       "    }\n",
       "\n",
       "    .dataframe thead th {\n",
       "        text-align: right;\n",
       "    }\n",
       "</style>\n",
       "<table border=\"1\" class=\"dataframe\">\n",
       "  <thead>\n",
       "    <tr style=\"text-align: right;\">\n",
       "      <th></th>\n",
       "      <th>person_prefer_h_3</th>\n",
       "      <th>contents_attribute_i</th>\n",
       "      <th>contents_attribute_a</th>\n",
       "      <th>contents_attribute_j_1</th>\n",
       "      <th>contents_attribute_j</th>\n",
       "      <th>contents_attribute_c</th>\n",
       "      <th>contents_attribute_k</th>\n",
       "      <th>contents_attribute_l</th>\n",
       "      <th>contents_attribute_d</th>\n",
       "      <th>contents_attribute_m</th>\n",
       "      <th>contents_attribute_e</th>\n",
       "      <th>contents_attribute_h</th>\n",
       "      <th>person_rn</th>\n",
       "      <th>contents_rn</th>\n",
       "      <th>contents_open_dt</th>\n",
       "      <th>target</th>\n",
       "    </tr>\n",
       "  </thead>\n",
       "  <tbody>\n",
       "    <tr>\n",
       "      <th>0</th>\n",
       "      <td>59</td>\n",
       "      <td>3</td>\n",
       "      <td>3</td>\n",
       "      <td>10</td>\n",
       "      <td>2</td>\n",
       "      <td>1</td>\n",
       "      <td>2</td>\n",
       "      <td>1608</td>\n",
       "      <td>275</td>\n",
       "      <td>1</td>\n",
       "      <td>4</td>\n",
       "      <td>139</td>\n",
       "      <td>618822</td>\n",
       "      <td>354805</td>\n",
       "      <td>2020-01-17 12:09:36</td>\n",
       "      <td>1</td>\n",
       "    </tr>\n",
       "    <tr>\n",
       "      <th>1</th>\n",
       "      <td>96</td>\n",
       "      <td>1</td>\n",
       "      <td>3</td>\n",
       "      <td>5</td>\n",
       "      <td>1</td>\n",
       "      <td>1</td>\n",
       "      <td>2</td>\n",
       "      <td>1608</td>\n",
       "      <td>275</td>\n",
       "      <td>1</td>\n",
       "      <td>4</td>\n",
       "      <td>133</td>\n",
       "      <td>571659</td>\n",
       "      <td>346213</td>\n",
       "      <td>2020-06-18 17:48:52</td>\n",
       "      <td>0</td>\n",
       "    </tr>\n",
       "    <tr>\n",
       "      <th>2</th>\n",
       "      <td>56</td>\n",
       "      <td>3</td>\n",
       "      <td>1</td>\n",
       "      <td>10</td>\n",
       "      <td>2</td>\n",
       "      <td>1</td>\n",
       "      <td>1</td>\n",
       "      <td>1600</td>\n",
       "      <td>94</td>\n",
       "      <td>1</td>\n",
       "      <td>4</td>\n",
       "      <td>53</td>\n",
       "      <td>399816</td>\n",
       "      <td>206408</td>\n",
       "      <td>2020-07-08 20:00:10</td>\n",
       "      <td>0</td>\n",
       "    </tr>\n",
       "    <tr>\n",
       "      <th>3</th>\n",
       "      <td>2</td>\n",
       "      <td>1</td>\n",
       "      <td>3</td>\n",
       "      <td>5</td>\n",
       "      <td>1</td>\n",
       "      <td>1</td>\n",
       "      <td>2</td>\n",
       "      <td>1608</td>\n",
       "      <td>275</td>\n",
       "      <td>5</td>\n",
       "      <td>3</td>\n",
       "      <td>74</td>\n",
       "      <td>827967</td>\n",
       "      <td>572323</td>\n",
       "      <td>2020-01-13 18:09:34</td>\n",
       "      <td>0</td>\n",
       "    </tr>\n",
       "    <tr>\n",
       "      <th>4</th>\n",
       "      <td>209</td>\n",
       "      <td>1</td>\n",
       "      <td>1</td>\n",
       "      <td>10</td>\n",
       "      <td>2</td>\n",
       "      <td>1</td>\n",
       "      <td>2</td>\n",
       "      <td>1608</td>\n",
       "      <td>275</td>\n",
       "      <td>1</td>\n",
       "      <td>4</td>\n",
       "      <td>74</td>\n",
       "      <td>831614</td>\n",
       "      <td>573899</td>\n",
       "      <td>2020-03-09 20:39:22</td>\n",
       "      <td>0</td>\n",
       "    </tr>\n",
       "  </tbody>\n",
       "</table>\n",
       "</div>"
      ],
      "text/plain": [
       "   person_prefer_h_3  contents_attribute_i  contents_attribute_a  \\\n",
       "0                 59                     3                     3   \n",
       "1                 96                     1                     3   \n",
       "2                 56                     3                     1   \n",
       "3                  2                     1                     3   \n",
       "4                209                     1                     1   \n",
       "\n",
       "   contents_attribute_j_1  contents_attribute_j  contents_attribute_c  \\\n",
       "0                      10                     2                     1   \n",
       "1                       5                     1                     1   \n",
       "2                      10                     2                     1   \n",
       "3                       5                     1                     1   \n",
       "4                      10                     2                     1   \n",
       "\n",
       "   contents_attribute_k  contents_attribute_l  contents_attribute_d  \\\n",
       "0                     2                  1608                   275   \n",
       "1                     2                  1608                   275   \n",
       "2                     1                  1600                    94   \n",
       "3                     2                  1608                   275   \n",
       "4                     2                  1608                   275   \n",
       "\n",
       "   contents_attribute_m  contents_attribute_e  contents_attribute_h  \\\n",
       "0                     1                     4                   139   \n",
       "1                     1                     4                   133   \n",
       "2                     1                     4                    53   \n",
       "3                     5                     3                    74   \n",
       "4                     1                     4                    74   \n",
       "\n",
       "   person_rn  contents_rn     contents_open_dt  target  \n",
       "0     618822       354805  2020-01-17 12:09:36       1  \n",
       "1     571659       346213  2020-06-18 17:48:52       0  \n",
       "2     399816       206408  2020-07-08 20:00:10       0  \n",
       "3     827967       572323  2020-01-13 18:09:34       0  \n",
       "4     831614       573899  2020-03-09 20:39:22       0  "
      ]
     },
     "execution_count": 7,
     "metadata": {},
     "output_type": "execute_result"
    }
   ],
   "source": [
    "train.iloc[:5, 19:]"
   ]
  },
  {
   "cell_type": "markdown",
   "metadata": {
    "heading_collapsed": true
   },
   "source": [
    "## EDA"
   ]
  },
  {
   "cell_type": "markdown",
   "metadata": {
    "hidden": true
   },
   "source": [
    "여러가지 속성이 있지만 D,L,H 속성은 종류가 너무 많아서 따로 빼둔 듯"
   ]
  },
  {
   "cell_type": "markdown",
   "metadata": {
    "hidden": true
   },
   "source": [
    "### D_code"
   ]
  },
  {
   "cell_type": "code",
   "execution_count": 8,
   "metadata": {
    "hidden": true
   },
   "outputs": [],
   "source": [
    "D_code = D_code.iloc[:, :5]"
   ]
  },
  {
   "cell_type": "code",
   "execution_count": 9,
   "metadata": {
    "hidden": true
   },
   "outputs": [
    {
     "data": {
      "text/plain": [
       "array([   1,  216,  377,  482,  522,  618,  744,  864,  926, 1235, 1258],\n",
       "      dtype=int64)"
      ]
     },
     "execution_count": 9,
     "metadata": {},
     "output_type": "execute_result"
    }
   ],
   "source": [
    "# D_code 대분류 11종류\n",
    "D_code['속성 D 대분류코드'].unique()"
   ]
  },
  {
   "cell_type": "code",
   "execution_count": 10,
   "metadata": {
    "hidden": true
   },
   "outputs": [
    {
     "data": {
      "text/plain": [
       "속성 D 대분류코드\n",
       "1       18\n",
       "216     19\n",
       "377     12\n",
       "482      7\n",
       "522      8\n",
       "618     13\n",
       "744     11\n",
       "864      6\n",
       "926     37\n",
       "1235     5\n",
       "1258     1\n",
       "Name: 속성 D 중분류코드, dtype: int64"
      ]
     },
     "execution_count": 10,
     "metadata": {},
     "output_type": "execute_result"
    }
   ],
   "source": [
    "D_code.groupby('속성 D 대분류코드')['속성 D 중분류코드'].nunique()"
   ]
  },
  {
   "cell_type": "code",
   "execution_count": 11,
   "metadata": {
    "hidden": true
   },
   "outputs": [
    {
     "data": {
      "text/html": [
       "<div>\n",
       "<style scoped>\n",
       "    .dataframe tbody tr th:only-of-type {\n",
       "        vertical-align: middle;\n",
       "    }\n",
       "\n",
       "    .dataframe tbody tr th {\n",
       "        vertical-align: top;\n",
       "    }\n",
       "\n",
       "    .dataframe thead th {\n",
       "        text-align: right;\n",
       "    }\n",
       "</style>\n",
       "<table border=\"1\" class=\"dataframe\">\n",
       "  <thead>\n",
       "    <tr style=\"text-align: right;\">\n",
       "      <th></th>\n",
       "      <th>속성 D 코드</th>\n",
       "      <th>속성 D 세분류코드</th>\n",
       "      <th>속성 D 소분류코드</th>\n",
       "      <th>속성 D 중분류코드</th>\n",
       "      <th>속성 D 대분류코드</th>\n",
       "    </tr>\n",
       "  </thead>\n",
       "  <tbody>\n",
       "    <tr>\n",
       "      <th>0</th>\n",
       "      <td>4</td>\n",
       "      <td>4</td>\n",
       "      <td>2</td>\n",
       "      <td>3</td>\n",
       "      <td>1</td>\n",
       "    </tr>\n",
       "    <tr>\n",
       "      <th>1</th>\n",
       "      <td>5</td>\n",
       "      <td>5</td>\n",
       "      <td>2</td>\n",
       "      <td>3</td>\n",
       "      <td>1</td>\n",
       "    </tr>\n",
       "    <tr>\n",
       "      <th>2</th>\n",
       "      <td>7</td>\n",
       "      <td>7</td>\n",
       "      <td>2</td>\n",
       "      <td>6</td>\n",
       "      <td>1</td>\n",
       "    </tr>\n",
       "    <tr>\n",
       "      <th>3</th>\n",
       "      <td>8</td>\n",
       "      <td>8</td>\n",
       "      <td>2</td>\n",
       "      <td>6</td>\n",
       "      <td>1</td>\n",
       "    </tr>\n",
       "    <tr>\n",
       "      <th>4</th>\n",
       "      <td>9</td>\n",
       "      <td>8</td>\n",
       "      <td>2</td>\n",
       "      <td>6</td>\n",
       "      <td>1</td>\n",
       "    </tr>\n",
       "    <tr>\n",
       "      <th>...</th>\n",
       "      <td>...</td>\n",
       "      <td>...</td>\n",
       "      <td>...</td>\n",
       "      <td>...</td>\n",
       "      <td>...</td>\n",
       "    </tr>\n",
       "    <tr>\n",
       "      <th>1109</th>\n",
       "      <td>1254</td>\n",
       "      <td>1254</td>\n",
       "      <td>1235</td>\n",
       "      <td>1254</td>\n",
       "      <td>1235</td>\n",
       "    </tr>\n",
       "    <tr>\n",
       "      <th>1110</th>\n",
       "      <td>1255</td>\n",
       "      <td>1254</td>\n",
       "      <td>1235</td>\n",
       "      <td>1254</td>\n",
       "      <td>1235</td>\n",
       "    </tr>\n",
       "    <tr>\n",
       "      <th>1111</th>\n",
       "      <td>1256</td>\n",
       "      <td>1254</td>\n",
       "      <td>1235</td>\n",
       "      <td>1254</td>\n",
       "      <td>1235</td>\n",
       "    </tr>\n",
       "    <tr>\n",
       "      <th>1112</th>\n",
       "      <td>1257</td>\n",
       "      <td>1254</td>\n",
       "      <td>1235</td>\n",
       "      <td>1254</td>\n",
       "      <td>1235</td>\n",
       "    </tr>\n",
       "    <tr>\n",
       "      <th>1113</th>\n",
       "      <td>1258</td>\n",
       "      <td>1258</td>\n",
       "      <td>1258</td>\n",
       "      <td>1258</td>\n",
       "      <td>1258</td>\n",
       "    </tr>\n",
       "  </tbody>\n",
       "</table>\n",
       "<p>1114 rows × 5 columns</p>\n",
       "</div>"
      ],
      "text/plain": [
       "      속성 D 코드  속성 D 세분류코드  속성 D 소분류코드  속성 D 중분류코드  속성 D 대분류코드\n",
       "0           4           4           2           3           1\n",
       "1           5           5           2           3           1\n",
       "2           7           7           2           6           1\n",
       "3           8           8           2           6           1\n",
       "4           9           8           2           6           1\n",
       "...       ...         ...         ...         ...         ...\n",
       "1109     1254        1254        1235        1254        1235\n",
       "1110     1255        1254        1235        1254        1235\n",
       "1111     1256        1254        1235        1254        1235\n",
       "1112     1257        1254        1235        1254        1235\n",
       "1113     1258        1258        1258        1258        1258\n",
       "\n",
       "[1114 rows x 5 columns]"
      ]
     },
     "execution_count": 11,
     "metadata": {},
     "output_type": "execute_result"
    }
   ],
   "source": [
    "D_code"
   ]
  },
  {
   "cell_type": "markdown",
   "metadata": {
    "hidden": true
   },
   "source": [
    "### L_code"
   ]
  },
  {
   "cell_type": "code",
   "execution_count": 12,
   "metadata": {
    "hidden": true
   },
   "outputs": [
    {
     "data": {
      "text/plain": [
       "array([2004, 2005, 2006, 2007, 2008, 2009, 2010, 2011, 2012, 2013, 2014,\n",
       "       2015, 2016, 2017, 2018, 2019, 2020, 2021, 2022, 2023, 2024, 2025],\n",
       "      dtype=int64)"
      ]
     },
     "execution_count": 12,
     "metadata": {},
     "output_type": "execute_result"
    }
   ],
   "source": [
    "# L_code 대분류 22종류\n",
    "L_code['속성 L 대분류코드'].unique()"
   ]
  },
  {
   "cell_type": "code",
   "execution_count": 13,
   "metadata": {
    "hidden": true,
    "scrolled": true
   },
   "outputs": [
    {
     "data": {
      "text/plain": [
       "속성 L 대분류코드\n",
       "2004     4\n",
       "2005     5\n",
       "2006    26\n",
       "2007     2\n",
       "2008     5\n",
       "2009     3\n",
       "2010     4\n",
       "2011     5\n",
       "2012     3\n",
       "2013     7\n",
       "2014     4\n",
       "2015     2\n",
       "2016     5\n",
       "2017     4\n",
       "2018     2\n",
       "2019     2\n",
       "2020     3\n",
       "2021     3\n",
       "2022     4\n",
       "2023     3\n",
       "2024     2\n",
       "2025     1\n",
       "Name: 속성 L 중분류코드, dtype: int64"
      ]
     },
     "execution_count": 13,
     "metadata": {},
     "output_type": "execute_result"
    }
   ],
   "source": [
    "L_code.groupby('속성 L 대분류코드')['속성 L 중분류코드'].nunique()"
   ]
  },
  {
   "cell_type": "code",
   "execution_count": 14,
   "metadata": {
    "hidden": true
   },
   "outputs": [
    {
     "data": {
      "text/html": [
       "<div>\n",
       "<style scoped>\n",
       "    .dataframe tbody tr th:only-of-type {\n",
       "        vertical-align: middle;\n",
       "    }\n",
       "\n",
       "    .dataframe tbody tr th {\n",
       "        vertical-align: top;\n",
       "    }\n",
       "\n",
       "    .dataframe thead th {\n",
       "        text-align: right;\n",
       "    }\n",
       "</style>\n",
       "<table border=\"1\" class=\"dataframe\">\n",
       "  <thead>\n",
       "    <tr style=\"text-align: right;\">\n",
       "      <th></th>\n",
       "      <th>속성 L 코드</th>\n",
       "      <th>속성 L 세분류코드</th>\n",
       "      <th>속성 L 소분류코드</th>\n",
       "      <th>속성 L 중분류코드</th>\n",
       "      <th>속성 L 대분류코드</th>\n",
       "    </tr>\n",
       "  </thead>\n",
       "  <tbody>\n",
       "    <tr>\n",
       "      <th>0</th>\n",
       "      <td>1</td>\n",
       "      <td>1</td>\n",
       "      <td>1</td>\n",
       "      <td>1</td>\n",
       "      <td>2004</td>\n",
       "    </tr>\n",
       "    <tr>\n",
       "      <th>1</th>\n",
       "      <td>2</td>\n",
       "      <td>2</td>\n",
       "      <td>2</td>\n",
       "      <td>1</td>\n",
       "      <td>2004</td>\n",
       "    </tr>\n",
       "    <tr>\n",
       "      <th>2</th>\n",
       "      <td>3</td>\n",
       "      <td>3</td>\n",
       "      <td>2</td>\n",
       "      <td>1</td>\n",
       "      <td>2004</td>\n",
       "    </tr>\n",
       "    <tr>\n",
       "      <th>3</th>\n",
       "      <td>4</td>\n",
       "      <td>3</td>\n",
       "      <td>2</td>\n",
       "      <td>1</td>\n",
       "      <td>2004</td>\n",
       "    </tr>\n",
       "    <tr>\n",
       "      <th>4</th>\n",
       "      <td>5</td>\n",
       "      <td>5</td>\n",
       "      <td>2</td>\n",
       "      <td>1</td>\n",
       "      <td>2004</td>\n",
       "    </tr>\n",
       "  </tbody>\n",
       "</table>\n",
       "</div>"
      ],
      "text/plain": [
       "   속성 L 코드  속성 L 세분류코드  속성 L 소분류코드  속성 L 중분류코드  속성 L 대분류코드\n",
       "0        1           1           1           1        2004\n",
       "1        2           2           2           1        2004\n",
       "2        3           3           2           1        2004\n",
       "3        4           3           2           1        2004\n",
       "4        5           5           2           1        2004"
      ]
     },
     "execution_count": 14,
     "metadata": {},
     "output_type": "execute_result"
    }
   ],
   "source": [
    "L_code.head()"
   ]
  },
  {
   "cell_type": "markdown",
   "metadata": {
    "hidden": true
   },
   "source": [
    "### H_code"
   ]
  },
  {
   "cell_type": "code",
   "execution_count": 15,
   "metadata": {
    "hidden": true
   },
   "outputs": [
    {
     "data": {
      "text/html": [
       "<div>\n",
       "<style scoped>\n",
       "    .dataframe tbody tr th:only-of-type {\n",
       "        vertical-align: middle;\n",
       "    }\n",
       "\n",
       "    .dataframe tbody tr th {\n",
       "        vertical-align: top;\n",
       "    }\n",
       "\n",
       "    .dataframe thead th {\n",
       "        text-align: right;\n",
       "    }\n",
       "</style>\n",
       "<table border=\"1\" class=\"dataframe\">\n",
       "  <thead>\n",
       "    <tr style=\"text-align: right;\">\n",
       "      <th></th>\n",
       "      <th>속성 H 코드</th>\n",
       "      <th>속성 H 상위코드</th>\n",
       "    </tr>\n",
       "  </thead>\n",
       "  <tbody>\n",
       "    <tr>\n",
       "      <th>0</th>\n",
       "      <td>2</td>\n",
       "      <td>1</td>\n",
       "    </tr>\n",
       "    <tr>\n",
       "      <th>1</th>\n",
       "      <td>4</td>\n",
       "      <td>3</td>\n",
       "    </tr>\n",
       "    <tr>\n",
       "      <th>2</th>\n",
       "      <td>5</td>\n",
       "      <td>3</td>\n",
       "    </tr>\n",
       "    <tr>\n",
       "      <th>3</th>\n",
       "      <td>6</td>\n",
       "      <td>3</td>\n",
       "    </tr>\n",
       "    <tr>\n",
       "      <th>4</th>\n",
       "      <td>7</td>\n",
       "      <td>3</td>\n",
       "    </tr>\n",
       "  </tbody>\n",
       "</table>\n",
       "</div>"
      ],
      "text/plain": [
       "   속성 H 코드  속성 H 상위코드\n",
       "0        2          1\n",
       "1        4          3\n",
       "2        5          3\n",
       "3        6          3\n",
       "4        7          3"
      ]
     },
     "execution_count": 15,
     "metadata": {},
     "output_type": "execute_result"
    }
   ],
   "source": [
    "H_code.head()"
   ]
  },
  {
   "cell_type": "code",
   "execution_count": 16,
   "metadata": {
    "hidden": true
   },
   "outputs": [
    {
     "data": {
      "text/plain": [
       "array([  1,   3,  30,  48,  58,  71,  78,  85,  92,  94, 149, 169, 188,\n",
       "       208, 226, 250, 277, 302, 308, 312, 314], dtype=int64)"
      ]
     },
     "execution_count": 16,
     "metadata": {},
     "output_type": "execute_result"
    }
   ],
   "source": [
    "H_code['속성 H 상위코드'].unique()"
   ]
  },
  {
   "cell_type": "markdown",
   "metadata": {
    "hidden": true
   },
   "source": [
    "### train"
   ]
  },
  {
   "cell_type": "code",
   "execution_count": 17,
   "metadata": {
    "hidden": true
   },
   "outputs": [
    {
     "name": "stdout",
     "output_type": "stream",
     "text": [
      "<class 'pandas.core.frame.DataFrame'>\n",
      "RangeIndex: 501951 entries, 0 to 501950\n",
      "Data columns (total 35 columns):\n",
      " #   Column                  Non-Null Count   Dtype \n",
      "---  ------                  --------------   ----- \n",
      " 0   id                      501951 non-null  int64 \n",
      " 1   d_l_match_yn            501951 non-null  bool  \n",
      " 2   d_m_match_yn            501951 non-null  bool  \n",
      " 3   d_s_match_yn            501951 non-null  bool  \n",
      " 4   h_l_match_yn            501951 non-null  bool  \n",
      " 5   h_m_match_yn            501951 non-null  bool  \n",
      " 6   h_s_match_yn            501951 non-null  bool  \n",
      " 7   person_attribute_a      501951 non-null  int64 \n",
      " 8   person_attribute_a_1    501951 non-null  int64 \n",
      " 9   person_attribute_b      501951 non-null  int64 \n",
      " 10  person_prefer_c         501951 non-null  int64 \n",
      " 11  person_prefer_d_1       501951 non-null  int64 \n",
      " 12  person_prefer_d_2       501951 non-null  int64 \n",
      " 13  person_prefer_d_3       501951 non-null  int64 \n",
      " 14  person_prefer_e         501951 non-null  int64 \n",
      " 15  person_prefer_f         501951 non-null  int64 \n",
      " 16  person_prefer_g         501951 non-null  int64 \n",
      " 17  person_prefer_h_1       501951 non-null  int64 \n",
      " 18  person_prefer_h_2       501951 non-null  int64 \n",
      " 19  person_prefer_h_3       501951 non-null  int64 \n",
      " 20  contents_attribute_i    501951 non-null  int64 \n",
      " 21  contents_attribute_a    501951 non-null  int64 \n",
      " 22  contents_attribute_j_1  501951 non-null  int64 \n",
      " 23  contents_attribute_j    501951 non-null  int64 \n",
      " 24  contents_attribute_c    501951 non-null  int64 \n",
      " 25  contents_attribute_k    501951 non-null  int64 \n",
      " 26  contents_attribute_l    501951 non-null  int64 \n",
      " 27  contents_attribute_d    501951 non-null  int64 \n",
      " 28  contents_attribute_m    501951 non-null  int64 \n",
      " 29  contents_attribute_e    501951 non-null  int64 \n",
      " 30  contents_attribute_h    501951 non-null  int64 \n",
      " 31  person_rn               501951 non-null  int64 \n",
      " 32  contents_rn             501951 non-null  int64 \n",
      " 33  contents_open_dt        501951 non-null  object\n",
      " 34  target                  501951 non-null  int64 \n",
      "dtypes: bool(6), int64(28), object(1)\n",
      "memory usage: 113.9+ MB\n"
     ]
    }
   ],
   "source": [
    "train.info()"
   ]
  },
  {
   "cell_type": "code",
   "execution_count": 18,
   "metadata": {
    "hidden": true
   },
   "outputs": [
    {
     "data": {
      "text/plain": [
       "0    251106\n",
       "1    250845\n",
       "Name: target, dtype: int64"
      ]
     },
     "execution_count": 18,
     "metadata": {},
     "output_type": "execute_result"
    }
   ],
   "source": [
    "# 비율 반반 -> 너무 깔끔해~~~\n",
    "train['target'].value_counts()"
   ]
  },
  {
   "cell_type": "code",
   "execution_count": 19,
   "metadata": {
    "hidden": true
   },
   "outputs": [
    {
     "data": {
      "text/plain": [
       "(300177, 283359)"
      ]
     },
     "execution_count": 19,
     "metadata": {},
     "output_type": "execute_result"
    }
   ],
   "source": [
    "# person_rn, contents_rn 중복가능\n",
    "train['person_rn'].nunique(), train['contents_rn'].nunique()"
   ]
  },
  {
   "cell_type": "markdown",
   "metadata": {},
   "source": [
    "## feature preprocessing & engineering"
   ]
  },
  {
   "cell_type": "markdown",
   "metadata": {},
   "source": [
    "아이디어\n",
    "1. 컨텐츠 열람 일시 관련 시계열 피처 생성\n",
    "2. 회원속성(선호속성) + 컨텐츠속성의 조합 -> 조합을 피쳐로 생성 후 군집분석 or 임베딩\n",
    "3. 조윤호 교수님 코드 최대한으로 활용해보자"
   ]
  },
  {
   "cell_type": "markdown",
   "metadata": {},
   "source": [
    "### 데이터 - 속성코드 매칭"
   ]
  },
  {
   "cell_type": "code",
   "execution_count": 8,
   "metadata": {},
   "outputs": [],
   "source": [
    "def add_code(df, d_code, h_code, l_code):\n",
    "    df = df.copy()   \n",
    "\n",
    "    # D Code\n",
    "    df['person_prefer_d_1_n'] = df['person_prefer_d_1'].apply(lambda x: d_code[x]['속성 D 세분류코드'])\n",
    "    df['person_prefer_d_1_s'] = df['person_prefer_d_1'].apply(lambda x: d_code[x]['속성 D 소분류코드'])\n",
    "    df['person_prefer_d_1_m'] = df['person_prefer_d_1'].apply(lambda x: d_code[x]['속성 D 중분류코드'])\n",
    "    df['person_prefer_d_1_l'] = df['person_prefer_d_1'].apply(lambda x: d_code[x]['속성 D 대분류코드'])\n",
    "\n",
    "    df['person_prefer_d_2_n'] = df['person_prefer_d_2'].apply(lambda x: d_code[x]['속성 D 세분류코드'])\n",
    "    df['person_prefer_d_2_s'] = df['person_prefer_d_2'].apply(lambda x: d_code[x]['속성 D 소분류코드'])\n",
    "    df['person_prefer_d_2_m'] = df['person_prefer_d_2'].apply(lambda x: d_code[x]['속성 D 중분류코드'])\n",
    "    df['person_prefer_d_2_l'] = df['person_prefer_d_2'].apply(lambda x: d_code[x]['속성 D 대분류코드'])\n",
    "\n",
    "    df['person_prefer_d_3_n'] = df['person_prefer_d_3'].apply(lambda x: d_code[x]['속성 D 세분류코드'])\n",
    "    df['person_prefer_d_3_s'] = df['person_prefer_d_3'].apply(lambda x: d_code[x]['속성 D 소분류코드'])\n",
    "    df['person_prefer_d_3_m'] = df['person_prefer_d_3'].apply(lambda x: d_code[x]['속성 D 중분류코드'])\n",
    "    df['person_prefer_d_3_l'] = df['person_prefer_d_3'].apply(lambda x: d_code[x]['속성 D 대분류코드'])\n",
    "\n",
    "    df['contents_attribute_d_n'] = df['contents_attribute_d'].apply(lambda x: d_code[x]['속성 D 세분류코드'])\n",
    "    df['contents_attribute_d_s'] = df['contents_attribute_d'].apply(lambda x: d_code[x]['속성 D 소분류코드'])\n",
    "    df['contents_attribute_d_m'] = df['contents_attribute_d'].apply(lambda x: d_code[x]['속성 D 중분류코드'])\n",
    "    df['contents_attribute_d_l'] = df['contents_attribute_d'].apply(lambda x: d_code[x]['속성 D 대분류코드'])\n",
    "\n",
    "    # H Code\n",
    "    df['person_prefer_h_1_u'] = df['person_prefer_h_1'].apply(lambda x: h_code[x]['속성 H 상위코드'])\n",
    "    df['person_prefer_h_2_u'] = df['person_prefer_h_2'].apply(lambda x: h_code[x]['속성 H 상위코드'])\n",
    "    df['person_prefer_h_3_u'] = df['person_prefer_h_3'].apply(lambda x: h_code[x]['속성 H 상위코드'])\n",
    "    df['contents_attribute_h_u'] = df['contents_attribute_h'].apply(lambda x: h_code[x]['속성 H 상위코드'])\n",
    "\n",
    "    # L Code\n",
    "    df['contents_attribute_l_n'] = df['contents_attribute_l'].apply(lambda x: l_code[x]['속성 L 세분류코드'])\n",
    "    df['contents_attribute_l_s'] = df['contents_attribute_l'].apply(lambda x: l_code[x]['속성 L 소분류코드'])\n",
    "    df['contents_attribute_l_m'] = df['contents_attribute_l'].apply(lambda x: l_code[x]['속성 L 중분류코드'])\n",
    "    df['contents_attribute_l_l'] = df['contents_attribute_l'].apply(lambda x: l_code[x]['속성 L 대분류코드'])\n",
    "    return df"
   ]
  },
  {
   "cell_type": "code",
   "execution_count": 9,
   "metadata": {},
   "outputs": [],
   "source": [
    "d_code = pd.read_csv('data/속성_D_코드.csv', index_col=0).iloc[:, :4].T.to_dict()\n",
    "h_code = pd.read_csv('data/속성_H_코드.csv', index_col=0).T.to_dict()\n",
    "l_code = pd.read_csv('data/속성_L_코드.csv', index_col=0).T.to_dict()"
   ]
  },
  {
   "cell_type": "code",
   "execution_count": 10,
   "metadata": {},
   "outputs": [],
   "source": [
    "train = add_code(train, d_code, h_code, l_code)\n",
    "test = add_code(test, d_code, h_code, l_code)"
   ]
  },
  {
   "cell_type": "code",
   "execution_count": 11,
   "metadata": {},
   "outputs": [
    {
     "data": {
      "text/plain": [
       "((501951, 59), (46404, 58))"
      ]
     },
     "execution_count": 11,
     "metadata": {},
     "output_type": "execute_result"
    }
   ],
   "source": [
    "train.shape, test.shape"
   ]
  },
  {
   "cell_type": "markdown",
   "metadata": {},
   "source": [
    "### contents_open_dt 관련"
   ]
  },
  {
   "cell_type": "code",
   "execution_count": 12,
   "metadata": {},
   "outputs": [],
   "source": [
    "train['contents_open_dt'] = pd.to_datetime(train['contents_open_dt'])\n",
    "test['contents_open_dt'] = pd.to_datetime(test['contents_open_dt'])"
   ]
  },
  {
   "cell_type": "code",
   "execution_count": 13,
   "metadata": {},
   "outputs": [
    {
     "data": {
      "text/plain": [
       "(Timestamp('2020-01-01 00:01:03'), Timestamp('2020-11-30 23:59:56'))"
      ]
     },
     "execution_count": 13,
     "metadata": {},
     "output_type": "execute_result"
    }
   ],
   "source": [
    "train['contents_open_dt'].min(), train['contents_open_dt'].max()"
   ]
  },
  {
   "cell_type": "code",
   "execution_count": 14,
   "metadata": {},
   "outputs": [
    {
     "data": {
      "text/plain": [
       "(Timestamp('2020-12-01 00:00:07'), Timestamp('2020-12-31 23:59:08'))"
      ]
     },
     "execution_count": 14,
     "metadata": {},
     "output_type": "execute_result"
    }
   ],
   "source": [
    "test['contents_open_dt'].min(), test['contents_open_dt'].max()"
   ]
  },
  {
   "cell_type": "code",
   "execution_count": 15,
   "metadata": {},
   "outputs": [],
   "source": [
    "#train['contents_open_year'] = train['contents_open_dt'].dt.year\n",
    "train['contents_open_month'] = train['contents_open_dt'].dt.month\n",
    "train['contents_open_day'] = train['contents_open_dt'].dt.day\n",
    "train['contents_open_dow'] = train['contents_open_dt'].dt.dayofweek\n",
    "train['contents_open_hour'] = train['contents_open_dt'].dt.hour\n",
    "\n",
    "#test['contents_open_year'] = test['contents_open_dt'].dt.year\n",
    "test['contents_open_month'] = test['contents_open_dt'].dt.month\n",
    "test['contents_open_day'] = test['contents_open_dt'].dt.day\n",
    "test['contents_open_dow'] = test['contents_open_dt'].dt.dayofweek\n",
    "test['contents_open_hour'] = test['contents_open_dt'].dt.hour"
   ]
  },
  {
   "cell_type": "code",
   "execution_count": 16,
   "metadata": {},
   "outputs": [],
   "source": [
    "train['contents_open_season'] = train['contents_open_month'].apply(lambda x : 'spring' if x in [3, 4, 5]\n",
    "                                                                  else 'summer' if x in [6, 7, 8]\n",
    "                                                                  else 'fall' if x in [9, 10, 11]\n",
    "                                                                  else 'winter')\n",
    "\n",
    "test['contents_open_season'] = test['contents_open_month'].apply(lambda x : 'spring' if x in [3, 4, 5]\n",
    "                                                                  else 'summer' if x in [6, 7, 8]\n",
    "                                                                  else 'fall' if x in [9, 10, 11]\n",
    "                                                                  else 'winter')"
   ]
  },
  {
   "cell_type": "code",
   "execution_count": 17,
   "metadata": {},
   "outputs": [],
   "source": [
    "# 보통 회사 식사시간 기준\n",
    "train['contents_open_ts'] = train['contents_open_hour'].apply(lambda x : '아침' if (x >= 7) and (x <= 11)\n",
    "                                                                  else '점심' if (x > 11) and (x <= 13)\n",
    "                                                                  else '오후' if (x > 13) and (x <= 19)\n",
    "                                                                  else '휴식')\n",
    "\n",
    "test['contents_open_ts'] = test['contents_open_hour'].apply(lambda x : '아침' if (x >= 7) and (x <= 11)\n",
    "                                                                  else '점심' if (x > 11) and (x <= 13)\n",
    "                                                                  else '오후' if (x > 13) and (x <= 19)\n",
    "                                                                  else '휴식')"
   ]
  },
  {
   "cell_type": "code",
   "execution_count": 18,
   "metadata": {},
   "outputs": [],
   "source": [
    "train['contents_open_mgroup'] = pd.cut(train['contents_open_day'], bins = [1, 11, 21, 32], \n",
    "                              right = False, labels = ['Cho', 'Jung', 'Mal'])\n",
    "\n",
    "test['contents_open_mgroup'] = pd.cut(test['contents_open_day'], bins = [1, 11, 21, 32], \n",
    "                              right = False, labels = ['Cho', 'Jung', 'Mal'])"
   ]
  },
  {
   "cell_type": "code",
   "execution_count": 19,
   "metadata": {},
   "outputs": [],
   "source": [
    "train['weekend'] = train['contents_open_dow'].apply(lambda x : 1 if x > 4 else 0)\n",
    "test['weekend'] = test['contents_open_dow'].apply(lambda x : 1 if x > 4 else 0)"
   ]
  },
  {
   "cell_type": "code",
   "execution_count": 20,
   "metadata": {},
   "outputs": [],
   "source": [
    "# 10:30 ~ 20:00\n",
    "train['contents_open_open'] = train['contents_open_hour'].apply(lambda x : 1 if (x >= 10) and (x <= 20) else 0)\n",
    "test['contents_open_open'] = test['contents_open_hour'].apply(lambda x : 1 if (x >= 10) and (x <= 20) else 0)"
   ]
  },
  {
   "cell_type": "markdown",
   "metadata": {},
   "source": [
    "### 회원속성"
   ]
  },
  {
   "cell_type": "code",
   "execution_count": 21,
   "metadata": {},
   "outputs": [
    {
     "ename": "KeyboardInterrupt",
     "evalue": "",
     "output_type": "error",
     "traceback": [
      "\u001b[1;31m---------------------------------------------------------------------------\u001b[0m",
      "\u001b[1;31mKeyboardInterrupt\u001b[0m                         Traceback (most recent call last)",
      "\u001b[1;32m<ipython-input-21-66c76f87f07e>\u001b[0m in \u001b[0;36m<module>\u001b[1;34m\u001b[0m\n\u001b[0;32m      2\u001b[0m \u001b[0mtrue_sum\u001b[0m \u001b[1;33m=\u001b[0m \u001b[1;33m[\u001b[0m\u001b[1;33m]\u001b[0m\u001b[1;33m\u001b[0m\u001b[1;33m\u001b[0m\u001b[0m\n\u001b[0;32m      3\u001b[0m \u001b[1;32mfor\u001b[0m \u001b[0mi\u001b[0m \u001b[1;32min\u001b[0m \u001b[0mrange\u001b[0m \u001b[1;33m(\u001b[0m\u001b[1;36m0\u001b[0m\u001b[1;33m,\u001b[0m \u001b[0mtrain\u001b[0m\u001b[1;33m.\u001b[0m\u001b[0mshape\u001b[0m\u001b[1;33m[\u001b[0m\u001b[1;36m0\u001b[0m\u001b[1;33m]\u001b[0m\u001b[1;33m,\u001b[0m \u001b[1;36m1\u001b[0m\u001b[1;33m)\u001b[0m\u001b[1;33m:\u001b[0m\u001b[1;33m\u001b[0m\u001b[1;33m\u001b[0m\u001b[0m\n\u001b[1;32m----> 4\u001b[1;33m     \u001b[0mtrue_all\u001b[0m \u001b[1;33m=\u001b[0m \u001b[0mtrain\u001b[0m\u001b[1;33m.\u001b[0m\u001b[0miloc\u001b[0m\u001b[1;33m[\u001b[0m\u001b[0mi\u001b[0m\u001b[1;33m:\u001b[0m\u001b[0mi\u001b[0m\u001b[1;33m+\u001b[0m\u001b[1;36m1\u001b[0m\u001b[1;33m,\u001b[0m \u001b[1;36m1\u001b[0m\u001b[1;33m:\u001b[0m\u001b[1;36m7\u001b[0m\u001b[1;33m]\u001b[0m\u001b[1;33m.\u001b[0m\u001b[0msum\u001b[0m\u001b[1;33m(\u001b[0m\u001b[1;33m)\u001b[0m\u001b[1;33m.\u001b[0m\u001b[0msum\u001b[0m\u001b[1;33m(\u001b[0m\u001b[1;33m)\u001b[0m\u001b[1;33m\u001b[0m\u001b[1;33m\u001b[0m\u001b[0m\n\u001b[0m\u001b[0;32m      5\u001b[0m     \u001b[0mtrue_sum\u001b[0m\u001b[1;33m.\u001b[0m\u001b[0mappend\u001b[0m\u001b[1;33m(\u001b[0m\u001b[0mtrue_all\u001b[0m\u001b[1;33m)\u001b[0m\u001b[1;33m\u001b[0m\u001b[1;33m\u001b[0m\u001b[0m\n\u001b[0;32m      6\u001b[0m \u001b[1;33m\u001b[0m\u001b[0m\n",
      "\u001b[1;32m~\\anaconda3\\lib\\site-packages\\pandas\\core\\indexing.py\u001b[0m in \u001b[0;36m__getitem__\u001b[1;34m(self, key)\u001b[0m\n\u001b[0;32m    923\u001b[0m                 \u001b[1;32mwith\u001b[0m \u001b[0msuppress\u001b[0m\u001b[1;33m(\u001b[0m\u001b[0mKeyError\u001b[0m\u001b[1;33m,\u001b[0m \u001b[0mIndexError\u001b[0m\u001b[1;33m)\u001b[0m\u001b[1;33m:\u001b[0m\u001b[1;33m\u001b[0m\u001b[1;33m\u001b[0m\u001b[0m\n\u001b[0;32m    924\u001b[0m                     \u001b[1;32mreturn\u001b[0m \u001b[0mself\u001b[0m\u001b[1;33m.\u001b[0m\u001b[0mobj\u001b[0m\u001b[1;33m.\u001b[0m\u001b[0m_get_value\u001b[0m\u001b[1;33m(\u001b[0m\u001b[1;33m*\u001b[0m\u001b[0mkey\u001b[0m\u001b[1;33m,\u001b[0m \u001b[0mtakeable\u001b[0m\u001b[1;33m=\u001b[0m\u001b[0mself\u001b[0m\u001b[1;33m.\u001b[0m\u001b[0m_takeable\u001b[0m\u001b[1;33m)\u001b[0m\u001b[1;33m\u001b[0m\u001b[1;33m\u001b[0m\u001b[0m\n\u001b[1;32m--> 925\u001b[1;33m             \u001b[1;32mreturn\u001b[0m \u001b[0mself\u001b[0m\u001b[1;33m.\u001b[0m\u001b[0m_getitem_tuple\u001b[0m\u001b[1;33m(\u001b[0m\u001b[0mkey\u001b[0m\u001b[1;33m)\u001b[0m\u001b[1;33m\u001b[0m\u001b[1;33m\u001b[0m\u001b[0m\n\u001b[0m\u001b[0;32m    926\u001b[0m         \u001b[1;32melse\u001b[0m\u001b[1;33m:\u001b[0m\u001b[1;33m\u001b[0m\u001b[1;33m\u001b[0m\u001b[0m\n\u001b[0;32m    927\u001b[0m             \u001b[1;31m# we by definition only have the 0th axis\u001b[0m\u001b[1;33m\u001b[0m\u001b[1;33m\u001b[0m\u001b[1;33m\u001b[0m\u001b[0m\n",
      "\u001b[1;32m~\\anaconda3\\lib\\site-packages\\pandas\\core\\indexing.py\u001b[0m in \u001b[0;36m_getitem_tuple\u001b[1;34m(self, tup)\u001b[0m\n\u001b[0;32m   1508\u001b[0m             \u001b[1;32mreturn\u001b[0m \u001b[0mself\u001b[0m\u001b[1;33m.\u001b[0m\u001b[0m_getitem_lowerdim\u001b[0m\u001b[1;33m(\u001b[0m\u001b[0mtup\u001b[0m\u001b[1;33m)\u001b[0m\u001b[1;33m\u001b[0m\u001b[1;33m\u001b[0m\u001b[0m\n\u001b[0;32m   1509\u001b[0m \u001b[1;33m\u001b[0m\u001b[0m\n\u001b[1;32m-> 1510\u001b[1;33m         \u001b[1;32mreturn\u001b[0m \u001b[0mself\u001b[0m\u001b[1;33m.\u001b[0m\u001b[0m_getitem_tuple_same_dim\u001b[0m\u001b[1;33m(\u001b[0m\u001b[0mtup\u001b[0m\u001b[1;33m)\u001b[0m\u001b[1;33m\u001b[0m\u001b[1;33m\u001b[0m\u001b[0m\n\u001b[0m\u001b[0;32m   1511\u001b[0m \u001b[1;33m\u001b[0m\u001b[0m\n\u001b[0;32m   1512\u001b[0m     \u001b[1;32mdef\u001b[0m \u001b[0m_get_list_axis\u001b[0m\u001b[1;33m(\u001b[0m\u001b[0mself\u001b[0m\u001b[1;33m,\u001b[0m \u001b[0mkey\u001b[0m\u001b[1;33m,\u001b[0m \u001b[0maxis\u001b[0m\u001b[1;33m:\u001b[0m \u001b[0mint\u001b[0m\u001b[1;33m)\u001b[0m\u001b[1;33m:\u001b[0m\u001b[1;33m\u001b[0m\u001b[1;33m\u001b[0m\u001b[0m\n",
      "\u001b[1;32m~\\anaconda3\\lib\\site-packages\\pandas\\core\\indexing.py\u001b[0m in \u001b[0;36m_getitem_tuple_same_dim\u001b[1;34m(self, tup)\u001b[0m\n\u001b[0;32m    804\u001b[0m                 \u001b[1;32mcontinue\u001b[0m\u001b[1;33m\u001b[0m\u001b[1;33m\u001b[0m\u001b[0m\n\u001b[0;32m    805\u001b[0m \u001b[1;33m\u001b[0m\u001b[0m\n\u001b[1;32m--> 806\u001b[1;33m             \u001b[0mretval\u001b[0m \u001b[1;33m=\u001b[0m \u001b[0mgetattr\u001b[0m\u001b[1;33m(\u001b[0m\u001b[0mretval\u001b[0m\u001b[1;33m,\u001b[0m \u001b[0mself\u001b[0m\u001b[1;33m.\u001b[0m\u001b[0mname\u001b[0m\u001b[1;33m)\u001b[0m\u001b[1;33m.\u001b[0m\u001b[0m_getitem_axis\u001b[0m\u001b[1;33m(\u001b[0m\u001b[0mkey\u001b[0m\u001b[1;33m,\u001b[0m \u001b[0maxis\u001b[0m\u001b[1;33m=\u001b[0m\u001b[0mi\u001b[0m\u001b[1;33m)\u001b[0m\u001b[1;33m\u001b[0m\u001b[1;33m\u001b[0m\u001b[0m\n\u001b[0m\u001b[0;32m    807\u001b[0m             \u001b[1;31m# We should never have retval.ndim < self.ndim, as that should\u001b[0m\u001b[1;33m\u001b[0m\u001b[1;33m\u001b[0m\u001b[1;33m\u001b[0m\u001b[0m\n\u001b[0;32m    808\u001b[0m             \u001b[1;31m#  be handled by the _getitem_lowerdim call above.\u001b[0m\u001b[1;33m\u001b[0m\u001b[1;33m\u001b[0m\u001b[1;33m\u001b[0m\u001b[0m\n",
      "\u001b[1;32m~\\anaconda3\\lib\\site-packages\\pandas\\core\\indexing.py\u001b[0m in \u001b[0;36m_getitem_axis\u001b[1;34m(self, key, axis)\u001b[0m\n\u001b[0;32m   1541\u001b[0m \u001b[1;33m\u001b[0m\u001b[0m\n\u001b[0;32m   1542\u001b[0m         \u001b[1;32mif\u001b[0m \u001b[0misinstance\u001b[0m\u001b[1;33m(\u001b[0m\u001b[0mkey\u001b[0m\u001b[1;33m,\u001b[0m \u001b[0mslice\u001b[0m\u001b[1;33m)\u001b[0m\u001b[1;33m:\u001b[0m\u001b[1;33m\u001b[0m\u001b[1;33m\u001b[0m\u001b[0m\n\u001b[1;32m-> 1543\u001b[1;33m             \u001b[1;32mreturn\u001b[0m \u001b[0mself\u001b[0m\u001b[1;33m.\u001b[0m\u001b[0m_get_slice_axis\u001b[0m\u001b[1;33m(\u001b[0m\u001b[0mkey\u001b[0m\u001b[1;33m,\u001b[0m \u001b[0maxis\u001b[0m\u001b[1;33m=\u001b[0m\u001b[0maxis\u001b[0m\u001b[1;33m)\u001b[0m\u001b[1;33m\u001b[0m\u001b[1;33m\u001b[0m\u001b[0m\n\u001b[0m\u001b[0;32m   1544\u001b[0m \u001b[1;33m\u001b[0m\u001b[0m\n\u001b[0;32m   1545\u001b[0m         \u001b[1;32mif\u001b[0m \u001b[0mis_iterator\u001b[0m\u001b[1;33m(\u001b[0m\u001b[0mkey\u001b[0m\u001b[1;33m)\u001b[0m\u001b[1;33m:\u001b[0m\u001b[1;33m\u001b[0m\u001b[1;33m\u001b[0m\u001b[0m\n",
      "\u001b[1;32m~\\anaconda3\\lib\\site-packages\\pandas\\core\\indexing.py\u001b[0m in \u001b[0;36m_get_slice_axis\u001b[1;34m(self, slice_obj, axis)\u001b[0m\n\u001b[0;32m   1577\u001b[0m         \u001b[0mlabels\u001b[0m \u001b[1;33m=\u001b[0m \u001b[0mobj\u001b[0m\u001b[1;33m.\u001b[0m\u001b[0m_get_axis\u001b[0m\u001b[1;33m(\u001b[0m\u001b[0maxis\u001b[0m\u001b[1;33m)\u001b[0m\u001b[1;33m\u001b[0m\u001b[1;33m\u001b[0m\u001b[0m\n\u001b[0;32m   1578\u001b[0m         \u001b[0mlabels\u001b[0m\u001b[1;33m.\u001b[0m\u001b[0m_validate_positional_slice\u001b[0m\u001b[1;33m(\u001b[0m\u001b[0mslice_obj\u001b[0m\u001b[1;33m)\u001b[0m\u001b[1;33m\u001b[0m\u001b[1;33m\u001b[0m\u001b[0m\n\u001b[1;32m-> 1579\u001b[1;33m         \u001b[1;32mreturn\u001b[0m \u001b[0mself\u001b[0m\u001b[1;33m.\u001b[0m\u001b[0mobj\u001b[0m\u001b[1;33m.\u001b[0m\u001b[0m_slice\u001b[0m\u001b[1;33m(\u001b[0m\u001b[0mslice_obj\u001b[0m\u001b[1;33m,\u001b[0m \u001b[0maxis\u001b[0m\u001b[1;33m=\u001b[0m\u001b[0maxis\u001b[0m\u001b[1;33m)\u001b[0m\u001b[1;33m\u001b[0m\u001b[1;33m\u001b[0m\u001b[0m\n\u001b[0m\u001b[0;32m   1580\u001b[0m \u001b[1;33m\u001b[0m\u001b[0m\n\u001b[0;32m   1581\u001b[0m     \u001b[1;32mdef\u001b[0m \u001b[0m_convert_to_indexer\u001b[0m\u001b[1;33m(\u001b[0m\u001b[0mself\u001b[0m\u001b[1;33m,\u001b[0m \u001b[0mkey\u001b[0m\u001b[1;33m,\u001b[0m \u001b[0maxis\u001b[0m\u001b[1;33m:\u001b[0m \u001b[0mint\u001b[0m\u001b[1;33m,\u001b[0m \u001b[0mis_setter\u001b[0m\u001b[1;33m:\u001b[0m \u001b[0mbool\u001b[0m \u001b[1;33m=\u001b[0m \u001b[1;32mFalse\u001b[0m\u001b[1;33m)\u001b[0m\u001b[1;33m:\u001b[0m\u001b[1;33m\u001b[0m\u001b[1;33m\u001b[0m\u001b[0m\n",
      "\u001b[1;32m~\\anaconda3\\lib\\site-packages\\pandas\\core\\generic.py\u001b[0m in \u001b[0;36m_slice\u001b[1;34m(self, slobj, axis)\u001b[0m\n\u001b[0;32m   3826\u001b[0m         \u001b[1;32massert\u001b[0m \u001b[0misinstance\u001b[0m\u001b[1;33m(\u001b[0m\u001b[0mslobj\u001b[0m\u001b[1;33m,\u001b[0m \u001b[0mslice\u001b[0m\u001b[1;33m)\u001b[0m\u001b[1;33m,\u001b[0m \u001b[0mtype\u001b[0m\u001b[1;33m(\u001b[0m\u001b[0mslobj\u001b[0m\u001b[1;33m)\u001b[0m\u001b[1;33m\u001b[0m\u001b[1;33m\u001b[0m\u001b[0m\n\u001b[0;32m   3827\u001b[0m         \u001b[0maxis\u001b[0m \u001b[1;33m=\u001b[0m \u001b[0mself\u001b[0m\u001b[1;33m.\u001b[0m\u001b[0m_get_block_manager_axis\u001b[0m\u001b[1;33m(\u001b[0m\u001b[0maxis\u001b[0m\u001b[1;33m)\u001b[0m\u001b[1;33m\u001b[0m\u001b[1;33m\u001b[0m\u001b[0m\n\u001b[1;32m-> 3828\u001b[1;33m         \u001b[0mresult\u001b[0m \u001b[1;33m=\u001b[0m \u001b[0mself\u001b[0m\u001b[1;33m.\u001b[0m\u001b[0m_constructor\u001b[0m\u001b[1;33m(\u001b[0m\u001b[0mself\u001b[0m\u001b[1;33m.\u001b[0m\u001b[0m_mgr\u001b[0m\u001b[1;33m.\u001b[0m\u001b[0mget_slice\u001b[0m\u001b[1;33m(\u001b[0m\u001b[0mslobj\u001b[0m\u001b[1;33m,\u001b[0m \u001b[0maxis\u001b[0m\u001b[1;33m=\u001b[0m\u001b[0maxis\u001b[0m\u001b[1;33m)\u001b[0m\u001b[1;33m)\u001b[0m\u001b[1;33m\u001b[0m\u001b[1;33m\u001b[0m\u001b[0m\n\u001b[0m\u001b[0;32m   3829\u001b[0m         \u001b[0mresult\u001b[0m \u001b[1;33m=\u001b[0m \u001b[0mresult\u001b[0m\u001b[1;33m.\u001b[0m\u001b[0m__finalize__\u001b[0m\u001b[1;33m(\u001b[0m\u001b[0mself\u001b[0m\u001b[1;33m)\u001b[0m\u001b[1;33m\u001b[0m\u001b[1;33m\u001b[0m\u001b[0m\n\u001b[0;32m   3830\u001b[0m \u001b[1;33m\u001b[0m\u001b[0m\n",
      "\u001b[1;32m~\\anaconda3\\lib\\site-packages\\pandas\\_libs\\internals.pyx\u001b[0m in \u001b[0;36mpandas._libs.internals.BlockManager.get_slice\u001b[1;34m()\u001b[0m\n",
      "\u001b[1;32m~\\anaconda3\\lib\\site-packages\\pandas\\core\\internals\\managers.py\u001b[0m in \u001b[0;36m_slice_take_blocks_ax0\u001b[1;34m(self, slice_or_indexer, fill_value, only_slice)\u001b[0m\n\u001b[0;32m    761\u001b[0m \u001b[1;33m\u001b[0m\u001b[0m\n\u001b[0;32m    762\u001b[0m         \u001b[1;32mif\u001b[0m \u001b[0msl_type\u001b[0m \u001b[1;33m==\u001b[0m \u001b[1;34m\"slice\"\u001b[0m\u001b[1;33m:\u001b[0m\u001b[1;33m\u001b[0m\u001b[1;33m\u001b[0m\u001b[0m\n\u001b[1;32m--> 763\u001b[1;33m             \u001b[0mblknos\u001b[0m \u001b[1;33m=\u001b[0m \u001b[0mself\u001b[0m\u001b[1;33m.\u001b[0m\u001b[0mblknos\u001b[0m\u001b[1;33m[\u001b[0m\u001b[0mslobj\u001b[0m\u001b[1;33m]\u001b[0m\u001b[1;33m\u001b[0m\u001b[1;33m\u001b[0m\u001b[0m\n\u001b[0m\u001b[0;32m    764\u001b[0m             \u001b[0mblklocs\u001b[0m \u001b[1;33m=\u001b[0m \u001b[0mself\u001b[0m\u001b[1;33m.\u001b[0m\u001b[0mblklocs\u001b[0m\u001b[1;33m[\u001b[0m\u001b[0mslobj\u001b[0m\u001b[1;33m]\u001b[0m\u001b[1;33m\u001b[0m\u001b[1;33m\u001b[0m\u001b[0m\n\u001b[0;32m    765\u001b[0m         \u001b[1;32melse\u001b[0m\u001b[1;33m:\u001b[0m\u001b[1;33m\u001b[0m\u001b[1;33m\u001b[0m\u001b[0m\n",
      "\u001b[1;32m~\\anaconda3\\lib\\site-packages\\pandas\\core\\internals\\managers.py\u001b[0m in \u001b[0;36mblknos\u001b[1;34m(self)\u001b[0m\n\u001b[0;32m    168\u001b[0m         \u001b[1;32mif\u001b[0m \u001b[0mself\u001b[0m\u001b[1;33m.\u001b[0m\u001b[0m_blknos\u001b[0m \u001b[1;32mis\u001b[0m \u001b[1;32mNone\u001b[0m\u001b[1;33m:\u001b[0m\u001b[1;33m\u001b[0m\u001b[1;33m\u001b[0m\u001b[0m\n\u001b[0;32m    169\u001b[0m             \u001b[1;31m# Note: these can be altered by other BlockManager methods.\u001b[0m\u001b[1;33m\u001b[0m\u001b[1;33m\u001b[0m\u001b[1;33m\u001b[0m\u001b[0m\n\u001b[1;32m--> 170\u001b[1;33m             \u001b[0mself\u001b[0m\u001b[1;33m.\u001b[0m\u001b[0m_rebuild_blknos_and_blklocs\u001b[0m\u001b[1;33m(\u001b[0m\u001b[1;33m)\u001b[0m\u001b[1;33m\u001b[0m\u001b[1;33m\u001b[0m\u001b[0m\n\u001b[0m\u001b[0;32m    171\u001b[0m \u001b[1;33m\u001b[0m\u001b[0m\n\u001b[0;32m    172\u001b[0m         \u001b[1;32mreturn\u001b[0m \u001b[0mself\u001b[0m\u001b[1;33m.\u001b[0m\u001b[0m_blknos\u001b[0m\u001b[1;33m\u001b[0m\u001b[1;33m\u001b[0m\u001b[0m\n",
      "\u001b[1;32m~\\anaconda3\\lib\\site-packages\\pandas\\core\\internals\\managers.py\u001b[0m in \u001b[0;36m_rebuild_blknos_and_blklocs\u001b[1;34m(self)\u001b[0m\n\u001b[0;32m    234\u001b[0m             \u001b[0mrl\u001b[0m \u001b[1;33m=\u001b[0m \u001b[0mblk\u001b[0m\u001b[1;33m.\u001b[0m\u001b[0mmgr_locs\u001b[0m\u001b[1;33m\u001b[0m\u001b[1;33m\u001b[0m\u001b[0m\n\u001b[0;32m    235\u001b[0m             \u001b[0mnew_blknos\u001b[0m\u001b[1;33m[\u001b[0m\u001b[0mrl\u001b[0m\u001b[1;33m.\u001b[0m\u001b[0mindexer\u001b[0m\u001b[1;33m]\u001b[0m \u001b[1;33m=\u001b[0m \u001b[0mblkno\u001b[0m\u001b[1;33m\u001b[0m\u001b[1;33m\u001b[0m\u001b[0m\n\u001b[1;32m--> 236\u001b[1;33m             \u001b[0mnew_blklocs\u001b[0m\u001b[1;33m[\u001b[0m\u001b[0mrl\u001b[0m\u001b[1;33m.\u001b[0m\u001b[0mindexer\u001b[0m\u001b[1;33m]\u001b[0m \u001b[1;33m=\u001b[0m \u001b[0mnp\u001b[0m\u001b[1;33m.\u001b[0m\u001b[0marange\u001b[0m\u001b[1;33m(\u001b[0m\u001b[0mlen\u001b[0m\u001b[1;33m(\u001b[0m\u001b[0mrl\u001b[0m\u001b[1;33m)\u001b[0m\u001b[1;33m)\u001b[0m\u001b[1;33m\u001b[0m\u001b[1;33m\u001b[0m\u001b[0m\n\u001b[0m\u001b[0;32m    237\u001b[0m \u001b[1;33m\u001b[0m\u001b[0m\n\u001b[0;32m    238\u001b[0m         \u001b[1;32mif\u001b[0m \u001b[1;33m(\u001b[0m\u001b[0mnew_blknos\u001b[0m \u001b[1;33m==\u001b[0m \u001b[1;33m-\u001b[0m\u001b[1;36m1\u001b[0m\u001b[1;33m)\u001b[0m\u001b[1;33m.\u001b[0m\u001b[0many\u001b[0m\u001b[1;33m(\u001b[0m\u001b[1;33m)\u001b[0m\u001b[1;33m:\u001b[0m\u001b[1;33m\u001b[0m\u001b[1;33m\u001b[0m\u001b[0m\n",
      "\u001b[1;31mKeyboardInterrupt\u001b[0m: "
     ]
    }
   ],
   "source": [
    "# 고객 취향 - 컨텐츠 속성 True 개수\n",
    "true_sum = []\n",
    "for i in range (0, train.shape[0], 1):\n",
    "    true_all = train.iloc[i:i+1, 1:7].sum().sum()\n",
    "    true_sum.append(true_all)\n",
    "\n",
    "true_sum_te = []\n",
    "for i in range (0, test.shape[0], 1):\n",
    "    true_all = test.iloc[i:i+1, 1:7].sum().sum()\n",
    "    true_sum_te.append(true_all)\n",
    "\n",
    "true_df = pd.DataFrame(true_sum)\n",
    "true_df.columns = ['true값']\n",
    "\n",
    "true_df_te = pd.DataFrame(true_sum_te)\n",
    "true_df_te.columns = ['true값']\n",
    "\n",
    "train = pd.concat([train, true_df], axis=1)\n",
    "test = pd.concat([test, true_df_te], axis=1)"
   ]
  },
  {
   "cell_type": "code",
   "execution_count": null,
   "metadata": {},
   "outputs": [],
   "source": [
    "train2 = train.sort_values(by='contents_open_dt').reset_index(drop=True)\n",
    "test2 = test.sort_values(by='contents_open_dt').reset_index(drop=True)"
   ]
  },
  {
   "cell_type": "code",
   "execution_count": null,
   "metadata": {},
   "outputs": [],
   "source": [
    "train2['누적_컨텐츠접촉'] = train2.groupby('person_rn')['person_rn'].cumcount() + 1\n",
    "test2['누적_컨텐츠접촉'] = test2.groupby('person_rn')['person_rn'].cumcount() + 1"
   ]
  },
  {
   "cell_type": "code",
   "execution_count": null,
   "metadata": {},
   "outputs": [],
   "source": [
    "train['누적_컨텐츠접속'] = train2.sort_values(by='id').reset_index()['누적_컨텐츠접촉']\n",
    "test['누적_컨텐츠접속'] = test2.sort_values(by='id').reset_index()['누적_컨텐츠접촉']"
   ]
  },
  {
   "cell_type": "markdown",
   "metadata": {
    "heading_collapsed": true
   },
   "source": [
    "### 회원속성, 컨텐츠속성 조합 fasttext embedding"
   ]
  },
  {
   "cell_type": "code",
   "execution_count": null,
   "metadata": {
    "hidden": true
   },
   "outputs": [],
   "source": [
    "train['회원특성'] = train['person_attribute_a'].astype(str) + '_' + train['person_attribute_a_1'].astype(str) + '_' + train['person_attribute_b'].astype(str) + \\\n",
    "'_' + train['person_prefer_c'].astype(str) + '_' + train['person_prefer_d_1'].astype(str) + '_' + train['person_prefer_d_2'].astype(str) + '_' + train['person_prefer_d_3'].astype(str) + \\\n",
    "'_' + train['person_prefer_e'].astype(str) + '_' + train['person_prefer_f'].astype(str) + '_' + train['person_prefer_g'].astype(str) + '_' + train['person_prefer_h_1'].astype(str) + \\\n",
    "'_' + train['person_prefer_h_2'].astype(str) + '_' + train['person_prefer_h_3'].astype(str)\n",
    "\n",
    "train['컨텐츠특성'] = train['contents_attribute_i'].astype(str) + '_' + train['contents_attribute_a'].astype(str) + '_' + train['contents_attribute_j_1'].astype(str) + \\\n",
    "'_' + train['contents_attribute_j'].astype(str) + '_' + train['contents_attribute_c'].astype(str) + '_' + train['contents_attribute_k'].astype(str) + '_' + train['contents_attribute_l'].astype(str) + \\\n",
    "'_' + train['contents_attribute_d'].astype(str) + '_' + train['contents_attribute_m'].astype(str)+ '_' + train['contents_attribute_e'].astype(str) + '_' + train['contents_attribute_h'].astype(str)"
   ]
  },
  {
   "cell_type": "code",
   "execution_count": null,
   "metadata": {
    "hidden": true
   },
   "outputs": [],
   "source": [
    "test['회원특성'] = test['person_attribute_a'].astype(str) + '_' + test['person_attribute_a_1'].astype(str) + '_' + test['person_attribute_b'].astype(str) + \\\n",
    "'_' + test['person_prefer_c'].astype(str) + '_' + test['person_prefer_d_1'].astype(str) + '_' + test['person_prefer_d_2'].astype(str) + '_' + test['person_prefer_d_3'].astype(str) + \\\n",
    "'_' + test['person_prefer_e'].astype(str) + '_' + test['person_prefer_f'].astype(str) + '_' + test['person_prefer_g'].astype(str) + '_' + test['person_prefer_h_1'].astype(str) + \\\n",
    "'_' + test['person_prefer_h_2'].astype(str) + '_' + test['person_prefer_h_3'].astype(str)\n",
    "\n",
    "test['컨텐츠특성'] = test['contents_attribute_i'].astype(str) + '_' + test['contents_attribute_a'].astype(str) + '_' + test['contents_attribute_j_1'].astype(str) + \\\n",
    "'_' + test['contents_attribute_j'].astype(str) + '_' + test['contents_attribute_c'].astype(str) + '_' + test['contents_attribute_k'].astype(str) + '_' + test['contents_attribute_l'].astype(str) + \\\n",
    "'_' + test['contents_attribute_d'].astype(str) + '_' + test['contents_attribute_m'].astype(str)+ '_' + test['contents_attribute_e'].astype(str) + '_' + test['contents_attribute_h'].astype(str)"
   ]
  },
  {
   "cell_type": "code",
   "execution_count": 33,
   "metadata": {
    "hidden": true
   },
   "outputs": [],
   "source": [
    "train['회원_컨텐츠_조합'] = train['회원특성'] + '+' + train['컨텐츠특성']\n",
    "test['회원_컨텐츠_조합'] = test['회원특성'] + '+' + test['컨텐츠특성']"
   ]
  },
  {
   "cell_type": "code",
   "execution_count": 34,
   "metadata": {
    "hidden": true
   },
   "outputs": [],
   "source": [
    "import random\n",
    "\n",
    "train_data = list(train['회원_컨텐츠_조합'].unique())\n",
    "test_data = list(test['회원_컨텐츠_조합'].unique())"
   ]
  },
  {
   "cell_type": "code",
   "execution_count": 39,
   "metadata": {
    "hidden": true
   },
   "outputs": [
    {
     "data": {
      "text/plain": [
       "'1_4_3_5_275_370_369_8_1_1_4_95_59+3_3_10_2_1_2_1608_275_1_4_139'"
      ]
     },
     "execution_count": 39,
     "metadata": {},
     "output_type": "execute_result"
    }
   ],
   "source": [
    "train_data[0]"
   ]
  },
  {
   "cell_type": "code",
   "execution_count": 35,
   "metadata": {
    "hidden": true
   },
   "outputs": [
    {
     "data": {
      "text/plain": [
       "(500937, 46389)"
      ]
     },
     "execution_count": 35,
     "metadata": {},
     "output_type": "execute_result"
    }
   ],
   "source": [
    "len(train_data), len(test_data)"
   ]
  },
  {
   "cell_type": "code",
   "execution_count": 38,
   "metadata": {
    "hidden": true
   },
   "outputs": [],
   "source": [
    "from gensim.models.fasttext import FastText"
   ]
  },
  {
   "cell_type": "code",
   "execution_count": 40,
   "metadata": {
    "hidden": true
   },
   "outputs": [],
   "source": [
    "model = FastText(sentences=train_data, size=30, window=5, min_count=1, sg=1)"
   ]
  },
  {
   "cell_type": "code",
   "execution_count": 41,
   "metadata": {
    "hidden": true
   },
   "outputs": [],
   "source": [
    "model.train(sentences=train_data, epochs=5, total_examples=model.corpus_count, \n",
    "            total_words=model.corpus_total_words)"
   ]
  },
  {
   "cell_type": "code",
   "execution_count": 42,
   "metadata": {
    "hidden": true
   },
   "outputs": [
    {
     "name": "stderr",
     "output_type": "stream",
     "text": [
      "100%|████████████████████████████████████████████████████████████████████████| 500937/500937 [02:00<00:00, 4149.50it/s]\n"
     ]
    }
   ],
   "source": [
    "train_mean_vector = []\n",
    "for words in tqdm(train_data):\n",
    "    tmp = np.zeros(30)\n",
    "    cnt = 0\n",
    "    for word in words:\n",
    "        try:\n",
    "            tmp += model.wv[word]\n",
    "            cnt += 1\n",
    "        except:\n",
    "            pass\n",
    "    tmp /= cnt\n",
    "    train_mean_vector.append(tmp)\n",
    "train_mean_vector = np.array(train_mean_vector)"
   ]
  },
  {
   "cell_type": "code",
   "execution_count": 43,
   "metadata": {
    "hidden": true
   },
   "outputs": [
    {
     "name": "stderr",
     "output_type": "stream",
     "text": [
      "100%|██████████████████████████████████████████████████████████████████████████| 46389/46389 [00:11<00:00, 4192.63it/s]\n"
     ]
    }
   ],
   "source": [
    "test_mean_vector = []\n",
    "for words in tqdm(test_data):\n",
    "    tmp = np.zeros(30)\n",
    "    cnt = 0\n",
    "    for word in words:\n",
    "        try:\n",
    "            tmp += model.wv[word]\n",
    "            cnt += 1\n",
    "        except:\n",
    "            pass\n",
    "    tmp /= cnt\n",
    "    test_mean_vector.append(tmp)\n",
    "test_mean_vector = np.array(test_mean_vector)"
   ]
  },
  {
   "cell_type": "code",
   "execution_count": 44,
   "metadata": {
    "hidden": true
   },
   "outputs": [],
   "source": [
    "train_mean_vector = pd.DataFrame(train_mean_vector)\n",
    "train_mean_vector.columns = 'combination + ' + train_mean_vector.columns.astype(str)\n",
    "\n",
    "test_mean_vector = pd.DataFrame(test_mean_vector)\n",
    "test_mean_vector.columns = 'combination + ' + test_mean_vector.columns.astype(str)"
   ]
  },
  {
   "cell_type": "code",
   "execution_count": 47,
   "metadata": {
    "hidden": true
   },
   "outputs": [],
   "source": [
    "train_mean_vector['회원_컨텐츠_조합'] = train_data\n",
    "test_mean_vector['회원_컨텐츠_조합'] = test_data"
   ]
  },
  {
   "cell_type": "code",
   "execution_count": 50,
   "metadata": {
    "hidden": true
   },
   "outputs": [],
   "source": [
    "train = train.merge(train_mean_vector, on='회원_컨텐츠_조합', how='left')\n",
    "test = test.merge(test_mean_vector, on='회원_컨텐츠_조합', how='left')"
   ]
  },
  {
   "cell_type": "markdown",
   "metadata": {
    "heading_collapsed": true
   },
   "source": [
    "### 회원속성, 컨텐츠속성 조합 kmeans"
   ]
  },
  {
   "cell_type": "code",
   "execution_count": 89,
   "metadata": {
    "hidden": true
   },
   "outputs": [
    {
     "data": {
      "text/plain": [
       "Index(['id', 'd_l_match_yn', 'd_m_match_yn', 'd_s_match_yn', 'h_l_match_yn',\n",
       "       'h_m_match_yn', 'h_s_match_yn', 'person_attribute_a',\n",
       "       'person_attribute_a_1', 'person_attribute_b', 'person_prefer_c',\n",
       "       'person_prefer_d_1', 'person_prefer_d_2', 'person_prefer_d_3',\n",
       "       'person_prefer_e', 'person_prefer_f', 'person_prefer_g',\n",
       "       'person_prefer_h_1', 'person_prefer_h_2', 'person_prefer_h_3',\n",
       "       'contents_attribute_i', 'contents_attribute_a',\n",
       "       'contents_attribute_j_1', 'contents_attribute_j',\n",
       "       'contents_attribute_c', 'contents_attribute_k', 'contents_attribute_l',\n",
       "       'contents_attribute_d', 'contents_attribute_m', 'contents_attribute_e',\n",
       "       'contents_attribute_h', 'person_rn', 'contents_rn', 'contents_open_dt',\n",
       "       'target', 'person_prefer_d_1_n', 'person_prefer_d_1_s',\n",
       "       'person_prefer_d_1_m', 'person_prefer_d_1_l', 'person_prefer_d_2_n',\n",
       "       'person_prefer_d_2_s', 'person_prefer_d_2_m', 'person_prefer_d_2_l',\n",
       "       'person_prefer_d_3_n', 'person_prefer_d_3_s', 'person_prefer_d_3_m',\n",
       "       'person_prefer_d_3_l', 'contents_attribute_d_n',\n",
       "       'contents_attribute_d_s', 'contents_attribute_d_m',\n",
       "       'contents_attribute_d_l', 'person_prefer_h_1_u', 'person_prefer_h_2_u',\n",
       "       'person_prefer_h_3_u', 'contents_attribute_h_u',\n",
       "       'contents_attribute_l_n', 'contents_attribute_l_s',\n",
       "       'contents_attribute_l_m', 'contents_attribute_l_l',\n",
       "       'contents_open_month', 'contents_open_day', 'contents_open_dow',\n",
       "       'contents_open_hour', 'contents_open_season', 'contents_open_ts',\n",
       "       'contents_open_mgroup', 'weekend', 'contents_open_open', 'true값',\n",
       "       '누적_컨텐츠접속'],\n",
       "      dtype='object')"
      ]
     },
     "execution_count": 89,
     "metadata": {},
     "output_type": "execute_result"
    }
   ],
   "source": [
    "train.columns"
   ]
  },
  {
   "cell_type": "code",
   "execution_count": 90,
   "metadata": {
    "hidden": true
   },
   "outputs": [],
   "source": [
    "per_features = [\"d_l_match_yn\", \"d_m_match_yn\", \"d_s_match_yn\", \"h_l_match_yn\", \"h_m_match_yn\",\n",
    "               \"h_s_match_yn\", \"person_attribute_a\", \"person_attribute_a_1\", \"person_attribute_b\", \"person_prefer_c\",\n",
    "               \"person_prefer_e\", \"contents_open_hour\", \"person_prefer_d_1\", \"person_prefer_d_2\", \"person_prefer_d_3\",\n",
    "               \"person_prefer_h_1\", \"person_prefer_h_2\", \"person_prefer_h_3\", 'true값', 'contents_open_dow']\n",
    "\n",
    "con_features = [\"contents_attribute_i\", \"contents_attribute_a\", \"contents_attribute_j_1\", \"contents_attribute_j\",\n",
    "               \"contents_attribute_c\", \"contents_attribute_k\", \"contents_attribute_m\", \"contents_attribute_e\",\n",
    "               \"contents_open_hour\", \"contents_attribute_l\", \"contents_attribute_d\", \"contents_attribute_h\"]"
   ]
  },
  {
   "cell_type": "code",
   "execution_count": 91,
   "metadata": {
    "hidden": true
   },
   "outputs": [
    {
     "data": {
      "text/plain": [
       "(20, 12)"
      ]
     },
     "execution_count": 91,
     "metadata": {},
     "output_type": "execute_result"
    }
   ],
   "source": [
    "len(per_features), len(con_features)"
   ]
  },
  {
   "cell_type": "code",
   "execution_count": 92,
   "metadata": {
    "hidden": true
   },
   "outputs": [],
   "source": [
    "from sklearn.cluster import KMeans\n",
    "\n",
    "class KMeansFeaturizer:\n",
    "    \"\"\" 숫자 데이터를 k-평균 클러스터 멤버십으로 변환.\n",
    "\n",
    "    이 변환기는 입력 데이터에 k-평균을 수행해 각 데이터 포인트를 가장 가까운 클러스터의 id로 변환한다.\n",
    "    만약 목표 변수가 주어지면 유사한 데이터 포인트와 함께 grouping되고,\n",
    "    분류 경계에 따르는 클러스터를 생성하기 위해 스케일링되고, k-평균 입력에 포함된다.\n",
    "    \"\"\"\n",
    "\n",
    "    def __init__(self, k = 100, target_scale = 5.0, random_state = None):\n",
    "        self.k = k\n",
    "        self.target_scale = target_scale\n",
    "        self.random_state = random_state\n",
    "\n",
    "    def fit(self, X, y = None):\n",
    "        \"\"\" 입력 데이터에 k-평균을 수행하고 중심점을 찾는다.\n",
    "        \"\"\"\n",
    "        if y is None: # 목표 변수가 없으면 단순한 k-평균 수행\n",
    "            km_model = KMeans(n_clusters = self.k, n_init = 20, random_state = self.random_state)\n",
    "            km_model.fit(X)\n",
    "            \n",
    "            self.inertia_ = km_model.inertia_\n",
    "            self.km_model = km_model\n",
    "            self.cluster_centers_ = km_model.cluster_centers_\n",
    "            return self\n",
    "\n",
    "        # 목표 변수가 있으면, 적절한 스케일링을 적용하고, 이를 k-평균에 대한 입력 데이터에 포함시킨다.\n",
    "        data_with_target = np.hstack((X, y[:, np.newaxis] * self.target_scale))\n",
    "        # 데이터와 타겟에 대해 사전 학습할 k-평균 모델 구축\n",
    "        km_model_pretrain = KMeans(n_clusters = self.k, n_init = 20, random_state = self.random_state)\n",
    "        km_model_pretrain.fit(data_with_target)\n",
    "\n",
    "        # k평균을 두번째로 실행해 목표 변수 없이 원시 공간에서 클러스터를 얻는다. 사전 학습을 통해 얻은 중심점을 활용해 초기화한다.\n",
    "        # 반복을 통해 클러스터 할당과 중심점 계산을 다시 수행한다.\n",
    "\n",
    "        km_model = KMeans(n_clusters = self.k, init = km_model_pretrain.cluster_centers_[:,:data_with_target.shape[1]-1], n_init = 1, max_iter = 1)\n",
    "\n",
    "        km_model.fit(X)\n",
    "        \n",
    "        self.inertia_ = km_model.inertia_\n",
    "        self.km_model = km_model\n",
    "        self.cluster_centers_ = km_model.cluster_centers_\n",
    "        return self\n",
    "\n",
    "    def transform(self, X, y = None):\n",
    "        \"\"\" 각 입력 데이터 포인트에 대해 가장 가까운 클러스터 ID 산출\n",
    "        \"\"\"\n",
    "        clusters = self.km_model.predict(X)\n",
    "        return clusters[:, np.newaxis]\n",
    "\n",
    "    def fit_transform(self, X, y = None):\n",
    "        self.fit(X, y)\n",
    "        return self.transform(X, y)"
   ]
  },
  {
   "cell_type": "code",
   "execution_count": 93,
   "metadata": {
    "hidden": true
   },
   "outputs": [],
   "source": [
    "per_train = train.loc[:, per_features].copy()\n",
    "per_test = test.loc[:, per_features].copy()\n",
    "\n",
    "con_train = train.loc[:, con_features].copy()\n",
    "con_test = test.loc[:, con_features].copy()"
   ]
  },
  {
   "cell_type": "code",
   "execution_count": 94,
   "metadata": {
    "hidden": true
   },
   "outputs": [],
   "source": [
    "km = KMeansFeaturizer(k=100, random_state=42)"
   ]
  },
  {
   "cell_type": "code",
   "execution_count": 95,
   "metadata": {
    "hidden": true
   },
   "outputs": [
    {
     "ename": "KeyboardInterrupt",
     "evalue": "",
     "output_type": "error",
     "traceback": [
      "\u001b[1;31m---------------------------------------------------------------------------\u001b[0m",
      "\u001b[1;31mKeyboardInterrupt\u001b[0m                         Traceback (most recent call last)",
      "\u001b[1;32m<ipython-input-95-aa4f9cb9f821>\u001b[0m in \u001b[0;36m<module>\u001b[1;34m\u001b[0m\n\u001b[1;32m----> 1\u001b[1;33m \u001b[0mktr_per\u001b[0m \u001b[1;33m=\u001b[0m \u001b[0mkm\u001b[0m\u001b[1;33m.\u001b[0m\u001b[0mfit_transform\u001b[0m\u001b[1;33m(\u001b[0m\u001b[0mper_train\u001b[0m\u001b[1;33m,\u001b[0m \u001b[0mtrain\u001b[0m\u001b[1;33m[\u001b[0m\u001b[1;34m\"target\"\u001b[0m\u001b[1;33m]\u001b[0m\u001b[1;33m)\u001b[0m\u001b[1;33m\u001b[0m\u001b[1;33m\u001b[0m\u001b[0m\n\u001b[0m\u001b[0;32m      2\u001b[0m \u001b[0mkte_per\u001b[0m \u001b[1;33m=\u001b[0m \u001b[0mkm\u001b[0m\u001b[1;33m.\u001b[0m\u001b[0mtransform\u001b[0m\u001b[1;33m(\u001b[0m\u001b[0mper_test\u001b[0m\u001b[1;33m)\u001b[0m\u001b[1;33m\u001b[0m\u001b[1;33m\u001b[0m\u001b[0m\n",
      "\u001b[1;32m<ipython-input-92-e58cceb1e009>\u001b[0m in \u001b[0;36mfit_transform\u001b[1;34m(self, X, y)\u001b[0m\n\u001b[0;32m     51\u001b[0m \u001b[1;33m\u001b[0m\u001b[0m\n\u001b[0;32m     52\u001b[0m     \u001b[1;32mdef\u001b[0m \u001b[0mfit_transform\u001b[0m\u001b[1;33m(\u001b[0m\u001b[0mself\u001b[0m\u001b[1;33m,\u001b[0m \u001b[0mX\u001b[0m\u001b[1;33m,\u001b[0m \u001b[0my\u001b[0m \u001b[1;33m=\u001b[0m \u001b[1;32mNone\u001b[0m\u001b[1;33m)\u001b[0m\u001b[1;33m:\u001b[0m\u001b[1;33m\u001b[0m\u001b[1;33m\u001b[0m\u001b[0m\n\u001b[1;32m---> 53\u001b[1;33m         \u001b[0mself\u001b[0m\u001b[1;33m.\u001b[0m\u001b[0mfit\u001b[0m\u001b[1;33m(\u001b[0m\u001b[0mX\u001b[0m\u001b[1;33m,\u001b[0m \u001b[0my\u001b[0m\u001b[1;33m)\u001b[0m\u001b[1;33m\u001b[0m\u001b[1;33m\u001b[0m\u001b[0m\n\u001b[0m\u001b[0;32m     54\u001b[0m         \u001b[1;32mreturn\u001b[0m \u001b[0mself\u001b[0m\u001b[1;33m.\u001b[0m\u001b[0mtransform\u001b[0m\u001b[1;33m(\u001b[0m\u001b[0mX\u001b[0m\u001b[1;33m,\u001b[0m \u001b[0my\u001b[0m\u001b[1;33m)\u001b[0m\u001b[1;33m\u001b[0m\u001b[1;33m\u001b[0m\u001b[0m\n",
      "\u001b[1;32m<ipython-input-92-e58cceb1e009>\u001b[0m in \u001b[0;36mfit\u001b[1;34m(self, X, y)\u001b[0m\n\u001b[0;32m     30\u001b[0m         \u001b[1;31m# 데이터와 타겟에 대해 사전 학습할 k-평균 모델 구축\u001b[0m\u001b[1;33m\u001b[0m\u001b[1;33m\u001b[0m\u001b[1;33m\u001b[0m\u001b[0m\n\u001b[0;32m     31\u001b[0m         \u001b[0mkm_model_pretrain\u001b[0m \u001b[1;33m=\u001b[0m \u001b[0mKMeans\u001b[0m\u001b[1;33m(\u001b[0m\u001b[0mn_clusters\u001b[0m \u001b[1;33m=\u001b[0m \u001b[0mself\u001b[0m\u001b[1;33m.\u001b[0m\u001b[0mk\u001b[0m\u001b[1;33m,\u001b[0m \u001b[0mn_init\u001b[0m \u001b[1;33m=\u001b[0m \u001b[1;36m20\u001b[0m\u001b[1;33m,\u001b[0m \u001b[0mrandom_state\u001b[0m \u001b[1;33m=\u001b[0m \u001b[0mself\u001b[0m\u001b[1;33m.\u001b[0m\u001b[0mrandom_state\u001b[0m\u001b[1;33m)\u001b[0m\u001b[1;33m\u001b[0m\u001b[1;33m\u001b[0m\u001b[0m\n\u001b[1;32m---> 32\u001b[1;33m         \u001b[0mkm_model_pretrain\u001b[0m\u001b[1;33m.\u001b[0m\u001b[0mfit\u001b[0m\u001b[1;33m(\u001b[0m\u001b[0mdata_with_target\u001b[0m\u001b[1;33m)\u001b[0m\u001b[1;33m\u001b[0m\u001b[1;33m\u001b[0m\u001b[0m\n\u001b[0m\u001b[0;32m     33\u001b[0m \u001b[1;33m\u001b[0m\u001b[0m\n\u001b[0;32m     34\u001b[0m         \u001b[1;31m# k평균을 두번째로 실행해 목표 변수 없이 원시 공간에서 클러스터를 얻는다. 사전 학습을 통해 얻은 중심점을 활용해 초기화한다.\u001b[0m\u001b[1;33m\u001b[0m\u001b[1;33m\u001b[0m\u001b[1;33m\u001b[0m\u001b[0m\n",
      "\u001b[1;32m~\\anaconda3\\lib\\site-packages\\sklearn\\cluster\\_kmeans.py\u001b[0m in \u001b[0;36mfit\u001b[1;34m(self, X, y, sample_weight)\u001b[0m\n\u001b[0;32m   1180\u001b[0m         \u001b[1;32mfor\u001b[0m \u001b[0mi\u001b[0m \u001b[1;32min\u001b[0m \u001b[0mrange\u001b[0m\u001b[1;33m(\u001b[0m\u001b[0mself\u001b[0m\u001b[1;33m.\u001b[0m\u001b[0m_n_init\u001b[0m\u001b[1;33m)\u001b[0m\u001b[1;33m:\u001b[0m\u001b[1;33m\u001b[0m\u001b[1;33m\u001b[0m\u001b[0m\n\u001b[0;32m   1181\u001b[0m             \u001b[1;31m# Initialize centers\u001b[0m\u001b[1;33m\u001b[0m\u001b[1;33m\u001b[0m\u001b[1;33m\u001b[0m\u001b[0m\n\u001b[1;32m-> 1182\u001b[1;33m             centers_init = self._init_centroids(\n\u001b[0m\u001b[0;32m   1183\u001b[0m                 \u001b[0mX\u001b[0m\u001b[1;33m,\u001b[0m \u001b[0mx_squared_norms\u001b[0m\u001b[1;33m=\u001b[0m\u001b[0mx_squared_norms\u001b[0m\u001b[1;33m,\u001b[0m \u001b[0minit\u001b[0m\u001b[1;33m=\u001b[0m\u001b[0minit\u001b[0m\u001b[1;33m,\u001b[0m \u001b[0mrandom_state\u001b[0m\u001b[1;33m=\u001b[0m\u001b[0mrandom_state\u001b[0m\u001b[1;33m\u001b[0m\u001b[1;33m\u001b[0m\u001b[0m\n\u001b[0;32m   1184\u001b[0m             )\n",
      "\u001b[1;32m~\\anaconda3\\lib\\site-packages\\sklearn\\cluster\\_kmeans.py\u001b[0m in \u001b[0;36m_init_centroids\u001b[1;34m(self, X, x_squared_norms, init, random_state, init_size)\u001b[0m\n\u001b[0;32m   1091\u001b[0m \u001b[1;33m\u001b[0m\u001b[0m\n\u001b[0;32m   1092\u001b[0m         \u001b[1;32mif\u001b[0m \u001b[0misinstance\u001b[0m\u001b[1;33m(\u001b[0m\u001b[0minit\u001b[0m\u001b[1;33m,\u001b[0m \u001b[0mstr\u001b[0m\u001b[1;33m)\u001b[0m \u001b[1;32mand\u001b[0m \u001b[0minit\u001b[0m \u001b[1;33m==\u001b[0m \u001b[1;34m\"k-means++\"\u001b[0m\u001b[1;33m:\u001b[0m\u001b[1;33m\u001b[0m\u001b[1;33m\u001b[0m\u001b[0m\n\u001b[1;32m-> 1093\u001b[1;33m             centers, _ = _kmeans_plusplus(\n\u001b[0m\u001b[0;32m   1094\u001b[0m                 \u001b[0mX\u001b[0m\u001b[1;33m,\u001b[0m\u001b[1;33m\u001b[0m\u001b[1;33m\u001b[0m\u001b[0m\n\u001b[0;32m   1095\u001b[0m                 \u001b[0mn_clusters\u001b[0m\u001b[1;33m,\u001b[0m\u001b[1;33m\u001b[0m\u001b[1;33m\u001b[0m\u001b[0m\n",
      "\u001b[1;32m~\\anaconda3\\lib\\site-packages\\sklearn\\cluster\\_kmeans.py\u001b[0m in \u001b[0;36m_kmeans_plusplus\u001b[1;34m(X, n_clusters, x_squared_norms, random_state, n_local_trials)\u001b[0m\n\u001b[0;32m    216\u001b[0m \u001b[1;33m\u001b[0m\u001b[0m\n\u001b[0;32m    217\u001b[0m         \u001b[1;31m# Compute distances to center candidates\u001b[0m\u001b[1;33m\u001b[0m\u001b[1;33m\u001b[0m\u001b[1;33m\u001b[0m\u001b[0m\n\u001b[1;32m--> 218\u001b[1;33m         distance_to_candidates = _euclidean_distances(\n\u001b[0m\u001b[0;32m    219\u001b[0m             \u001b[0mX\u001b[0m\u001b[1;33m[\u001b[0m\u001b[0mcandidate_ids\u001b[0m\u001b[1;33m]\u001b[0m\u001b[1;33m,\u001b[0m \u001b[0mX\u001b[0m\u001b[1;33m,\u001b[0m \u001b[0mY_norm_squared\u001b[0m\u001b[1;33m=\u001b[0m\u001b[0mx_squared_norms\u001b[0m\u001b[1;33m,\u001b[0m \u001b[0msquared\u001b[0m\u001b[1;33m=\u001b[0m\u001b[1;32mTrue\u001b[0m\u001b[1;33m\u001b[0m\u001b[1;33m\u001b[0m\u001b[0m\n\u001b[0;32m    220\u001b[0m         )\n",
      "\u001b[1;32m~\\anaconda3\\lib\\site-packages\\sklearn\\metrics\\pairwise.py\u001b[0m in \u001b[0;36m_euclidean_distances\u001b[1;34m(X, Y, X_norm_squared, Y_norm_squared, squared)\u001b[0m\n\u001b[0;32m    366\u001b[0m     \u001b[1;32melse\u001b[0m\u001b[1;33m:\u001b[0m\u001b[1;33m\u001b[0m\u001b[1;33m\u001b[0m\u001b[0m\n\u001b[0;32m    367\u001b[0m         \u001b[1;31m# if dtype is already float64, no need to chunk and upcast\u001b[0m\u001b[1;33m\u001b[0m\u001b[1;33m\u001b[0m\u001b[1;33m\u001b[0m\u001b[0m\n\u001b[1;32m--> 368\u001b[1;33m         \u001b[0mdistances\u001b[0m \u001b[1;33m=\u001b[0m \u001b[1;33m-\u001b[0m\u001b[1;36m2\u001b[0m \u001b[1;33m*\u001b[0m \u001b[0msafe_sparse_dot\u001b[0m\u001b[1;33m(\u001b[0m\u001b[0mX\u001b[0m\u001b[1;33m,\u001b[0m \u001b[0mY\u001b[0m\u001b[1;33m.\u001b[0m\u001b[0mT\u001b[0m\u001b[1;33m,\u001b[0m \u001b[0mdense_output\u001b[0m\u001b[1;33m=\u001b[0m\u001b[1;32mTrue\u001b[0m\u001b[1;33m)\u001b[0m\u001b[1;33m\u001b[0m\u001b[1;33m\u001b[0m\u001b[0m\n\u001b[0m\u001b[0;32m    369\u001b[0m         \u001b[0mdistances\u001b[0m \u001b[1;33m+=\u001b[0m \u001b[0mXX\u001b[0m\u001b[1;33m\u001b[0m\u001b[1;33m\u001b[0m\u001b[0m\n\u001b[0;32m    370\u001b[0m         \u001b[0mdistances\u001b[0m \u001b[1;33m+=\u001b[0m \u001b[0mYY\u001b[0m\u001b[1;33m\u001b[0m\u001b[1;33m\u001b[0m\u001b[0m\n",
      "\u001b[1;32m~\\anaconda3\\lib\\site-packages\\sklearn\\utils\\extmath.py\u001b[0m in \u001b[0;36msafe_sparse_dot\u001b[1;34m(a, b, dense_output)\u001b[0m\n\u001b[0;32m    151\u001b[0m             \u001b[0mret\u001b[0m \u001b[1;33m=\u001b[0m \u001b[0mnp\u001b[0m\u001b[1;33m.\u001b[0m\u001b[0mdot\u001b[0m\u001b[1;33m(\u001b[0m\u001b[0ma\u001b[0m\u001b[1;33m,\u001b[0m \u001b[0mb\u001b[0m\u001b[1;33m)\u001b[0m\u001b[1;33m\u001b[0m\u001b[1;33m\u001b[0m\u001b[0m\n\u001b[0;32m    152\u001b[0m     \u001b[1;32melse\u001b[0m\u001b[1;33m:\u001b[0m\u001b[1;33m\u001b[0m\u001b[1;33m\u001b[0m\u001b[0m\n\u001b[1;32m--> 153\u001b[1;33m         \u001b[0mret\u001b[0m \u001b[1;33m=\u001b[0m \u001b[0ma\u001b[0m \u001b[1;33m@\u001b[0m \u001b[0mb\u001b[0m\u001b[1;33m\u001b[0m\u001b[1;33m\u001b[0m\u001b[0m\n\u001b[0m\u001b[0;32m    154\u001b[0m \u001b[1;33m\u001b[0m\u001b[0m\n\u001b[0;32m    155\u001b[0m     if (\n",
      "\u001b[1;31mKeyboardInterrupt\u001b[0m: "
     ]
    }
   ],
   "source": [
    "ktr_per = km.fit_transform(per_train, train[\"target\"])\n",
    "kte_per = km.transform(per_test)"
   ]
  },
  {
   "cell_type": "code",
   "execution_count": null,
   "metadata": {
    "hidden": true
   },
   "outputs": [],
   "source": [
    "ktr_con = km.fit_transform(con_train, train[\"target\"])\n",
    "kte_con = km.transform(con_test)"
   ]
  },
  {
   "cell_type": "code",
   "execution_count": null,
   "metadata": {
    "hidden": true
   },
   "outputs": [],
   "source": [
    "train['per_km'] = ktr_per.astype(str)\n",
    "test['per_km'] = kte_per.astype(str)"
   ]
  },
  {
   "cell_type": "code",
   "execution_count": null,
   "metadata": {
    "hidden": true
   },
   "outputs": [],
   "source": [
    "train['con_km'] = ktr_con.astype(str)\n",
    "test['con_km'] = kte_con.astype(str)"
   ]
  },
  {
   "cell_type": "markdown",
   "metadata": {},
   "source": [
    "### 시간 sin/cos encoding"
   ]
  },
  {
   "cell_type": "code",
   "execution_count": 25,
   "metadata": {},
   "outputs": [],
   "source": [
    "train['sin_time'] = np.sin(2*np.pi*train['contents_open_hour'] / 24)\n",
    "train['cos_time'] = np.cos(2*np.pi*train['contents_open_hour'] / 24)\n",
    "\n",
    "test['sin_time'] = np.sin(2*np.pi*train['contents_open_hour'] / 24)\n",
    "test['cos_time'] = np.cos(2*np.pi*train['contents_open_hour'] / 24)"
   ]
  },
  {
   "cell_type": "markdown",
   "metadata": {},
   "source": [
    "### 또 뭘해야하지"
   ]
  },
  {
   "cell_type": "code",
   "execution_count": 39,
   "metadata": {},
   "outputs": [
    {
     "name": "stdout",
     "output_type": "stream",
     "text": [
      "<class 'pandas.core.frame.DataFrame'>\n",
      "RangeIndex: 501951 entries, 0 to 501950\n",
      "Data columns (total 72 columns):\n",
      " #   Column                  Non-Null Count   Dtype         \n",
      "---  ------                  --------------   -----         \n",
      " 0   id                      501951 non-null  int64         \n",
      " 1   d_l_match_yn            501951 non-null  bool          \n",
      " 2   d_m_match_yn            501951 non-null  bool          \n",
      " 3   d_s_match_yn            501951 non-null  bool          \n",
      " 4   h_l_match_yn            501951 non-null  bool          \n",
      " 5   h_m_match_yn            501951 non-null  bool          \n",
      " 6   h_s_match_yn            501951 non-null  bool          \n",
      " 7   person_attribute_a      501951 non-null  int64         \n",
      " 8   person_attribute_a_1    501951 non-null  int64         \n",
      " 9   person_attribute_b      501951 non-null  int64         \n",
      " 10  person_prefer_c         501951 non-null  int64         \n",
      " 11  person_prefer_d_1       501951 non-null  int64         \n",
      " 12  person_prefer_d_2       501951 non-null  int64         \n",
      " 13  person_prefer_d_3       501951 non-null  int64         \n",
      " 14  person_prefer_e         501951 non-null  int64         \n",
      " 15  person_prefer_f         501951 non-null  int64         \n",
      " 16  person_prefer_g         501951 non-null  int64         \n",
      " 17  person_prefer_h_1       501951 non-null  int64         \n",
      " 18  person_prefer_h_2       501951 non-null  int64         \n",
      " 19  person_prefer_h_3       501951 non-null  int64         \n",
      " 20  contents_attribute_i    501951 non-null  int64         \n",
      " 21  contents_attribute_a    501951 non-null  int64         \n",
      " 22  contents_attribute_j_1  501951 non-null  int64         \n",
      " 23  contents_attribute_j    501951 non-null  int64         \n",
      " 24  contents_attribute_c    501951 non-null  int64         \n",
      " 25  contents_attribute_k    501951 non-null  int64         \n",
      " 26  contents_attribute_l    501951 non-null  int64         \n",
      " 27  contents_attribute_d    501951 non-null  int64         \n",
      " 28  contents_attribute_m    501951 non-null  int64         \n",
      " 29  contents_attribute_e    501951 non-null  int64         \n",
      " 30  contents_attribute_h    501951 non-null  int64         \n",
      " 31  person_rn               501951 non-null  int64         \n",
      " 32  contents_rn             501951 non-null  int64         \n",
      " 33  contents_open_dt        501951 non-null  datetime64[ns]\n",
      " 34  target                  501951 non-null  int64         \n",
      " 35  person_prefer_d_1_n     501951 non-null  int64         \n",
      " 36  person_prefer_d_1_s     501951 non-null  int64         \n",
      " 37  person_prefer_d_1_m     501951 non-null  int64         \n",
      " 38  person_prefer_d_1_l     501951 non-null  int64         \n",
      " 39  person_prefer_d_2_n     501951 non-null  int64         \n",
      " 40  person_prefer_d_2_s     501951 non-null  int64         \n",
      " 41  person_prefer_d_2_m     501951 non-null  int64         \n",
      " 42  person_prefer_d_2_l     501951 non-null  int64         \n",
      " 43  person_prefer_d_3_n     501951 non-null  int64         \n",
      " 44  person_prefer_d_3_s     501951 non-null  int64         \n",
      " 45  person_prefer_d_3_m     501951 non-null  int64         \n",
      " 46  person_prefer_d_3_l     501951 non-null  int64         \n",
      " 47  contents_attribute_d_n  501951 non-null  int64         \n",
      " 48  contents_attribute_d_s  501951 non-null  int64         \n",
      " 49  contents_attribute_d_m  501951 non-null  int64         \n",
      " 50  contents_attribute_d_l  501951 non-null  int64         \n",
      " 51  person_prefer_h_1_u     501951 non-null  int64         \n",
      " 52  person_prefer_h_2_u     501951 non-null  int64         \n",
      " 53  person_prefer_h_3_u     501951 non-null  int64         \n",
      " 54  contents_attribute_h_u  501951 non-null  int64         \n",
      " 55  contents_attribute_l_n  501951 non-null  int64         \n",
      " 56  contents_attribute_l_s  501951 non-null  int64         \n",
      " 57  contents_attribute_l_m  501951 non-null  int64         \n",
      " 58  contents_attribute_l_l  501951 non-null  int64         \n",
      " 59  contents_open_month     501951 non-null  int64         \n",
      " 60  contents_open_day       501951 non-null  int64         \n",
      " 61  contents_open_dow       501951 non-null  int64         \n",
      " 62  contents_open_hour      501951 non-null  int64         \n",
      " 63  contents_open_season    501951 non-null  object        \n",
      " 64  contents_open_ts        501951 non-null  object        \n",
      " 65  contents_open_mgroup    501951 non-null  category      \n",
      " 66  weekend                 501951 non-null  int64         \n",
      " 67  contents_open_open      501951 non-null  int64         \n",
      " 68  true값                   501951 non-null  int64         \n",
      " 69  누적_컨텐츠접속                501951 non-null  int64         \n",
      " 70  sin_time                501951 non-null  float64       \n",
      " 71  cos_time                501951 non-null  float64       \n",
      "dtypes: bool(6), category(1), datetime64[ns](1), float64(2), int64(60), object(2)\n",
      "memory usage: 252.3+ MB\n"
     ]
    }
   ],
   "source": [
    "train.info()"
   ]
  },
  {
   "cell_type": "code",
   "execution_count": null,
   "metadata": {},
   "outputs": [],
   "source": []
  },
  {
   "cell_type": "code",
   "execution_count": null,
   "metadata": {},
   "outputs": [],
   "source": []
  },
  {
   "cell_type": "code",
   "execution_count": null,
   "metadata": {},
   "outputs": [],
   "source": []
  },
  {
   "cell_type": "code",
   "execution_count": null,
   "metadata": {},
   "outputs": [],
   "source": []
  },
  {
   "cell_type": "code",
   "execution_count": null,
   "metadata": {},
   "outputs": [],
   "source": []
  },
  {
   "cell_type": "code",
   "execution_count": null,
   "metadata": {},
   "outputs": [],
   "source": []
  },
  {
   "cell_type": "code",
   "execution_count": null,
   "metadata": {},
   "outputs": [],
   "source": []
  },
  {
   "cell_type": "code",
   "execution_count": null,
   "metadata": {},
   "outputs": [],
   "source": []
  },
  {
   "cell_type": "code",
   "execution_count": null,
   "metadata": {},
   "outputs": [],
   "source": []
  },
  {
   "cell_type": "code",
   "execution_count": null,
   "metadata": {},
   "outputs": [],
   "source": []
  },
  {
   "cell_type": "markdown",
   "metadata": {},
   "source": [
    "## dataset setting"
   ]
  },
  {
   "cell_type": "code",
   "execution_count": 27,
   "metadata": {},
   "outputs": [
    {
     "data": {
      "text/plain": [
       "Index(['id', 'd_l_match_yn', 'd_m_match_yn', 'd_s_match_yn', 'h_l_match_yn',\n",
       "       'h_m_match_yn', 'h_s_match_yn', 'person_attribute_a',\n",
       "       'person_attribute_a_1', 'person_attribute_b', 'person_prefer_c',\n",
       "       'person_prefer_d_1', 'person_prefer_d_2', 'person_prefer_d_3',\n",
       "       'person_prefer_e', 'person_prefer_f', 'person_prefer_g',\n",
       "       'person_prefer_h_1', 'person_prefer_h_2', 'person_prefer_h_3',\n",
       "       'contents_attribute_i', 'contents_attribute_a',\n",
       "       'contents_attribute_j_1', 'contents_attribute_j',\n",
       "       'contents_attribute_c', 'contents_attribute_k', 'contents_attribute_l',\n",
       "       'contents_attribute_d', 'contents_attribute_m', 'contents_attribute_e',\n",
       "       'contents_attribute_h', 'person_rn', 'contents_rn', 'contents_open_dt',\n",
       "       'target', 'person_prefer_d_1_n', 'person_prefer_d_1_s',\n",
       "       'person_prefer_d_1_m', 'person_prefer_d_1_l', 'person_prefer_d_2_n',\n",
       "       'person_prefer_d_2_s', 'person_prefer_d_2_m', 'person_prefer_d_2_l',\n",
       "       'person_prefer_d_3_n', 'person_prefer_d_3_s', 'person_prefer_d_3_m',\n",
       "       'person_prefer_d_3_l', 'contents_attribute_d_n',\n",
       "       'contents_attribute_d_s', 'contents_attribute_d_m',\n",
       "       'contents_attribute_d_l', 'person_prefer_h_1_u', 'person_prefer_h_2_u',\n",
       "       'person_prefer_h_3_u', 'contents_attribute_h_u',\n",
       "       'contents_attribute_l_n', 'contents_attribute_l_s',\n",
       "       'contents_attribute_l_m', 'contents_attribute_l_l',\n",
       "       'contents_open_month', 'contents_open_day', 'contents_open_dow',\n",
       "       'contents_open_hour', 'contents_open_season', 'contents_open_ts',\n",
       "       'contents_open_mgroup', 'weekend', 'contents_open_open', 'true값',\n",
       "       '누적_컨텐츠접속', 'sin_time', 'cos_time'],\n",
       "      dtype='object')"
      ]
     },
     "execution_count": 27,
     "metadata": {},
     "output_type": "execute_result"
    }
   ],
   "source": [
    "train.columns"
   ]
  },
  {
   "cell_type": "code",
   "execution_count": 98,
   "metadata": {},
   "outputs": [],
   "source": [
    "ftr = train.drop(['id', 'contents_open_dt', 'person_rn', 'contents_rn', 'target', 'person_prefer_f', 'person_prefer_g'], axis=1)\n",
    "ftr_te = test.drop(['id', 'contents_open_dt', 'person_rn', 'contents_rn', 'person_prefer_f', 'person_prefer_g'], axis=1)"
   ]
  },
  {
   "cell_type": "code",
   "execution_count": 99,
   "metadata": {},
   "outputs": [],
   "source": [
    "#ftr = train[features]\n",
    "#ftr_te = test[features]\n",
    "target = train['target']"
   ]
  },
  {
   "cell_type": "code",
   "execution_count": 100,
   "metadata": {},
   "outputs": [
    {
     "data": {
      "text/plain": [
       "((501951, 65), (46404, 65))"
      ]
     },
     "execution_count": 100,
     "metadata": {},
     "output_type": "execute_result"
    }
   ],
   "source": [
    "ftr.shape, ftr_te.shape"
   ]
  },
  {
   "cell_type": "code",
   "execution_count": 101,
   "metadata": {},
   "outputs": [],
   "source": [
    "from sklearn.preprocessing import LabelEncoder\n",
    "lst = ['d_l_match_yn', 'd_m_match_yn', 'd_s_match_yn', 'h_l_match_yn', 'h_m_match_yn', 'h_s_match_yn', 'contents_open_ts', 'contents_open_mgroup', 'contents_open_season']\n",
    "\n",
    "for i in lst:\n",
    "    le = LabelEncoder()\n",
    "    ftr[i] = le.fit_transform(ftr[i])\n",
    "    ftr_te[i] = le.transform(ftr_te[i])"
   ]
  },
  {
   "cell_type": "code",
   "execution_count": null,
   "metadata": {},
   "outputs": [],
   "source": [
    "plt.figure(figsize=(20, 10))\n",
    "sns.heatmap(ftr.corr(), annot=True, cmap=\"YlGnBu\")\n",
    "plt.show()"
   ]
  },
  {
   "cell_type": "code",
   "execution_count": 102,
   "metadata": {},
   "outputs": [],
   "source": [
    "col_name = ftr.columns"
   ]
  },
  {
   "cell_type": "code",
   "execution_count": 103,
   "metadata": {},
   "outputs": [],
   "source": [
    "cat_features = ['d_l_match_yn', 'd_m_match_yn', 'd_s_match_yn', 'h_l_match_yn',\n",
    "       'h_m_match_yn', 'h_s_match_yn', 'person_attribute_a',\n",
    "       'person_attribute_a_1', 'person_attribute_b', 'person_prefer_c',\n",
    "       'person_prefer_d_1', 'person_prefer_d_2', 'person_prefer_d_3',\n",
    "       'person_prefer_e', 'person_prefer_f', 'person_prefer_g',\n",
    "       'person_prefer_h_1', 'person_prefer_h_2', 'person_prefer_h_3',\n",
    "       'contents_attribute_i', 'contents_attribute_a',\n",
    "       'contents_attribute_j_1', 'contents_attribute_j',\n",
    "       'contents_attribute_c', 'contents_attribute_k', 'contents_attribute_l',\n",
    "       'contents_attribute_d', 'contents_attribute_m', 'contents_attribute_e',\n",
    "       'contents_attribute_h',\n",
    "       'person_prefer_d_1_n', 'person_prefer_d_1_s',\n",
    "       'person_prefer_d_1_m', 'person_prefer_d_1_l', 'person_prefer_d_2_n',\n",
    "       'person_prefer_d_2_s', 'person_prefer_d_2_m', 'person_prefer_d_2_l',\n",
    "       'person_prefer_d_3_n', 'person_prefer_d_3_s', 'person_prefer_d_3_m',\n",
    "       'person_prefer_d_3_l', 'contents_attribute_d_n',\n",
    "       'contents_attribute_d_s', 'contents_attribute_d_m',\n",
    "       'contents_attribute_d_l', 'person_prefer_h_1_u', 'person_prefer_h_2_u',\n",
    "       'person_prefer_h_3_u', 'contents_attribute_h_u',\n",
    "       'contents_attribute_l_n', 'contents_attribute_l_s',\n",
    "       'contents_attribute_l_m', 'contents_attribute_l_l',\n",
    "       'contents_open_month', 'contents_open_day', 'contents_open_dow',\n",
    "       'contents_open_hour', 'contents_open_season', 'contents_open_ts',\n",
    "       'contents_open_mgroup', 'weekend', 'contents_open_open']"
   ]
  },
  {
   "cell_type": "code",
   "execution_count": 104,
   "metadata": {},
   "outputs": [],
   "source": [
    "num_features = list(set(ftr.columns) - set(cat_features))"
   ]
  },
  {
   "cell_type": "markdown",
   "metadata": {
    "heading_collapsed": true
   },
   "source": [
    "### Scaling - Gauss rank"
   ]
  },
  {
   "cell_type": "code",
   "execution_count": 105,
   "metadata": {
    "hidden": true
   },
   "outputs": [],
   "source": [
    "import numpy as np\n",
    "from joblib import Parallel, delayed\n",
    "from scipy.interpolate import interp1d\n",
    "from scipy.special import erf, erfinv\n",
    "from sklearn.base import BaseEstimator, TransformerMixin\n",
    "from sklearn.utils.validation import FLOAT_DTYPES, check_array, check_is_fitted\n",
    "\n",
    "class GaussRankScaler(BaseEstimator, TransformerMixin):\n",
    "    \"\"\"Transform features by scaling each feature to a normal distribution.\n",
    "    Parameters\n",
    "        ----------\n",
    "        epsilon : float, optional, default 1e-4\n",
    "            A small amount added to the lower bound or subtracted\n",
    "            from the upper bound. This value prevents infinite number\n",
    "            from occurring when applying the inverse error function.\n",
    "        copy : boolean, optional, default True\n",
    "            If False, try to avoid a copy and do inplace scaling instead.\n",
    "            This is not guaranteed to always work inplace; e.g. if the data is\n",
    "            not a NumPy array, a copy may still be returned.\n",
    "        n_jobs : int or None, optional, default None\n",
    "            Number of jobs to run in parallel.\n",
    "            ``None`` means 1 and ``-1`` means using all processors.\n",
    "        interp_kind : str or int, optional, default 'linear'\n",
    "           Specifies the kind of interpolation as a string\n",
    "            ('linear', 'nearest', 'zero', 'slinear', 'quadratic', 'cubic',\n",
    "            'previous', 'next', where 'zero', 'slinear', 'quadratic' and 'cubic'\n",
    "            refer to a spline interpolation of zeroth, first, second or third\n",
    "            order; 'previous' and 'next' simply return the previous or next value\n",
    "            of the point) or as an integer specifying the order of the spline\n",
    "            interpolator to use.\n",
    "        interp_copy : bool, optional, default False\n",
    "            If True, the interpolation function makes internal copies of x and y.\n",
    "            If False, references to `x` and `y` are used.\n",
    "        Attributes\n",
    "        ----------\n",
    "        interp_func_ : list\n",
    "            The interpolation function for each feature in the training set.\n",
    "        \"\"\"\n",
    "\n",
    "    def __init__(self, epsilon=1e-4, copy=True, n_jobs=None, interp_kind='linear', interp_copy=False):\n",
    "        self.epsilon = epsilon\n",
    "        self.copy = copy\n",
    "        self.interp_kind = interp_kind\n",
    "        self.interp_copy = interp_copy\n",
    "        self.fill_value = 'extrapolate'\n",
    "        self.n_jobs = n_jobs\n",
    "\n",
    "    def fit(self, X, y=None):\n",
    "        \"\"\"Fit interpolation function to link rank with original data for future scaling\n",
    "        Parameters\n",
    "        ----------\n",
    "        X : array-like, shape (n_samples, n_features)\n",
    "            The data used to fit interpolation function for later scaling along the features axis.\n",
    "        y\n",
    "            Ignored\n",
    "        \"\"\"\n",
    "        X = check_array(X, copy=self.copy, estimator=self, dtype=FLOAT_DTYPES, force_all_finite=True)\n",
    "\n",
    "        self.interp_func_ = Parallel(n_jobs=self.n_jobs)(delayed(self._fit)(x) for x in X.T)\n",
    "        return self\n",
    "\n",
    "    def _fit(self, x):\n",
    "        x = self.drop_duplicates(x)\n",
    "        rank = np.argsort(np.argsort(x))\n",
    "        bound = 1.0 - self.epsilon\n",
    "        factor = np.max(rank) / 2.0 * bound\n",
    "        scaled_rank = np.clip(rank / factor - bound, -bound, bound)\n",
    "        return interp1d(\n",
    "            x, scaled_rank, kind=self.interp_kind, copy=self.interp_copy, fill_value=self.fill_value)\n",
    "\n",
    "    def transform(self, X, copy=None):\n",
    "        \"\"\"Scale the data with the Gauss Rank algorithm\n",
    "        Parameters\n",
    "        ----------\n",
    "        X : array-like, shape (n_samples, n_features)\n",
    "            The data used to scale along the features axis.\n",
    "        copy : bool, optional (default: None)\n",
    "            Copy the input X or not.\n",
    "        \"\"\"\n",
    "        check_is_fitted(self, 'interp_func_')\n",
    "\n",
    "        copy = copy if copy is not None else self.copy\n",
    "        X = check_array(X, copy=copy, estimator=self, dtype=FLOAT_DTYPES, force_all_finite=True)\n",
    "\n",
    "        X = np.array(Parallel(n_jobs=self.n_jobs)(delayed(self._transform)(i, x) for i, x in enumerate(X.T))).T\n",
    "        return X\n",
    "\n",
    "    def _transform(self, i, x):\n",
    "        return erfinv(self.interp_func_[i](x))\n",
    "\n",
    "    def inverse_transform(self, X, copy=None):\n",
    "        \"\"\"Scale back the data to the original representation\n",
    "        Parameters\n",
    "        ----------\n",
    "        X : array-like, shape [n_samples, n_features]\n",
    "            The data used to scale along the features axis.\n",
    "        copy : bool, optional (default: None)\n",
    "            Copy the input X or not.\n",
    "        \"\"\"\n",
    "        check_is_fitted(self, 'interp_func_')\n",
    "\n",
    "        copy = copy if copy is not None else self.copy\n",
    "        X = check_array(X, copy=copy, estimator=self, dtype=FLOAT_DTYPES, force_all_finite=True)\n",
    "\n",
    "        X = np.array(Parallel(n_jobs=self.n_jobs)(delayed(self._inverse_transform)(i, x) for i, x in enumerate(X.T))).T\n",
    "        return X\n",
    "\n",
    "    def _inverse_transform(self, i, x):\n",
    "        inv_interp_func = interp1d(self.interp_func_[i].y, self.interp_func_[i].x, kind=self.interp_kind,\n",
    "                                   copy=self.interp_copy, fill_value=self.fill_value)\n",
    "        return inv_interp_func(erf(x))\n",
    "\n",
    "    @staticmethod\n",
    "    def drop_duplicates(x):\n",
    "        is_unique = np.zeros_like(x, dtype=bool)\n",
    "        is_unique[np.unique(x, return_index=True)[1]] = True\n",
    "        return x[is_unique]"
   ]
  },
  {
   "cell_type": "code",
   "execution_count": 106,
   "metadata": {
    "hidden": true
   },
   "outputs": [],
   "source": [
    "scaler = GaussRankScaler()\n",
    "ftr[num_features] = pd.DataFrame(scaler.fit_transform(ftr[num_features]))\n",
    "ftr_te[num_features] = pd.DataFrame(scaler.transform(ftr_te[num_features]))\n",
    "\n",
    "ftr[num_features].columns = num_features\n",
    "ftr_te[num_features].columns = num_features"
   ]
  },
  {
   "cell_type": "code",
   "execution_count": 107,
   "metadata": {
    "hidden": true
   },
   "outputs": [
    {
     "data": {
      "text/html": [
       "<div>\n",
       "<style scoped>\n",
       "    .dataframe tbody tr th:only-of-type {\n",
       "        vertical-align: middle;\n",
       "    }\n",
       "\n",
       "    .dataframe tbody tr th {\n",
       "        vertical-align: top;\n",
       "    }\n",
       "\n",
       "    .dataframe thead th {\n",
       "        text-align: right;\n",
       "    }\n",
       "</style>\n",
       "<table border=\"1\" class=\"dataframe\">\n",
       "  <thead>\n",
       "    <tr style=\"text-align: right;\">\n",
       "      <th></th>\n",
       "      <th>d_l_match_yn</th>\n",
       "      <th>d_m_match_yn</th>\n",
       "      <th>d_s_match_yn</th>\n",
       "      <th>h_l_match_yn</th>\n",
       "      <th>h_m_match_yn</th>\n",
       "      <th>h_s_match_yn</th>\n",
       "      <th>person_attribute_a</th>\n",
       "      <th>person_attribute_a_1</th>\n",
       "      <th>person_attribute_b</th>\n",
       "      <th>person_prefer_c</th>\n",
       "      <th>...</th>\n",
       "      <th>contents_open_hour</th>\n",
       "      <th>contents_open_season</th>\n",
       "      <th>contents_open_ts</th>\n",
       "      <th>contents_open_mgroup</th>\n",
       "      <th>weekend</th>\n",
       "      <th>contents_open_open</th>\n",
       "      <th>true값</th>\n",
       "      <th>누적_컨텐츠접속</th>\n",
       "      <th>sin_time</th>\n",
       "      <th>cos_time</th>\n",
       "    </tr>\n",
       "  </thead>\n",
       "  <tbody>\n",
       "    <tr>\n",
       "      <th>0</th>\n",
       "      <td>1</td>\n",
       "      <td>1</td>\n",
       "      <td>1</td>\n",
       "      <td>0</td>\n",
       "      <td>0</td>\n",
       "      <td>0</td>\n",
       "      <td>1</td>\n",
       "      <td>4</td>\n",
       "      <td>3</td>\n",
       "      <td>5</td>\n",
       "      <td>...</td>\n",
       "      <td>12</td>\n",
       "      <td>3</td>\n",
       "      <td>2</td>\n",
       "      <td>1</td>\n",
       "      <td>0</td>\n",
       "      <td>1</td>\n",
       "      <td>0.000177</td>\n",
       "      <td>-2.751064</td>\n",
       "      <td>0.179345</td>\n",
       "      <td>-2.751064</td>\n",
       "    </tr>\n",
       "    <tr>\n",
       "      <th>1</th>\n",
       "      <td>0</td>\n",
       "      <td>0</td>\n",
       "      <td>0</td>\n",
       "      <td>1</td>\n",
       "      <td>1</td>\n",
       "      <td>0</td>\n",
       "      <td>1</td>\n",
       "      <td>3</td>\n",
       "      <td>4</td>\n",
       "      <td>1</td>\n",
       "      <td>...</td>\n",
       "      <td>17</td>\n",
       "      <td>2</td>\n",
       "      <td>1</td>\n",
       "      <td>1</td>\n",
       "      <td>0</td>\n",
       "      <td>1</td>\n",
       "      <td>-0.304408</td>\n",
       "      <td>-2.751064</td>\n",
       "      <td>-0.905952</td>\n",
       "      <td>-0.127121</td>\n",
       "    </tr>\n",
       "    <tr>\n",
       "      <th>2</th>\n",
       "      <td>0</td>\n",
       "      <td>0</td>\n",
       "      <td>0</td>\n",
       "      <td>1</td>\n",
       "      <td>0</td>\n",
       "      <td>0</td>\n",
       "      <td>2</td>\n",
       "      <td>0</td>\n",
       "      <td>3</td>\n",
       "      <td>5</td>\n",
       "      <td>...</td>\n",
       "      <td>20</td>\n",
       "      <td>2</td>\n",
       "      <td>3</td>\n",
       "      <td>0</td>\n",
       "      <td>0</td>\n",
       "      <td>1</td>\n",
       "      <td>-0.683882</td>\n",
       "      <td>-2.751064</td>\n",
       "      <td>-0.732672</td>\n",
       "      <td>0.304797</td>\n",
       "    </tr>\n",
       "    <tr>\n",
       "      <th>3</th>\n",
       "      <td>0</td>\n",
       "      <td>0</td>\n",
       "      <td>0</td>\n",
       "      <td>1</td>\n",
       "      <td>0</td>\n",
       "      <td>0</td>\n",
       "      <td>2</td>\n",
       "      <td>0</td>\n",
       "      <td>2</td>\n",
       "      <td>5</td>\n",
       "      <td>...</td>\n",
       "      <td>18</td>\n",
       "      <td>3</td>\n",
       "      <td>1</td>\n",
       "      <td>1</td>\n",
       "      <td>0</td>\n",
       "      <td>1</td>\n",
       "      <td>-0.683882</td>\n",
       "      <td>-2.751064</td>\n",
       "      <td>-2.751064</td>\n",
       "      <td>-0.042053</td>\n",
       "    </tr>\n",
       "    <tr>\n",
       "      <th>4</th>\n",
       "      <td>1</td>\n",
       "      <td>1</td>\n",
       "      <td>1</td>\n",
       "      <td>0</td>\n",
       "      <td>0</td>\n",
       "      <td>0</td>\n",
       "      <td>1</td>\n",
       "      <td>3</td>\n",
       "      <td>4</td>\n",
       "      <td>5</td>\n",
       "      <td>...</td>\n",
       "      <td>20</td>\n",
       "      <td>1</td>\n",
       "      <td>3</td>\n",
       "      <td>0</td>\n",
       "      <td>0</td>\n",
       "      <td>1</td>\n",
       "      <td>0.000177</td>\n",
       "      <td>-2.751064</td>\n",
       "      <td>-0.732672</td>\n",
       "      <td>0.304797</td>\n",
       "    </tr>\n",
       "  </tbody>\n",
       "</table>\n",
       "<p>5 rows × 65 columns</p>\n",
       "</div>"
      ],
      "text/plain": [
       "   d_l_match_yn  d_m_match_yn  d_s_match_yn  h_l_match_yn  h_m_match_yn  \\\n",
       "0             1             1             1             0             0   \n",
       "1             0             0             0             1             1   \n",
       "2             0             0             0             1             0   \n",
       "3             0             0             0             1             0   \n",
       "4             1             1             1             0             0   \n",
       "\n",
       "   h_s_match_yn  person_attribute_a  person_attribute_a_1  person_attribute_b  \\\n",
       "0             0                   1                     4                   3   \n",
       "1             0                   1                     3                   4   \n",
       "2             0                   2                     0                   3   \n",
       "3             0                   2                     0                   2   \n",
       "4             0                   1                     3                   4   \n",
       "\n",
       "   person_prefer_c  ...  contents_open_hour  contents_open_season  \\\n",
       "0                5  ...                  12                     3   \n",
       "1                1  ...                  17                     2   \n",
       "2                5  ...                  20                     2   \n",
       "3                5  ...                  18                     3   \n",
       "4                5  ...                  20                     1   \n",
       "\n",
       "   contents_open_ts  contents_open_mgroup  weekend  contents_open_open  \\\n",
       "0                 2                     1        0                   1   \n",
       "1                 1                     1        0                   1   \n",
       "2                 3                     0        0                   1   \n",
       "3                 1                     1        0                   1   \n",
       "4                 3                     0        0                   1   \n",
       "\n",
       "      true값  누적_컨텐츠접속  sin_time  cos_time  \n",
       "0  0.000177 -2.751064  0.179345 -2.751064  \n",
       "1 -0.304408 -2.751064 -0.905952 -0.127121  \n",
       "2 -0.683882 -2.751064 -0.732672  0.304797  \n",
       "3 -0.683882 -2.751064 -2.751064 -0.042053  \n",
       "4  0.000177 -2.751064 -0.732672  0.304797  \n",
       "\n",
       "[5 rows x 65 columns]"
      ]
     },
     "execution_count": 107,
     "metadata": {},
     "output_type": "execute_result"
    }
   ],
   "source": [
    "ftr.head()"
   ]
  },
  {
   "cell_type": "markdown",
   "metadata": {},
   "source": [
    "## modeling"
   ]
  },
  {
   "cell_type": "code",
   "execution_count": 108,
   "metadata": {},
   "outputs": [],
   "source": [
    "from lightgbm import LGBMClassifier\n",
    "from xgboost import XGBRFClassifier\n",
    "from ngboost import NGBRegressor\n",
    "from catboost import CatBoostClassifier, Pool"
   ]
  },
  {
   "cell_type": "code",
   "execution_count": 109,
   "metadata": {},
   "outputs": [],
   "source": [
    "kf = StratifiedKFold(n_splits=5, random_state=0, shuffle=True)"
   ]
  },
  {
   "cell_type": "code",
   "execution_count": 113,
   "metadata": {},
   "outputs": [],
   "source": [
    "cat_features = ['d_l_match_yn', 'd_m_match_yn', 'd_s_match_yn', 'h_l_match_yn',\n",
    "       'h_m_match_yn', 'h_s_match_yn', 'person_attribute_a',\n",
    "       'person_attribute_a_1', 'person_attribute_b', 'person_prefer_c',\n",
    "       'person_prefer_d_1', 'person_prefer_d_2', 'person_prefer_d_3',\n",
    "       'person_prefer_e', \n",
    "       'person_prefer_h_1', 'person_prefer_h_2', 'person_prefer_h_3',\n",
    "       'contents_attribute_i', 'contents_attribute_a',\n",
    "       'contents_attribute_j_1', 'contents_attribute_j',\n",
    "       'contents_attribute_c', 'contents_attribute_k', 'contents_attribute_l',\n",
    "       'contents_attribute_d', 'contents_attribute_m', 'contents_attribute_e',\n",
    "       'contents_attribute_h',\n",
    "       'person_prefer_d_1_n', 'person_prefer_d_1_s',\n",
    "       'person_prefer_d_1_m', 'person_prefer_d_1_l', 'person_prefer_d_2_n',\n",
    "       'person_prefer_d_2_s', 'person_prefer_d_2_m', 'person_prefer_d_2_l',\n",
    "       'person_prefer_d_3_n', 'person_prefer_d_3_s', 'person_prefer_d_3_m',\n",
    "       'person_prefer_d_3_l', 'contents_attribute_d_n',\n",
    "       'contents_attribute_d_s', 'contents_attribute_d_m',\n",
    "       'contents_attribute_d_l', 'person_prefer_h_1_u', 'person_prefer_h_2_u',\n",
    "       'person_prefer_h_3_u', 'contents_attribute_h_u',\n",
    "       'contents_attribute_l_n', 'contents_attribute_l_s',\n",
    "       'contents_attribute_l_m', 'contents_attribute_l_l',\n",
    "       'contents_open_month', 'contents_open_day', 'contents_open_dow',\n",
    "       'contents_open_hour', 'contents_open_season', 'contents_open_ts',\n",
    "       'contents_open_mgroup', 'weekend', 'contents_open_open']"
   ]
  },
  {
   "cell_type": "code",
   "execution_count": 114,
   "metadata": {},
   "outputs": [
    {
     "data": {
      "text/plain": [
       "((501951, 65), (501951,), (46404, 65))"
      ]
     },
     "execution_count": 114,
     "metadata": {},
     "output_type": "execute_result"
    }
   ],
   "source": [
    "ftr.shape, target.shape, ftr_te.shape"
   ]
  },
  {
   "cell_type": "markdown",
   "metadata": {},
   "source": [
    "### catboost"
   ]
  },
  {
   "cell_type": "code",
   "execution_count": 115,
   "metadata": {},
   "outputs": [
    {
     "name": "stdout",
     "output_type": "stream",
     "text": [
      "0:\tlearn: 0.5957368\ttest: 0.5933305\tbest: 0.5933305 (0)\ttotal: 2.39s\tremaining: 39m 52s\n",
      "999:\tlearn: 0.6621415\ttest: 0.6805126\tbest: 0.6805425 (996)\ttotal: 44m 11s\tremaining: 0us\n",
      "\n",
      "bestTest = 0.6805424627\n",
      "bestIteration = 996\n",
      "\n",
      "Shrink model to first 997 iterations.\n",
      "FOLD f1 score = 0.6804864617653372\n",
      "0:\tlearn: 0.6377765\ttest: 0.6367190\tbest: 0.6367190 (0)\ttotal: 2.05s\tremaining: 34m 4s\n",
      "999:\tlearn: 0.6615944\ttest: 0.6844396\tbest: 0.6844571 (992)\ttotal: 43m 56s\tremaining: 0us\n",
      "\n",
      "bestTest = 0.6844571196\n",
      "bestIteration = 992\n",
      "\n",
      "Shrink model to first 993 iterations.\n",
      "FOLD f1 score = 0.6844507819516847\n",
      "0:\tlearn: 0.6073858\ttest: 0.6056943\tbest: 0.6056943 (0)\ttotal: 1.89s\tremaining: 31m 27s\n",
      "999:\tlearn: 0.6618486\ttest: 0.6820727\tbest: 0.6821675 (990)\ttotal: 45m 2s\tremaining: 0us\n",
      "\n",
      "bestTest = 0.6821675097\n",
      "bestIteration = 990\n",
      "\n",
      "Shrink model to first 991 iterations.\n",
      "FOLD f1 score = 0.6820866325104797\n",
      "0:\tlearn: 0.6134435\ttest: 0.6236598\tbest: 0.6236598 (0)\ttotal: 2.14s\tremaining: 35m 41s\n",
      "999:\tlearn: 0.6610256\ttest: 0.6846629\tbest: 0.6849720 (989)\ttotal: 47m 38s\tremaining: 0us\n",
      "\n",
      "bestTest = 0.6849719902\n",
      "bestIteration = 989\n",
      "\n",
      "Shrink model to first 990 iterations.\n",
      "FOLD f1 score = 0.6849404745204761\n",
      "0:\tlearn: 0.6205054\ttest: 0.6237260\tbest: 0.6237260 (0)\ttotal: 1.96s\tremaining: 32m 34s\n",
      "999:\tlearn: 0.6620726\ttest: 0.6811066\tbest: 0.6811066 (999)\ttotal: 48m 18s\tremaining: 0us\n",
      "\n",
      "bestTest = 0.6811065597\n",
      "bestIteration = 999\n",
      "\n",
      "FOLD f1 score = 0.6810134395780141\n",
      "\n",
      "CatBoostClassifier f1_score = 0.6825955580651983\n"
     ]
    }
   ],
   "source": [
    "cb_pred = np.zeros((ftr_te.shape[0]))\n",
    "f1_list = []\n",
    "for tr_idx, val_idx in kf.split(ftr, target):\n",
    "    tr_x, val_x = ftr.iloc[tr_idx], ftr.iloc[val_idx]\n",
    "    tr_y, val_y = target.iloc[tr_idx], target.iloc[val_idx]\n",
    "    train_data = Pool(data=tr_x, label=tr_y, cat_features=cat_features)\n",
    "    val_data = Pool(data=val_x, label=val_y, cat_features=cat_features)\n",
    "    cb = CatBoostClassifier(iterations=1000, learning_rate=0.01, eval_metric='F1',\n",
    "                            silent=True, loss_function='Logloss')\n",
    "    cb.fit(train_data, eval_set=val_data, early_stopping_rounds=1000, use_best_model=True, verbose=2000)\n",
    "    best = cb.best_iteration_\n",
    "    pred = cb.predict(val_x, ntree_end=best)\n",
    "    f1 = f1_score(val_y, pred)\n",
    "    f1_list.append(f1)\n",
    "    print(f'FOLD f1 score = {f1}')\n",
    "    sub_pred = cb.predict(ftr_te, ntree_end=best) / 5\n",
    "    cb_pred += sub_pred\n",
    "print(f'\\n{cb.__class__.__name__} f1_score = {np.mean(f1_list)}')"
   ]
  },
  {
   "cell_type": "markdown",
   "metadata": {},
   "source": [
    "### lightgbm"
   ]
  },
  {
   "cell_type": "code",
   "execution_count": 88,
   "metadata": {},
   "outputs": [],
   "source": [
    "ftr[cat_features] = ftr[cat_features].astype('category')\n",
    "ftr_te[cat_features] = ftr_te[cat_features].astype('category')"
   ]
  },
  {
   "cell_type": "code",
   "execution_count": 89,
   "metadata": {},
   "outputs": [],
   "source": [
    "lgb = LGBMClassifier(random_state=0, max_depth=16, n_estimators=20000, learning_rate=0.01)"
   ]
  },
  {
   "cell_type": "code",
   "execution_count": 90,
   "metadata": {},
   "outputs": [
    {
     "name": "stdout",
     "output_type": "stream",
     "text": [
      "Training until validation scores don't improve for 2000 rounds\n",
      "[2000]\ttraining's binary_logloss: 0.635044\tvalid_1's binary_logloss: 0.644523\n",
      "[4000]\ttraining's binary_logloss: 0.621798\tvalid_1's binary_logloss: 0.641082\n",
      "[6000]\ttraining's binary_logloss: 0.610609\tvalid_1's binary_logloss: 0.639355\n",
      "[8000]\ttraining's binary_logloss: 0.6006\tvalid_1's binary_logloss: 0.638293\n",
      "[10000]\ttraining's binary_logloss: 0.591113\tvalid_1's binary_logloss: 0.63744\n",
      "[12000]\ttraining's binary_logloss: 0.582166\tvalid_1's binary_logloss: 0.636837\n",
      "[14000]\ttraining's binary_logloss: 0.573687\tvalid_1's binary_logloss: 0.636495\n",
      "[16000]\ttraining's binary_logloss: 0.565466\tvalid_1's binary_logloss: 0.636082\n",
      "[18000]\ttraining's binary_logloss: 0.557446\tvalid_1's binary_logloss: 0.635708\n",
      "[20000]\ttraining's binary_logloss: 0.549936\tvalid_1's binary_logloss: 0.635482\n",
      "Did not meet early stopping. Best iteration is:\n",
      "[20000]\ttraining's binary_logloss: 0.549936\tvalid_1's binary_logloss: 0.635482\n",
      "FOLD f1 = 0.6467970510714695\n",
      "Training until validation scores don't improve for 2000 rounds\n",
      "[2000]\ttraining's binary_logloss: 0.635131\tvalid_1's binary_logloss: 0.645568\n",
      "[4000]\ttraining's binary_logloss: 0.622186\tvalid_1's binary_logloss: 0.642235\n",
      "[6000]\ttraining's binary_logloss: 0.611241\tvalid_1's binary_logloss: 0.640606\n",
      "[8000]\ttraining's binary_logloss: 0.601267\tvalid_1's binary_logloss: 0.639373\n",
      "[10000]\ttraining's binary_logloss: 0.591836\tvalid_1's binary_logloss: 0.638435\n",
      "[12000]\ttraining's binary_logloss: 0.58274\tvalid_1's binary_logloss: 0.637833\n",
      "[14000]\ttraining's binary_logloss: 0.574033\tvalid_1's binary_logloss: 0.637331\n",
      "[16000]\ttraining's binary_logloss: 0.565984\tvalid_1's binary_logloss: 0.637019\n",
      "[18000]\ttraining's binary_logloss: 0.55839\tvalid_1's binary_logloss: 0.636803\n",
      "[20000]\ttraining's binary_logloss: 0.550794\tvalid_1's binary_logloss: 0.636557\n",
      "Did not meet early stopping. Best iteration is:\n",
      "[20000]\ttraining's binary_logloss: 0.550794\tvalid_1's binary_logloss: 0.636557\n",
      "FOLD f1 = 0.6465359054564124\n",
      "Training until validation scores don't improve for 2000 rounds\n",
      "[2000]\ttraining's binary_logloss: 0.635275\tvalid_1's binary_logloss: 0.643999\n",
      "[4000]\ttraining's binary_logloss: 0.621848\tvalid_1's binary_logloss: 0.64049\n",
      "[6000]\ttraining's binary_logloss: 0.610738\tvalid_1's binary_logloss: 0.638927\n",
      "[8000]\ttraining's binary_logloss: 0.600577\tvalid_1's binary_logloss: 0.637794\n",
      "[10000]\ttraining's binary_logloss: 0.591125\tvalid_1's binary_logloss: 0.637006\n",
      "[12000]\ttraining's binary_logloss: 0.581953\tvalid_1's binary_logloss: 0.636273\n",
      "[14000]\ttraining's binary_logloss: 0.573175\tvalid_1's binary_logloss: 0.635733\n",
      "[16000]\ttraining's binary_logloss: 0.564855\tvalid_1's binary_logloss: 0.635396\n",
      "[18000]\ttraining's binary_logloss: 0.556948\tvalid_1's binary_logloss: 0.635135\n",
      "[20000]\ttraining's binary_logloss: 0.549181\tvalid_1's binary_logloss: 0.634844\n",
      "Did not meet early stopping. Best iteration is:\n",
      "[20000]\ttraining's binary_logloss: 0.549181\tvalid_1's binary_logloss: 0.634844\n",
      "FOLD f1 = 0.6504332607268888\n",
      "Training until validation scores don't improve for 2000 rounds\n",
      "[2000]\ttraining's binary_logloss: 0.635029\tvalid_1's binary_logloss: 0.644958\n",
      "[4000]\ttraining's binary_logloss: 0.621824\tvalid_1's binary_logloss: 0.641955\n",
      "[6000]\ttraining's binary_logloss: 0.610562\tvalid_1's binary_logloss: 0.640167\n",
      "[8000]\ttraining's binary_logloss: 0.600465\tvalid_1's binary_logloss: 0.639049\n",
      "[10000]\ttraining's binary_logloss: 0.590949\tvalid_1's binary_logloss: 0.638203\n",
      "[12000]\ttraining's binary_logloss: 0.581822\tvalid_1's binary_logloss: 0.637436\n",
      "[14000]\ttraining's binary_logloss: 0.573233\tvalid_1's binary_logloss: 0.637015\n",
      "[16000]\ttraining's binary_logloss: 0.56502\tvalid_1's binary_logloss: 0.636608\n",
      "[18000]\ttraining's binary_logloss: 0.557038\tvalid_1's binary_logloss: 0.636167\n",
      "[20000]\ttraining's binary_logloss: 0.549472\tvalid_1's binary_logloss: 0.635874\n",
      "Did not meet early stopping. Best iteration is:\n",
      "[20000]\ttraining's binary_logloss: 0.549472\tvalid_1's binary_logloss: 0.635874\n",
      "FOLD f1 = 0.6474316814884714\n",
      "Training until validation scores don't improve for 2000 rounds\n",
      "[2000]\ttraining's binary_logloss: 0.635062\tvalid_1's binary_logloss: 0.645375\n",
      "[4000]\ttraining's binary_logloss: 0.622153\tvalid_1's binary_logloss: 0.642233\n",
      "[6000]\ttraining's binary_logloss: 0.610917\tvalid_1's binary_logloss: 0.640418\n",
      "[8000]\ttraining's binary_logloss: 0.600735\tvalid_1's binary_logloss: 0.639265\n",
      "[10000]\ttraining's binary_logloss: 0.591276\tvalid_1's binary_logloss: 0.638522\n",
      "[12000]\ttraining's binary_logloss: 0.582302\tvalid_1's binary_logloss: 0.637839\n",
      "[14000]\ttraining's binary_logloss: 0.57367\tvalid_1's binary_logloss: 0.637256\n",
      "[16000]\ttraining's binary_logloss: 0.5652\tvalid_1's binary_logloss: 0.636754\n",
      "[18000]\ttraining's binary_logloss: 0.557262\tvalid_1's binary_logloss: 0.636578\n",
      "[20000]\ttraining's binary_logloss: 0.549735\tvalid_1's binary_logloss: 0.63639\n",
      "Did not meet early stopping. Best iteration is:\n",
      "[20000]\ttraining's binary_logloss: 0.549735\tvalid_1's binary_logloss: 0.63639\n",
      "FOLD f1 = 0.6465842773772743\n",
      "\n",
      "LGBMClassifier F1_score = 0.6475564352241032\n"
     ]
    }
   ],
   "source": [
    "lgb_pred = np.zeros((ftr_te.shape[0]))\n",
    "f1_list = []\n",
    "for tr_idx, val_idx in kf.split(ftr.values, target):\n",
    "    tr_x, val_x = ftr.values[tr_idx], ftr.values[val_idx]\n",
    "    tr_y, val_y = target[tr_idx], target[val_idx]\n",
    "    lgb.fit(tr_x, tr_y, eval_set=[(tr_x, tr_y), (val_x, val_y)], eval_metric='F1', early_stopping_rounds=2000, \n",
    "             verbose=2000)\n",
    "    pred = lgb.predict(val_x)\n",
    "    f1 = f1_score(val_y, pred)\n",
    "    f1_list.append(f1)\n",
    "    print(f'FOLD f1 = {f1}')\n",
    "    sub_pred = lgb.predict(ftr_te) / 5\n",
    "    lgb_pred += sub_pred\n",
    "print(f'\\n{lgb.__class__.__name__} F1_score = {np.mean(f1_list)}')"
   ]
  },
  {
   "cell_type": "code",
   "execution_count": null,
   "metadata": {},
   "outputs": [],
   "source": []
  },
  {
   "cell_type": "code",
   "execution_count": null,
   "metadata": {},
   "outputs": [],
   "source": []
  },
  {
   "cell_type": "code",
   "execution_count": null,
   "metadata": {},
   "outputs": [],
   "source": []
  },
  {
   "cell_type": "markdown",
   "metadata": {},
   "source": [
    "## submission"
   ]
  },
  {
   "cell_type": "code",
   "execution_count": 116,
   "metadata": {},
   "outputs": [],
   "source": [
    "submission = pd.read_csv('data/sample_submission.csv')"
   ]
  },
  {
   "cell_type": "code",
   "execution_count": 117,
   "metadata": {},
   "outputs": [],
   "source": [
    "submission['target'] = cb_pred"
   ]
  },
  {
   "cell_type": "code",
   "execution_count": 118,
   "metadata": {},
   "outputs": [],
   "source": [
    "submission['target'] = submission['target'].apply(lambda x : 1 if x > 0.5 else 0)"
   ]
  },
  {
   "cell_type": "code",
   "execution_count": 119,
   "metadata": {},
   "outputs": [
    {
     "data": {
      "text/html": [
       "<div>\n",
       "<style scoped>\n",
       "    .dataframe tbody tr th:only-of-type {\n",
       "        vertical-align: middle;\n",
       "    }\n",
       "\n",
       "    .dataframe tbody tr th {\n",
       "        vertical-align: top;\n",
       "    }\n",
       "\n",
       "    .dataframe thead th {\n",
       "        text-align: right;\n",
       "    }\n",
       "</style>\n",
       "<table border=\"1\" class=\"dataframe\">\n",
       "  <thead>\n",
       "    <tr style=\"text-align: right;\">\n",
       "      <th></th>\n",
       "      <th>id</th>\n",
       "      <th>target</th>\n",
       "    </tr>\n",
       "  </thead>\n",
       "  <tbody>\n",
       "    <tr>\n",
       "      <th>0</th>\n",
       "      <td>0</td>\n",
       "      <td>0</td>\n",
       "    </tr>\n",
       "    <tr>\n",
       "      <th>1</th>\n",
       "      <td>1</td>\n",
       "      <td>0</td>\n",
       "    </tr>\n",
       "    <tr>\n",
       "      <th>2</th>\n",
       "      <td>2</td>\n",
       "      <td>0</td>\n",
       "    </tr>\n",
       "    <tr>\n",
       "      <th>3</th>\n",
       "      <td>3</td>\n",
       "      <td>0</td>\n",
       "    </tr>\n",
       "    <tr>\n",
       "      <th>4</th>\n",
       "      <td>4</td>\n",
       "      <td>0</td>\n",
       "    </tr>\n",
       "    <tr>\n",
       "      <th>...</th>\n",
       "      <td>...</td>\n",
       "      <td>...</td>\n",
       "    </tr>\n",
       "    <tr>\n",
       "      <th>46399</th>\n",
       "      <td>46399</td>\n",
       "      <td>1</td>\n",
       "    </tr>\n",
       "    <tr>\n",
       "      <th>46400</th>\n",
       "      <td>46400</td>\n",
       "      <td>1</td>\n",
       "    </tr>\n",
       "    <tr>\n",
       "      <th>46401</th>\n",
       "      <td>46401</td>\n",
       "      <td>1</td>\n",
       "    </tr>\n",
       "    <tr>\n",
       "      <th>46402</th>\n",
       "      <td>46402</td>\n",
       "      <td>1</td>\n",
       "    </tr>\n",
       "    <tr>\n",
       "      <th>46403</th>\n",
       "      <td>46403</td>\n",
       "      <td>1</td>\n",
       "    </tr>\n",
       "  </tbody>\n",
       "</table>\n",
       "<p>46404 rows × 2 columns</p>\n",
       "</div>"
      ],
      "text/plain": [
       "          id  target\n",
       "0          0       0\n",
       "1          1       0\n",
       "2          2       0\n",
       "3          3       0\n",
       "4          4       0\n",
       "...      ...     ...\n",
       "46399  46399       1\n",
       "46400  46400       1\n",
       "46401  46401       1\n",
       "46402  46402       1\n",
       "46403  46403       1\n",
       "\n",
       "[46404 rows x 2 columns]"
      ]
     },
     "execution_count": 119,
     "metadata": {},
     "output_type": "execute_result"
    }
   ],
   "source": [
    "submission"
   ]
  },
  {
   "cell_type": "code",
   "execution_count": 120,
   "metadata": {},
   "outputs": [
    {
     "data": {
      "text/plain": [
       "1    24127\n",
       "0    22277\n",
       "Name: target, dtype: int64"
      ]
     },
     "execution_count": 120,
     "metadata": {},
     "output_type": "execute_result"
    }
   ],
   "source": [
    "submission['target'].value_counts()\n",
    "# baseline 23762\n",
    "# 22706\n",
    "# 30458\n",
    "# 24127"
   ]
  },
  {
   "cell_type": "code",
   "execution_count": 121,
   "metadata": {},
   "outputs": [],
   "source": [
    "submission.to_csv('submission/jp_1220_noscale_cb.csv', index=False)"
   ]
  },
  {
   "cell_type": "code",
   "execution_count": null,
   "metadata": {},
   "outputs": [],
   "source": []
  },
  {
   "cell_type": "code",
   "execution_count": null,
   "metadata": {},
   "outputs": [],
   "source": []
  }
 ],
 "metadata": {
  "kernelspec": {
   "display_name": "Python 3",
   "language": "python",
   "name": "python3"
  },
  "language_info": {
   "codemirror_mode": {
    "name": "ipython",
    "version": 3
   },
   "file_extension": ".py",
   "mimetype": "text/x-python",
   "name": "python",
   "nbconvert_exporter": "python",
   "pygments_lexer": "ipython3",
   "version": "3.8.5"
  },
  "varInspector": {
   "cols": {
    "lenName": 16,
    "lenType": 16,
    "lenVar": 40
   },
   "kernels_config": {
    "python": {
     "delete_cmd_postfix": "",
     "delete_cmd_prefix": "del ",
     "library": "var_list.py",
     "varRefreshCmd": "print(var_dic_list())"
    },
    "r": {
     "delete_cmd_postfix": ") ",
     "delete_cmd_prefix": "rm(",
     "library": "var_list.r",
     "varRefreshCmd": "cat(var_dic_list()) "
    }
   },
   "types_to_exclude": [
    "module",
    "function",
    "builtin_function_or_method",
    "instance",
    "_Feature"
   ],
   "window_display": false
  }
 },
 "nbformat": 4,
 "nbformat_minor": 4
}
