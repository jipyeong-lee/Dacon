{
 "cells": [
  {
   "cell_type": "code",
   "execution_count": 7,
   "metadata": {},
   "outputs": [],
   "source": [
    "# Data Wrangling\n",
    "import pandas as pd\n",
    "from pandas import Series, DataFrame\n",
    "import numpy as np\n",
    "\n",
    "# Visualization\n",
    "import matplotlib.pylab as plt\n",
    "from matplotlib import font_manager, rc\n",
    "import seaborn as sns\n",
    "%matplotlib inline\n",
    "\n",
    "# EDA\n",
    "import klib\n",
    "\n",
    "# Preprocessing & Feature Engineering\n",
    "from sklearn.model_selection import train_test_split\n",
    "from sklearn.preprocessing import MinMaxScaler\n",
    "from sklearn.impute import SimpleImputer \n",
    "from sklearn.preprocessing import StandardScaler\n",
    "from sklearn.preprocessing import MinMaxScaler\n",
    "from sklearn.preprocessing import PowerTransformer\n",
    "from sklearn.feature_selection import SelectPercentile\n",
    "\n",
    "# Hyperparameter Optimization\n",
    "from sklearn.model_selection import GridSearchCV\n",
    "from sklearn.model_selection import RandomizedSearchCV\n",
    "\n",
    "# Modeling\n",
    "from sklearn.dummy import DummyClassifier\n",
    "from sklearn.linear_model import LogisticRegression\n",
    "from sklearn.neighbors import KNeighborsClassifier\n",
    "from sklearn.ensemble import RandomForestClassifier\n",
    "from sklearn.neural_network import MLPClassifier\n",
    "from sklearn.tree import DecisionTreeClassifier\n",
    "from sklearn.ensemble import GradientBoostingClassifier\n",
    "from sklearn.svm import SVC\n",
    "from catboost import CatBoostClassifier\n",
    "from sklearn.ensemble import VotingClassifier\n",
    "from sklearn.ensemble import StackingClassifier\n",
    "from sklearn.base import ClassifierMixin\n",
    "from sklearn.ensemble import ExtraTreesClassifier\n",
    "from lightgbm import LGBMClassifier\n",
    "from xgboost import XGBClassifier\n",
    "\n",
    "# Evaluation\n",
    "from sklearn.model_selection import cross_val_score\n",
    "\n",
    "# Utility\n",
    "import os\n",
    "import time\n",
    "import random\n",
    "import warnings; warnings.filterwarnings(\"ignore\")\n",
    "from IPython.display import Image\n",
    "import pickle\n",
    "from tqdm import tqdm\n",
    "import platform\n",
    "from itertools import combinations\n",
    "from scipy.stats.mstats import gmean\n",
    "from sklearn.feature_selection import RFE\n",
    "\n",
    "import gc\n",
    "import random\n",
    "import re\n",
    "from typing import List ,Dict, Tuple\n",
    "\n",
    "from sklearn.metrics import *\n",
    "from sklearn.model_selection import KFold, StratifiedKFold\n",
    "\n",
    "# 한글 폰트 설정\n",
    "from statsmodels import robust\n",
    "from matplotlib import font_manager, rc\n",
    "%matplotlib inline\n",
    "\n",
    "import platform\n",
    "your_os = platform.system()\n",
    "if your_os == 'Linux':\n",
    "    rc('font', family='NanumGothic')\n",
    "elif your_os == 'Windows':\n",
    "    ttf = \"c:/Windows/Fonts/malgun.ttf\"\n",
    "    font_name = font_manager.FontProperties(fname=ttf).get_name()\n",
    "    rc('font', family=font_name)\n",
    "elif your_os == 'Darwin':\n",
    "    rc('font', family='AppleGothic')\n",
    "rc('axes', unicode_minus=False)"
   ]
  },
  {
   "cell_type": "code",
   "execution_count": 8,
   "metadata": {},
   "outputs": [],
   "source": [
    "DATA_PATH = \"data/\"\n",
    "SUBMIT_PATH = \"submission/\"\n",
    "SEED = 42"
   ]
  },
  {
   "cell_type": "code",
   "execution_count": 9,
   "metadata": {},
   "outputs": [
    {
     "data": {
      "text/plain": [
       "((501951, 35), (46404, 34))"
      ]
     },
     "execution_count": 9,
     "metadata": {},
     "output_type": "execute_result"
    }
   ],
   "source": [
    "train = pd.read_csv(f'{DATA_PATH}train.csv')\n",
    "test = pd.read_csv(f'{DATA_PATH}test.csv')\n",
    "\n",
    "d_code = pd.read_csv(f'{DATA_PATH}속성_D_코드.csv').iloc[:, :-1]\n",
    "h_code = pd.read_csv(f'{DATA_PATH}속성_H_코드.csv')\n",
    "l_code = pd.read_csv(f'{DATA_PATH}속성_L_코드.csv')\n",
    "\n",
    "train.shape, test.shape"
   ]
  },
  {
   "cell_type": "markdown",
   "metadata": {},
   "source": [
    "## preprocessing & engineering"
   ]
  },
  {
   "cell_type": "markdown",
   "metadata": {},
   "source": [
    "### 순서형 변수 처리\n",
    "단순 category 형태가 아닌 ordinal 처리"
   ]
  },
  {
   "cell_type": "code",
   "execution_count": 10,
   "metadata": {},
   "outputs": [],
   "source": [
    "train['person_attribute_a_1'] = train['person_attribute_a_1'].astype(pd.CategoricalDtype(ordered=True))\n",
    "train['person_attribute_b'] = train['person_attribute_b'].astype(pd.CategoricalDtype(ordered=True))\n",
    "train['person_prefer_e'] = train['person_prefer_e'].astype(pd.CategoricalDtype(ordered=True))\n",
    "train['contents_attribute_e'] = train['contents_attribute_e'].astype(pd.CategoricalDtype(ordered=True))"
   ]
  },
  {
   "cell_type": "code",
   "execution_count": 11,
   "metadata": {},
   "outputs": [],
   "source": [
    "test['person_attribute_a_1'] = test['person_attribute_a_1'].astype(pd.CategoricalDtype(ordered=True))\n",
    "test['person_attribute_b'] = test['person_attribute_b'].astype(pd.CategoricalDtype(ordered=True))\n",
    "test['person_prefer_e'] = test['person_prefer_e'].astype(pd.CategoricalDtype(ordered=True))\n",
    "test['contents_attribute_e'] = test['contents_attribute_e'].astype(pd.CategoricalDtype(ordered=True))"
   ]
  },
  {
   "cell_type": "markdown",
   "metadata": {},
   "source": [
    "### 데이터 - 속성코드 매칭\n",
    "컨텐츠 특징 나열"
   ]
  },
  {
   "cell_type": "code",
   "execution_count": 12,
   "metadata": {},
   "outputs": [],
   "source": [
    "def add_code(df, d_code, h_code, l_code):\n",
    "    df = df.copy()   \n",
    "\n",
    "    # D Code\n",
    "    df['person_prefer_d_1_n'] = df['person_prefer_d_1'].apply(lambda x: d_code[x]['속성 D 세분류코드'])\n",
    "    df['person_prefer_d_1_s'] = df['person_prefer_d_1'].apply(lambda x: d_code[x]['속성 D 소분류코드'])\n",
    "    df['person_prefer_d_1_m'] = df['person_prefer_d_1'].apply(lambda x: d_code[x]['속성 D 중분류코드'])\n",
    "    df['person_prefer_d_1_l'] = df['person_prefer_d_1'].apply(lambda x: d_code[x]['속성 D 대분류코드'])\n",
    "\n",
    "    df['person_prefer_d_2_n'] = df['person_prefer_d_2'].apply(lambda x: d_code[x]['속성 D 세분류코드'])\n",
    "    df['person_prefer_d_2_s'] = df['person_prefer_d_2'].apply(lambda x: d_code[x]['속성 D 소분류코드'])\n",
    "    df['person_prefer_d_2_m'] = df['person_prefer_d_2'].apply(lambda x: d_code[x]['속성 D 중분류코드'])\n",
    "    df['person_prefer_d_2_l'] = df['person_prefer_d_2'].apply(lambda x: d_code[x]['속성 D 대분류코드'])\n",
    "\n",
    "    df['person_prefer_d_3_n'] = df['person_prefer_d_3'].apply(lambda x: d_code[x]['속성 D 세분류코드'])\n",
    "    df['person_prefer_d_3_s'] = df['person_prefer_d_3'].apply(lambda x: d_code[x]['속성 D 소분류코드'])\n",
    "    df['person_prefer_d_3_m'] = df['person_prefer_d_3'].apply(lambda x: d_code[x]['속성 D 중분류코드'])\n",
    "    df['person_prefer_d_3_l'] = df['person_prefer_d_3'].apply(lambda x: d_code[x]['속성 D 대분류코드'])\n",
    "\n",
    "    df['contents_attribute_d_n'] = df['contents_attribute_d'].apply(lambda x: d_code[x]['속성 D 세분류코드'])\n",
    "    df['contents_attribute_d_s'] = df['contents_attribute_d'].apply(lambda x: d_code[x]['속성 D 소분류코드'])\n",
    "    df['contents_attribute_d_m'] = df['contents_attribute_d'].apply(lambda x: d_code[x]['속성 D 중분류코드'])\n",
    "    df['contents_attribute_d_l'] = df['contents_attribute_d'].apply(lambda x: d_code[x]['속성 D 대분류코드'])\n",
    "\n",
    "    # H Code\n",
    "    df['person_prefer_h_1_u'] = df['person_prefer_h_1'].apply(lambda x: h_code[x]['속성 H 상위코드'])\n",
    "    df['person_prefer_h_2_u'] = df['person_prefer_h_2'].apply(lambda x: h_code[x]['속성 H 상위코드'])\n",
    "    df['person_prefer_h_3_u'] = df['person_prefer_h_3'].apply(lambda x: h_code[x]['속성 H 상위코드'])\n",
    "    df['contents_attribute_h_u'] = df['contents_attribute_h'].apply(lambda x: h_code[x]['속성 H 상위코드'])\n",
    "\n",
    "    # L Code\n",
    "    df['contents_attribute_l_n'] = df['contents_attribute_l'].apply(lambda x: l_code[x]['속성 L 세분류코드'])\n",
    "    df['contents_attribute_l_s'] = df['contents_attribute_l'].apply(lambda x: l_code[x]['속성 L 소분류코드'])\n",
    "    df['contents_attribute_l_m'] = df['contents_attribute_l'].apply(lambda x: l_code[x]['속성 L 중분류코드'])\n",
    "    df['contents_attribute_l_l'] = df['contents_attribute_l'].apply(lambda x: l_code[x]['속성 L 대분류코드'])\n",
    "    return df"
   ]
  },
  {
   "cell_type": "code",
   "execution_count": 13,
   "metadata": {},
   "outputs": [],
   "source": [
    "code_d = pd.read_csv(f'{DATA_PATH}속성_D_코드.csv', index_col=0).iloc[:, :4].T.to_dict()\n",
    "code_h = pd.read_csv(f'{DATA_PATH}속성_H_코드.csv', index_col=0).T.to_dict()\n",
    "code_l = pd.read_csv(f'{DATA_PATH}속성_L_코드.csv', index_col=0).T.to_dict()"
   ]
  },
  {
   "cell_type": "code",
   "execution_count": 14,
   "metadata": {},
   "outputs": [],
   "source": [
    "train = add_code(train, code_d, code_h, code_l)\n",
    "test = add_code(test, code_d, code_h, code_l)"
   ]
  },
  {
   "cell_type": "code",
   "execution_count": 15,
   "metadata": {},
   "outputs": [
    {
     "data": {
      "text/plain": [
       "((501951, 59), (46404, 58))"
      ]
     },
     "execution_count": 15,
     "metadata": {},
     "output_type": "execute_result"
    }
   ],
   "source": [
    "train.shape, test.shape"
   ]
  },
  {
   "cell_type": "code",
   "execution_count": 16,
   "metadata": {},
   "outputs": [
    {
     "data": {
      "text/html": [
       "<div>\n",
       "<style scoped>\n",
       "    .dataframe tbody tr th:only-of-type {\n",
       "        vertical-align: middle;\n",
       "    }\n",
       "\n",
       "    .dataframe tbody tr th {\n",
       "        vertical-align: top;\n",
       "    }\n",
       "\n",
       "    .dataframe thead th {\n",
       "        text-align: right;\n",
       "    }\n",
       "</style>\n",
       "<table border=\"1\" class=\"dataframe\">\n",
       "  <thead>\n",
       "    <tr style=\"text-align: right;\">\n",
       "      <th></th>\n",
       "      <th>id</th>\n",
       "      <th>d_l_match_yn</th>\n",
       "      <th>d_m_match_yn</th>\n",
       "      <th>d_s_match_yn</th>\n",
       "      <th>h_l_match_yn</th>\n",
       "      <th>h_m_match_yn</th>\n",
       "      <th>h_s_match_yn</th>\n",
       "      <th>person_attribute_a</th>\n",
       "      <th>person_attribute_a_1</th>\n",
       "      <th>person_attribute_b</th>\n",
       "      <th>person_prefer_c</th>\n",
       "      <th>person_prefer_d_1</th>\n",
       "      <th>person_prefer_d_2</th>\n",
       "      <th>person_prefer_d_3</th>\n",
       "      <th>person_prefer_e</th>\n",
       "      <th>person_prefer_f</th>\n",
       "      <th>person_prefer_g</th>\n",
       "      <th>person_prefer_h_1</th>\n",
       "      <th>person_prefer_h_2</th>\n",
       "      <th>person_prefer_h_3</th>\n",
       "    </tr>\n",
       "  </thead>\n",
       "  <tbody>\n",
       "    <tr>\n",
       "      <th>0</th>\n",
       "      <td>0</td>\n",
       "      <td>True</td>\n",
       "      <td>True</td>\n",
       "      <td>True</td>\n",
       "      <td>False</td>\n",
       "      <td>False</td>\n",
       "      <td>False</td>\n",
       "      <td>1</td>\n",
       "      <td>4</td>\n",
       "      <td>3</td>\n",
       "      <td>5</td>\n",
       "      <td>275</td>\n",
       "      <td>370</td>\n",
       "      <td>369</td>\n",
       "      <td>8</td>\n",
       "      <td>1</td>\n",
       "      <td>1</td>\n",
       "      <td>4</td>\n",
       "      <td>95</td>\n",
       "      <td>59</td>\n",
       "    </tr>\n",
       "    <tr>\n",
       "      <th>1</th>\n",
       "      <td>1</td>\n",
       "      <td>False</td>\n",
       "      <td>False</td>\n",
       "      <td>False</td>\n",
       "      <td>True</td>\n",
       "      <td>True</td>\n",
       "      <td>False</td>\n",
       "      <td>1</td>\n",
       "      <td>3</td>\n",
       "      <td>4</td>\n",
       "      <td>1</td>\n",
       "      <td>114</td>\n",
       "      <td>181</td>\n",
       "      <td>175</td>\n",
       "      <td>4</td>\n",
       "      <td>1</td>\n",
       "      <td>1</td>\n",
       "      <td>131</td>\n",
       "      <td>101</td>\n",
       "      <td>96</td>\n",
       "    </tr>\n",
       "    <tr>\n",
       "      <th>2</th>\n",
       "      <td>2</td>\n",
       "      <td>False</td>\n",
       "      <td>False</td>\n",
       "      <td>False</td>\n",
       "      <td>True</td>\n",
       "      <td>False</td>\n",
       "      <td>False</td>\n",
       "      <td>2</td>\n",
       "      <td>0</td>\n",
       "      <td>3</td>\n",
       "      <td>5</td>\n",
       "      <td>464</td>\n",
       "      <td>175</td>\n",
       "      <td>452</td>\n",
       "      <td>3</td>\n",
       "      <td>1</td>\n",
       "      <td>1</td>\n",
       "      <td>54</td>\n",
       "      <td>263</td>\n",
       "      <td>56</td>\n",
       "    </tr>\n",
       "    <tr>\n",
       "      <th>3</th>\n",
       "      <td>3</td>\n",
       "      <td>False</td>\n",
       "      <td>False</td>\n",
       "      <td>False</td>\n",
       "      <td>True</td>\n",
       "      <td>False</td>\n",
       "      <td>False</td>\n",
       "      <td>2</td>\n",
       "      <td>0</td>\n",
       "      <td>2</td>\n",
       "      <td>5</td>\n",
       "      <td>703</td>\n",
       "      <td>705</td>\n",
       "      <td>704</td>\n",
       "      <td>3</td>\n",
       "      <td>1</td>\n",
       "      <td>1</td>\n",
       "      <td>72</td>\n",
       "      <td>227</td>\n",
       "      <td>2</td>\n",
       "    </tr>\n",
       "    <tr>\n",
       "      <th>4</th>\n",
       "      <td>4</td>\n",
       "      <td>True</td>\n",
       "      <td>True</td>\n",
       "      <td>True</td>\n",
       "      <td>False</td>\n",
       "      <td>False</td>\n",
       "      <td>False</td>\n",
       "      <td>1</td>\n",
       "      <td>3</td>\n",
       "      <td>4</td>\n",
       "      <td>5</td>\n",
       "      <td>275</td>\n",
       "      <td>370</td>\n",
       "      <td>369</td>\n",
       "      <td>4</td>\n",
       "      <td>1</td>\n",
       "      <td>1</td>\n",
       "      <td>214</td>\n",
       "      <td>210</td>\n",
       "      <td>209</td>\n",
       "    </tr>\n",
       "  </tbody>\n",
       "</table>\n",
       "</div>"
      ],
      "text/plain": [
       "   id  d_l_match_yn  d_m_match_yn  d_s_match_yn  h_l_match_yn  h_m_match_yn  \\\n",
       "0   0          True          True          True         False         False   \n",
       "1   1         False         False         False          True          True   \n",
       "2   2         False         False         False          True         False   \n",
       "3   3         False         False         False          True         False   \n",
       "4   4          True          True          True         False         False   \n",
       "\n",
       "   h_s_match_yn  person_attribute_a person_attribute_a_1 person_attribute_b  \\\n",
       "0         False                   1                    4                  3   \n",
       "1         False                   1                    3                  4   \n",
       "2         False                   2                    0                  3   \n",
       "3         False                   2                    0                  2   \n",
       "4         False                   1                    3                  4   \n",
       "\n",
       "   person_prefer_c  person_prefer_d_1  person_prefer_d_2  person_prefer_d_3  \\\n",
       "0                5                275                370                369   \n",
       "1                1                114                181                175   \n",
       "2                5                464                175                452   \n",
       "3                5                703                705                704   \n",
       "4                5                275                370                369   \n",
       "\n",
       "  person_prefer_e  person_prefer_f  person_prefer_g  person_prefer_h_1  \\\n",
       "0               8                1                1                  4   \n",
       "1               4                1                1                131   \n",
       "2               3                1                1                 54   \n",
       "3               3                1                1                 72   \n",
       "4               4                1                1                214   \n",
       "\n",
       "   person_prefer_h_2  person_prefer_h_3  \n",
       "0                 95                 59  \n",
       "1                101                 96  \n",
       "2                263                 56  \n",
       "3                227                  2  \n",
       "4                210                209  "
      ]
     },
     "execution_count": 16,
     "metadata": {},
     "output_type": "execute_result"
    }
   ],
   "source": [
    "train.iloc[:5, :20]"
   ]
  },
  {
   "cell_type": "code",
   "execution_count": 17,
   "metadata": {},
   "outputs": [
    {
     "data": {
      "text/html": [
       "<div>\n",
       "<style scoped>\n",
       "    .dataframe tbody tr th:only-of-type {\n",
       "        vertical-align: middle;\n",
       "    }\n",
       "\n",
       "    .dataframe tbody tr th {\n",
       "        vertical-align: top;\n",
       "    }\n",
       "\n",
       "    .dataframe thead th {\n",
       "        text-align: right;\n",
       "    }\n",
       "</style>\n",
       "<table border=\"1\" class=\"dataframe\">\n",
       "  <thead>\n",
       "    <tr style=\"text-align: right;\">\n",
       "      <th></th>\n",
       "      <th>contents_attribute_i</th>\n",
       "      <th>contents_attribute_a</th>\n",
       "      <th>contents_attribute_j_1</th>\n",
       "      <th>contents_attribute_j</th>\n",
       "      <th>contents_attribute_c</th>\n",
       "      <th>contents_attribute_k</th>\n",
       "      <th>contents_attribute_l</th>\n",
       "      <th>contents_attribute_d</th>\n",
       "      <th>contents_attribute_m</th>\n",
       "      <th>contents_attribute_e</th>\n",
       "      <th>contents_attribute_h</th>\n",
       "      <th>person_rn</th>\n",
       "      <th>contents_rn</th>\n",
       "      <th>contents_open_dt</th>\n",
       "      <th>target</th>\n",
       "      <th>person_prefer_d_1_n</th>\n",
       "      <th>person_prefer_d_1_s</th>\n",
       "      <th>person_prefer_d_1_m</th>\n",
       "      <th>person_prefer_d_1_l</th>\n",
       "      <th>person_prefer_d_2_n</th>\n",
       "    </tr>\n",
       "  </thead>\n",
       "  <tbody>\n",
       "    <tr>\n",
       "      <th>0</th>\n",
       "      <td>3</td>\n",
       "      <td>3</td>\n",
       "      <td>10</td>\n",
       "      <td>2</td>\n",
       "      <td>1</td>\n",
       "      <td>2</td>\n",
       "      <td>1608</td>\n",
       "      <td>275</td>\n",
       "      <td>1</td>\n",
       "      <td>4</td>\n",
       "      <td>139</td>\n",
       "      <td>618822</td>\n",
       "      <td>354805</td>\n",
       "      <td>2020-01-17 12:09:36</td>\n",
       "      <td>1</td>\n",
       "      <td>275</td>\n",
       "      <td>274</td>\n",
       "      <td>274</td>\n",
       "      <td>216</td>\n",
       "      <td>369</td>\n",
       "    </tr>\n",
       "    <tr>\n",
       "      <th>1</th>\n",
       "      <td>1</td>\n",
       "      <td>3</td>\n",
       "      <td>5</td>\n",
       "      <td>1</td>\n",
       "      <td>1</td>\n",
       "      <td>2</td>\n",
       "      <td>1608</td>\n",
       "      <td>275</td>\n",
       "      <td>1</td>\n",
       "      <td>4</td>\n",
       "      <td>133</td>\n",
       "      <td>571659</td>\n",
       "      <td>346213</td>\n",
       "      <td>2020-06-18 17:48:52</td>\n",
       "      <td>0</td>\n",
       "      <td>114</td>\n",
       "      <td>56</td>\n",
       "      <td>109</td>\n",
       "      <td>1</td>\n",
       "      <td>175</td>\n",
       "    </tr>\n",
       "    <tr>\n",
       "      <th>2</th>\n",
       "      <td>3</td>\n",
       "      <td>1</td>\n",
       "      <td>10</td>\n",
       "      <td>2</td>\n",
       "      <td>1</td>\n",
       "      <td>1</td>\n",
       "      <td>1600</td>\n",
       "      <td>94</td>\n",
       "      <td>1</td>\n",
       "      <td>4</td>\n",
       "      <td>53</td>\n",
       "      <td>399816</td>\n",
       "      <td>206408</td>\n",
       "      <td>2020-07-08 20:00:10</td>\n",
       "      <td>0</td>\n",
       "      <td>464</td>\n",
       "      <td>450</td>\n",
       "      <td>463</td>\n",
       "      <td>377</td>\n",
       "      <td>175</td>\n",
       "    </tr>\n",
       "    <tr>\n",
       "      <th>3</th>\n",
       "      <td>1</td>\n",
       "      <td>3</td>\n",
       "      <td>5</td>\n",
       "      <td>1</td>\n",
       "      <td>1</td>\n",
       "      <td>2</td>\n",
       "      <td>1608</td>\n",
       "      <td>275</td>\n",
       "      <td>5</td>\n",
       "      <td>3</td>\n",
       "      <td>74</td>\n",
       "      <td>827967</td>\n",
       "      <td>572323</td>\n",
       "      <td>2020-01-13 18:09:34</td>\n",
       "      <td>0</td>\n",
       "      <td>703</td>\n",
       "      <td>690</td>\n",
       "      <td>703</td>\n",
       "      <td>618</td>\n",
       "      <td>703</td>\n",
       "    </tr>\n",
       "    <tr>\n",
       "      <th>4</th>\n",
       "      <td>1</td>\n",
       "      <td>1</td>\n",
       "      <td>10</td>\n",
       "      <td>2</td>\n",
       "      <td>1</td>\n",
       "      <td>2</td>\n",
       "      <td>1608</td>\n",
       "      <td>275</td>\n",
       "      <td>1</td>\n",
       "      <td>4</td>\n",
       "      <td>74</td>\n",
       "      <td>831614</td>\n",
       "      <td>573899</td>\n",
       "      <td>2020-03-09 20:39:22</td>\n",
       "      <td>0</td>\n",
       "      <td>275</td>\n",
       "      <td>274</td>\n",
       "      <td>274</td>\n",
       "      <td>216</td>\n",
       "      <td>369</td>\n",
       "    </tr>\n",
       "  </tbody>\n",
       "</table>\n",
       "</div>"
      ],
      "text/plain": [
       "   contents_attribute_i  contents_attribute_a  contents_attribute_j_1  \\\n",
       "0                     3                     3                      10   \n",
       "1                     1                     3                       5   \n",
       "2                     3                     1                      10   \n",
       "3                     1                     3                       5   \n",
       "4                     1                     1                      10   \n",
       "\n",
       "   contents_attribute_j  contents_attribute_c  contents_attribute_k  \\\n",
       "0                     2                     1                     2   \n",
       "1                     1                     1                     2   \n",
       "2                     2                     1                     1   \n",
       "3                     1                     1                     2   \n",
       "4                     2                     1                     2   \n",
       "\n",
       "   contents_attribute_l  contents_attribute_d  contents_attribute_m  \\\n",
       "0                  1608                   275                     1   \n",
       "1                  1608                   275                     1   \n",
       "2                  1600                    94                     1   \n",
       "3                  1608                   275                     5   \n",
       "4                  1608                   275                     1   \n",
       "\n",
       "  contents_attribute_e  contents_attribute_h  person_rn  contents_rn  \\\n",
       "0                    4                   139     618822       354805   \n",
       "1                    4                   133     571659       346213   \n",
       "2                    4                    53     399816       206408   \n",
       "3                    3                    74     827967       572323   \n",
       "4                    4                    74     831614       573899   \n",
       "\n",
       "      contents_open_dt  target  person_prefer_d_1_n  person_prefer_d_1_s  \\\n",
       "0  2020-01-17 12:09:36       1                  275                  274   \n",
       "1  2020-06-18 17:48:52       0                  114                   56   \n",
       "2  2020-07-08 20:00:10       0                  464                  450   \n",
       "3  2020-01-13 18:09:34       0                  703                  690   \n",
       "4  2020-03-09 20:39:22       0                  275                  274   \n",
       "\n",
       "   person_prefer_d_1_m  person_prefer_d_1_l  person_prefer_d_2_n  \n",
       "0                  274                  216                  369  \n",
       "1                  109                    1                  175  \n",
       "2                  463                  377                  175  \n",
       "3                  703                  618                  703  \n",
       "4                  274                  216                  369  "
      ]
     },
     "execution_count": 17,
     "metadata": {},
     "output_type": "execute_result"
    }
   ],
   "source": [
    "train.iloc[:5, 20:40]"
   ]
  },
  {
   "cell_type": "code",
   "execution_count": 18,
   "metadata": {},
   "outputs": [
    {
     "data": {
      "text/html": [
       "<div>\n",
       "<style scoped>\n",
       "    .dataframe tbody tr th:only-of-type {\n",
       "        vertical-align: middle;\n",
       "    }\n",
       "\n",
       "    .dataframe tbody tr th {\n",
       "        vertical-align: top;\n",
       "    }\n",
       "\n",
       "    .dataframe thead th {\n",
       "        text-align: right;\n",
       "    }\n",
       "</style>\n",
       "<table border=\"1\" class=\"dataframe\">\n",
       "  <thead>\n",
       "    <tr style=\"text-align: right;\">\n",
       "      <th></th>\n",
       "      <th>person_prefer_d_2_s</th>\n",
       "      <th>person_prefer_d_2_m</th>\n",
       "      <th>person_prefer_d_2_l</th>\n",
       "      <th>person_prefer_d_3_n</th>\n",
       "      <th>person_prefer_d_3_s</th>\n",
       "      <th>person_prefer_d_3_m</th>\n",
       "      <th>person_prefer_d_3_l</th>\n",
       "      <th>contents_attribute_d_n</th>\n",
       "      <th>contents_attribute_d_s</th>\n",
       "      <th>contents_attribute_d_m</th>\n",
       "      <th>contents_attribute_d_l</th>\n",
       "      <th>person_prefer_h_1_u</th>\n",
       "      <th>person_prefer_h_2_u</th>\n",
       "      <th>person_prefer_h_3_u</th>\n",
       "      <th>contents_attribute_h_u</th>\n",
       "      <th>contents_attribute_l_n</th>\n",
       "      <th>contents_attribute_l_s</th>\n",
       "      <th>contents_attribute_l_m</th>\n",
       "      <th>contents_attribute_l_l</th>\n",
       "    </tr>\n",
       "  </thead>\n",
       "  <tbody>\n",
       "    <tr>\n",
       "      <th>0</th>\n",
       "      <td>297</td>\n",
       "      <td>368</td>\n",
       "      <td>216</td>\n",
       "      <td>369</td>\n",
       "      <td>297</td>\n",
       "      <td>368</td>\n",
       "      <td>216</td>\n",
       "      <td>275</td>\n",
       "      <td>274</td>\n",
       "      <td>274</td>\n",
       "      <td>216</td>\n",
       "      <td>3</td>\n",
       "      <td>94</td>\n",
       "      <td>58</td>\n",
       "      <td>94</td>\n",
       "      <td>1607</td>\n",
       "      <td>1606</td>\n",
       "      <td>1605</td>\n",
       "      <td>2016</td>\n",
       "    </tr>\n",
       "    <tr>\n",
       "      <th>1</th>\n",
       "      <td>56</td>\n",
       "      <td>152</td>\n",
       "      <td>1</td>\n",
       "      <td>175</td>\n",
       "      <td>56</td>\n",
       "      <td>152</td>\n",
       "      <td>1</td>\n",
       "      <td>275</td>\n",
       "      <td>274</td>\n",
       "      <td>274</td>\n",
       "      <td>216</td>\n",
       "      <td>94</td>\n",
       "      <td>94</td>\n",
       "      <td>94</td>\n",
       "      <td>94</td>\n",
       "      <td>1607</td>\n",
       "      <td>1606</td>\n",
       "      <td>1605</td>\n",
       "      <td>2016</td>\n",
       "    </tr>\n",
       "    <tr>\n",
       "      <th>2</th>\n",
       "      <td>56</td>\n",
       "      <td>152</td>\n",
       "      <td>1</td>\n",
       "      <td>452</td>\n",
       "      <td>450</td>\n",
       "      <td>451</td>\n",
       "      <td>377</td>\n",
       "      <td>92</td>\n",
       "      <td>56</td>\n",
       "      <td>91</td>\n",
       "      <td>1</td>\n",
       "      <td>48</td>\n",
       "      <td>250</td>\n",
       "      <td>48</td>\n",
       "      <td>48</td>\n",
       "      <td>1599</td>\n",
       "      <td>1595</td>\n",
       "      <td>1572</td>\n",
       "      <td>2016</td>\n",
       "    </tr>\n",
       "    <tr>\n",
       "      <th>3</th>\n",
       "      <td>690</td>\n",
       "      <td>703</td>\n",
       "      <td>618</td>\n",
       "      <td>703</td>\n",
       "      <td>690</td>\n",
       "      <td>703</td>\n",
       "      <td>618</td>\n",
       "      <td>275</td>\n",
       "      <td>274</td>\n",
       "      <td>274</td>\n",
       "      <td>216</td>\n",
       "      <td>71</td>\n",
       "      <td>226</td>\n",
       "      <td>1</td>\n",
       "      <td>71</td>\n",
       "      <td>1607</td>\n",
       "      <td>1606</td>\n",
       "      <td>1605</td>\n",
       "      <td>2016</td>\n",
       "    </tr>\n",
       "    <tr>\n",
       "      <th>4</th>\n",
       "      <td>297</td>\n",
       "      <td>368</td>\n",
       "      <td>216</td>\n",
       "      <td>369</td>\n",
       "      <td>297</td>\n",
       "      <td>368</td>\n",
       "      <td>216</td>\n",
       "      <td>275</td>\n",
       "      <td>274</td>\n",
       "      <td>274</td>\n",
       "      <td>216</td>\n",
       "      <td>208</td>\n",
       "      <td>208</td>\n",
       "      <td>208</td>\n",
       "      <td>71</td>\n",
       "      <td>1607</td>\n",
       "      <td>1606</td>\n",
       "      <td>1605</td>\n",
       "      <td>2016</td>\n",
       "    </tr>\n",
       "  </tbody>\n",
       "</table>\n",
       "</div>"
      ],
      "text/plain": [
       "   person_prefer_d_2_s  person_prefer_d_2_m  person_prefer_d_2_l  \\\n",
       "0                  297                  368                  216   \n",
       "1                   56                  152                    1   \n",
       "2                   56                  152                    1   \n",
       "3                  690                  703                  618   \n",
       "4                  297                  368                  216   \n",
       "\n",
       "   person_prefer_d_3_n  person_prefer_d_3_s  person_prefer_d_3_m  \\\n",
       "0                  369                  297                  368   \n",
       "1                  175                   56                  152   \n",
       "2                  452                  450                  451   \n",
       "3                  703                  690                  703   \n",
       "4                  369                  297                  368   \n",
       "\n",
       "   person_prefer_d_3_l  contents_attribute_d_n  contents_attribute_d_s  \\\n",
       "0                  216                     275                     274   \n",
       "1                    1                     275                     274   \n",
       "2                  377                      92                      56   \n",
       "3                  618                     275                     274   \n",
       "4                  216                     275                     274   \n",
       "\n",
       "   contents_attribute_d_m  contents_attribute_d_l  person_prefer_h_1_u  \\\n",
       "0                     274                     216                    3   \n",
       "1                     274                     216                   94   \n",
       "2                      91                       1                   48   \n",
       "3                     274                     216                   71   \n",
       "4                     274                     216                  208   \n",
       "\n",
       "   person_prefer_h_2_u  person_prefer_h_3_u  contents_attribute_h_u  \\\n",
       "0                   94                   58                      94   \n",
       "1                   94                   94                      94   \n",
       "2                  250                   48                      48   \n",
       "3                  226                    1                      71   \n",
       "4                  208                  208                      71   \n",
       "\n",
       "   contents_attribute_l_n  contents_attribute_l_s  contents_attribute_l_m  \\\n",
       "0                    1607                    1606                    1605   \n",
       "1                    1607                    1606                    1605   \n",
       "2                    1599                    1595                    1572   \n",
       "3                    1607                    1606                    1605   \n",
       "4                    1607                    1606                    1605   \n",
       "\n",
       "   contents_attribute_l_l  \n",
       "0                    2016  \n",
       "1                    2016  \n",
       "2                    2016  \n",
       "3                    2016  \n",
       "4                    2016  "
      ]
     },
     "execution_count": 18,
     "metadata": {},
     "output_type": "execute_result"
    }
   ],
   "source": [
    "train.iloc[:5, 40:60]"
   ]
  },
  {
   "cell_type": "code",
   "execution_count": 19,
   "metadata": {},
   "outputs": [
    {
     "name": "stdout",
     "output_type": "stream",
     "text": [
      "<class 'pandas.core.frame.DataFrame'>\n",
      "RangeIndex: 501951 entries, 0 to 501950\n",
      "Data columns (total 59 columns):\n",
      " #   Column                  Non-Null Count   Dtype   \n",
      "---  ------                  --------------   -----   \n",
      " 0   id                      501951 non-null  int64   \n",
      " 1   d_l_match_yn            501951 non-null  bool    \n",
      " 2   d_m_match_yn            501951 non-null  bool    \n",
      " 3   d_s_match_yn            501951 non-null  bool    \n",
      " 4   h_l_match_yn            501951 non-null  bool    \n",
      " 5   h_m_match_yn            501951 non-null  bool    \n",
      " 6   h_s_match_yn            501951 non-null  bool    \n",
      " 7   person_attribute_a      501951 non-null  int64   \n",
      " 8   person_attribute_a_1    501951 non-null  category\n",
      " 9   person_attribute_b      501951 non-null  category\n",
      " 10  person_prefer_c         501951 non-null  int64   \n",
      " 11  person_prefer_d_1       501951 non-null  int64   \n",
      " 12  person_prefer_d_2       501951 non-null  int64   \n",
      " 13  person_prefer_d_3       501951 non-null  int64   \n",
      " 14  person_prefer_e         501951 non-null  category\n",
      " 15  person_prefer_f         501951 non-null  int64   \n",
      " 16  person_prefer_g         501951 non-null  int64   \n",
      " 17  person_prefer_h_1       501951 non-null  int64   \n",
      " 18  person_prefer_h_2       501951 non-null  int64   \n",
      " 19  person_prefer_h_3       501951 non-null  int64   \n",
      " 20  contents_attribute_i    501951 non-null  int64   \n",
      " 21  contents_attribute_a    501951 non-null  int64   \n",
      " 22  contents_attribute_j_1  501951 non-null  int64   \n",
      " 23  contents_attribute_j    501951 non-null  int64   \n",
      " 24  contents_attribute_c    501951 non-null  int64   \n",
      " 25  contents_attribute_k    501951 non-null  int64   \n",
      " 26  contents_attribute_l    501951 non-null  int64   \n",
      " 27  contents_attribute_d    501951 non-null  int64   \n",
      " 28  contents_attribute_m    501951 non-null  int64   \n",
      " 29  contents_attribute_e    501951 non-null  category\n",
      " 30  contents_attribute_h    501951 non-null  int64   \n",
      " 31  person_rn               501951 non-null  int64   \n",
      " 32  contents_rn             501951 non-null  int64   \n",
      " 33  contents_open_dt        501951 non-null  object  \n",
      " 34  target                  501951 non-null  int64   \n",
      " 35  person_prefer_d_1_n     501951 non-null  int64   \n",
      " 36  person_prefer_d_1_s     501951 non-null  int64   \n",
      " 37  person_prefer_d_1_m     501951 non-null  int64   \n",
      " 38  person_prefer_d_1_l     501951 non-null  int64   \n",
      " 39  person_prefer_d_2_n     501951 non-null  int64   \n",
      " 40  person_prefer_d_2_s     501951 non-null  int64   \n",
      " 41  person_prefer_d_2_m     501951 non-null  int64   \n",
      " 42  person_prefer_d_2_l     501951 non-null  int64   \n",
      " 43  person_prefer_d_3_n     501951 non-null  int64   \n",
      " 44  person_prefer_d_3_s     501951 non-null  int64   \n",
      " 45  person_prefer_d_3_m     501951 non-null  int64   \n",
      " 46  person_prefer_d_3_l     501951 non-null  int64   \n",
      " 47  contents_attribute_d_n  501951 non-null  int64   \n",
      " 48  contents_attribute_d_s  501951 non-null  int64   \n",
      " 49  contents_attribute_d_m  501951 non-null  int64   \n",
      " 50  contents_attribute_d_l  501951 non-null  int64   \n",
      " 51  person_prefer_h_1_u     501951 non-null  int64   \n",
      " 52  person_prefer_h_2_u     501951 non-null  int64   \n",
      " 53  person_prefer_h_3_u     501951 non-null  int64   \n",
      " 54  contents_attribute_h_u  501951 non-null  int64   \n",
      " 55  contents_attribute_l_n  501951 non-null  int64   \n",
      " 56  contents_attribute_l_s  501951 non-null  int64   \n",
      " 57  contents_attribute_l_m  501951 non-null  int64   \n",
      " 58  contents_attribute_l_l  501951 non-null  int64   \n",
      "dtypes: bool(6), category(4), int64(48), object(1)\n",
      "memory usage: 192.4+ MB\n"
     ]
    }
   ],
   "source": [
    "train.info()"
   ]
  },
  {
   "cell_type": "markdown",
   "metadata": {
    "heading_collapsed": true
   },
   "source": [
    "### contents_open_dt 관련 피처\n",
    "연월일시간 중에 어떤 요소가 중요한가"
   ]
  },
  {
   "cell_type": "code",
   "execution_count": 20,
   "metadata": {
    "hidden": true
   },
   "outputs": [],
   "source": [
    "train['contents_open_dt'] = pd.to_datetime(train['contents_open_dt'])\n",
    "test['contents_open_dt'] = pd.to_datetime(test['contents_open_dt'])"
   ]
  },
  {
   "cell_type": "code",
   "execution_count": 21,
   "metadata": {
    "hidden": true
   },
   "outputs": [],
   "source": [
    "#train['contents_open_year'] = train['contents_open_dt'].dt.year\n",
    "train['contents_open_month'] = train['contents_open_dt'].dt.month\n",
    "train['contents_open_week'] = train['contents_open_dt'].dt.week\n",
    "train['contents_open_day'] = train['contents_open_dt'].dt.day\n",
    "train['contents_open_dow'] = train['contents_open_dt'].dt.dayofweek\n",
    "train['contents_open_hour'] = train['contents_open_dt'].dt.hour\n",
    "\n",
    "#test['contents_open_year'] = test['contents_open_dt'].dt.year\n",
    "test['contents_open_month'] = test['contents_open_dt'].dt.month\n",
    "test['contents_open_week'] = test['contents_open_dt'].dt.week\n",
    "test['contents_open_day'] = test['contents_open_dt'].dt.day\n",
    "test['contents_open_dow'] = test['contents_open_dt'].dt.dayofweek\n",
    "test['contents_open_hour'] = test['contents_open_dt'].dt.hour"
   ]
  },
  {
   "cell_type": "code",
   "execution_count": null,
   "metadata": {
    "hidden": true
   },
   "outputs": [],
   "source": []
  },
  {
   "cell_type": "markdown",
   "metadata": {},
   "source": [
    "### 회원속성"
   ]
  },
  {
   "cell_type": "code",
   "execution_count": 23,
   "metadata": {},
   "outputs": [],
   "source": [
    "train2 = train.sort_values(by='contents_open_dt').reset_index(drop=True)\n",
    "test2 = test.sort_values(by='contents_open_dt').reset_index(drop=True)"
   ]
  },
  {
   "cell_type": "code",
   "execution_count": 24,
   "metadata": {},
   "outputs": [],
   "source": [
    "train2['누적_컨텐츠접촉'] = train2.groupby('person_rn')['person_rn'].cumcount() + 1\n",
    "test2['누적_컨텐츠접촉'] = test2.groupby('person_rn')['person_rn'].cumcount() + 1"
   ]
  },
  {
   "cell_type": "code",
   "execution_count": 25,
   "metadata": {},
   "outputs": [],
   "source": [
    "train['누적_컨텐츠접촉'] = train2.sort_values(by='id').reset_index()['누적_컨텐츠접촉']\n",
    "test['누적_컨텐츠접촉'] = test2.sort_values(by='id').reset_index()['누적_컨텐츠접촉']"
   ]
  },
  {
   "cell_type": "code",
   "execution_count": null,
   "metadata": {},
   "outputs": [],
   "source": []
  },
  {
   "cell_type": "code",
   "execution_count": null,
   "metadata": {},
   "outputs": [],
   "source": []
  },
  {
   "cell_type": "code",
   "execution_count": null,
   "metadata": {},
   "outputs": [],
   "source": []
  },
  {
   "cell_type": "markdown",
   "metadata": {},
   "source": [
    "### 회원속성 - 컨텐츠속성 일치 여부 "
   ]
  },
  {
   "cell_type": "code",
   "execution_count": 26,
   "metadata": {},
   "outputs": [],
   "source": [
    "d_code.columns = [\"attribute_d\", \"attribute_d_d\", \"attribute_d_s\", \"attribute_d_m\", \"attribute_d_l\"]\n",
    "h_code.columns = [\"attribute_h\", \"attribute_h_p\"]\n",
    "l_code.columns = [\"attribute_l\", \"attribute_l_d\", \"attribute_l_s\", \"attribute_l_m\", \"attribute_l_l\"]"
   ]
  },
  {
   "cell_type": "code",
   "execution_count": 27,
   "metadata": {},
   "outputs": [],
   "source": [
    "def merge_codes(df:pd.DataFrame,df_code:pd.DataFrame,col:str)->pd.DataFrame:\n",
    "    df = df.copy()\n",
    "    df_code = df_code.copy()\n",
    "    df_code = df_code.add_prefix(f\"{col}_\")\n",
    "    df_code.columns.values[0] = col\n",
    "    return pd.merge(df, df_code, how=\"left\", on=col)"
   ]
  },
  {
   "cell_type": "code",
   "execution_count": 28,
   "metadata": {},
   "outputs": [],
   "source": [
    "def preprocess_data(\n",
    "                    df:pd.DataFrame, is_train:bool = True, cols_merge:List[Tuple[str, pd.DataFrame]] = [], \n",
    "                    cols_equi:List[Tuple[str, str]]= [] ,\n",
    "                    cols_drop:List[str] = [\"id\", \"person_prefer_f\", \"person_prefer_g\", \"contents_open_dt\"]\n",
    "                    )->Tuple[pd.DataFrame, np.ndarray]:\n",
    "    df = df.copy()\n",
    "\n",
    "    y_data = None\n",
    "    if is_train:\n",
    "        y_data = df[\"target\"].to_numpy()\n",
    "        df = df.drop(columns=\"target\")\n",
    "\n",
    "    for col, df_code in cols_merge:\n",
    "        df = merge_codes(df, df_code, col)\n",
    "\n",
    "    cols = df.select_dtypes(bool).columns.tolist()\n",
    "    df[cols] = df[cols].astype(int)\n",
    "\n",
    "    for col1, col2 in cols_equi:\n",
    "        df[f\"{col1}_{col2}\"] = (df[col1] == df[col2]).astype(int)\n",
    "\n",
    "    df = df.drop(columns=cols_drop)\n",
    "    return (df, y_data)"
   ]
  },
  {
   "cell_type": "code",
   "execution_count": 29,
   "metadata": {},
   "outputs": [],
   "source": [
    "# 소분류 중분류 대분류 속성코드 merge 컬럼명 및 데이터 프레임 리스트\n",
    "cols_merge = [\n",
    "              (\"person_prefer_d_1\" , d_code),\n",
    "              (\"person_prefer_d_2\" , d_code),\n",
    "              (\"person_prefer_d_3\" , d_code),\n",
    "              (\"contents_attribute_d\" , d_code),\n",
    "              (\"person_prefer_h_1\" , h_code),\n",
    "              (\"person_prefer_h_2\" , h_code),\n",
    "              (\"person_prefer_h_3\" , h_code),\n",
    "              (\"contents_attribute_h\" , h_code),\n",
    "              (\"contents_attribute_l\" , l_code),\n",
    "]\n",
    "\n",
    "# 회원 속성과 콘텐츠 속성의 동일한 코드 여부에 대한 컬럼명 리스트\n",
    "cols_equi = [\n",
    "\n",
    "    (\"contents_attribute_c\", \"person_prefer_c\"),\n",
    "    (\"contents_attribute_e\", \"person_prefer_e\"),\n",
    "\n",
    "    (\"person_prefer_d_2_attribute_d_s\", \"contents_attribute_d_attribute_d_s\"),\n",
    "    (\"person_prefer_d_2_attribute_d_m\", \"contents_attribute_d_attribute_d_m\"),\n",
    "    (\"person_prefer_d_2_attribute_d_l\", \"contents_attribute_d_attribute_d_l\"),\n",
    "    (\"person_prefer_d_3_attribute_d_s\", \"contents_attribute_d_attribute_d_s\"),\n",
    "    (\"person_prefer_d_3_attribute_d_m\", \"contents_attribute_d_attribute_d_m\"),\n",
    "    (\"person_prefer_d_3_attribute_d_l\", \"contents_attribute_d_attribute_d_l\"),\n",
    "\n",
    "    (\"person_prefer_h_1_attribute_h_p\", \"contents_attribute_h_attribute_h_p\"),\n",
    "    (\"person_prefer_h_2_attribute_h_p\", \"contents_attribute_h_attribute_h_p\"),\n",
    "    (\"person_prefer_h_3_attribute_h_p\", \"contents_attribute_h_attribute_h_p\"),\n",
    "\n",
    "]\n",
    "\n",
    "# 학습에 필요없는 컬럼 리스트\n",
    "cols_drop = [\"id\", \"person_prefer_f\", \"person_prefer_g\", \"contents_open_dt\", \"contents_rn\", 'person_rn']"
   ]
  },
  {
   "cell_type": "code",
   "execution_count": 31,
   "metadata": {},
   "outputs": [
    {
     "data": {
      "text/plain": [
       "((501951, 93), (501951,), (46404, 93))"
      ]
     },
     "execution_count": 31,
     "metadata": {},
     "output_type": "execute_result"
    }
   ],
   "source": [
    "x_train, y_train = preprocess_data(train, cols_merge=cols_merge, cols_equi=cols_equi, cols_drop=cols_drop)\n",
    "x_test, _ = preprocess_data(test, is_train=False, cols_merge=cols_merge, cols_equi=cols_equi, cols_drop=cols_drop)\n",
    "x_train.shape, y_train.shape, x_test.shape"
   ]
  },
  {
   "cell_type": "markdown",
   "metadata": {},
   "source": [
    "### 범주형 칼럼 리스트"
   ]
  },
  {
   "cell_type": "code",
   "execution_count": 32,
   "metadata": {},
   "outputs": [],
   "source": [
    "cat_features = x_train.columns[x_train.nunique() > 2].tolist()"
   ]
  },
  {
   "cell_type": "code",
   "execution_count": 33,
   "metadata": {},
   "outputs": [],
   "source": [
    "cat_features = set(cat_features) - set(['누적_컨텐츠접촉'])"
   ]
  },
  {
   "cell_type": "code",
   "execution_count": 8,
   "metadata": {},
   "outputs": [
    {
     "ename": "NameError",
     "evalue": "name 'x_train' is not defined",
     "output_type": "error",
     "traceback": [
      "\u001b[1;31m---------------------------------------------------------------------------\u001b[0m",
      "\u001b[1;31mNameError\u001b[0m                                 Traceback (most recent call last)",
      "\u001b[1;32m<ipython-input-8-80784060c951>\u001b[0m in \u001b[0;36m<module>\u001b[1;34m\u001b[0m\n\u001b[1;32m----> 1\u001b[1;33m \u001b[0mx_train\u001b[0m\u001b[1;33m\u001b[0m\u001b[1;33m\u001b[0m\u001b[0m\n\u001b[0m",
      "\u001b[1;31mNameError\u001b[0m: name 'x_train' is not defined"
     ]
    }
   ],
   "source": [
    "x_train"
   ]
  },
  {
   "cell_type": "code",
   "execution_count": null,
   "metadata": {},
   "outputs": [],
   "source": []
  },
  {
   "cell_type": "code",
   "execution_count": null,
   "metadata": {},
   "outputs": [],
   "source": []
  },
  {
   "cell_type": "markdown",
   "metadata": {},
   "source": [
    "### 학습 파라미터"
   ]
  },
  {
   "cell_type": "code",
   "execution_count": 35,
   "metadata": {},
   "outputs": [],
   "source": [
    "is_holdout = False\n",
    "n_splits = 5\n",
    "iterations = 3000\n",
    "patience = 50\n",
    "\n",
    "cv = KFold(n_splits=n_splits, shuffle=True, random_state=SEED)"
   ]
  },
  {
   "cell_type": "markdown",
   "metadata": {},
   "source": [
    "### 학습"
   ]
  },
  {
   "cell_type": "code",
   "execution_count": 36,
   "metadata": {},
   "outputs": [
    {
     "name": "stdout",
     "output_type": "stream",
     "text": [
      "==================================================\n"
     ]
    },
    {
     "name": "stderr",
     "output_type": "stream",
     "text": [
      "Custom logger is already specified. Specify more than one logger at same time is not thread safe."
     ]
    },
    {
     "name": "stdout",
     "output_type": "stream",
     "text": [
      "Learning rate set to 0.086395\n",
      "0:\tlearn: 0.6271045\ttest: 0.6342993\tbest: 0.6342993 (0)\ttotal: 3.51s\tremaining: 2h 55m 19s\n",
      "100:\tlearn: 0.6646329\ttest: 0.6842006\tbest: 0.6845411 (96)\ttotal: 8m 22s\tremaining: 4h 10s\n",
      "200:\tlearn: 0.6716887\ttest: 0.6860758\tbest: 0.6860758 (200)\ttotal: 16m 49s\tremaining: 3h 54m 20s\n",
      "Stopped by overfitting detector  (50 iterations wait)\n",
      "\n",
      "bestTest = 0.6860763862\n",
      "bestIteration = 201\n",
      "\n",
      "Shrink model to first 202 iterations.\n",
      "==================================================\n",
      "Learning rate set to 0.086395\n",
      "0:\tlearn: 0.6249856\ttest: 0.6300820\tbest: 0.6300820 (0)\ttotal: 3.09s\tremaining: 2h 34m 26s\n",
      "100:\tlearn: 0.6646489\ttest: 0.6856481\tbest: 0.6865826 (96)\ttotal: 11m 49s\tremaining: 5h 42m 45s\n",
      "Stopped by overfitting detector  (50 iterations wait)\n",
      "\n",
      "bestTest = 0.6875319318\n",
      "bestIteration = 146\n",
      "\n",
      "Shrink model to first 147 iterations.\n",
      "==================================================\n",
      "Learning rate set to 0.086395\n",
      "0:\tlearn: 0.6228982\ttest: 0.6300020\tbest: 0.6300020 (0)\ttotal: 4.08s\tremaining: 3h 24m 8s\n",
      "100:\tlearn: 0.6640610\ttest: 0.6799150\tbest: 0.6813235 (96)\ttotal: 9m 32s\tremaining: 4h 34m 5s\n",
      "Stopped by overfitting detector  (50 iterations wait)\n",
      "\n",
      "bestTest = 0.6813235028\n",
      "bestIteration = 96\n",
      "\n",
      "Shrink model to first 97 iterations.\n",
      "==================================================\n",
      "Learning rate set to 0.086395\n",
      "0:\tlearn: 0.6257906\ttest: 0.6271449\tbest: 0.6271449 (0)\ttotal: 4.15s\tremaining: 3h 27m 32s\n",
      "100:\tlearn: 0.6663327\ttest: 0.6796242\tbest: 0.6798930 (91)\ttotal: 9m 40s\tremaining: 4h 37m 31s\n",
      "200:\tlearn: 0.6721270\ttest: 0.6830211\tbest: 0.6830211 (200)\ttotal: 18m 38s\tremaining: 4h 19m 40s\n",
      "300:\tlearn: 0.6757613\ttest: 0.6901416\tbest: 0.6902142 (298)\ttotal: 29m 1s\tremaining: 4h 20m 15s\n",
      "400:\tlearn: 0.6784128\ttest: 0.6922270\tbest: 0.6925714 (378)\ttotal: 38m 47s\tremaining: 4h 11m 28s\n",
      "Stopped by overfitting detector  (50 iterations wait)\n",
      "\n",
      "bestTest = 0.6925713859\n",
      "bestIteration = 378\n",
      "\n",
      "Shrink model to first 379 iterations.\n",
      "==================================================\n",
      "Learning rate set to 0.086395\n",
      "0:\tlearn: 0.6385209\ttest: 0.6420230\tbest: 0.6420230 (0)\ttotal: 4.93s\tremaining: 4h 6m 33s\n",
      "100:\tlearn: 0.6666572\ttest: 0.6746614\tbest: 0.6781438 (59)\ttotal: 10m 22s\tremaining: 4h 57m 52s\n",
      "Stopped by overfitting detector  (50 iterations wait)\n",
      "\n",
      "bestTest = 0.6781437973\n",
      "bestIteration = 59\n",
      "\n",
      "Shrink model to first 60 iterations.\n"
     ]
    }
   ],
   "source": [
    "scores = []\n",
    "models = []\n",
    "\n",
    "\n",
    "models = []\n",
    "for tri, vai in cv.split(x_train):\n",
    "    print(\"=\"*50)\n",
    "    preds = []\n",
    "\n",
    "    model = CatBoostClassifier(iterations=iterations, \n",
    "                               random_state=SEED,\n",
    "                               #task_type=\"GPU\",\n",
    "                               eval_metric=\"F1\",\n",
    "                               cat_features=cat_features,\n",
    "                               one_hot_max_size=4)\n",
    "    model.fit(x_train.iloc[tri], y_train[tri], \n",
    "            eval_set=[(x_train.iloc[vai], y_train[vai])], \n",
    "            early_stopping_rounds=patience ,\n",
    "            verbose = 100\n",
    "        )\n",
    "    \n",
    "    models.append(model)\n",
    "    scores.append(model.get_best_score()[\"validation\"][\"F1\"])\n",
    "    if is_holdout:\n",
    "        break    "
   ]
  },
  {
   "cell_type": "markdown",
   "metadata": {},
   "source": [
    "### cv 결과 확인"
   ]
  },
  {
   "cell_type": "code",
   "execution_count": 37,
   "metadata": {},
   "outputs": [
    {
     "name": "stdout",
     "output_type": "stream",
     "text": [
      "[0.6860763862259377, 0.6875319318031298, 0.6813235027612716, 0.6925713858713419, 0.6781437972583108]\n",
      "0.6851294007839984\n"
     ]
    }
   ],
   "source": [
    "print(scores)\n",
    "print(np.mean(scores))"
   ]
  },
  {
   "cell_type": "markdown",
   "metadata": {},
   "source": [
    "### threshold 정의"
   ]
  },
  {
   "cell_type": "code",
   "execution_count": 4,
   "metadata": {},
   "outputs": [],
   "source": [
    "threshold = 0.4"
   ]
  },
  {
   "cell_type": "markdown",
   "metadata": {},
   "source": [
    "### threshold값 변경에 따른 검증점수 확인 및 추론"
   ]
  },
  {
   "cell_type": "code",
   "execution_count": 39,
   "metadata": {},
   "outputs": [
    {
     "name": "stdout",
     "output_type": "stream",
     "text": [
      "[0.7061393037465403, 0.7076019314239894, 0.7024781124795965, 0.7090073896544837, 0.7004102555281287]\n",
      "0.7051273985665477\n"
     ]
    }
   ],
   "source": [
    "pred_list = []\n",
    "scores = []\n",
    "for i,(tri, vai) in enumerate( cv.split(x_train) ):\n",
    "    pred = models[i].predict_proba(x_train.iloc[vai])[:, 1]\n",
    "    pred = np.where(pred >= threshold , 1, 0)\n",
    "    score = f1_score(y_train[vai],pred)\n",
    "    scores.append(score)\n",
    "    pred = models[i].predict_proba(x_test)[:, 1]\n",
    "    pred_list.append(pred)\n",
    "print(scores)\n",
    "print(np.mean(scores))"
   ]
  },
  {
   "cell_type": "markdown",
   "metadata": {},
   "source": [
    "### 산술평균 앙상블"
   ]
  },
  {
   "cell_type": "code",
   "execution_count": 40,
   "metadata": {},
   "outputs": [],
   "source": [
    "pred = np.mean(pred_list, axis=0)\n",
    "pred = np.where(pred >= threshold, 1, 0)"
   ]
  },
  {
   "cell_type": "markdown",
   "metadata": {},
   "source": [
    "### submission"
   ]
  },
  {
   "cell_type": "code",
   "execution_count": 41,
   "metadata": {},
   "outputs": [
    {
     "data": {
      "text/html": [
       "<div>\n",
       "<style scoped>\n",
       "    .dataframe tbody tr th:only-of-type {\n",
       "        vertical-align: middle;\n",
       "    }\n",
       "\n",
       "    .dataframe tbody tr th {\n",
       "        vertical-align: top;\n",
       "    }\n",
       "\n",
       "    .dataframe thead th {\n",
       "        text-align: right;\n",
       "    }\n",
       "</style>\n",
       "<table border=\"1\" class=\"dataframe\">\n",
       "  <thead>\n",
       "    <tr style=\"text-align: right;\">\n",
       "      <th></th>\n",
       "      <th>id</th>\n",
       "      <th>target</th>\n",
       "    </tr>\n",
       "  </thead>\n",
       "  <tbody>\n",
       "    <tr>\n",
       "      <th>0</th>\n",
       "      <td>0</td>\n",
       "      <td>0</td>\n",
       "    </tr>\n",
       "    <tr>\n",
       "      <th>1</th>\n",
       "      <td>1</td>\n",
       "      <td>0</td>\n",
       "    </tr>\n",
       "    <tr>\n",
       "      <th>2</th>\n",
       "      <td>2</td>\n",
       "      <td>0</td>\n",
       "    </tr>\n",
       "    <tr>\n",
       "      <th>3</th>\n",
       "      <td>3</td>\n",
       "      <td>0</td>\n",
       "    </tr>\n",
       "    <tr>\n",
       "      <th>4</th>\n",
       "      <td>4</td>\n",
       "      <td>0</td>\n",
       "    </tr>\n",
       "    <tr>\n",
       "      <th>...</th>\n",
       "      <td>...</td>\n",
       "      <td>...</td>\n",
       "    </tr>\n",
       "    <tr>\n",
       "      <th>46399</th>\n",
       "      <td>46399</td>\n",
       "      <td>1</td>\n",
       "    </tr>\n",
       "    <tr>\n",
       "      <th>46400</th>\n",
       "      <td>46400</td>\n",
       "      <td>1</td>\n",
       "    </tr>\n",
       "    <tr>\n",
       "      <th>46401</th>\n",
       "      <td>46401</td>\n",
       "      <td>1</td>\n",
       "    </tr>\n",
       "    <tr>\n",
       "      <th>46402</th>\n",
       "      <td>46402</td>\n",
       "      <td>1</td>\n",
       "    </tr>\n",
       "    <tr>\n",
       "      <th>46403</th>\n",
       "      <td>46403</td>\n",
       "      <td>1</td>\n",
       "    </tr>\n",
       "  </tbody>\n",
       "</table>\n",
       "<p>46404 rows × 2 columns</p>\n",
       "</div>"
      ],
      "text/plain": [
       "          id  target\n",
       "0          0       0\n",
       "1          1       0\n",
       "2          2       0\n",
       "3          3       0\n",
       "4          4       0\n",
       "...      ...     ...\n",
       "46399  46399       1\n",
       "46400  46400       1\n",
       "46401  46401       1\n",
       "46402  46402       1\n",
       "46403  46403       1\n",
       "\n",
       "[46404 rows x 2 columns]"
      ]
     },
     "execution_count": 41,
     "metadata": {},
     "output_type": "execute_result"
    }
   ],
   "source": [
    "sample_submission = pd.read_csv(f'{DATA_PATH}sample_submission.csv')\n",
    "sample_submission['target'] = pred\n",
    "sample_submission"
   ]
  },
  {
   "cell_type": "code",
   "execution_count": 42,
   "metadata": {},
   "outputs": [
    {
     "data": {
      "text/plain": [
       "1    29254\n",
       "0    17150\n",
       "Name: target, dtype: int64"
      ]
     },
     "execution_count": 42,
     "metadata": {},
     "output_type": "execute_result"
    }
   ],
   "source": [
    "sample_submission['target'].value_counts()"
   ]
  },
  {
   "cell_type": "code",
   "execution_count": 43,
   "metadata": {},
   "outputs": [],
   "source": [
    "sample_submission.to_csv(f\"{SUBMIT_PATH}jp_1223_5.csv\", index=False)"
   ]
  },
  {
   "cell_type": "code",
   "execution_count": null,
   "metadata": {},
   "outputs": [],
   "source": []
  }
 ],
 "metadata": {
  "kernelspec": {
   "display_name": "Python 3",
   "language": "python",
   "name": "python3"
  },
  "language_info": {
   "codemirror_mode": {
    "name": "ipython",
    "version": 3
   },
   "file_extension": ".py",
   "mimetype": "text/x-python",
   "name": "python",
   "nbconvert_exporter": "python",
   "pygments_lexer": "ipython3",
   "version": "3.8.5"
  },
  "varInspector": {
   "cols": {
    "lenName": 16,
    "lenType": 16,
    "lenVar": 40
   },
   "kernels_config": {
    "python": {
     "delete_cmd_postfix": "",
     "delete_cmd_prefix": "del ",
     "library": "var_list.py",
     "varRefreshCmd": "print(var_dic_list())"
    },
    "r": {
     "delete_cmd_postfix": ") ",
     "delete_cmd_prefix": "rm(",
     "library": "var_list.r",
     "varRefreshCmd": "cat(var_dic_list()) "
    }
   },
   "types_to_exclude": [
    "module",
    "function",
    "builtin_function_or_method",
    "instance",
    "_Feature"
   ],
   "window_display": false
  }
 },
 "nbformat": 4,
 "nbformat_minor": 4
}
